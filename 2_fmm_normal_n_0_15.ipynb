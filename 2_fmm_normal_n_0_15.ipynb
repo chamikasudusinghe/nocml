{
  "nbformat": 4,
  "nbformat_minor": 0,
  "metadata": {
    "kernelspec": {
      "display_name": "Python 3",
      "language": "python",
      "name": "python3"
    },
    "language_info": {
      "codemirror_mode": {
        "name": "ipython",
        "version": 3
      },
      "file_extension": ".py",
      "mimetype": "text/x-python",
      "name": "python",
      "nbconvert_exporter": "python",
      "pygments_lexer": "ipython3",
      "version": "3.7.7"
    },
    "colab": {
      "name": "2-fmm-normal-n-0-15.ipynb",
      "provenance": [],
      "toc_visible": true,
      "include_colab_link": true
    }
  },
  "cells": [
    {
      "cell_type": "markdown",
      "metadata": {
        "id": "view-in-github",
        "colab_type": "text"
      },
      "source": [
        "<a href=\"https://colab.research.google.com/github/chamikasudusinghe/nocml/blob/master/2_fmm_normal_n_0_15.ipynb\" target=\"_parent\"><img src=\"https://colab.research.google.com/assets/colab-badge.svg\" alt=\"Open In Colab\"/></a>"
      ]
    },
    {
      "cell_type": "markdown",
      "metadata": {
        "id": "_nheNNHpIOt5",
        "colab_type": "text"
      },
      "source": [
        "#### Data Fetch"
      ]
    },
    {
      "cell_type": "code",
      "metadata": {
        "id": "dIsW_5EzIOt9",
        "colab_type": "code",
        "colab": {}
      },
      "source": [
        "import pandas as pd\n",
        "import numpy as np\n",
        "%matplotlib inline\n",
        "import matplotlib.pyplot as plt\n",
        "import seaborn as sns\n",
        "import math"
      ],
      "execution_count": 0,
      "outputs": []
    },
    {
      "cell_type": "code",
      "metadata": {
        "id": "el5EV9JVIi0K",
        "colab_type": "code",
        "outputId": "cd5a13cd-35c2-450c-8674-94953503cf28",
        "colab": {
          "base_uri": "https://localhost:8080/",
          "height": 34
        }
      },
      "source": [
        "from google.colab import drive\n",
        "drive.mount('/content/drive')\n",
        "root_dir = \"/content/drive/My Drive/ver4\""
      ],
      "execution_count": 35,
      "outputs": [
        {
          "output_type": "stream",
          "text": [
            "Drive already mounted at /content/drive; to attempt to forcibly remount, call drive.mount(\"/content/drive\", force_remount=True).\n"
          ],
          "name": "stdout"
        }
      ]
    },
    {
      "cell_type": "code",
      "metadata": {
        "id": "6UPFgvvvIOuQ",
        "colab_type": "code",
        "outputId": "d828ffbb-27a3-48d7-dffd-507c9f5956e7",
        "colab": {
          "base_uri": "https://localhost:8080/",
          "height": 34
        }
      },
      "source": [
        "#extracting lines for simplied verion\n",
        "open('2-fft-normal-n-0-15.txt','w').writelines([ line for line in open(root_dir+\"/2-fmm-normal-n-0-15.log\") if \"Enqueue\" in line])\n",
        "print (\"done\")"
      ],
      "execution_count": 36,
      "outputs": [
        {
          "output_type": "stream",
          "text": [
            "done\n"
          ],
          "name": "stdout"
        }
      ]
    },
    {
      "cell_type": "code",
      "metadata": {
        "id": "xiGFa94LIOus",
        "colab_type": "code",
        "outputId": "81a521b9-134c-4dec-85f2-d4556aae4af1",
        "colab": {
          "base_uri": "https://localhost:8080/",
          "height": 34
        }
      },
      "source": [
        "#extracting content from lines\n",
        "csv_out = open('2-fft-normal-n-0-15-csv.txt','w')\n",
        "with open ('2-fft-normal-n-0-15.txt', 'rt') as fft:\n",
        "    csv_out.write(\"time,router,outport,inport,packet_address,packet_type,flit_id,flit_type,vnet,vc,src_ni,src_router,dst_ni,dst_router,enq_time\\n\")\n",
        "    for line in fft:\n",
        "        line_split = line.split()\n",
        "        time = line_split[line_split.index(\"time:\") + 1]\n",
        "        router = line_split[line_split.index(\"SwitchAllocator\") + 3]\n",
        "        outport = line_split[line_split.index(\"outport\") + 1]\n",
        "        inport = line_split[line_split.index(\"inport\") + 1]\n",
        "        packet_address = line_split[line_split.index(\"addr\") + 2][1:-1]\n",
        "        packet_type = line_split[line_split.index(\"addr\") + 7]\n",
        "        flit_id = line_split[line_split.index(\"[flit::\") + 1][3:]\n",
        "        flit_type = line_split[line_split.index(\"Id=\"+str(flit_id)) + 1][5:]\n",
        "        vnet = line_split[line_split.index(\"Type=\"+str(flit_type)) + 1][5:]\n",
        "        vc = line_split[line_split.index(\"Vnet=\"+str(vnet)) + 1][3:]\n",
        "        src_ni = line_split[line_split.index(\"VC=\"+str(vc)) + 2][3:]\n",
        "        src_router = line_split[line_split.index(\"NI=\"+str(src_ni)) + 2][7:]\n",
        "        dst_ni = line_split[line_split.index(\"Router=\"+str(src_router)) + 2][3:]\n",
        "        dst_router = line_split[line_split.index(\"NI=\"+str(dst_ni)) + 2][7:]\n",
        "        enq_time = str(line_split[line_split.index(\"Enqueue\") + 1][5:])\n",
        "        line_csv = time+\",\"+router+\",\"+outport+\",\"+inport+\",\"+packet_address+\",\"+packet_type+\",\"+flit_id+\",\"+flit_type+\",\"+vnet+\",\"+vc+\",\"+src_ni+\",\"+src_router+\",\"+dst_ni+\",\"+dst_router+\",\"+enq_time+\"\\n\"\n",
        "        csv_out.write(line_csv)\n",
        "print (\"done\")"
      ],
      "execution_count": 37,
      "outputs": [
        {
          "output_type": "stream",
          "text": [
            "done\n"
          ],
          "name": "stdout"
        }
      ]
    },
    {
      "cell_type": "code",
      "metadata": {
        "id": "S4BIfzznIOu5",
        "colab_type": "code",
        "colab": {}
      },
      "source": [
        "#convert txt to csv\n",
        "\n",
        "df = pd.read_csv(\"2-fft-normal-n-0-15-csv.txt\",delimiter=',')\n",
        "df.to_csv('2-fft-normal-n-0-15.csv',index=False)"
      ],
      "execution_count": 0,
      "outputs": []
    },
    {
      "cell_type": "code",
      "metadata": {
        "id": "2ym6IwfBIOvE",
        "colab_type": "code",
        "colab": {}
      },
      "source": [
        "#dataset\n",
        "df = pd.read_csv('2-fft-normal-n-0-15.csv')"
      ],
      "execution_count": 0,
      "outputs": []
    },
    {
      "cell_type": "code",
      "metadata": {
        "id": "FAvIimiHIOvT",
        "colab_type": "code",
        "outputId": "9e828655-7ff4-4513-bf90-773695d5adf9",
        "colab": {
          "base_uri": "https://localhost:8080/",
          "height": 34
        }
      },
      "source": [
        "df.shape"
      ],
      "execution_count": 40,
      "outputs": [
        {
          "output_type": "execute_result",
          "data": {
            "text/plain": [
              "(875936, 15)"
            ]
          },
          "metadata": {
            "tags": []
          },
          "execution_count": 40
        }
      ]
    },
    {
      "cell_type": "code",
      "metadata": {
        "id": "rrGZ6IGsIOvf",
        "colab_type": "code",
        "outputId": "479f9868-d7d2-43e4-c2ce-4e8f6a49d5f3",
        "colab": {
          "base_uri": "https://localhost:8080/",
          "height": 297
        }
      },
      "source": [
        "df.describe()"
      ],
      "execution_count": 41,
      "outputs": [
        {
          "output_type": "execute_result",
          "data": {
            "text/html": [
              "<div>\n",
              "<style scoped>\n",
              "    .dataframe tbody tr th:only-of-type {\n",
              "        vertical-align: middle;\n",
              "    }\n",
              "\n",
              "    .dataframe tbody tr th {\n",
              "        vertical-align: top;\n",
              "    }\n",
              "\n",
              "    .dataframe thead th {\n",
              "        text-align: right;\n",
              "    }\n",
              "</style>\n",
              "<table border=\"1\" class=\"dataframe\">\n",
              "  <thead>\n",
              "    <tr style=\"text-align: right;\">\n",
              "      <th></th>\n",
              "      <th>time</th>\n",
              "      <th>router</th>\n",
              "      <th>flit_id</th>\n",
              "      <th>flit_type</th>\n",
              "      <th>vnet</th>\n",
              "      <th>vc</th>\n",
              "      <th>src_ni</th>\n",
              "      <th>src_router</th>\n",
              "      <th>dst_ni</th>\n",
              "      <th>dst_router</th>\n",
              "      <th>enq_time</th>\n",
              "    </tr>\n",
              "  </thead>\n",
              "  <tbody>\n",
              "    <tr>\n",
              "      <th>count</th>\n",
              "      <td>8.759360e+05</td>\n",
              "      <td>875936.000000</td>\n",
              "      <td>875936.000000</td>\n",
              "      <td>875936.000000</td>\n",
              "      <td>875936.000000</td>\n",
              "      <td>875936.000000</td>\n",
              "      <td>875936.000000</td>\n",
              "      <td>875936.000000</td>\n",
              "      <td>875936.000000</td>\n",
              "      <td>875936.000000</td>\n",
              "      <td>8.759360e+05</td>\n",
              "    </tr>\n",
              "    <tr>\n",
              "      <th>mean</th>\n",
              "      <td>1.024639e+06</td>\n",
              "      <td>7.520879</td>\n",
              "      <td>1.595432</td>\n",
              "      <td>1.404562</td>\n",
              "      <td>2.594279</td>\n",
              "      <td>10.857786</td>\n",
              "      <td>18.000535</td>\n",
              "      <td>7.519331</td>\n",
              "      <td>17.854963</td>\n",
              "      <td>7.522756</td>\n",
              "      <td>1.024618e+06</td>\n",
              "    </tr>\n",
              "    <tr>\n",
              "      <th>std</th>\n",
              "      <td>7.193010e+05</td>\n",
              "      <td>4.899157</td>\n",
              "      <td>1.496961</td>\n",
              "      <td>0.982113</td>\n",
              "      <td>0.913997</td>\n",
              "      <td>3.692607</td>\n",
              "      <td>9.302128</td>\n",
              "      <td>5.355646</td>\n",
              "      <td>9.414359</td>\n",
              "      <td>5.495564</td>\n",
              "      <td>7.193008e+05</td>\n",
              "    </tr>\n",
              "    <tr>\n",
              "      <th>min</th>\n",
              "      <td>7.000000e+00</td>\n",
              "      <td>0.000000</td>\n",
              "      <td>0.000000</td>\n",
              "      <td>0.000000</td>\n",
              "      <td>2.000000</td>\n",
              "      <td>8.000000</td>\n",
              "      <td>0.000000</td>\n",
              "      <td>0.000000</td>\n",
              "      <td>0.000000</td>\n",
              "      <td>0.000000</td>\n",
              "      <td>3.000000e+00</td>\n",
              "    </tr>\n",
              "    <tr>\n",
              "      <th>25%</th>\n",
              "      <td>3.519648e+05</td>\n",
              "      <td>4.000000</td>\n",
              "      <td>0.000000</td>\n",
              "      <td>1.000000</td>\n",
              "      <td>2.000000</td>\n",
              "      <td>8.000000</td>\n",
              "      <td>15.000000</td>\n",
              "      <td>3.000000</td>\n",
              "      <td>15.000000</td>\n",
              "      <td>2.000000</td>\n",
              "      <td>3.519540e+05</td>\n",
              "    </tr>\n",
              "    <tr>\n",
              "      <th>50%</th>\n",
              "      <td>9.106255e+05</td>\n",
              "      <td>8.000000</td>\n",
              "      <td>1.000000</td>\n",
              "      <td>1.000000</td>\n",
              "      <td>2.000000</td>\n",
              "      <td>9.000000</td>\n",
              "      <td>20.000000</td>\n",
              "      <td>8.000000</td>\n",
              "      <td>20.000000</td>\n",
              "      <td>8.000000</td>\n",
              "      <td>9.105990e+05</td>\n",
              "    </tr>\n",
              "    <tr>\n",
              "      <th>75%</th>\n",
              "      <td>1.775168e+06</td>\n",
              "      <td>11.000000</td>\n",
              "      <td>3.000000</td>\n",
              "      <td>2.000000</td>\n",
              "      <td>4.000000</td>\n",
              "      <td>16.000000</td>\n",
              "      <td>24.000000</td>\n",
              "      <td>12.000000</td>\n",
              "      <td>25.000000</td>\n",
              "      <td>13.000000</td>\n",
              "      <td>1.775127e+06</td>\n",
              "    </tr>\n",
              "    <tr>\n",
              "      <th>max</th>\n",
              "      <td>2.155035e+06</td>\n",
              "      <td>15.000000</td>\n",
              "      <td>4.000000</td>\n",
              "      <td>3.000000</td>\n",
              "      <td>4.000000</td>\n",
              "      <td>19.000000</td>\n",
              "      <td>31.000000</td>\n",
              "      <td>15.000000</td>\n",
              "      <td>31.000000</td>\n",
              "      <td>15.000000</td>\n",
              "      <td>2.155014e+06</td>\n",
              "    </tr>\n",
              "  </tbody>\n",
              "</table>\n",
              "</div>"
            ],
            "text/plain": [
              "               time         router  ...     dst_router      enq_time\n",
              "count  8.759360e+05  875936.000000  ...  875936.000000  8.759360e+05\n",
              "mean   1.024639e+06       7.520879  ...       7.522756  1.024618e+06\n",
              "std    7.193010e+05       4.899157  ...       5.495564  7.193008e+05\n",
              "min    7.000000e+00       0.000000  ...       0.000000  3.000000e+00\n",
              "25%    3.519648e+05       4.000000  ...       2.000000  3.519540e+05\n",
              "50%    9.106255e+05       8.000000  ...       8.000000  9.105990e+05\n",
              "75%    1.775168e+06      11.000000  ...      13.000000  1.775127e+06\n",
              "max    2.155035e+06      15.000000  ...      15.000000  2.155014e+06\n",
              "\n",
              "[8 rows x 11 columns]"
            ]
          },
          "metadata": {
            "tags": []
          },
          "execution_count": 41
        }
      ]
    },
    {
      "cell_type": "code",
      "metadata": {
        "id": "DAVlt6aUIOvr",
        "colab_type": "code",
        "outputId": "b2e2dfc4-b90e-4eb6-f6c4-e28e454fdedf",
        "colab": {
          "base_uri": "https://localhost:8080/",
          "height": 296
        }
      },
      "source": [
        "sns.distplot(df['router'], kde = False, bins=30, color='blue')"
      ],
      "execution_count": 42,
      "outputs": [
        {
          "output_type": "execute_result",
          "data": {
            "text/plain": [
              "<matplotlib.axes._subplots.AxesSubplot at 0x7fad192d1198>"
            ]
          },
          "metadata": {
            "tags": []
          },
          "execution_count": 42
        },
        {
          "output_type": "display_data",
          "data": {
            "image/png": "[encoded data removed]",
            "text/plain": [
              "<Figure size 432x288 with 1 Axes>"
            ]
          },
          "metadata": {
            "tags": [],
            "needs_background": "light"
          }
        }
      ]
    },
    {
      "cell_type": "code",
      "metadata": {
        "id": "ADYRK1YQIOvz",
        "colab_type": "code",
        "outputId": "93e8931d-2f5e-419a-fc70-7aee9928aca0",
        "colab": {
          "base_uri": "https://localhost:8080/",
          "height": 297
        }
      },
      "source": [
        "sns.distplot(df['src_router'], kde = False, bins=30, color='blue')"
      ],
      "execution_count": 43,
      "outputs": [
        {
          "output_type": "execute_result",
          "data": {
            "text/plain": [
              "<matplotlib.axes._subplots.AxesSubplot at 0x7fad1a6bdcc0>"
            ]
          },
          "metadata": {
            "tags": []
          },
          "execution_count": 43
        },
        {
          "output_type": "display_data",
          "data": {
            "image/png": "[encoded data removed]",
            "text/plain": [
              "<Figure size 432x288 with 1 Axes>"
            ]
          },
          "metadata": {
            "tags": [],
            "needs_background": "light"
          }
        }
      ]
    },
    {
      "cell_type": "code",
      "metadata": {
        "id": "px-MondzIOv7",
        "colab_type": "code",
        "outputId": "030ebb24-6756-423c-fbe8-7525aac0f51b",
        "colab": {
          "base_uri": "https://localhost:8080/",
          "height": 297
        }
      },
      "source": [
        "sns.distplot(df['dst_router'], kde = False, bins=30, color='red')"
      ],
      "execution_count": 44,
      "outputs": [
        {
          "output_type": "execute_result",
          "data": {
            "text/plain": [
              "<matplotlib.axes._subplots.AxesSubplot at 0x7fad15531128>"
            ]
          },
          "metadata": {
            "tags": []
          },
          "execution_count": 44
        },
        {
          "output_type": "display_data",
          "data": {
            "image/png": "[encoded data removed]",
            "text/plain": [
              "<Figure size 432x288 with 1 Axes>"
            ]
          },
          "metadata": {
            "tags": [],
            "needs_background": "light"
          }
        }
      ]
    },
    {
      "cell_type": "code",
      "metadata": {
        "id": "hVwsADkDIOwe",
        "colab_type": "code",
        "colab": {}
      },
      "source": [
        "direction = {'Local': 0,'North': 1, 'East': 2, 'South':3,'West':4}\n",
        "df = df.replace({'inport': direction, 'outport': direction})"
      ],
      "execution_count": 0,
      "outputs": []
    },
    {
      "cell_type": "code",
      "metadata": {
        "id": "0SSsXUjoJp55",
        "colab_type": "code",
        "outputId": "6b2678ec-73a3-4185-b295-d45fa4bf9a14",
        "colab": {
          "base_uri": "https://localhost:8080/",
          "height": 300
        }
      },
      "source": [
        "sns.distplot(df['inport'], kde = False, bins=30, color='green')"
      ],
      "execution_count": 46,
      "outputs": [
        {
          "output_type": "execute_result",
          "data": {
            "text/plain": [
              "<matplotlib.axes._subplots.AxesSubplot at 0x7fad155b3a58>"
            ]
          },
          "metadata": {
            "tags": []
          },
          "execution_count": 46
        },
        {
          "output_type": "display_data",
          "data": {
            "image/png": "[encoded data removed]",
            "text/plain": [
              "<Figure size 432x288 with 1 Axes>"
            ]
          },
          "metadata": {
            "tags": [],
            "needs_background": "light"
          }
        }
      ]
    },
    {
      "cell_type": "code",
      "metadata": {
        "id": "qxujo-2HIOwN",
        "colab_type": "code",
        "outputId": "365a85c7-0c7a-44ab-9d01-09c37b8489ed",
        "colab": {
          "base_uri": "https://localhost:8080/",
          "height": 300
        }
      },
      "source": [
        "sns.distplot(df['outport'], kde = False, bins=30, color='green')"
      ],
      "execution_count": 47,
      "outputs": [
        {
          "output_type": "execute_result",
          "data": {
            "text/plain": [
              "<matplotlib.axes._subplots.AxesSubplot at 0x7fad1539db70>"
            ]
          },
          "metadata": {
            "tags": []
          },
          "execution_count": 47
        },
        {
          "output_type": "display_data",
          "data": {
            "image/png": "[encoded data removed]",
            "text/plain": [
              "<Figure size 432x288 with 1 Axes>"
            ]
          },
          "metadata": {
            "tags": [],
            "needs_background": "light"
          }
        }
      ]
    },
    {
      "cell_type": "code",
      "metadata": {
        "id": "Z43bzns_IOwk",
        "colab_type": "code",
        "colab": {}
      },
      "source": [
        "data = {'GETS': 1,'GETX': 2,'GUX': 3,'DATA': 4, 'PUTX': 5,'PUTS': 6,'WB_ACK':7}\n",
        "df = df.replace({'packet_type': data})"
      ],
      "execution_count": 0,
      "outputs": []
    },
    {
      "cell_type": "code",
      "metadata": {
        "id": "5fqnHJAnIOwX",
        "colab_type": "code",
        "outputId": "c191389f-dc89-4b88-8ed1-b2ba5e2112c0",
        "colab": {
          "base_uri": "https://localhost:8080/",
          "height": 297
        }
      },
      "source": [
        "sns.distplot(df['packet_type'], kde = False, bins=30, color='red')"
      ],
      "execution_count": 49,
      "outputs": [
        {
          "output_type": "execute_result",
          "data": {
            "text/plain": [
              "<matplotlib.axes._subplots.AxesSubplot at 0x7fad15540358>"
            ]
          },
          "metadata": {
            "tags": []
          },
          "execution_count": 49
        },
        {
          "output_type": "display_data",
          "data": {
            "image/png": "[encoded data removed]",
            "text/plain": [
              "<Figure size 432x288 with 1 Axes>"
            ]
          },
          "metadata": {
            "tags": [],
            "needs_background": "light"
          }
        }
      ]
    },
    {
      "cell_type": "code",
      "metadata": {
        "id": "8b1kcndyIOwq",
        "colab_type": "code",
        "colab": {}
      },
      "source": [
        "df['flit_id'] = df['flit_id']+1\n",
        "df['flit_type'] = df['flit_type']+1\n",
        "df['vnet'] = df['vnet']+1\n",
        "df['vc'] = df['vc']+1"
      ],
      "execution_count": 0,
      "outputs": []
    },
    {
      "cell_type": "code",
      "metadata": {
        "id": "ylQx-ySCIOwy",
        "colab_type": "code",
        "colab": {}
      },
      "source": [
        "hoparr = {\"0to0\":0,\"0to1\":1,\"0to2\":2,\"0to3\":3,\"0to4\":1,\"0to5\":2,\"0to6\":3,\"0to7\":4,\"0to8\":2,\"0to9\":3,\"0to10\":4,\"0to11\":5,\"0to12\":3,\"0to13\":4,\"0to14\":5,\"0to15\":6,\n",
        "         \"1to1\":0,\"1to2\":1,\"1to3\":2,\"1to4\":2,\"1to5\":1,\"1to6\":2,\"1to7\":3,\"1to8\":3,\"1to9\":2,\"1to10\":3,\"1to11\":4,\"1to12\":5,\"1to13\":3,\"1to14\":4,\"1to15\":5,\n",
        "         \"2to2\":0,\"2to3\":1,\"2to4\":3,\"2to5\":2,\"2to6\":1,\"2to7\":2,\"2to8\":4,\"2to9\":3,\"2to10\":2,\"2to11\":3,\"2to12\":5,\"2to13\":4,\"2to14\":3,\"2to15\":4,\n",
        "         \"3to3\":0,\"3to4\":4,\"3to5\":3,\"3to6\":2,\"3to7\":1,\"3to8\":5,\"3to9\":4,\"3to10\":3,\"3to11\":2,\"3to12\":6,\"3to13\":5,\"3to14\":4,\"3to15\":3,\n",
        "         \"4to4\":0,\"4to5\":1,\"4to6\":2,\"4to7\":3,\"4to8\":1,\"4to9\":2,\"4to10\":3,\"4to11\":4,\"4to12\":2,\"4to13\":3,\"4to14\":4,\"4to15\":5,\n",
        "         \"5to5\":0,\"5to6\":1,\"5to7\":2,\"5to8\":2,\"5to9\":1,\"5to10\":2,\"5to11\":3,\"5to12\":3,\"5to13\":2,\"5to14\":3,\"5to15\":4,\n",
        "         \"6to6\":0,\"6to7\":1,\"6to8\":3,\"6to9\":2,\"6to10\":1,\"6to11\":2,\"6to12\":4,\"6to13\":3,\"6to14\":2,\"6to15\":3,\n",
        "         \"7to7\":0,\"7to8\":4,\"7to9\":3,\"7to10\":2,\"7to11\":1,\"7to12\":5,\"7to13\":4,\"7to14\":3,\"7to15\":2,\n",
        "         \"8to8\":0,\"8to9\":1,\"8to10\":2,\"8to11\":3,\"8to12\":1,\"8to13\":2,\"8to14\":3,\"8to15\":4,\n",
        "         \"9to9\":0,\"9to10\":1,\"9to11\":2,\"9to12\":2,\"9to13\":1,\"9to14\":2,\"9to15\":4,\n",
        "         \"10to10\":0,\"10to11\":1,\"10to12\":3,\"10to13\":2,\"10to14\":1,\"10to15\":2,\n",
        "         \"11to11\":0,\"11to12\":4,\"11to13\":3,\"11to14\":2,\"11to15\":1,\n",
        "         \"12to12\":0,\"12to13\":1,\"12to14\":2,\"12to15\":3,\n",
        "         \"13to13\":0,\"13to14\":1,\"13to15\":2,\n",
        "         \"14to14\":0,\"14to15\":1,\n",
        "         \"15to15\":0}"
      ],
      "execution_count": 0,
      "outputs": []
    },
    {
      "cell_type": "code",
      "metadata": {
        "id": "NDf0qt2-IOw5",
        "colab_type": "code",
        "colab": {}
      },
      "source": [
        "packarr = {}\n",
        "packtime = {}\n",
        "packchunk = []\n",
        "hopcurrentarr = []\n",
        "hoptotarr = []\n",
        "hoppercentarr =[]\n",
        "waitingarr = []\n",
        "interval = 500\n",
        "count = 0\n",
        "for index, row in df.iterrows():\n",
        "    current_time = row[\"time\"]\n",
        "    enqueue_time = row[\"enq_time\"]\n",
        "    waiting_time = current_time - enqueue_time\n",
        "    waitingarr.append(waiting_time)\n",
        "    current_router = row[\"router\"]\n",
        "    src_router = row[\"src_router\"]\n",
        "    dst_router = row[\"dst_router\"]\n",
        "    src_router_temp = src_router\n",
        "    if src_router_temp>dst_router:\n",
        "        temph = src_router_temp\n",
        "        src_router_temp = dst_router\n",
        "        dst_router = temph\n",
        "    hop_count_string = str(src_router_temp)+\"to\"+str(dst_router)\n",
        "    src_router_temp = src_router\n",
        "    hop_count = hoparr.get(hop_count_string)\n",
        "    if src_router_temp>current_router:\n",
        "        tempc = src_router_temp\n",
        "        src_router_temp = current_router\n",
        "        current_router = tempc\n",
        "    current_hop_string = str(src_router_temp)+\"to\"+str(current_router)\n",
        "    current_hop = hoparr.get(current_hop_string)\n",
        "    if(current_hop == 0 and hop_count ==0):\n",
        "        hop_percent = 0\n",
        "    else:\n",
        "        hop_percent = current_hop/hop_count\n",
        "    hoptotarr.append(hop_count)\n",
        "    hopcurrentarr.append(current_hop)\n",
        "    hoppercentarr.append(hop_percent)\n",
        "    if row[\"packet_address\"] not in packarr:\n",
        "        packarr[row[\"packet_address\"]] = count\n",
        "        packtime[row[\"packet_address\"]] = row[\"time\"]\n",
        "        packchunk.append(packarr.get(row[\"packet_address\"]))\n",
        "        count+=1\n",
        "    else:\n",
        "        current_time = row[\"time\"]\n",
        "        position = packarr.get(row[\"packet_address\"])\n",
        "        pkt_time = packtime.get(row[\"packet_address\"])\n",
        "        current_max = max(packarr.values())\n",
        "        if (current_time-pkt_time)<interval:\n",
        "            packchunk.append(packarr.get(row[\"packet_address\"]))\n",
        "        else:\n",
        "            del packarr[row[\"packet_address\"]]\n",
        "            del packtime[row[\"packet_address\"]]\n",
        "            packarr[row[\"packet_address\"]] = current_max+1\n",
        "            packtime[row[\"packet_address\"]] = row[\"time\"]\n",
        "            packchunk.append(packarr.get(row[\"packet_address\"]))\n",
        "            if (current_max)==count:\n",
        "                count+=2\n",
        "            elif (current_max+1)==count:\n",
        "                count+=1"
      ],
      "execution_count": 0,
      "outputs": []
    },
    {
      "cell_type": "code",
      "metadata": {
        "id": "25pyBgWqIOw_",
        "colab_type": "code",
        "outputId": "be1b9587-8eb2-4539-aca7-2d94845efc8f",
        "colab": {
          "base_uri": "https://localhost:8080/",
          "height": 34
        }
      },
      "source": [
        "df['packet_address'].nunique()"
      ],
      "execution_count": 53,
      "outputs": [
        {
          "output_type": "execute_result",
          "data": {
            "text/plain": [
              "7971"
            ]
          },
          "metadata": {
            "tags": []
          },
          "execution_count": 53
        }
      ]
    },
    {
      "cell_type": "code",
      "metadata": {
        "id": "wQUHR_CdIOxG",
        "colab_type": "code",
        "outputId": "78496ab0-c140-4327-a1c9-5b30dbe902bc",
        "colab": {
          "base_uri": "https://localhost:8080/",
          "height": 34
        }
      },
      "source": [
        "print(len(packarr))"
      ],
      "execution_count": 54,
      "outputs": [
        {
          "output_type": "stream",
          "text": [
            "7971\n"
          ],
          "name": "stdout"
        }
      ]
    },
    {
      "cell_type": "code",
      "metadata": {
        "id": "9udFHe45IOxO",
        "colab_type": "code",
        "outputId": "e099795b-59c1-4c06-c3e0-ae4c20c7f79d",
        "colab": {
          "base_uri": "https://localhost:8080/",
          "height": 34
        }
      },
      "source": [
        "print(len(packchunk))"
      ],
      "execution_count": 55,
      "outputs": [
        {
          "output_type": "stream",
          "text": [
            "875936\n"
          ],
          "name": "stdout"
        }
      ]
    },
    {
      "cell_type": "code",
      "metadata": {
        "id": "_H2Inp9TIOxU",
        "colab_type": "code",
        "colab": {}
      },
      "source": [
        "df = df.assign(traversal_id=packchunk)\n",
        "df = df.assign(hop_count=hoptotarr)\n",
        "df = df.assign(current_hop=hopcurrentarr)\n",
        "df = df.assign(hop_percentage=hoppercentarr)\n",
        "df = df.assign(enqueue_time=waitingarr)"
      ],
      "execution_count": 0,
      "outputs": []
    },
    {
      "cell_type": "code",
      "metadata": {
        "id": "SM0aItmFIOxa",
        "colab_type": "code",
        "colab": {}
      },
      "source": [
        "df.rename(columns={'packet_type': 'cache_coherence_type', 'time': 'timestamp'}, inplace=True)"
      ],
      "execution_count": 0,
      "outputs": []
    },
    {
      "cell_type": "code",
      "metadata": {
        "id": "fqkOWYxEIOxi",
        "colab_type": "code",
        "colab": {}
      },
      "source": [
        "df = df.drop(columns=['packet_address','enq_time'])"
      ],
      "execution_count": 0,
      "outputs": []
    },
    {
      "cell_type": "code",
      "metadata": {
        "id": "q8LzC__ZIOxq",
        "colab_type": "code",
        "outputId": "96f23668-b84b-419a-d9c1-51464acb067f",
        "colab": {
          "base_uri": "https://localhost:8080/",
          "height": 340
        }
      },
      "source": [
        "df.isnull().sum()"
      ],
      "execution_count": 59,
      "outputs": [
        {
          "output_type": "execute_result",
          "data": {
            "text/plain": [
              "timestamp               0\n",
              "router                  0\n",
              "outport                 0\n",
              "inport                  0\n",
              "cache_coherence_type    0\n",
              "flit_id                 0\n",
              "flit_type               0\n",
              "vnet                    0\n",
              "vc                      0\n",
              "src_ni                  0\n",
              "src_router              0\n",
              "dst_ni                  0\n",
              "dst_router              0\n",
              "traversal_id            0\n",
              "hop_count               0\n",
              "current_hop             0\n",
              "hop_percentage          0\n",
              "enqueue_time            0\n",
              "dtype: int64"
            ]
          },
          "metadata": {
            "tags": []
          },
          "execution_count": 59
        }
      ]
    },
    {
      "cell_type": "code",
      "metadata": {
        "id": "afMkAyb8IOxz",
        "colab_type": "code",
        "outputId": "89bbc060-6431-425a-f33f-7b2f350a7a5e",
        "colab": {
          "base_uri": "https://localhost:8080/",
          "height": 340
        }
      },
      "source": [
        "df.dtypes"
      ],
      "execution_count": 60,
      "outputs": [
        {
          "output_type": "execute_result",
          "data": {
            "text/plain": [
              "timestamp                 int64\n",
              "router                    int64\n",
              "outport                   int64\n",
              "inport                    int64\n",
              "cache_coherence_type      int64\n",
              "flit_id                   int64\n",
              "flit_type                 int64\n",
              "vnet                      int64\n",
              "vc                        int64\n",
              "src_ni                    int64\n",
              "src_router                int64\n",
              "dst_ni                    int64\n",
              "dst_router                int64\n",
              "traversal_id              int64\n",
              "hop_count                 int64\n",
              "current_hop               int64\n",
              "hop_percentage          float64\n",
              "enqueue_time              int64\n",
              "dtype: object"
            ]
          },
          "metadata": {
            "tags": []
          },
          "execution_count": 60
        }
      ]
    },
    {
      "cell_type": "code",
      "metadata": {
        "id": "lYs4E73eIOx4",
        "colab_type": "code",
        "colab": {}
      },
      "source": [
        "df.to_csv('2-fft-normal-n-0-15.csv',index=False)"
      ],
      "execution_count": 0,
      "outputs": []
    },
    {
      "cell_type": "markdown",
      "metadata": {
        "id": "rUIKyRVoIOyA",
        "colab_type": "text"
      },
      "source": [
        "#### Router Fetch"
      ]
    },
    {
      "cell_type": "code",
      "metadata": {
        "id": "L3VDbqOcIOyB",
        "colab_type": "code",
        "colab": {}
      },
      "source": [
        "def roundup(x):\n",
        "  return int(math.ceil(x / 1000.0)) * 1000"
      ],
      "execution_count": 0,
      "outputs": []
    },
    {
      "cell_type": "code",
      "metadata": {
        "id": "CXBMZWZ5IOyJ",
        "colab_type": "code",
        "colab": {}
      },
      "source": [
        "def fetch(i):\n",
        "    \n",
        "    df = pd.read_csv('2-fft-normal-n-0-15.csv')\n",
        "    df = df.loc[df['router'] == i]\n",
        "    df = df.drop(columns=['router'])\n",
        "    df.to_csv('2-fmm-normal-n-0-15-r'+str(i)+'.csv',index=False)\n",
        "    df = pd.read_csv('2-fmm-normal-n-0-15-r'+str(i)+'.csv')\n",
        "\n",
        "    def timecount(df):\n",
        "        timearr = []\n",
        "        interval = 999\n",
        "        count = 0\n",
        "        for index, row in df.iterrows():\n",
        "            if row[\"timestamp\"]<=interval :\n",
        "                count+=1\n",
        "            else:\n",
        "                timearr.append([interval+1,count])\n",
        "                count=1\n",
        "                if (row[\"timestamp\"] == roundup(row[\"timestamp\"])):\n",
        "                  interval = row[\"timestamp\"]+999\n",
        "                else:\n",
        "                  interval = roundup(row[\"timestamp\"])-1\n",
        "        timearr.append([interval+1,count])\n",
        "        return timearr\n",
        "    \n",
        "    def maxcount(timearr,df):\n",
        "        countarr = []\n",
        "        increarr = []\n",
        "        maxarr = []\n",
        "        for i in range(len(timearr)):\n",
        "            for cnt in range(timearr[i][1],0,-1):\n",
        "                countarr.append(cnt)\n",
        "                maxarr.append(timearr[i][1])\n",
        "                increment = timearr[i][1] - cnt + 1\n",
        "                increarr.append(increment)\n",
        "        df = df.assign(packet_count_decr=countarr)\n",
        "        df = df.assign(packet_count_incr=increarr)\n",
        "        df = df.assign(max_packet_count=maxarr)\n",
        "        return df\n",
        "    \n",
        "    df = maxcount(timecount(df),df)\n",
        "        \n",
        "    def rename(df):\n",
        "        df['traversal_id'] = df['traversal_id']+1\n",
        "        df[\"packet_count_index\"] = df[\"packet_count_decr\"]*df[\"packet_count_incr\"]\n",
        "        df[\"port_index\"] = df[\"outport\"]*df[\"inport\"]\n",
        "        df[\"traversal_index\"] = df[\"cache_coherence_type\"]*df[\"flit_id\"]*df[\"flit_type\"]*df[\"traversal_id\"]\n",
        "        df[\"cache_coherence_vnet_index\"] = df[\"cache_coherence_type\"]*df[\"vnet\"]\n",
        "        df[\"vnet_vc_cc_index\"] = df[\"vc\"]*df[\"cache_coherence_vnet_index\"]\n",
        "        \n",
        "    rename(df)\n",
        "    \n",
        "    df['target'] = 1\n",
        "    \n",
        "    print(df.shape)\n",
        "        \n",
        "    df.to_csv('2-fmm-normal-n-0-15-r'+str(i)+'.csv',index=False)"
      ],
      "execution_count": 0,
      "outputs": []
    },
    {
      "cell_type": "code",
      "metadata": {
        "id": "mLcRMn_uIOyN",
        "colab_type": "code",
        "outputId": "5eb51404-d4c4-41bc-dc23-e07e5e066d18",
        "colab": {
          "base_uri": "https://localhost:8080/",
          "height": 289
        }
      },
      "source": [
        "for i in range (0,16):\n",
        "    fetch(i)"
      ],
      "execution_count": 64,
      "outputs": [
        {
          "output_type": "stream",
          "text": [
            "(99926, 26)\n",
            "(48144, 26)\n",
            "(33522, 26)\n",
            "(18947, 26)\n",
            "(85445, 26)\n",
            "(42423, 26)\n",
            "(46671, 26)\n",
            "(57381, 26)\n",
            "(62948, 26)\n",
            "(49286, 26)\n",
            "(43929, 26)\n",
            "(84705, 26)\n",
            "(19017, 26)\n",
            "(35434, 26)\n",
            "(49227, 26)\n",
            "(98931, 26)\n"
          ],
          "name": "stdout"
        }
      ]
    }
  ]
}