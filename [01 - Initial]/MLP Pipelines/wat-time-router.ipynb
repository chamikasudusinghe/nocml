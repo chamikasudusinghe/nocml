{
 "cells": [
  {
   "cell_type": "code",
   "execution_count": 1,
   "metadata": {},
   "outputs": [],
   "source": [
    "import pandas as pd\n",
    "import numpy as np\n",
    "import matplotlib.pyplot as plt\n",
    "import seaborn as sns"
   ]
  },
  {
   "cell_type": "code",
   "execution_count": 2,
   "metadata": {},
   "outputs": [],
   "source": [
    "from sklearn import preprocessing\n",
    "from sklearn.model_selection import train_test_split"
   ]
  },
  {
   "cell_type": "code",
   "execution_count": 3,
   "metadata": {},
   "outputs": [],
   "source": [
    "dfg = pd.read_csv('wat-out-good-time_router.csv')\n",
    "dfm = pd.read_csv('wat-out-mal-time_router.csv')"
   ]
  },
  {
   "cell_type": "code",
   "execution_count": 4,
   "metadata": {},
   "outputs": [
    {
     "data": {
      "text/html": [
       "<div>\n",
       "<style scoped>\n",
       "    .dataframe tbody tr th:only-of-type {\n",
       "        vertical-align: middle;\n",
       "    }\n",
       "\n",
       "    .dataframe tbody tr th {\n",
       "        vertical-align: top;\n",
       "    }\n",
       "\n",
       "    .dataframe thead th {\n",
       "        text-align: right;\n",
       "    }\n",
       "</style>\n",
       "<table border=\"1\" class=\"dataframe\">\n",
       "  <thead>\n",
       "    <tr style=\"text-align: right;\">\n",
       "      <th></th>\n",
       "      <th>time</th>\n",
       "      <th>router</th>\n",
       "      <th>target</th>\n",
       "    </tr>\n",
       "  </thead>\n",
       "  <tbody>\n",
       "    <tr>\n",
       "      <td>0</td>\n",
       "      <td>7</td>\n",
       "      <td>0</td>\n",
       "      <td>1</td>\n",
       "    </tr>\n",
       "    <tr>\n",
       "      <td>1</td>\n",
       "      <td>11</td>\n",
       "      <td>1</td>\n",
       "      <td>1</td>\n",
       "    </tr>\n",
       "    <tr>\n",
       "      <td>2</td>\n",
       "      <td>15</td>\n",
       "      <td>2</td>\n",
       "      <td>1</td>\n",
       "    </tr>\n",
       "    <tr>\n",
       "      <td>3</td>\n",
       "      <td>19</td>\n",
       "      <td>3</td>\n",
       "      <td>1</td>\n",
       "    </tr>\n",
       "    <tr>\n",
       "      <td>4</td>\n",
       "      <td>23</td>\n",
       "      <td>7</td>\n",
       "      <td>1</td>\n",
       "    </tr>\n",
       "    <tr>\n",
       "      <td>...</td>\n",
       "      <td>...</td>\n",
       "      <td>...</td>\n",
       "      <td>...</td>\n",
       "    </tr>\n",
       "    <tr>\n",
       "      <td>245671</td>\n",
       "      <td>3152973</td>\n",
       "      <td>0</td>\n",
       "      <td>1</td>\n",
       "    </tr>\n",
       "    <tr>\n",
       "      <td>245672</td>\n",
       "      <td>3152974</td>\n",
       "      <td>0</td>\n",
       "      <td>1</td>\n",
       "    </tr>\n",
       "    <tr>\n",
       "      <td>245673</td>\n",
       "      <td>3152975</td>\n",
       "      <td>0</td>\n",
       "      <td>1</td>\n",
       "    </tr>\n",
       "    <tr>\n",
       "      <td>245674</td>\n",
       "      <td>3152975</td>\n",
       "      <td>4</td>\n",
       "      <td>1</td>\n",
       "    </tr>\n",
       "    <tr>\n",
       "      <td>245675</td>\n",
       "      <td>3152979</td>\n",
       "      <td>0</td>\n",
       "      <td>1</td>\n",
       "    </tr>\n",
       "  </tbody>\n",
       "</table>\n",
       "<p>245676 rows × 3 columns</p>\n",
       "</div>"
      ],
      "text/plain": [
       "           time  router  target\n",
       "0             7       0       1\n",
       "1            11       1       1\n",
       "2            15       2       1\n",
       "3            19       3       1\n",
       "4            23       7       1\n",
       "...         ...     ...     ...\n",
       "245671  3152973       0       1\n",
       "245672  3152974       0       1\n",
       "245673  3152975       0       1\n",
       "245674  3152975       4       1\n",
       "245675  3152979       0       1\n",
       "\n",
       "[245676 rows x 3 columns]"
      ]
     },
     "execution_count": 4,
     "metadata": {},
     "output_type": "execute_result"
    }
   ],
   "source": [
    "dfg"
   ]
  },
  {
   "cell_type": "code",
   "execution_count": 5,
   "metadata": {},
   "outputs": [
    {
     "data": {
      "text/html": [
       "<div>\n",
       "<style scoped>\n",
       "    .dataframe tbody tr th:only-of-type {\n",
       "        vertical-align: middle;\n",
       "    }\n",
       "\n",
       "    .dataframe tbody tr th {\n",
       "        vertical-align: top;\n",
       "    }\n",
       "\n",
       "    .dataframe thead th {\n",
       "        text-align: right;\n",
       "    }\n",
       "</style>\n",
       "<table border=\"1\" class=\"dataframe\">\n",
       "  <thead>\n",
       "    <tr style=\"text-align: right;\">\n",
       "      <th></th>\n",
       "      <th>time</th>\n",
       "      <th>router</th>\n",
       "      <th>target</th>\n",
       "    </tr>\n",
       "  </thead>\n",
       "  <tbody>\n",
       "    <tr>\n",
       "      <td>0</td>\n",
       "      <td>7</td>\n",
       "      <td>0</td>\n",
       "      <td>0</td>\n",
       "    </tr>\n",
       "    <tr>\n",
       "      <td>1</td>\n",
       "      <td>7</td>\n",
       "      <td>1</td>\n",
       "      <td>0</td>\n",
       "    </tr>\n",
       "    <tr>\n",
       "      <td>2</td>\n",
       "      <td>11</td>\n",
       "      <td>5</td>\n",
       "      <td>0</td>\n",
       "    </tr>\n",
       "    <tr>\n",
       "      <td>3</td>\n",
       "      <td>11</td>\n",
       "      <td>1</td>\n",
       "      <td>0</td>\n",
       "    </tr>\n",
       "    <tr>\n",
       "      <td>4</td>\n",
       "      <td>15</td>\n",
       "      <td>2</td>\n",
       "      <td>0</td>\n",
       "    </tr>\n",
       "    <tr>\n",
       "      <td>...</td>\n",
       "      <td>...</td>\n",
       "      <td>...</td>\n",
       "      <td>...</td>\n",
       "    </tr>\n",
       "    <tr>\n",
       "      <td>258120</td>\n",
       "      <td>3150824</td>\n",
       "      <td>5</td>\n",
       "      <td>0</td>\n",
       "    </tr>\n",
       "    <tr>\n",
       "      <td>258121</td>\n",
       "      <td>3150825</td>\n",
       "      <td>13</td>\n",
       "      <td>0</td>\n",
       "    </tr>\n",
       "    <tr>\n",
       "      <td>258122</td>\n",
       "      <td>3150827</td>\n",
       "      <td>1</td>\n",
       "      <td>0</td>\n",
       "    </tr>\n",
       "    <tr>\n",
       "      <td>258123</td>\n",
       "      <td>3150828</td>\n",
       "      <td>9</td>\n",
       "      <td>0</td>\n",
       "    </tr>\n",
       "    <tr>\n",
       "      <td>258124</td>\n",
       "      <td>3150830</td>\n",
       "      <td>0</td>\n",
       "      <td>0</td>\n",
       "    </tr>\n",
       "  </tbody>\n",
       "</table>\n",
       "<p>258125 rows × 3 columns</p>\n",
       "</div>"
      ],
      "text/plain": [
       "           time  router  target\n",
       "0             7       0       0\n",
       "1             7       1       0\n",
       "2            11       5       0\n",
       "3            11       1       0\n",
       "4            15       2       0\n",
       "...         ...     ...     ...\n",
       "258120  3150824       5       0\n",
       "258121  3150825      13       0\n",
       "258122  3150827       1       0\n",
       "258123  3150828       9       0\n",
       "258124  3150830       0       0\n",
       "\n",
       "[258125 rows x 3 columns]"
      ]
     },
     "execution_count": 5,
     "metadata": {},
     "output_type": "execute_result"
    }
   ],
   "source": [
    "dfm"
   ]
  },
  {
   "cell_type": "code",
   "execution_count": 6,
   "metadata": {},
   "outputs": [],
   "source": [
    "df = dfg.append(dfm, ignore_index=True)\n",
    "df = df.sort_values('time')"
   ]
  },
  {
   "cell_type": "code",
   "execution_count": 7,
   "metadata": {},
   "outputs": [],
   "source": [
    "df.to_csv('wat-time-router.csv',index=False)\n"
   ]
  },
  {
   "cell_type": "code",
   "execution_count": 8,
   "metadata": {},
   "outputs": [
    {
     "data": {
      "text/html": [
       "<div>\n",
       "<style scoped>\n",
       "    .dataframe tbody tr th:only-of-type {\n",
       "        vertical-align: middle;\n",
       "    }\n",
       "\n",
       "    .dataframe tbody tr th {\n",
       "        vertical-align: top;\n",
       "    }\n",
       "\n",
       "    .dataframe thead th {\n",
       "        text-align: right;\n",
       "    }\n",
       "</style>\n",
       "<table border=\"1\" class=\"dataframe\">\n",
       "  <thead>\n",
       "    <tr style=\"text-align: right;\">\n",
       "      <th></th>\n",
       "      <th>time</th>\n",
       "      <th>router</th>\n",
       "      <th>target</th>\n",
       "    </tr>\n",
       "  </thead>\n",
       "  <tbody>\n",
       "    <tr>\n",
       "      <td>0</td>\n",
       "      <td>7</td>\n",
       "      <td>0</td>\n",
       "      <td>1</td>\n",
       "    </tr>\n",
       "    <tr>\n",
       "      <td>1</td>\n",
       "      <td>7</td>\n",
       "      <td>1</td>\n",
       "      <td>0</td>\n",
       "    </tr>\n",
       "    <tr>\n",
       "      <td>2</td>\n",
       "      <td>7</td>\n",
       "      <td>0</td>\n",
       "      <td>0</td>\n",
       "    </tr>\n",
       "    <tr>\n",
       "      <td>3</td>\n",
       "      <td>11</td>\n",
       "      <td>5</td>\n",
       "      <td>0</td>\n",
       "    </tr>\n",
       "    <tr>\n",
       "      <td>4</td>\n",
       "      <td>11</td>\n",
       "      <td>1</td>\n",
       "      <td>0</td>\n",
       "    </tr>\n",
       "    <tr>\n",
       "      <td>...</td>\n",
       "      <td>...</td>\n",
       "      <td>...</td>\n",
       "      <td>...</td>\n",
       "    </tr>\n",
       "    <tr>\n",
       "      <td>503796</td>\n",
       "      <td>3152973</td>\n",
       "      <td>0</td>\n",
       "      <td>1</td>\n",
       "    </tr>\n",
       "    <tr>\n",
       "      <td>503797</td>\n",
       "      <td>3152974</td>\n",
       "      <td>0</td>\n",
       "      <td>1</td>\n",
       "    </tr>\n",
       "    <tr>\n",
       "      <td>503798</td>\n",
       "      <td>3152975</td>\n",
       "      <td>0</td>\n",
       "      <td>1</td>\n",
       "    </tr>\n",
       "    <tr>\n",
       "      <td>503799</td>\n",
       "      <td>3152975</td>\n",
       "      <td>4</td>\n",
       "      <td>1</td>\n",
       "    </tr>\n",
       "    <tr>\n",
       "      <td>503800</td>\n",
       "      <td>3152979</td>\n",
       "      <td>0</td>\n",
       "      <td>1</td>\n",
       "    </tr>\n",
       "  </tbody>\n",
       "</table>\n",
       "<p>503801 rows × 3 columns</p>\n",
       "</div>"
      ],
      "text/plain": [
       "           time  router  target\n",
       "0             7       0       1\n",
       "1             7       1       0\n",
       "2             7       0       0\n",
       "3            11       5       0\n",
       "4            11       1       0\n",
       "...         ...     ...     ...\n",
       "503796  3152973       0       1\n",
       "503797  3152974       0       1\n",
       "503798  3152975       0       1\n",
       "503799  3152975       4       1\n",
       "503800  3152979       0       1\n",
       "\n",
       "[503801 rows x 3 columns]"
      ]
     },
     "execution_count": 8,
     "metadata": {},
     "output_type": "execute_result"
    }
   ],
   "source": [
    "df = pd.read_csv(\"wat-time-router.csv\")\n",
    "df"
   ]
  },
  {
   "cell_type": "code",
   "execution_count": 9,
   "metadata": {},
   "outputs": [
    {
     "data": {
      "text/html": [
       "<div>\n",
       "<style scoped>\n",
       "    .dataframe tbody tr th:only-of-type {\n",
       "        vertical-align: middle;\n",
       "    }\n",
       "\n",
       "    .dataframe tbody tr th {\n",
       "        vertical-align: top;\n",
       "    }\n",
       "\n",
       "    .dataframe thead th {\n",
       "        text-align: right;\n",
       "    }\n",
       "</style>\n",
       "<table border=\"1\" class=\"dataframe\">\n",
       "  <thead>\n",
       "    <tr style=\"text-align: right;\">\n",
       "      <th></th>\n",
       "      <th>time</th>\n",
       "      <th>router</th>\n",
       "      <th>target</th>\n",
       "    </tr>\n",
       "  </thead>\n",
       "  <tbody>\n",
       "    <tr>\n",
       "      <td>time</td>\n",
       "      <td>1.000000</td>\n",
       "      <td>0.025150</td>\n",
       "      <td>0.048453</td>\n",
       "    </tr>\n",
       "    <tr>\n",
       "      <td>router</td>\n",
       "      <td>0.025150</td>\n",
       "      <td>1.000000</td>\n",
       "      <td>0.002486</td>\n",
       "    </tr>\n",
       "    <tr>\n",
       "      <td>target</td>\n",
       "      <td>0.048453</td>\n",
       "      <td>0.002486</td>\n",
       "      <td>1.000000</td>\n",
       "    </tr>\n",
       "  </tbody>\n",
       "</table>\n",
       "</div>"
      ],
      "text/plain": [
       "            time    router    target\n",
       "time    1.000000  0.025150  0.048453\n",
       "router  0.025150  1.000000  0.002486\n",
       "target  0.048453  0.002486  1.000000"
      ]
     },
     "execution_count": 9,
     "metadata": {},
     "output_type": "execute_result"
    }
   ],
   "source": [
    "df.corr()"
   ]
  },
  {
   "cell_type": "code",
   "execution_count": 10,
   "metadata": {},
   "outputs": [
    {
     "data": {
      "image/png": "[encoded data removed]",
      "text/plain": [
       "<Figure size 216x144 with 2 Axes>"
      ]
     },
     "metadata": {
      "needs_background": "light"
     },
     "output_type": "display_data"
    }
   ],
   "source": [
    "plt.figure(figsize=(3,2))\n",
    "sns.heatmap(df.corr(), annot = True)\n",
    "plt.show()"
   ]
  },
  {
   "cell_type": "code",
   "execution_count": 11,
   "metadata": {},
   "outputs": [],
   "source": [
    "train_X = df.drop(columns=['target'])"
   ]
  },
  {
   "cell_type": "code",
   "execution_count": 12,
   "metadata": {},
   "outputs": [
    {
     "data": {
      "text/plain": [
       "<matplotlib.axes._subplots.AxesSubplot at 0x20e0a1794c8>"
      ]
     },
     "execution_count": 12,
     "metadata": {},
     "output_type": "execute_result"
    },
    {
     "data": {
      "image/png": "[encoded data removed]",
      "text/plain": [
       "<Figure size 432x288 with 1 Axes>"
      ]
     },
     "metadata": {
      "needs_background": "light"
     },
     "output_type": "display_data"
    }
   ],
   "source": [
    "sns.distplot(df['router'], kde = False, bins=30, color='blue')"
   ]
  },
  {
   "cell_type": "code",
   "execution_count": 13,
   "metadata": {},
   "outputs": [
    {
     "data": {
      "text/plain": [
       "Text(0, 0.5, 'time')"
      ]
     },
     "execution_count": 13,
     "metadata": {},
     "output_type": "execute_result"
    },
    {
     "data": {
      "image/png": "[encoded data removed]",
      "text/plain": [
       "<Figure size 432x288 with 1 Axes>"
      ]
     },
     "metadata": {
      "needs_background": "light"
     },
     "output_type": "display_data"
    }
   ],
   "source": [
    "# scatter plot\n",
    "fig, ax = plt.subplots()\n",
    "\n",
    "ax.scatter(df['router'], df['time'])\n",
    "# set a title and labels\n",
    "ax.set_xlabel('router')\n",
    "ax.set_ylabel('time')"
   ]
  },
  {
   "cell_type": "code",
   "execution_count": 14,
   "metadata": {},
   "outputs": [],
   "source": [
    "df_500 = pd.read_csv('wat-time-router.csv',nrows=500)"
   ]
  },
  {
   "cell_type": "code",
   "execution_count": 15,
   "metadata": {},
   "outputs": [
    {
     "data": {
      "text/plain": [
       "Text(0, 0.5, 'time')"
      ]
     },
     "execution_count": 15,
     "metadata": {},
     "output_type": "execute_result"
    },
    {
     "data": {
      "image/png": "[encoded data removed]",
      "text/plain": [
       "<Figure size 432x288 with 1 Axes>"
      ]
     },
     "metadata": {
      "needs_background": "light"
     },
     "output_type": "display_data"
    }
   ],
   "source": [
    "# scatter plot 100\n",
    "\n",
    "fig, ax = plt.subplots()\n",
    "\n",
    "ax.scatter(df_500['router'], df_500['time'])\n",
    "\n",
    "# set a title and labels\n",
    "ax.set_xlabel('router')\n",
    "ax.set_ylabel('time')"
   ]
  },
  {
   "cell_type": "code",
   "execution_count": 16,
   "metadata": {},
   "outputs": [
    {
     "data": {
      "text/plain": [
       "Text(0, 0.5, 'Frequency')"
      ]
     },
     "execution_count": 16,
     "metadata": {},
     "output_type": "execute_result"
    },
    {
     "data": {
      "image/png": "[encoded data removed]",
      "text/plain": [
       "<Figure size 432x288 with 1 Axes>"
      ]
     },
     "metadata": {
      "needs_background": "light"
     },
     "output_type": "display_data"
    }
   ],
   "source": [
    "# bar chart by router\n",
    "\n",
    "fig, ax = plt.subplots() \n",
    "\n",
    "# count the occurrence of each class \n",
    "data = df_500['router'].value_counts()\n",
    "\n",
    "# get x and y data \n",
    "points = data.index \n",
    "frequency = data.values\n",
    "\n",
    "# create bar chart \n",
    "ax.bar(points, frequency)\n",
    "\n",
    "# set title and labels \n",
    "ax.set_xlabel('Routers') \n",
    "ax.set_ylabel('Frequency')"
   ]
  },
  {
   "cell_type": "code",
   "execution_count": 17,
   "metadata": {},
   "outputs": [
    {
     "data": {
      "text/plain": [
       "Text(0, 0.5, 'Frequency')"
      ]
     },
     "execution_count": 17,
     "metadata": {},
     "output_type": "execute_result"
    },
    {
     "data": {
      "image/png": "[encoded data removed]",
      "text/plain": [
       "<Figure size 432x288 with 1 Axes>"
      ]
     },
     "metadata": {
      "needs_background": "light"
     },
     "output_type": "display_data"
    }
   ],
   "source": [
    "# bar chart by time\n",
    "\n",
    "fig, ax = plt.subplots() \n",
    "\n",
    "# count the occurrence of each class \n",
    "data = df_500['time'].value_counts()\n",
    "\n",
    "# get x and y data \n",
    "points = data.index \n",
    "frequency = data.values\n",
    "\n",
    "# create bar chart \n",
    "ax.bar(points, frequency)\n",
    "\n",
    "# set title and labels \n",
    "ax.set_xlabel('Time') \n",
    "ax.set_ylabel('Frequency')"
   ]
  },
  {
   "cell_type": "code",
   "execution_count": 18,
   "metadata": {},
   "outputs": [
    {
     "data": {
      "text/html": [
       "<div>\n",
       "<style scoped>\n",
       "    .dataframe tbody tr th:only-of-type {\n",
       "        vertical-align: middle;\n",
       "    }\n",
       "\n",
       "    .dataframe tbody tr th {\n",
       "        vertical-align: top;\n",
       "    }\n",
       "\n",
       "    .dataframe thead th {\n",
       "        text-align: right;\n",
       "    }\n",
       "</style>\n",
       "<table border=\"1\" class=\"dataframe\">\n",
       "  <thead>\n",
       "    <tr style=\"text-align: right;\">\n",
       "      <th></th>\n",
       "      <th>0</th>\n",
       "      <th>1</th>\n",
       "    </tr>\n",
       "  </thead>\n",
       "  <tbody>\n",
       "    <tr>\n",
       "      <td>0</td>\n",
       "      <td>0.000000</td>\n",
       "      <td>0.000000</td>\n",
       "    </tr>\n",
       "    <tr>\n",
       "      <td>1</td>\n",
       "      <td>0.000000</td>\n",
       "      <td>0.066667</td>\n",
       "    </tr>\n",
       "    <tr>\n",
       "      <td>2</td>\n",
       "      <td>0.000000</td>\n",
       "      <td>0.000000</td>\n",
       "    </tr>\n",
       "    <tr>\n",
       "      <td>3</td>\n",
       "      <td>0.000001</td>\n",
       "      <td>0.333333</td>\n",
       "    </tr>\n",
       "    <tr>\n",
       "      <td>4</td>\n",
       "      <td>0.000001</td>\n",
       "      <td>0.066667</td>\n",
       "    </tr>\n",
       "    <tr>\n",
       "      <td>...</td>\n",
       "      <td>...</td>\n",
       "      <td>...</td>\n",
       "    </tr>\n",
       "    <tr>\n",
       "      <td>503796</td>\n",
       "      <td>0.999998</td>\n",
       "      <td>0.000000</td>\n",
       "    </tr>\n",
       "    <tr>\n",
       "      <td>503797</td>\n",
       "      <td>0.999998</td>\n",
       "      <td>0.000000</td>\n",
       "    </tr>\n",
       "    <tr>\n",
       "      <td>503798</td>\n",
       "      <td>0.999999</td>\n",
       "      <td>0.000000</td>\n",
       "    </tr>\n",
       "    <tr>\n",
       "      <td>503799</td>\n",
       "      <td>0.999999</td>\n",
       "      <td>0.266667</td>\n",
       "    </tr>\n",
       "    <tr>\n",
       "      <td>503800</td>\n",
       "      <td>1.000000</td>\n",
       "      <td>0.000000</td>\n",
       "    </tr>\n",
       "  </tbody>\n",
       "</table>\n",
       "<p>503801 rows × 2 columns</p>\n",
       "</div>"
      ],
      "text/plain": [
       "               0         1\n",
       "0       0.000000  0.000000\n",
       "1       0.000000  0.066667\n",
       "2       0.000000  0.000000\n",
       "3       0.000001  0.333333\n",
       "4       0.000001  0.066667\n",
       "...          ...       ...\n",
       "503796  0.999998  0.000000\n",
       "503797  0.999998  0.000000\n",
       "503798  0.999999  0.000000\n",
       "503799  0.999999  0.266667\n",
       "503800  1.000000  0.000000\n",
       "\n",
       "[503801 rows x 2 columns]"
      ]
     },
     "execution_count": 18,
     "metadata": {},
     "output_type": "execute_result"
    }
   ],
   "source": [
    "#standardization\n",
    "x = train_X.values\n",
    "min_max_scaler = preprocessing.MinMaxScaler()\n",
    "x_scaled = min_max_scaler.fit_transform(x)\n",
    "train_X = pd.DataFrame(x_scaled)\n",
    "train_X"
   ]
  },
  {
   "cell_type": "code",
   "execution_count": 19,
   "metadata": {},
   "outputs": [
    {
     "data": {
      "text/html": [
       "<div>\n",
       "<style scoped>\n",
       "    .dataframe tbody tr th:only-of-type {\n",
       "        vertical-align: middle;\n",
       "    }\n",
       "\n",
       "    .dataframe tbody tr th {\n",
       "        vertical-align: top;\n",
       "    }\n",
       "\n",
       "    .dataframe thead th {\n",
       "        text-align: right;\n",
       "    }\n",
       "</style>\n",
       "<table border=\"1\" class=\"dataframe\">\n",
       "  <thead>\n",
       "    <tr style=\"text-align: right;\">\n",
       "      <th></th>\n",
       "      <th>0</th>\n",
       "      <th>1</th>\n",
       "      <th>target</th>\n",
       "    </tr>\n",
       "  </thead>\n",
       "  <tbody>\n",
       "    <tr>\n",
       "      <td>0</td>\n",
       "      <td>1.000000</td>\n",
       "      <td>0.025150</td>\n",
       "      <td>0.048453</td>\n",
       "    </tr>\n",
       "    <tr>\n",
       "      <td>1</td>\n",
       "      <td>0.025150</td>\n",
       "      <td>1.000000</td>\n",
       "      <td>0.002486</td>\n",
       "    </tr>\n",
       "    <tr>\n",
       "      <td>target</td>\n",
       "      <td>0.048453</td>\n",
       "      <td>0.002486</td>\n",
       "      <td>1.000000</td>\n",
       "    </tr>\n",
       "  </tbody>\n",
       "</table>\n",
       "</div>"
      ],
      "text/plain": [
       "               0         1    target\n",
       "0       1.000000  0.025150  0.048453\n",
       "1       0.025150  1.000000  0.002486\n",
       "target  0.048453  0.002486  1.000000"
      ]
     },
     "execution_count": 19,
     "metadata": {},
     "output_type": "execute_result"
    }
   ],
   "source": [
    "corr_df = pd.concat([train_X, df[['target']]], axis = 1)\n",
    "corr_df.corr()"
   ]
  },
  {
   "cell_type": "code",
   "execution_count": 20,
   "metadata": {},
   "outputs": [],
   "source": [
    "train_Y = corr_df['target']"
   ]
  },
  {
   "cell_type": "code",
   "execution_count": 21,
   "metadata": {},
   "outputs": [
    {
     "data": {
      "text/plain": [
       "0    258125\n",
       "1    245676\n",
       "Name: target, dtype: int64"
      ]
     },
     "execution_count": 21,
     "metadata": {},
     "output_type": "execute_result"
    }
   ],
   "source": [
    "train_Y.value_counts()"
   ]
  },
  {
   "cell_type": "markdown",
   "metadata": {},
   "source": [
    "#### machine learning models"
   ]
  },
  {
   "cell_type": "code",
   "execution_count": 36,
   "metadata": {},
   "outputs": [],
   "source": [
    "X_train, X_test, y_train, y_test = train_test_split(train_X, train_Y, test_size=0.3, random_state=0)"
   ]
  },
  {
   "cell_type": "code",
   "execution_count": 23,
   "metadata": {},
   "outputs": [],
   "source": [
    "#logistic regression\n",
    "from sklearn.linear_model import LogisticRegression\n",
    "from sklearn.metrics import classification_report\n",
    "from sklearn.metrics import confusion_matrix\n",
    "import statsmodels.api as sm\n",
    "from sklearn import metrics\n",
    "\n",
    "from sklearn.metrics import roc_auc_score\n",
    "from sklearn.metrics import roc_curve\n",
    "from sklearn.metrics import accuracy_score"
   ]
  },
  {
   "cell_type": "code",
   "execution_count": 24,
   "metadata": {},
   "outputs": [
    {
     "name": "stdout",
     "output_type": "stream",
     "text": [
      "Optimization terminated successfully.\n",
      "         Current function value: 0.692847\n",
      "         Iterations 3\n",
      "                          Results: Logit\n",
      "==================================================================\n",
      "Model:              Logit            Pseudo R-squared: -0.000     \n",
      "Dependent Variable: target           AIC:              698118.0609\n",
      "Date:               2020-05-02 08:45 BIC:              698140.3208\n",
      "No. Observations:   503801           Log-Likelihood:   -3.4906e+05\n",
      "Df Model:           1                LL-Null:          -3.4905e+05\n",
      "Df Residuals:       503799           LLR p-value:      1.0000     \n",
      "Converged:          1.0000           Scale:            1.0000     \n",
      "No. Iterations:     3.0000                                        \n",
      "---------------------------------------------------------------------\n",
      "       Coef.     Std.Err.       z        P>|z|      [0.025     0.975]\n",
      "---------------------------------------------------------------------\n",
      "0      0.0744      0.0056     13.3462    0.0000     0.0635     0.0853\n",
      "1     -0.1456      0.0086    -16.9349    0.0000    -0.1625    -0.1288\n",
      "==================================================================\n",
      "\n"
     ]
    }
   ],
   "source": [
    "logit_model=sm.Logit(train_Y,train_X)\n",
    "result=logit_model.fit()\n",
    "print(result.summary2())"
   ]
  },
  {
   "cell_type": "code",
   "execution_count": 25,
   "metadata": {},
   "outputs": [
    {
     "data": {
      "text/plain": [
       "LogisticRegression(C=1, class_weight=None, dual=False, fit_intercept=True,\n",
       "                   intercept_scaling=1, l1_ratio=None, max_iter=100,\n",
       "                   multi_class='auto', n_jobs=None, penalty='l2',\n",
       "                   random_state=42, solver='lbfgs', tol=0.0001, verbose=0,\n",
       "                   warm_start=False)"
      ]
     },
     "execution_count": 25,
     "metadata": {},
     "output_type": "execute_result"
    }
   ],
   "source": [
    "logreg = LogisticRegression(C=1,penalty='l2',random_state=42)\n",
    "logreg.fit(X_train, y_train)"
   ]
  },
  {
   "cell_type": "code",
   "execution_count": 27,
   "metadata": {},
   "outputs": [
    {
     "name": "stdout",
     "output_type": "stream",
     "text": [
      "Accuracy 0.52\n",
      "Train Prediction Score 51.37185958146657\n",
      "Test Prediction  51.512164138122685\n"
     ]
    }
   ],
   "source": [
    "y_pred = logreg.predict(X_test)\n",
    "print('Accuracy {:.2f}'.format(accuracy_score(y_test,y_pred)))\n",
    "logreg_score_train = logreg.score(X_train,y_train)\n",
    "print(\"Train Prediction Score\",logreg_score_train*100)\n",
    "logreg_score_test = accuracy_score(y_test,y_pred)\n",
    "print(\"Test Prediction \",logreg_score_test*100)"
   ]
  },
  {
   "cell_type": "code",
   "execution_count": 28,
   "metadata": {},
   "outputs": [
    {
     "name": "stdout",
     "output_type": "stream",
     "text": [
      "[[47954 29618]\n",
      " [43667 29902]]\n"
     ]
    }
   ],
   "source": [
    "cm = confusion_matrix(y_test, y_pred)\n",
    "print(cm)"
   ]
  },
  {
   "cell_type": "code",
   "execution_count": 29,
   "metadata": {},
   "outputs": [
    {
     "name": "stdout",
     "output_type": "stream",
     "text": [
      "              precision    recall  f1-score   support\n",
      "\n",
      "           0       0.52      0.62      0.57     77572\n",
      "           1       0.50      0.41      0.45     73569\n",
      "\n",
      "    accuracy                           0.52    151141\n",
      "   macro avg       0.51      0.51      0.51    151141\n",
      "weighted avg       0.51      0.52      0.51    151141\n",
      "\n"
     ]
    }
   ],
   "source": [
    "print(classification_report(y_test, y_pred))"
   ]
  },
  {
   "cell_type": "code",
   "execution_count": 30,
   "metadata": {},
   "outputs": [
    {
     "data": {
      "image/png": "[encoded data removed]",
      "text/plain": [
       "<Figure size 432x288 with 1 Axes>"
      ]
     },
     "metadata": {
      "needs_background": "light"
     },
     "output_type": "display_data"
    }
   ],
   "source": [
    "logit_roc_auc = roc_auc_score(y_test, logreg.predict(X_test))\n",
    "fpr, tpr, thresholds = roc_curve(y_test, logreg.predict_proba(X_test)[:,1])\n",
    "plt.figure()\n",
    "plt.plot(fpr, tpr, label='Logistic Regression (area = %0.2f)' % logit_roc_auc)\n",
    "plt.plot([0, 1], [0, 1],'r--')\n",
    "plt.xlim([0.0, 1.0])\n",
    "plt.ylim([0.0, 1.05])\n",
    "plt.xlabel('False Positive Rate')\n",
    "plt.ylabel('True Positive Rate')\n",
    "plt.title('Receiver operating characteristic')\n",
    "plt.legend(loc=\"lower right\")\n",
    "plt.savefig('Log_ROC')\n",
    "plt.show()"
   ]
  },
  {
   "cell_type": "code",
   "execution_count": 31,
   "metadata": {},
   "outputs": [
    {
     "data": {
      "text/plain": [
       "KNeighborsClassifier(algorithm='auto', leaf_size=30, metric='minkowski',\n",
       "                     metric_params=None, n_jobs=None, n_neighbors=5, p=2,\n",
       "                     weights='uniform')"
      ]
     },
     "execution_count": 31,
     "metadata": {},
     "output_type": "execute_result"
    }
   ],
   "source": [
    "#KNeighborsClassifier\n",
    "from sklearn.neighbors import KNeighborsClassifier\n",
    "knn = KNeighborsClassifier()\n",
    "knn.fit(X_train,y_train)"
   ]
  },
  {
   "cell_type": "code",
   "execution_count": 32,
   "metadata": {},
   "outputs": [],
   "source": [
    "y_pred_knn= logreg.predict(X_test)"
   ]
  },
  {
   "cell_type": "code",
   "execution_count": 33,
   "metadata": {},
   "outputs": [
    {
     "name": "stdout",
     "output_type": "stream",
     "text": [
      "Train Prediction Score 51.37185958146657\n",
      "Test Prediction  51.512164138122685\n"
     ]
    }
   ],
   "source": [
    "knn_score_train = logreg.score(X_train,y_train)\n",
    "print(\"Train Prediction Score\",knn_score_train*100)\n",
    "knn_score_test = accuracy_score(y_test,y_pred_knn)\n",
    "print(\"Test Prediction \",knn_score_test*100)"
   ]
  },
  {
   "cell_type": "code",
   "execution_count": 34,
   "metadata": {},
   "outputs": [
    {
     "name": "stdout",
     "output_type": "stream",
     "text": [
      "[[47954 29618]\n",
      " [43667 29902]]\n"
     ]
    }
   ],
   "source": [
    "cm = confusion_matrix(y_test, y_pred_knn)\n",
    "print(cm)"
   ]
  },
  {
   "cell_type": "code",
   "execution_count": 35,
   "metadata": {},
   "outputs": [
    {
     "name": "stdout",
     "output_type": "stream",
     "text": [
      "              precision    recall  f1-score   support\n",
      "\n",
      "           0       0.52      0.62      0.57     77572\n",
      "           1       0.50      0.41      0.45     73569\n",
      "\n",
      "    accuracy                           0.52    151141\n",
      "   macro avg       0.51      0.51      0.51    151141\n",
      "weighted avg       0.51      0.52      0.51    151141\n",
      "\n"
     ]
    }
   ],
   "source": [
    "print(classification_report(y_test,y_pred_knn))"
   ]
  },
  {
   "cell_type": "code",
   "execution_count": 119,
   "metadata": {},
   "outputs": [
    {
     "data": {
      "image/png": "[encoded data removed]",
      "text/plain": [
       "<Figure size 432x288 with 1 Axes>"
      ]
     },
     "metadata": {},
     "output_type": "display_data"
    }
   ],
   "source": [
    "logit_roc_auc = roc_auc_score(y_test, y_pred_knn)\n",
    "fpr, tpr, thresholds = roc_curve(y_test, knn.predict_proba(X_test)[:,1])\n",
    "plt.figure()\n",
    "plt.plot(fpr, tpr, label='KNeighbors (area = %0.2f)' % logit_roc_auc)\n",
    "plt.plot([0, 1], [0, 1],'r--')\n",
    "plt.xlim([0.0, 1.0])\n",
    "plt.ylim([0.0, 1.05])\n",
    "plt.xlabel('False Positive Rate')\n",
    "plt.ylabel('True Positive Rate')\n",
    "plt.title('Receiver operating characteristic')\n",
    "plt.legend(loc=\"lower right\")\n",
    "plt.savefig('Log_ROC')\n",
    "plt.show()"
   ]
  },
  {
   "cell_type": "code",
   "execution_count": 37,
   "metadata": {},
   "outputs": [],
   "source": [
    "#supportvectormachines\n",
    "from sklearn.svm import SVC"
   ]
  },
  {
   "cell_type": "code",
   "execution_count": null,
   "metadata": {},
   "outputs": [],
   "source": [
    "ksvc = SVC(kernel = 'rbf',random_state = 42,probability=True)\n",
    "ksvc.fit(X_train,y_train)"
   ]
  },
  {
   "cell_type": "code",
   "execution_count": null,
   "metadata": {},
   "outputs": [],
   "source": [
    "y_pred_ksvc= ksvc.predict(X_test)"
   ]
  },
  {
   "cell_type": "code",
   "execution_count": null,
   "metadata": {},
   "outputs": [],
   "source": [
    "ksvc_score_train = ksvc.score(X_train,y_train)\n",
    "print(\"Train Prediction Score\",ksvc_score_train*100)\n",
    "ksvc_score_test = accuracy_score(y_test,y_pred_ksvc)\n",
    "print(\"Test Prediction Score\",ksvc_score_test*100)"
   ]
  },
  {
   "cell_type": "code",
   "execution_count": null,
   "metadata": {},
   "outputs": [],
   "source": [
    "cm = confusion_matrix(y_test, y_pred_ksvc)\n",
    "print(cm)"
   ]
  },
  {
   "cell_type": "code",
   "execution_count": null,
   "metadata": {},
   "outputs": [],
   "source": [
    "print(classification_report(y_test,y_pred_ksvc))"
   ]
  },
  {
   "cell_type": "code",
   "execution_count": 13,
   "metadata": {},
   "outputs": [],
   "source": [
    "#naive_bayes\n",
    "from sklearn.naive_bayes import GaussianNB"
   ]
  },
  {
   "cell_type": "code",
   "execution_count": 14,
   "metadata": {},
   "outputs": [
    {
     "data": {
      "text/plain": [
       "GaussianNB(priors=None, var_smoothing=1e-09)"
      ]
     },
     "execution_count": 14,
     "metadata": {},
     "output_type": "execute_result"
    }
   ],
   "source": [
    "nb = GaussianNB()\n",
    "nb.fit(X_train,y_train)"
   ]
  },
  {
   "cell_type": "code",
   "execution_count": 15,
   "metadata": {},
   "outputs": [],
   "source": [
    "y_pred_nb= nb.predict(X_test)"
   ]
  },
  {
   "cell_type": "code",
   "execution_count": 16,
   "metadata": {},
   "outputs": [
    {
     "name": "stdout",
     "output_type": "stream",
     "text": [
      "Train Prediction Score 51.549651222140305\n",
      "Test Prediction Score 51.49562329215765\n"
     ]
    }
   ],
   "source": [
    "nb_score_train = nb.score(X_train,y_train)\n",
    "print(\"Train Prediction Score\",nb_score_train*100)\n",
    "nb_score_test = accuracy_score(y_test,y_pred_nb)\n",
    "print(\"Test Prediction Score\",nb_score_test*100)"
   ]
  },
  {
   "cell_type": "code",
   "execution_count": 17,
   "metadata": {},
   "outputs": [
    {
     "name": "stdout",
     "output_type": "stream",
     "text": [
      "[[39035 38537]\n",
      " [34773 38796]]\n"
     ]
    }
   ],
   "source": [
    "cm = confusion_matrix(y_test, y_pred_nb)\n",
    "print(cm)"
   ]
  },
  {
   "cell_type": "code",
   "execution_count": 18,
   "metadata": {},
   "outputs": [
    {
     "name": "stdout",
     "output_type": "stream",
     "text": [
      "              precision    recall  f1-score   support\n",
      "\n",
      "           0       0.53      0.50      0.52     77572\n",
      "           1       0.50      0.53      0.51     73569\n",
      "\n",
      "    accuracy                           0.51    151141\n",
      "   macro avg       0.52      0.52      0.51    151141\n",
      "weighted avg       0.52      0.51      0.51    151141\n",
      "\n"
     ]
    }
   ],
   "source": [
    "print(classification_report(y_test,y_pred_nb))"
   ]
  },
  {
   "cell_type": "code",
   "execution_count": 19,
   "metadata": {},
   "outputs": [
    {
     "name": "stderr",
     "output_type": "stream",
     "text": [
      "Using TensorFlow backend.\n"
     ]
    }
   ],
   "source": [
    "#neuralnetwork\n",
    "from keras.models import Sequential\n",
    "from keras.layers import Dense\n",
    "from keras.utils import to_categorical\n",
    "from keras.callbacks import EarlyStopping"
   ]
  },
  {
   "cell_type": "code",
   "execution_count": 27,
   "metadata": {},
   "outputs": [
    {
     "name": "stdout",
     "output_type": "stream",
     "text": [
      "Train on 211596 samples, validate on 141064 samples\n",
      "Epoch 1/10\n",
      "211596/211596 [==============================] - 25s 118us/step - loss: 0.6928 - accuracy: 0.5120 - val_loss: 0.6927 - val_accuracy: 0.5125\n",
      "Epoch 2/10\n",
      "211596/211596 [==============================] - 21s 98us/step - loss: 0.6925 - accuracy: 0.5125 - val_loss: 0.6920 - val_accuracy: 0.5165\n",
      "Epoch 3/10\n",
      "211596/211596 [==============================] - 27265s 129ms/step - loss: 0.6919 - accuracy: 0.5134 - val_loss: 0.6916 - val_accuracy: 0.5153\n",
      "Epoch 4/10\n",
      "211596/211596 [==============================] - 11s 54us/step - loss: 0.6919 - accuracy: 0.5128 - val_loss: 0.6916 - val_accuracy: 0.5152\n",
      "Epoch 5/10\n",
      "211596/211596 [==============================] - 11s 52us/step - loss: 0.6919 - accuracy: 0.5135 - val_loss: 0.6916 - val_accuracy: 0.5140\n",
      "Epoch 6/10\n",
      "211596/211596 [==============================] - 10s 47us/step - loss: 0.6919 - accuracy: 0.5136 - val_loss: 0.6917 - val_accuracy: 0.5146\n",
      "Epoch 7/10\n",
      "211596/211596 [==============================] - 10s 47us/step - loss: 0.6919 - accuracy: 0.5126 - val_loss: 0.6916 - val_accuracy: 0.5142\n",
      "Epoch 8/10\n",
      "211596/211596 [==============================] - 11s 50us/step - loss: 0.6919 - accuracy: 0.5123 - val_loss: 0.6915 - val_accuracy: 0.5136\n",
      "Epoch 9/10\n",
      "211596/211596 [==============================] - 10s 50us/step - loss: 0.6919 - accuracy: 0.5126 - val_loss: 0.6916 - val_accuracy: 0.5138\n",
      "Epoch 10/10\n",
      "211596/211596 [==============================] - 11s 50us/step - loss: 0.6919 - accuracy: 0.5136 - val_loss: 0.6918 - val_accuracy: 0.5185\n"
     ]
    },
    {
     "data": {
      "text/plain": [
       "<keras.callbacks.callbacks.History at 0x1a0cf75da08>"
      ]
     },
     "execution_count": 27,
     "metadata": {},
     "output_type": "execute_result"
    }
   ],
   "source": [
    "#2layer\n",
    "model = Sequential()\n",
    "n_cols = X_train.shape[1]\n",
    "n_cols\n",
    "model.add(Dense(2, activation='relu', input_shape=(n_cols,)))\n",
    "model.add(Dense(1, activation='sigmoid'))\n",
    "model.compile(optimizer='adam', loss='binary_crossentropy', metrics=['accuracy'])\n",
    "early_stopping_monitor = EarlyStopping(patience=20)\n",
    "model.fit(X_train, y_train, epochs=10, validation_split=0.4 )"
   ]
  },
  {
   "cell_type": "code",
   "execution_count": 28,
   "metadata": {},
   "outputs": [
    {
     "name": "stdout",
     "output_type": "stream",
     "text": [
      "Train on 211596 samples, validate on 141064 samples\n",
      "Epoch 1/10\n",
      "211596/211596 [==============================] - 23s 107us/step - loss: 0.6933 - accuracy: 0.5139 - val_loss: 0.6922 - val_accuracy: 0.5171\n",
      "Epoch 2/10\n",
      "211596/211596 [==============================] - 25s 120us/step - loss: 0.6920 - accuracy: 0.5131 - val_loss: 0.6916 - val_accuracy: 0.5144\n",
      "Epoch 3/10\n",
      "211596/211596 [==============================] - 25s 119us/step - loss: 0.6919 - accuracy: 0.5130 - val_loss: 0.6916 - val_accuracy: 0.5159\n",
      "Epoch 4/10\n",
      "211596/211596 [==============================] - 25s 118us/step - loss: 0.6919 - accuracy: 0.5141 - val_loss: 0.6916 - val_accuracy: 0.5161\n",
      "Epoch 5/10\n",
      "211596/211596 [==============================] - 25s 116us/step - loss: 0.6919 - accuracy: 0.5134 - val_loss: 0.6917 - val_accuracy: 0.5146\n",
      "Epoch 6/10\n",
      "211596/211596 [==============================] - 23s 107us/step - loss: 0.6919 - accuracy: 0.5127 - val_loss: 0.6916 - val_accuracy: 0.5140\n",
      "Epoch 7/10\n",
      "211596/211596 [==============================] - 24s 112us/step - loss: 0.6919 - accuracy: 0.5122 - val_loss: 0.6915 - val_accuracy: 0.5157\n",
      "Epoch 8/10\n",
      "211596/211596 [==============================] - 24s 112us/step - loss: 0.6919 - accuracy: 0.5119 - val_loss: 0.6916 - val_accuracy: 0.5142\n",
      "Epoch 9/10\n",
      "211596/211596 [==============================] - 32s 150us/step - loss: 0.6919 - accuracy: 0.5132 - val_loss: 0.6916 - val_accuracy: 0.5140\n",
      "Epoch 10/10\n",
      "211596/211596 [==============================] - 32s 151us/step - loss: 0.6919 - accuracy: 0.5122 - val_loss: 0.6915 - val_accuracy: 0.5153\n"
     ]
    },
    {
     "data": {
      "text/plain": [
       "<keras.callbacks.callbacks.History at 0x1a0d0b65488>"
      ]
     },
     "execution_count": 28,
     "metadata": {},
     "output_type": "execute_result"
    }
   ],
   "source": [
    "#3layer\n",
    "model = Sequential()\n",
    "n_cols = X_train.shape[1]\n",
    "n_cols\n",
    "model.add(Dense(4, activation='relu', input_shape=(n_cols,)))\n",
    "model.add(Dense(2, activation='relu'))\n",
    "model.add(Dense(1, activation='sigmoid'))\n",
    "model.compile(optimizer='adam', loss='binary_crossentropy', metrics=['accuracy'])\n",
    "early_stopping_monitor = EarlyStopping(patience=20)\n",
    "model.fit(X_train, y_train, epochs=10, validation_split=0.4 )"
   ]
  },
  {
   "cell_type": "code",
   "execution_count": 29,
   "metadata": {},
   "outputs": [
    {
     "name": "stdout",
     "output_type": "stream",
     "text": [
      "Train on 211596 samples, validate on 141064 samples\n",
      "Epoch 1/10\n",
      "211596/211596 [==============================] - 32s 149us/step - loss: 0.6923 - accuracy: 0.5128 - val_loss: 0.6916 - val_accuracy: 0.5145\n",
      "Epoch 2/10\n",
      "211596/211596 [==============================] - 29s 138us/step - loss: 0.6919 - accuracy: 0.5129 - val_loss: 0.6918 - val_accuracy: 0.5182\n",
      "Epoch 3/10\n",
      "211596/211596 [==============================] - 30s 140us/step - loss: 0.6919 - accuracy: 0.5129 - val_loss: 0.6915 - val_accuracy: 0.5152\n",
      "Epoch 4/10\n",
      "211596/211596 [==============================] - 31s 146us/step - loss: 0.6919 - accuracy: 0.5138 - val_loss: 0.6917 - val_accuracy: 0.5145\n",
      "Epoch 5/10\n",
      "211596/211596 [==============================] - 30s 141us/step - loss: 0.6919 - accuracy: 0.5129 - val_loss: 0.6916 - val_accuracy: 0.5147\n",
      "Epoch 6/10\n",
      "211596/211596 [==============================] - 30s 141us/step - loss: 0.6919 - accuracy: 0.5130 - val_loss: 0.6915 - val_accuracy: 0.5160\n",
      "Epoch 7/10\n",
      "211596/211596 [==============================] - 28s 133us/step - loss: 0.6919 - accuracy: 0.5135 - val_loss: 0.6916 - val_accuracy: 0.5169\n",
      "Epoch 8/10\n",
      "211596/211596 [==============================] - 30s 141us/step - loss: 0.6919 - accuracy: 0.5127 - val_loss: 0.6915 - val_accuracy: 0.5150\n",
      "Epoch 9/10\n",
      "211596/211596 [==============================] - 28s 132us/step - loss: 0.6919 - accuracy: 0.5134 - val_loss: 0.6915 - val_accuracy: 0.5136\n",
      "Epoch 10/10\n",
      "211596/211596 [==============================] - 29s 136us/step - loss: 0.6919 - accuracy: 0.5130 - val_loss: 0.6915 - val_accuracy: 0.5156\n"
     ]
    },
    {
     "data": {
      "text/plain": [
       "<keras.callbacks.callbacks.History at 0x1a0d1376908>"
      ]
     },
     "execution_count": 29,
     "metadata": {},
     "output_type": "execute_result"
    }
   ],
   "source": [
    "#4layer\n",
    "model = Sequential()\n",
    "n_cols = X_train.shape[1]\n",
    "n_cols\n",
    "model.add(Dense(8, activation='relu', input_shape=(n_cols,)))\n",
    "model.add(Dense(4, activation='relu'))\n",
    "model.add(Dense(2, activation='relu'))\n",
    "model.add(Dense(1, activation='sigmoid'))\n",
    "model.compile(optimizer='sgd', loss='binary_crossentropy', metrics=['accuracy'])\n",
    "early_stopping_monitor = EarlyStopping(patience=20)\n",
    "model.fit(X_train, y_train, epochs=10, validation_split=0.4 )"
   ]
  },
  {
   "cell_type": "code",
   "execution_count": null,
   "metadata": {},
   "outputs": [],
   "source": []
  }
 ],
 "metadata": {
  "kernelspec": {
   "display_name": "Python 3",
   "language": "python",
   "name": "python3"
  },
  "language_info": {
   "codemirror_mode": {
    "name": "ipython",
    "version": 3
   },
   "file_extension": ".py",
   "mimetype": "text/x-python",
   "name": "python",
   "nbconvert_exporter": "python",
   "pygments_lexer": "ipython3",
   "version": "3.7.4"
  }
 },
 "nbformat": 4,
 "nbformat_minor": 4
}
