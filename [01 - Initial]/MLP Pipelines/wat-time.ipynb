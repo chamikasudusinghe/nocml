{
 "cells": [
  {
   "cell_type": "code",
   "execution_count": 1,
   "metadata": {},
   "outputs": [],
   "source": [
    "import pandas as pd\n",
    "import numpy as np\n",
    "import matplotlib.pyplot as plt\n",
    "import seaborn as sns"
   ]
  },
  {
   "cell_type": "code",
   "execution_count": 95,
   "metadata": {},
   "outputs": [],
   "source": [
    "from sklearn import preprocessing\n",
    "from sklearn.model_selection import train_test_split\n",
    "from sklearn.preprocessing import LabelEncoder\n",
    "from sklearn.decomposition import PCA"
   ]
  },
  {
   "cell_type": "code",
   "execution_count": 3,
   "metadata": {},
   "outputs": [
    {
     "data": {
      "text/html": [
       "<div>\n",
       "<style scoped>\n",
       "    .dataframe tbody tr th:only-of-type {\n",
       "        vertical-align: middle;\n",
       "    }\n",
       "\n",
       "    .dataframe tbody tr th {\n",
       "        vertical-align: top;\n",
       "    }\n",
       "\n",
       "    .dataframe thead th {\n",
       "        text-align: right;\n",
       "    }\n",
       "</style>\n",
       "<table border=\"1\" class=\"dataframe\">\n",
       "  <thead>\n",
       "    <tr style=\"text-align: right;\">\n",
       "      <th></th>\n",
       "      <th>time</th>\n",
       "      <th>router</th>\n",
       "      <th>outport</th>\n",
       "      <th>inport</th>\n",
       "      <th>packet_address</th>\n",
       "      <th>packet_type</th>\n",
       "      <th>flit_id</th>\n",
       "      <th>flit_type</th>\n",
       "      <th>vnet</th>\n",
       "      <th>vc</th>\n",
       "      <th>src_ni</th>\n",
       "      <th>src_router</th>\n",
       "      <th>dst_ni</th>\n",
       "      <th>dst_router</th>\n",
       "      <th>enq_time</th>\n",
       "      <th>packet_address_id</th>\n",
       "      <th>target</th>\n",
       "    </tr>\n",
       "  </thead>\n",
       "  <tbody>\n",
       "    <tr>\n",
       "      <td>0</td>\n",
       "      <td>7</td>\n",
       "      <td>0</td>\n",
       "      <td>2</td>\n",
       "      <td>0</td>\n",
       "      <td>0x1dc0</td>\n",
       "      <td>0</td>\n",
       "      <td>0</td>\n",
       "      <td>3</td>\n",
       "      <td>2</td>\n",
       "      <td>8</td>\n",
       "      <td>0</td>\n",
       "      <td>0</td>\n",
       "      <td>23</td>\n",
       "      <td>7</td>\n",
       "      <td>3</td>\n",
       "      <td>892</td>\n",
       "      <td>1</td>\n",
       "    </tr>\n",
       "    <tr>\n",
       "      <td>1</td>\n",
       "      <td>7</td>\n",
       "      <td>1</td>\n",
       "      <td>1</td>\n",
       "      <td>0</td>\n",
       "      <td>0xecf40</td>\n",
       "      <td>0</td>\n",
       "      <td>0</td>\n",
       "      <td>3</td>\n",
       "      <td>2</td>\n",
       "      <td>8</td>\n",
       "      <td>1</td>\n",
       "      <td>1</td>\n",
       "      <td>29</td>\n",
       "      <td>13</td>\n",
       "      <td>3</td>\n",
       "      <td>2261</td>\n",
       "      <td>0</td>\n",
       "    </tr>\n",
       "    <tr>\n",
       "      <td>2</td>\n",
       "      <td>7</td>\n",
       "      <td>0</td>\n",
       "      <td>2</td>\n",
       "      <td>0</td>\n",
       "      <td>0x1dc0</td>\n",
       "      <td>0</td>\n",
       "      <td>0</td>\n",
       "      <td>3</td>\n",
       "      <td>2</td>\n",
       "      <td>8</td>\n",
       "      <td>0</td>\n",
       "      <td>0</td>\n",
       "      <td>23</td>\n",
       "      <td>7</td>\n",
       "      <td>3</td>\n",
       "      <td>359</td>\n",
       "      <td>0</td>\n",
       "    </tr>\n",
       "    <tr>\n",
       "      <td>3</td>\n",
       "      <td>11</td>\n",
       "      <td>5</td>\n",
       "      <td>1</td>\n",
       "      <td>3</td>\n",
       "      <td>0xecf40</td>\n",
       "      <td>0</td>\n",
       "      <td>0</td>\n",
       "      <td>3</td>\n",
       "      <td>2</td>\n",
       "      <td>8</td>\n",
       "      <td>1</td>\n",
       "      <td>1</td>\n",
       "      <td>29</td>\n",
       "      <td>13</td>\n",
       "      <td>3</td>\n",
       "      <td>2261</td>\n",
       "      <td>0</td>\n",
       "    </tr>\n",
       "    <tr>\n",
       "      <td>4</td>\n",
       "      <td>11</td>\n",
       "      <td>1</td>\n",
       "      <td>2</td>\n",
       "      <td>4</td>\n",
       "      <td>0x1dc0</td>\n",
       "      <td>0</td>\n",
       "      <td>0</td>\n",
       "      <td>3</td>\n",
       "      <td>2</td>\n",
       "      <td>8</td>\n",
       "      <td>0</td>\n",
       "      <td>0</td>\n",
       "      <td>23</td>\n",
       "      <td>7</td>\n",
       "      <td>3</td>\n",
       "      <td>359</td>\n",
       "      <td>0</td>\n",
       "    </tr>\n",
       "    <tr>\n",
       "      <td>...</td>\n",
       "      <td>...</td>\n",
       "      <td>...</td>\n",
       "      <td>...</td>\n",
       "      <td>...</td>\n",
       "      <td>...</td>\n",
       "      <td>...</td>\n",
       "      <td>...</td>\n",
       "      <td>...</td>\n",
       "      <td>...</td>\n",
       "      <td>...</td>\n",
       "      <td>...</td>\n",
       "      <td>...</td>\n",
       "      <td>...</td>\n",
       "      <td>...</td>\n",
       "      <td>...</td>\n",
       "      <td>...</td>\n",
       "      <td>...</td>\n",
       "    </tr>\n",
       "    <tr>\n",
       "      <td>504035</td>\n",
       "      <td>3152966</td>\n",
       "      <td>8</td>\n",
       "      <td>3</td>\n",
       "      <td>2</td>\n",
       "      <td>0x4d2c0</td>\n",
       "      <td>1</td>\n",
       "      <td>2</td>\n",
       "      <td>1</td>\n",
       "      <td>4</td>\n",
       "      <td>16</td>\n",
       "      <td>27</td>\n",
       "      <td>11</td>\n",
       "      <td>0</td>\n",
       "      <td>0</td>\n",
       "      <td>3152948</td>\n",
       "      <td>1205</td>\n",
       "      <td>1</td>\n",
       "    </tr>\n",
       "    <tr>\n",
       "      <td>504036</td>\n",
       "      <td>3152967</td>\n",
       "      <td>8</td>\n",
       "      <td>3</td>\n",
       "      <td>2</td>\n",
       "      <td>0x4d2c0</td>\n",
       "      <td>1</td>\n",
       "      <td>3</td>\n",
       "      <td>1</td>\n",
       "      <td>4</td>\n",
       "      <td>16</td>\n",
       "      <td>27</td>\n",
       "      <td>11</td>\n",
       "      <td>0</td>\n",
       "      <td>0</td>\n",
       "      <td>3152948</td>\n",
       "      <td>1205</td>\n",
       "      <td>1</td>\n",
       "    </tr>\n",
       "    <tr>\n",
       "      <td>504037</td>\n",
       "      <td>3152967</td>\n",
       "      <td>9</td>\n",
       "      <td>4</td>\n",
       "      <td>2</td>\n",
       "      <td>0x4d2c0</td>\n",
       "      <td>1</td>\n",
       "      <td>4</td>\n",
       "      <td>2</td>\n",
       "      <td>4</td>\n",
       "      <td>16</td>\n",
       "      <td>27</td>\n",
       "      <td>11</td>\n",
       "      <td>0</td>\n",
       "      <td>0</td>\n",
       "      <td>3152948</td>\n",
       "      <td>1205</td>\n",
       "      <td>1</td>\n",
       "    </tr>\n",
       "    <tr>\n",
       "      <td>504038</td>\n",
       "      <td>3152968</td>\n",
       "      <td>4</td>\n",
       "      <td>3</td>\n",
       "      <td>1</td>\n",
       "      <td>0x4d2c0</td>\n",
       "      <td>1</td>\n",
       "      <td>0</td>\n",
       "      <td>0</td>\n",
       "      <td>4</td>\n",
       "      <td>16</td>\n",
       "      <td>27</td>\n",
       "      <td>11</td>\n",
       "      <td>0</td>\n",
       "      <td>0</td>\n",
       "      <td>3152948</td>\n",
       "      <td>1205</td>\n",
       "      <td>1</td>\n",
       "    </tr>\n",
       "    <tr>\n",
       "      <td>504039</td>\n",
       "      <td>3152969</td>\n",
       "      <td>4</td>\n",
       "      <td>3</td>\n",
       "      <td>1</td>\n",
       "      <td>0x4d2c0</td>\n",
       "      <td>1</td>\n",
       "      <td>1</td>\n",
       "      <td>1</td>\n",
       "      <td>4</td>\n",
       "      <td>16</td>\n",
       "      <td>27</td>\n",
       "      <td>11</td>\n",
       "      <td>0</td>\n",
       "      <td>0</td>\n",
       "      <td>3152948</td>\n",
       "      <td>1205</td>\n",
       "      <td>1</td>\n",
       "    </tr>\n",
       "  </tbody>\n",
       "</table>\n",
       "<p>504040 rows × 17 columns</p>\n",
       "</div>"
      ],
      "text/plain": [
       "           time  router  outport  inport packet_address  packet_type  flit_id  \\\n",
       "0             7       0        2       0         0x1dc0            0        0   \n",
       "1             7       1        1       0        0xecf40            0        0   \n",
       "2             7       0        2       0         0x1dc0            0        0   \n",
       "3            11       5        1       3        0xecf40            0        0   \n",
       "4            11       1        2       4         0x1dc0            0        0   \n",
       "...         ...     ...      ...     ...            ...          ...      ...   \n",
       "504035  3152966       8        3       2        0x4d2c0            1        2   \n",
       "504036  3152967       8        3       2        0x4d2c0            1        3   \n",
       "504037  3152967       9        4       2        0x4d2c0            1        4   \n",
       "504038  3152968       4        3       1        0x4d2c0            1        0   \n",
       "504039  3152969       4        3       1        0x4d2c0            1        1   \n",
       "\n",
       "        flit_type  vnet  vc  src_ni  src_router  dst_ni  dst_router  enq_time  \\\n",
       "0               3     2   8       0           0      23           7         3   \n",
       "1               3     2   8       1           1      29          13         3   \n",
       "2               3     2   8       0           0      23           7         3   \n",
       "3               3     2   8       1           1      29          13         3   \n",
       "4               3     2   8       0           0      23           7         3   \n",
       "...           ...   ...  ..     ...         ...     ...         ...       ...   \n",
       "504035          1     4  16      27          11       0           0   3152948   \n",
       "504036          1     4  16      27          11       0           0   3152948   \n",
       "504037          2     4  16      27          11       0           0   3152948   \n",
       "504038          0     4  16      27          11       0           0   3152948   \n",
       "504039          1     4  16      27          11       0           0   3152948   \n",
       "\n",
       "        packet_address_id  target  \n",
       "0                     892       1  \n",
       "1                    2261       0  \n",
       "2                     359       0  \n",
       "3                    2261       0  \n",
       "4                     359       0  \n",
       "...                   ...     ...  \n",
       "504035               1205       1  \n",
       "504036               1205       1  \n",
       "504037               1205       1  \n",
       "504038               1205       1  \n",
       "504039               1205       1  \n",
       "\n",
       "[504040 rows x 17 columns]"
      ]
     },
     "execution_count": 3,
     "metadata": {},
     "output_type": "execute_result"
    }
   ],
   "source": [
    "df = pd.read_csv(\"wat-all.csv\")\n",
    "df"
   ]
  },
  {
   "cell_type": "code",
   "execution_count": 11,
   "metadata": {},
   "outputs": [
    {
     "data": {
      "text/html": [
       "<div>\n",
       "<style scoped>\n",
       "    .dataframe tbody tr th:only-of-type {\n",
       "        vertical-align: middle;\n",
       "    }\n",
       "\n",
       "    .dataframe tbody tr th {\n",
       "        vertical-align: top;\n",
       "    }\n",
       "\n",
       "    .dataframe thead th {\n",
       "        text-align: right;\n",
       "    }\n",
       "</style>\n",
       "<table border=\"1\" class=\"dataframe\">\n",
       "  <thead>\n",
       "    <tr style=\"text-align: right;\">\n",
       "      <th></th>\n",
       "      <th>time</th>\n",
       "      <th>router</th>\n",
       "      <th>outport</th>\n",
       "      <th>inport</th>\n",
       "      <th>packet_address</th>\n",
       "      <th>packet_type</th>\n",
       "      <th>flit_id</th>\n",
       "      <th>flit_type</th>\n",
       "      <th>vnet</th>\n",
       "      <th>vc</th>\n",
       "      <th>src_ni</th>\n",
       "      <th>src_router</th>\n",
       "      <th>dst_ni</th>\n",
       "      <th>dst_router</th>\n",
       "      <th>enq_time</th>\n",
       "      <th>packet_address_id</th>\n",
       "      <th>target</th>\n",
       "    </tr>\n",
       "  </thead>\n",
       "  <tbody>\n",
       "    <tr>\n",
       "      <td>0</td>\n",
       "      <td>7</td>\n",
       "      <td>0</td>\n",
       "      <td>2</td>\n",
       "      <td>0</td>\n",
       "      <td>0x1dc0</td>\n",
       "      <td>0</td>\n",
       "      <td>0</td>\n",
       "      <td>3</td>\n",
       "      <td>2</td>\n",
       "      <td>8</td>\n",
       "      <td>0</td>\n",
       "      <td>0</td>\n",
       "      <td>23</td>\n",
       "      <td>7</td>\n",
       "      <td>3</td>\n",
       "      <td>1160</td>\n",
       "      <td>1</td>\n",
       "    </tr>\n",
       "    <tr>\n",
       "      <td>1</td>\n",
       "      <td>7</td>\n",
       "      <td>1</td>\n",
       "      <td>1</td>\n",
       "      <td>0</td>\n",
       "      <td>0xecf40</td>\n",
       "      <td>0</td>\n",
       "      <td>0</td>\n",
       "      <td>3</td>\n",
       "      <td>2</td>\n",
       "      <td>8</td>\n",
       "      <td>1</td>\n",
       "      <td>1</td>\n",
       "      <td>29</td>\n",
       "      <td>13</td>\n",
       "      <td>3</td>\n",
       "      <td>3066</td>\n",
       "      <td>0</td>\n",
       "    </tr>\n",
       "    <tr>\n",
       "      <td>2</td>\n",
       "      <td>7</td>\n",
       "      <td>0</td>\n",
       "      <td>2</td>\n",
       "      <td>0</td>\n",
       "      <td>0x1dc0</td>\n",
       "      <td>0</td>\n",
       "      <td>0</td>\n",
       "      <td>3</td>\n",
       "      <td>2</td>\n",
       "      <td>8</td>\n",
       "      <td>0</td>\n",
       "      <td>0</td>\n",
       "      <td>23</td>\n",
       "      <td>7</td>\n",
       "      <td>3</td>\n",
       "      <td>1160</td>\n",
       "      <td>0</td>\n",
       "    </tr>\n",
       "    <tr>\n",
       "      <td>3</td>\n",
       "      <td>11</td>\n",
       "      <td>5</td>\n",
       "      <td>1</td>\n",
       "      <td>3</td>\n",
       "      <td>0xecf40</td>\n",
       "      <td>0</td>\n",
       "      <td>0</td>\n",
       "      <td>3</td>\n",
       "      <td>2</td>\n",
       "      <td>8</td>\n",
       "      <td>1</td>\n",
       "      <td>1</td>\n",
       "      <td>29</td>\n",
       "      <td>13</td>\n",
       "      <td>3</td>\n",
       "      <td>3066</td>\n",
       "      <td>0</td>\n",
       "    </tr>\n",
       "    <tr>\n",
       "      <td>4</td>\n",
       "      <td>11</td>\n",
       "      <td>1</td>\n",
       "      <td>2</td>\n",
       "      <td>4</td>\n",
       "      <td>0x1dc0</td>\n",
       "      <td>0</td>\n",
       "      <td>0</td>\n",
       "      <td>3</td>\n",
       "      <td>2</td>\n",
       "      <td>8</td>\n",
       "      <td>0</td>\n",
       "      <td>0</td>\n",
       "      <td>23</td>\n",
       "      <td>7</td>\n",
       "      <td>3</td>\n",
       "      <td>1160</td>\n",
       "      <td>0</td>\n",
       "    </tr>\n",
       "    <tr>\n",
       "      <td>...</td>\n",
       "      <td>...</td>\n",
       "      <td>...</td>\n",
       "      <td>...</td>\n",
       "      <td>...</td>\n",
       "      <td>...</td>\n",
       "      <td>...</td>\n",
       "      <td>...</td>\n",
       "      <td>...</td>\n",
       "      <td>...</td>\n",
       "      <td>...</td>\n",
       "      <td>...</td>\n",
       "      <td>...</td>\n",
       "      <td>...</td>\n",
       "      <td>...</td>\n",
       "      <td>...</td>\n",
       "      <td>...</td>\n",
       "      <td>...</td>\n",
       "    </tr>\n",
       "    <tr>\n",
       "      <td>504035</td>\n",
       "      <td>3152966</td>\n",
       "      <td>8</td>\n",
       "      <td>3</td>\n",
       "      <td>2</td>\n",
       "      <td>0x4d2c0</td>\n",
       "      <td>1</td>\n",
       "      <td>2</td>\n",
       "      <td>1</td>\n",
       "      <td>4</td>\n",
       "      <td>16</td>\n",
       "      <td>27</td>\n",
       "      <td>11</td>\n",
       "      <td>0</td>\n",
       "      <td>0</td>\n",
       "      <td>3152948</td>\n",
       "      <td>2349</td>\n",
       "      <td>1</td>\n",
       "    </tr>\n",
       "    <tr>\n",
       "      <td>504036</td>\n",
       "      <td>3152967</td>\n",
       "      <td>8</td>\n",
       "      <td>3</td>\n",
       "      <td>2</td>\n",
       "      <td>0x4d2c0</td>\n",
       "      <td>1</td>\n",
       "      <td>3</td>\n",
       "      <td>1</td>\n",
       "      <td>4</td>\n",
       "      <td>16</td>\n",
       "      <td>27</td>\n",
       "      <td>11</td>\n",
       "      <td>0</td>\n",
       "      <td>0</td>\n",
       "      <td>3152948</td>\n",
       "      <td>2349</td>\n",
       "      <td>1</td>\n",
       "    </tr>\n",
       "    <tr>\n",
       "      <td>504037</td>\n",
       "      <td>3152967</td>\n",
       "      <td>9</td>\n",
       "      <td>4</td>\n",
       "      <td>2</td>\n",
       "      <td>0x4d2c0</td>\n",
       "      <td>1</td>\n",
       "      <td>4</td>\n",
       "      <td>2</td>\n",
       "      <td>4</td>\n",
       "      <td>16</td>\n",
       "      <td>27</td>\n",
       "      <td>11</td>\n",
       "      <td>0</td>\n",
       "      <td>0</td>\n",
       "      <td>3152948</td>\n",
       "      <td>2349</td>\n",
       "      <td>1</td>\n",
       "    </tr>\n",
       "    <tr>\n",
       "      <td>504038</td>\n",
       "      <td>3152968</td>\n",
       "      <td>4</td>\n",
       "      <td>3</td>\n",
       "      <td>1</td>\n",
       "      <td>0x4d2c0</td>\n",
       "      <td>1</td>\n",
       "      <td>0</td>\n",
       "      <td>0</td>\n",
       "      <td>4</td>\n",
       "      <td>16</td>\n",
       "      <td>27</td>\n",
       "      <td>11</td>\n",
       "      <td>0</td>\n",
       "      <td>0</td>\n",
       "      <td>3152948</td>\n",
       "      <td>2349</td>\n",
       "      <td>1</td>\n",
       "    </tr>\n",
       "    <tr>\n",
       "      <td>504039</td>\n",
       "      <td>3152969</td>\n",
       "      <td>4</td>\n",
       "      <td>3</td>\n",
       "      <td>1</td>\n",
       "      <td>0x4d2c0</td>\n",
       "      <td>1</td>\n",
       "      <td>1</td>\n",
       "      <td>1</td>\n",
       "      <td>4</td>\n",
       "      <td>16</td>\n",
       "      <td>27</td>\n",
       "      <td>11</td>\n",
       "      <td>0</td>\n",
       "      <td>0</td>\n",
       "      <td>3152948</td>\n",
       "      <td>2349</td>\n",
       "      <td>1</td>\n",
       "    </tr>\n",
       "  </tbody>\n",
       "</table>\n",
       "<p>504040 rows × 17 columns</p>\n",
       "</div>"
      ],
      "text/plain": [
       "           time  router  outport  inport packet_address  packet_type  flit_id  \\\n",
       "0             7       0        2       0         0x1dc0            0        0   \n",
       "1             7       1        1       0        0xecf40            0        0   \n",
       "2             7       0        2       0         0x1dc0            0        0   \n",
       "3            11       5        1       3        0xecf40            0        0   \n",
       "4            11       1        2       4         0x1dc0            0        0   \n",
       "...         ...     ...      ...     ...            ...          ...      ...   \n",
       "504035  3152966       8        3       2        0x4d2c0            1        2   \n",
       "504036  3152967       8        3       2        0x4d2c0            1        3   \n",
       "504037  3152967       9        4       2        0x4d2c0            1        4   \n",
       "504038  3152968       4        3       1        0x4d2c0            1        0   \n",
       "504039  3152969       4        3       1        0x4d2c0            1        1   \n",
       "\n",
       "        flit_type  vnet  vc  src_ni  src_router  dst_ni  dst_router  enq_time  \\\n",
       "0               3     2   8       0           0      23           7         3   \n",
       "1               3     2   8       1           1      29          13         3   \n",
       "2               3     2   8       0           0      23           7         3   \n",
       "3               3     2   8       1           1      29          13         3   \n",
       "4               3     2   8       0           0      23           7         3   \n",
       "...           ...   ...  ..     ...         ...     ...         ...       ...   \n",
       "504035          1     4  16      27          11       0           0   3152948   \n",
       "504036          1     4  16      27          11       0           0   3152948   \n",
       "504037          2     4  16      27          11       0           0   3152948   \n",
       "504038          0     4  16      27          11       0           0   3152948   \n",
       "504039          1     4  16      27          11       0           0   3152948   \n",
       "\n",
       "        packet_address_id  target  \n",
       "0                    1160       1  \n",
       "1                    3066       0  \n",
       "2                    1160       0  \n",
       "3                    3066       0  \n",
       "4                    1160       0  \n",
       "...                   ...     ...  \n",
       "504035               2349       1  \n",
       "504036               2349       1  \n",
       "504037               2349       1  \n",
       "504038               2349       1  \n",
       "504039               2349       1  \n",
       "\n",
       "[504040 rows x 17 columns]"
      ]
     },
     "execution_count": 11,
     "metadata": {},
     "output_type": "execute_result"
    }
   ],
   "source": [
    "dff = pd.DataFrame(df['packet_address'], columns=['packet_address'])\n",
    "le = LabelEncoder()\n",
    "encode = dff[dff.columns[:]].apply(le.fit_transform)\n",
    "df['packet_address_id'] = encode\n",
    "df"
   ]
  },
  {
   "cell_type": "code",
   "execution_count": 12,
   "metadata": {},
   "outputs": [
    {
     "data": {
      "text/html": [
       "<div>\n",
       "<style scoped>\n",
       "    .dataframe tbody tr th:only-of-type {\n",
       "        vertical-align: middle;\n",
       "    }\n",
       "\n",
       "    .dataframe tbody tr th {\n",
       "        vertical-align: top;\n",
       "    }\n",
       "\n",
       "    .dataframe thead th {\n",
       "        text-align: right;\n",
       "    }\n",
       "</style>\n",
       "<table border=\"1\" class=\"dataframe\">\n",
       "  <thead>\n",
       "    <tr style=\"text-align: right;\">\n",
       "      <th></th>\n",
       "      <th>time</th>\n",
       "      <th>router</th>\n",
       "      <th>outport</th>\n",
       "      <th>inport</th>\n",
       "      <th>packet_type</th>\n",
       "      <th>flit_id</th>\n",
       "      <th>flit_type</th>\n",
       "      <th>vnet</th>\n",
       "      <th>vc</th>\n",
       "      <th>src_ni</th>\n",
       "      <th>src_router</th>\n",
       "      <th>dst_ni</th>\n",
       "      <th>dst_router</th>\n",
       "      <th>enq_time</th>\n",
       "      <th>packet_address_id</th>\n",
       "      <th>target</th>\n",
       "    </tr>\n",
       "  </thead>\n",
       "  <tbody>\n",
       "    <tr>\n",
       "      <td>time</td>\n",
       "      <td>1.000000</td>\n",
       "      <td>0.025157</td>\n",
       "      <td>-0.016825</td>\n",
       "      <td>0.016375</td>\n",
       "      <td>0.045872</td>\n",
       "      <td>-0.000019</td>\n",
       "      <td>-0.000020</td>\n",
       "      <td>-0.041161</td>\n",
       "      <td>-0.045102</td>\n",
       "      <td>-0.023185</td>\n",
       "      <td>-0.002798</td>\n",
       "      <td>0.045011</td>\n",
       "      <td>0.054493</td>\n",
       "      <td>1.000000</td>\n",
       "      <td>-0.201906</td>\n",
       "      <td>0.047745</td>\n",
       "    </tr>\n",
       "    <tr>\n",
       "      <td>router</td>\n",
       "      <td>0.025157</td>\n",
       "      <td>1.000000</td>\n",
       "      <td>0.311228</td>\n",
       "      <td>0.047617</td>\n",
       "      <td>-0.042331</td>\n",
       "      <td>0.002395</td>\n",
       "      <td>-0.003780</td>\n",
       "      <td>0.178998</td>\n",
       "      <td>0.169018</td>\n",
       "      <td>0.297251</td>\n",
       "      <td>0.425807</td>\n",
       "      <td>-0.110032</td>\n",
       "      <td>0.016156</td>\n",
       "      <td>0.025157</td>\n",
       "      <td>-0.036129</td>\n",
       "      <td>0.002485</td>\n",
       "    </tr>\n",
       "    <tr>\n",
       "      <td>outport</td>\n",
       "      <td>-0.016825</td>\n",
       "      <td>0.311228</td>\n",
       "      <td>1.000000</td>\n",
       "      <td>-0.359564</td>\n",
       "      <td>-0.108256</td>\n",
       "      <td>0.006052</td>\n",
       "      <td>-0.009565</td>\n",
       "      <td>0.482558</td>\n",
       "      <td>0.516584</td>\n",
       "      <td>0.509907</td>\n",
       "      <td>0.459022</td>\n",
       "      <td>-0.485092</td>\n",
       "      <td>-0.401589</td>\n",
       "      <td>-0.016820</td>\n",
       "      <td>0.011772</td>\n",
       "      <td>0.003407</td>\n",
       "    </tr>\n",
       "    <tr>\n",
       "      <td>inport</td>\n",
       "      <td>0.016375</td>\n",
       "      <td>0.047617</td>\n",
       "      <td>-0.359564</td>\n",
       "      <td>1.000000</td>\n",
       "      <td>0.111575</td>\n",
       "      <td>-0.006102</td>\n",
       "      <td>0.009632</td>\n",
       "      <td>-0.488682</td>\n",
       "      <td>-0.578135</td>\n",
       "      <td>-0.490140</td>\n",
       "      <td>-0.403628</td>\n",
       "      <td>0.515266</td>\n",
       "      <td>0.464305</td>\n",
       "      <td>0.016370</td>\n",
       "      <td>0.000855</td>\n",
       "      <td>0.007999</td>\n",
       "    </tr>\n",
       "    <tr>\n",
       "      <td>packet_type</td>\n",
       "      <td>0.045872</td>\n",
       "      <td>-0.042331</td>\n",
       "      <td>-0.108256</td>\n",
       "      <td>0.111575</td>\n",
       "      <td>1.000000</td>\n",
       "      <td>0.008387</td>\n",
       "      <td>-0.013272</td>\n",
       "      <td>-0.395071</td>\n",
       "      <td>-0.430033</td>\n",
       "      <td>-0.211123</td>\n",
       "      <td>-0.175386</td>\n",
       "      <td>0.210071</td>\n",
       "      <td>0.173351</td>\n",
       "      <td>0.045874</td>\n",
       "      <td>-0.013021</td>\n",
       "      <td>0.007953</td>\n",
       "    </tr>\n",
       "    <tr>\n",
       "      <td>flit_id</td>\n",
       "      <td>-0.000019</td>\n",
       "      <td>0.002395</td>\n",
       "      <td>0.006052</td>\n",
       "      <td>-0.006102</td>\n",
       "      <td>0.008387</td>\n",
       "      <td>1.000000</td>\n",
       "      <td>0.079060</td>\n",
       "      <td>0.107364</td>\n",
       "      <td>0.083671</td>\n",
       "      <td>0.012444</td>\n",
       "      <td>0.010379</td>\n",
       "      <td>-0.012476</td>\n",
       "      <td>-0.010481</td>\n",
       "      <td>-0.000023</td>\n",
       "      <td>-0.000006</td>\n",
       "      <td>-0.000004</td>\n",
       "    </tr>\n",
       "    <tr>\n",
       "      <td>flit_type</td>\n",
       "      <td>-0.000020</td>\n",
       "      <td>-0.003780</td>\n",
       "      <td>-0.009565</td>\n",
       "      <td>0.009632</td>\n",
       "      <td>-0.013272</td>\n",
       "      <td>0.079060</td>\n",
       "      <td>1.000000</td>\n",
       "      <td>-0.169743</td>\n",
       "      <td>-0.132280</td>\n",
       "      <td>-0.019663</td>\n",
       "      <td>-0.016404</td>\n",
       "      <td>0.019717</td>\n",
       "      <td>0.016574</td>\n",
       "      <td>-0.000024</td>\n",
       "      <td>0.000005</td>\n",
       "      <td>0.000019</td>\n",
       "    </tr>\n",
       "    <tr>\n",
       "      <td>vnet</td>\n",
       "      <td>-0.041161</td>\n",
       "      <td>0.178998</td>\n",
       "      <td>0.482558</td>\n",
       "      <td>-0.488682</td>\n",
       "      <td>-0.395071</td>\n",
       "      <td>0.107364</td>\n",
       "      <td>-0.169743</td>\n",
       "      <td>1.000000</td>\n",
       "      <td>0.977135</td>\n",
       "      <td>0.930521</td>\n",
       "      <td>0.768846</td>\n",
       "      <td>-0.931435</td>\n",
       "      <td>-0.773016</td>\n",
       "      <td>-0.041155</td>\n",
       "      <td>0.011678</td>\n",
       "      <td>-0.007137</td>\n",
       "    </tr>\n",
       "    <tr>\n",
       "      <td>vc</td>\n",
       "      <td>-0.045102</td>\n",
       "      <td>0.169018</td>\n",
       "      <td>0.516584</td>\n",
       "      <td>-0.578135</td>\n",
       "      <td>-0.430033</td>\n",
       "      <td>0.083671</td>\n",
       "      <td>-0.132280</td>\n",
       "      <td>0.977135</td>\n",
       "      <td>1.000000</td>\n",
       "      <td>0.902311</td>\n",
       "      <td>0.735741</td>\n",
       "      <td>-0.914002</td>\n",
       "      <td>-0.765335</td>\n",
       "      <td>-0.045096</td>\n",
       "      <td>0.013860</td>\n",
       "      <td>-0.008493</td>\n",
       "    </tr>\n",
       "    <tr>\n",
       "      <td>src_ni</td>\n",
       "      <td>-0.023185</td>\n",
       "      <td>0.297251</td>\n",
       "      <td>0.509907</td>\n",
       "      <td>-0.490140</td>\n",
       "      <td>-0.211123</td>\n",
       "      <td>0.012444</td>\n",
       "      <td>-0.019663</td>\n",
       "      <td>0.930521</td>\n",
       "      <td>0.902311</td>\n",
       "      <td>1.000000</td>\n",
       "      <td>0.925837</td>\n",
       "      <td>-0.935948</td>\n",
       "      <td>-0.776937</td>\n",
       "      <td>-0.023179</td>\n",
       "      <td>-0.003014</td>\n",
       "      <td>-0.004519</td>\n",
       "    </tr>\n",
       "    <tr>\n",
       "      <td>src_router</td>\n",
       "      <td>-0.002798</td>\n",
       "      <td>0.425807</td>\n",
       "      <td>0.459022</td>\n",
       "      <td>-0.403628</td>\n",
       "      <td>-0.175386</td>\n",
       "      <td>0.010379</td>\n",
       "      <td>-0.016404</td>\n",
       "      <td>0.768846</td>\n",
       "      <td>0.735741</td>\n",
       "      <td>0.925837</td>\n",
       "      <td>1.000000</td>\n",
       "      <td>-0.773110</td>\n",
       "      <td>-0.641794</td>\n",
       "      <td>-0.002794</td>\n",
       "      <td>-0.021808</td>\n",
       "      <td>-0.001668</td>\n",
       "    </tr>\n",
       "    <tr>\n",
       "      <td>dst_ni</td>\n",
       "      <td>0.045011</td>\n",
       "      <td>-0.110032</td>\n",
       "      <td>-0.485092</td>\n",
       "      <td>0.515266</td>\n",
       "      <td>0.210071</td>\n",
       "      <td>-0.012476</td>\n",
       "      <td>0.019717</td>\n",
       "      <td>-0.931435</td>\n",
       "      <td>-0.914002</td>\n",
       "      <td>-0.935948</td>\n",
       "      <td>-0.773110</td>\n",
       "      <td>1.000000</td>\n",
       "      <td>0.927150</td>\n",
       "      <td>0.045005</td>\n",
       "      <td>-0.023336</td>\n",
       "      <td>0.006933</td>\n",
       "    </tr>\n",
       "    <tr>\n",
       "      <td>dst_router</td>\n",
       "      <td>0.054493</td>\n",
       "      <td>0.016156</td>\n",
       "      <td>-0.401589</td>\n",
       "      <td>0.464305</td>\n",
       "      <td>0.173351</td>\n",
       "      <td>-0.010481</td>\n",
       "      <td>0.016574</td>\n",
       "      <td>-0.773016</td>\n",
       "      <td>-0.765335</td>\n",
       "      <td>-0.776937</td>\n",
       "      <td>-0.641794</td>\n",
       "      <td>0.927150</td>\n",
       "      <td>1.000000</td>\n",
       "      <td>0.054487</td>\n",
       "      <td>-0.040538</td>\n",
       "      <td>0.007386</td>\n",
       "    </tr>\n",
       "    <tr>\n",
       "      <td>enq_time</td>\n",
       "      <td>1.000000</td>\n",
       "      <td>0.025157</td>\n",
       "      <td>-0.016820</td>\n",
       "      <td>0.016370</td>\n",
       "      <td>0.045874</td>\n",
       "      <td>-0.000023</td>\n",
       "      <td>-0.000024</td>\n",
       "      <td>-0.041155</td>\n",
       "      <td>-0.045096</td>\n",
       "      <td>-0.023179</td>\n",
       "      <td>-0.002794</td>\n",
       "      <td>0.045005</td>\n",
       "      <td>0.054487</td>\n",
       "      <td>1.000000</td>\n",
       "      <td>-0.201906</td>\n",
       "      <td>0.047745</td>\n",
       "    </tr>\n",
       "    <tr>\n",
       "      <td>packet_address_id</td>\n",
       "      <td>-0.201906</td>\n",
       "      <td>-0.036129</td>\n",
       "      <td>0.011772</td>\n",
       "      <td>0.000855</td>\n",
       "      <td>-0.013021</td>\n",
       "      <td>-0.000006</td>\n",
       "      <td>0.000005</td>\n",
       "      <td>0.011678</td>\n",
       "      <td>0.013860</td>\n",
       "      <td>-0.003014</td>\n",
       "      <td>-0.021808</td>\n",
       "      <td>-0.023336</td>\n",
       "      <td>-0.040538</td>\n",
       "      <td>-0.201906</td>\n",
       "      <td>1.000000</td>\n",
       "      <td>-0.317958</td>\n",
       "    </tr>\n",
       "    <tr>\n",
       "      <td>target</td>\n",
       "      <td>0.047745</td>\n",
       "      <td>0.002485</td>\n",
       "      <td>0.003407</td>\n",
       "      <td>0.007999</td>\n",
       "      <td>0.007953</td>\n",
       "      <td>-0.000004</td>\n",
       "      <td>0.000019</td>\n",
       "      <td>-0.007137</td>\n",
       "      <td>-0.008493</td>\n",
       "      <td>-0.004519</td>\n",
       "      <td>-0.001668</td>\n",
       "      <td>0.006933</td>\n",
       "      <td>0.007386</td>\n",
       "      <td>0.047745</td>\n",
       "      <td>-0.317958</td>\n",
       "      <td>1.000000</td>\n",
       "    </tr>\n",
       "  </tbody>\n",
       "</table>\n",
       "</div>"
      ],
      "text/plain": [
       "                       time    router   outport    inport  packet_type  \\\n",
       "time               1.000000  0.025157 -0.016825  0.016375     0.045872   \n",
       "router             0.025157  1.000000  0.311228  0.047617    -0.042331   \n",
       "outport           -0.016825  0.311228  1.000000 -0.359564    -0.108256   \n",
       "inport             0.016375  0.047617 -0.359564  1.000000     0.111575   \n",
       "packet_type        0.045872 -0.042331 -0.108256  0.111575     1.000000   \n",
       "flit_id           -0.000019  0.002395  0.006052 -0.006102     0.008387   \n",
       "flit_type         -0.000020 -0.003780 -0.009565  0.009632    -0.013272   \n",
       "vnet              -0.041161  0.178998  0.482558 -0.488682    -0.395071   \n",
       "vc                -0.045102  0.169018  0.516584 -0.578135    -0.430033   \n",
       "src_ni            -0.023185  0.297251  0.509907 -0.490140    -0.211123   \n",
       "src_router        -0.002798  0.425807  0.459022 -0.403628    -0.175386   \n",
       "dst_ni             0.045011 -0.110032 -0.485092  0.515266     0.210071   \n",
       "dst_router         0.054493  0.016156 -0.401589  0.464305     0.173351   \n",
       "enq_time           1.000000  0.025157 -0.016820  0.016370     0.045874   \n",
       "packet_address_id -0.201906 -0.036129  0.011772  0.000855    -0.013021   \n",
       "target             0.047745  0.002485  0.003407  0.007999     0.007953   \n",
       "\n",
       "                    flit_id  flit_type      vnet        vc    src_ni  \\\n",
       "time              -0.000019  -0.000020 -0.041161 -0.045102 -0.023185   \n",
       "router             0.002395  -0.003780  0.178998  0.169018  0.297251   \n",
       "outport            0.006052  -0.009565  0.482558  0.516584  0.509907   \n",
       "inport            -0.006102   0.009632 -0.488682 -0.578135 -0.490140   \n",
       "packet_type        0.008387  -0.013272 -0.395071 -0.430033 -0.211123   \n",
       "flit_id            1.000000   0.079060  0.107364  0.083671  0.012444   \n",
       "flit_type          0.079060   1.000000 -0.169743 -0.132280 -0.019663   \n",
       "vnet               0.107364  -0.169743  1.000000  0.977135  0.930521   \n",
       "vc                 0.083671  -0.132280  0.977135  1.000000  0.902311   \n",
       "src_ni             0.012444  -0.019663  0.930521  0.902311  1.000000   \n",
       "src_router         0.010379  -0.016404  0.768846  0.735741  0.925837   \n",
       "dst_ni            -0.012476   0.019717 -0.931435 -0.914002 -0.935948   \n",
       "dst_router        -0.010481   0.016574 -0.773016 -0.765335 -0.776937   \n",
       "enq_time          -0.000023  -0.000024 -0.041155 -0.045096 -0.023179   \n",
       "packet_address_id -0.000006   0.000005  0.011678  0.013860 -0.003014   \n",
       "target            -0.000004   0.000019 -0.007137 -0.008493 -0.004519   \n",
       "\n",
       "                   src_router    dst_ni  dst_router  enq_time  \\\n",
       "time                -0.002798  0.045011    0.054493  1.000000   \n",
       "router               0.425807 -0.110032    0.016156  0.025157   \n",
       "outport              0.459022 -0.485092   -0.401589 -0.016820   \n",
       "inport              -0.403628  0.515266    0.464305  0.016370   \n",
       "packet_type         -0.175386  0.210071    0.173351  0.045874   \n",
       "flit_id              0.010379 -0.012476   -0.010481 -0.000023   \n",
       "flit_type           -0.016404  0.019717    0.016574 -0.000024   \n",
       "vnet                 0.768846 -0.931435   -0.773016 -0.041155   \n",
       "vc                   0.735741 -0.914002   -0.765335 -0.045096   \n",
       "src_ni               0.925837 -0.935948   -0.776937 -0.023179   \n",
       "src_router           1.000000 -0.773110   -0.641794 -0.002794   \n",
       "dst_ni              -0.773110  1.000000    0.927150  0.045005   \n",
       "dst_router          -0.641794  0.927150    1.000000  0.054487   \n",
       "enq_time            -0.002794  0.045005    0.054487  1.000000   \n",
       "packet_address_id   -0.021808 -0.023336   -0.040538 -0.201906   \n",
       "target              -0.001668  0.006933    0.007386  0.047745   \n",
       "\n",
       "                   packet_address_id    target  \n",
       "time                       -0.201906  0.047745  \n",
       "router                     -0.036129  0.002485  \n",
       "outport                     0.011772  0.003407  \n",
       "inport                      0.000855  0.007999  \n",
       "packet_type                -0.013021  0.007953  \n",
       "flit_id                    -0.000006 -0.000004  \n",
       "flit_type                   0.000005  0.000019  \n",
       "vnet                        0.011678 -0.007137  \n",
       "vc                          0.013860 -0.008493  \n",
       "src_ni                     -0.003014 -0.004519  \n",
       "src_router                 -0.021808 -0.001668  \n",
       "dst_ni                     -0.023336  0.006933  \n",
       "dst_router                 -0.040538  0.007386  \n",
       "enq_time                   -0.201906  0.047745  \n",
       "packet_address_id           1.000000 -0.317958  \n",
       "target                     -0.317958  1.000000  "
      ]
     },
     "execution_count": 12,
     "metadata": {},
     "output_type": "execute_result"
    }
   ],
   "source": [
    "df.corr()"
   ]
  },
  {
   "cell_type": "code",
   "execution_count": 13,
   "metadata": {},
   "outputs": [
    {
     "data": {
      "image/png": "[encoded data removed]",
      "text/plain": [
       "<Figure size 1080x1080 with 2 Axes>"
      ]
     },
     "metadata": {
      "needs_background": "light"
     },
     "output_type": "display_data"
    }
   ],
   "source": [
    "plt.figure(figsize=(15,15))\n",
    "sns.heatmap(df.corr(), annot = True)\n",
    "plt.show()"
   ]
  },
  {
   "cell_type": "code",
   "execution_count": 69,
   "metadata": {},
   "outputs": [],
   "source": [
    "train_X = df.drop(columns=['target','time','packet_address','packet_address_id'])"
   ]
  },
  {
   "cell_type": "code",
   "execution_count": 70,
   "metadata": {},
   "outputs": [
    {
     "data": {
      "text/plain": [
       "<matplotlib.axes._subplots.AxesSubplot at 0x236e4caf7c8>"
      ]
     },
     "execution_count": 70,
     "metadata": {},
     "output_type": "execute_result"
    },
    {
     "data": {
      "image/png": "[encoded data removed]",
      "text/plain": [
       "<Figure size 432x288 with 1 Axes>"
      ]
     },
     "metadata": {
      "needs_background": "light"
     },
     "output_type": "display_data"
    }
   ],
   "source": [
    "sns.distplot(df['router'], kde = False, bins=30, color='blue')"
   ]
  },
  {
   "cell_type": "code",
   "execution_count": 93,
   "metadata": {},
   "outputs": [
    {
     "data": {
      "text/plain": [
       "<matplotlib.axes._subplots.AxesSubplot at 0x236f91b2e88>"
      ]
     },
     "execution_count": 93,
     "metadata": {},
     "output_type": "execute_result"
    },
    {
     "data": {
      "image/png": "[encoded data removed]",
      "text/plain": [
       "<Figure size 432x288 with 1 Axes>"
      ]
     },
     "metadata": {
      "needs_background": "light"
     },
     "output_type": "display_data"
    }
   ],
   "source": [
    "sns.distplot(df['src_router'], kde = False, bins=30, color='orange')"
   ]
  },
  {
   "cell_type": "code",
   "execution_count": 17,
   "metadata": {},
   "outputs": [
    {
     "data": {
      "text/plain": [
       "<matplotlib.axes._subplots.AxesSubplot at 0x236d74371c8>"
      ]
     },
     "execution_count": 17,
     "metadata": {},
     "output_type": "execute_result"
    },
    {
     "data": {
      "image/png": "[encoded data removed]",
      "text/plain": [
       "<Figure size 432x288 with 1 Axes>"
      ]
     },
     "metadata": {
      "needs_background": "light"
     },
     "output_type": "display_data"
    }
   ],
   "source": [
    "sns.distplot(df['dst_router'], kde = False, bins=30, color='red')"
   ]
  },
  {
   "cell_type": "code",
   "execution_count": 22,
   "metadata": {},
   "outputs": [
    {
     "data": {
      "image/png": "[encoded data removed]",
      "text/plain": [
       "<Figure size 432x288 with 1 Axes>"
      ]
     },
     "metadata": {
      "needs_background": "light"
     },
     "output_type": "display_data"
    }
   ],
   "source": [
    "sns.distplot(df['inport'], kde = False, bins=30, color='green')\n",
    "direction = {'Local': 0,'North': 1, 'East': 2, 'South':3,'West':4}"
   ]
  },
  {
   "cell_type": "code",
   "execution_count": 23,
   "metadata": {},
   "outputs": [
    {
     "data": {
      "image/png": "[encoded data removed]",
      "text/plain": [
       "<Figure size 432x288 with 1 Axes>"
      ]
     },
     "metadata": {
      "needs_background": "light"
     },
     "output_type": "display_data"
    }
   ],
   "source": [
    "sns.distplot(df['outport'], kde = False, bins=30, color='black')\n",
    "direction = {'Local': 0,'North': 1, 'East': 2, 'South':3,'West':4}"
   ]
  },
  {
   "cell_type": "code",
   "execution_count": 24,
   "metadata": {},
   "outputs": [
    {
     "data": {
      "image/png": "[encoded data removed]",
      "text/plain": [
       "<Figure size 432x288 with 1 Axes>"
      ]
     },
     "metadata": {
      "needs_background": "light"
     },
     "output_type": "display_data"
    }
   ],
   "source": [
    "sns.distplot(df['packet_type'], kde = False, bins=30, color='grey')\n",
    "data = {'GETX': 0,'DATA': 1, 'PUTX': 2, 'WB_ACK':3}"
   ]
  },
  {
   "cell_type": "code",
   "execution_count": 25,
   "metadata": {},
   "outputs": [
    {
     "data": {
      "text/plain": [
       "Text(0, 0.5, 'time')"
      ]
     },
     "execution_count": 25,
     "metadata": {},
     "output_type": "execute_result"
    },
    {
     "data": {
      "image/png": "[encoded data removed]",
      "text/plain": [
       "<Figure size 432x288 with 1 Axes>"
      ]
     },
     "metadata": {
      "needs_background": "light"
     },
     "output_type": "display_data"
    }
   ],
   "source": [
    "# scatter plot\n",
    "fig, ax = plt.subplots()\n",
    "\n",
    "ax.scatter(df['router'], df['time'])\n",
    "# set a title and labels\n",
    "ax.set_xlabel('router')\n",
    "ax.set_ylabel('time')"
   ]
  },
  {
   "cell_type": "code",
   "execution_count": 29,
   "metadata": {},
   "outputs": [],
   "source": [
    "df_500 = pd.read_csv('wat-all.csv',nrows=500)"
   ]
  },
  {
   "cell_type": "code",
   "execution_count": 30,
   "metadata": {},
   "outputs": [
    {
     "data": {
      "text/plain": [
       "Text(0, 0.5, 'time')"
      ]
     },
     "execution_count": 30,
     "metadata": {},
     "output_type": "execute_result"
    },
    {
     "data": {
      "image/png": "[encoded data removed]",
      "text/plain": [
       "<Figure size 432x288 with 1 Axes>"
      ]
     },
     "metadata": {
      "needs_background": "light"
     },
     "output_type": "display_data"
    }
   ],
   "source": [
    "# scatter plot 500\n",
    "\n",
    "fig, ax = plt.subplots()\n",
    "\n",
    "ax.scatter(df_500['router'], df_500['time'])\n",
    "\n",
    "# set a title and labels\n",
    "ax.set_xlabel('router')\n",
    "ax.set_ylabel('time')"
   ]
  },
  {
   "cell_type": "code",
   "execution_count": 31,
   "metadata": {},
   "outputs": [
    {
     "data": {
      "text/plain": [
       "Text(0, 0.5, 'Frequency')"
      ]
     },
     "execution_count": 31,
     "metadata": {},
     "output_type": "execute_result"
    },
    {
     "data": {
      "image/png": "[encoded data removed]",
      "text/plain": [
       "<Figure size 432x288 with 1 Axes>"
      ]
     },
     "metadata": {
      "needs_background": "light"
     },
     "output_type": "display_data"
    }
   ],
   "source": [
    "# bar chart by router\n",
    "\n",
    "fig, ax = plt.subplots() \n",
    "\n",
    "# count the occurrence of each class \n",
    "data = df_500['router'].value_counts()\n",
    "\n",
    "# get x and y data \n",
    "points = data.index \n",
    "frequency = data.values\n",
    "\n",
    "# create bar chart \n",
    "ax.bar(points, frequency)\n",
    "\n",
    "# set title and labels \n",
    "ax.set_xlabel('Routers') \n",
    "ax.set_ylabel('Frequency')"
   ]
  },
  {
   "cell_type": "code",
   "execution_count": 32,
   "metadata": {},
   "outputs": [
    {
     "data": {
      "text/plain": [
       "Text(0, 0.5, 'Frequency')"
      ]
     },
     "execution_count": 32,
     "metadata": {},
     "output_type": "execute_result"
    },
    {
     "data": {
      "image/png": "[encoded data removed]",
      "text/plain": [
       "<Figure size 432x288 with 1 Axes>"
      ]
     },
     "metadata": {
      "needs_background": "light"
     },
     "output_type": "display_data"
    }
   ],
   "source": [
    "# bar chart by time\n",
    "\n",
    "fig, ax = plt.subplots() \n",
    "\n",
    "# count the occurrence of each class \n",
    "data = df_500['time'].value_counts()\n",
    "\n",
    "# get x and y data \n",
    "points = data.index \n",
    "frequency = data.values\n",
    "\n",
    "# create bar chart \n",
    "ax.bar(points, frequency)\n",
    "\n",
    "# set title and labels \n",
    "ax.set_xlabel('Time') \n",
    "ax.set_ylabel('Frequency')"
   ]
  },
  {
   "cell_type": "code",
   "execution_count": 72,
   "metadata": {},
   "outputs": [
    {
     "data": {
      "text/html": [
       "<div>\n",
       "<style scoped>\n",
       "    .dataframe tbody tr th:only-of-type {\n",
       "        vertical-align: middle;\n",
       "    }\n",
       "\n",
       "    .dataframe tbody tr th {\n",
       "        vertical-align: top;\n",
       "    }\n",
       "\n",
       "    .dataframe thead th {\n",
       "        text-align: right;\n",
       "    }\n",
       "</style>\n",
       "<table border=\"1\" class=\"dataframe\">\n",
       "  <thead>\n",
       "    <tr style=\"text-align: right;\">\n",
       "      <th></th>\n",
       "      <th>0</th>\n",
       "      <th>1</th>\n",
       "      <th>2</th>\n",
       "      <th>3</th>\n",
       "      <th>4</th>\n",
       "      <th>5</th>\n",
       "      <th>6</th>\n",
       "      <th>7</th>\n",
       "      <th>8</th>\n",
       "      <th>9</th>\n",
       "      <th>10</th>\n",
       "      <th>11</th>\n",
       "      <th>12</th>\n",
       "    </tr>\n",
       "  </thead>\n",
       "  <tbody>\n",
       "    <tr>\n",
       "      <td>0</td>\n",
       "      <td>0.000000</td>\n",
       "      <td>0.50</td>\n",
       "      <td>0.00</td>\n",
       "      <td>0.000000</td>\n",
       "      <td>0.00</td>\n",
       "      <td>1.000000</td>\n",
       "      <td>0.0</td>\n",
       "      <td>0.000000</td>\n",
       "      <td>0.000000</td>\n",
       "      <td>0.000000</td>\n",
       "      <td>0.741935</td>\n",
       "      <td>0.466667</td>\n",
       "      <td>0.0</td>\n",
       "    </tr>\n",
       "    <tr>\n",
       "      <td>1</td>\n",
       "      <td>0.066667</td>\n",
       "      <td>0.25</td>\n",
       "      <td>0.00</td>\n",
       "      <td>0.000000</td>\n",
       "      <td>0.00</td>\n",
       "      <td>1.000000</td>\n",
       "      <td>0.0</td>\n",
       "      <td>0.000000</td>\n",
       "      <td>0.032258</td>\n",
       "      <td>0.066667</td>\n",
       "      <td>0.935484</td>\n",
       "      <td>0.866667</td>\n",
       "      <td>0.0</td>\n",
       "    </tr>\n",
       "    <tr>\n",
       "      <td>2</td>\n",
       "      <td>0.000000</td>\n",
       "      <td>0.50</td>\n",
       "      <td>0.00</td>\n",
       "      <td>0.000000</td>\n",
       "      <td>0.00</td>\n",
       "      <td>1.000000</td>\n",
       "      <td>0.0</td>\n",
       "      <td>0.000000</td>\n",
       "      <td>0.000000</td>\n",
       "      <td>0.000000</td>\n",
       "      <td>0.741935</td>\n",
       "      <td>0.466667</td>\n",
       "      <td>0.0</td>\n",
       "    </tr>\n",
       "    <tr>\n",
       "      <td>3</td>\n",
       "      <td>0.333333</td>\n",
       "      <td>0.25</td>\n",
       "      <td>0.75</td>\n",
       "      <td>0.000000</td>\n",
       "      <td>0.00</td>\n",
       "      <td>1.000000</td>\n",
       "      <td>0.0</td>\n",
       "      <td>0.000000</td>\n",
       "      <td>0.032258</td>\n",
       "      <td>0.066667</td>\n",
       "      <td>0.935484</td>\n",
       "      <td>0.866667</td>\n",
       "      <td>0.0</td>\n",
       "    </tr>\n",
       "    <tr>\n",
       "      <td>4</td>\n",
       "      <td>0.066667</td>\n",
       "      <td>0.50</td>\n",
       "      <td>1.00</td>\n",
       "      <td>0.000000</td>\n",
       "      <td>0.00</td>\n",
       "      <td>1.000000</td>\n",
       "      <td>0.0</td>\n",
       "      <td>0.000000</td>\n",
       "      <td>0.000000</td>\n",
       "      <td>0.000000</td>\n",
       "      <td>0.741935</td>\n",
       "      <td>0.466667</td>\n",
       "      <td>0.0</td>\n",
       "    </tr>\n",
       "    <tr>\n",
       "      <td>...</td>\n",
       "      <td>...</td>\n",
       "      <td>...</td>\n",
       "      <td>...</td>\n",
       "      <td>...</td>\n",
       "      <td>...</td>\n",
       "      <td>...</td>\n",
       "      <td>...</td>\n",
       "      <td>...</td>\n",
       "      <td>...</td>\n",
       "      <td>...</td>\n",
       "      <td>...</td>\n",
       "      <td>...</td>\n",
       "      <td>...</td>\n",
       "    </tr>\n",
       "    <tr>\n",
       "      <td>504035</td>\n",
       "      <td>0.533333</td>\n",
       "      <td>0.75</td>\n",
       "      <td>0.50</td>\n",
       "      <td>0.333333</td>\n",
       "      <td>0.50</td>\n",
       "      <td>0.333333</td>\n",
       "      <td>1.0</td>\n",
       "      <td>0.727273</td>\n",
       "      <td>0.870968</td>\n",
       "      <td>0.733333</td>\n",
       "      <td>0.000000</td>\n",
       "      <td>0.000000</td>\n",
       "      <td>1.0</td>\n",
       "    </tr>\n",
       "    <tr>\n",
       "      <td>504036</td>\n",
       "      <td>0.533333</td>\n",
       "      <td>0.75</td>\n",
       "      <td>0.50</td>\n",
       "      <td>0.333333</td>\n",
       "      <td>0.75</td>\n",
       "      <td>0.333333</td>\n",
       "      <td>1.0</td>\n",
       "      <td>0.727273</td>\n",
       "      <td>0.870968</td>\n",
       "      <td>0.733333</td>\n",
       "      <td>0.000000</td>\n",
       "      <td>0.000000</td>\n",
       "      <td>1.0</td>\n",
       "    </tr>\n",
       "    <tr>\n",
       "      <td>504037</td>\n",
       "      <td>0.600000</td>\n",
       "      <td>1.00</td>\n",
       "      <td>0.50</td>\n",
       "      <td>0.333333</td>\n",
       "      <td>1.00</td>\n",
       "      <td>0.666667</td>\n",
       "      <td>1.0</td>\n",
       "      <td>0.727273</td>\n",
       "      <td>0.870968</td>\n",
       "      <td>0.733333</td>\n",
       "      <td>0.000000</td>\n",
       "      <td>0.000000</td>\n",
       "      <td>1.0</td>\n",
       "    </tr>\n",
       "    <tr>\n",
       "      <td>504038</td>\n",
       "      <td>0.266667</td>\n",
       "      <td>0.75</td>\n",
       "      <td>0.25</td>\n",
       "      <td>0.333333</td>\n",
       "      <td>0.00</td>\n",
       "      <td>0.000000</td>\n",
       "      <td>1.0</td>\n",
       "      <td>0.727273</td>\n",
       "      <td>0.870968</td>\n",
       "      <td>0.733333</td>\n",
       "      <td>0.000000</td>\n",
       "      <td>0.000000</td>\n",
       "      <td>1.0</td>\n",
       "    </tr>\n",
       "    <tr>\n",
       "      <td>504039</td>\n",
       "      <td>0.266667</td>\n",
       "      <td>0.75</td>\n",
       "      <td>0.25</td>\n",
       "      <td>0.333333</td>\n",
       "      <td>0.25</td>\n",
       "      <td>0.333333</td>\n",
       "      <td>1.0</td>\n",
       "      <td>0.727273</td>\n",
       "      <td>0.870968</td>\n",
       "      <td>0.733333</td>\n",
       "      <td>0.000000</td>\n",
       "      <td>0.000000</td>\n",
       "      <td>1.0</td>\n",
       "    </tr>\n",
       "  </tbody>\n",
       "</table>\n",
       "<p>504040 rows × 13 columns</p>\n",
       "</div>"
      ],
      "text/plain": [
       "               0     1     2         3     4         5    6         7  \\\n",
       "0       0.000000  0.50  0.00  0.000000  0.00  1.000000  0.0  0.000000   \n",
       "1       0.066667  0.25  0.00  0.000000  0.00  1.000000  0.0  0.000000   \n",
       "2       0.000000  0.50  0.00  0.000000  0.00  1.000000  0.0  0.000000   \n",
       "3       0.333333  0.25  0.75  0.000000  0.00  1.000000  0.0  0.000000   \n",
       "4       0.066667  0.50  1.00  0.000000  0.00  1.000000  0.0  0.000000   \n",
       "...          ...   ...   ...       ...   ...       ...  ...       ...   \n",
       "504035  0.533333  0.75  0.50  0.333333  0.50  0.333333  1.0  0.727273   \n",
       "504036  0.533333  0.75  0.50  0.333333  0.75  0.333333  1.0  0.727273   \n",
       "504037  0.600000  1.00  0.50  0.333333  1.00  0.666667  1.0  0.727273   \n",
       "504038  0.266667  0.75  0.25  0.333333  0.00  0.000000  1.0  0.727273   \n",
       "504039  0.266667  0.75  0.25  0.333333  0.25  0.333333  1.0  0.727273   \n",
       "\n",
       "               8         9        10        11   12  \n",
       "0       0.000000  0.000000  0.741935  0.466667  0.0  \n",
       "1       0.032258  0.066667  0.935484  0.866667  0.0  \n",
       "2       0.000000  0.000000  0.741935  0.466667  0.0  \n",
       "3       0.032258  0.066667  0.935484  0.866667  0.0  \n",
       "4       0.000000  0.000000  0.741935  0.466667  0.0  \n",
       "...          ...       ...       ...       ...  ...  \n",
       "504035  0.870968  0.733333  0.000000  0.000000  1.0  \n",
       "504036  0.870968  0.733333  0.000000  0.000000  1.0  \n",
       "504037  0.870968  0.733333  0.000000  0.000000  1.0  \n",
       "504038  0.870968  0.733333  0.000000  0.000000  1.0  \n",
       "504039  0.870968  0.733333  0.000000  0.000000  1.0  \n",
       "\n",
       "[504040 rows x 13 columns]"
      ]
     },
     "execution_count": 72,
     "metadata": {},
     "output_type": "execute_result"
    }
   ],
   "source": [
    "#standardization\n",
    "x = train_X.values\n",
    "min_max_scaler = preprocessing.MinMaxScaler()\n",
    "x_scaled = min_max_scaler.fit_transform(x)\n",
    "train_X = pd.DataFrame(x_scaled)\n",
    "train_X"
   ]
  },
  {
   "cell_type": "code",
   "execution_count": 73,
   "metadata": {},
   "outputs": [
    {
     "data": {
      "text/html": [
       "<div>\n",
       "<style scoped>\n",
       "    .dataframe tbody tr th:only-of-type {\n",
       "        vertical-align: middle;\n",
       "    }\n",
       "\n",
       "    .dataframe tbody tr th {\n",
       "        vertical-align: top;\n",
       "    }\n",
       "\n",
       "    .dataframe thead th {\n",
       "        text-align: right;\n",
       "    }\n",
       "</style>\n",
       "<table border=\"1\" class=\"dataframe\">\n",
       "  <thead>\n",
       "    <tr style=\"text-align: right;\">\n",
       "      <th></th>\n",
       "      <th>0</th>\n",
       "      <th>1</th>\n",
       "      <th>2</th>\n",
       "      <th>3</th>\n",
       "      <th>4</th>\n",
       "      <th>5</th>\n",
       "      <th>6</th>\n",
       "      <th>7</th>\n",
       "      <th>8</th>\n",
       "      <th>9</th>\n",
       "      <th>10</th>\n",
       "      <th>11</th>\n",
       "      <th>12</th>\n",
       "      <th>target</th>\n",
       "    </tr>\n",
       "  </thead>\n",
       "  <tbody>\n",
       "    <tr>\n",
       "      <td>0</td>\n",
       "      <td>1.000000</td>\n",
       "      <td>0.311228</td>\n",
       "      <td>0.047617</td>\n",
       "      <td>-0.042331</td>\n",
       "      <td>0.002395</td>\n",
       "      <td>-0.003780</td>\n",
       "      <td>0.178998</td>\n",
       "      <td>0.169018</td>\n",
       "      <td>0.297251</td>\n",
       "      <td>0.425807</td>\n",
       "      <td>-0.110032</td>\n",
       "      <td>0.016156</td>\n",
       "      <td>0.025157</td>\n",
       "      <td>0.002485</td>\n",
       "    </tr>\n",
       "    <tr>\n",
       "      <td>1</td>\n",
       "      <td>0.311228</td>\n",
       "      <td>1.000000</td>\n",
       "      <td>-0.359564</td>\n",
       "      <td>-0.108256</td>\n",
       "      <td>0.006052</td>\n",
       "      <td>-0.009565</td>\n",
       "      <td>0.482558</td>\n",
       "      <td>0.516584</td>\n",
       "      <td>0.509907</td>\n",
       "      <td>0.459022</td>\n",
       "      <td>-0.485092</td>\n",
       "      <td>-0.401589</td>\n",
       "      <td>-0.016820</td>\n",
       "      <td>0.003407</td>\n",
       "    </tr>\n",
       "    <tr>\n",
       "      <td>2</td>\n",
       "      <td>0.047617</td>\n",
       "      <td>-0.359564</td>\n",
       "      <td>1.000000</td>\n",
       "      <td>0.111575</td>\n",
       "      <td>-0.006102</td>\n",
       "      <td>0.009632</td>\n",
       "      <td>-0.488682</td>\n",
       "      <td>-0.578135</td>\n",
       "      <td>-0.490140</td>\n",
       "      <td>-0.403628</td>\n",
       "      <td>0.515266</td>\n",
       "      <td>0.464305</td>\n",
       "      <td>0.016370</td>\n",
       "      <td>0.007999</td>\n",
       "    </tr>\n",
       "    <tr>\n",
       "      <td>3</td>\n",
       "      <td>-0.042331</td>\n",
       "      <td>-0.108256</td>\n",
       "      <td>0.111575</td>\n",
       "      <td>1.000000</td>\n",
       "      <td>0.008387</td>\n",
       "      <td>-0.013272</td>\n",
       "      <td>-0.395071</td>\n",
       "      <td>-0.430033</td>\n",
       "      <td>-0.211123</td>\n",
       "      <td>-0.175386</td>\n",
       "      <td>0.210071</td>\n",
       "      <td>0.173351</td>\n",
       "      <td>0.045874</td>\n",
       "      <td>0.007953</td>\n",
       "    </tr>\n",
       "    <tr>\n",
       "      <td>4</td>\n",
       "      <td>0.002395</td>\n",
       "      <td>0.006052</td>\n",
       "      <td>-0.006102</td>\n",
       "      <td>0.008387</td>\n",
       "      <td>1.000000</td>\n",
       "      <td>0.079060</td>\n",
       "      <td>0.107364</td>\n",
       "      <td>0.083671</td>\n",
       "      <td>0.012444</td>\n",
       "      <td>0.010379</td>\n",
       "      <td>-0.012476</td>\n",
       "      <td>-0.010481</td>\n",
       "      <td>-0.000023</td>\n",
       "      <td>-0.000004</td>\n",
       "    </tr>\n",
       "    <tr>\n",
       "      <td>5</td>\n",
       "      <td>-0.003780</td>\n",
       "      <td>-0.009565</td>\n",
       "      <td>0.009632</td>\n",
       "      <td>-0.013272</td>\n",
       "      <td>0.079060</td>\n",
       "      <td>1.000000</td>\n",
       "      <td>-0.169743</td>\n",
       "      <td>-0.132280</td>\n",
       "      <td>-0.019663</td>\n",
       "      <td>-0.016404</td>\n",
       "      <td>0.019717</td>\n",
       "      <td>0.016574</td>\n",
       "      <td>-0.000024</td>\n",
       "      <td>0.000019</td>\n",
       "    </tr>\n",
       "    <tr>\n",
       "      <td>6</td>\n",
       "      <td>0.178998</td>\n",
       "      <td>0.482558</td>\n",
       "      <td>-0.488682</td>\n",
       "      <td>-0.395071</td>\n",
       "      <td>0.107364</td>\n",
       "      <td>-0.169743</td>\n",
       "      <td>1.000000</td>\n",
       "      <td>0.977135</td>\n",
       "      <td>0.930521</td>\n",
       "      <td>0.768846</td>\n",
       "      <td>-0.931435</td>\n",
       "      <td>-0.773016</td>\n",
       "      <td>-0.041155</td>\n",
       "      <td>-0.007137</td>\n",
       "    </tr>\n",
       "    <tr>\n",
       "      <td>7</td>\n",
       "      <td>0.169018</td>\n",
       "      <td>0.516584</td>\n",
       "      <td>-0.578135</td>\n",
       "      <td>-0.430033</td>\n",
       "      <td>0.083671</td>\n",
       "      <td>-0.132280</td>\n",
       "      <td>0.977135</td>\n",
       "      <td>1.000000</td>\n",
       "      <td>0.902311</td>\n",
       "      <td>0.735741</td>\n",
       "      <td>-0.914002</td>\n",
       "      <td>-0.765335</td>\n",
       "      <td>-0.045096</td>\n",
       "      <td>-0.008493</td>\n",
       "    </tr>\n",
       "    <tr>\n",
       "      <td>8</td>\n",
       "      <td>0.297251</td>\n",
       "      <td>0.509907</td>\n",
       "      <td>-0.490140</td>\n",
       "      <td>-0.211123</td>\n",
       "      <td>0.012444</td>\n",
       "      <td>-0.019663</td>\n",
       "      <td>0.930521</td>\n",
       "      <td>0.902311</td>\n",
       "      <td>1.000000</td>\n",
       "      <td>0.925837</td>\n",
       "      <td>-0.935948</td>\n",
       "      <td>-0.776937</td>\n",
       "      <td>-0.023179</td>\n",
       "      <td>-0.004519</td>\n",
       "    </tr>\n",
       "    <tr>\n",
       "      <td>9</td>\n",
       "      <td>0.425807</td>\n",
       "      <td>0.459022</td>\n",
       "      <td>-0.403628</td>\n",
       "      <td>-0.175386</td>\n",
       "      <td>0.010379</td>\n",
       "      <td>-0.016404</td>\n",
       "      <td>0.768846</td>\n",
       "      <td>0.735741</td>\n",
       "      <td>0.925837</td>\n",
       "      <td>1.000000</td>\n",
       "      <td>-0.773110</td>\n",
       "      <td>-0.641794</td>\n",
       "      <td>-0.002794</td>\n",
       "      <td>-0.001668</td>\n",
       "    </tr>\n",
       "    <tr>\n",
       "      <td>10</td>\n",
       "      <td>-0.110032</td>\n",
       "      <td>-0.485092</td>\n",
       "      <td>0.515266</td>\n",
       "      <td>0.210071</td>\n",
       "      <td>-0.012476</td>\n",
       "      <td>0.019717</td>\n",
       "      <td>-0.931435</td>\n",
       "      <td>-0.914002</td>\n",
       "      <td>-0.935948</td>\n",
       "      <td>-0.773110</td>\n",
       "      <td>1.000000</td>\n",
       "      <td>0.927150</td>\n",
       "      <td>0.045005</td>\n",
       "      <td>0.006933</td>\n",
       "    </tr>\n",
       "    <tr>\n",
       "      <td>11</td>\n",
       "      <td>0.016156</td>\n",
       "      <td>-0.401589</td>\n",
       "      <td>0.464305</td>\n",
       "      <td>0.173351</td>\n",
       "      <td>-0.010481</td>\n",
       "      <td>0.016574</td>\n",
       "      <td>-0.773016</td>\n",
       "      <td>-0.765335</td>\n",
       "      <td>-0.776937</td>\n",
       "      <td>-0.641794</td>\n",
       "      <td>0.927150</td>\n",
       "      <td>1.000000</td>\n",
       "      <td>0.054487</td>\n",
       "      <td>0.007386</td>\n",
       "    </tr>\n",
       "    <tr>\n",
       "      <td>12</td>\n",
       "      <td>0.025157</td>\n",
       "      <td>-0.016820</td>\n",
       "      <td>0.016370</td>\n",
       "      <td>0.045874</td>\n",
       "      <td>-0.000023</td>\n",
       "      <td>-0.000024</td>\n",
       "      <td>-0.041155</td>\n",
       "      <td>-0.045096</td>\n",
       "      <td>-0.023179</td>\n",
       "      <td>-0.002794</td>\n",
       "      <td>0.045005</td>\n",
       "      <td>0.054487</td>\n",
       "      <td>1.000000</td>\n",
       "      <td>0.047745</td>\n",
       "    </tr>\n",
       "    <tr>\n",
       "      <td>target</td>\n",
       "      <td>0.002485</td>\n",
       "      <td>0.003407</td>\n",
       "      <td>0.007999</td>\n",
       "      <td>0.007953</td>\n",
       "      <td>-0.000004</td>\n",
       "      <td>0.000019</td>\n",
       "      <td>-0.007137</td>\n",
       "      <td>-0.008493</td>\n",
       "      <td>-0.004519</td>\n",
       "      <td>-0.001668</td>\n",
       "      <td>0.006933</td>\n",
       "      <td>0.007386</td>\n",
       "      <td>0.047745</td>\n",
       "      <td>1.000000</td>\n",
       "    </tr>\n",
       "  </tbody>\n",
       "</table>\n",
       "</div>"
      ],
      "text/plain": [
       "               0         1         2         3         4         5         6  \\\n",
       "0       1.000000  0.311228  0.047617 -0.042331  0.002395 -0.003780  0.178998   \n",
       "1       0.311228  1.000000 -0.359564 -0.108256  0.006052 -0.009565  0.482558   \n",
       "2       0.047617 -0.359564  1.000000  0.111575 -0.006102  0.009632 -0.488682   \n",
       "3      -0.042331 -0.108256  0.111575  1.000000  0.008387 -0.013272 -0.395071   \n",
       "4       0.002395  0.006052 -0.006102  0.008387  1.000000  0.079060  0.107364   \n",
       "5      -0.003780 -0.009565  0.009632 -0.013272  0.079060  1.000000 -0.169743   \n",
       "6       0.178998  0.482558 -0.488682 -0.395071  0.107364 -0.169743  1.000000   \n",
       "7       0.169018  0.516584 -0.578135 -0.430033  0.083671 -0.132280  0.977135   \n",
       "8       0.297251  0.509907 -0.490140 -0.211123  0.012444 -0.019663  0.930521   \n",
       "9       0.425807  0.459022 -0.403628 -0.175386  0.010379 -0.016404  0.768846   \n",
       "10     -0.110032 -0.485092  0.515266  0.210071 -0.012476  0.019717 -0.931435   \n",
       "11      0.016156 -0.401589  0.464305  0.173351 -0.010481  0.016574 -0.773016   \n",
       "12      0.025157 -0.016820  0.016370  0.045874 -0.000023 -0.000024 -0.041155   \n",
       "target  0.002485  0.003407  0.007999  0.007953 -0.000004  0.000019 -0.007137   \n",
       "\n",
       "               7         8         9        10        11        12    target  \n",
       "0       0.169018  0.297251  0.425807 -0.110032  0.016156  0.025157  0.002485  \n",
       "1       0.516584  0.509907  0.459022 -0.485092 -0.401589 -0.016820  0.003407  \n",
       "2      -0.578135 -0.490140 -0.403628  0.515266  0.464305  0.016370  0.007999  \n",
       "3      -0.430033 -0.211123 -0.175386  0.210071  0.173351  0.045874  0.007953  \n",
       "4       0.083671  0.012444  0.010379 -0.012476 -0.010481 -0.000023 -0.000004  \n",
       "5      -0.132280 -0.019663 -0.016404  0.019717  0.016574 -0.000024  0.000019  \n",
       "6       0.977135  0.930521  0.768846 -0.931435 -0.773016 -0.041155 -0.007137  \n",
       "7       1.000000  0.902311  0.735741 -0.914002 -0.765335 -0.045096 -0.008493  \n",
       "8       0.902311  1.000000  0.925837 -0.935948 -0.776937 -0.023179 -0.004519  \n",
       "9       0.735741  0.925837  1.000000 -0.773110 -0.641794 -0.002794 -0.001668  \n",
       "10     -0.914002 -0.935948 -0.773110  1.000000  0.927150  0.045005  0.006933  \n",
       "11     -0.765335 -0.776937 -0.641794  0.927150  1.000000  0.054487  0.007386  \n",
       "12     -0.045096 -0.023179 -0.002794  0.045005  0.054487  1.000000  0.047745  \n",
       "target -0.008493 -0.004519 -0.001668  0.006933  0.007386  0.047745  1.000000  "
      ]
     },
     "execution_count": 73,
     "metadata": {},
     "output_type": "execute_result"
    }
   ],
   "source": [
    "corr_df = pd.concat([train_X, df[['target']]], axis = 1)\n",
    "corr_df.corr()"
   ]
  },
  {
   "cell_type": "code",
   "execution_count": 74,
   "metadata": {},
   "outputs": [],
   "source": [
    "train_Y = corr_df['target']"
   ]
  },
  {
   "cell_type": "code",
   "execution_count": 75,
   "metadata": {},
   "outputs": [
    {
     "data": {
      "text/plain": [
       "0    258373\n",
       "1    245667\n",
       "Name: target, dtype: int64"
      ]
     },
     "execution_count": 75,
     "metadata": {},
     "output_type": "execute_result"
    }
   ],
   "source": [
    "train_Y.value_counts()"
   ]
  },
  {
   "cell_type": "markdown",
   "metadata": {},
   "source": [
    "#### machine learning models"
   ]
  },
  {
   "cell_type": "code",
   "execution_count": 76,
   "metadata": {},
   "outputs": [],
   "source": [
    "X_train, X_test, y_train, y_test = train_test_split(train_X, train_Y, test_size=0.3, random_state=0)"
   ]
  },
  {
   "cell_type": "code",
   "execution_count": 77,
   "metadata": {},
   "outputs": [],
   "source": [
    "#logistic regression\n",
    "from sklearn.linear_model import LogisticRegression\n",
    "from sklearn.metrics import classification_report\n",
    "from sklearn.metrics import confusion_matrix\n",
    "import statsmodels.api as sm\n",
    "from sklearn import metrics\n",
    "\n",
    "from sklearn.metrics import roc_auc_score\n",
    "from sklearn.metrics import roc_curve\n",
    "from sklearn.metrics import accuracy_score"
   ]
  },
  {
   "cell_type": "code",
   "execution_count": 78,
   "metadata": {},
   "outputs": [
    {
     "name": "stdout",
     "output_type": "stream",
     "text": [
      "Optimization terminated successfully.\n",
      "         Current function value: 0.691601\n",
      "         Iterations 4\n",
      "                          Results: Logit\n",
      "==================================================================\n",
      "Model:              Logit            Pseudo R-squared: 0.002      \n",
      "Dependent Variable: target           AIC:              697214.6474\n",
      "Date:               2020-05-02 11:05 BIC:              697359.3428\n",
      "No. Observations:   504040           Log-Likelihood:   -3.4859e+05\n",
      "Df Model:           12               LL-Null:          -3.4921e+05\n",
      "Df Residuals:       504027           LLR p-value:      7.5057e-258\n",
      "Converged:          1.0000           Scale:            1.0000     \n",
      "No. Iterations:     4.0000                                        \n",
      "---------------------------------------------------------------------\n",
      "        Coef.     Std.Err.       z       P>|z|      [0.025     0.975]\n",
      "---------------------------------------------------------------------\n",
      "0      -0.0241      0.0125    -1.9225    0.0545    -0.0487     0.0005\n",
      "1       0.0615      0.0096     6.4326    0.0000     0.0428     0.0802\n",
      "2       0.0314      0.0114     2.7568    0.0058     0.0091     0.0537\n",
      "3       0.0246      0.0494     0.4971    0.6191    -0.0723     0.1214\n",
      "4       0.0001      0.0195     0.0028    0.9978    -0.0383     0.0384\n",
      "5       0.0000      0.0328     0.0000    1.0000    -0.0643     0.0643\n",
      "6       0.0695      0.1304     0.5328    0.5942    -0.1862     0.3251\n",
      "7      -0.1239      0.0504    -2.4580    0.0140    -0.2227    -0.0251\n",
      "8      -0.4879      0.2822    -1.7285    0.0839    -1.0411     0.0653\n",
      "9       0.2663      0.1385     1.9236    0.0544    -0.0050     0.5377\n",
      "10     -0.4667      0.0717    -6.5096    0.0000    -0.6073    -0.3262\n",
      "11      0.2461      0.0401     6.1402    0.0000     0.1676     0.3247\n",
      "12      0.2749      0.0082    33.3853    0.0000     0.2588     0.2911\n",
      "==================================================================\n",
      "\n"
     ]
    }
   ],
   "source": [
    "logit_model=sm.Logit(train_Y,train_X)\n",
    "result=logit_model.fit()\n",
    "print(result.summary2())"
   ]
  },
  {
   "cell_type": "code",
   "execution_count": 79,
   "metadata": {},
   "outputs": [
    {
     "data": {
      "text/plain": [
       "LogisticRegression(C=1, class_weight=None, dual=False, fit_intercept=True,\n",
       "                   intercept_scaling=1, l1_ratio=None, max_iter=100,\n",
       "                   multi_class='auto', n_jobs=None, penalty='l2',\n",
       "                   random_state=42, solver='lbfgs', tol=0.0001, verbose=0,\n",
       "                   warm_start=False)"
      ]
     },
     "execution_count": 79,
     "metadata": {},
     "output_type": "execute_result"
    }
   ],
   "source": [
    "logreg = LogisticRegression(C=1,penalty='l2',random_state=42)\n",
    "logreg.fit(X_train, y_train)"
   ]
  },
  {
   "cell_type": "code",
   "execution_count": 80,
   "metadata": {},
   "outputs": [
    {
     "name": "stdout",
     "output_type": "stream",
     "text": [
      "Accuracy 0.51\n",
      "Train Prediction Score 51.4083349394039\n",
      "Test Prediction  51.290241515223656\n"
     ]
    }
   ],
   "source": [
    "y_pred = logreg.predict(X_test)\n",
    "print('Accuracy {:.2f}'.format(accuracy_score(y_test,y_pred)))\n",
    "logreg_score_train = logreg.score(X_train,y_train)\n",
    "print(\"Train Prediction Score\",logreg_score_train*100)\n",
    "logreg_score_test = accuracy_score(y_test,y_pred)\n",
    "print(\"Test Prediction \",logreg_score_test*100)"
   ]
  },
  {
   "cell_type": "code",
   "execution_count": 81,
   "metadata": {},
   "outputs": [
    {
     "name": "stdout",
     "output_type": "stream",
     "text": [
      "[[48902 28798]\n",
      " [44857 28655]]\n"
     ]
    }
   ],
   "source": [
    "cm = confusion_matrix(y_test, y_pred)\n",
    "print(cm)"
   ]
  },
  {
   "cell_type": "code",
   "execution_count": 82,
   "metadata": {},
   "outputs": [
    {
     "name": "stdout",
     "output_type": "stream",
     "text": [
      "              precision    recall  f1-score   support\n",
      "\n",
      "           0       0.52      0.63      0.57     77700\n",
      "           1       0.50      0.39      0.44     73512\n",
      "\n",
      "    accuracy                           0.51    151212\n",
      "   macro avg       0.51      0.51      0.50    151212\n",
      "weighted avg       0.51      0.51      0.51    151212\n",
      "\n"
     ]
    }
   ],
   "source": [
    "print(classification_report(y_test, y_pred))"
   ]
  },
  {
   "cell_type": "code",
   "execution_count": 83,
   "metadata": {},
   "outputs": [
    {
     "data": {
      "image/png": "[encoded data removed]",
      "text/plain": [
       "<Figure size 432x288 with 1 Axes>"
      ]
     },
     "metadata": {
      "needs_background": "light"
     },
     "output_type": "display_data"
    }
   ],
   "source": [
    "logit_roc_auc = roc_auc_score(y_test, logreg.predict(X_test))\n",
    "fpr, tpr, thresholds = roc_curve(y_test, logreg.predict_proba(X_test)[:,1])\n",
    "plt.figure()\n",
    "plt.plot(fpr, tpr, label='Logistic Regression (area = %0.2f)' % logit_roc_auc)\n",
    "plt.plot([0, 1], [0, 1],'r--')\n",
    "plt.xlim([0.0, 1.0])\n",
    "plt.ylim([0.0, 1.05])\n",
    "plt.xlabel('False Positive Rate')\n",
    "plt.ylabel('True Positive Rate')\n",
    "plt.title('Receiver operating characteristic')\n",
    "plt.legend(loc=\"lower right\")\n",
    "plt.savefig('Log_ROC')\n",
    "plt.show()"
   ]
  },
  {
   "cell_type": "code",
   "execution_count": 84,
   "metadata": {},
   "outputs": [
    {
     "data": {
      "text/plain": [
       "KNeighborsClassifier(algorithm='auto', leaf_size=30, metric='minkowski',\n",
       "                     metric_params=None, n_jobs=None, n_neighbors=5, p=2,\n",
       "                     weights='uniform')"
      ]
     },
     "execution_count": 84,
     "metadata": {},
     "output_type": "execute_result"
    }
   ],
   "source": [
    "#KNeighborsClassifier\n",
    "from sklearn.neighbors import KNeighborsClassifier\n",
    "knn = KNeighborsClassifier()\n",
    "knn.fit(X_train,y_train)"
   ]
  },
  {
   "cell_type": "code",
   "execution_count": 85,
   "metadata": {},
   "outputs": [],
   "source": [
    "y_pred_knn= knn.predict(X_test)"
   ]
  },
  {
   "cell_type": "code",
   "execution_count": 86,
   "metadata": {},
   "outputs": [
    {
     "name": "stdout",
     "output_type": "stream",
     "text": [
      "Train Prediction Score 64.21032344371763\n",
      "Test Prediction  39.07163452636034\n"
     ]
    }
   ],
   "source": [
    "knn_score_train = knn.score(X_train,y_train)\n",
    "print(\"Train Prediction Score\",knn_score_train*100)\n",
    "knn_score_test = accuracy_score(y_test,y_pred_knn)\n",
    "print(\"Test Prediction \",knn_score_test*100)"
   ]
  },
  {
   "cell_type": "code",
   "execution_count": 65,
   "metadata": {},
   "outputs": [
    {
     "name": "stdout",
     "output_type": "stream",
     "text": [
      "[[57617 20083]\n",
      " [20816 52696]]\n"
     ]
    }
   ],
   "source": [
    "cm = confusion_matrix(y_test, y_pred_knn)\n",
    "print(cm)"
   ]
  },
  {
   "cell_type": "code",
   "execution_count": 66,
   "metadata": {},
   "outputs": [
    {
     "name": "stdout",
     "output_type": "stream",
     "text": [
      "              precision    recall  f1-score   support\n",
      "\n",
      "           0       0.73      0.74      0.74     77700\n",
      "           1       0.72      0.72      0.72     73512\n",
      "\n",
      "    accuracy                           0.73    151212\n",
      "   macro avg       0.73      0.73      0.73    151212\n",
      "weighted avg       0.73      0.73      0.73    151212\n",
      "\n"
     ]
    }
   ],
   "source": [
    "print(classification_report(y_test,y_pred_knn))"
   ]
  },
  {
   "cell_type": "code",
   "execution_count": 50,
   "metadata": {},
   "outputs": [
    {
     "data": {
      "image/png": "[encoded data removed]",
      "text/plain": [
       "<Figure size 432x288 with 1 Axes>"
      ]
     },
     "metadata": {
      "needs_background": "light"
     },
     "output_type": "display_data"
    }
   ],
   "source": [
    "logit_roc_auc = roc_auc_score(y_test, y_pred_knn)\n",
    "fpr, tpr, thresholds = roc_curve(y_test, knn.predict_proba(X_test)[:,1])\n",
    "plt.figure()\n",
    "plt.plot(fpr, tpr, label='KNeighbors (area = %0.2f)' % logit_roc_auc)\n",
    "plt.plot([0, 1], [0, 1],'r--')\n",
    "plt.xlim([0.0, 1.0])\n",
    "plt.ylim([0.0, 1.05])\n",
    "plt.xlabel('False Positive Rate')\n",
    "plt.ylabel('True Positive Rate')\n",
    "plt.title('Receiver operating characteristic')\n",
    "plt.legend(loc=\"lower right\")\n",
    "plt.savefig('Log_ROC')\n",
    "plt.show()"
   ]
  },
  {
   "cell_type": "code",
   "execution_count": 51,
   "metadata": {},
   "outputs": [],
   "source": [
    "#supportvectormachines\n",
    "from sklearn.svm import SVC"
   ]
  },
  {
   "cell_type": "code",
   "execution_count": null,
   "metadata": {},
   "outputs": [],
   "source": [
    "ksvc = SVC(kernel = 'rbf',random_state = 42,probability=True)\n",
    "ksvc.fit(X_train,y_train)"
   ]
  },
  {
   "cell_type": "code",
   "execution_count": null,
   "metadata": {},
   "outputs": [],
   "source": [
    "y_pred_ksvc= ksvc.predict(X_test)"
   ]
  },
  {
   "cell_type": "code",
   "execution_count": null,
   "metadata": {},
   "outputs": [],
   "source": [
    "ksvc_score_train = ksvc.score(X_train,y_train)\n",
    "print(\"Train Prediction Score\",ksvc_score_train*100)\n",
    "ksvc_score_test = accuracy_score(y_test,y_pred_ksvc)\n",
    "print(\"Test Prediction Score\",ksvc_score_test*100)"
   ]
  },
  {
   "cell_type": "code",
   "execution_count": null,
   "metadata": {},
   "outputs": [],
   "source": [
    "cm = confusion_matrix(y_test, y_pred_ksvc)\n",
    "print(cm)"
   ]
  },
  {
   "cell_type": "code",
   "execution_count": null,
   "metadata": {},
   "outputs": [],
   "source": [
    "print(classification_report(y_test,y_pred_ksvc))"
   ]
  },
  {
   "cell_type": "code",
   "execution_count": 87,
   "metadata": {},
   "outputs": [],
   "source": [
    "#naive_bayes\n",
    "from sklearn.naive_bayes import GaussianNB"
   ]
  },
  {
   "cell_type": "code",
   "execution_count": 88,
   "metadata": {},
   "outputs": [
    {
     "data": {
      "text/plain": [
       "GaussianNB(priors=None, var_smoothing=1e-09)"
      ]
     },
     "execution_count": 88,
     "metadata": {},
     "output_type": "execute_result"
    }
   ],
   "source": [
    "nb = GaussianNB()\n",
    "nb.fit(X_train,y_train)"
   ]
  },
  {
   "cell_type": "code",
   "execution_count": 89,
   "metadata": {},
   "outputs": [],
   "source": [
    "y_pred_nb= nb.predict(X_test)"
   ]
  },
  {
   "cell_type": "code",
   "execution_count": 90,
   "metadata": {},
   "outputs": [
    {
     "name": "stdout",
     "output_type": "stream",
     "text": [
      "Train Prediction Score 51.60616504359064\n",
      "Test Prediction Score 51.728037457344655\n"
     ]
    }
   ],
   "source": [
    "nb_score_train = nb.score(X_train,y_train)\n",
    "print(\"Train Prediction Score\",nb_score_train*100)\n",
    "nb_score_test = accuracy_score(y_test,y_pred_nb)\n",
    "print(\"Test Prediction Score\",nb_score_test*100)"
   ]
  },
  {
   "cell_type": "code",
   "execution_count": 56,
   "metadata": {},
   "outputs": [
    {
     "name": "stdout",
     "output_type": "stream",
     "text": [
      "[[70331  7369]\n",
      " [31931 41581]]\n"
     ]
    }
   ],
   "source": [
    "cm = confusion_matrix(y_test, y_pred_nb)\n",
    "print(cm)"
   ]
  },
  {
   "cell_type": "code",
   "execution_count": 57,
   "metadata": {},
   "outputs": [
    {
     "name": "stdout",
     "output_type": "stream",
     "text": [
      "              precision    recall  f1-score   support\n",
      "\n",
      "           0       0.69      0.91      0.78     77700\n",
      "           1       0.85      0.57      0.68     73512\n",
      "\n",
      "    accuracy                           0.74    151212\n",
      "   macro avg       0.77      0.74      0.73    151212\n",
      "weighted avg       0.77      0.74      0.73    151212\n",
      "\n"
     ]
    }
   ],
   "source": [
    "print(classification_report(y_test,y_pred_nb))"
   ]
  },
  {
   "cell_type": "code",
   "execution_count": 91,
   "metadata": {},
   "outputs": [],
   "source": [
    "#neuralnetwork\n",
    "from keras.models import Sequential\n",
    "from keras.layers import Dense\n",
    "from keras.utils import to_categorical\n",
    "from keras.callbacks import EarlyStopping"
   ]
  },
  {
   "cell_type": "code",
   "execution_count": 92,
   "metadata": {},
   "outputs": [
    {
     "name": "stdout",
     "output_type": "stream",
     "text": [
      "Train on 211696 samples, validate on 141132 samples\n",
      "Epoch 1/10\n",
      "211696/211696 [==============================] - 27s 130us/step - loss: 0.6949 - accuracy: 0.5071 - val_loss: 0.6922 - val_accuracy: 0.5122\n",
      "Epoch 2/10\n",
      "211696/211696 [==============================] - 27s 127us/step - loss: 0.6915 - accuracy: 0.5118 - val_loss: 0.6909 - val_accuracy: 0.5130\n",
      "Epoch 3/10\n",
      "211696/211696 [==============================] - 28s 133us/step - loss: 0.6906 - accuracy: 0.5132 - val_loss: 0.6908 - val_accuracy: 0.5122\n",
      "Epoch 4/10\n",
      "211696/211696 [==============================] - 25s 119us/step - loss: 0.6903 - accuracy: 0.5113 - val_loss: 0.6900 - val_accuracy: 0.5159\n",
      "Epoch 5/10\n",
      "211696/211696 [==============================] - 25s 119us/step - loss: 0.6900 - accuracy: 0.5145 - val_loss: 0.6899 - val_accuracy: 0.5155\n",
      "Epoch 6/10\n",
      "211696/211696 [==============================] - 27s 129us/step - loss: 0.6898 - accuracy: 0.5136 - val_loss: 0.6897 - val_accuracy: 0.5143\n",
      "Epoch 7/10\n",
      "211696/211696 [==============================] - 26s 122us/step - loss: 0.6897 - accuracy: 0.5119 - val_loss: 0.6904 - val_accuracy: 0.5112\n",
      "Epoch 8/10\n",
      "211696/211696 [==============================] - 24s 115us/step - loss: 0.6896 - accuracy: 0.5116 - val_loss: 0.6895 - val_accuracy: 0.5130\n",
      "Epoch 9/10\n",
      "211696/211696 [==============================] - 25s 116us/step - loss: 0.6894 - accuracy: 0.5112 - val_loss: 0.6893 - val_accuracy: 0.5118\n",
      "Epoch 10/10\n",
      "211696/211696 [==============================] - 24s 114us/step - loss: 0.6893 - accuracy: 0.5122 - val_loss: 0.6893 - val_accuracy: 0.5109\n"
     ]
    },
    {
     "data": {
      "text/plain": [
       "<keras.callbacks.callbacks.History at 0x236872268c8>"
      ]
     },
     "execution_count": 92,
     "metadata": {},
     "output_type": "execute_result"
    }
   ],
   "source": [
    "#2layer\n",
    "model = Sequential()\n",
    "n_cols = X_train.shape[1]\n",
    "n_cols\n",
    "model.add(Dense(2, activation='relu', input_shape=(n_cols,)))\n",
    "model.add(Dense(1, activation='sigmoid'))\n",
    "model.compile(optimizer='adam', loss='binary_crossentropy', metrics=['accuracy'])\n",
    "early_stopping_monitor = EarlyStopping(patience=20)\n",
    "model.fit(X_train, y_train, epochs=10, validation_split=0.4 )"
   ]
  },
  {
   "cell_type": "code",
   "execution_count": 94,
   "metadata": {},
   "outputs": [
    {
     "name": "stdout",
     "output_type": "stream",
     "text": [
      "Train on 211696 samples, validate on 141132 samples\n",
      "Epoch 1/20\n",
      "211696/211696 [==============================] - 22s 102us/step - loss: 0.2502 - accuracy: 0.5094 - val_loss: 0.2499 - val_accuracy: 0.5110\n",
      "Epoch 2/20\n",
      "211696/211696 [==============================] - 21s 100us/step - loss: 0.2499 - accuracy: 0.5110 - val_loss: 0.2499 - val_accuracy: 0.5119\n",
      "Epoch 3/20\n",
      "211696/211696 [==============================] - 21s 98us/step - loss: 0.2499 - accuracy: 0.5115 - val_loss: 0.2499 - val_accuracy: 0.5122\n",
      "Epoch 4/20\n",
      "211696/211696 [==============================] - 21s 97us/step - loss: 0.2499 - accuracy: 0.5119 - val_loss: 0.2499 - val_accuracy: 0.5123\n",
      "Epoch 5/20\n",
      "211696/211696 [==============================] - 23s 107us/step - loss: 0.2499 - accuracy: 0.5119 - val_loss: 0.2499 - val_accuracy: 0.5122\n",
      "Epoch 6/20\n",
      "211696/211696 [==============================] - 23s 107us/step - loss: 0.2499 - accuracy: 0.5119 - val_loss: 0.2499 - val_accuracy: 0.5122\n",
      "Epoch 7/20\n",
      "211696/211696 [==============================] - 24s 113us/step - loss: 0.2499 - accuracy: 0.5120 - val_loss: 0.2499 - val_accuracy: 0.5121\n",
      "Epoch 8/20\n",
      "211696/211696 [==============================] - 22s 103us/step - loss: 0.2499 - accuracy: 0.5121 - val_loss: 0.2499 - val_accuracy: 0.5120\n",
      "Epoch 9/20\n",
      "211696/211696 [==============================] - 21s 100us/step - loss: 0.2499 - accuracy: 0.5119 - val_loss: 0.2499 - val_accuracy: 0.5121\n",
      "Epoch 10/20\n",
      "211696/211696 [==============================] - 21s 97us/step - loss: 0.2499 - accuracy: 0.5119 - val_loss: 0.2499 - val_accuracy: 0.5121\n",
      "Epoch 11/20\n",
      "211696/211696 [==============================] - 21s 98us/step - loss: 0.2499 - accuracy: 0.5119 - val_loss: 0.2499 - val_accuracy: 0.5122\n",
      "Epoch 12/20\n",
      "211696/211696 [==============================] - 21s 100us/step - loss: 0.2499 - accuracy: 0.5119 - val_loss: 0.2499 - val_accuracy: 0.5122\n",
      "Epoch 13/20\n",
      "211696/211696 [==============================] - 20s 97us/step - loss: 0.2499 - accuracy: 0.5120 - val_loss: 0.2499 - val_accuracy: 0.5122\n",
      "Epoch 14/20\n",
      "211696/211696 [==============================] - 21s 99us/step - loss: 0.2499 - accuracy: 0.5119 - val_loss: 0.2499 - val_accuracy: 0.5122\n",
      "Epoch 15/20\n",
      "211696/211696 [==============================] - 21s 98us/step - loss: 0.2499 - accuracy: 0.5120 - val_loss: 0.2499 - val_accuracy: 0.5122\n",
      "Epoch 16/20\n",
      "211696/211696 [==============================] - 21s 97us/step - loss: 0.2499 - accuracy: 0.5120 - val_loss: 0.2499 - val_accuracy: 0.5122\n",
      "Epoch 17/20\n",
      "211696/211696 [==============================] - 21s 97us/step - loss: 0.2499 - accuracy: 0.5120 - val_loss: 0.2499 - val_accuracy: 0.5122\n",
      "Epoch 18/20\n",
      "211696/211696 [==============================] - 21s 98us/step - loss: 0.2499 - accuracy: 0.5120 - val_loss: 0.2499 - val_accuracy: 0.5122\n",
      "Epoch 19/20\n",
      "211696/211696 [==============================] - 21s 100us/step - loss: 0.2499 - accuracy: 0.5119 - val_loss: 0.2499 - val_accuracy: 0.5122\n",
      "Epoch 20/20\n",
      "211696/211696 [==============================] - 22s 103us/step - loss: 0.2499 - accuracy: 0.5120 - val_loss: 0.2499 - val_accuracy: 0.5122\n"
     ]
    },
    {
     "data": {
      "text/plain": [
       "<keras.callbacks.callbacks.History at 0x2368a978608>"
      ]
     },
     "execution_count": 94,
     "metadata": {},
     "output_type": "execute_result"
    }
   ],
   "source": [
    "#3layer\n",
    "model = Sequential()\n",
    "n_cols = X_train.shape[1]\n",
    "n_cols\n",
    "model.add(Dense(4, activation='relu', input_shape=(n_cols,)))\n",
    "model.add(Dense(2, activation='relu'))\n",
    "model.add(Dense(1, activation='sigmoid'))\n",
    "model.compile(optimizer='sgd', loss='mean_squared_error', metrics=['accuracy'])\n",
    "early_stopping_monitor = EarlyStopping(patience=20)\n",
    "model.fit(X_train, y_train, epochs=20, validation_split=0.4 )"
   ]
  },
  {
   "cell_type": "code",
   "execution_count": 96,
   "metadata": {},
   "outputs": [
    {
     "name": "stdout",
     "output_type": "stream",
     "text": [
      "Train on 282262 samples, validate on 70566 samples\n",
      "Epoch 1/20\n",
      "282262/282262 [==============================] - 23s 83us/step - loss: 0.2507 - accuracy: 0.5058 - val_loss: 0.2498 - val_accuracy: 0.5111\n",
      "Epoch 2/20\n",
      "282262/282262 [==============================] - 24s 85us/step - loss: 0.2498 - accuracy: 0.5123 - val_loss: 0.2498 - val_accuracy: 0.5111\n",
      "Epoch 3/20\n",
      "282262/282262 [==============================] - 25s 87us/step - loss: 0.2498 - accuracy: 0.5123 - val_loss: 0.2497 - val_accuracy: 0.5111\n",
      "Epoch 4/20\n",
      "282262/282262 [==============================] - 23s 81us/step - loss: 0.2497 - accuracy: 0.5123 - val_loss: 0.2497 - val_accuracy: 0.5111\n",
      "Epoch 5/20\n",
      "282262/282262 [==============================] - 23s 81us/step - loss: 0.2497 - accuracy: 0.5123 - val_loss: 0.2496 - val_accuracy: 0.5111\n",
      "Epoch 6/20\n",
      "282262/282262 [==============================] - 23s 81us/step - loss: 0.2496 - accuracy: 0.5123 - val_loss: 0.2496 - val_accuracy: 0.5111\n",
      "Epoch 7/20\n",
      "282262/282262 [==============================] - 24s 84us/step - loss: 0.2495 - accuracy: 0.5123 - val_loss: 0.2495 - val_accuracy: 0.5111\n",
      "Epoch 8/20\n",
      "282262/282262 [==============================] - 23s 80us/step - loss: 0.2494 - accuracy: 0.5118 - val_loss: 0.2494 - val_accuracy: 0.5111\n",
      "Epoch 9/20\n",
      "282262/282262 [==============================] - 4455s 16ms/step - loss: 0.2493 - accuracy: 0.5128 - val_loss: 0.2492 - val_accuracy: 0.5164\n",
      "Epoch 10/20\n",
      "282262/282262 [==============================] - 13s 47us/step - loss: 0.2491 - accuracy: 0.5144 - val_loss: 0.2490 - val_accuracy: 0.5189\n",
      "Epoch 11/20\n",
      "282262/282262 [==============================] - 12s 42us/step - loss: 0.2490 - accuracy: 0.5148 - val_loss: 0.2489 - val_accuracy: 0.5194\n",
      "Epoch 12/20\n",
      "282262/282262 [==============================] - 11s 38us/step - loss: 0.2489 - accuracy: 0.5150 - val_loss: 0.2489 - val_accuracy: 0.5197\n",
      "Epoch 13/20\n",
      "282262/282262 [==============================] - 11s 39us/step - loss: 0.2488 - accuracy: 0.5170 - val_loss: 0.2488 - val_accuracy: 0.5111\n",
      "Epoch 14/20\n",
      "282262/282262 [==============================] - 11s 40us/step - loss: 0.2487 - accuracy: 0.5166 - val_loss: 0.2487 - val_accuracy: 0.5192\n",
      "Epoch 15/20\n",
      "282262/282262 [==============================] - 10s 36us/step - loss: 0.2486 - accuracy: 0.5171 - val_loss: 0.2486 - val_accuracy: 0.5199\n",
      "Epoch 16/20\n",
      "282262/282262 [==============================] - 10s 37us/step - loss: 0.2485 - accuracy: 0.5179 - val_loss: 0.2486 - val_accuracy: 0.5193\n",
      "Epoch 17/20\n",
      "282262/282262 [==============================] - 18s 63us/step - loss: 0.2485 - accuracy: 0.5175 - val_loss: 0.2485 - val_accuracy: 0.5191\n",
      "Epoch 18/20\n",
      "282262/282262 [==============================] - 23s 82us/step - loss: 0.2484 - accuracy: 0.5176 - val_loss: 0.2485 - val_accuracy: 0.5209\n",
      "Epoch 19/20\n",
      "282262/282262 [==============================] - 23s 80us/step - loss: 0.2483 - accuracy: 0.5177 - val_loss: 0.2483 - val_accuracy: 0.5207\n",
      "Epoch 20/20\n",
      "282262/282262 [==============================] - 24s 86us/step - loss: 0.2482 - accuracy: 0.5187 - val_loss: 0.2482 - val_accuracy: 0.5203\n"
     ]
    },
    {
     "data": {
      "text/plain": [
       "<keras.callbacks.callbacks.History at 0x2368aef8f88>"
      ]
     },
     "execution_count": 96,
     "metadata": {},
     "output_type": "execute_result"
    }
   ],
   "source": [
    "#4layer\n",
    "model = Sequential()\n",
    "n_cols = X_train.shape[1]\n",
    "n_cols\n",
    "model.add(Dense(8, activation='relu', input_shape=(n_cols,)))\n",
    "model.add(Dense(4, activation='relu'))\n",
    "model.add(Dense(2, activation='relu'))\n",
    "model.add(Dense(1, activation='sigmoid'))\n",
    "model.compile(optimizer='sgd', loss='mean_squared_error', metrics=['accuracy'])\n",
    "early_stopping_monitor = EarlyStopping(patience=20)\n",
    "model.fit(X_train, y_train, epochs=20, validation_split=0.2 )"
   ]
  },
  {
   "cell_type": "code",
   "execution_count": 97,
   "metadata": {},
   "outputs": [
    {
     "name": "stdout",
     "output_type": "stream",
     "text": [
      "Train on 211696 samples, validate on 141132 samples\n",
      "Epoch 1/20\n",
      "211696/211696 [==============================] - 23s 110us/step - loss: 0.2500 - accuracy: 0.5097 - val_loss: 0.2498 - val_accuracy: 0.5135\n",
      "Epoch 2/20\n",
      "211696/211696 [==============================] - 22s 103us/step - loss: 0.2498 - accuracy: 0.5126 - val_loss: 0.2497 - val_accuracy: 0.5153\n",
      "Epoch 3/20\n",
      "211696/211696 [==============================] - 22s 104us/step - loss: 0.2498 - accuracy: 0.5132 - val_loss: 0.2497 - val_accuracy: 0.5152\n",
      "Epoch 4/20\n",
      "211696/211696 [==============================] - 21s 101us/step - loss: 0.2497 - accuracy: 0.5136 - val_loss: 0.2497 - val_accuracy: 0.5145\n",
      "Epoch 5/20\n",
      "211696/211696 [==============================] - 19s 91us/step - loss: 0.2497 - accuracy: 0.5135 - val_loss: 0.2496 - val_accuracy: 0.5151\n",
      "Epoch 6/20\n",
      "211696/211696 [==============================] - 19s 91us/step - loss: 0.2497 - accuracy: 0.5143 - val_loss: 0.2496 - val_accuracy: 0.5156\n",
      "Epoch 7/20\n",
      "211696/211696 [==============================] - 19s 90us/step - loss: 0.2496 - accuracy: 0.5144 - val_loss: 0.2496 - val_accuracy: 0.5153\n",
      "Epoch 8/20\n",
      "211696/211696 [==============================] - 21s 98us/step - loss: 0.2496 - accuracy: 0.5149 - val_loss: 0.2495 - val_accuracy: 0.5156\n",
      "Epoch 9/20\n",
      "211696/211696 [==============================] - 20s 93us/step - loss: 0.2496 - accuracy: 0.5150 - val_loss: 0.2495 - val_accuracy: 0.5160\n",
      "Epoch 10/20\n",
      "211696/211696 [==============================] - 20s 95us/step - loss: 0.2495 - accuracy: 0.5152 - val_loss: 0.2495 - val_accuracy: 0.5166\n",
      "Epoch 11/20\n",
      "211696/211696 [==============================] - 20s 94us/step - loss: 0.2495 - accuracy: 0.5160 - val_loss: 0.2494 - val_accuracy: 0.5164\n",
      "Epoch 12/20\n",
      "211696/211696 [==============================] - 20s 93us/step - loss: 0.2495 - accuracy: 0.5163 - val_loss: 0.2495 - val_accuracy: 0.5172\n",
      "Epoch 13/20\n",
      "211696/211696 [==============================] - 20s 95us/step - loss: 0.2495 - accuracy: 0.5160 - val_loss: 0.2494 - val_accuracy: 0.5160\n",
      "Epoch 14/20\n",
      "211696/211696 [==============================] - 21s 97us/step - loss: 0.2494 - accuracy: 0.5165 - val_loss: 0.2494 - val_accuracy: 0.5162\n",
      "Epoch 15/20\n",
      "211696/211696 [==============================] - 19s 91us/step - loss: 0.2494 - accuracy: 0.5154 - val_loss: 0.2494 - val_accuracy: 0.5159\n",
      "Epoch 16/20\n",
      "211696/211696 [==============================] - 20s 97us/step - loss: 0.2494 - accuracy: 0.5156 - val_loss: 0.2494 - val_accuracy: 0.5158\n",
      "Epoch 17/20\n",
      "211696/211696 [==============================] - 21s 101us/step - loss: 0.2494 - accuracy: 0.5154 - val_loss: 0.2494 - val_accuracy: 0.5162\n",
      "Epoch 18/20\n",
      "211696/211696 [==============================] - 21s 98us/step - loss: 0.2494 - accuracy: 0.5155 - val_loss: 0.2495 - val_accuracy: 0.5173\n",
      "Epoch 19/20\n",
      "211696/211696 [==============================] - 20s 97us/step - loss: 0.2494 - accuracy: 0.5156 - val_loss: 0.2494 - val_accuracy: 0.5155\n",
      "Epoch 20/20\n",
      "211696/211696 [==============================] - 23s 108us/step - loss: 0.2494 - accuracy: 0.5164 - val_loss: 0.2493 - val_accuracy: 0.5159\n"
     ]
    },
    {
     "data": {
      "text/plain": [
       "<keras.callbacks.callbacks.History at 0x2368d223f48>"
      ]
     },
     "execution_count": 97,
     "metadata": {},
     "output_type": "execute_result"
    }
   ],
   "source": [
    "#4layer\n",
    "model = Sequential()\n",
    "n_cols = X_train.shape[1]\n",
    "n_cols\n",
    "model.add(Dense(16, activation='relu', input_shape=(n_cols,)))\n",
    "model.add(Dense(8, activation='relu'))\n",
    "model.add(Dense(4, activation='relu'))\n",
    "model.add(Dense(1, activation='sigmoid'))\n",
    "model.compile(optimizer='sgd', loss='mean_squared_error', metrics=['accuracy'])\n",
    "early_stopping_monitor = EarlyStopping(patience=20)\n",
    "model.fit(X_train, y_train, epochs=20, validation_split=0.4 )"
   ]
  }
 ],
 "metadata": {
  "kernelspec": {
   "display_name": "Python 3",
   "language": "python",
   "name": "python3"
  },
  "language_info": {
   "codemirror_mode": {
    "name": "ipython",
    "version": 3
   },
   "file_extension": ".py",
   "mimetype": "text/x-python",
   "name": "python",
   "nbconvert_exporter": "python",
   "pygments_lexer": "ipython3",
   "version": "3.7.4"
  }
 },
 "nbformat": 4,
 "nbformat_minor": 4
}
