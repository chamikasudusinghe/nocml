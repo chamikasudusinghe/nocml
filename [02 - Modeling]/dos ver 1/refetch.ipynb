{
 "cells": [
  {
   "cell_type": "code",
   "execution_count": 7,
   "metadata": {},
   "outputs": [
    {
     "name": "stdout",
     "output_type": "stream",
     "text": [
      "done\n"
     ]
    }
   ],
   "source": [
    "#extracting lines for simplied verion\n",
    "open('refft.txt','w').writelines([ line for line in open(\"fft-out.log\") if \"IPD\" in line or \"Enqueue\" in line])\n",
    "print (\"done\")"
   ]
  },
  {
   "cell_type": "code",
   "execution_count": 19,
   "metadata": {},
   "outputs": [
    {
     "name": "stdout",
     "output_type": "stream",
     "text": [
      "done\n"
     ]
    }
   ],
   "source": [
    "#extracting content from lines\n",
    "csv_out = open('refft_csv.txt','w')\n",
    "with open ('refft.txt', 'rt') as fft:\n",
    "    csv_out.write(\"time,router,id,type,vnet,vc,src_ni,src_router,dst_ni,dst_router,enq_time,switch_time\\n\")\n",
    "    for line in fft:\n",
    "        if \"IPD\" in line:\n",
    "            line_split = line.split()\n",
    "            time = line_split[line_split.index(\"time:\") + 1]\n",
    "            router = line_split[line_split.index(\"Router\") + 1]\n",
    "            continue\n",
    "        if \"Enqueue\" in line:\n",
    "            line_split = line.split()\n",
    "            if line_split[5]==router:\n",
    "                id = line_split[line_split.index(\"[flit::\") + 1][3:]\n",
    "                type = line_split[line_split.index(\"Id=\"+str(id)) + 1][5:]\n",
    "                vnet = line_split[line_split.index(\"Type=\"+str(type)) + 1][5:]\n",
    "                vc = line_split[line_split.index(\"Vnet=\"+str(vnet)) + 1][3:]\n",
    "                src_ni = line_split[line_split.index(\"VC=\"+str(vc)) + 2][3:]\n",
    "                src_router = line_split[line_split.index(\"NI=\"+str(src_ni)) + 2][7:]\n",
    "                dst_ni = line_split[line_split.index(\"Router=\"+str(src_router)) + 2][3:]\n",
    "                dst_router = line_split[line_split.index(\"NI=\"+str(dst_ni)) + 2][7:]\n",
    "                enq_time = line_split[line_split.index(\"Router=\"+str(dst_router)) + 2][5:]\n",
    "                switch_time = line_split[line_split.index(\"Enqueue\") + 5]\n",
    "            else:\n",
    "                id = \"\"\n",
    "                type = \"\"\n",
    "                vnet = \"\"\n",
    "                vc = \"\"\n",
    "                src_ni = \"\"\n",
    "                src_router = \"\"\n",
    "                dst_ni = \"\"\n",
    "                dst_router = \"\"\n",
    "                enq_time = \"\"\n",
    "                switch_time = \"\"\n",
    "            line_csv = time+\",\"+router+\",\"+id+\",\"+type+\",\"+vnet+\",\"+vc+\",\"+src_ni+\",\"+src_router+\",\"+dst_ni+\",\"+dst_router+\",\"+enq_time+\",\"+switch_time+\"\\n\"\n",
    "            csv_out.write(line_csv)\n",
    "print (\"done\")"
   ]
  },
  {
   "cell_type": "code",
   "execution_count": 20,
   "metadata": {},
   "outputs": [],
   "source": [
    "#convert txt to csv\n",
    "import pandas as pd\n",
    "import matplotlib.pyplot as plt\n",
    "\n",
    "df = pd.read_csv(\"refft_csv.txt\",delimiter=',')\n",
    "df.to_csv('refft.csv',index=False)"
   ]
  },
  {
   "cell_type": "code",
   "execution_count": 4,
   "metadata": {},
   "outputs": [
    {
     "name": "stdout",
     "output_type": "stream",
     "text": [
      "   Unnamed: 0  Index  Router  Time\n",
      "0           0      1       0     5\n",
      "1           1      2       1     9\n",
      "2           2      3       2    13\n",
      "3           3      4       3    17\n",
      "4           4      5       7    21\n"
     ]
    }
   ],
   "source": [
    "#dataset\n",
    "fft_data = pd.read_csv('fft.csv')\n",
    "\n",
    "print(fft_data.head())"
   ]
  }
 ],
 "metadata": {
  "kernelspec": {
   "display_name": "Python 3",
   "language": "python",
   "name": "python3"
  },
  "language_info": {
   "codemirror_mode": {
    "name": "ipython",
    "version": 3
   },
   "file_extension": ".py",
   "mimetype": "text/x-python",
   "name": "python",
   "nbconvert_exporter": "python",
   "pygments_lexer": "ipython3",
   "version": "3.7.4"
  }
 },
 "nbformat": 4,
 "nbformat_minor": 4
}
