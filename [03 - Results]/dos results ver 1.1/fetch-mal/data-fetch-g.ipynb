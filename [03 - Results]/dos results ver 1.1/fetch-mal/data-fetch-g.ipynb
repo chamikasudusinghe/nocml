{
 "cells": [
  {
   "cell_type": "markdown",
   "metadata": {},
   "source": [
    "#### Data Fetch"
   ]
  },
  {
   "cell_type": "code",
   "execution_count": 1,
   "metadata": {},
   "outputs": [],
   "source": [
    "import pandas as pd\n",
    "import numpy as np\n",
    "%matplotlib inline\n",
    "import matplotlib.pyplot as plt\n",
    "import seaborn as sns"
   ]
  },
  {
   "cell_type": "code",
   "execution_count": 2,
   "metadata": {},
   "outputs": [
    {
     "name": "stdout",
     "output_type": "stream",
     "text": [
      "done\n"
     ]
    }
   ],
   "source": [
    "#extracting lines for simplied verion\n",
    "open('2-fft-malicious-n-0-3-m-10.txt','w').writelines([ line for line in open(\"2-fft-malicious-n-0-3-m-10.log\") if \"Enqueue\" in line])\n",
    "print (\"done\")"
   ]
  },
  {
   "cell_type": "code",
   "execution_count": 3,
   "metadata": {},
   "outputs": [
    {
     "name": "stdout",
     "output_type": "stream",
     "text": [
      "done\n"
     ]
    }
   ],
   "source": [
    "#extracting content from lines\n",
    "csv_out = open('2-fft-malicious-n-0-3-m-10-csv.txt','w')\n",
    "with open ('2-fft-malicious-n-0-3-m-10.txt', 'rt') as fft:\n",
    "    csv_out.write(\"time,router,outport,inport,packet_address,packet_type,flit_id,flit_type,vnet,vc,src_ni,src_router,dst_ni,dst_router,enq_time\\n\")\n",
    "    for line in fft:\n",
    "        line_split = line.split()\n",
    "        time = line_split[line_split.index(\"time:\") + 1]\n",
    "        router = line_split[line_split.index(\"SwitchAllocator\") + 3]\n",
    "        outport = line_split[line_split.index(\"outport\") + 1]\n",
    "        inport = line_split[line_split.index(\"inport\") + 1]\n",
    "        packet_address = line_split[line_split.index(\"addr\") + 2][1:-1]\n",
    "        packet_type = line_split[line_split.index(\"addr\") + 7]\n",
    "        flit_id = line_split[line_split.index(\"[flit::\") + 1][3:]\n",
    "        flit_type = line_split[line_split.index(\"Id=\"+str(flit_id)) + 1][5:]\n",
    "        vnet = line_split[line_split.index(\"Type=\"+str(flit_type)) + 1][5:]\n",
    "        vc = line_split[line_split.index(\"Vnet=\"+str(vnet)) + 1][3:]\n",
    "        src_ni = line_split[line_split.index(\"VC=\"+str(vc)) + 2][3:]\n",
    "        src_router = line_split[line_split.index(\"NI=\"+str(src_ni)) + 2][7:]\n",
    "        dst_ni = line_split[line_split.index(\"Router=\"+str(src_router)) + 2][3:]\n",
    "        dst_router = line_split[line_split.index(\"NI=\"+str(dst_ni)) + 2][7:]\n",
    "        enq_time = str(line_split[line_split.index(\"Enqueue\") + 1][5:])\n",
    "        line_csv = time+\",\"+router+\",\"+outport+\",\"+inport+\",\"+packet_address+\",\"+packet_type+\",\"+flit_id+\",\"+flit_type+\",\"+vnet+\",\"+vc+\",\"+src_ni+\",\"+src_router+\",\"+dst_ni+\",\"+dst_router+\",\"+enq_time+\"\\n\"\n",
    "        csv_out.write(line_csv)\n",
    "print (\"done\")"
   ]
  },
  {
   "cell_type": "code",
   "execution_count": 4,
   "metadata": {},
   "outputs": [],
   "source": [
    "#convert txt to csv\n",
    "\n",
    "df = pd.read_csv(\"2-fft-malicious-n-0-3-m-10-csv.txt\",delimiter=',')\n",
    "df.to_csv('2-fft-malicious-n-0-3-m-10.csv',index=False)"
   ]
  },
  {
   "cell_type": "code",
   "execution_count": 5,
   "metadata": {},
   "outputs": [],
   "source": [
    "#dataset\n",
    "df = pd.read_csv('2-fft-malicious-n-0-3-m-10.csv')"
   ]
  },
  {
   "cell_type": "code",
   "execution_count": 6,
   "metadata": {},
   "outputs": [
    {
     "data": {
      "text/plain": [
       "(1000662, 15)"
      ]
     },
     "execution_count": 6,
     "metadata": {},
     "output_type": "execute_result"
    }
   ],
   "source": [
    "df.shape"
   ]
  },
  {
   "cell_type": "code",
   "execution_count": 7,
   "metadata": {},
   "outputs": [
    {
     "data": {
      "text/html": [
       "<div>\n",
       "<style scoped>\n",
       "    .dataframe tbody tr th:only-of-type {\n",
       "        vertical-align: middle;\n",
       "    }\n",
       "\n",
       "    .dataframe tbody tr th {\n",
       "        vertical-align: top;\n",
       "    }\n",
       "\n",
       "    .dataframe thead th {\n",
       "        text-align: right;\n",
       "    }\n",
       "</style>\n",
       "<table border=\"1\" class=\"dataframe\">\n",
       "  <thead>\n",
       "    <tr style=\"text-align: right;\">\n",
       "      <th></th>\n",
       "      <th>time</th>\n",
       "      <th>router</th>\n",
       "      <th>flit_id</th>\n",
       "      <th>flit_type</th>\n",
       "      <th>vnet</th>\n",
       "      <th>vc</th>\n",
       "      <th>src_ni</th>\n",
       "      <th>src_router</th>\n",
       "      <th>dst_ni</th>\n",
       "      <th>dst_router</th>\n",
       "      <th>enq_time</th>\n",
       "    </tr>\n",
       "  </thead>\n",
       "  <tbody>\n",
       "    <tr>\n",
       "      <td>count</td>\n",
       "      <td>1.000662e+06</td>\n",
       "      <td>1.000662e+06</td>\n",
       "      <td>1.000662e+06</td>\n",
       "      <td>1.000662e+06</td>\n",
       "      <td>1.000662e+06</td>\n",
       "      <td>1.000662e+06</td>\n",
       "      <td>1.000662e+06</td>\n",
       "      <td>1.000662e+06</td>\n",
       "      <td>1.000662e+06</td>\n",
       "      <td>1.000662e+06</td>\n",
       "      <td>1.000662e+06</td>\n",
       "    </tr>\n",
       "    <tr>\n",
       "      <td>mean</td>\n",
       "      <td>1.777219e+06</td>\n",
       "      <td>6.109115e+00</td>\n",
       "      <td>1.589578e+00</td>\n",
       "      <td>1.410419e+00</td>\n",
       "      <td>2.581657e+00</td>\n",
       "      <td>1.084519e+01</td>\n",
       "      <td>1.680582e+01</td>\n",
       "      <td>6.057608e+00</td>\n",
       "      <td>1.668478e+01</td>\n",
       "      <td>6.205826e+00</td>\n",
       "      <td>1.777198e+06</td>\n",
       "    </tr>\n",
       "    <tr>\n",
       "      <td>std</td>\n",
       "      <td>1.078651e+06</td>\n",
       "      <td>4.133718e+00</td>\n",
       "      <td>1.497324e+00</td>\n",
       "      <td>9.850452e-01</td>\n",
       "      <td>9.082896e-01</td>\n",
       "      <td>3.676090e+00</td>\n",
       "      <td>9.839893e+00</td>\n",
       "      <td>4.211358e+00</td>\n",
       "      <td>1.010745e+01</td>\n",
       "      <td>4.380265e+00</td>\n",
       "      <td>1.078650e+06</td>\n",
       "    </tr>\n",
       "    <tr>\n",
       "      <td>min</td>\n",
       "      <td>7.000000e+00</td>\n",
       "      <td>0.000000e+00</td>\n",
       "      <td>0.000000e+00</td>\n",
       "      <td>0.000000e+00</td>\n",
       "      <td>2.000000e+00</td>\n",
       "      <td>8.000000e+00</td>\n",
       "      <td>0.000000e+00</td>\n",
       "      <td>0.000000e+00</td>\n",
       "      <td>0.000000e+00</td>\n",
       "      <td>0.000000e+00</td>\n",
       "      <td>3.000000e+00</td>\n",
       "    </tr>\n",
       "    <tr>\n",
       "      <td>25%</td>\n",
       "      <td>7.542982e+05</td>\n",
       "      <td>3.000000e+00</td>\n",
       "      <td>0.000000e+00</td>\n",
       "      <td>1.000000e+00</td>\n",
       "      <td>2.000000e+00</td>\n",
       "      <td>8.000000e+00</td>\n",
       "      <td>1.000000e+01</td>\n",
       "      <td>3.000000e+00</td>\n",
       "      <td>1.000000e+01</td>\n",
       "      <td>3.000000e+00</td>\n",
       "      <td>7.542940e+05</td>\n",
       "    </tr>\n",
       "    <tr>\n",
       "      <td>50%</td>\n",
       "      <td>1.846223e+06</td>\n",
       "      <td>6.000000e+00</td>\n",
       "      <td>1.000000e+00</td>\n",
       "      <td>1.000000e+00</td>\n",
       "      <td>2.000000e+00</td>\n",
       "      <td>9.000000e+00</td>\n",
       "      <td>2.000000e+01</td>\n",
       "      <td>5.000000e+00</td>\n",
       "      <td>2.000000e+01</td>\n",
       "      <td>5.000000e+00</td>\n",
       "      <td>1.846190e+06</td>\n",
       "    </tr>\n",
       "    <tr>\n",
       "      <td>75%</td>\n",
       "      <td>2.699529e+06</td>\n",
       "      <td>1.000000e+01</td>\n",
       "      <td>3.000000e+00</td>\n",
       "      <td>2.000000e+00</td>\n",
       "      <td>4.000000e+00</td>\n",
       "      <td>1.600000e+01</td>\n",
       "      <td>2.400000e+01</td>\n",
       "      <td>1.000000e+01</td>\n",
       "      <td>2.400000e+01</td>\n",
       "      <td>1.000000e+01</td>\n",
       "      <td>2.699502e+06</td>\n",
       "    </tr>\n",
       "    <tr>\n",
       "      <td>max</td>\n",
       "      <td>3.270018e+06</td>\n",
       "      <td>1.500000e+01</td>\n",
       "      <td>4.000000e+00</td>\n",
       "      <td>3.000000e+00</td>\n",
       "      <td>4.000000e+00</td>\n",
       "      <td>1.900000e+01</td>\n",
       "      <td>3.100000e+01</td>\n",
       "      <td>1.500000e+01</td>\n",
       "      <td>3.100000e+01</td>\n",
       "      <td>1.500000e+01</td>\n",
       "      <td>3.270014e+06</td>\n",
       "    </tr>\n",
       "  </tbody>\n",
       "</table>\n",
       "</div>"
      ],
      "text/plain": [
       "               time        router       flit_id     flit_type          vnet  \\\n",
       "count  1.000662e+06  1.000662e+06  1.000662e+06  1.000662e+06  1.000662e+06   \n",
       "mean   1.777219e+06  6.109115e+00  1.589578e+00  1.410419e+00  2.581657e+00   \n",
       "std    1.078651e+06  4.133718e+00  1.497324e+00  9.850452e-01  9.082896e-01   \n",
       "min    7.000000e+00  0.000000e+00  0.000000e+00  0.000000e+00  2.000000e+00   \n",
       "25%    7.542982e+05  3.000000e+00  0.000000e+00  1.000000e+00  2.000000e+00   \n",
       "50%    1.846223e+06  6.000000e+00  1.000000e+00  1.000000e+00  2.000000e+00   \n",
       "75%    2.699529e+06  1.000000e+01  3.000000e+00  2.000000e+00  4.000000e+00   \n",
       "max    3.270018e+06  1.500000e+01  4.000000e+00  3.000000e+00  4.000000e+00   \n",
       "\n",
       "                 vc        src_ni    src_router        dst_ni    dst_router  \\\n",
       "count  1.000662e+06  1.000662e+06  1.000662e+06  1.000662e+06  1.000662e+06   \n",
       "mean   1.084519e+01  1.680582e+01  6.057608e+00  1.668478e+01  6.205826e+00   \n",
       "std    3.676090e+00  9.839893e+00  4.211358e+00  1.010745e+01  4.380265e+00   \n",
       "min    8.000000e+00  0.000000e+00  0.000000e+00  0.000000e+00  0.000000e+00   \n",
       "25%    8.000000e+00  1.000000e+01  3.000000e+00  1.000000e+01  3.000000e+00   \n",
       "50%    9.000000e+00  2.000000e+01  5.000000e+00  2.000000e+01  5.000000e+00   \n",
       "75%    1.600000e+01  2.400000e+01  1.000000e+01  2.400000e+01  1.000000e+01   \n",
       "max    1.900000e+01  3.100000e+01  1.500000e+01  3.100000e+01  1.500000e+01   \n",
       "\n",
       "           enq_time  \n",
       "count  1.000662e+06  \n",
       "mean   1.777198e+06  \n",
       "std    1.078650e+06  \n",
       "min    3.000000e+00  \n",
       "25%    7.542940e+05  \n",
       "50%    1.846190e+06  \n",
       "75%    2.699502e+06  \n",
       "max    3.270014e+06  "
      ]
     },
     "execution_count": 7,
     "metadata": {},
     "output_type": "execute_result"
    }
   ],
   "source": [
    "df.describe()"
   ]
  },
  {
   "cell_type": "code",
   "execution_count": 8,
   "metadata": {},
   "outputs": [
    {
     "data": {
      "text/plain": [
       "<matplotlib.axes._subplots.AxesSubplot at 0x277dbb6f3c8>"
      ]
     },
     "execution_count": 8,
     "metadata": {},
     "output_type": "execute_result"
    },
    {
     "data": {
      "image/png": "[encoded data removed]",
      "text/plain": [
       "<Figure size 432x288 with 1 Axes>"
      ]
     },
     "metadata": {
      "needs_background": "light"
     },
     "output_type": "display_data"
    }
   ],
   "source": [
    "sns.distplot(df['router'], kde = False, bins=30, color='blue')"
   ]
  },
  {
   "cell_type": "code",
   "execution_count": 9,
   "metadata": {},
   "outputs": [
    {
     "data": {
      "text/plain": [
       "<matplotlib.axes._subplots.AxesSubplot at 0x277dd0a8d48>"
      ]
     },
     "execution_count": 9,
     "metadata": {},
     "output_type": "execute_result"
    },
    {
     "data": {
      "image/png": "[encoded data removed]",
      "text/plain": [
       "<Figure size 432x288 with 1 Axes>"
      ]
     },
     "metadata": {
      "needs_background": "light"
     },
     "output_type": "display_data"
    }
   ],
   "source": [
    "sns.distplot(df['src_router'], kde = False, bins=30, color='blue')"
   ]
  },
  {
   "cell_type": "code",
   "execution_count": 10,
   "metadata": {},
   "outputs": [
    {
     "data": {
      "text/plain": [
       "<matplotlib.axes._subplots.AxesSubplot at 0x277e0385c88>"
      ]
     },
     "execution_count": 10,
     "metadata": {},
     "output_type": "execute_result"
    },
    {
     "data": {
      "image/png": "[encoded data removed]",
      "text/plain": [
       "<Figure size 432x288 with 1 Axes>"
      ]
     },
     "metadata": {
      "needs_background": "light"
     },
     "output_type": "display_data"
    }
   ],
   "source": [
    "sns.distplot(df['dst_router'], kde = False, bins=30, color='red')"
   ]
  },
  {
   "cell_type": "code",
   "execution_count": 11,
   "metadata": {},
   "outputs": [
    {
     "data": {
      "text/plain": [
       "<matplotlib.axes._subplots.AxesSubplot at 0x277e0471508>"
      ]
     },
     "execution_count": 11,
     "metadata": {},
     "output_type": "execute_result"
    },
    {
     "data": {
      "image/png": "[encoded data removed]",
      "text/plain": [
       "<Figure size 432x288 with 1 Axes>"
      ]
     },
     "metadata": {
      "needs_background": "light"
     },
     "output_type": "display_data"
    }
   ],
   "source": [
    "sns.distplot(df['inport'], kde = False, bins=30, color='green')"
   ]
  },
  {
   "cell_type": "code",
   "execution_count": 12,
   "metadata": {},
   "outputs": [
    {
     "data": {
      "text/plain": [
       "<matplotlib.axes._subplots.AxesSubplot at 0x277e0526208>"
      ]
     },
     "execution_count": 12,
     "metadata": {},
     "output_type": "execute_result"
    },
    {
     "data": {
      "image/png": "[encoded data removed]",
      "text/plain": [
       "<Figure size 432x288 with 1 Axes>"
      ]
     },
     "metadata": {
      "needs_background": "light"
     },
     "output_type": "display_data"
    }
   ],
   "source": [
    "sns.distplot(df['outport'], kde = False, bins=30, color='green')"
   ]
  },
  {
   "cell_type": "code",
   "execution_count": 13,
   "metadata": {},
   "outputs": [
    {
     "data": {
      "text/plain": [
       "<matplotlib.axes._subplots.AxesSubplot at 0x277e05d5588>"
      ]
     },
     "execution_count": 13,
     "metadata": {},
     "output_type": "execute_result"
    },
    {
     "data": {
      "image/png": "[encoded data removed]",
      "text/plain": [
       "<Figure size 432x288 with 1 Axes>"
      ]
     },
     "metadata": {
      "needs_background": "light"
     },
     "output_type": "display_data"
    }
   ],
   "source": [
    "sns.distplot(df['packet_type'], kde = False, bins=30, color='red')"
   ]
  },
  {
   "cell_type": "code",
   "execution_count": 14,
   "metadata": {},
   "outputs": [],
   "source": [
    "direction = {'Local': 0,'North': 1, 'East': 2, 'South':3,'West':4}\n",
    "df = df.replace({'inport': direction, 'outport': direction})"
   ]
  },
  {
   "cell_type": "code",
   "execution_count": 15,
   "metadata": {},
   "outputs": [],
   "source": [
    "data = {'GETS': 1,'GETX': 2,'GUX': 3,'DATA': 4, 'PUTX': 5,'PUTS': 6,'WB_ACK':7}\n",
    "df = df.replace({'packet_type': data})"
   ]
  },
  {
   "cell_type": "code",
   "execution_count": 16,
   "metadata": {},
   "outputs": [],
   "source": [
    "df['flit_id'] = df['flit_id']+1\n",
    "df['flit_type'] = df['flit_type']+1\n",
    "df['vnet'] = df['vnet']+1\n",
    "df['vc'] = df['vc']+1"
   ]
  },
  {
   "cell_type": "code",
   "execution_count": 17,
   "metadata": {},
   "outputs": [],
   "source": [
    "hoparr = {\"0to0\":0,\"0to1\":1,\"0to2\":2,\"0to3\":3,\"0to4\":1,\"0to5\":2,\"0to6\":3,\"0to7\":4,\"0to8\":2,\"0to9\":3,\"0to10\":4,\"0to11\":5,\"0to12\":3,\"0to13\":4,\"0to14\":5,\"0to15\":6,\n",
    "         \"1to1\":0,\"1to2\":1,\"1to3\":2,\"1to4\":2,\"1to5\":1,\"1to6\":2,\"1to7\":3,\"1to8\":3,\"1to9\":2,\"1to10\":3,\"1to11\":4,\"1to12\":5,\"1to13\":3,\"1to14\":4,\"1to15\":5,\n",
    "         \"2to2\":0,\"2to3\":1,\"2to4\":3,\"2to5\":2,\"2to6\":1,\"2to7\":2,\"2to8\":4,\"2to9\":3,\"2to10\":2,\"2to11\":3,\"2to12\":5,\"2to13\":4,\"2to14\":3,\"2to15\":4,\n",
    "         \"3to3\":0,\"3to4\":4,\"3to5\":3,\"3to6\":2,\"3to7\":1,\"3to8\":5,\"3to9\":4,\"3to10\":3,\"3to11\":2,\"3to12\":6,\"3to13\":5,\"3to14\":4,\"3to15\":3,\n",
    "         \"4to4\":0,\"4to5\":1,\"4to6\":2,\"4to7\":3,\"4to8\":1,\"4to9\":2,\"4to10\":3,\"4to11\":4,\"4to12\":2,\"4to13\":3,\"4to14\":4,\"4to15\":5,\n",
    "         \"5to5\":0,\"5to6\":1,\"5to7\":2,\"5to8\":2,\"5to9\":1,\"5to10\":2,\"5to11\":3,\"5to12\":3,\"5to13\":2,\"5to14\":3,\"5to15\":4,\n",
    "         \"6to6\":0,\"6to7\":1,\"6to8\":3,\"6to9\":2,\"6to10\":1,\"6to11\":2,\"6to12\":4,\"6to13\":3,\"6to14\":2,\"6to15\":3,\n",
    "         \"7to7\":0,\"7to8\":4,\"7to9\":3,\"7to10\":2,\"7to11\":1,\"7to12\":5,\"7to13\":4,\"7to14\":3,\"7to15\":2,\n",
    "         \"8to8\":0,\"8to9\":1,\"8to10\":2,\"8to11\":3,\"8to12\":1,\"8to13\":2,\"8to14\":3,\"8to15\":4,\n",
    "         \"9to9\":0,\"9to10\":1,\"9to11\":2,\"9to12\":2,\"9to13\":1,\"9to14\":2,\"9to15\":4,\n",
    "         \"10to10\":0,\"10to11\":1,\"10to12\":3,\"10to13\":2,\"10to14\":1,\"10to15\":2,\n",
    "         \"11to11\":0,\"11to12\":4,\"11to13\":3,\"11to14\":2,\"11to15\":1,\n",
    "         \"12to12\":0,\"12to13\":1,\"12to14\":2,\"12to15\":3,\n",
    "         \"13to13\":0,\"13to14\":1,\"13to15\":2,\n",
    "         \"14to14\":0,\"14to15\":1,\n",
    "         \"15to15\":0}"
   ]
  },
  {
   "cell_type": "code",
   "execution_count": 18,
   "metadata": {},
   "outputs": [],
   "source": [
    "packarr = {}\n",
    "packtime = {}\n",
    "packchunk = []\n",
    "hopcurrentarr = []\n",
    "hoptotarr = []\n",
    "hoppercentarr =[]\n",
    "waitingarr = []\n",
    "interval = 500\n",
    "count = 0\n",
    "for index, row in df.iterrows():\n",
    "    current_time = row[\"time\"]\n",
    "    enqueue_time = row[\"enq_time\"]\n",
    "    waiting_time = current_time - enqueue_time\n",
    "    waitingarr.append(waiting_time)\n",
    "    current_router = row[\"router\"]\n",
    "    src_router = row[\"src_router\"]\n",
    "    dst_router = row[\"dst_router\"]\n",
    "    src_router_temp = src_router\n",
    "    if src_router_temp>dst_router:\n",
    "        temph = src_router_temp\n",
    "        src_router_temp = dst_router\n",
    "        dst_router = temph\n",
    "    hop_count_string = str(src_router_temp)+\"to\"+str(dst_router)\n",
    "    src_router_temp = src_router\n",
    "    hop_count = hoparr.get(hop_count_string)\n",
    "    if src_router_temp>current_router:\n",
    "        tempc = src_router_temp\n",
    "        src_router_temp = current_router\n",
    "        current_router = tempc\n",
    "    current_hop_string = str(src_router_temp)+\"to\"+str(current_router)\n",
    "    current_hop = hoparr.get(current_hop_string)\n",
    "    if(current_hop == 0 and hop_count ==0):\n",
    "        hop_percent = 0\n",
    "    else:\n",
    "        hop_percent = current_hop/hop_count\n",
    "    hoptotarr.append(hop_count)\n",
    "    hopcurrentarr.append(current_hop)\n",
    "    hoppercentarr.append(hop_percent)\n",
    "    if row[\"packet_address\"] not in packarr:\n",
    "        packarr[row[\"packet_address\"]] = count\n",
    "        packtime[row[\"packet_address\"]] = row[\"time\"]\n",
    "        packchunk.append(packarr.get(row[\"packet_address\"]))\n",
    "        count+=1\n",
    "    else:\n",
    "        current_time = row[\"time\"]\n",
    "        position = packarr.get(row[\"packet_address\"])\n",
    "        pkt_time = packtime.get(row[\"packet_address\"])\n",
    "        current_max = max(packarr.values())\n",
    "        if (current_time-pkt_time)<interval:\n",
    "            packchunk.append(packarr.get(row[\"packet_address\"]))\n",
    "        else:\n",
    "            del packarr[row[\"packet_address\"]]\n",
    "            del packtime[row[\"packet_address\"]]\n",
    "            packarr[row[\"packet_address\"]] = current_max+1\n",
    "            packtime[row[\"packet_address\"]] = row[\"time\"]\n",
    "            packchunk.append(packarr.get(row[\"packet_address\"]))\n",
    "            if (current_max)==count:\n",
    "                count+=2\n",
    "            elif (current_max+1)==count:\n",
    "                count+=1"
   ]
  },
  {
   "cell_type": "code",
   "execution_count": 19,
   "metadata": {},
   "outputs": [
    {
     "data": {
      "text/plain": [
       "5741"
      ]
     },
     "execution_count": 19,
     "metadata": {},
     "output_type": "execute_result"
    }
   ],
   "source": [
    "df['packet_address'].nunique()"
   ]
  },
  {
   "cell_type": "code",
   "execution_count": 20,
   "metadata": {},
   "outputs": [
    {
     "name": "stdout",
     "output_type": "stream",
     "text": [
      "5741\n"
     ]
    }
   ],
   "source": [
    "print(len(packarr))"
   ]
  },
  {
   "cell_type": "code",
   "execution_count": 21,
   "metadata": {},
   "outputs": [
    {
     "name": "stdout",
     "output_type": "stream",
     "text": [
      "1000662\n"
     ]
    }
   ],
   "source": [
    "print(len(packchunk))"
   ]
  },
  {
   "cell_type": "code",
   "execution_count": 22,
   "metadata": {},
   "outputs": [],
   "source": [
    "df = df.assign(traversal_id=packchunk)\n",
    "df = df.assign(hop_count=hoptotarr)\n",
    "df = df.assign(current_hop=hopcurrentarr)\n",
    "df = df.assign(hop_percentage=hoppercentarr)\n",
    "df = df.assign(enqueue_time=waitingarr)"
   ]
  },
  {
   "cell_type": "code",
   "execution_count": 23,
   "metadata": {},
   "outputs": [],
   "source": [
    "df.rename(columns={'packet_type': 'cache_coherence_type', 'time': 'timestamp'}, inplace=True)"
   ]
  },
  {
   "cell_type": "code",
   "execution_count": 24,
   "metadata": {},
   "outputs": [],
   "source": [
    "df = df.drop(columns=['packet_address','enq_time'])"
   ]
  },
  {
   "cell_type": "code",
   "execution_count": 25,
   "metadata": {},
   "outputs": [
    {
     "data": {
      "text/plain": [
       "timestamp               0\n",
       "router                  0\n",
       "outport                 0\n",
       "inport                  0\n",
       "cache_coherence_type    0\n",
       "flit_id                 0\n",
       "flit_type               0\n",
       "vnet                    0\n",
       "vc                      0\n",
       "src_ni                  0\n",
       "src_router              0\n",
       "dst_ni                  0\n",
       "dst_router              0\n",
       "traversal_id            0\n",
       "hop_count               0\n",
       "current_hop             0\n",
       "hop_percentage          0\n",
       "enqueue_time            0\n",
       "dtype: int64"
      ]
     },
     "execution_count": 25,
     "metadata": {},
     "output_type": "execute_result"
    }
   ],
   "source": [
    "df.isnull().sum()"
   ]
  },
  {
   "cell_type": "code",
   "execution_count": 26,
   "metadata": {},
   "outputs": [
    {
     "data": {
      "text/plain": [
       "timestamp                 int64\n",
       "router                    int64\n",
       "outport                   int64\n",
       "inport                    int64\n",
       "cache_coherence_type      int64\n",
       "flit_id                   int64\n",
       "flit_type                 int64\n",
       "vnet                      int64\n",
       "vc                        int64\n",
       "src_ni                    int64\n",
       "src_router                int64\n",
       "dst_ni                    int64\n",
       "dst_router                int64\n",
       "traversal_id              int64\n",
       "hop_count                 int64\n",
       "current_hop               int64\n",
       "hop_percentage          float64\n",
       "enqueue_time              int64\n",
       "dtype: object"
      ]
     },
     "execution_count": 26,
     "metadata": {},
     "output_type": "execute_result"
    }
   ],
   "source": [
    "df.dtypes"
   ]
  },
  {
   "cell_type": "code",
   "execution_count": 27,
   "metadata": {},
   "outputs": [],
   "source": [
    "df.to_csv('2-fft-malicious-n-0-3-m-10.csv',index=False)"
   ]
  },
  {
   "cell_type": "markdown",
   "metadata": {},
   "source": [
    "#### Router Fetch"
   ]
  },
  {
   "cell_type": "code",
   "execution_count": 184,
   "metadata": {},
   "outputs": [
    {
     "data": {
      "text/plain": [
       "(1000662, 18)"
      ]
     },
     "execution_count": 184,
     "metadata": {},
     "output_type": "execute_result"
    }
   ],
   "source": [
    "df = pd.read_csv('2-fft-malicious-n-0-3-m-10.csv')\n",
    "df.shape"
   ]
  },
  {
   "cell_type": "code",
   "execution_count": 185,
   "metadata": {},
   "outputs": [],
   "source": [
    "df = df.loc[df['router'] == 15]\n",
    "df = df.drop(columns=['router'])\n",
    "df.to_csv('2-fft-malicious-n-0-3-m-10-r15.csv',index=False)"
   ]
  },
  {
   "cell_type": "code",
   "execution_count": 186,
   "metadata": {},
   "outputs": [],
   "source": [
    "df = pd.read_csv('2-fft-malicious-n-0-3-m-10-r15.csv')"
   ]
  },
  {
   "cell_type": "code",
   "execution_count": 187,
   "metadata": {},
   "outputs": [],
   "source": [
    "def timecount(df):\n",
    "    timearr = []\n",
    "    interval = 99\n",
    "    count = 0\n",
    "    for index, row in df.iterrows():\n",
    "        if row[\"timestamp\"]<=interval:\n",
    "            count+=1\n",
    "        else:\n",
    "            timearr.append([interval+1,count])\n",
    "            count=1\n",
    "            interval+=100\n",
    "    timearr.append([interval+1,count])\n",
    "    return timearr"
   ]
  },
  {
   "cell_type": "code",
   "execution_count": 188,
   "metadata": {},
   "outputs": [],
   "source": [
    "def maxcount(timearr,df):\n",
    "    countarr = []\n",
    "    increarr = []\n",
    "    maxarr = []\n",
    "    for i in range(len(timearr)):\n",
    "        for cnt in range(timearr[i][1],0,-1):\n",
    "            countarr.append(cnt)\n",
    "            maxarr.append(timearr[i][1])\n",
    "            increment = timearr[i][1] - cnt + 1\n",
    "            increarr.append(increment)\n",
    "    df = df.assign(packet_count_decr=countarr)\n",
    "    df = df.assign(packet_count_incr=increarr)\n",
    "    df = df.assign(max_packet_count=maxarr)\n",
    "    return df"
   ]
  },
  {
   "cell_type": "code",
   "execution_count": 189,
   "metadata": {},
   "outputs": [],
   "source": [
    "df = maxcount(timecount(df),df)"
   ]
  },
  {
   "cell_type": "code",
   "execution_count": 190,
   "metadata": {},
   "outputs": [
    {
     "data": {
      "text/html": [
       "<div>\n",
       "<style scoped>\n",
       "    .dataframe tbody tr th:only-of-type {\n",
       "        vertical-align: middle;\n",
       "    }\n",
       "\n",
       "    .dataframe tbody tr th {\n",
       "        vertical-align: top;\n",
       "    }\n",
       "\n",
       "    .dataframe thead th {\n",
       "        text-align: right;\n",
       "    }\n",
       "</style>\n",
       "<table border=\"1\" class=\"dataframe\">\n",
       "  <thead>\n",
       "    <tr style=\"text-align: right;\">\n",
       "      <th></th>\n",
       "      <th>timestamp</th>\n",
       "      <th>outport</th>\n",
       "      <th>inport</th>\n",
       "      <th>cache_coherence_type</th>\n",
       "      <th>flit_id</th>\n",
       "      <th>flit_type</th>\n",
       "      <th>vnet</th>\n",
       "      <th>vc</th>\n",
       "      <th>src_ni</th>\n",
       "      <th>src_router</th>\n",
       "      <th>dst_ni</th>\n",
       "      <th>dst_router</th>\n",
       "      <th>traversal_id</th>\n",
       "      <th>hop_count</th>\n",
       "      <th>current_hop</th>\n",
       "      <th>hop_percentage</th>\n",
       "      <th>enqueue_time</th>\n",
       "      <th>packet_count_decr</th>\n",
       "      <th>packet_count_incr</th>\n",
       "      <th>max_packet_count</th>\n",
       "    </tr>\n",
       "  </thead>\n",
       "  <tbody>\n",
       "    <tr>\n",
       "      <td>0</td>\n",
       "      <td>789</td>\n",
       "      <td>3</td>\n",
       "      <td>4</td>\n",
       "      <td>2</td>\n",
       "      <td>1</td>\n",
       "      <td>4</td>\n",
       "      <td>3</td>\n",
       "      <td>9</td>\n",
       "      <td>30</td>\n",
       "      <td>14</td>\n",
       "      <td>27</td>\n",
       "      <td>11</td>\n",
       "      <td>24</td>\n",
       "      <td>2</td>\n",
       "      <td>1</td>\n",
       "      <td>0.50</td>\n",
       "      <td>8</td>\n",
       "      <td>1</td>\n",
       "      <td>1</td>\n",
       "      <td>1</td>\n",
       "    </tr>\n",
       "    <tr>\n",
       "      <td>1</td>\n",
       "      <td>814</td>\n",
       "      <td>3</td>\n",
       "      <td>4</td>\n",
       "      <td>2</td>\n",
       "      <td>1</td>\n",
       "      <td>4</td>\n",
       "      <td>3</td>\n",
       "      <td>9</td>\n",
       "      <td>30</td>\n",
       "      <td>14</td>\n",
       "      <td>27</td>\n",
       "      <td>11</td>\n",
       "      <td>25</td>\n",
       "      <td>2</td>\n",
       "      <td>1</td>\n",
       "      <td>0.50</td>\n",
       "      <td>8</td>\n",
       "      <td>1</td>\n",
       "      <td>1</td>\n",
       "      <td>1</td>\n",
       "    </tr>\n",
       "    <tr>\n",
       "      <td>2</td>\n",
       "      <td>871</td>\n",
       "      <td>3</td>\n",
       "      <td>4</td>\n",
       "      <td>2</td>\n",
       "      <td>1</td>\n",
       "      <td>4</td>\n",
       "      <td>3</td>\n",
       "      <td>9</td>\n",
       "      <td>30</td>\n",
       "      <td>14</td>\n",
       "      <td>27</td>\n",
       "      <td>11</td>\n",
       "      <td>26</td>\n",
       "      <td>2</td>\n",
       "      <td>1</td>\n",
       "      <td>0.50</td>\n",
       "      <td>8</td>\n",
       "      <td>1</td>\n",
       "      <td>1</td>\n",
       "      <td>1</td>\n",
       "    </tr>\n",
       "    <tr>\n",
       "      <td>3</td>\n",
       "      <td>1205</td>\n",
       "      <td>3</td>\n",
       "      <td>4</td>\n",
       "      <td>2</td>\n",
       "      <td>1</td>\n",
       "      <td>4</td>\n",
       "      <td>3</td>\n",
       "      <td>9</td>\n",
       "      <td>28</td>\n",
       "      <td>12</td>\n",
       "      <td>27</td>\n",
       "      <td>11</td>\n",
       "      <td>36</td>\n",
       "      <td>4</td>\n",
       "      <td>3</td>\n",
       "      <td>0.75</td>\n",
       "      <td>16</td>\n",
       "      <td>1</td>\n",
       "      <td>1</td>\n",
       "      <td>1</td>\n",
       "    </tr>\n",
       "    <tr>\n",
       "      <td>4</td>\n",
       "      <td>1248</td>\n",
       "      <td>3</td>\n",
       "      <td>4</td>\n",
       "      <td>2</td>\n",
       "      <td>1</td>\n",
       "      <td>4</td>\n",
       "      <td>3</td>\n",
       "      <td>9</td>\n",
       "      <td>28</td>\n",
       "      <td>12</td>\n",
       "      <td>27</td>\n",
       "      <td>11</td>\n",
       "      <td>37</td>\n",
       "      <td>4</td>\n",
       "      <td>3</td>\n",
       "      <td>0.75</td>\n",
       "      <td>16</td>\n",
       "      <td>1</td>\n",
       "      <td>1</td>\n",
       "      <td>1</td>\n",
       "    </tr>\n",
       "    <tr>\n",
       "      <td>...</td>\n",
       "      <td>...</td>\n",
       "      <td>...</td>\n",
       "      <td>...</td>\n",
       "      <td>...</td>\n",
       "      <td>...</td>\n",
       "      <td>...</td>\n",
       "      <td>...</td>\n",
       "      <td>...</td>\n",
       "      <td>...</td>\n",
       "      <td>...</td>\n",
       "      <td>...</td>\n",
       "      <td>...</td>\n",
       "      <td>...</td>\n",
       "      <td>...</td>\n",
       "      <td>...</td>\n",
       "      <td>...</td>\n",
       "      <td>...</td>\n",
       "      <td>...</td>\n",
       "      <td>...</td>\n",
       "      <td>...</td>\n",
       "    </tr>\n",
       "    <tr>\n",
       "      <td>29215</td>\n",
       "      <td>3269016</td>\n",
       "      <td>3</td>\n",
       "      <td>4</td>\n",
       "      <td>6</td>\n",
       "      <td>3</td>\n",
       "      <td>2</td>\n",
       "      <td>3</td>\n",
       "      <td>9</td>\n",
       "      <td>30</td>\n",
       "      <td>14</td>\n",
       "      <td>27</td>\n",
       "      <td>11</td>\n",
       "      <td>30058</td>\n",
       "      <td>2</td>\n",
       "      <td>1</td>\n",
       "      <td>0.50</td>\n",
       "      <td>22</td>\n",
       "      <td>1</td>\n",
       "      <td>1</td>\n",
       "      <td>1</td>\n",
       "    </tr>\n",
       "    <tr>\n",
       "      <td>29216</td>\n",
       "      <td>3269023</td>\n",
       "      <td>3</td>\n",
       "      <td>4</td>\n",
       "      <td>6</td>\n",
       "      <td>4</td>\n",
       "      <td>2</td>\n",
       "      <td>3</td>\n",
       "      <td>9</td>\n",
       "      <td>30</td>\n",
       "      <td>14</td>\n",
       "      <td>27</td>\n",
       "      <td>11</td>\n",
       "      <td>30058</td>\n",
       "      <td>2</td>\n",
       "      <td>1</td>\n",
       "      <td>0.50</td>\n",
       "      <td>29</td>\n",
       "      <td>1</td>\n",
       "      <td>1</td>\n",
       "      <td>1</td>\n",
       "    </tr>\n",
       "    <tr>\n",
       "      <td>29217</td>\n",
       "      <td>3269030</td>\n",
       "      <td>3</td>\n",
       "      <td>4</td>\n",
       "      <td>6</td>\n",
       "      <td>5</td>\n",
       "      <td>3</td>\n",
       "      <td>3</td>\n",
       "      <td>9</td>\n",
       "      <td>30</td>\n",
       "      <td>14</td>\n",
       "      <td>27</td>\n",
       "      <td>11</td>\n",
       "      <td>30058</td>\n",
       "      <td>2</td>\n",
       "      <td>1</td>\n",
       "      <td>0.50</td>\n",
       "      <td>36</td>\n",
       "      <td>1</td>\n",
       "      <td>1</td>\n",
       "      <td>1</td>\n",
       "    </tr>\n",
       "    <tr>\n",
       "      <td>29218</td>\n",
       "      <td>3269031</td>\n",
       "      <td>3</td>\n",
       "      <td>4</td>\n",
       "      <td>2</td>\n",
       "      <td>1</td>\n",
       "      <td>4</td>\n",
       "      <td>3</td>\n",
       "      <td>10</td>\n",
       "      <td>30</td>\n",
       "      <td>14</td>\n",
       "      <td>27</td>\n",
       "      <td>11</td>\n",
       "      <td>30059</td>\n",
       "      <td>2</td>\n",
       "      <td>1</td>\n",
       "      <td>0.50</td>\n",
       "      <td>36</td>\n",
       "      <td>1</td>\n",
       "      <td>1</td>\n",
       "      <td>1</td>\n",
       "    </tr>\n",
       "    <tr>\n",
       "      <td>29219</td>\n",
       "      <td>3269032</td>\n",
       "      <td>3</td>\n",
       "      <td>4</td>\n",
       "      <td>7</td>\n",
       "      <td>1</td>\n",
       "      <td>4</td>\n",
       "      <td>3</td>\n",
       "      <td>11</td>\n",
       "      <td>30</td>\n",
       "      <td>14</td>\n",
       "      <td>3</td>\n",
       "      <td>3</td>\n",
       "      <td>30058</td>\n",
       "      <td>4</td>\n",
       "      <td>1</td>\n",
       "      <td>0.25</td>\n",
       "      <td>10</td>\n",
       "      <td>1</td>\n",
       "      <td>1</td>\n",
       "      <td>1</td>\n",
       "    </tr>\n",
       "  </tbody>\n",
       "</table>\n",
       "<p>29220 rows × 20 columns</p>\n",
       "</div>"
      ],
      "text/plain": [
       "       timestamp  outport  inport  cache_coherence_type  flit_id  flit_type  \\\n",
       "0            789        3       4                     2        1          4   \n",
       "1            814        3       4                     2        1          4   \n",
       "2            871        3       4                     2        1          4   \n",
       "3           1205        3       4                     2        1          4   \n",
       "4           1248        3       4                     2        1          4   \n",
       "...          ...      ...     ...                   ...      ...        ...   \n",
       "29215    3269016        3       4                     6        3          2   \n",
       "29216    3269023        3       4                     6        4          2   \n",
       "29217    3269030        3       4                     6        5          3   \n",
       "29218    3269031        3       4                     2        1          4   \n",
       "29219    3269032        3       4                     7        1          4   \n",
       "\n",
       "       vnet  vc  src_ni  src_router  dst_ni  dst_router  traversal_id  \\\n",
       "0         3   9      30          14      27          11            24   \n",
       "1         3   9      30          14      27          11            25   \n",
       "2         3   9      30          14      27          11            26   \n",
       "3         3   9      28          12      27          11            36   \n",
       "4         3   9      28          12      27          11            37   \n",
       "...     ...  ..     ...         ...     ...         ...           ...   \n",
       "29215     3   9      30          14      27          11         30058   \n",
       "29216     3   9      30          14      27          11         30058   \n",
       "29217     3   9      30          14      27          11         30058   \n",
       "29218     3  10      30          14      27          11         30059   \n",
       "29219     3  11      30          14       3           3         30058   \n",
       "\n",
       "       hop_count  current_hop  hop_percentage  enqueue_time  \\\n",
       "0              2            1            0.50             8   \n",
       "1              2            1            0.50             8   \n",
       "2              2            1            0.50             8   \n",
       "3              4            3            0.75            16   \n",
       "4              4            3            0.75            16   \n",
       "...          ...          ...             ...           ...   \n",
       "29215          2            1            0.50            22   \n",
       "29216          2            1            0.50            29   \n",
       "29217          2            1            0.50            36   \n",
       "29218          2            1            0.50            36   \n",
       "29219          4            1            0.25            10   \n",
       "\n",
       "       packet_count_decr  packet_count_incr  max_packet_count  \n",
       "0                      1                  1                 1  \n",
       "1                      1                  1                 1  \n",
       "2                      1                  1                 1  \n",
       "3                      1                  1                 1  \n",
       "4                      1                  1                 1  \n",
       "...                  ...                ...               ...  \n",
       "29215                  1                  1                 1  \n",
       "29216                  1                  1                 1  \n",
       "29217                  1                  1                 1  \n",
       "29218                  1                  1                 1  \n",
       "29219                  1                  1                 1  \n",
       "\n",
       "[29220 rows x 20 columns]"
      ]
     },
     "execution_count": 190,
     "metadata": {},
     "output_type": "execute_result"
    }
   ],
   "source": [
    "df"
   ]
  },
  {
   "cell_type": "code",
   "execution_count": 191,
   "metadata": {},
   "outputs": [],
   "source": [
    "def rename(df):\n",
    "    df['traversal_id'] = df['traversal_id']+1\n",
    "    df[\"packet_count_index\"] = df[\"packet_count_decr\"]*df[\"packet_count_incr\"]\n",
    "    df[\"packet_max_index\"] = df[\"packet_count_index\"]*df[\"max_packet_count\"]\n",
    "    df[\"port_index\"] = df[\"outport\"]*df[\"inport\"]\n",
    "    df[\"cache_coherence_flit_index\"] = df[\"cache_coherence_type\"]*df[\"flit_id\"]\n",
    "    df[\"flit_index\"] = df[\"cache_coherence_flit_index\"]*df[\"flit_type\"]\n",
    "    df[\"traversal_index\"] = df[\"flit_index\"]*df[\"traversal_id\"]\n",
    "    df[\"cache_coherence_vnet_index\"] = df[\"cache_coherence_type\"]*df[\"vnet\"]\n",
    "    df[\"vnet_vc_index\"] = df[\"vnet\"]*df[\"vc\"]\n",
    "    df[\"vnet_vc_cc_index\"] = df[\"vnet\"]*df[\"cache_coherence_vnet_index\"]\n",
    "    df.head(50)"
   ]
  },
  {
   "cell_type": "code",
   "execution_count": 192,
   "metadata": {},
   "outputs": [],
   "source": [
    "rename(df)"
   ]
  },
  {
   "cell_type": "code",
   "execution_count": 193,
   "metadata": {},
   "outputs": [],
   "source": [
    "df['target'] = 0"
   ]
  },
  {
   "cell_type": "code",
   "execution_count": 194,
   "metadata": {},
   "outputs": [
    {
     "data": {
      "text/html": [
       "<div>\n",
       "<style scoped>\n",
       "    .dataframe tbody tr th:only-of-type {\n",
       "        vertical-align: middle;\n",
       "    }\n",
       "\n",
       "    .dataframe tbody tr th {\n",
       "        vertical-align: top;\n",
       "    }\n",
       "\n",
       "    .dataframe thead th {\n",
       "        text-align: right;\n",
       "    }\n",
       "</style>\n",
       "<table border=\"1\" class=\"dataframe\">\n",
       "  <thead>\n",
       "    <tr style=\"text-align: right;\">\n",
       "      <th></th>\n",
       "      <th>timestamp</th>\n",
       "      <th>outport</th>\n",
       "      <th>inport</th>\n",
       "      <th>cache_coherence_type</th>\n",
       "      <th>flit_id</th>\n",
       "      <th>flit_type</th>\n",
       "      <th>vnet</th>\n",
       "      <th>vc</th>\n",
       "      <th>src_ni</th>\n",
       "      <th>src_router</th>\n",
       "      <th>...</th>\n",
       "      <th>packet_count_index</th>\n",
       "      <th>packet_max_index</th>\n",
       "      <th>port_index</th>\n",
       "      <th>cache_coherence_flit_index</th>\n",
       "      <th>flit_index</th>\n",
       "      <th>traversal_index</th>\n",
       "      <th>cache_coherence_vnet_index</th>\n",
       "      <th>vnet_vc_index</th>\n",
       "      <th>vnet_vc_cc_index</th>\n",
       "      <th>target</th>\n",
       "    </tr>\n",
       "  </thead>\n",
       "  <tbody>\n",
       "    <tr>\n",
       "      <td>0</td>\n",
       "      <td>789</td>\n",
       "      <td>3</td>\n",
       "      <td>4</td>\n",
       "      <td>2</td>\n",
       "      <td>1</td>\n",
       "      <td>4</td>\n",
       "      <td>3</td>\n",
       "      <td>9</td>\n",
       "      <td>30</td>\n",
       "      <td>14</td>\n",
       "      <td>...</td>\n",
       "      <td>1</td>\n",
       "      <td>1</td>\n",
       "      <td>12</td>\n",
       "      <td>2</td>\n",
       "      <td>8</td>\n",
       "      <td>200</td>\n",
       "      <td>6</td>\n",
       "      <td>27</td>\n",
       "      <td>18</td>\n",
       "      <td>0</td>\n",
       "    </tr>\n",
       "    <tr>\n",
       "      <td>1</td>\n",
       "      <td>814</td>\n",
       "      <td>3</td>\n",
       "      <td>4</td>\n",
       "      <td>2</td>\n",
       "      <td>1</td>\n",
       "      <td>4</td>\n",
       "      <td>3</td>\n",
       "      <td>9</td>\n",
       "      <td>30</td>\n",
       "      <td>14</td>\n",
       "      <td>...</td>\n",
       "      <td>1</td>\n",
       "      <td>1</td>\n",
       "      <td>12</td>\n",
       "      <td>2</td>\n",
       "      <td>8</td>\n",
       "      <td>208</td>\n",
       "      <td>6</td>\n",
       "      <td>27</td>\n",
       "      <td>18</td>\n",
       "      <td>0</td>\n",
       "    </tr>\n",
       "    <tr>\n",
       "      <td>2</td>\n",
       "      <td>871</td>\n",
       "      <td>3</td>\n",
       "      <td>4</td>\n",
       "      <td>2</td>\n",
       "      <td>1</td>\n",
       "      <td>4</td>\n",
       "      <td>3</td>\n",
       "      <td>9</td>\n",
       "      <td>30</td>\n",
       "      <td>14</td>\n",
       "      <td>...</td>\n",
       "      <td>1</td>\n",
       "      <td>1</td>\n",
       "      <td>12</td>\n",
       "      <td>2</td>\n",
       "      <td>8</td>\n",
       "      <td>216</td>\n",
       "      <td>6</td>\n",
       "      <td>27</td>\n",
       "      <td>18</td>\n",
       "      <td>0</td>\n",
       "    </tr>\n",
       "    <tr>\n",
       "      <td>3</td>\n",
       "      <td>1205</td>\n",
       "      <td>3</td>\n",
       "      <td>4</td>\n",
       "      <td>2</td>\n",
       "      <td>1</td>\n",
       "      <td>4</td>\n",
       "      <td>3</td>\n",
       "      <td>9</td>\n",
       "      <td>28</td>\n",
       "      <td>12</td>\n",
       "      <td>...</td>\n",
       "      <td>1</td>\n",
       "      <td>1</td>\n",
       "      <td>12</td>\n",
       "      <td>2</td>\n",
       "      <td>8</td>\n",
       "      <td>296</td>\n",
       "      <td>6</td>\n",
       "      <td>27</td>\n",
       "      <td>18</td>\n",
       "      <td>0</td>\n",
       "    </tr>\n",
       "    <tr>\n",
       "      <td>4</td>\n",
       "      <td>1248</td>\n",
       "      <td>3</td>\n",
       "      <td>4</td>\n",
       "      <td>2</td>\n",
       "      <td>1</td>\n",
       "      <td>4</td>\n",
       "      <td>3</td>\n",
       "      <td>9</td>\n",
       "      <td>28</td>\n",
       "      <td>12</td>\n",
       "      <td>...</td>\n",
       "      <td>1</td>\n",
       "      <td>1</td>\n",
       "      <td>12</td>\n",
       "      <td>2</td>\n",
       "      <td>8</td>\n",
       "      <td>304</td>\n",
       "      <td>6</td>\n",
       "      <td>27</td>\n",
       "      <td>18</td>\n",
       "      <td>0</td>\n",
       "    </tr>\n",
       "    <tr>\n",
       "      <td>...</td>\n",
       "      <td>...</td>\n",
       "      <td>...</td>\n",
       "      <td>...</td>\n",
       "      <td>...</td>\n",
       "      <td>...</td>\n",
       "      <td>...</td>\n",
       "      <td>...</td>\n",
       "      <td>...</td>\n",
       "      <td>...</td>\n",
       "      <td>...</td>\n",
       "      <td>...</td>\n",
       "      <td>...</td>\n",
       "      <td>...</td>\n",
       "      <td>...</td>\n",
       "      <td>...</td>\n",
       "      <td>...</td>\n",
       "      <td>...</td>\n",
       "      <td>...</td>\n",
       "      <td>...</td>\n",
       "      <td>...</td>\n",
       "      <td>...</td>\n",
       "    </tr>\n",
       "    <tr>\n",
       "      <td>29215</td>\n",
       "      <td>3269016</td>\n",
       "      <td>3</td>\n",
       "      <td>4</td>\n",
       "      <td>6</td>\n",
       "      <td>3</td>\n",
       "      <td>2</td>\n",
       "      <td>3</td>\n",
       "      <td>9</td>\n",
       "      <td>30</td>\n",
       "      <td>14</td>\n",
       "      <td>...</td>\n",
       "      <td>1</td>\n",
       "      <td>1</td>\n",
       "      <td>12</td>\n",
       "      <td>18</td>\n",
       "      <td>36</td>\n",
       "      <td>1082124</td>\n",
       "      <td>18</td>\n",
       "      <td>27</td>\n",
       "      <td>54</td>\n",
       "      <td>0</td>\n",
       "    </tr>\n",
       "    <tr>\n",
       "      <td>29216</td>\n",
       "      <td>3269023</td>\n",
       "      <td>3</td>\n",
       "      <td>4</td>\n",
       "      <td>6</td>\n",
       "      <td>4</td>\n",
       "      <td>2</td>\n",
       "      <td>3</td>\n",
       "      <td>9</td>\n",
       "      <td>30</td>\n",
       "      <td>14</td>\n",
       "      <td>...</td>\n",
       "      <td>1</td>\n",
       "      <td>1</td>\n",
       "      <td>12</td>\n",
       "      <td>24</td>\n",
       "      <td>48</td>\n",
       "      <td>1442832</td>\n",
       "      <td>18</td>\n",
       "      <td>27</td>\n",
       "      <td>54</td>\n",
       "      <td>0</td>\n",
       "    </tr>\n",
       "    <tr>\n",
       "      <td>29217</td>\n",
       "      <td>3269030</td>\n",
       "      <td>3</td>\n",
       "      <td>4</td>\n",
       "      <td>6</td>\n",
       "      <td>5</td>\n",
       "      <td>3</td>\n",
       "      <td>3</td>\n",
       "      <td>9</td>\n",
       "      <td>30</td>\n",
       "      <td>14</td>\n",
       "      <td>...</td>\n",
       "      <td>1</td>\n",
       "      <td>1</td>\n",
       "      <td>12</td>\n",
       "      <td>30</td>\n",
       "      <td>90</td>\n",
       "      <td>2705310</td>\n",
       "      <td>18</td>\n",
       "      <td>27</td>\n",
       "      <td>54</td>\n",
       "      <td>0</td>\n",
       "    </tr>\n",
       "    <tr>\n",
       "      <td>29218</td>\n",
       "      <td>3269031</td>\n",
       "      <td>3</td>\n",
       "      <td>4</td>\n",
       "      <td>2</td>\n",
       "      <td>1</td>\n",
       "      <td>4</td>\n",
       "      <td>3</td>\n",
       "      <td>10</td>\n",
       "      <td>30</td>\n",
       "      <td>14</td>\n",
       "      <td>...</td>\n",
       "      <td>1</td>\n",
       "      <td>1</td>\n",
       "      <td>12</td>\n",
       "      <td>2</td>\n",
       "      <td>8</td>\n",
       "      <td>240480</td>\n",
       "      <td>6</td>\n",
       "      <td>30</td>\n",
       "      <td>18</td>\n",
       "      <td>0</td>\n",
       "    </tr>\n",
       "    <tr>\n",
       "      <td>29219</td>\n",
       "      <td>3269032</td>\n",
       "      <td>3</td>\n",
       "      <td>4</td>\n",
       "      <td>7</td>\n",
       "      <td>1</td>\n",
       "      <td>4</td>\n",
       "      <td>3</td>\n",
       "      <td>11</td>\n",
       "      <td>30</td>\n",
       "      <td>14</td>\n",
       "      <td>...</td>\n",
       "      <td>1</td>\n",
       "      <td>1</td>\n",
       "      <td>12</td>\n",
       "      <td>7</td>\n",
       "      <td>28</td>\n",
       "      <td>841652</td>\n",
       "      <td>21</td>\n",
       "      <td>33</td>\n",
       "      <td>63</td>\n",
       "      <td>0</td>\n",
       "    </tr>\n",
       "  </tbody>\n",
       "</table>\n",
       "<p>29220 rows × 30 columns</p>\n",
       "</div>"
      ],
      "text/plain": [
       "       timestamp  outport  inport  cache_coherence_type  flit_id  flit_type  \\\n",
       "0            789        3       4                     2        1          4   \n",
       "1            814        3       4                     2        1          4   \n",
       "2            871        3       4                     2        1          4   \n",
       "3           1205        3       4                     2        1          4   \n",
       "4           1248        3       4                     2        1          4   \n",
       "...          ...      ...     ...                   ...      ...        ...   \n",
       "29215    3269016        3       4                     6        3          2   \n",
       "29216    3269023        3       4                     6        4          2   \n",
       "29217    3269030        3       4                     6        5          3   \n",
       "29218    3269031        3       4                     2        1          4   \n",
       "29219    3269032        3       4                     7        1          4   \n",
       "\n",
       "       vnet  vc  src_ni  src_router  ...  packet_count_index  \\\n",
       "0         3   9      30          14  ...                   1   \n",
       "1         3   9      30          14  ...                   1   \n",
       "2         3   9      30          14  ...                   1   \n",
       "3         3   9      28          12  ...                   1   \n",
       "4         3   9      28          12  ...                   1   \n",
       "...     ...  ..     ...         ...  ...                 ...   \n",
       "29215     3   9      30          14  ...                   1   \n",
       "29216     3   9      30          14  ...                   1   \n",
       "29217     3   9      30          14  ...                   1   \n",
       "29218     3  10      30          14  ...                   1   \n",
       "29219     3  11      30          14  ...                   1   \n",
       "\n",
       "       packet_max_index  port_index  cache_coherence_flit_index  flit_index  \\\n",
       "0                     1          12                           2           8   \n",
       "1                     1          12                           2           8   \n",
       "2                     1          12                           2           8   \n",
       "3                     1          12                           2           8   \n",
       "4                     1          12                           2           8   \n",
       "...                 ...         ...                         ...         ...   \n",
       "29215                 1          12                          18          36   \n",
       "29216                 1          12                          24          48   \n",
       "29217                 1          12                          30          90   \n",
       "29218                 1          12                           2           8   \n",
       "29219                 1          12                           7          28   \n",
       "\n",
       "       traversal_index  cache_coherence_vnet_index  vnet_vc_index  \\\n",
       "0                  200                           6             27   \n",
       "1                  208                           6             27   \n",
       "2                  216                           6             27   \n",
       "3                  296                           6             27   \n",
       "4                  304                           6             27   \n",
       "...                ...                         ...            ...   \n",
       "29215          1082124                          18             27   \n",
       "29216          1442832                          18             27   \n",
       "29217          2705310                          18             27   \n",
       "29218           240480                           6             30   \n",
       "29219           841652                          21             33   \n",
       "\n",
       "       vnet_vc_cc_index  target  \n",
       "0                    18       0  \n",
       "1                    18       0  \n",
       "2                    18       0  \n",
       "3                    18       0  \n",
       "4                    18       0  \n",
       "...                 ...     ...  \n",
       "29215                54       0  \n",
       "29216                54       0  \n",
       "29217                54       0  \n",
       "29218                18       0  \n",
       "29219                63       0  \n",
       "\n",
       "[29220 rows x 30 columns]"
      ]
     },
     "execution_count": 194,
     "metadata": {},
     "output_type": "execute_result"
    }
   ],
   "source": [
    "df"
   ]
  },
  {
   "cell_type": "code",
   "execution_count": 195,
   "metadata": {},
   "outputs": [
    {
     "data": {
      "text/plain": [
       "timestamp                       int64\n",
       "outport                         int64\n",
       "inport                          int64\n",
       "cache_coherence_type            int64\n",
       "flit_id                         int64\n",
       "flit_type                       int64\n",
       "vnet                            int64\n",
       "vc                              int64\n",
       "src_ni                          int64\n",
       "src_router                      int64\n",
       "dst_ni                          int64\n",
       "dst_router                      int64\n",
       "traversal_id                    int64\n",
       "hop_count                       int64\n",
       "current_hop                     int64\n",
       "hop_percentage                float64\n",
       "enqueue_time                    int64\n",
       "packet_count_decr               int64\n",
       "packet_count_incr               int64\n",
       "max_packet_count                int64\n",
       "packet_count_index              int64\n",
       "packet_max_index                int64\n",
       "port_index                      int64\n",
       "cache_coherence_flit_index      int64\n",
       "flit_index                      int64\n",
       "traversal_index                 int64\n",
       "cache_coherence_vnet_index      int64\n",
       "vnet_vc_index                   int64\n",
       "vnet_vc_cc_index                int64\n",
       "target                          int64\n",
       "dtype: object"
      ]
     },
     "execution_count": 195,
     "metadata": {},
     "output_type": "execute_result"
    }
   ],
   "source": [
    "df.dtypes"
   ]
  },
  {
   "cell_type": "code",
   "execution_count": 196,
   "metadata": {},
   "outputs": [],
   "source": [
    "df.to_csv('2-fft-malicious-n-0-3-m-10-r15.csv',index=False)"
   ]
  }
 ],
 "metadata": {
  "kernelspec": {
   "display_name": "Python 3",
   "language": "python",
   "name": "python3"
  },
  "language_info": {
   "codemirror_mode": {
    "name": "ipython",
    "version": 3
   },
   "file_extension": ".py",
   "mimetype": "text/x-python",
   "name": "python",
   "nbconvert_exporter": "python",
   "pygments_lexer": "ipython3",
   "version": "3.7.4"
  }
 },
 "nbformat": 4,
 "nbformat_minor": 4
}
