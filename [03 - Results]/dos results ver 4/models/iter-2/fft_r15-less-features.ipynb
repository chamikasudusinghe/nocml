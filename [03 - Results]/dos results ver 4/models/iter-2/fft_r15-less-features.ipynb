{
  "nbformat": 4,
  "nbformat_minor": 0,
  "metadata": {
    "accelerator": "TPU",
    "colab": {
      "name": "fft-r15.ipynb",
      "provenance": [],
      "collapsed_sections": [],
      "toc_visible": true,
      "include_colab_link": true
    },
    "kernelspec": {
      "display_name": "Python 3",
      "language": "python",
      "name": "python3"
    },
    "language_info": {
      "codemirror_mode": {
        "name": "ipython",
        "version": 3
      },
      "file_extension": ".py",
      "mimetype": "text/x-python",
      "name": "python",
      "nbconvert_exporter": "python",
      "pygments_lexer": "ipython3",
      "version": "3.7.4"
    }
  },
  "cells": [
    {
      "cell_type": "markdown",
      "metadata": {
        "id": "view-in-github",
        "colab_type": "text"
      },
      "source": [
        "<a href=\"https://colab.research.google.com/github/chamikasudusinghe/nocml/blob/master/fft_r15-less-features.ipynb\" target=\"_parent\"><img src=\"https://colab.research.google.com/assets/colab-badge.svg\" alt=\"Open In Colab\"/></a>"
      ]
    },
    {
      "cell_type": "markdown",
      "metadata": {
        "colab_type": "text",
        "id": "sFmit6AlgLJZ"
      },
      "source": [
        "Module Imports for Data Fetiching and Visualization\n",
        "\n"
      ]
    },
    {
      "cell_type": "code",
      "metadata": {
        "colab_type": "code",
        "id": "k-c4z9vpHg1z",
        "colab": {
          "base_uri": "https://localhost:8080/",
          "height": 71
        },
        "outputId": "dda4e047-d678-442c-9cbc-5562a4ac2b3e"
      },
      "source": [
        "import time\n",
        "import pandas as pd\n",
        "import numpy as np\n",
        "%matplotlib inline\n",
        "import matplotlib.pyplot as plt\n",
        "import seaborn as sns"
      ],
      "execution_count": 1,
      "outputs": [
        {
          "output_type": "stream",
          "text": [
            "/usr/local/lib/python3.6/dist-packages/statsmodels/tools/_testing.py:19: FutureWarning: pandas.util.testing is deprecated. Use the functions in the public API at pandas.testing instead.\n",
            "  import pandas.util.testing as tm\n"
          ],
          "name": "stderr"
        }
      ]
    },
    {
      "cell_type": "markdown",
      "metadata": {
        "colab_type": "text",
        "id": "wY7RDDLBgdMs"
      },
      "source": [
        "Module Imports for Data Processing"
      ]
    },
    {
      "cell_type": "code",
      "metadata": {
        "colab_type": "code",
        "id": "zhZHRUXxHg13",
        "colab": {}
      },
      "source": [
        "from sklearn import preprocessing\n",
        "from sklearn.feature_selection import SelectKBest\n",
        "from sklearn.feature_selection import chi2\n",
        "import pickle"
      ],
      "execution_count": 0,
      "outputs": []
    },
    {
      "cell_type": "markdown",
      "metadata": {
        "colab_type": "text",
        "id": "GEH4mU3Tghd8"
      },
      "source": [
        "Importing Dataset from GitHub"
      ]
    },
    {
      "cell_type": "markdown",
      "metadata": {
        "id": "q9-4lGZ6NMSt",
        "colab_type": "text"
      },
      "source": [
        "Train Data"
      ]
    },
    {
      "cell_type": "code",
      "metadata": {
        "id": "NblOX7-5PrjB",
        "colab_type": "code",
        "colab": {}
      },
      "source": [
        "df1 = pd.read_csv('https://raw.githubusercontent.com/chamikasudusinghe/nocml/master/dos%20results%20ver%204/router-dataset/r15/2-fft-malicious-n-0-15-m-1-r15.csv?token=AKVFSOGFDC75YKXKWNBM67C63JJVE')\n",
        "df2 = pd.read_csv('https://raw.githubusercontent.com/chamikasudusinghe/nocml/master/dos%20results%20ver%204/router-dataset/r15/2-fft-malicious-n-0-15-m-11-r15.csv?token=AKVFSOAFEHDGNJ6UICOJZQS63JJVK')\n",
        "\n",
        "df3 = pd.read_csv('https://raw.githubusercontent.com/chamikasudusinghe/nocml/master/dos%20results%20ver%204/router-dataset/r15/2-fft-malicious-n-0-4-m-1-r15.csv?token=AKVFSOBNA22AKZ5A7GS2KHC63JJVM')\n",
        "df4 = pd.read_csv('https://raw.githubusercontent.com/chamikasudusinghe/nocml/master/dos%20results%20ver%204/router-dataset/r15/2-fft-malicious-n-0-4-m-11-r15.csv?token=AKVFSOHBRFY5B2I4JOQNCKK63JJVS')\n",
        "\n",
        "df5 = pd.read_csv('https://raw.githubusercontent.com/chamikasudusinghe/nocml/master/dos%20results%20ver%204/router-dataset/r15/2-fft-malicious-n-0-6-m-1-r15.csv?token=AKVFSOAO6OGH5SOSF4HPWXK63JJVW')\n",
        "df6 = pd.read_csv('https://raw.githubusercontent.com/chamikasudusinghe/nocml/master/dos%20results%20ver%204/router-dataset/r15/2-fft-malicious-n-0-6-m-11-r15.csv?token=AKVFSOHAYSAW7BRAVDOG6TS63JJV4')\n",
        "\n",
        "df7 = pd.read_csv('https://raw.githubusercontent.com/chamikasudusinghe/nocml/master/dos%20results%20ver%204/router-dataset/r15/2-fft-malicious-n-0-9-m-1-r15.csv?token=AKVFSOHEWRSRFLKWFEVUENC63JJV6')\n",
        "df8 = pd.read_csv('https://raw.githubusercontent.com/chamikasudusinghe/nocml/master/dos%20results%20ver%204/router-dataset/r15/2-fft-malicious-n-0-9-m-11-r15.csv?token=AKVFSOCWPRWAMASKNUZN2UK63JJWC')\n",
        "\n",
        "df9 = pd.read_csv('https://raw.githubusercontent.com/chamikasudusinghe/nocml/master/dos%20results%20ver%204/router-dataset/r15/2-fft-normal-n-0-15-r15.csv?token=AKVFSOCRVU5HHXZ5Z37GBOK63JJWI')\n",
        "df10 = pd.read_csv('https://raw.githubusercontent.com/chamikasudusinghe/nocml/master/dos%20results%20ver%204/router-dataset/r15/2-fft-normal-n-0-4-r15.csv?token=AKVFSOC5RYQJMU2AIZ6UGJC63JJWM')\n",
        "df11 = pd.read_csv('https://raw.githubusercontent.com/chamikasudusinghe/nocml/master/dos%20results%20ver%204/router-dataset/r15/2-fft-normal-n-0-6-r15.csv?token=AKVFSODRSWN6WZDROVLWPPK63JJWQ')\n",
        "df12 = pd.read_csv('https://raw.githubusercontent.com/chamikasudusinghe/nocml/master/dos%20results%20ver%204/router-dataset/r15/2-fft-normal-n-0-9-r15.csv?token=AKVFSOFSNSJUT6DCGV5BNT263JJWY')"
      ],
      "execution_count": 0,
      "outputs": []
    },
    {
      "cell_type": "code",
      "metadata": {
        "id": "YtODRV2NPem1",
        "colab_type": "code",
        "outputId": "4c4e01a7-ccae-4a5f-9c5d-60da63d7e983",
        "colab": {
          "base_uri": "https://localhost:8080/",
          "height": 221
        }
      },
      "source": [
        "print(df1.shape)\n",
        "print(df2.shape)\n",
        "print(df3.shape)\n",
        "print(df4.shape)\n",
        "print(df5.shape)\n",
        "print(df6.shape)\n",
        "print(df7.shape)\n",
        "print(df8.shape)\n",
        "print(df9.shape)\n",
        "print(df10.shape)\n",
        "print(df11.shape)\n",
        "print(df12.shape)"
      ],
      "execution_count": 4,
      "outputs": [
        {
          "output_type": "stream",
          "text": [
            "(88036, 26)\n",
            "(88873, 26)\n",
            "(28382, 26)\n",
            "(29188, 26)\n",
            "(28382, 26)\n",
            "(29188, 26)\n",
            "(28382, 26)\n",
            "(29188, 26)\n",
            "(78463, 26)\n",
            "(18792, 26)\n",
            "(18792, 26)\n",
            "(18792, 26)\n"
          ],
          "name": "stdout"
        }
      ]
    },
    {
      "cell_type": "code",
      "metadata": {
        "id": "9L0CwK80NgDG",
        "colab_type": "code",
        "colab": {}
      },
      "source": [
        "df = df1.append(df2, ignore_index=True,sort=False)\n",
        "df = df.append(df3, ignore_index=True,sort=False)\n",
        "df = df.append(df4, ignore_index=True,sort=False)\n",
        "df = df.append(df5, ignore_index=True,sort=False)\n",
        "df = df.append(df6, ignore_index=True,sort=False)\n",
        "df = df.append(df7, ignore_index=True,sort=False)\n",
        "df = df.append(df8, ignore_index=True,sort=False)\n",
        "df = df.append(df9, ignore_index=True,sort=False)\n",
        "df = df.append(df10, ignore_index=True,sort=False)\n",
        "df = df.append(df11, ignore_index=True,sort=False)\n",
        "df = df.append(df12, ignore_index=True,sort=False)\n",
        "\n",
        "df = df.sort_values('timestamp')\n",
        "df.to_csv('fft-r12-train.csv',index=False)"
      ],
      "execution_count": 0,
      "outputs": []
    },
    {
      "cell_type": "code",
      "metadata": {
        "id": "tovtj_19OeCa",
        "colab_type": "code",
        "outputId": "d3543df7-5cf8-4849-be04-8c0dd6ce4d84",
        "colab": {
          "base_uri": "https://localhost:8080/",
          "height": 439
        }
      },
      "source": [
        "df = pd.read_csv('fft-r12-train.csv')\n",
        "df"
      ],
      "execution_count": 6,
      "outputs": [
        {
          "output_type": "execute_result",
          "data": {
            "text/html": [
              "<div>\n",
              "<style scoped>\n",
              "    .dataframe tbody tr th:only-of-type {\n",
              "        vertical-align: middle;\n",
              "    }\n",
              "\n",
              "    .dataframe tbody tr th {\n",
              "        vertical-align: top;\n",
              "    }\n",
              "\n",
              "    .dataframe thead th {\n",
              "        text-align: right;\n",
              "    }\n",
              "</style>\n",
              "<table border=\"1\" class=\"dataframe\">\n",
              "  <thead>\n",
              "    <tr style=\"text-align: right;\">\n",
              "      <th></th>\n",
              "      <th>timestamp</th>\n",
              "      <th>outport</th>\n",
              "      <th>inport</th>\n",
              "      <th>cache_coherence_type</th>\n",
              "      <th>flit_id</th>\n",
              "      <th>flit_type</th>\n",
              "      <th>vnet</th>\n",
              "      <th>vc</th>\n",
              "      <th>src_ni</th>\n",
              "      <th>src_router</th>\n",
              "      <th>dst_ni</th>\n",
              "      <th>dst_router</th>\n",
              "      <th>traversal_id</th>\n",
              "      <th>hop_count</th>\n",
              "      <th>current_hop</th>\n",
              "      <th>hop_percentage</th>\n",
              "      <th>enqueue_time</th>\n",
              "      <th>packet_count_decr</th>\n",
              "      <th>packet_count_incr</th>\n",
              "      <th>max_packet_count</th>\n",
              "      <th>packet_count_index</th>\n",
              "      <th>port_index</th>\n",
              "      <th>traversal_index</th>\n",
              "      <th>cache_coherence_vnet_index</th>\n",
              "      <th>vnet_vc_cc_index</th>\n",
              "      <th>target</th>\n",
              "    </tr>\n",
              "  </thead>\n",
              "  <tbody>\n",
              "    <tr>\n",
              "      <th>0</th>\n",
              "      <td>7</td>\n",
              "      <td>3</td>\n",
              "      <td>0</td>\n",
              "      <td>1</td>\n",
              "      <td>1</td>\n",
              "      <td>4</td>\n",
              "      <td>3</td>\n",
              "      <td>9</td>\n",
              "      <td>15</td>\n",
              "      <td>15</td>\n",
              "      <td>23</td>\n",
              "      <td>7</td>\n",
              "      <td>3</td>\n",
              "      <td>2</td>\n",
              "      <td>0</td>\n",
              "      <td>0.0</td>\n",
              "      <td>4</td>\n",
              "      <td>63</td>\n",
              "      <td>1</td>\n",
              "      <td>63</td>\n",
              "      <td>63</td>\n",
              "      <td>0</td>\n",
              "      <td>12</td>\n",
              "      <td>3</td>\n",
              "      <td>27</td>\n",
              "      <td>0</td>\n",
              "    </tr>\n",
              "    <tr>\n",
              "      <th>1</th>\n",
              "      <td>7</td>\n",
              "      <td>3</td>\n",
              "      <td>0</td>\n",
              "      <td>1</td>\n",
              "      <td>1</td>\n",
              "      <td>4</td>\n",
              "      <td>3</td>\n",
              "      <td>9</td>\n",
              "      <td>15</td>\n",
              "      <td>15</td>\n",
              "      <td>23</td>\n",
              "      <td>7</td>\n",
              "      <td>3</td>\n",
              "      <td>2</td>\n",
              "      <td>0</td>\n",
              "      <td>0.0</td>\n",
              "      <td>4</td>\n",
              "      <td>60</td>\n",
              "      <td>1</td>\n",
              "      <td>60</td>\n",
              "      <td>60</td>\n",
              "      <td>0</td>\n",
              "      <td>12</td>\n",
              "      <td>3</td>\n",
              "      <td>27</td>\n",
              "      <td>0</td>\n",
              "    </tr>\n",
              "    <tr>\n",
              "      <th>2</th>\n",
              "      <td>7</td>\n",
              "      <td>3</td>\n",
              "      <td>0</td>\n",
              "      <td>1</td>\n",
              "      <td>1</td>\n",
              "      <td>4</td>\n",
              "      <td>3</td>\n",
              "      <td>9</td>\n",
              "      <td>15</td>\n",
              "      <td>15</td>\n",
              "      <td>23</td>\n",
              "      <td>7</td>\n",
              "      <td>2</td>\n",
              "      <td>2</td>\n",
              "      <td>0</td>\n",
              "      <td>0.0</td>\n",
              "      <td>4</td>\n",
              "      <td>62</td>\n",
              "      <td>1</td>\n",
              "      <td>62</td>\n",
              "      <td>62</td>\n",
              "      <td>0</td>\n",
              "      <td>8</td>\n",
              "      <td>3</td>\n",
              "      <td>27</td>\n",
              "      <td>1</td>\n",
              "    </tr>\n",
              "    <tr>\n",
              "      <th>3</th>\n",
              "      <td>62</td>\n",
              "      <td>0</td>\n",
              "      <td>3</td>\n",
              "      <td>4</td>\n",
              "      <td>1</td>\n",
              "      <td>1</td>\n",
              "      <td>5</td>\n",
              "      <td>17</td>\n",
              "      <td>23</td>\n",
              "      <td>7</td>\n",
              "      <td>15</td>\n",
              "      <td>15</td>\n",
              "      <td>3</td>\n",
              "      <td>2</td>\n",
              "      <td>2</td>\n",
              "      <td>1.0</td>\n",
              "      <td>12</td>\n",
              "      <td>62</td>\n",
              "      <td>2</td>\n",
              "      <td>63</td>\n",
              "      <td>124</td>\n",
              "      <td>0</td>\n",
              "      <td>12</td>\n",
              "      <td>20</td>\n",
              "      <td>340</td>\n",
              "      <td>0</td>\n",
              "    </tr>\n",
              "    <tr>\n",
              "      <th>4</th>\n",
              "      <td>62</td>\n",
              "      <td>0</td>\n",
              "      <td>3</td>\n",
              "      <td>4</td>\n",
              "      <td>1</td>\n",
              "      <td>1</td>\n",
              "      <td>5</td>\n",
              "      <td>17</td>\n",
              "      <td>23</td>\n",
              "      <td>7</td>\n",
              "      <td>15</td>\n",
              "      <td>15</td>\n",
              "      <td>2</td>\n",
              "      <td>2</td>\n",
              "      <td>2</td>\n",
              "      <td>1.0</td>\n",
              "      <td>12</td>\n",
              "      <td>61</td>\n",
              "      <td>2</td>\n",
              "      <td>62</td>\n",
              "      <td>122</td>\n",
              "      <td>0</td>\n",
              "      <td>8</td>\n",
              "      <td>20</td>\n",
              "      <td>340</td>\n",
              "      <td>1</td>\n",
              "    </tr>\n",
              "    <tr>\n",
              "      <th>...</th>\n",
              "      <td>...</td>\n",
              "      <td>...</td>\n",
              "      <td>...</td>\n",
              "      <td>...</td>\n",
              "      <td>...</td>\n",
              "      <td>...</td>\n",
              "      <td>...</td>\n",
              "      <td>...</td>\n",
              "      <td>...</td>\n",
              "      <td>...</td>\n",
              "      <td>...</td>\n",
              "      <td>...</td>\n",
              "      <td>...</td>\n",
              "      <td>...</td>\n",
              "      <td>...</td>\n",
              "      <td>...</td>\n",
              "      <td>...</td>\n",
              "      <td>...</td>\n",
              "      <td>...</td>\n",
              "      <td>...</td>\n",
              "      <td>...</td>\n",
              "      <td>...</td>\n",
              "      <td>...</td>\n",
              "      <td>...</td>\n",
              "      <td>...</td>\n",
              "      <td>...</td>\n",
              "    </tr>\n",
              "    <tr>\n",
              "      <th>484453</th>\n",
              "      <td>3276881</td>\n",
              "      <td>3</td>\n",
              "      <td>0</td>\n",
              "      <td>5</td>\n",
              "      <td>3</td>\n",
              "      <td>2</td>\n",
              "      <td>3</td>\n",
              "      <td>9</td>\n",
              "      <td>15</td>\n",
              "      <td>15</td>\n",
              "      <td>27</td>\n",
              "      <td>11</td>\n",
              "      <td>30095</td>\n",
              "      <td>1</td>\n",
              "      <td>0</td>\n",
              "      <td>0.0</td>\n",
              "      <td>18</td>\n",
              "      <td>5</td>\n",
              "      <td>56</td>\n",
              "      <td>60</td>\n",
              "      <td>280</td>\n",
              "      <td>0</td>\n",
              "      <td>902850</td>\n",
              "      <td>15</td>\n",
              "      <td>135</td>\n",
              "      <td>0</td>\n",
              "    </tr>\n",
              "    <tr>\n",
              "      <th>484454</th>\n",
              "      <td>3276888</td>\n",
              "      <td>3</td>\n",
              "      <td>0</td>\n",
              "      <td>5</td>\n",
              "      <td>4</td>\n",
              "      <td>2</td>\n",
              "      <td>3</td>\n",
              "      <td>9</td>\n",
              "      <td>15</td>\n",
              "      <td>15</td>\n",
              "      <td>27</td>\n",
              "      <td>11</td>\n",
              "      <td>30095</td>\n",
              "      <td>1</td>\n",
              "      <td>0</td>\n",
              "      <td>0.0</td>\n",
              "      <td>25</td>\n",
              "      <td>4</td>\n",
              "      <td>57</td>\n",
              "      <td>60</td>\n",
              "      <td>228</td>\n",
              "      <td>0</td>\n",
              "      <td>1203800</td>\n",
              "      <td>15</td>\n",
              "      <td>135</td>\n",
              "      <td>0</td>\n",
              "    </tr>\n",
              "    <tr>\n",
              "      <th>484455</th>\n",
              "      <td>3276895</td>\n",
              "      <td>3</td>\n",
              "      <td>0</td>\n",
              "      <td>5</td>\n",
              "      <td>5</td>\n",
              "      <td>3</td>\n",
              "      <td>3</td>\n",
              "      <td>9</td>\n",
              "      <td>15</td>\n",
              "      <td>15</td>\n",
              "      <td>27</td>\n",
              "      <td>11</td>\n",
              "      <td>30095</td>\n",
              "      <td>1</td>\n",
              "      <td>0</td>\n",
              "      <td>0.0</td>\n",
              "      <td>32</td>\n",
              "      <td>3</td>\n",
              "      <td>58</td>\n",
              "      <td>60</td>\n",
              "      <td>174</td>\n",
              "      <td>0</td>\n",
              "      <td>2257125</td>\n",
              "      <td>15</td>\n",
              "      <td>135</td>\n",
              "      <td>0</td>\n",
              "    </tr>\n",
              "    <tr>\n",
              "      <th>484456</th>\n",
              "      <td>3276896</td>\n",
              "      <td>3</td>\n",
              "      <td>0</td>\n",
              "      <td>1</td>\n",
              "      <td>1</td>\n",
              "      <td>4</td>\n",
              "      <td>3</td>\n",
              "      <td>10</td>\n",
              "      <td>15</td>\n",
              "      <td>15</td>\n",
              "      <td>27</td>\n",
              "      <td>11</td>\n",
              "      <td>30096</td>\n",
              "      <td>1</td>\n",
              "      <td>0</td>\n",
              "      <td>0.0</td>\n",
              "      <td>32</td>\n",
              "      <td>2</td>\n",
              "      <td>59</td>\n",
              "      <td>60</td>\n",
              "      <td>118</td>\n",
              "      <td>0</td>\n",
              "      <td>120384</td>\n",
              "      <td>3</td>\n",
              "      <td>30</td>\n",
              "      <td>0</td>\n",
              "    </tr>\n",
              "    <tr>\n",
              "      <th>484457</th>\n",
              "      <td>3276942</td>\n",
              "      <td>0</td>\n",
              "      <td>3</td>\n",
              "      <td>7</td>\n",
              "      <td>1</td>\n",
              "      <td>4</td>\n",
              "      <td>3</td>\n",
              "      <td>9</td>\n",
              "      <td>27</td>\n",
              "      <td>11</td>\n",
              "      <td>15</td>\n",
              "      <td>15</td>\n",
              "      <td>30095</td>\n",
              "      <td>1</td>\n",
              "      <td>1</td>\n",
              "      <td>1.0</td>\n",
              "      <td>8</td>\n",
              "      <td>1</td>\n",
              "      <td>60</td>\n",
              "      <td>60</td>\n",
              "      <td>60</td>\n",
              "      <td>0</td>\n",
              "      <td>842660</td>\n",
              "      <td>21</td>\n",
              "      <td>189</td>\n",
              "      <td>0</td>\n",
              "    </tr>\n",
              "  </tbody>\n",
              "</table>\n",
              "<p>484458 rows × 26 columns</p>\n",
              "</div>"
            ],
            "text/plain": [
              "        timestamp  outport  ...  vnet_vc_cc_index  target\n",
              "0               7        3  ...                27       0\n",
              "1               7        3  ...                27       0\n",
              "2               7        3  ...                27       1\n",
              "3              62        0  ...               340       0\n",
              "4              62        0  ...               340       1\n",
              "...           ...      ...  ...               ...     ...\n",
              "484453    3276881        3  ...               135       0\n",
              "484454    3276888        3  ...               135       0\n",
              "484455    3276895        3  ...               135       0\n",
              "484456    3276896        3  ...                30       0\n",
              "484457    3276942        0  ...               189       0\n",
              "\n",
              "[484458 rows x 26 columns]"
            ]
          },
          "metadata": {
            "tags": []
          },
          "execution_count": 6
        }
      ]
    },
    {
      "cell_type": "code",
      "metadata": {
        "id": "DEIwin3VOmdC",
        "colab_type": "code",
        "outputId": "a38cf555-fe88-4def-ca80-c1cbbdf25664",
        "colab": {
          "base_uri": "https://localhost:8080/",
          "height": 34
        }
      },
      "source": [
        "df.shape"
      ],
      "execution_count": 7,
      "outputs": [
        {
          "output_type": "execute_result",
          "data": {
            "text/plain": [
              "(484458, 26)"
            ]
          },
          "metadata": {
            "tags": []
          },
          "execution_count": 7
        }
      ]
    },
    {
      "cell_type": "markdown",
      "metadata": {
        "id": "kB28tdcoNPvn",
        "colab_type": "text"
      },
      "source": [
        "Test Data"
      ]
    },
    {
      "cell_type": "code",
      "metadata": {
        "id": "2NNmwmZGNLly",
        "colab_type": "code",
        "colab": {}
      },
      "source": [
        "df13 = pd.read_csv('https://raw.githubusercontent.com/chamikasudusinghe/nocml/master/dos%20results%20ver%204/router-dataset/r15/2-fft-malicious-n-0-15-m-12-r15.csv?token=AKVFSOFCIIATN53BXPZZYAS63JK5C')\n",
        "df14 = pd.read_csv('https://raw.githubusercontent.com/chamikasudusinghe/nocml/master/dos%20results%20ver%204/router-dataset/r15/2-fft-malicious-n-0-15-m-7-r15.csv?token=AKVFSOGNEHOF57IWO2H7FXC63JK5G')\n",
        "df15 = pd.read_csv('https://raw.githubusercontent.com/chamikasudusinghe/nocml/master/dos%20results%20ver%204/router-dataset/r15/2-fft-malicious-n-0-4-m-12-r15.csv?token=AKVFSOCPIIFOLQNDQMMWWZK63JK5I')\n",
        "df16 = pd.read_csv('https://raw.githubusercontent.com/chamikasudusinghe/nocml/master/dos%20results%20ver%204/router-dataset/r15/2-fft-malicious-n-0-4-m-7-r15.csv?token=AKVFSOCB4H2XK6OOQSGGKMK63JK5M')\n",
        "df17 = pd.read_csv('https://raw.githubusercontent.com/chamikasudusinghe/nocml/master/dos%20results%20ver%204/router-dataset/r15/2-fft-malicious-n-0-6-m-12-r15.csv?token=AKVFSOF6O7SLN7ZGKZCOWK263JK5S')\n",
        "df18 = pd.read_csv('https://raw.githubusercontent.com/chamikasudusinghe/nocml/master/dos%20results%20ver%204/router-dataset/r15/2-fft-malicious-n-0-6-m-7-r15.csv?token=AKVFSOBBCKN5ZT36DWFVJ5263JK5W')\n",
        "df19 = pd.read_csv('https://raw.githubusercontent.com/chamikasudusinghe/nocml/master/dos%20results%20ver%204/router-dataset/r15/2-fft-malicious-n-0-9-m-12-r15.csv?token=AKVFSODMBWR2W3K6FF2UXBK63JK52')\n",
        "df20 = pd.read_csv('https://raw.githubusercontent.com/chamikasudusinghe/nocml/master/dos%20results%20ver%204/router-dataset/r15/2-fft-malicious-n-0-9-m-7-r15.csv?token=AKVFSOFKHHH63FKPM45JO6S63JK6A')"
      ],
      "execution_count": 0,
      "outputs": []
    },
    {
      "cell_type": "code",
      "metadata": {
        "id": "vI7r69cXm0wU",
        "colab_type": "code",
        "outputId": "f78058c3-2c3d-4cb2-c8ad-d393ac9e16ab",
        "colab": {
          "base_uri": "https://localhost:8080/",
          "height": 153
        }
      },
      "source": [
        "print(df13.shape)\n",
        "print(df14.shape)\n",
        "print(df15.shape)\n",
        "print(df16.shape)\n",
        "print(df17.shape)\n",
        "print(df18.shape)\n",
        "print(df19.shape)\n",
        "print(df20.shape)"
      ],
      "execution_count": 9,
      "outputs": [
        {
          "output_type": "stream",
          "text": [
            "(94994, 26)\n",
            "(88862, 26)\n",
            "(35144, 26)\n",
            "(29188, 26)\n",
            "(35150, 26)\n",
            "(29220, 26)\n",
            "(35150, 26)\n",
            "(29188, 26)\n"
          ],
          "name": "stdout"
        }
      ]
    },
    {
      "cell_type": "code",
      "metadata": {
        "id": "lyFCjch-Qr7R",
        "colab_type": "code",
        "outputId": "724a8706-647a-4121-d493-b76c2f24a6d4",
        "colab": {
          "base_uri": "https://localhost:8080/",
          "height": 439
        }
      },
      "source": [
        "df5"
      ],
      "execution_count": 10,
      "outputs": [
        {
          "output_type": "execute_result",
          "data": {
            "text/html": [
              "<div>\n",
              "<style scoped>\n",
              "    .dataframe tbody tr th:only-of-type {\n",
              "        vertical-align: middle;\n",
              "    }\n",
              "\n",
              "    .dataframe tbody tr th {\n",
              "        vertical-align: top;\n",
              "    }\n",
              "\n",
              "    .dataframe thead th {\n",
              "        text-align: right;\n",
              "    }\n",
              "</style>\n",
              "<table border=\"1\" class=\"dataframe\">\n",
              "  <thead>\n",
              "    <tr style=\"text-align: right;\">\n",
              "      <th></th>\n",
              "      <th>timestamp</th>\n",
              "      <th>outport</th>\n",
              "      <th>inport</th>\n",
              "      <th>cache_coherence_type</th>\n",
              "      <th>flit_id</th>\n",
              "      <th>flit_type</th>\n",
              "      <th>vnet</th>\n",
              "      <th>vc</th>\n",
              "      <th>src_ni</th>\n",
              "      <th>src_router</th>\n",
              "      <th>dst_ni</th>\n",
              "      <th>dst_router</th>\n",
              "      <th>traversal_id</th>\n",
              "      <th>hop_count</th>\n",
              "      <th>current_hop</th>\n",
              "      <th>hop_percentage</th>\n",
              "      <th>enqueue_time</th>\n",
              "      <th>packet_count_decr</th>\n",
              "      <th>packet_count_incr</th>\n",
              "      <th>max_packet_count</th>\n",
              "      <th>packet_count_index</th>\n",
              "      <th>port_index</th>\n",
              "      <th>traversal_index</th>\n",
              "      <th>cache_coherence_vnet_index</th>\n",
              "      <th>vnet_vc_cc_index</th>\n",
              "      <th>target</th>\n",
              "    </tr>\n",
              "  </thead>\n",
              "  <tbody>\n",
              "    <tr>\n",
              "      <th>0</th>\n",
              "      <td>749</td>\n",
              "      <td>3</td>\n",
              "      <td>4</td>\n",
              "      <td>2</td>\n",
              "      <td>1</td>\n",
              "      <td>4</td>\n",
              "      <td>3</td>\n",
              "      <td>9</td>\n",
              "      <td>30</td>\n",
              "      <td>14</td>\n",
              "      <td>27</td>\n",
              "      <td>11</td>\n",
              "      <td>25</td>\n",
              "      <td>2</td>\n",
              "      <td>1</td>\n",
              "      <td>0.50</td>\n",
              "      <td>8</td>\n",
              "      <td>3</td>\n",
              "      <td>1</td>\n",
              "      <td>3</td>\n",
              "      <td>3</td>\n",
              "      <td>12</td>\n",
              "      <td>200</td>\n",
              "      <td>6</td>\n",
              "      <td>54</td>\n",
              "      <td>0</td>\n",
              "    </tr>\n",
              "    <tr>\n",
              "      <th>1</th>\n",
              "      <td>804</td>\n",
              "      <td>3</td>\n",
              "      <td>4</td>\n",
              "      <td>2</td>\n",
              "      <td>1</td>\n",
              "      <td>4</td>\n",
              "      <td>3</td>\n",
              "      <td>9</td>\n",
              "      <td>30</td>\n",
              "      <td>14</td>\n",
              "      <td>27</td>\n",
              "      <td>11</td>\n",
              "      <td>26</td>\n",
              "      <td>2</td>\n",
              "      <td>1</td>\n",
              "      <td>0.50</td>\n",
              "      <td>8</td>\n",
              "      <td>2</td>\n",
              "      <td>2</td>\n",
              "      <td>3</td>\n",
              "      <td>4</td>\n",
              "      <td>12</td>\n",
              "      <td>208</td>\n",
              "      <td>6</td>\n",
              "      <td>54</td>\n",
              "      <td>0</td>\n",
              "    </tr>\n",
              "    <tr>\n",
              "      <th>2</th>\n",
              "      <td>861</td>\n",
              "      <td>3</td>\n",
              "      <td>4</td>\n",
              "      <td>2</td>\n",
              "      <td>1</td>\n",
              "      <td>4</td>\n",
              "      <td>3</td>\n",
              "      <td>9</td>\n",
              "      <td>30</td>\n",
              "      <td>14</td>\n",
              "      <td>27</td>\n",
              "      <td>11</td>\n",
              "      <td>28</td>\n",
              "      <td>2</td>\n",
              "      <td>1</td>\n",
              "      <td>0.50</td>\n",
              "      <td>8</td>\n",
              "      <td>1</td>\n",
              "      <td>3</td>\n",
              "      <td>3</td>\n",
              "      <td>3</td>\n",
              "      <td>12</td>\n",
              "      <td>224</td>\n",
              "      <td>6</td>\n",
              "      <td>54</td>\n",
              "      <td>0</td>\n",
              "    </tr>\n",
              "    <tr>\n",
              "      <th>3</th>\n",
              "      <td>1149</td>\n",
              "      <td>3</td>\n",
              "      <td>4</td>\n",
              "      <td>2</td>\n",
              "      <td>1</td>\n",
              "      <td>4</td>\n",
              "      <td>3</td>\n",
              "      <td>9</td>\n",
              "      <td>28</td>\n",
              "      <td>12</td>\n",
              "      <td>27</td>\n",
              "      <td>11</td>\n",
              "      <td>36</td>\n",
              "      <td>4</td>\n",
              "      <td>3</td>\n",
              "      <td>0.75</td>\n",
              "      <td>16</td>\n",
              "      <td>9</td>\n",
              "      <td>1</td>\n",
              "      <td>9</td>\n",
              "      <td>9</td>\n",
              "      <td>12</td>\n",
              "      <td>288</td>\n",
              "      <td>6</td>\n",
              "      <td>54</td>\n",
              "      <td>0</td>\n",
              "    </tr>\n",
              "    <tr>\n",
              "      <th>4</th>\n",
              "      <td>1222</td>\n",
              "      <td>3</td>\n",
              "      <td>4</td>\n",
              "      <td>2</td>\n",
              "      <td>1</td>\n",
              "      <td>4</td>\n",
              "      <td>3</td>\n",
              "      <td>9</td>\n",
              "      <td>28</td>\n",
              "      <td>12</td>\n",
              "      <td>27</td>\n",
              "      <td>11</td>\n",
              "      <td>38</td>\n",
              "      <td>4</td>\n",
              "      <td>3</td>\n",
              "      <td>0.75</td>\n",
              "      <td>16</td>\n",
              "      <td>8</td>\n",
              "      <td>2</td>\n",
              "      <td>9</td>\n",
              "      <td>16</td>\n",
              "      <td>12</td>\n",
              "      <td>304</td>\n",
              "      <td>6</td>\n",
              "      <td>54</td>\n",
              "      <td>0</td>\n",
              "    </tr>\n",
              "    <tr>\n",
              "      <th>...</th>\n",
              "      <td>...</td>\n",
              "      <td>...</td>\n",
              "      <td>...</td>\n",
              "      <td>...</td>\n",
              "      <td>...</td>\n",
              "      <td>...</td>\n",
              "      <td>...</td>\n",
              "      <td>...</td>\n",
              "      <td>...</td>\n",
              "      <td>...</td>\n",
              "      <td>...</td>\n",
              "      <td>...</td>\n",
              "      <td>...</td>\n",
              "      <td>...</td>\n",
              "      <td>...</td>\n",
              "      <td>...</td>\n",
              "      <td>...</td>\n",
              "      <td>...</td>\n",
              "      <td>...</td>\n",
              "      <td>...</td>\n",
              "      <td>...</td>\n",
              "      <td>...</td>\n",
              "      <td>...</td>\n",
              "      <td>...</td>\n",
              "      <td>...</td>\n",
              "      <td>...</td>\n",
              "    </tr>\n",
              "    <tr>\n",
              "      <th>28377</th>\n",
              "      <td>3265385</td>\n",
              "      <td>3</td>\n",
              "      <td>4</td>\n",
              "      <td>6</td>\n",
              "      <td>2</td>\n",
              "      <td>2</td>\n",
              "      <td>3</td>\n",
              "      <td>9</td>\n",
              "      <td>30</td>\n",
              "      <td>14</td>\n",
              "      <td>27</td>\n",
              "      <td>11</td>\n",
              "      <td>30079</td>\n",
              "      <td>2</td>\n",
              "      <td>1</td>\n",
              "      <td>0.50</td>\n",
              "      <td>15</td>\n",
              "      <td>5</td>\n",
              "      <td>8</td>\n",
              "      <td>12</td>\n",
              "      <td>40</td>\n",
              "      <td>12</td>\n",
              "      <td>721896</td>\n",
              "      <td>18</td>\n",
              "      <td>162</td>\n",
              "      <td>0</td>\n",
              "    </tr>\n",
              "    <tr>\n",
              "      <th>28378</th>\n",
              "      <td>3265392</td>\n",
              "      <td>3</td>\n",
              "      <td>4</td>\n",
              "      <td>6</td>\n",
              "      <td>3</td>\n",
              "      <td>2</td>\n",
              "      <td>3</td>\n",
              "      <td>9</td>\n",
              "      <td>30</td>\n",
              "      <td>14</td>\n",
              "      <td>27</td>\n",
              "      <td>11</td>\n",
              "      <td>30079</td>\n",
              "      <td>2</td>\n",
              "      <td>1</td>\n",
              "      <td>0.50</td>\n",
              "      <td>22</td>\n",
              "      <td>4</td>\n",
              "      <td>9</td>\n",
              "      <td>12</td>\n",
              "      <td>36</td>\n",
              "      <td>12</td>\n",
              "      <td>1082844</td>\n",
              "      <td>18</td>\n",
              "      <td>162</td>\n",
              "      <td>0</td>\n",
              "    </tr>\n",
              "    <tr>\n",
              "      <th>28379</th>\n",
              "      <td>3265399</td>\n",
              "      <td>3</td>\n",
              "      <td>4</td>\n",
              "      <td>6</td>\n",
              "      <td>4</td>\n",
              "      <td>2</td>\n",
              "      <td>3</td>\n",
              "      <td>9</td>\n",
              "      <td>30</td>\n",
              "      <td>14</td>\n",
              "      <td>27</td>\n",
              "      <td>11</td>\n",
              "      <td>30079</td>\n",
              "      <td>2</td>\n",
              "      <td>1</td>\n",
              "      <td>0.50</td>\n",
              "      <td>29</td>\n",
              "      <td>3</td>\n",
              "      <td>10</td>\n",
              "      <td>12</td>\n",
              "      <td>30</td>\n",
              "      <td>12</td>\n",
              "      <td>1443792</td>\n",
              "      <td>18</td>\n",
              "      <td>162</td>\n",
              "      <td>0</td>\n",
              "    </tr>\n",
              "    <tr>\n",
              "      <th>28380</th>\n",
              "      <td>3265406</td>\n",
              "      <td>3</td>\n",
              "      <td>4</td>\n",
              "      <td>6</td>\n",
              "      <td>5</td>\n",
              "      <td>3</td>\n",
              "      <td>3</td>\n",
              "      <td>9</td>\n",
              "      <td>30</td>\n",
              "      <td>14</td>\n",
              "      <td>27</td>\n",
              "      <td>11</td>\n",
              "      <td>30079</td>\n",
              "      <td>2</td>\n",
              "      <td>1</td>\n",
              "      <td>0.50</td>\n",
              "      <td>36</td>\n",
              "      <td>2</td>\n",
              "      <td>11</td>\n",
              "      <td>12</td>\n",
              "      <td>22</td>\n",
              "      <td>12</td>\n",
              "      <td>2707110</td>\n",
              "      <td>18</td>\n",
              "      <td>162</td>\n",
              "      <td>0</td>\n",
              "    </tr>\n",
              "    <tr>\n",
              "      <th>28381</th>\n",
              "      <td>3265407</td>\n",
              "      <td>3</td>\n",
              "      <td>4</td>\n",
              "      <td>2</td>\n",
              "      <td>1</td>\n",
              "      <td>4</td>\n",
              "      <td>3</td>\n",
              "      <td>10</td>\n",
              "      <td>30</td>\n",
              "      <td>14</td>\n",
              "      <td>27</td>\n",
              "      <td>11</td>\n",
              "      <td>30080</td>\n",
              "      <td>2</td>\n",
              "      <td>1</td>\n",
              "      <td>0.50</td>\n",
              "      <td>36</td>\n",
              "      <td>1</td>\n",
              "      <td>12</td>\n",
              "      <td>12</td>\n",
              "      <td>12</td>\n",
              "      <td>12</td>\n",
              "      <td>240640</td>\n",
              "      <td>6</td>\n",
              "      <td>60</td>\n",
              "      <td>0</td>\n",
              "    </tr>\n",
              "  </tbody>\n",
              "</table>\n",
              "<p>28382 rows × 26 columns</p>\n",
              "</div>"
            ],
            "text/plain": [
              "       timestamp  outport  ...  vnet_vc_cc_index  target\n",
              "0            749        3  ...                54       0\n",
              "1            804        3  ...                54       0\n",
              "2            861        3  ...                54       0\n",
              "3           1149        3  ...                54       0\n",
              "4           1222        3  ...                54       0\n",
              "...          ...      ...  ...               ...     ...\n",
              "28377    3265385        3  ...               162       0\n",
              "28378    3265392        3  ...               162       0\n",
              "28379    3265399        3  ...               162       0\n",
              "28380    3265406        3  ...               162       0\n",
              "28381    3265407        3  ...                60       0\n",
              "\n",
              "[28382 rows x 26 columns]"
            ]
          },
          "metadata": {
            "tags": []
          },
          "execution_count": 10
        }
      ]
    },
    {
      "cell_type": "markdown",
      "metadata": {
        "id": "xhWoBoqmnTM8",
        "colab_type": "text"
      },
      "source": [
        "Processing"
      ]
    },
    {
      "cell_type": "code",
      "metadata": {
        "colab_type": "code",
        "id": "Z-DMh9YdHg2F",
        "outputId": "b3ea707b-0290-4ec8-8b0f-1566e1c330df",
        "colab": {
          "base_uri": "https://localhost:8080/",
          "height": 476
        }
      },
      "source": [
        "df.isnull().sum()"
      ],
      "execution_count": 11,
      "outputs": [
        {
          "output_type": "execute_result",
          "data": {
            "text/plain": [
              "timestamp                     0\n",
              "outport                       0\n",
              "inport                        0\n",
              "cache_coherence_type          0\n",
              "flit_id                       0\n",
              "flit_type                     0\n",
              "vnet                          0\n",
              "vc                            0\n",
              "src_ni                        0\n",
              "src_router                    0\n",
              "dst_ni                        0\n",
              "dst_router                    0\n",
              "traversal_id                  0\n",
              "hop_count                     0\n",
              "current_hop                   0\n",
              "hop_percentage                0\n",
              "enqueue_time                  0\n",
              "packet_count_decr             0\n",
              "packet_count_incr             0\n",
              "max_packet_count              0\n",
              "packet_count_index            0\n",
              "port_index                    0\n",
              "traversal_index               0\n",
              "cache_coherence_vnet_index    0\n",
              "vnet_vc_cc_index              0\n",
              "target                        0\n",
              "dtype: int64"
            ]
          },
          "metadata": {
            "tags": []
          },
          "execution_count": 11
        }
      ]
    },
    {
      "cell_type": "code",
      "metadata": {
        "id": "ct4HKW31PrjK",
        "colab_type": "code",
        "colab": {}
      },
      "source": [
        "df = df.drop(columns=['timestamp','src_ni','src_router','dst_ni','dst_router'])"
      ],
      "execution_count": 0,
      "outputs": []
    },
    {
      "cell_type": "code",
      "metadata": {
        "colab_type": "code",
        "id": "Y9vcn7NCHg2M",
        "outputId": "74fc7e95-0b1f-488f-f17d-d591f57974b4",
        "colab": {
          "base_uri": "https://localhost:8080/",
          "height": 720
        }
      },
      "source": [
        "df.corr()"
      ],
      "execution_count": 13,
      "outputs": [
        {
          "output_type": "execute_result",
          "data": {
            "text/html": [
              "<div>\n",
              "<style scoped>\n",
              "    .dataframe tbody tr th:only-of-type {\n",
              "        vertical-align: middle;\n",
              "    }\n",
              "\n",
              "    .dataframe tbody tr th {\n",
              "        vertical-align: top;\n",
              "    }\n",
              "\n",
              "    .dataframe thead th {\n",
              "        text-align: right;\n",
              "    }\n",
              "</style>\n",
              "<table border=\"1\" class=\"dataframe\">\n",
              "  <thead>\n",
              "    <tr style=\"text-align: right;\">\n",
              "      <th></th>\n",
              "      <th>outport</th>\n",
              "      <th>inport</th>\n",
              "      <th>cache_coherence_type</th>\n",
              "      <th>flit_id</th>\n",
              "      <th>flit_type</th>\n",
              "      <th>vnet</th>\n",
              "      <th>vc</th>\n",
              "      <th>traversal_id</th>\n",
              "      <th>hop_count</th>\n",
              "      <th>current_hop</th>\n",
              "      <th>hop_percentage</th>\n",
              "      <th>enqueue_time</th>\n",
              "      <th>packet_count_decr</th>\n",
              "      <th>packet_count_incr</th>\n",
              "      <th>max_packet_count</th>\n",
              "      <th>packet_count_index</th>\n",
              "      <th>port_index</th>\n",
              "      <th>traversal_index</th>\n",
              "      <th>cache_coherence_vnet_index</th>\n",
              "      <th>vnet_vc_cc_index</th>\n",
              "      <th>target</th>\n",
              "    </tr>\n",
              "  </thead>\n",
              "  <tbody>\n",
              "    <tr>\n",
              "      <th>outport</th>\n",
              "      <td>1.000000</td>\n",
              "      <td>-0.343915</td>\n",
              "      <td>0.202192</td>\n",
              "      <td>0.000340</td>\n",
              "      <td>-0.000515</td>\n",
              "      <td>-0.598961</td>\n",
              "      <td>-0.502748</td>\n",
              "      <td>0.031492</td>\n",
              "      <td>-0.126783</td>\n",
              "      <td>-0.648465</td>\n",
              "      <td>-0.779369</td>\n",
              "      <td>-0.090393</td>\n",
              "      <td>-0.072919</td>\n",
              "      <td>-0.066346</td>\n",
              "      <td>-0.100374</td>\n",
              "      <td>-0.074300</td>\n",
              "      <td>0.397801</td>\n",
              "      <td>0.089181</td>\n",
              "      <td>-0.172143</td>\n",
              "      <td>-0.450036</td>\n",
              "      <td>-0.016598</td>\n",
              "    </tr>\n",
              "    <tr>\n",
              "      <th>inport</th>\n",
              "      <td>-0.343915</td>\n",
              "      <td>1.000000</td>\n",
              "      <td>0.063523</td>\n",
              "      <td>0.013245</td>\n",
              "      <td>-0.020038</td>\n",
              "      <td>0.171362</td>\n",
              "      <td>-0.004060</td>\n",
              "      <td>0.028151</td>\n",
              "      <td>0.216434</td>\n",
              "      <td>0.596556</td>\n",
              "      <td>0.811097</td>\n",
              "      <td>0.287796</td>\n",
              "      <td>-0.114039</td>\n",
              "      <td>-0.162147</td>\n",
              "      <td>-0.199058</td>\n",
              "      <td>-0.149719</td>\n",
              "      <td>0.694000</td>\n",
              "      <td>0.036343</td>\n",
              "      <td>0.164813</td>\n",
              "      <td>0.114162</td>\n",
              "      <td>-0.038480</td>\n",
              "    </tr>\n",
              "    <tr>\n",
              "      <th>cache_coherence_type</th>\n",
              "      <td>0.202192</td>\n",
              "      <td>0.063523</td>\n",
              "      <td>1.000000</td>\n",
              "      <td>0.297439</td>\n",
              "      <td>-0.449990</td>\n",
              "      <td>-0.239144</td>\n",
              "      <td>-0.297482</td>\n",
              "      <td>0.049307</td>\n",
              "      <td>-0.041914</td>\n",
              "      <td>-0.073211</td>\n",
              "      <td>-0.102832</td>\n",
              "      <td>-0.298739</td>\n",
              "      <td>-0.039741</td>\n",
              "      <td>-0.089881</td>\n",
              "      <td>-0.093424</td>\n",
              "      <td>-0.068994</td>\n",
              "      <td>0.231668</td>\n",
              "      <td>0.322141</td>\n",
              "      <td>0.806557</td>\n",
              "      <td>0.278693</td>\n",
              "      <td>-0.025666</td>\n",
              "    </tr>\n",
              "    <tr>\n",
              "      <th>flit_id</th>\n",
              "      <td>0.000340</td>\n",
              "      <td>0.013245</td>\n",
              "      <td>0.297439</td>\n",
              "      <td>1.000000</td>\n",
              "      <td>-0.022075</td>\n",
              "      <td>0.124264</td>\n",
              "      <td>0.079372</td>\n",
              "      <td>0.007002</td>\n",
              "      <td>0.011386</td>\n",
              "      <td>0.035158</td>\n",
              "      <td>0.007855</td>\n",
              "      <td>0.425463</td>\n",
              "      <td>-0.000906</td>\n",
              "      <td>0.022709</td>\n",
              "      <td>0.015714</td>\n",
              "      <td>0.015180</td>\n",
              "      <td>0.018342</td>\n",
              "      <td>0.671647</td>\n",
              "      <td>0.358862</td>\n",
              "      <td>0.265321</td>\n",
              "      <td>0.008433</td>\n",
              "    </tr>\n",
              "    <tr>\n",
              "      <th>flit_type</th>\n",
              "      <td>-0.000515</td>\n",
              "      <td>-0.020038</td>\n",
              "      <td>-0.449990</td>\n",
              "      <td>-0.022075</td>\n",
              "      <td>1.000000</td>\n",
              "      <td>-0.187996</td>\n",
              "      <td>-0.120080</td>\n",
              "      <td>-0.010593</td>\n",
              "      <td>-0.017225</td>\n",
              "      <td>-0.053190</td>\n",
              "      <td>-0.011884</td>\n",
              "      <td>0.423471</td>\n",
              "      <td>-0.080559</td>\n",
              "      <td>0.048238</td>\n",
              "      <td>-0.023295</td>\n",
              "      <td>-0.019041</td>\n",
              "      <td>-0.027748</td>\n",
              "      <td>0.116880</td>\n",
              "      <td>-0.542915</td>\n",
              "      <td>-0.401399</td>\n",
              "      <td>-0.012759</td>\n",
              "    </tr>\n",
              "    <tr>\n",
              "      <th>vnet</th>\n",
              "      <td>-0.598961</td>\n",
              "      <td>0.171362</td>\n",
              "      <td>-0.239144</td>\n",
              "      <td>0.124264</td>\n",
              "      <td>-0.187996</td>\n",
              "      <td>1.000000</td>\n",
              "      <td>0.950651</td>\n",
              "      <td>-0.057308</td>\n",
              "      <td>0.067599</td>\n",
              "      <td>0.328846</td>\n",
              "      <td>0.486038</td>\n",
              "      <td>-0.152307</td>\n",
              "      <td>0.135080</td>\n",
              "      <td>0.172072</td>\n",
              "      <td>0.221376</td>\n",
              "      <td>0.165569</td>\n",
              "      <td>-0.315592</td>\n",
              "      <td>-0.078897</td>\n",
              "      <td>0.381120</td>\n",
              "      <td>0.852424</td>\n",
              "      <td>0.054379</td>\n",
              "    </tr>\n",
              "    <tr>\n",
              "      <th>vc</th>\n",
              "      <td>-0.502748</td>\n",
              "      <td>-0.004060</td>\n",
              "      <td>-0.297482</td>\n",
              "      <td>0.079372</td>\n",
              "      <td>-0.120080</td>\n",
              "      <td>0.950651</td>\n",
              "      <td>1.000000</td>\n",
              "      <td>-0.061920</td>\n",
              "      <td>0.009607</td>\n",
              "      <td>0.199353</td>\n",
              "      <td>0.318259</td>\n",
              "      <td>-0.178792</td>\n",
              "      <td>0.145872</td>\n",
              "      <td>0.202925</td>\n",
              "      <td>0.251391</td>\n",
              "      <td>0.189093</td>\n",
              "      <td>-0.408510</td>\n",
              "      <td>-0.107310</td>\n",
              "      <td>0.295529</td>\n",
              "      <td>0.821111</td>\n",
              "      <td>0.055538</td>\n",
              "    </tr>\n",
              "    <tr>\n",
              "      <th>traversal_id</th>\n",
              "      <td>0.031492</td>\n",
              "      <td>0.028151</td>\n",
              "      <td>0.049307</td>\n",
              "      <td>0.007002</td>\n",
              "      <td>-0.010593</td>\n",
              "      <td>-0.057308</td>\n",
              "      <td>-0.061920</td>\n",
              "      <td>1.000000</td>\n",
              "      <td>-0.011939</td>\n",
              "      <td>0.001212</td>\n",
              "      <td>0.004128</td>\n",
              "      <td>0.038243</td>\n",
              "      <td>0.095512</td>\n",
              "      <td>0.096374</td>\n",
              "      <td>0.138300</td>\n",
              "      <td>0.107122</td>\n",
              "      <td>0.055866</td>\n",
              "      <td>0.532729</td>\n",
              "      <td>0.012057</td>\n",
              "      <td>-0.034086</td>\n",
              "      <td>-0.286071</td>\n",
              "    </tr>\n",
              "    <tr>\n",
              "      <th>hop_count</th>\n",
              "      <td>-0.126783</td>\n",
              "      <td>0.216434</td>\n",
              "      <td>-0.041914</td>\n",
              "      <td>0.011386</td>\n",
              "      <td>-0.017225</td>\n",
              "      <td>0.067599</td>\n",
              "      <td>0.009607</td>\n",
              "      <td>-0.011939</td>\n",
              "      <td>1.000000</td>\n",
              "      <td>0.685728</td>\n",
              "      <td>0.336249</td>\n",
              "      <td>0.386522</td>\n",
              "      <td>-0.006709</td>\n",
              "      <td>-0.063482</td>\n",
              "      <td>-0.050589</td>\n",
              "      <td>-0.052610</td>\n",
              "      <td>0.008189</td>\n",
              "      <td>-0.020426</td>\n",
              "      <td>0.001247</td>\n",
              "      <td>0.012464</td>\n",
              "      <td>0.032270</td>\n",
              "    </tr>\n",
              "    <tr>\n",
              "      <th>current_hop</th>\n",
              "      <td>-0.648465</td>\n",
              "      <td>0.596556</td>\n",
              "      <td>-0.073211</td>\n",
              "      <td>0.035158</td>\n",
              "      <td>-0.053190</td>\n",
              "      <td>0.328846</td>\n",
              "      <td>0.199353</td>\n",
              "      <td>0.001212</td>\n",
              "      <td>0.685728</td>\n",
              "      <td>1.000000</td>\n",
              "      <td>0.807232</td>\n",
              "      <td>0.472224</td>\n",
              "      <td>-0.026361</td>\n",
              "      <td>-0.090878</td>\n",
              "      <td>-0.084499</td>\n",
              "      <td>-0.071703</td>\n",
              "      <td>0.057335</td>\n",
              "      <td>-0.016611</td>\n",
              "      <td>0.130501</td>\n",
              "      <td>0.224813</td>\n",
              "      <td>0.008387</td>\n",
              "    </tr>\n",
              "    <tr>\n",
              "      <th>hop_percentage</th>\n",
              "      <td>-0.779369</td>\n",
              "      <td>0.811097</td>\n",
              "      <td>-0.102832</td>\n",
              "      <td>0.007855</td>\n",
              "      <td>-0.011884</td>\n",
              "      <td>0.486038</td>\n",
              "      <td>0.318259</td>\n",
              "      <td>0.004128</td>\n",
              "      <td>0.336249</td>\n",
              "      <td>0.807232</td>\n",
              "      <td>1.000000</td>\n",
              "      <td>0.251061</td>\n",
              "      <td>-0.021973</td>\n",
              "      <td>-0.054274</td>\n",
              "      <td>-0.054954</td>\n",
              "      <td>-0.044681</td>\n",
              "      <td>0.157663</td>\n",
              "      <td>-0.033784</td>\n",
              "      <td>0.197998</td>\n",
              "      <td>0.349145</td>\n",
              "      <td>-0.009363</td>\n",
              "    </tr>\n",
              "    <tr>\n",
              "      <th>enqueue_time</th>\n",
              "      <td>-0.090393</td>\n",
              "      <td>0.287796</td>\n",
              "      <td>-0.298739</td>\n",
              "      <td>0.425463</td>\n",
              "      <td>0.423471</td>\n",
              "      <td>-0.152307</td>\n",
              "      <td>-0.178792</td>\n",
              "      <td>0.038243</td>\n",
              "      <td>0.386522</td>\n",
              "      <td>0.472224</td>\n",
              "      <td>0.251061</td>\n",
              "      <td>1.000000</td>\n",
              "      <td>-0.096052</td>\n",
              "      <td>-0.092843</td>\n",
              "      <td>-0.136144</td>\n",
              "      <td>-0.102862</td>\n",
              "      <td>0.212575</td>\n",
              "      <td>0.335087</td>\n",
              "      <td>-0.377173</td>\n",
              "      <td>-0.336715</td>\n",
              "      <td>-0.015006</td>\n",
              "    </tr>\n",
              "    <tr>\n",
              "      <th>packet_count_decr</th>\n",
              "      <td>-0.072919</td>\n",
              "      <td>-0.114039</td>\n",
              "      <td>-0.039741</td>\n",
              "      <td>-0.000906</td>\n",
              "      <td>-0.080559</td>\n",
              "      <td>0.135080</td>\n",
              "      <td>0.145872</td>\n",
              "      <td>0.095512</td>\n",
              "      <td>-0.006709</td>\n",
              "      <td>-0.026361</td>\n",
              "      <td>-0.021973</td>\n",
              "      <td>-0.096052</td>\n",
              "      <td>1.000000</td>\n",
              "      <td>-0.037471</td>\n",
              "      <td>0.693732</td>\n",
              "      <td>0.581813</td>\n",
              "      <td>-0.174289</td>\n",
              "      <td>0.013787</td>\n",
              "      <td>0.044400</td>\n",
              "      <td>0.118496</td>\n",
              "      <td>-0.038554</td>\n",
              "    </tr>\n",
              "    <tr>\n",
              "      <th>packet_count_incr</th>\n",
              "      <td>-0.066346</td>\n",
              "      <td>-0.162147</td>\n",
              "      <td>-0.089881</td>\n",
              "      <td>0.022709</td>\n",
              "      <td>0.048238</td>\n",
              "      <td>0.172072</td>\n",
              "      <td>0.202925</td>\n",
              "      <td>0.096374</td>\n",
              "      <td>-0.063482</td>\n",
              "      <td>-0.090878</td>\n",
              "      <td>-0.054274</td>\n",
              "      <td>-0.092843</td>\n",
              "      <td>-0.037471</td>\n",
              "      <td>1.000000</td>\n",
              "      <td>0.693732</td>\n",
              "      <td>0.581813</td>\n",
              "      <td>-0.216329</td>\n",
              "      <td>0.042914</td>\n",
              "      <td>0.019180</td>\n",
              "      <td>0.140569</td>\n",
              "      <td>-0.038554</td>\n",
              "    </tr>\n",
              "    <tr>\n",
              "      <th>max_packet_count</th>\n",
              "      <td>-0.100374</td>\n",
              "      <td>-0.199058</td>\n",
              "      <td>-0.093424</td>\n",
              "      <td>0.015714</td>\n",
              "      <td>-0.023295</td>\n",
              "      <td>0.221376</td>\n",
              "      <td>0.251391</td>\n",
              "      <td>0.138300</td>\n",
              "      <td>-0.050589</td>\n",
              "      <td>-0.084499</td>\n",
              "      <td>-0.054954</td>\n",
              "      <td>-0.136144</td>\n",
              "      <td>0.693732</td>\n",
              "      <td>0.693732</td>\n",
              "      <td>1.000000</td>\n",
              "      <td>0.838671</td>\n",
              "      <td>-0.281534</td>\n",
              "      <td>0.040867</td>\n",
              "      <td>0.045825</td>\n",
              "      <td>0.186718</td>\n",
              "      <td>-0.055575</td>\n",
              "    </tr>\n",
              "    <tr>\n",
              "      <th>packet_count_index</th>\n",
              "      <td>-0.074300</td>\n",
              "      <td>-0.149719</td>\n",
              "      <td>-0.068994</td>\n",
              "      <td>0.015180</td>\n",
              "      <td>-0.019041</td>\n",
              "      <td>0.165569</td>\n",
              "      <td>0.189093</td>\n",
              "      <td>0.107122</td>\n",
              "      <td>-0.052610</td>\n",
              "      <td>-0.071703</td>\n",
              "      <td>-0.044681</td>\n",
              "      <td>-0.102862</td>\n",
              "      <td>0.581813</td>\n",
              "      <td>0.581813</td>\n",
              "      <td>0.838671</td>\n",
              "      <td>1.000000</td>\n",
              "      <td>-0.207977</td>\n",
              "      <td>0.033327</td>\n",
              "      <td>0.035109</td>\n",
              "      <td>0.140633</td>\n",
              "      <td>-0.053577</td>\n",
              "    </tr>\n",
              "    <tr>\n",
              "      <th>port_index</th>\n",
              "      <td>0.397801</td>\n",
              "      <td>0.694000</td>\n",
              "      <td>0.231668</td>\n",
              "      <td>0.018342</td>\n",
              "      <td>-0.027748</td>\n",
              "      <td>-0.315592</td>\n",
              "      <td>-0.408510</td>\n",
              "      <td>0.055866</td>\n",
              "      <td>0.008189</td>\n",
              "      <td>0.057335</td>\n",
              "      <td>0.157663</td>\n",
              "      <td>0.212575</td>\n",
              "      <td>-0.174289</td>\n",
              "      <td>-0.216329</td>\n",
              "      <td>-0.281534</td>\n",
              "      <td>-0.207977</td>\n",
              "      <td>1.000000</td>\n",
              "      <td>0.113223</td>\n",
              "      <td>0.028444</td>\n",
              "      <td>-0.247097</td>\n",
              "      <td>-0.054892</td>\n",
              "    </tr>\n",
              "    <tr>\n",
              "      <th>traversal_index</th>\n",
              "      <td>0.089181</td>\n",
              "      <td>0.036343</td>\n",
              "      <td>0.322141</td>\n",
              "      <td>0.671647</td>\n",
              "      <td>0.116880</td>\n",
              "      <td>-0.078897</td>\n",
              "      <td>-0.107310</td>\n",
              "      <td>0.532729</td>\n",
              "      <td>-0.020426</td>\n",
              "      <td>-0.016611</td>\n",
              "      <td>-0.033784</td>\n",
              "      <td>0.335087</td>\n",
              "      <td>0.013787</td>\n",
              "      <td>0.042914</td>\n",
              "      <td>0.040867</td>\n",
              "      <td>0.033327</td>\n",
              "      <td>0.113223</td>\n",
              "      <td>1.000000</td>\n",
              "      <td>0.258693</td>\n",
              "      <td>0.082270</td>\n",
              "      <td>-0.156284</td>\n",
              "    </tr>\n",
              "    <tr>\n",
              "      <th>cache_coherence_vnet_index</th>\n",
              "      <td>-0.172143</td>\n",
              "      <td>0.164813</td>\n",
              "      <td>0.806557</td>\n",
              "      <td>0.358862</td>\n",
              "      <td>-0.542915</td>\n",
              "      <td>0.381120</td>\n",
              "      <td>0.295529</td>\n",
              "      <td>0.012057</td>\n",
              "      <td>0.001247</td>\n",
              "      <td>0.130501</td>\n",
              "      <td>0.197998</td>\n",
              "      <td>-0.377173</td>\n",
              "      <td>0.044400</td>\n",
              "      <td>0.019180</td>\n",
              "      <td>0.045825</td>\n",
              "      <td>0.035109</td>\n",
              "      <td>0.028444</td>\n",
              "      <td>0.258693</td>\n",
              "      <td>1.000000</td>\n",
              "      <td>0.784333</td>\n",
              "      <td>0.008669</td>\n",
              "    </tr>\n",
              "    <tr>\n",
              "      <th>vnet_vc_cc_index</th>\n",
              "      <td>-0.450036</td>\n",
              "      <td>0.114162</td>\n",
              "      <td>0.278693</td>\n",
              "      <td>0.265321</td>\n",
              "      <td>-0.401399</td>\n",
              "      <td>0.852424</td>\n",
              "      <td>0.821111</td>\n",
              "      <td>-0.034086</td>\n",
              "      <td>0.012464</td>\n",
              "      <td>0.224813</td>\n",
              "      <td>0.349145</td>\n",
              "      <td>-0.336715</td>\n",
              "      <td>0.118496</td>\n",
              "      <td>0.140569</td>\n",
              "      <td>0.186718</td>\n",
              "      <td>0.140633</td>\n",
              "      <td>-0.247097</td>\n",
              "      <td>0.082270</td>\n",
              "      <td>0.784333</td>\n",
              "      <td>1.000000</td>\n",
              "      <td>0.040477</td>\n",
              "    </tr>\n",
              "    <tr>\n",
              "      <th>target</th>\n",
              "      <td>-0.016598</td>\n",
              "      <td>-0.038480</td>\n",
              "      <td>-0.025666</td>\n",
              "      <td>0.008433</td>\n",
              "      <td>-0.012759</td>\n",
              "      <td>0.054379</td>\n",
              "      <td>0.055538</td>\n",
              "      <td>-0.286071</td>\n",
              "      <td>0.032270</td>\n",
              "      <td>0.008387</td>\n",
              "      <td>-0.009363</td>\n",
              "      <td>-0.015006</td>\n",
              "      <td>-0.038554</td>\n",
              "      <td>-0.038554</td>\n",
              "      <td>-0.055575</td>\n",
              "      <td>-0.053577</td>\n",
              "      <td>-0.054892</td>\n",
              "      <td>-0.156284</td>\n",
              "      <td>0.008669</td>\n",
              "      <td>0.040477</td>\n",
              "      <td>1.000000</td>\n",
              "    </tr>\n",
              "  </tbody>\n",
              "</table>\n",
              "</div>"
            ],
            "text/plain": [
              "                             outport    inport  ...  vnet_vc_cc_index    target\n",
              "outport                     1.000000 -0.343915  ...         -0.450036 -0.016598\n",
              "inport                     -0.343915  1.000000  ...          0.114162 -0.038480\n",
              "cache_coherence_type        0.202192  0.063523  ...          0.278693 -0.025666\n",
              "flit_id                     0.000340  0.013245  ...          0.265321  0.008433\n",
              "flit_type                  -0.000515 -0.020038  ...         -0.401399 -0.012759\n",
              "vnet                       -0.598961  0.171362  ...          0.852424  0.054379\n",
              "vc                         -0.502748 -0.004060  ...          0.821111  0.055538\n",
              "traversal_id                0.031492  0.028151  ...         -0.034086 -0.286071\n",
              "hop_count                  -0.126783  0.216434  ...          0.012464  0.032270\n",
              "current_hop                -0.648465  0.596556  ...          0.224813  0.008387\n",
              "hop_percentage             -0.779369  0.811097  ...          0.349145 -0.009363\n",
              "enqueue_time               -0.090393  0.287796  ...         -0.336715 -0.015006\n",
              "packet_count_decr          -0.072919 -0.114039  ...          0.118496 -0.038554\n",
              "packet_count_incr          -0.066346 -0.162147  ...          0.140569 -0.038554\n",
              "max_packet_count           -0.100374 -0.199058  ...          0.186718 -0.055575\n",
              "packet_count_index         -0.074300 -0.149719  ...          0.140633 -0.053577\n",
              "port_index                  0.397801  0.694000  ...         -0.247097 -0.054892\n",
              "traversal_index             0.089181  0.036343  ...          0.082270 -0.156284\n",
              "cache_coherence_vnet_index -0.172143  0.164813  ...          0.784333  0.008669\n",
              "vnet_vc_cc_index           -0.450036  0.114162  ...          1.000000  0.040477\n",
              "target                     -0.016598 -0.038480  ...          0.040477  1.000000\n",
              "\n",
              "[21 rows x 21 columns]"
            ]
          },
          "metadata": {
            "tags": []
          },
          "execution_count": 13
        }
      ]
    },
    {
      "cell_type": "code",
      "metadata": {
        "colab_type": "code",
        "id": "KO-4OTqWHg2O",
        "outputId": "445669f6-ba8a-4f1b-9bc0-a35e34b62cd0",
        "colab": {
          "base_uri": "https://localhost:8080/",
          "height": 993
        }
      },
      "source": [
        "plt.figure(figsize=(25,25))\n",
        "sns.heatmap(df.corr(), annot = True)\n",
        "plt.show()"
      ],
      "execution_count": 14,
      "outputs": [
        {
          "output_type": "display_data",
          "data": {
            "image/png": "[encoded data removed]",
            "text/plain": [
              "<Figure size 1800x1800 with 2 Axes>"
            ]
          },
          "metadata": {
            "tags": [],
            "needs_background": "light"
          }
        }
      ]
    },
    {
      "cell_type": "code",
      "metadata": {
        "id": "ihUQ4Na0X6ud",
        "colab_type": "code",
        "colab": {}
      },
      "source": [
        "def find_correlation(data, threshold=0.9):\n",
        "    corr_mat = data.corr()\n",
        "    corr_mat.loc[:, :] = np.tril(corr_mat, k=-1)\n",
        "    already_in = set()\n",
        "    result = []\n",
        "    for col in corr_mat:\n",
        "        perfect_corr = corr_mat[col][abs(corr_mat[col])> threshold].index.tolist()\n",
        "        if perfect_corr and col not in already_in:\n",
        "            already_in.update(set(perfect_corr))\n",
        "            perfect_corr.append(col)\n",
        "            result.append(perfect_corr)\n",
        "    select_nested = [f[1:] for f in result]\n",
        "    select_flat = [i for j in select_nested for i in j]\n",
        "    return select_flat"
      ],
      "execution_count": 0,
      "outputs": []
    },
    {
      "cell_type": "code",
      "metadata": {
        "id": "ea_XFirFYRWD",
        "colab_type": "code",
        "outputId": "b46b86c6-6ada-4238-ad2b-f9a029cefe77",
        "colab": {
          "base_uri": "https://localhost:8080/",
          "height": 34
        }
      },
      "source": [
        "columns_to_drop = find_correlation(df.drop(columns=['target']))\n",
        "columns_to_drop"
      ],
      "execution_count": 16,
      "outputs": [
        {
          "output_type": "execute_result",
          "data": {
            "text/plain": [
              "['vnet']"
            ]
          },
          "metadata": {
            "tags": []
          },
          "execution_count": 16
        }
      ]
    },
    {
      "cell_type": "code",
      "metadata": {
        "id": "uoJ0vV8dc3Tp",
        "colab_type": "code",
        "colab": {}
      },
      "source": [
        "df = df.drop(columns=['inport','cache_coherence_type','flit_id','flit_type','vnet','current_hop','hop_percentage','port_index','cache_coherence_vnet_index','vnet_vc_cc_index'])"
      ],
      "execution_count": 0,
      "outputs": []
    },
    {
      "cell_type": "code",
      "metadata": {
        "id": "mnbTvnKD8pJp",
        "colab_type": "code",
        "outputId": "47515c1d-7937-421d-e222-66ca3b6c323e",
        "colab": {
          "base_uri": "https://localhost:8080/",
          "height": 739
        }
      },
      "source": [
        "plt.figure(figsize=(11,11))\n",
        "sns.heatmap(df.corr(), annot = True)\n",
        "plt.show()"
      ],
      "execution_count": 18,
      "outputs": [
        {
          "output_type": "display_data",
          "data": {
            "image/png": "[encoded data removed]",
            "text/plain": [
              "<Figure size 792x792 with 2 Axes>"
            ]
          },
          "metadata": {
            "tags": [],
            "needs_background": "light"
          }
        }
      ]
    },
    {
      "cell_type": "code",
      "metadata": {
        "id": "xmD7x9tM8rFy",
        "colab_type": "code",
        "outputId": "61fc825a-73c3-409f-d9c8-a97b7500928b",
        "colab": {
          "base_uri": "https://localhost:8080/",
          "height": 739
        }
      },
      "source": [
        "plt.figure(figsize=(11,11))\n",
        "sns.heatmap(df.corr())\n",
        "plt.show()"
      ],
      "execution_count": 19,
      "outputs": [
        {
          "output_type": "display_data",
          "data": {
            "image/png": "[encoded data removed]",
            "text/plain": [
              "<Figure size 792x792 with 2 Axes>"
            ]
          },
          "metadata": {
            "tags": [],
            "needs_background": "light"
          }
        }
      ]
    },
    {
      "cell_type": "markdown",
      "metadata": {
        "colab_type": "text",
        "id": "dqkKQOsugytM"
      },
      "source": [
        "Processing Dataset for Training"
      ]
    },
    {
      "cell_type": "code",
      "metadata": {
        "id": "3QGHP8EYGqHK",
        "colab_type": "code",
        "colab": {}
      },
      "source": [
        "train_X = df.drop(columns=['target'])\n",
        "train_Y = df['target']"
      ],
      "execution_count": 0,
      "outputs": []
    },
    {
      "cell_type": "code",
      "metadata": {
        "colab_type": "code",
        "id": "ebvK4Qc8Hg2S",
        "outputId": "df4c83f2-ad17-4cf9-fe58-e123b4b4900b",
        "colab": {
          "base_uri": "https://localhost:8080/",
          "height": 439
        }
      },
      "source": [
        "#standardization\n",
        "x = train_X.values\n",
        "min_max_scaler = preprocessing.MinMaxScaler()\n",
        "columns = train_X.columns\n",
        "x_scaled = min_max_scaler.fit_transform(x)\n",
        "train_X = pd.DataFrame(x_scaled)\n",
        "train_X.columns = columns\n",
        "train_X"
      ],
      "execution_count": 21,
      "outputs": [
        {
          "output_type": "execute_result",
          "data": {
            "text/html": [
              "<div>\n",
              "<style scoped>\n",
              "    .dataframe tbody tr th:only-of-type {\n",
              "        vertical-align: middle;\n",
              "    }\n",
              "\n",
              "    .dataframe tbody tr th {\n",
              "        vertical-align: top;\n",
              "    }\n",
              "\n",
              "    .dataframe thead th {\n",
              "        text-align: right;\n",
              "    }\n",
              "</style>\n",
              "<table border=\"1\" class=\"dataframe\">\n",
              "  <thead>\n",
              "    <tr style=\"text-align: right;\">\n",
              "      <th></th>\n",
              "      <th>outport</th>\n",
              "      <th>vc</th>\n",
              "      <th>traversal_id</th>\n",
              "      <th>hop_count</th>\n",
              "      <th>enqueue_time</th>\n",
              "      <th>packet_count_decr</th>\n",
              "      <th>packet_count_incr</th>\n",
              "      <th>max_packet_count</th>\n",
              "      <th>packet_count_index</th>\n",
              "      <th>traversal_index</th>\n",
              "    </tr>\n",
              "  </thead>\n",
              "  <tbody>\n",
              "    <tr>\n",
              "      <th>0</th>\n",
              "      <td>0.75</td>\n",
              "      <td>0.000</td>\n",
              "      <td>0.000033</td>\n",
              "      <td>0.333333</td>\n",
              "      <td>0.000000</td>\n",
              "      <td>0.405229</td>\n",
              "      <td>0.000000</td>\n",
              "      <td>0.405229</td>\n",
              "      <td>0.010325</td>\n",
              "      <td>0.000001</td>\n",
              "    </tr>\n",
              "    <tr>\n",
              "      <th>1</th>\n",
              "      <td>0.75</td>\n",
              "      <td>0.000</td>\n",
              "      <td>0.000033</td>\n",
              "      <td>0.333333</td>\n",
              "      <td>0.000000</td>\n",
              "      <td>0.385621</td>\n",
              "      <td>0.000000</td>\n",
              "      <td>0.385621</td>\n",
              "      <td>0.009825</td>\n",
              "      <td>0.000001</td>\n",
              "    </tr>\n",
              "    <tr>\n",
              "      <th>2</th>\n",
              "      <td>0.75</td>\n",
              "      <td>0.000</td>\n",
              "      <td>0.000000</td>\n",
              "      <td>0.333333</td>\n",
              "      <td>0.000000</td>\n",
              "      <td>0.398693</td>\n",
              "      <td>0.000000</td>\n",
              "      <td>0.398693</td>\n",
              "      <td>0.010158</td>\n",
              "      <td>0.000000</td>\n",
              "    </tr>\n",
              "    <tr>\n",
              "      <th>3</th>\n",
              "      <td>0.00</td>\n",
              "      <td>1.000</td>\n",
              "      <td>0.000033</td>\n",
              "      <td>0.333333</td>\n",
              "      <td>0.117647</td>\n",
              "      <td>0.398693</td>\n",
              "      <td>0.006536</td>\n",
              "      <td>0.405229</td>\n",
              "      <td>0.020483</td>\n",
              "      <td>0.000001</td>\n",
              "    </tr>\n",
              "    <tr>\n",
              "      <th>4</th>\n",
              "      <td>0.00</td>\n",
              "      <td>1.000</td>\n",
              "      <td>0.000000</td>\n",
              "      <td>0.333333</td>\n",
              "      <td>0.117647</td>\n",
              "      <td>0.392157</td>\n",
              "      <td>0.006536</td>\n",
              "      <td>0.398693</td>\n",
              "      <td>0.020150</td>\n",
              "      <td>0.000000</td>\n",
              "    </tr>\n",
              "    <tr>\n",
              "      <th>...</th>\n",
              "      <td>...</td>\n",
              "      <td>...</td>\n",
              "      <td>...</td>\n",
              "      <td>...</td>\n",
              "      <td>...</td>\n",
              "      <td>...</td>\n",
              "      <td>...</td>\n",
              "      <td>...</td>\n",
              "      <td>...</td>\n",
              "      <td>...</td>\n",
              "    </tr>\n",
              "    <tr>\n",
              "      <th>484453</th>\n",
              "      <td>0.75</td>\n",
              "      <td>0.000</td>\n",
              "      <td>0.999967</td>\n",
              "      <td>0.166667</td>\n",
              "      <td>0.205882</td>\n",
              "      <td>0.026144</td>\n",
              "      <td>0.359477</td>\n",
              "      <td>0.385621</td>\n",
              "      <td>0.046461</td>\n",
              "      <td>0.333442</td>\n",
              "    </tr>\n",
              "    <tr>\n",
              "      <th>484454</th>\n",
              "      <td>0.75</td>\n",
              "      <td>0.000</td>\n",
              "      <td>0.999967</td>\n",
              "      <td>0.166667</td>\n",
              "      <td>0.308824</td>\n",
              "      <td>0.019608</td>\n",
              "      <td>0.366013</td>\n",
              "      <td>0.385621</td>\n",
              "      <td>0.037802</td>\n",
              "      <td>0.444591</td>\n",
              "    </tr>\n",
              "    <tr>\n",
              "      <th>484455</th>\n",
              "      <td>0.75</td>\n",
              "      <td>0.000</td>\n",
              "      <td>0.999967</td>\n",
              "      <td>0.166667</td>\n",
              "      <td>0.411765</td>\n",
              "      <td>0.013072</td>\n",
              "      <td>0.372549</td>\n",
              "      <td>0.385621</td>\n",
              "      <td>0.028809</td>\n",
              "      <td>0.833610</td>\n",
              "    </tr>\n",
              "    <tr>\n",
              "      <th>484456</th>\n",
              "      <td>0.75</td>\n",
              "      <td>0.125</td>\n",
              "      <td>1.000000</td>\n",
              "      <td>0.166667</td>\n",
              "      <td>0.411765</td>\n",
              "      <td>0.006536</td>\n",
              "      <td>0.379085</td>\n",
              "      <td>0.385621</td>\n",
              "      <td>0.019484</td>\n",
              "      <td>0.044458</td>\n",
              "    </tr>\n",
              "    <tr>\n",
              "      <th>484457</th>\n",
              "      <td>0.00</td>\n",
              "      <td>0.000</td>\n",
              "      <td>0.999967</td>\n",
              "      <td>0.166667</td>\n",
              "      <td>0.058824</td>\n",
              "      <td>0.000000</td>\n",
              "      <td>0.385621</td>\n",
              "      <td>0.385621</td>\n",
              "      <td>0.009825</td>\n",
              "      <td>0.311212</td>\n",
              "    </tr>\n",
              "  </tbody>\n",
              "</table>\n",
              "<p>484458 rows × 10 columns</p>\n",
              "</div>"
            ],
            "text/plain": [
              "        outport     vc  ...  packet_count_index  traversal_index\n",
              "0          0.75  0.000  ...            0.010325         0.000001\n",
              "1          0.75  0.000  ...            0.009825         0.000001\n",
              "2          0.75  0.000  ...            0.010158         0.000000\n",
              "3          0.00  1.000  ...            0.020483         0.000001\n",
              "4          0.00  1.000  ...            0.020150         0.000000\n",
              "...         ...    ...  ...                 ...              ...\n",
              "484453     0.75  0.000  ...            0.046461         0.333442\n",
              "484454     0.75  0.000  ...            0.037802         0.444591\n",
              "484455     0.75  0.000  ...            0.028809         0.833610\n",
              "484456     0.75  0.125  ...            0.019484         0.044458\n",
              "484457     0.00  0.000  ...            0.009825         0.311212\n",
              "\n",
              "[484458 rows x 10 columns]"
            ]
          },
          "metadata": {
            "tags": []
          },
          "execution_count": 21
        }
      ]
    },
    {
      "cell_type": "code",
      "metadata": {
        "colab_type": "code",
        "id": "S6WGL499FBbX",
        "outputId": "53c07c9e-f738-4dcb-d9da-816c4586d3b7",
        "colab": {
          "base_uri": "https://localhost:8080/",
          "height": 34
        }
      },
      "source": [
        "train_X[train_X.duplicated()].shape"
      ],
      "execution_count": 22,
      "outputs": [
        {
          "output_type": "execute_result",
          "data": {
            "text/plain": [
              "(4455, 10)"
            ]
          },
          "metadata": {
            "tags": []
          },
          "execution_count": 22
        }
      ]
    },
    {
      "cell_type": "code",
      "metadata": {
        "id": "0BZm1zbDPrjh",
        "colab_type": "code",
        "outputId": "4a3e61da-1503-4044-d683-f7fea354c956",
        "colab": {
          "base_uri": "https://localhost:8080/",
          "height": 456
        }
      },
      "source": [
        "test_X = df13.drop(columns=['target','timestamp','src_ni','src_router','dst_ni','dst_router','inport','cache_coherence_type','flit_id','flit_type','vnet','current_hop','hop_percentage','port_index','cache_coherence_vnet_index','vnet_vc_cc_index'])\n",
        "test_Y = df13['target']\n",
        "x = test_X.values\n",
        "min_max_scaler = preprocessing.MinMaxScaler()\n",
        "columns = test_X.columns\n",
        "x_scaled = min_max_scaler.fit_transform(x)\n",
        "test_X = pd.DataFrame(x_scaled)\n",
        "test_X.columns = columns\n",
        "print(test_X[test_X.duplicated()].shape)\n",
        "test_X"
      ],
      "execution_count": 23,
      "outputs": [
        {
          "output_type": "stream",
          "text": [
            "(0, 10)\n"
          ],
          "name": "stdout"
        },
        {
          "output_type": "execute_result",
          "data": {
            "text/html": [
              "<div>\n",
              "<style scoped>\n",
              "    .dataframe tbody tr th:only-of-type {\n",
              "        vertical-align: middle;\n",
              "    }\n",
              "\n",
              "    .dataframe tbody tr th {\n",
              "        vertical-align: top;\n",
              "    }\n",
              "\n",
              "    .dataframe thead th {\n",
              "        text-align: right;\n",
              "    }\n",
              "</style>\n",
              "<table border=\"1\" class=\"dataframe\">\n",
              "  <thead>\n",
              "    <tr style=\"text-align: right;\">\n",
              "      <th></th>\n",
              "      <th>outport</th>\n",
              "      <th>vc</th>\n",
              "      <th>traversal_id</th>\n",
              "      <th>hop_count</th>\n",
              "      <th>enqueue_time</th>\n",
              "      <th>packet_count_decr</th>\n",
              "      <th>packet_count_incr</th>\n",
              "      <th>max_packet_count</th>\n",
              "      <th>packet_count_index</th>\n",
              "      <th>traversal_index</th>\n",
              "    </tr>\n",
              "  </thead>\n",
              "  <tbody>\n",
              "    <tr>\n",
              "      <th>0</th>\n",
              "      <td>0.75</td>\n",
              "      <td>0.0</td>\n",
              "      <td>0.000033</td>\n",
              "      <td>0.333333</td>\n",
              "      <td>0.000000</td>\n",
              "      <td>0.411392</td>\n",
              "      <td>0.000000</td>\n",
              "      <td>0.411392</td>\n",
              "      <td>0.010158</td>\n",
              "      <td>0.000001</td>\n",
              "    </tr>\n",
              "    <tr>\n",
              "      <th>1</th>\n",
              "      <td>0.75</td>\n",
              "      <td>0.0</td>\n",
              "      <td>0.000000</td>\n",
              "      <td>0.833333</td>\n",
              "      <td>0.179104</td>\n",
              "      <td>0.405063</td>\n",
              "      <td>0.006329</td>\n",
              "      <td>0.411392</td>\n",
              "      <td>0.020159</td>\n",
              "      <td>0.000000</td>\n",
              "    </tr>\n",
              "    <tr>\n",
              "      <th>2</th>\n",
              "      <td>0.00</td>\n",
              "      <td>1.0</td>\n",
              "      <td>0.000033</td>\n",
              "      <td>0.333333</td>\n",
              "      <td>0.119403</td>\n",
              "      <td>0.398734</td>\n",
              "      <td>0.012658</td>\n",
              "      <td>0.411392</td>\n",
              "      <td>0.029848</td>\n",
              "      <td>0.000001</td>\n",
              "    </tr>\n",
              "    <tr>\n",
              "      <th>3</th>\n",
              "      <td>0.00</td>\n",
              "      <td>1.0</td>\n",
              "      <td>0.000033</td>\n",
              "      <td>0.333333</td>\n",
              "      <td>0.134328</td>\n",
              "      <td>0.392405</td>\n",
              "      <td>0.018987</td>\n",
              "      <td>0.411392</td>\n",
              "      <td>0.039225</td>\n",
              "      <td>0.000015</td>\n",
              "    </tr>\n",
              "    <tr>\n",
              "      <th>4</th>\n",
              "      <td>0.00</td>\n",
              "      <td>1.0</td>\n",
              "      <td>0.000033</td>\n",
              "      <td>0.333333</td>\n",
              "      <td>0.149254</td>\n",
              "      <td>0.386076</td>\n",
              "      <td>0.025316</td>\n",
              "      <td>0.411392</td>\n",
              "      <td>0.048289</td>\n",
              "      <td>0.000024</td>\n",
              "    </tr>\n",
              "    <tr>\n",
              "      <th>...</th>\n",
              "      <td>...</td>\n",
              "      <td>...</td>\n",
              "      <td>...</td>\n",
              "      <td>...</td>\n",
              "      <td>...</td>\n",
              "      <td>...</td>\n",
              "      <td>...</td>\n",
              "      <td>...</td>\n",
              "      <td>...</td>\n",
              "      <td>...</td>\n",
              "    </tr>\n",
              "    <tr>\n",
              "      <th>94989</th>\n",
              "      <td>0.00</td>\n",
              "      <td>1.0</td>\n",
              "      <td>0.999967</td>\n",
              "      <td>0.333333</td>\n",
              "      <td>0.164179</td>\n",
              "      <td>0.025316</td>\n",
              "      <td>0.291139</td>\n",
              "      <td>0.316456</td>\n",
              "      <td>0.036568</td>\n",
              "      <td>0.355660</td>\n",
              "    </tr>\n",
              "    <tr>\n",
              "      <th>94990</th>\n",
              "      <td>0.00</td>\n",
              "      <td>1.0</td>\n",
              "      <td>0.999967</td>\n",
              "      <td>0.333333</td>\n",
              "      <td>0.223881</td>\n",
              "      <td>0.018987</td>\n",
              "      <td>0.297468</td>\n",
              "      <td>0.316456</td>\n",
              "      <td>0.029848</td>\n",
              "      <td>0.666865</td>\n",
              "    </tr>\n",
              "    <tr>\n",
              "      <th>94991</th>\n",
              "      <td>0.75</td>\n",
              "      <td>0.0</td>\n",
              "      <td>1.000000</td>\n",
              "      <td>0.166667</td>\n",
              "      <td>0.000000</td>\n",
              "      <td>0.012658</td>\n",
              "      <td>0.303797</td>\n",
              "      <td>0.316456</td>\n",
              "      <td>0.022816</td>\n",
              "      <td>0.055571</td>\n",
              "    </tr>\n",
              "    <tr>\n",
              "      <th>94992</th>\n",
              "      <td>0.75</td>\n",
              "      <td>0.0</td>\n",
              "      <td>1.000000</td>\n",
              "      <td>0.166667</td>\n",
              "      <td>0.104478</td>\n",
              "      <td>0.006329</td>\n",
              "      <td>0.310127</td>\n",
              "      <td>0.316456</td>\n",
              "      <td>0.015471</td>\n",
              "      <td>0.222294</td>\n",
              "    </tr>\n",
              "    <tr>\n",
              "      <th>94993</th>\n",
              "      <td>0.75</td>\n",
              "      <td>0.0</td>\n",
              "      <td>1.000000</td>\n",
              "      <td>0.166667</td>\n",
              "      <td>0.208955</td>\n",
              "      <td>0.000000</td>\n",
              "      <td>0.316456</td>\n",
              "      <td>0.316456</td>\n",
              "      <td>0.007814</td>\n",
              "      <td>0.333442</td>\n",
              "    </tr>\n",
              "  </tbody>\n",
              "</table>\n",
              "<p>94994 rows × 10 columns</p>\n",
              "</div>"
            ],
            "text/plain": [
              "       outport   vc  ...  packet_count_index  traversal_index\n",
              "0         0.75  0.0  ...            0.010158         0.000001\n",
              "1         0.75  0.0  ...            0.020159         0.000000\n",
              "2         0.00  1.0  ...            0.029848         0.000001\n",
              "3         0.00  1.0  ...            0.039225         0.000015\n",
              "4         0.00  1.0  ...            0.048289         0.000024\n",
              "...        ...  ...  ...                 ...              ...\n",
              "94989     0.00  1.0  ...            0.036568         0.355660\n",
              "94990     0.00  1.0  ...            0.029848         0.666865\n",
              "94991     0.75  0.0  ...            0.022816         0.055571\n",
              "94992     0.75  0.0  ...            0.015471         0.222294\n",
              "94993     0.75  0.0  ...            0.007814         0.333442\n",
              "\n",
              "[94994 rows x 10 columns]"
            ]
          },
          "metadata": {
            "tags": []
          },
          "execution_count": 23
        }
      ]
    },
    {
      "cell_type": "code",
      "metadata": {
        "id": "6RHIaC_EpHU3",
        "colab_type": "code",
        "outputId": "f3fd309b-164c-43f7-adc8-b9ed40a0533b",
        "colab": {
          "base_uri": "https://localhost:8080/",
          "height": 34
        }
      },
      "source": [
        "test_X1 = df14.drop(columns=['target','timestamp','src_ni','src_router','dst_ni','dst_router','inport','cache_coherence_type','flit_id','flit_type','vnet','current_hop','hop_percentage','port_index','cache_coherence_vnet_index','vnet_vc_cc_index'])\n",
        "test_Y1 = df14['target']\n",
        "x = test_X1.values\n",
        "min_max_scaler = preprocessing.MinMaxScaler()\n",
        "columns = test_X1.columns\n",
        "x_scaled = min_max_scaler.fit_transform(x)\n",
        "test_X1 = pd.DataFrame(x_scaled)\n",
        "test_X1.columns = columns\n",
        "print(test_X1[test_X1.duplicated()].shape)"
      ],
      "execution_count": 24,
      "outputs": [
        {
          "output_type": "stream",
          "text": [
            "(0, 10)\n"
          ],
          "name": "stdout"
        }
      ]
    },
    {
      "cell_type": "code",
      "metadata": {
        "id": "CcaDu50VpICj",
        "colab_type": "code",
        "outputId": "1455d8dd-3ae2-4b1a-9a11-2ded3c7190b8",
        "colab": {
          "base_uri": "https://localhost:8080/",
          "height": 34
        }
      },
      "source": [
        "test_X2 = df15.drop(columns=['target','timestamp','src_ni','src_router','dst_ni','dst_router','inport','cache_coherence_type','flit_id','flit_type','vnet','current_hop','hop_percentage','port_index','cache_coherence_vnet_index','vnet_vc_cc_index'])\n",
        "test_Y2 = df15['target']\n",
        "x = test_X2.values\n",
        "min_max_scaler = preprocessing.MinMaxScaler()\n",
        "columns = test_X2.columns\n",
        "x_scaled = min_max_scaler.fit_transform(x)\n",
        "test_X2 = pd.DataFrame(x_scaled)\n",
        "test_X2.columns = columns\n",
        "print(test_X2[test_X2.duplicated()].shape)"
      ],
      "execution_count": 25,
      "outputs": [
        {
          "output_type": "stream",
          "text": [
            "(0, 10)\n"
          ],
          "name": "stdout"
        }
      ]
    },
    {
      "cell_type": "code",
      "metadata": {
        "id": "6_CQ1D1DpIgj",
        "colab_type": "code",
        "outputId": "28bb9c54-86fa-49dc-b8bf-8f4ae82a1e94",
        "colab": {
          "base_uri": "https://localhost:8080/",
          "height": 34
        }
      },
      "source": [
        "test_X3 = df16.drop(columns=['target','timestamp','src_ni','src_router','dst_ni','dst_router','inport','cache_coherence_type','flit_id','flit_type','vnet','current_hop','hop_percentage','port_index','cache_coherence_vnet_index','vnet_vc_cc_index'])\n",
        "test_Y3 = df16['target']\n",
        "x = test_X3.values\n",
        "min_max_scaler = preprocessing.MinMaxScaler()\n",
        "columns = test_X3.columns\n",
        "x_scaled = min_max_scaler.fit_transform(x)\n",
        "test_X3 = pd.DataFrame(x_scaled)\n",
        "test_X3.columns = columns\n",
        "print(test_X3[test_X3.duplicated()].shape)"
      ],
      "execution_count": 26,
      "outputs": [
        {
          "output_type": "stream",
          "text": [
            "(0, 10)\n"
          ],
          "name": "stdout"
        }
      ]
    },
    {
      "cell_type": "code",
      "metadata": {
        "id": "yyhSMnXWpI7H",
        "colab_type": "code",
        "outputId": "1b6ab59e-630e-4f63-b1c8-856a23f8a0c0",
        "colab": {
          "base_uri": "https://localhost:8080/",
          "height": 34
        }
      },
      "source": [
        "test_X4 = df17.drop(columns=['target','timestamp','src_ni','src_router','dst_ni','dst_router','inport','cache_coherence_type','flit_id','flit_type','vnet','current_hop','hop_percentage','port_index','cache_coherence_vnet_index','vnet_vc_cc_index'])\n",
        "test_Y4 = df17['target']\n",
        "x = test_X4.values\n",
        "min_max_scaler = preprocessing.MinMaxScaler()\n",
        "columns = test_X4.columns\n",
        "x_scaled = min_max_scaler.fit_transform(x)\n",
        "test_X4 = pd.DataFrame(x_scaled)\n",
        "test_X4.columns = columns\n",
        "print(test_X4[test_X4.duplicated()].shape)"
      ],
      "execution_count": 27,
      "outputs": [
        {
          "output_type": "stream",
          "text": [
            "(0, 10)\n"
          ],
          "name": "stdout"
        }
      ]
    },
    {
      "cell_type": "code",
      "metadata": {
        "id": "x1L9-vRTpJtX",
        "colab_type": "code",
        "outputId": "ca89bb08-f854-4a9f-c516-d706339c76e1",
        "colab": {
          "base_uri": "https://localhost:8080/",
          "height": 34
        }
      },
      "source": [
        "test_X5 = df18.drop(columns=['target','timestamp','src_ni','src_router','dst_ni','dst_router','inport','cache_coherence_type','flit_id','flit_type','vnet','current_hop','hop_percentage','port_index','cache_coherence_vnet_index','vnet_vc_cc_index'])\n",
        "test_Y5 = df18['target']\n",
        "x = test_X5.values\n",
        "min_max_scaler = preprocessing.MinMaxScaler()\n",
        "columns = test_X5.columns\n",
        "x_scaled = min_max_scaler.fit_transform(x)\n",
        "test_X5 = pd.DataFrame(x_scaled)\n",
        "test_X5.columns = columns\n",
        "print(test_X5[test_X5.duplicated()].shape)"
      ],
      "execution_count": 28,
      "outputs": [
        {
          "output_type": "stream",
          "text": [
            "(0, 10)\n"
          ],
          "name": "stdout"
        }
      ]
    },
    {
      "cell_type": "code",
      "metadata": {
        "id": "TOO9K9qnpLL_",
        "colab_type": "code",
        "outputId": "dc9273d5-47c3-4234-cf01-78f05d635283",
        "colab": {
          "base_uri": "https://localhost:8080/",
          "height": 34
        }
      },
      "source": [
        "test_X6 = df19.drop(columns=['target','timestamp','src_ni','src_router','dst_ni','dst_router','inport','cache_coherence_type','flit_id','flit_type','vnet','current_hop','hop_percentage','port_index','cache_coherence_vnet_index','vnet_vc_cc_index'])\n",
        "test_Y6 = df19['target']\n",
        "x = test_X6.values\n",
        "min_max_scaler = preprocessing.MinMaxScaler()\n",
        "columns = test_X6.columns\n",
        "x_scaled = min_max_scaler.fit_transform(x)\n",
        "test_X6 = pd.DataFrame(x_scaled)\n",
        "test_X6.columns = columns\n",
        "print(test_X6[test_X6.duplicated()].shape)"
      ],
      "execution_count": 29,
      "outputs": [
        {
          "output_type": "stream",
          "text": [
            "(0, 10)\n"
          ],
          "name": "stdout"
        }
      ]
    },
    {
      "cell_type": "code",
      "metadata": {
        "id": "y2dPb0tOpLxu",
        "colab_type": "code",
        "outputId": "c7afbfed-3af0-4bc7-9f4c-06be0644de91",
        "colab": {
          "base_uri": "https://localhost:8080/",
          "height": 34
        }
      },
      "source": [
        "test_X7 = df20.drop(columns=['target','timestamp','src_ni','src_router','dst_ni','dst_router','inport','cache_coherence_type','flit_id','flit_type','vnet','current_hop','hop_percentage','port_index','cache_coherence_vnet_index','vnet_vc_cc_index'])\n",
        "test_Y7 = df20['target']\n",
        "x = test_X7.values\n",
        "min_max_scaler = preprocessing.MinMaxScaler()\n",
        "columns = test_X7.columns\n",
        "x_scaled = min_max_scaler.fit_transform(x)\n",
        "test_X7 = pd.DataFrame(x_scaled)\n",
        "test_X7.columns = columns\n",
        "print(test_X7[test_X7.duplicated()].shape)"
      ],
      "execution_count": 30,
      "outputs": [
        {
          "output_type": "stream",
          "text": [
            "(0, 10)\n"
          ],
          "name": "stdout"
        }
      ]
    },
    {
      "cell_type": "markdown",
      "metadata": {
        "colab_type": "text",
        "id": "2NUEiEtVHg2h"
      },
      "source": [
        "#### Machine Learning Models"
      ]
    },
    {
      "cell_type": "markdown",
      "metadata": {
        "colab_type": "text",
        "id": "BzgcG2e7hQC8"
      },
      "source": [
        "Module Imports for Data Processing and Report Generation in Machine Learning Models"
      ]
    },
    {
      "cell_type": "code",
      "metadata": {
        "colab_type": "code",
        "id": "wZCWkSvsHg2h",
        "colab": {}
      },
      "source": [
        "from sklearn.model_selection import train_test_split\n",
        "\n",
        "import statsmodels.api as sm\n",
        "from sklearn import metrics\n",
        "\n",
        "from sklearn.metrics import classification_report\n",
        "from sklearn.metrics import confusion_matrix\n",
        "\n",
        "from sklearn.metrics import roc_curve\n",
        "from sklearn.metrics import roc_auc_score\n",
        "from sklearn.metrics import accuracy_score\n",
        "from sklearn.metrics import mean_squared_error"
      ],
      "execution_count": 0,
      "outputs": []
    },
    {
      "cell_type": "markdown",
      "metadata": {
        "colab_type": "text",
        "id": "TWvMTDtHhoex"
      },
      "source": [
        "Labels\n",
        "\n",
        "1.   0 -  malicious\n",
        "2.   1 -  good\n",
        "\n"
      ]
    },
    {
      "cell_type": "code",
      "metadata": {
        "colab_type": "code",
        "id": "Ns6uUJz1G9MD",
        "outputId": "5d7e9d79-3fec-4808-86f1-50683554f380",
        "colab": {
          "base_uri": "https://localhost:8080/",
          "height": 68
        }
      },
      "source": [
        "train_Y = df['target']\n",
        "train_Y.value_counts()"
      ],
      "execution_count": 32,
      "outputs": [
        {
          "output_type": "execute_result",
          "data": {
            "text/plain": [
              "0    349619\n",
              "1    134839\n",
              "Name: target, dtype: int64"
            ]
          },
          "metadata": {
            "tags": []
          },
          "execution_count": 32
        }
      ]
    },
    {
      "cell_type": "markdown",
      "metadata": {
        "colab_type": "text",
        "id": "_px-73eUh-05"
      },
      "source": [
        "Training and Validation Splitting of the Dataset"
      ]
    },
    {
      "cell_type": "code",
      "metadata": {
        "colab_type": "code",
        "id": "f9N46sTQHAw4",
        "colab": {}
      },
      "source": [
        "seed = 5\n",
        "np.random.seed(seed)"
      ],
      "execution_count": 0,
      "outputs": []
    },
    {
      "cell_type": "code",
      "metadata": {
        "colab_type": "code",
        "id": "SnHyPPbEHg2i",
        "colab": {}
      },
      "source": [
        "X_train, X_test, y_train, y_test = train_test_split(train_X, train_Y, test_size=0.2, random_state=seed, shuffle=True)"
      ],
      "execution_count": 0,
      "outputs": []
    },
    {
      "cell_type": "markdown",
      "metadata": {
        "colab_type": "text",
        "id": "Fy_oia0XiJNW"
      },
      "source": [
        "Feature Selection"
      ]
    },
    {
      "cell_type": "code",
      "metadata": {
        "colab_type": "code",
        "id": "v10pJaPUfMOd",
        "outputId": "08accf0a-2104-4226-f882-5f107b0363ee",
        "colab": {
          "base_uri": "https://localhost:8080/",
          "height": 469
        }
      },
      "source": [
        "#SelectKBest for feature selection\n",
        "bf = SelectKBest(score_func=chi2, k='all')\n",
        "fit = bf.fit(X_train,y_train)\n",
        "dfscores = pd.DataFrame(fit.scores_)\n",
        "dfcolumns = pd.DataFrame(columns)\n",
        "\n",
        "featureScores = pd.concat([dfcolumns,dfscores],axis=1)\n",
        "featureScores.columns = ['Specs','Score'] \n",
        "print(featureScores.nlargest(10,'Score'))\n",
        "featureScores.plot(kind='barh')"
      ],
      "execution_count": 35,
      "outputs": [
        {
          "output_type": "stream",
          "text": [
            "                Specs        Score\n",
            "2        traversal_id  5075.526899\n",
            "9     traversal_index  1863.504212\n",
            "1                  vc   669.218004\n",
            "8  packet_count_index   177.704138\n",
            "7    max_packet_count   164.498233\n",
            "6   packet_count_incr    83.700013\n",
            "5   packet_count_decr    80.810432\n",
            "3           hop_count    53.455620\n",
            "0             outport    28.257010\n",
            "4        enqueue_time    10.310229\n"
          ],
          "name": "stdout"
        },
        {
          "output_type": "execute_result",
          "data": {
            "text/plain": [
              "<matplotlib.axes._subplots.AxesSubplot at 0x7f2d9bd51cc0>"
            ]
          },
          "metadata": {
            "tags": []
          },
          "execution_count": 35
        },
        {
          "output_type": "display_data",
          "data": {
            "image/png": "[encoded data removed]",
            "text/plain": [
              "<Figure size 432x288 with 1 Axes>"
            ]
          },
          "metadata": {
            "tags": [],
            "needs_background": "light"
          }
        }
      ]
    },
    {
      "cell_type": "markdown",
      "metadata": {
        "colab_type": "text",
        "id": "rnmPuKJF2pdi"
      },
      "source": [
        "Decision Tree Classifier"
      ]
    },
    {
      "cell_type": "code",
      "metadata": {
        "colab_type": "code",
        "id": "biZL4MMmvYmG",
        "colab": {}
      },
      "source": [
        "#decisiontreee\n",
        "from sklearn.tree import DecisionTreeClassifier\n",
        "from sklearn.model_selection import GridSearchCV"
      ],
      "execution_count": 0,
      "outputs": []
    },
    {
      "cell_type": "code",
      "metadata": {
        "colab_type": "code",
        "id": "d3mCR-TiHg2-",
        "outputId": "93184b5c-8d5f-428f-e631-4c40a68c20da",
        "colab": {
          "base_uri": "https://localhost:8080/",
          "height": 119
        }
      },
      "source": [
        "dt = DecisionTreeClassifier(max_depth=20,max_features=10,random_state = 42)\n",
        "dt.fit(X_train,y_train)"
      ],
      "execution_count": 37,
      "outputs": [
        {
          "output_type": "execute_result",
          "data": {
            "text/plain": [
              "DecisionTreeClassifier(ccp_alpha=0.0, class_weight=None, criterion='gini',\n",
              "                       max_depth=20, max_features=10, max_leaf_nodes=None,\n",
              "                       min_impurity_decrease=0.0, min_impurity_split=None,\n",
              "                       min_samples_leaf=1, min_samples_split=2,\n",
              "                       min_weight_fraction_leaf=0.0, presort='deprecated',\n",
              "                       random_state=42, splitter='best')"
            ]
          },
          "metadata": {
            "tags": []
          },
          "execution_count": 37
        }
      ]
    },
    {
      "cell_type": "code",
      "metadata": {
        "id": "inQ8gu1OdApz",
        "colab_type": "code",
        "colab": {}
      },
      "source": [
        "pickle.dump(dt, open(\"dt-r14.pickle.dat\", 'wb'))"
      ],
      "execution_count": 0,
      "outputs": []
    },
    {
      "cell_type": "code",
      "metadata": {
        "colab_type": "code",
        "id": "xIIefAL_Hg2_",
        "colab": {}
      },
      "source": [
        "y_pred_dt= dt.predict(X_test)"
      ],
      "execution_count": 0,
      "outputs": []
    },
    {
      "cell_type": "code",
      "metadata": {
        "colab_type": "code",
        "id": "gBahu3DGHg3A",
        "outputId": "d5ed64bf-7c75-4979-b2f7-4763bba46a73",
        "colab": {
          "base_uri": "https://localhost:8080/",
          "height": 51
        }
      },
      "source": [
        "dt_score_train = dt.score(X_train,y_train)\n",
        "print(\"Train Prediction Score\",dt_score_train*100)\n",
        "dt_score_test = accuracy_score(y_test,y_pred_dt)\n",
        "print(\"Test Prediction Score\",dt_score_test*100)"
      ],
      "execution_count": 40,
      "outputs": [
        {
          "output_type": "stream",
          "text": [
            "Train Prediction Score 94.45565400473726\n",
            "Test Prediction Score 93.68678528671097\n"
          ],
          "name": "stdout"
        }
      ]
    },
    {
      "cell_type": "code",
      "metadata": {
        "id": "6y9oZRCGhR_7",
        "colab_type": "code",
        "outputId": "abf4edbf-a611-4455-8845-940cba743e40",
        "colab": {
          "base_uri": "https://localhost:8080/",
          "height": 153
        }
      },
      "source": [
        "y_pred_dt_test= dt.predict(test_X)\n",
        "dt_score_test = accuracy_score(test_Y,y_pred_dt_test)\n",
        "print(\"Test Prediction Score\",dt_score_test*100)\n",
        "y_pred_dt_test= dt.predict(test_X1)\n",
        "dt_score_test = accuracy_score(test_Y1,y_pred_dt_test)\n",
        "print(\"Test Prediction Score\",dt_score_test*100)\n",
        "y_pred_dt_test= dt.predict(test_X2)\n",
        "dt_score_test = accuracy_score(test_Y2,y_pred_dt_test)\n",
        "print(\"Test Prediction Score\",dt_score_test*100)\n",
        "y_pred_dt_test= dt.predict(test_X3)\n",
        "dt_score_test = accuracy_score(test_Y3,y_pred_dt_test)\n",
        "print(\"Test Prediction Score\",dt_score_test*100)\n",
        "y_pred_dt_test= dt.predict(test_X4)\n",
        "dt_score_test = accuracy_score(test_Y4,y_pred_dt_test)\n",
        "print(\"Test Prediction Score\",dt_score_test*100)\n",
        "y_pred_dt_test= dt.predict(test_X5)\n",
        "dt_score_test = accuracy_score(test_Y5,y_pred_dt_test)\n",
        "print(\"Test Prediction Score\",dt_score_test*100)\n",
        "y_pred_dt_test= dt.predict(test_X6)\n",
        "dt_score_test = accuracy_score(test_Y6,y_pred_dt_test)\n",
        "print(\"Test Prediction Score\",dt_score_test*100)\n",
        "y_pred_dt_test= dt.predict(test_X7)\n",
        "dt_score_test = accuracy_score(test_Y7,y_pred_dt_test)\n",
        "print(\"Test Prediction Score\",dt_score_test*100)"
      ],
      "execution_count": 41,
      "outputs": [
        {
          "output_type": "stream",
          "text": [
            "Test Prediction Score 83.94003831820957\n",
            "Test Prediction Score 88.37860952938263\n",
            "Test Prediction Score 80.68518096972456\n",
            "Test Prediction Score 83.85295326846649\n",
            "Test Prediction Score 81.49359886201991\n",
            "Test Prediction Score 83.39151266255989\n",
            "Test Prediction Score 82.71977240398293\n",
            "Test Prediction Score 82.86624640263122\n"
          ],
          "name": "stdout"
        }
      ]
    },
    {
      "cell_type": "code",
      "metadata": {
        "colab_type": "code",
        "id": "OCAU8YpEfMRD",
        "outputId": "4ee32281-6542-4f20-bdc4-410e77311c59",
        "colab": {
          "base_uri": "https://localhost:8080/",
          "height": 282
        }
      },
      "source": [
        "feat_importances = pd.Series(dt.feature_importances_, index=columns)\n",
        "feat_importances.plot(kind='barh')"
      ],
      "execution_count": 42,
      "outputs": [
        {
          "output_type": "execute_result",
          "data": {
            "text/plain": [
              "<matplotlib.axes._subplots.AxesSubplot at 0x7f2d9bca8eb8>"
            ]
          },
          "metadata": {
            "tags": []
          },
          "execution_count": 42
        },
        {
          "output_type": "display_data",
          "data": {
            "image/png": "[encoded data removed]",
            "text/plain": [
              "<Figure size 432x288 with 1 Axes>"
            ]
          },
          "metadata": {
            "tags": [],
            "needs_background": "light"
          }
        }
      ]
    },
    {
      "cell_type": "code",
      "metadata": {
        "colab_type": "code",
        "id": "5nIhx84-Hg3B",
        "outputId": "bce22747-fa58-4785-a83f-20716ef3815a",
        "colab": {
          "base_uri": "https://localhost:8080/",
          "height": 295
        }
      },
      "source": [
        "cm = confusion_matrix(y_test, y_pred_dt)\n",
        "class_label = [\"Anomalous\", \"Normal\"]\n",
        "df_cm = pd.DataFrame(cm, index=class_label,columns=class_label)\n",
        "sns.heatmap(df_cm, annot=True, fmt='d')\n",
        "plt.title(\"Confusion Matrix\")\n",
        "plt.xlabel(\"Predicted Label\")\n",
        "plt.ylabel(\"True Label\")\n",
        "plt.show()"
      ],
      "execution_count": 43,
      "outputs": [
        {
          "output_type": "display_data",
          "data": {
            "image/png": "[encoded data removed]",
            "text/plain": [
              "<Figure size 432x288 with 2 Axes>"
            ]
          },
          "metadata": {
            "tags": [],
            "needs_background": "light"
          }
        }
      ]
    },
    {
      "cell_type": "code",
      "metadata": {
        "colab_type": "code",
        "id": "xGqt7wigHg3B",
        "outputId": "217997b0-17a5-4dec-de26-c86766eec404",
        "colab": {
          "base_uri": "https://localhost:8080/",
          "height": 170
        }
      },
      "source": [
        "print(classification_report(y_test,y_pred_dt))"
      ],
      "execution_count": 44,
      "outputs": [
        {
          "output_type": "stream",
          "text": [
            "              precision    recall  f1-score   support\n",
            "\n",
            "           0       0.94      0.98      0.96     70098\n",
            "           1       0.93      0.83      0.88     26794\n",
            "\n",
            "    accuracy                           0.94     96892\n",
            "   macro avg       0.93      0.90      0.92     96892\n",
            "weighted avg       0.94      0.94      0.94     96892\n",
            "\n"
          ],
          "name": "stdout"
        }
      ]
    },
    {
      "cell_type": "code",
      "metadata": {
        "colab_type": "code",
        "id": "wkWUUjGmHg3C",
        "outputId": "3ba5298f-b41f-4867-d3cf-e8e3900b7d4e",
        "colab": {
          "base_uri": "https://localhost:8080/",
          "height": 295
        }
      },
      "source": [
        "dt_roc_auc = roc_auc_score(y_test, y_pred_dt)\n",
        "fpr, tpr, thresholds = roc_curve(y_test, dt.predict_proba(X_test)[:,1])\n",
        "plt.figure()\n",
        "plt.plot(fpr, tpr, label='DTree (area = %0.2f)' % dt_roc_auc)\n",
        "plt.plot([0, 1], [0, 1],'r--')\n",
        "plt.xlim([0.0, 1.0])\n",
        "plt.ylim([0.0, 1.05])\n",
        "plt.xlabel('False Positive Rate')\n",
        "plt.ylabel('True Positive Rate')\n",
        "plt.title('Receiver operating characteristic')\n",
        "plt.legend(loc=\"lower right\")\n",
        "plt.savefig('DT_ROC')\n",
        "plt.show()"
      ],
      "execution_count": 45,
      "outputs": [
        {
          "output_type": "display_data",
          "data": {
            "image/png": "[encoded data removed]",
            "text/plain": [
              "<Figure size 432x288 with 1 Axes>"
            ]
          },
          "metadata": {
            "tags": [],
            "needs_background": "light"
          }
        }
      ]
    },
    {
      "cell_type": "markdown",
      "metadata": {
        "id": "fXmBo6f1Hg3J",
        "colab_type": "text"
      },
      "source": [
        "XGB Classifier"
      ]
    },
    {
      "cell_type": "code",
      "metadata": {
        "id": "nE2alWP-ejv9",
        "colab_type": "code",
        "colab": {}
      },
      "source": [
        "from xgboost import XGBClassifier\n",
        "from xgboost import plot_importance"
      ],
      "execution_count": 0,
      "outputs": []
    },
    {
      "cell_type": "code",
      "metadata": {
        "colab_type": "code",
        "id": "JBwo0_BWHg3K",
        "outputId": "bf0107fb-e102-4bb1-b7a0-fdb9e4bb0cf5",
        "colab": {
          "base_uri": "https://localhost:8080/",
          "height": 136
        }
      },
      "source": [
        "xgbc = XGBClassifier(max_depth=20,min_child_weight=1,n_estimators=500,random_state=42,learning_rate=0.2)\n",
        "xgbc.fit(X_train,y_train)"
      ],
      "execution_count": 47,
      "outputs": [
        {
          "output_type": "execute_result",
          "data": {
            "text/plain": [
              "XGBClassifier(base_score=0.5, booster='gbtree', colsample_bylevel=1,\n",
              "              colsample_bynode=1, colsample_bytree=1, gamma=0,\n",
              "              learning_rate=0.2, max_delta_step=0, max_depth=20,\n",
              "              min_child_weight=1, missing=None, n_estimators=500, n_jobs=1,\n",
              "              nthread=None, objective='binary:logistic', random_state=42,\n",
              "              reg_alpha=0, reg_lambda=1, scale_pos_weight=1, seed=None,\n",
              "              silent=None, subsample=1, verbosity=1)"
            ]
          },
          "metadata": {
            "tags": []
          },
          "execution_count": 47
        }
      ]
    },
    {
      "cell_type": "code",
      "metadata": {
        "id": "1mA3luB2uPQG",
        "colab_type": "code",
        "colab": {}
      },
      "source": [
        "pickle.dump(xgbc, open(\"xgbc-r15l.pickle.dat\", 'wb'))"
      ],
      "execution_count": 0,
      "outputs": []
    },
    {
      "cell_type": "code",
      "metadata": {
        "colab_type": "code",
        "id": "prz2UBF8Hg3L",
        "colab": {}
      },
      "source": [
        "y_pred_xgbc= xgbc.predict(X_test)"
      ],
      "execution_count": 0,
      "outputs": []
    },
    {
      "cell_type": "code",
      "metadata": {
        "colab_type": "code",
        "id": "tFKQ1bq8Hg3L",
        "outputId": "8dd22663-38ad-4bd9-bed2-642265e53c02",
        "colab": {
          "base_uri": "https://localhost:8080/",
          "height": 51
        }
      },
      "source": [
        "xgbc_score_train = xgbc.score(X_train,y_train)\n",
        "print(\"Train Prediction Score\",xgbc_score_train*100)\n",
        "xgbc_score_test = accuracy_score(y_test,y_pred_xgbc)\n",
        "print(\"Test Prediction Score\",xgbc_score_test*100)"
      ],
      "execution_count": 50,
      "outputs": [
        {
          "output_type": "stream",
          "text": [
            "Train Prediction Score 99.93807506334404\n",
            "Test Prediction Score 99.34256698179416\n"
          ],
          "name": "stdout"
        }
      ]
    },
    {
      "cell_type": "code",
      "metadata": {
        "id": "Z6hKTv8gopF3",
        "colab_type": "code",
        "outputId": "8f110956-df29-4333-d122-cb88219b04ba",
        "colab": {
          "base_uri": "https://localhost:8080/",
          "height": 153
        }
      },
      "source": [
        "y_pred_xgbc_test= xgbc.predict(test_X)\n",
        "xgbc_score_test = accuracy_score(test_Y,y_pred_xgbc_test)\n",
        "print(\"Test Prediction Score\",xgbc_score_test*100)\n",
        "y_pred_xgbc_test= xgbc.predict(test_X1)\n",
        "xgbc_score_test = accuracy_score(test_Y1,y_pred_xgbc_test)\n",
        "print(\"Test Prediction Score\",xgbc_score_test*100)\n",
        "y_pred_xgbc_test= xgbc.predict(test_X2)\n",
        "xgbc_score_test = accuracy_score(test_Y2,y_pred_xgbc_test)\n",
        "print(\"Test Prediction Score\",xgbc_score_test*100)\n",
        "y_pred_xgbc_test= xgbc.predict(test_X3)\n",
        "xgbc_score_test = accuracy_score(test_Y3,y_pred_xgbc_test)\n",
        "print(\"Test Prediction Score\",xgbc_score_test*100)\n",
        "y_pred_xgbc_test= xgbc.predict(test_X4)\n",
        "xgbc_score_test = accuracy_score(test_Y4,y_pred_xgbc_test)\n",
        "print(\"Test Prediction Score\",xgbc_score_test*100)\n",
        "y_pred_xgbc_test= xgbc.predict(test_X5)\n",
        "xgbc_score_test = accuracy_score(test_Y5,y_pred_xgbc_test)\n",
        "print(\"Test Prediction Score\",xgbc_score_test*100)\n",
        "y_pred_xgbc_test= xgbc.predict(test_X6)\n",
        "xgbc_score_test = accuracy_score(test_Y6,y_pred_xgbc_test)\n",
        "print(\"Test Prediction Score\",xgbc_score_test*100)\n",
        "y_pred_xgbc_test= xgbc.predict(test_X7)\n",
        "xgbc_score_test = accuracy_score(test_Y7,y_pred_xgbc_test)\n",
        "print(\"Test Prediction Score\",xgbc_score_test*100)"
      ],
      "execution_count": 51,
      "outputs": [
        {
          "output_type": "stream",
          "text": [
            "Test Prediction Score 85.12116554729772\n",
            "Test Prediction Score 89.588350476019\n",
            "Test Prediction Score 85.42852264966993\n",
            "Test Prediction Score 85.38097848430863\n",
            "Test Prediction Score 84.47795163584637\n",
            "Test Prediction Score 85.76659822039699\n",
            "Test Prediction Score 85.17496443812233\n",
            "Test Prediction Score 85.88803617925174\n"
          ],
          "name": "stdout"
        }
      ]
    },
    {
      "cell_type": "code",
      "metadata": {
        "colab_type": "code",
        "id": "t-zwHWP_fMR_",
        "outputId": "a166bbbb-f6aa-4316-c637-4f82e1fbce08",
        "colab": {
          "base_uri": "https://localhost:8080/",
          "height": 295
        }
      },
      "source": [
        "plot_importance(xgbc)\n",
        "plt.show()"
      ],
      "execution_count": 52,
      "outputs": [
        {
          "output_type": "display_data",
          "data": {
            "image/png": "[encoded data removed]",
            "text/plain": [
              "<Figure size 432x288 with 1 Axes>"
            ]
          },
          "metadata": {
            "tags": [],
            "needs_background": "light"
          }
        }
      ]
    },
    {
      "cell_type": "code",
      "metadata": {
        "colab_type": "code",
        "id": "9OVtiUmaHg3M",
        "outputId": "9d4dc637-0cf6-46f5-99cb-4df8c5d8e958",
        "colab": {
          "base_uri": "https://localhost:8080/",
          "height": 295
        }
      },
      "source": [
        "cm = confusion_matrix(y_test, y_pred_xgbc)\n",
        "class_label = [\"Anomalous\", \"Normal\"]\n",
        "df_cm = pd.DataFrame(cm, index=class_label,columns=class_label)\n",
        "sns.heatmap(df_cm, annot=True, fmt='d')\n",
        "plt.title(\"Confusion Matrix\")\n",
        "plt.xlabel(\"Predicted Label\")\n",
        "plt.ylabel(\"True Label\")\n",
        "plt.show()"
      ],
      "execution_count": 53,
      "outputs": [
        {
          "output_type": "display_data",
          "data": {
            "image/png": "[encoded data removed]",
            "text/plain": [
              "<Figure size 432x288 with 2 Axes>"
            ]
          },
          "metadata": {
            "tags": [],
            "needs_background": "light"
          }
        }
      ]
    },
    {
      "cell_type": "code",
      "metadata": {
        "colab_type": "code",
        "id": "gAx5bI8BHg3M",
        "outputId": "c6aa284c-b57b-445f-acd3-dfe797146508",
        "colab": {
          "base_uri": "https://localhost:8080/",
          "height": 170
        }
      },
      "source": [
        "print(classification_report(y_test,y_pred_xgbc))"
      ],
      "execution_count": 54,
      "outputs": [
        {
          "output_type": "stream",
          "text": [
            "              precision    recall  f1-score   support\n",
            "\n",
            "           0       0.99      1.00      1.00     70098\n",
            "           1       0.99      0.99      0.99     26794\n",
            "\n",
            "    accuracy                           0.99     96892\n",
            "   macro avg       0.99      0.99      0.99     96892\n",
            "weighted avg       0.99      0.99      0.99     96892\n",
            "\n"
          ],
          "name": "stdout"
        }
      ]
    },
    {
      "cell_type": "code",
      "metadata": {
        "colab_type": "code",
        "id": "LqPGLNKQHg3N",
        "outputId": "9af0a326-7c4d-4a98-9a55-b177eb4cdbf4",
        "colab": {
          "base_uri": "https://localhost:8080/",
          "height": 295
        }
      },
      "source": [
        "xgb_roc_auc = roc_auc_score(y_test, y_pred_xgbc)\n",
        "fpr, tpr, thresholds = roc_curve(y_test, xgbc.predict_proba(X_test)[:,1])\n",
        "plt.figure()\n",
        "plt.plot(fpr, tpr, label='XGBoost (area = %0.2f)' % xgb_roc_auc)\n",
        "plt.plot([0, 1], [0, 1],'r--')\n",
        "plt.xlim([0.0, 1.0])\n",
        "plt.ylim([0.0, 1.05])\n",
        "plt.xlabel('False Positive Rate')\n",
        "plt.ylabel('True Positive Rate')\n",
        "plt.title('Receiver operating characteristic')\n",
        "plt.legend(loc=\"lower right\")\n",
        "plt.savefig('XGB_ROC')\n",
        "plt.show()"
      ],
      "execution_count": 55,
      "outputs": [
        {
          "output_type": "display_data",
          "data": {
            "image/png": "[encoded data removed]",
            "text/plain": [
              "<Figure size 432x288 with 1 Axes>"
            ]
          },
          "metadata": {
            "tags": [],
            "needs_background": "light"
          }
        }
      ]
    }
  ]
}