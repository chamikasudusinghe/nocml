{
  "nbformat": 4,
  "nbformat_minor": 0,
  "metadata": {
    "accelerator": "TPU",
    "colab": {
      "name": "fft-r3.ipynb",
      "provenance": [],
      "collapsed_sections": [],
      "toc_visible": true,
      "include_colab_link": true
    },
    "kernelspec": {
      "display_name": "Python 3",
      "language": "python",
      "name": "python3"
    },
    "language_info": {
      "codemirror_mode": {
        "name": "ipython",
        "version": 3
      },
      "file_extension": ".py",
      "mimetype": "text/x-python",
      "name": "python",
      "nbconvert_exporter": "python",
      "pygments_lexer": "ipython3",
      "version": "3.7.4"
    }
  },
  "cells": [
    {
      "cell_type": "markdown",
      "metadata": {
        "id": "view-in-github",
        "colab_type": "text"
      },
      "source": [
        "<a href=\"https://colab.research.google.com/github/chamikasudusinghe/nocml/blob/master/fft_r3-20.ipynb\" target=\"_parent\"><img src=\"https://colab.research.google.com/assets/colab-badge.svg\" alt=\"Open In Colab\"/></a>"
      ]
    },
    {
      "cell_type": "markdown",
      "metadata": {
        "colab_type": "text",
        "id": "sFmit6AlgLJZ"
      },
      "source": [
        "Module Imports for Data Fetiching and Visualization\n",
        "\n"
      ]
    },
    {
      "cell_type": "code",
      "metadata": {
        "colab_type": "code",
        "id": "k-c4z9vpHg1z",
        "colab": {
          "base_uri": "https://localhost:8080/",
          "height": 51
        },
        "outputId": "2bd8301b-78c5-4804-c749-24363594bd3d"
      },
      "source": [
        "import time\n",
        "import pandas as pd\n",
        "import numpy as np\n",
        "%matplotlib inline\n",
        "import matplotlib.pyplot as plt\n",
        "import seaborn as sns"
      ],
      "execution_count": 1,
      "outputs": [
        {
          "output_type": "stream",
          "text": [
            "/usr/local/lib/python3.6/dist-packages/statsmodels/tools/_testing.py:19: FutureWarning: pandas.util.testing is deprecated. Use the functions in the public API at pandas.testing instead.\n",
            "  import pandas.util.testing as tm\n"
          ],
          "name": "stderr"
        }
      ]
    },
    {
      "cell_type": "markdown",
      "metadata": {
        "colab_type": "text",
        "id": "wY7RDDLBgdMs"
      },
      "source": [
        "Module Imports for Data Processing"
      ]
    },
    {
      "cell_type": "code",
      "metadata": {
        "colab_type": "code",
        "id": "zhZHRUXxHg13",
        "colab": {}
      },
      "source": [
        "from sklearn import preprocessing\n",
        "from sklearn.feature_selection import SelectKBest\n",
        "from sklearn.feature_selection import chi2\n",
        "import pickle"
      ],
      "execution_count": 0,
      "outputs": []
    },
    {
      "cell_type": "markdown",
      "metadata": {
        "colab_type": "text",
        "id": "GEH4mU3Tghd8"
      },
      "source": [
        "Importing Dataset from GitHub"
      ]
    },
    {
      "cell_type": "markdown",
      "metadata": {
        "id": "q9-4lGZ6NMSt",
        "colab_type": "text"
      },
      "source": [
        "Train Data"
      ]
    },
    {
      "cell_type": "code",
      "metadata": {
        "id": "NblOX7-5PrjB",
        "colab_type": "code",
        "colab": {}
      },
      "source": [
        "df1 = pd.read_csv('https://raw.githubusercontent.com/chamikasudusinghe/nocml/master/dos%20results%20ver%204/router-dataset/r3/2-fft-malicious-n-0-15-m-1-r3.csv?token=AKVFSOHBOJDR6J3GWCSIHIS63IDNE')\n",
        "df2 = pd.read_csv('https://raw.githubusercontent.com/chamikasudusinghe/nocml/master/dos%20results%20ver%204/router-dataset/r3/2-fft-malicious-n-0-15-m-11-r3.csv?token=AKVFSOBVUGL7OSHKLIU3Z3S63IDNK')\n",
        "\n",
        "df3 = pd.read_csv('https://raw.githubusercontent.com/chamikasudusinghe/nocml/master/dos%20results%20ver%204/router-dataset/r3/2-fft-malicious-n-0-4-m-1-r3.csv?token=AKVFSOFJVN2SU337SRDUACS63IDNO')\n",
        "df4 = pd.read_csv('https://raw.githubusercontent.com/chamikasudusinghe/nocml/master/dos%20results%20ver%204/router-dataset/r3/2-fft-malicious-n-0-4-m-11-r3.csv?token=AKVFSOBTNGZEFPAKOQDGTF263IDTO')\n",
        "\n",
        "df5 = pd.read_csv('https://raw.githubusercontent.com/chamikasudusinghe/nocml/master/dos%20results%20ver%204/router-dataset/r3/2-fft-malicious-n-0-6-m-1-r3.csv?token=AKVFSOEXLXZI6KB3QEGSKBS63IDTS')\n",
        "df6 = pd.read_csv('https://raw.githubusercontent.com/chamikasudusinghe/nocml/master/dos%20results%20ver%204/router-dataset/r3/2-fft-malicious-n-0-6-m-11-r3.csv?token=AKVFSOBGN5DOBNFHAXJR5ZK63IDTY')\n",
        "\n",
        "df7 = pd.read_csv('https://raw.githubusercontent.com/chamikasudusinghe/nocml/master/dos%20results%20ver%204/router-dataset/r3/2-fft-malicious-n-0-9-m-1-r3.csv?token=AKVFSOCRIOVDJZPQD4GKTTC63IDT4')\n",
        "df8 = pd.read_csv('https://raw.githubusercontent.com/chamikasudusinghe/nocml/master/dos%20results%20ver%204/router-dataset/r3/2-fft-malicious-n-0-9-m-11-r3.csv?token=AKVFSOF7ZVZ7DU3SDSON6VS63IDUA')\n",
        "\n",
        "df9 = pd.read_csv('https://raw.githubusercontent.com/chamikasudusinghe/nocml/master/dos%20results%20ver%204/router-dataset/r3/2-fft-normal-n-0-15-r3.csv?token=AKVFSOHXRRZMQOHJNEFRN2K63IDUE')\n",
        "df10 = pd.read_csv('https://raw.githubusercontent.com/chamikasudusinghe/nocml/master/dos%20results%20ver%204/router-dataset/r3/2-fft-normal-n-0-4-r3.csv?token=AKVFSOCNXUN2XUCZHTYDW6C63IDUM')\n",
        "df11 = pd.read_csv('https://raw.githubusercontent.com/chamikasudusinghe/nocml/master/dos%20results%20ver%204/router-dataset/r3/2-fft-normal-n-0-6-r3.csv?token=AKVFSOD55RGAHOBPZQ7DHD263IDUQ')\n",
        "df12 = pd.read_csv('https://raw.githubusercontent.com/chamikasudusinghe/nocml/master/dos%20results%20ver%204/router-dataset/r3/2-fft-normal-n-0-9-r3.csv?token=AKVFSOA7WJ7IWQUUJCPXVYC63IDUW')"
      ],
      "execution_count": 0,
      "outputs": []
    },
    {
      "cell_type": "code",
      "metadata": {
        "id": "YtODRV2NPem1",
        "colab_type": "code",
        "outputId": "71eb811f-a276-4415-c551-f3984a157875",
        "colab": {
          "base_uri": "https://localhost:8080/",
          "height": 221
        }
      },
      "source": [
        "print(df1.shape)\n",
        "print(df2.shape)\n",
        "print(df3.shape)\n",
        "print(df4.shape)\n",
        "print(df5.shape)\n",
        "print(df6.shape)\n",
        "print(df7.shape)\n",
        "print(df8.shape)\n",
        "print(df9.shape)\n",
        "print(df10.shape)\n",
        "print(df11.shape)\n",
        "print(df12.shape)"
      ],
      "execution_count": 4,
      "outputs": [
        {
          "output_type": "stream",
          "text": [
            "(33259, 26)\n",
            "(28688, 26)\n",
            "(32130, 26)\n",
            "(27630, 26)\n",
            "(32124, 26)\n",
            "(27630, 26)\n",
            "(32160, 26)\n",
            "(27624, 26)\n",
            "(20553, 26)\n",
            "(19458, 26)\n",
            "(19457, 26)\n",
            "(19454, 26)\n"
          ],
          "name": "stdout"
        }
      ]
    },
    {
      "cell_type": "code",
      "metadata": {
        "id": "9L0CwK80NgDG",
        "colab_type": "code",
        "colab": {}
      },
      "source": [
        "df = df1.append(df2, ignore_index=True,sort=False)\n",
        "df = df.append(df3, ignore_index=True,sort=False)\n",
        "df = df.append(df4, ignore_index=True,sort=False)\n",
        "df = df.append(df5, ignore_index=True,sort=False)\n",
        "df = df.append(df6, ignore_index=True,sort=False)\n",
        "df = df.append(df7, ignore_index=True,sort=False)\n",
        "df = df.append(df8, ignore_index=True,sort=False)\n",
        "df = df.append(df9, ignore_index=True,sort=False)\n",
        "df = df.append(df10, ignore_index=True,sort=False)\n",
        "df = df.append(df11, ignore_index=True,sort=False)\n",
        "df = df.append(df12, ignore_index=True,sort=False)\n",
        "\n",
        "df = df.sort_values('timestamp')\n",
        "df.to_csv('fft-r3-train.csv',index=False)"
      ],
      "execution_count": 0,
      "outputs": []
    },
    {
      "cell_type": "code",
      "metadata": {
        "id": "tovtj_19OeCa",
        "colab_type": "code",
        "outputId": "a6e54758-f0d6-4bf8-d2ce-e7577e71b8e5",
        "colab": {
          "base_uri": "https://localhost:8080/",
          "height": 439
        }
      },
      "source": [
        "df = pd.read_csv('fft-r3-train.csv')\n",
        "df"
      ],
      "execution_count": 6,
      "outputs": [
        {
          "output_type": "execute_result",
          "data": {
            "text/html": [
              "<div>\n",
              "<style scoped>\n",
              "    .dataframe tbody tr th:only-of-type {\n",
              "        vertical-align: middle;\n",
              "    }\n",
              "\n",
              "    .dataframe tbody tr th {\n",
              "        vertical-align: top;\n",
              "    }\n",
              "\n",
              "    .dataframe thead th {\n",
              "        text-align: right;\n",
              "    }\n",
              "</style>\n",
              "<table border=\"1\" class=\"dataframe\">\n",
              "  <thead>\n",
              "    <tr style=\"text-align: right;\">\n",
              "      <th></th>\n",
              "      <th>timestamp</th>\n",
              "      <th>outport</th>\n",
              "      <th>inport</th>\n",
              "      <th>cache_coherence_type</th>\n",
              "      <th>flit_id</th>\n",
              "      <th>flit_type</th>\n",
              "      <th>vnet</th>\n",
              "      <th>vc</th>\n",
              "      <th>src_ni</th>\n",
              "      <th>src_router</th>\n",
              "      <th>dst_ni</th>\n",
              "      <th>dst_router</th>\n",
              "      <th>traversal_id</th>\n",
              "      <th>hop_count</th>\n",
              "      <th>current_hop</th>\n",
              "      <th>hop_percentage</th>\n",
              "      <th>enqueue_time</th>\n",
              "      <th>packet_count_decr</th>\n",
              "      <th>packet_count_incr</th>\n",
              "      <th>max_packet_count</th>\n",
              "      <th>packet_count_index</th>\n",
              "      <th>port_index</th>\n",
              "      <th>traversal_index</th>\n",
              "      <th>cache_coherence_vnet_index</th>\n",
              "      <th>vnet_vc_cc_index</th>\n",
              "      <th>target</th>\n",
              "    </tr>\n",
              "  </thead>\n",
              "  <tbody>\n",
              "    <tr>\n",
              "      <th>0</th>\n",
              "      <td>15</td>\n",
              "      <td>1</td>\n",
              "      <td>4</td>\n",
              "      <td>1</td>\n",
              "      <td>1</td>\n",
              "      <td>4</td>\n",
              "      <td>3</td>\n",
              "      <td>9</td>\n",
              "      <td>1</td>\n",
              "      <td>1</td>\n",
              "      <td>23</td>\n",
              "      <td>7</td>\n",
              "      <td>2</td>\n",
              "      <td>3</td>\n",
              "      <td>2</td>\n",
              "      <td>0.666667</td>\n",
              "      <td>12</td>\n",
              "      <td>8</td>\n",
              "      <td>1</td>\n",
              "      <td>8</td>\n",
              "      <td>8</td>\n",
              "      <td>4</td>\n",
              "      <td>8</td>\n",
              "      <td>3</td>\n",
              "      <td>27</td>\n",
              "      <td>0</td>\n",
              "    </tr>\n",
              "    <tr>\n",
              "      <th>1</th>\n",
              "      <td>15</td>\n",
              "      <td>1</td>\n",
              "      <td>4</td>\n",
              "      <td>1</td>\n",
              "      <td>1</td>\n",
              "      <td>4</td>\n",
              "      <td>3</td>\n",
              "      <td>9</td>\n",
              "      <td>1</td>\n",
              "      <td>1</td>\n",
              "      <td>23</td>\n",
              "      <td>7</td>\n",
              "      <td>2</td>\n",
              "      <td>3</td>\n",
              "      <td>2</td>\n",
              "      <td>0.666667</td>\n",
              "      <td>12</td>\n",
              "      <td>8</td>\n",
              "      <td>1</td>\n",
              "      <td>8</td>\n",
              "      <td>8</td>\n",
              "      <td>4</td>\n",
              "      <td>8</td>\n",
              "      <td>3</td>\n",
              "      <td>27</td>\n",
              "      <td>0</td>\n",
              "    </tr>\n",
              "    <tr>\n",
              "      <th>2</th>\n",
              "      <td>15</td>\n",
              "      <td>1</td>\n",
              "      <td>4</td>\n",
              "      <td>1</td>\n",
              "      <td>1</td>\n",
              "      <td>4</td>\n",
              "      <td>3</td>\n",
              "      <td>9</td>\n",
              "      <td>1</td>\n",
              "      <td>1</td>\n",
              "      <td>23</td>\n",
              "      <td>7</td>\n",
              "      <td>2</td>\n",
              "      <td>3</td>\n",
              "      <td>2</td>\n",
              "      <td>0.666667</td>\n",
              "      <td>12</td>\n",
              "      <td>8</td>\n",
              "      <td>1</td>\n",
              "      <td>8</td>\n",
              "      <td>8</td>\n",
              "      <td>4</td>\n",
              "      <td>8</td>\n",
              "      <td>3</td>\n",
              "      <td>27</td>\n",
              "      <td>0</td>\n",
              "    </tr>\n",
              "    <tr>\n",
              "      <th>3</th>\n",
              "      <td>15</td>\n",
              "      <td>1</td>\n",
              "      <td>4</td>\n",
              "      <td>1</td>\n",
              "      <td>1</td>\n",
              "      <td>4</td>\n",
              "      <td>3</td>\n",
              "      <td>9</td>\n",
              "      <td>1</td>\n",
              "      <td>1</td>\n",
              "      <td>23</td>\n",
              "      <td>7</td>\n",
              "      <td>2</td>\n",
              "      <td>3</td>\n",
              "      <td>2</td>\n",
              "      <td>0.666667</td>\n",
              "      <td>12</td>\n",
              "      <td>8</td>\n",
              "      <td>1</td>\n",
              "      <td>8</td>\n",
              "      <td>8</td>\n",
              "      <td>4</td>\n",
              "      <td>8</td>\n",
              "      <td>3</td>\n",
              "      <td>27</td>\n",
              "      <td>0</td>\n",
              "    </tr>\n",
              "    <tr>\n",
              "      <th>4</th>\n",
              "      <td>19</td>\n",
              "      <td>1</td>\n",
              "      <td>4</td>\n",
              "      <td>1</td>\n",
              "      <td>1</td>\n",
              "      <td>4</td>\n",
              "      <td>3</td>\n",
              "      <td>10</td>\n",
              "      <td>0</td>\n",
              "      <td>0</td>\n",
              "      <td>23</td>\n",
              "      <td>7</td>\n",
              "      <td>1</td>\n",
              "      <td>4</td>\n",
              "      <td>3</td>\n",
              "      <td>0.750000</td>\n",
              "      <td>16</td>\n",
              "      <td>7</td>\n",
              "      <td>2</td>\n",
              "      <td>8</td>\n",
              "      <td>14</td>\n",
              "      <td>4</td>\n",
              "      <td>4</td>\n",
              "      <td>3</td>\n",
              "      <td>30</td>\n",
              "      <td>0</td>\n",
              "    </tr>\n",
              "    <tr>\n",
              "      <th>...</th>\n",
              "      <td>...</td>\n",
              "      <td>...</td>\n",
              "      <td>...</td>\n",
              "      <td>...</td>\n",
              "      <td>...</td>\n",
              "      <td>...</td>\n",
              "      <td>...</td>\n",
              "      <td>...</td>\n",
              "      <td>...</td>\n",
              "      <td>...</td>\n",
              "      <td>...</td>\n",
              "      <td>...</td>\n",
              "      <td>...</td>\n",
              "      <td>...</td>\n",
              "      <td>...</td>\n",
              "      <td>...</td>\n",
              "      <td>...</td>\n",
              "      <td>...</td>\n",
              "      <td>...</td>\n",
              "      <td>...</td>\n",
              "      <td>...</td>\n",
              "      <td>...</td>\n",
              "      <td>...</td>\n",
              "      <td>...</td>\n",
              "      <td>...</td>\n",
              "      <td>...</td>\n",
              "    </tr>\n",
              "    <tr>\n",
              "      <th>320162</th>\n",
              "      <td>3275323</td>\n",
              "      <td>1</td>\n",
              "      <td>4</td>\n",
              "      <td>7</td>\n",
              "      <td>1</td>\n",
              "      <td>4</td>\n",
              "      <td>3</td>\n",
              "      <td>9</td>\n",
              "      <td>18</td>\n",
              "      <td>2</td>\n",
              "      <td>15</td>\n",
              "      <td>15</td>\n",
              "      <td>20057</td>\n",
              "      <td>4</td>\n",
              "      <td>1</td>\n",
              "      <td>0.250000</td>\n",
              "      <td>9</td>\n",
              "      <td>1</td>\n",
              "      <td>2</td>\n",
              "      <td>2</td>\n",
              "      <td>2</td>\n",
              "      <td>4</td>\n",
              "      <td>561596</td>\n",
              "      <td>21</td>\n",
              "      <td>189</td>\n",
              "      <td>1</td>\n",
              "    </tr>\n",
              "    <tr>\n",
              "      <th>320163</th>\n",
              "      <td>3275842</td>\n",
              "      <td>1</td>\n",
              "      <td>4</td>\n",
              "      <td>7</td>\n",
              "      <td>1</td>\n",
              "      <td>4</td>\n",
              "      <td>3</td>\n",
              "      <td>9</td>\n",
              "      <td>17</td>\n",
              "      <td>1</td>\n",
              "      <td>15</td>\n",
              "      <td>15</td>\n",
              "      <td>30089</td>\n",
              "      <td>5</td>\n",
              "      <td>2</td>\n",
              "      <td>0.400000</td>\n",
              "      <td>14</td>\n",
              "      <td>1</td>\n",
              "      <td>1</td>\n",
              "      <td>1</td>\n",
              "      <td>1</td>\n",
              "      <td>4</td>\n",
              "      <td>842492</td>\n",
              "      <td>21</td>\n",
              "      <td>189</td>\n",
              "      <td>0</td>\n",
              "    </tr>\n",
              "    <tr>\n",
              "      <th>320164</th>\n",
              "      <td>3276048</td>\n",
              "      <td>1</td>\n",
              "      <td>4</td>\n",
              "      <td>7</td>\n",
              "      <td>1</td>\n",
              "      <td>4</td>\n",
              "      <td>3</td>\n",
              "      <td>9</td>\n",
              "      <td>18</td>\n",
              "      <td>2</td>\n",
              "      <td>15</td>\n",
              "      <td>15</td>\n",
              "      <td>30091</td>\n",
              "      <td>4</td>\n",
              "      <td>1</td>\n",
              "      <td>0.250000</td>\n",
              "      <td>10</td>\n",
              "      <td>1</td>\n",
              "      <td>1</td>\n",
              "      <td>1</td>\n",
              "      <td>1</td>\n",
              "      <td>4</td>\n",
              "      <td>842548</td>\n",
              "      <td>21</td>\n",
              "      <td>189</td>\n",
              "      <td>0</td>\n",
              "    </tr>\n",
              "    <tr>\n",
              "      <th>320165</th>\n",
              "      <td>3276342</td>\n",
              "      <td>1</td>\n",
              "      <td>4</td>\n",
              "      <td>7</td>\n",
              "      <td>1</td>\n",
              "      <td>4</td>\n",
              "      <td>3</td>\n",
              "      <td>9</td>\n",
              "      <td>17</td>\n",
              "      <td>1</td>\n",
              "      <td>15</td>\n",
              "      <td>15</td>\n",
              "      <td>30089</td>\n",
              "      <td>5</td>\n",
              "      <td>2</td>\n",
              "      <td>0.400000</td>\n",
              "      <td>14</td>\n",
              "      <td>2</td>\n",
              "      <td>1</td>\n",
              "      <td>2</td>\n",
              "      <td>2</td>\n",
              "      <td>4</td>\n",
              "      <td>842492</td>\n",
              "      <td>21</td>\n",
              "      <td>189</td>\n",
              "      <td>0</td>\n",
              "    </tr>\n",
              "    <tr>\n",
              "      <th>320166</th>\n",
              "      <td>3276548</td>\n",
              "      <td>1</td>\n",
              "      <td>4</td>\n",
              "      <td>7</td>\n",
              "      <td>1</td>\n",
              "      <td>4</td>\n",
              "      <td>3</td>\n",
              "      <td>9</td>\n",
              "      <td>18</td>\n",
              "      <td>2</td>\n",
              "      <td>15</td>\n",
              "      <td>15</td>\n",
              "      <td>30091</td>\n",
              "      <td>4</td>\n",
              "      <td>1</td>\n",
              "      <td>0.250000</td>\n",
              "      <td>10</td>\n",
              "      <td>1</td>\n",
              "      <td>2</td>\n",
              "      <td>2</td>\n",
              "      <td>2</td>\n",
              "      <td>4</td>\n",
              "      <td>842548</td>\n",
              "      <td>21</td>\n",
              "      <td>189</td>\n",
              "      <td>0</td>\n",
              "    </tr>\n",
              "  </tbody>\n",
              "</table>\n",
              "<p>320167 rows × 26 columns</p>\n",
              "</div>"
            ],
            "text/plain": [
              "        timestamp  outport  ...  vnet_vc_cc_index  target\n",
              "0              15        1  ...                27       0\n",
              "1              15        1  ...                27       0\n",
              "2              15        1  ...                27       0\n",
              "3              15        1  ...                27       0\n",
              "4              19        1  ...                30       0\n",
              "...           ...      ...  ...               ...     ...\n",
              "320162    3275323        1  ...               189       1\n",
              "320163    3275842        1  ...               189       0\n",
              "320164    3276048        1  ...               189       0\n",
              "320165    3276342        1  ...               189       0\n",
              "320166    3276548        1  ...               189       0\n",
              "\n",
              "[320167 rows x 26 columns]"
            ]
          },
          "metadata": {
            "tags": []
          },
          "execution_count": 6
        }
      ]
    },
    {
      "cell_type": "code",
      "metadata": {
        "id": "DEIwin3VOmdC",
        "colab_type": "code",
        "outputId": "f2d7d69c-badf-4eec-d24d-18382849ca09",
        "colab": {
          "base_uri": "https://localhost:8080/",
          "height": 34
        }
      },
      "source": [
        "df.shape"
      ],
      "execution_count": 7,
      "outputs": [
        {
          "output_type": "execute_result",
          "data": {
            "text/plain": [
              "(320167, 26)"
            ]
          },
          "metadata": {
            "tags": []
          },
          "execution_count": 7
        }
      ]
    },
    {
      "cell_type": "markdown",
      "metadata": {
        "id": "kB28tdcoNPvn",
        "colab_type": "text"
      },
      "source": [
        "Test Data"
      ]
    },
    {
      "cell_type": "code",
      "metadata": {
        "id": "2NNmwmZGNLly",
        "colab_type": "code",
        "colab": {}
      },
      "source": [
        "df13 = pd.read_csv('https://raw.githubusercontent.com/chamikasudusinghe/nocml/master/dos%20results%20ver%204/router-dataset/r3/2-fft-malicious-n-0-15-m-12-r3.csv?token=AKVFSOE4XEDCYO4VR63SV2C63IE7C')\n",
        "df14 = pd.read_csv('https://raw.githubusercontent.com/chamikasudusinghe/nocml/master/dos%20results%20ver%204/router-dataset/r3/2-fft-malicious-n-0-15-m-7-r3.csv?token=AKVFSOCVVADXM4BZ62CH6JC63IE7I')\n",
        "df15 = pd.read_csv('https://raw.githubusercontent.com/chamikasudusinghe/nocml/master/dos%20results%20ver%204/router-dataset/r3/2-fft-malicious-n-0-4-m-12-r3.csv?token=AKVFSOFMSCBTCNUCCUW6U2S63IE7M')\n",
        "df16 = pd.read_csv('https://raw.githubusercontent.com/chamikasudusinghe/nocml/master/dos%20results%20ver%204/router-dataset/r3/2-fft-malicious-n-0-4-m-7-r3.csv?token=AKVFSOFSSLE5GSESBLKWTJS63IE7Q')\n",
        "df17 = pd.read_csv('https://raw.githubusercontent.com/chamikasudusinghe/nocml/master/dos%20results%20ver%204/router-dataset/r3/2-fft-malicious-n-0-6-m-12-r3.csv?token=AKVFSOECXTT4CSEPBDOMS2263IE7U')\n",
        "df18 = pd.read_csv('https://raw.githubusercontent.com/chamikasudusinghe/nocml/master/dos%20results%20ver%204/router-dataset/r3/2-fft-malicious-n-0-6-m-7-r3.csv?token=AKVFSOBDH2426Q5P6M3M7QK63IE7Y')\n",
        "df19 = pd.read_csv('https://raw.githubusercontent.com/chamikasudusinghe/nocml/master/dos%20results%20ver%204/router-dataset/r3/2-fft-malicious-n-0-9-m-12-r3.csv?token=AKVFSODN2MYZWU74647AA7263IE74')\n",
        "df20 = pd.read_csv('https://raw.githubusercontent.com/chamikasudusinghe/nocml/master/dos%20results%20ver%204/router-dataset/r3/2-fft-malicious-n-0-9-m-7-r3.csv?token=AKVFSODUZCKPISNRBNB6GWK63IE76')"
      ],
      "execution_count": 0,
      "outputs": []
    },
    {
      "cell_type": "code",
      "metadata": {
        "id": "vI7r69cXm0wU",
        "colab_type": "code",
        "outputId": "a27eb52d-1178-497a-d2e5-873af242fadc",
        "colab": {
          "base_uri": "https://localhost:8080/",
          "height": 153
        }
      },
      "source": [
        "print(df13.shape)\n",
        "print(df14.shape)\n",
        "print(df15.shape)\n",
        "print(df16.shape)\n",
        "print(df17.shape)\n",
        "print(df18.shape)\n",
        "print(df19.shape)\n",
        "print(df20.shape)"
      ],
      "execution_count": 9,
      "outputs": [
        {
          "output_type": "stream",
          "text": [
            "(27630, 26)\n",
            "(28688, 26)\n",
            "(26430, 26)\n",
            "(27630, 26)\n",
            "(26430, 26)\n",
            "(27590, 26)\n",
            "(26430, 26)\n",
            "(27630, 26)\n"
          ],
          "name": "stdout"
        }
      ]
    },
    {
      "cell_type": "code",
      "metadata": {
        "id": "lyFCjch-Qr7R",
        "colab_type": "code",
        "outputId": "3ab3c271-b4ac-4345-9f9c-f6128a927390",
        "colab": {
          "base_uri": "https://localhost:8080/",
          "height": 439
        }
      },
      "source": [
        "df5"
      ],
      "execution_count": 10,
      "outputs": [
        {
          "output_type": "execute_result",
          "data": {
            "text/html": [
              "<div>\n",
              "<style scoped>\n",
              "    .dataframe tbody tr th:only-of-type {\n",
              "        vertical-align: middle;\n",
              "    }\n",
              "\n",
              "    .dataframe tbody tr th {\n",
              "        vertical-align: top;\n",
              "    }\n",
              "\n",
              "    .dataframe thead th {\n",
              "        text-align: right;\n",
              "    }\n",
              "</style>\n",
              "<table border=\"1\" class=\"dataframe\">\n",
              "  <thead>\n",
              "    <tr style=\"text-align: right;\">\n",
              "      <th></th>\n",
              "      <th>timestamp</th>\n",
              "      <th>outport</th>\n",
              "      <th>inport</th>\n",
              "      <th>cache_coherence_type</th>\n",
              "      <th>flit_id</th>\n",
              "      <th>flit_type</th>\n",
              "      <th>vnet</th>\n",
              "      <th>vc</th>\n",
              "      <th>src_ni</th>\n",
              "      <th>src_router</th>\n",
              "      <th>dst_ni</th>\n",
              "      <th>dst_router</th>\n",
              "      <th>traversal_id</th>\n",
              "      <th>hop_count</th>\n",
              "      <th>current_hop</th>\n",
              "      <th>hop_percentage</th>\n",
              "      <th>enqueue_time</th>\n",
              "      <th>packet_count_decr</th>\n",
              "      <th>packet_count_incr</th>\n",
              "      <th>max_packet_count</th>\n",
              "      <th>packet_count_index</th>\n",
              "      <th>port_index</th>\n",
              "      <th>traversal_index</th>\n",
              "      <th>cache_coherence_vnet_index</th>\n",
              "      <th>vnet_vc_cc_index</th>\n",
              "      <th>target</th>\n",
              "    </tr>\n",
              "  </thead>\n",
              "  <tbody>\n",
              "    <tr>\n",
              "      <th>0</th>\n",
              "      <td>15</td>\n",
              "      <td>1</td>\n",
              "      <td>4</td>\n",
              "      <td>1</td>\n",
              "      <td>1</td>\n",
              "      <td>4</td>\n",
              "      <td>3</td>\n",
              "      <td>9</td>\n",
              "      <td>1</td>\n",
              "      <td>1</td>\n",
              "      <td>23</td>\n",
              "      <td>7</td>\n",
              "      <td>2</td>\n",
              "      <td>3</td>\n",
              "      <td>2</td>\n",
              "      <td>0.666667</td>\n",
              "      <td>12</td>\n",
              "      <td>8</td>\n",
              "      <td>1</td>\n",
              "      <td>8</td>\n",
              "      <td>8</td>\n",
              "      <td>4</td>\n",
              "      <td>8</td>\n",
              "      <td>3</td>\n",
              "      <td>27</td>\n",
              "      <td>0</td>\n",
              "    </tr>\n",
              "    <tr>\n",
              "      <th>1</th>\n",
              "      <td>19</td>\n",
              "      <td>1</td>\n",
              "      <td>4</td>\n",
              "      <td>1</td>\n",
              "      <td>1</td>\n",
              "      <td>4</td>\n",
              "      <td>3</td>\n",
              "      <td>10</td>\n",
              "      <td>0</td>\n",
              "      <td>0</td>\n",
              "      <td>23</td>\n",
              "      <td>7</td>\n",
              "      <td>1</td>\n",
              "      <td>4</td>\n",
              "      <td>3</td>\n",
              "      <td>0.750000</td>\n",
              "      <td>16</td>\n",
              "      <td>7</td>\n",
              "      <td>2</td>\n",
              "      <td>8</td>\n",
              "      <td>14</td>\n",
              "      <td>4</td>\n",
              "      <td>4</td>\n",
              "      <td>3</td>\n",
              "      <td>30</td>\n",
              "      <td>0</td>\n",
              "    </tr>\n",
              "    <tr>\n",
              "      <th>2</th>\n",
              "      <td>332</td>\n",
              "      <td>1</td>\n",
              "      <td>4</td>\n",
              "      <td>1</td>\n",
              "      <td>1</td>\n",
              "      <td>4</td>\n",
              "      <td>3</td>\n",
              "      <td>9</td>\n",
              "      <td>1</td>\n",
              "      <td>1</td>\n",
              "      <td>23</td>\n",
              "      <td>7</td>\n",
              "      <td>11</td>\n",
              "      <td>3</td>\n",
              "      <td>2</td>\n",
              "      <td>0.666667</td>\n",
              "      <td>12</td>\n",
              "      <td>6</td>\n",
              "      <td>3</td>\n",
              "      <td>8</td>\n",
              "      <td>18</td>\n",
              "      <td>4</td>\n",
              "      <td>44</td>\n",
              "      <td>3</td>\n",
              "      <td>27</td>\n",
              "      <td>0</td>\n",
              "    </tr>\n",
              "    <tr>\n",
              "      <th>3</th>\n",
              "      <td>363</td>\n",
              "      <td>1</td>\n",
              "      <td>4</td>\n",
              "      <td>1</td>\n",
              "      <td>1</td>\n",
              "      <td>4</td>\n",
              "      <td>3</td>\n",
              "      <td>9</td>\n",
              "      <td>0</td>\n",
              "      <td>0</td>\n",
              "      <td>23</td>\n",
              "      <td>7</td>\n",
              "      <td>12</td>\n",
              "      <td>4</td>\n",
              "      <td>3</td>\n",
              "      <td>0.750000</td>\n",
              "      <td>16</td>\n",
              "      <td>5</td>\n",
              "      <td>4</td>\n",
              "      <td>8</td>\n",
              "      <td>20</td>\n",
              "      <td>4</td>\n",
              "      <td>48</td>\n",
              "      <td>3</td>\n",
              "      <td>27</td>\n",
              "      <td>0</td>\n",
              "    </tr>\n",
              "    <tr>\n",
              "      <th>4</th>\n",
              "      <td>604</td>\n",
              "      <td>1</td>\n",
              "      <td>4</td>\n",
              "      <td>1</td>\n",
              "      <td>1</td>\n",
              "      <td>4</td>\n",
              "      <td>3</td>\n",
              "      <td>9</td>\n",
              "      <td>1</td>\n",
              "      <td>1</td>\n",
              "      <td>23</td>\n",
              "      <td>7</td>\n",
              "      <td>20</td>\n",
              "      <td>3</td>\n",
              "      <td>2</td>\n",
              "      <td>0.666667</td>\n",
              "      <td>12</td>\n",
              "      <td>4</td>\n",
              "      <td>5</td>\n",
              "      <td>8</td>\n",
              "      <td>20</td>\n",
              "      <td>4</td>\n",
              "      <td>80</td>\n",
              "      <td>3</td>\n",
              "      <td>27</td>\n",
              "      <td>0</td>\n",
              "    </tr>\n",
              "    <tr>\n",
              "      <th>...</th>\n",
              "      <td>...</td>\n",
              "      <td>...</td>\n",
              "      <td>...</td>\n",
              "      <td>...</td>\n",
              "      <td>...</td>\n",
              "      <td>...</td>\n",
              "      <td>...</td>\n",
              "      <td>...</td>\n",
              "      <td>...</td>\n",
              "      <td>...</td>\n",
              "      <td>...</td>\n",
              "      <td>...</td>\n",
              "      <td>...</td>\n",
              "      <td>...</td>\n",
              "      <td>...</td>\n",
              "      <td>...</td>\n",
              "      <td>...</td>\n",
              "      <td>...</td>\n",
              "      <td>...</td>\n",
              "      <td>...</td>\n",
              "      <td>...</td>\n",
              "      <td>...</td>\n",
              "      <td>...</td>\n",
              "      <td>...</td>\n",
              "      <td>...</td>\n",
              "      <td>...</td>\n",
              "    </tr>\n",
              "    <tr>\n",
              "      <th>32119</th>\n",
              "      <td>3265581</td>\n",
              "      <td>1</td>\n",
              "      <td>4</td>\n",
              "      <td>5</td>\n",
              "      <td>2</td>\n",
              "      <td>2</td>\n",
              "      <td>3</td>\n",
              "      <td>9</td>\n",
              "      <td>0</td>\n",
              "      <td>0</td>\n",
              "      <td>23</td>\n",
              "      <td>7</td>\n",
              "      <td>30081</td>\n",
              "      <td>4</td>\n",
              "      <td>3</td>\n",
              "      <td>0.750000</td>\n",
              "      <td>23</td>\n",
              "      <td>5</td>\n",
              "      <td>2</td>\n",
              "      <td>6</td>\n",
              "      <td>10</td>\n",
              "      <td>4</td>\n",
              "      <td>601620</td>\n",
              "      <td>15</td>\n",
              "      <td>135</td>\n",
              "      <td>0</td>\n",
              "    </tr>\n",
              "    <tr>\n",
              "      <th>32120</th>\n",
              "      <td>3265588</td>\n",
              "      <td>1</td>\n",
              "      <td>4</td>\n",
              "      <td>5</td>\n",
              "      <td>3</td>\n",
              "      <td>2</td>\n",
              "      <td>3</td>\n",
              "      <td>9</td>\n",
              "      <td>0</td>\n",
              "      <td>0</td>\n",
              "      <td>23</td>\n",
              "      <td>7</td>\n",
              "      <td>30081</td>\n",
              "      <td>4</td>\n",
              "      <td>3</td>\n",
              "      <td>0.750000</td>\n",
              "      <td>30</td>\n",
              "      <td>4</td>\n",
              "      <td>3</td>\n",
              "      <td>6</td>\n",
              "      <td>12</td>\n",
              "      <td>4</td>\n",
              "      <td>902430</td>\n",
              "      <td>15</td>\n",
              "      <td>135</td>\n",
              "      <td>0</td>\n",
              "    </tr>\n",
              "    <tr>\n",
              "      <th>32121</th>\n",
              "      <td>3265595</td>\n",
              "      <td>1</td>\n",
              "      <td>4</td>\n",
              "      <td>5</td>\n",
              "      <td>4</td>\n",
              "      <td>2</td>\n",
              "      <td>3</td>\n",
              "      <td>9</td>\n",
              "      <td>0</td>\n",
              "      <td>0</td>\n",
              "      <td>23</td>\n",
              "      <td>7</td>\n",
              "      <td>30081</td>\n",
              "      <td>4</td>\n",
              "      <td>3</td>\n",
              "      <td>0.750000</td>\n",
              "      <td>37</td>\n",
              "      <td>3</td>\n",
              "      <td>4</td>\n",
              "      <td>6</td>\n",
              "      <td>12</td>\n",
              "      <td>4</td>\n",
              "      <td>1203240</td>\n",
              "      <td>15</td>\n",
              "      <td>135</td>\n",
              "      <td>0</td>\n",
              "    </tr>\n",
              "    <tr>\n",
              "      <th>32122</th>\n",
              "      <td>3265602</td>\n",
              "      <td>1</td>\n",
              "      <td>4</td>\n",
              "      <td>5</td>\n",
              "      <td>5</td>\n",
              "      <td>3</td>\n",
              "      <td>3</td>\n",
              "      <td>9</td>\n",
              "      <td>0</td>\n",
              "      <td>0</td>\n",
              "      <td>23</td>\n",
              "      <td>7</td>\n",
              "      <td>30081</td>\n",
              "      <td>4</td>\n",
              "      <td>3</td>\n",
              "      <td>0.750000</td>\n",
              "      <td>44</td>\n",
              "      <td>2</td>\n",
              "      <td>5</td>\n",
              "      <td>6</td>\n",
              "      <td>10</td>\n",
              "      <td>4</td>\n",
              "      <td>2256075</td>\n",
              "      <td>15</td>\n",
              "      <td>135</td>\n",
              "      <td>0</td>\n",
              "    </tr>\n",
              "    <tr>\n",
              "      <th>32123</th>\n",
              "      <td>3265603</td>\n",
              "      <td>1</td>\n",
              "      <td>4</td>\n",
              "      <td>1</td>\n",
              "      <td>1</td>\n",
              "      <td>4</td>\n",
              "      <td>3</td>\n",
              "      <td>10</td>\n",
              "      <td>0</td>\n",
              "      <td>0</td>\n",
              "      <td>23</td>\n",
              "      <td>7</td>\n",
              "      <td>30082</td>\n",
              "      <td>4</td>\n",
              "      <td>3</td>\n",
              "      <td>0.750000</td>\n",
              "      <td>44</td>\n",
              "      <td>1</td>\n",
              "      <td>6</td>\n",
              "      <td>6</td>\n",
              "      <td>6</td>\n",
              "      <td>4</td>\n",
              "      <td>120328</td>\n",
              "      <td>3</td>\n",
              "      <td>30</td>\n",
              "      <td>0</td>\n",
              "    </tr>\n",
              "  </tbody>\n",
              "</table>\n",
              "<p>32124 rows × 26 columns</p>\n",
              "</div>"
            ],
            "text/plain": [
              "       timestamp  outport  ...  vnet_vc_cc_index  target\n",
              "0             15        1  ...                27       0\n",
              "1             19        1  ...                30       0\n",
              "2            332        1  ...                27       0\n",
              "3            363        1  ...                27       0\n",
              "4            604        1  ...                27       0\n",
              "...          ...      ...  ...               ...     ...\n",
              "32119    3265581        1  ...               135       0\n",
              "32120    3265588        1  ...               135       0\n",
              "32121    3265595        1  ...               135       0\n",
              "32122    3265602        1  ...               135       0\n",
              "32123    3265603        1  ...                30       0\n",
              "\n",
              "[32124 rows x 26 columns]"
            ]
          },
          "metadata": {
            "tags": []
          },
          "execution_count": 10
        }
      ]
    },
    {
      "cell_type": "markdown",
      "metadata": {
        "id": "xhWoBoqmnTM8",
        "colab_type": "text"
      },
      "source": [
        "Processing"
      ]
    },
    {
      "cell_type": "code",
      "metadata": {
        "colab_type": "code",
        "id": "Z-DMh9YdHg2F",
        "outputId": "ba011620-56b6-4d25-d2cc-f70cc6a76947",
        "colab": {
          "base_uri": "https://localhost:8080/",
          "height": 476
        }
      },
      "source": [
        "df.isnull().sum()"
      ],
      "execution_count": 11,
      "outputs": [
        {
          "output_type": "execute_result",
          "data": {
            "text/plain": [
              "timestamp                     0\n",
              "outport                       0\n",
              "inport                        0\n",
              "cache_coherence_type          0\n",
              "flit_id                       0\n",
              "flit_type                     0\n",
              "vnet                          0\n",
              "vc                            0\n",
              "src_ni                        0\n",
              "src_router                    0\n",
              "dst_ni                        0\n",
              "dst_router                    0\n",
              "traversal_id                  0\n",
              "hop_count                     0\n",
              "current_hop                   0\n",
              "hop_percentage                0\n",
              "enqueue_time                  0\n",
              "packet_count_decr             0\n",
              "packet_count_incr             0\n",
              "max_packet_count              0\n",
              "packet_count_index            0\n",
              "port_index                    0\n",
              "traversal_index               0\n",
              "cache_coherence_vnet_index    0\n",
              "vnet_vc_cc_index              0\n",
              "target                        0\n",
              "dtype: int64"
            ]
          },
          "metadata": {
            "tags": []
          },
          "execution_count": 11
        }
      ]
    },
    {
      "cell_type": "code",
      "metadata": {
        "id": "ct4HKW31PrjK",
        "colab_type": "code",
        "colab": {}
      },
      "source": [
        "df = df.drop(columns=['timestamp','src_ni','src_router','dst_ni','dst_router'])"
      ],
      "execution_count": 0,
      "outputs": []
    },
    {
      "cell_type": "code",
      "metadata": {
        "colab_type": "code",
        "id": "Y9vcn7NCHg2M",
        "outputId": "0f2e8494-84d7-40a8-8556-7fa281e7f502",
        "colab": {
          "base_uri": "https://localhost:8080/",
          "height": 720
        }
      },
      "source": [
        "df.corr()"
      ],
      "execution_count": 13,
      "outputs": [
        {
          "output_type": "execute_result",
          "data": {
            "text/html": [
              "<div>\n",
              "<style scoped>\n",
              "    .dataframe tbody tr th:only-of-type {\n",
              "        vertical-align: middle;\n",
              "    }\n",
              "\n",
              "    .dataframe tbody tr th {\n",
              "        vertical-align: top;\n",
              "    }\n",
              "\n",
              "    .dataframe thead th {\n",
              "        text-align: right;\n",
              "    }\n",
              "</style>\n",
              "<table border=\"1\" class=\"dataframe\">\n",
              "  <thead>\n",
              "    <tr style=\"text-align: right;\">\n",
              "      <th></th>\n",
              "      <th>outport</th>\n",
              "      <th>inport</th>\n",
              "      <th>cache_coherence_type</th>\n",
              "      <th>flit_id</th>\n",
              "      <th>flit_type</th>\n",
              "      <th>vnet</th>\n",
              "      <th>vc</th>\n",
              "      <th>traversal_id</th>\n",
              "      <th>hop_count</th>\n",
              "      <th>current_hop</th>\n",
              "      <th>hop_percentage</th>\n",
              "      <th>enqueue_time</th>\n",
              "      <th>packet_count_decr</th>\n",
              "      <th>packet_count_incr</th>\n",
              "      <th>max_packet_count</th>\n",
              "      <th>packet_count_index</th>\n",
              "      <th>port_index</th>\n",
              "      <th>traversal_index</th>\n",
              "      <th>cache_coherence_vnet_index</th>\n",
              "      <th>vnet_vc_cc_index</th>\n",
              "      <th>target</th>\n",
              "    </tr>\n",
              "  </thead>\n",
              "  <tbody>\n",
              "    <tr>\n",
              "      <th>outport</th>\n",
              "      <td>1.000000</td>\n",
              "      <td>-0.671989</td>\n",
              "      <td>0.348134</td>\n",
              "      <td>0.011609</td>\n",
              "      <td>-0.016679</td>\n",
              "      <td>NaN</td>\n",
              "      <td>0.631690</td>\n",
              "      <td>-0.034529</td>\n",
              "      <td>0.192938</td>\n",
              "      <td>-0.905813</td>\n",
              "      <td>-0.956366</td>\n",
              "      <td>-0.411140</td>\n",
              "      <td>-0.099563</td>\n",
              "      <td>0.196831</td>\n",
              "      <td>0.073801</td>\n",
              "      <td>0.075482</td>\n",
              "      <td>-0.256576</td>\n",
              "      <td>0.070390</td>\n",
              "      <td>0.348134</td>\n",
              "      <td>0.501095</td>\n",
              "      <td>0.006626</td>\n",
              "    </tr>\n",
              "    <tr>\n",
              "      <th>inport</th>\n",
              "      <td>-0.671989</td>\n",
              "      <td>1.000000</td>\n",
              "      <td>-0.219977</td>\n",
              "      <td>0.060086</td>\n",
              "      <td>-0.086391</td>\n",
              "      <td>NaN</td>\n",
              "      <td>-0.515120</td>\n",
              "      <td>0.101047</td>\n",
              "      <td>0.189375</td>\n",
              "      <td>0.660743</td>\n",
              "      <td>0.566842</td>\n",
              "      <td>0.374175</td>\n",
              "      <td>-0.014864</td>\n",
              "      <td>-0.227054</td>\n",
              "      <td>-0.183553</td>\n",
              "      <td>-0.148963</td>\n",
              "      <td>0.715215</td>\n",
              "      <td>0.012777</td>\n",
              "      <td>-0.219977</td>\n",
              "      <td>-0.358961</td>\n",
              "      <td>-0.005017</td>\n",
              "    </tr>\n",
              "    <tr>\n",
              "      <th>cache_coherence_type</th>\n",
              "      <td>0.348134</td>\n",
              "      <td>-0.219977</td>\n",
              "      <td>1.000000</td>\n",
              "      <td>0.349829</td>\n",
              "      <td>-0.502851</td>\n",
              "      <td>NaN</td>\n",
              "      <td>0.039993</td>\n",
              "      <td>0.000574</td>\n",
              "      <td>-0.033073</td>\n",
              "      <td>-0.387391</td>\n",
              "      <td>-0.375729</td>\n",
              "      <td>-0.552996</td>\n",
              "      <td>0.038838</td>\n",
              "      <td>-0.010018</td>\n",
              "      <td>0.021867</td>\n",
              "      <td>0.024508</td>\n",
              "      <td>-0.087840</td>\n",
              "      <td>0.298433</td>\n",
              "      <td>1.000000</td>\n",
              "      <td>0.954488</td>\n",
              "      <td>-0.008775</td>\n",
              "    </tr>\n",
              "    <tr>\n",
              "      <th>flit_id</th>\n",
              "      <td>0.011609</td>\n",
              "      <td>0.060086</td>\n",
              "      <td>0.349829</td>\n",
              "      <td>1.000000</td>\n",
              "      <td>-0.139389</td>\n",
              "      <td>NaN</td>\n",
              "      <td>-0.105458</td>\n",
              "      <td>0.019254</td>\n",
              "      <td>0.027135</td>\n",
              "      <td>-0.013911</td>\n",
              "      <td>0.010281</td>\n",
              "      <td>0.509465</td>\n",
              "      <td>0.015531</td>\n",
              "      <td>-0.003028</td>\n",
              "      <td>0.009487</td>\n",
              "      <td>0.020826</td>\n",
              "      <td>0.030904</td>\n",
              "      <td>0.656048</td>\n",
              "      <td>0.349829</td>\n",
              "      <td>0.299914</td>\n",
              "      <td>0.006139</td>\n",
              "    </tr>\n",
              "    <tr>\n",
              "      <th>flit_type</th>\n",
              "      <td>-0.016679</td>\n",
              "      <td>-0.086391</td>\n",
              "      <td>-0.502851</td>\n",
              "      <td>-0.139389</td>\n",
              "      <td>1.000000</td>\n",
              "      <td>NaN</td>\n",
              "      <td>0.151601</td>\n",
              "      <td>-0.027694</td>\n",
              "      <td>-0.039029</td>\n",
              "      <td>0.019980</td>\n",
              "      <td>-0.014782</td>\n",
              "      <td>0.370079</td>\n",
              "      <td>-0.166610</td>\n",
              "      <td>0.150963</td>\n",
              "      <td>-0.011872</td>\n",
              "      <td>-0.011877</td>\n",
              "      <td>-0.044453</td>\n",
              "      <td>0.032040</td>\n",
              "      <td>-0.502851</td>\n",
              "      <td>-0.431099</td>\n",
              "      <td>-0.008862</td>\n",
              "    </tr>\n",
              "    <tr>\n",
              "      <th>vnet</th>\n",
              "      <td>NaN</td>\n",
              "      <td>NaN</td>\n",
              "      <td>NaN</td>\n",
              "      <td>NaN</td>\n",
              "      <td>NaN</td>\n",
              "      <td>NaN</td>\n",
              "      <td>NaN</td>\n",
              "      <td>NaN</td>\n",
              "      <td>NaN</td>\n",
              "      <td>NaN</td>\n",
              "      <td>NaN</td>\n",
              "      <td>NaN</td>\n",
              "      <td>NaN</td>\n",
              "      <td>NaN</td>\n",
              "      <td>NaN</td>\n",
              "      <td>NaN</td>\n",
              "      <td>NaN</td>\n",
              "      <td>NaN</td>\n",
              "      <td>NaN</td>\n",
              "      <td>NaN</td>\n",
              "      <td>NaN</td>\n",
              "    </tr>\n",
              "    <tr>\n",
              "      <th>vc</th>\n",
              "      <td>0.631690</td>\n",
              "      <td>-0.515120</td>\n",
              "      <td>0.039993</td>\n",
              "      <td>-0.105458</td>\n",
              "      <td>0.151601</td>\n",
              "      <td>NaN</td>\n",
              "      <td>1.000000</td>\n",
              "      <td>-0.036796</td>\n",
              "      <td>0.000762</td>\n",
              "      <td>-0.616939</td>\n",
              "      <td>-0.597279</td>\n",
              "      <td>-0.191416</td>\n",
              "      <td>-0.041932</td>\n",
              "      <td>0.170030</td>\n",
              "      <td>0.097194</td>\n",
              "      <td>0.090477</td>\n",
              "      <td>-0.312445</td>\n",
              "      <td>-0.033963</td>\n",
              "      <td>0.039993</td>\n",
              "      <td>0.327175</td>\n",
              "      <td>0.000408</td>\n",
              "    </tr>\n",
              "    <tr>\n",
              "      <th>traversal_id</th>\n",
              "      <td>-0.034529</td>\n",
              "      <td>0.101047</td>\n",
              "      <td>0.000574</td>\n",
              "      <td>0.019254</td>\n",
              "      <td>-0.027694</td>\n",
              "      <td>NaN</td>\n",
              "      <td>-0.036796</td>\n",
              "      <td>1.000000</td>\n",
              "      <td>0.061953</td>\n",
              "      <td>0.036114</td>\n",
              "      <td>0.007417</td>\n",
              "      <td>0.040097</td>\n",
              "      <td>0.004208</td>\n",
              "      <td>0.004791</td>\n",
              "      <td>0.006828</td>\n",
              "      <td>-0.020812</td>\n",
              "      <td>0.139441</td>\n",
              "      <td>0.554317</td>\n",
              "      <td>0.000574</td>\n",
              "      <td>-0.012028</td>\n",
              "      <td>-0.236975</td>\n",
              "    </tr>\n",
              "    <tr>\n",
              "      <th>hop_count</th>\n",
              "      <td>0.192938</td>\n",
              "      <td>0.189375</td>\n",
              "      <td>-0.033073</td>\n",
              "      <td>0.027135</td>\n",
              "      <td>-0.039029</td>\n",
              "      <td>NaN</td>\n",
              "      <td>0.000762</td>\n",
              "      <td>0.061953</td>\n",
              "      <td>1.000000</td>\n",
              "      <td>0.121562</td>\n",
              "      <td>-0.317688</td>\n",
              "      <td>0.086545</td>\n",
              "      <td>-0.195036</td>\n",
              "      <td>-0.042661</td>\n",
              "      <td>-0.180351</td>\n",
              "      <td>-0.134106</td>\n",
              "      <td>0.593323</td>\n",
              "      <td>0.038952</td>\n",
              "      <td>-0.033073</td>\n",
              "      <td>-0.033443</td>\n",
              "      <td>0.097123</td>\n",
              "    </tr>\n",
              "    <tr>\n",
              "      <th>current_hop</th>\n",
              "      <td>-0.905813</td>\n",
              "      <td>0.660743</td>\n",
              "      <td>-0.387391</td>\n",
              "      <td>-0.013911</td>\n",
              "      <td>0.019980</td>\n",
              "      <td>NaN</td>\n",
              "      <td>-0.616939</td>\n",
              "      <td>0.036114</td>\n",
              "      <td>0.121562</td>\n",
              "      <td>1.000000</td>\n",
              "      <td>0.887147</td>\n",
              "      <td>0.452774</td>\n",
              "      <td>0.035808</td>\n",
              "      <td>-0.186875</td>\n",
              "      <td>-0.114622</td>\n",
              "      <td>-0.107196</td>\n",
              "      <td>0.370203</td>\n",
              "      <td>-0.074932</td>\n",
              "      <td>-0.387391</td>\n",
              "      <td>-0.530838</td>\n",
              "      <td>0.060556</td>\n",
              "    </tr>\n",
              "    <tr>\n",
              "      <th>hop_percentage</th>\n",
              "      <td>-0.956366</td>\n",
              "      <td>0.566842</td>\n",
              "      <td>-0.375729</td>\n",
              "      <td>0.010281</td>\n",
              "      <td>-0.014782</td>\n",
              "      <td>NaN</td>\n",
              "      <td>-0.597279</td>\n",
              "      <td>0.007417</td>\n",
              "      <td>-0.317688</td>\n",
              "      <td>0.887147</td>\n",
              "      <td>1.000000</td>\n",
              "      <td>0.425515</td>\n",
              "      <td>0.139404</td>\n",
              "      <td>-0.174897</td>\n",
              "      <td>-0.026930</td>\n",
              "      <td>-0.038290</td>\n",
              "      <td>0.085119</td>\n",
              "      <td>-0.081298</td>\n",
              "      <td>-0.375729</td>\n",
              "      <td>-0.515536</td>\n",
              "      <td>0.009581</td>\n",
              "    </tr>\n",
              "    <tr>\n",
              "      <th>enqueue_time</th>\n",
              "      <td>-0.411140</td>\n",
              "      <td>0.374175</td>\n",
              "      <td>-0.552996</td>\n",
              "      <td>0.509465</td>\n",
              "      <td>0.370079</td>\n",
              "      <td>NaN</td>\n",
              "      <td>-0.191416</td>\n",
              "      <td>0.040097</td>\n",
              "      <td>0.086545</td>\n",
              "      <td>0.452774</td>\n",
              "      <td>0.425515</td>\n",
              "      <td>1.000000</td>\n",
              "      <td>-0.020158</td>\n",
              "      <td>-0.029754</td>\n",
              "      <td>-0.037870</td>\n",
              "      <td>-0.024434</td>\n",
              "      <td>0.207206</td>\n",
              "      <td>0.290486</td>\n",
              "      <td>-0.552996</td>\n",
              "      <td>-0.582655</td>\n",
              "      <td>0.033157</td>\n",
              "    </tr>\n",
              "    <tr>\n",
              "      <th>packet_count_decr</th>\n",
              "      <td>-0.099563</td>\n",
              "      <td>-0.014864</td>\n",
              "      <td>0.038838</td>\n",
              "      <td>0.015531</td>\n",
              "      <td>-0.166610</td>\n",
              "      <td>NaN</td>\n",
              "      <td>-0.041932</td>\n",
              "      <td>0.004208</td>\n",
              "      <td>-0.195036</td>\n",
              "      <td>0.035808</td>\n",
              "      <td>0.139404</td>\n",
              "      <td>-0.020158</td>\n",
              "      <td>1.000000</td>\n",
              "      <td>-0.131482</td>\n",
              "      <td>0.658983</td>\n",
              "      <td>0.542549</td>\n",
              "      <td>-0.176426</td>\n",
              "      <td>-0.018764</td>\n",
              "      <td>0.038838</td>\n",
              "      <td>0.024106</td>\n",
              "      <td>-0.097842</td>\n",
              "    </tr>\n",
              "    <tr>\n",
              "      <th>packet_count_incr</th>\n",
              "      <td>0.196831</td>\n",
              "      <td>-0.227054</td>\n",
              "      <td>-0.010018</td>\n",
              "      <td>-0.003028</td>\n",
              "      <td>0.150963</td>\n",
              "      <td>NaN</td>\n",
              "      <td>0.170030</td>\n",
              "      <td>0.004791</td>\n",
              "      <td>-0.042661</td>\n",
              "      <td>-0.186875</td>\n",
              "      <td>-0.174897</td>\n",
              "      <td>-0.029754</td>\n",
              "      <td>-0.131482</td>\n",
              "      <td>1.000000</td>\n",
              "      <td>0.658983</td>\n",
              "      <td>0.542549</td>\n",
              "      <td>-0.172241</td>\n",
              "      <td>0.032463</td>\n",
              "      <td>-0.010018</td>\n",
              "      <td>0.042104</td>\n",
              "      <td>-0.097842</td>\n",
              "    </tr>\n",
              "    <tr>\n",
              "      <th>max_packet_count</th>\n",
              "      <td>0.073801</td>\n",
              "      <td>-0.183553</td>\n",
              "      <td>0.021867</td>\n",
              "      <td>0.009487</td>\n",
              "      <td>-0.011872</td>\n",
              "      <td>NaN</td>\n",
              "      <td>0.097194</td>\n",
              "      <td>0.006828</td>\n",
              "      <td>-0.180351</td>\n",
              "      <td>-0.114622</td>\n",
              "      <td>-0.026930</td>\n",
              "      <td>-0.037870</td>\n",
              "      <td>0.658983</td>\n",
              "      <td>0.658983</td>\n",
              "      <td>1.000000</td>\n",
              "      <td>0.823312</td>\n",
              "      <td>-0.264549</td>\n",
              "      <td>0.010394</td>\n",
              "      <td>0.021867</td>\n",
              "      <td>0.050237</td>\n",
              "      <td>-0.148473</td>\n",
              "    </tr>\n",
              "    <tr>\n",
              "      <th>packet_count_index</th>\n",
              "      <td>0.075482</td>\n",
              "      <td>-0.148963</td>\n",
              "      <td>0.024508</td>\n",
              "      <td>0.020826</td>\n",
              "      <td>-0.011877</td>\n",
              "      <td>NaN</td>\n",
              "      <td>0.090477</td>\n",
              "      <td>-0.020812</td>\n",
              "      <td>-0.134106</td>\n",
              "      <td>-0.107196</td>\n",
              "      <td>-0.038290</td>\n",
              "      <td>-0.024434</td>\n",
              "      <td>0.542549</td>\n",
              "      <td>0.542549</td>\n",
              "      <td>0.823312</td>\n",
              "      <td>1.000000</td>\n",
              "      <td>-0.206493</td>\n",
              "      <td>0.002410</td>\n",
              "      <td>0.024508</td>\n",
              "      <td>0.049792</td>\n",
              "      <td>-0.117183</td>\n",
              "    </tr>\n",
              "    <tr>\n",
              "      <th>port_index</th>\n",
              "      <td>-0.256576</td>\n",
              "      <td>0.715215</td>\n",
              "      <td>-0.087840</td>\n",
              "      <td>0.030904</td>\n",
              "      <td>-0.044453</td>\n",
              "      <td>NaN</td>\n",
              "      <td>-0.312445</td>\n",
              "      <td>0.139441</td>\n",
              "      <td>0.593323</td>\n",
              "      <td>0.370203</td>\n",
              "      <td>0.085119</td>\n",
              "      <td>0.207206</td>\n",
              "      <td>-0.176426</td>\n",
              "      <td>-0.172241</td>\n",
              "      <td>-0.264549</td>\n",
              "      <td>-0.206493</td>\n",
              "      <td>1.000000</td>\n",
              "      <td>0.056520</td>\n",
              "      <td>-0.087840</td>\n",
              "      <td>-0.178970</td>\n",
              "      <td>-0.008178</td>\n",
              "    </tr>\n",
              "    <tr>\n",
              "      <th>traversal_index</th>\n",
              "      <td>0.070390</td>\n",
              "      <td>0.012777</td>\n",
              "      <td>0.298433</td>\n",
              "      <td>0.656048</td>\n",
              "      <td>0.032040</td>\n",
              "      <td>NaN</td>\n",
              "      <td>-0.033963</td>\n",
              "      <td>0.554317</td>\n",
              "      <td>0.038952</td>\n",
              "      <td>-0.074932</td>\n",
              "      <td>-0.081298</td>\n",
              "      <td>0.290486</td>\n",
              "      <td>-0.018764</td>\n",
              "      <td>0.032463</td>\n",
              "      <td>0.010394</td>\n",
              "      <td>0.002410</td>\n",
              "      <td>0.056520</td>\n",
              "      <td>1.000000</td>\n",
              "      <td>0.298433</td>\n",
              "      <td>0.271403</td>\n",
              "      <td>-0.131465</td>\n",
              "    </tr>\n",
              "    <tr>\n",
              "      <th>cache_coherence_vnet_index</th>\n",
              "      <td>0.348134</td>\n",
              "      <td>-0.219977</td>\n",
              "      <td>1.000000</td>\n",
              "      <td>0.349829</td>\n",
              "      <td>-0.502851</td>\n",
              "      <td>NaN</td>\n",
              "      <td>0.039993</td>\n",
              "      <td>0.000574</td>\n",
              "      <td>-0.033073</td>\n",
              "      <td>-0.387391</td>\n",
              "      <td>-0.375729</td>\n",
              "      <td>-0.552996</td>\n",
              "      <td>0.038838</td>\n",
              "      <td>-0.010018</td>\n",
              "      <td>0.021867</td>\n",
              "      <td>0.024508</td>\n",
              "      <td>-0.087840</td>\n",
              "      <td>0.298433</td>\n",
              "      <td>1.000000</td>\n",
              "      <td>0.954488</td>\n",
              "      <td>-0.008775</td>\n",
              "    </tr>\n",
              "    <tr>\n",
              "      <th>vnet_vc_cc_index</th>\n",
              "      <td>0.501095</td>\n",
              "      <td>-0.358961</td>\n",
              "      <td>0.954488</td>\n",
              "      <td>0.299914</td>\n",
              "      <td>-0.431099</td>\n",
              "      <td>NaN</td>\n",
              "      <td>0.327175</td>\n",
              "      <td>-0.012028</td>\n",
              "      <td>-0.033443</td>\n",
              "      <td>-0.530838</td>\n",
              "      <td>-0.515536</td>\n",
              "      <td>-0.582655</td>\n",
              "      <td>0.024106</td>\n",
              "      <td>0.042104</td>\n",
              "      <td>0.050237</td>\n",
              "      <td>0.049792</td>\n",
              "      <td>-0.178970</td>\n",
              "      <td>0.271403</td>\n",
              "      <td>0.954488</td>\n",
              "      <td>1.000000</td>\n",
              "      <td>-0.007278</td>\n",
              "    </tr>\n",
              "    <tr>\n",
              "      <th>target</th>\n",
              "      <td>0.006626</td>\n",
              "      <td>-0.005017</td>\n",
              "      <td>-0.008775</td>\n",
              "      <td>0.006139</td>\n",
              "      <td>-0.008862</td>\n",
              "      <td>NaN</td>\n",
              "      <td>0.000408</td>\n",
              "      <td>-0.236975</td>\n",
              "      <td>0.097123</td>\n",
              "      <td>0.060556</td>\n",
              "      <td>0.009581</td>\n",
              "      <td>0.033157</td>\n",
              "      <td>-0.097842</td>\n",
              "      <td>-0.097842</td>\n",
              "      <td>-0.148473</td>\n",
              "      <td>-0.117183</td>\n",
              "      <td>-0.008178</td>\n",
              "      <td>-0.131465</td>\n",
              "      <td>-0.008775</td>\n",
              "      <td>-0.007278</td>\n",
              "      <td>1.000000</td>\n",
              "    </tr>\n",
              "  </tbody>\n",
              "</table>\n",
              "</div>"
            ],
            "text/plain": [
              "                             outport    inport  ...  vnet_vc_cc_index    target\n",
              "outport                     1.000000 -0.671989  ...          0.501095  0.006626\n",
              "inport                     -0.671989  1.000000  ...         -0.358961 -0.005017\n",
              "cache_coherence_type        0.348134 -0.219977  ...          0.954488 -0.008775\n",
              "flit_id                     0.011609  0.060086  ...          0.299914  0.006139\n",
              "flit_type                  -0.016679 -0.086391  ...         -0.431099 -0.008862\n",
              "vnet                             NaN       NaN  ...               NaN       NaN\n",
              "vc                          0.631690 -0.515120  ...          0.327175  0.000408\n",
              "traversal_id               -0.034529  0.101047  ...         -0.012028 -0.236975\n",
              "hop_count                   0.192938  0.189375  ...         -0.033443  0.097123\n",
              "current_hop                -0.905813  0.660743  ...         -0.530838  0.060556\n",
              "hop_percentage             -0.956366  0.566842  ...         -0.515536  0.009581\n",
              "enqueue_time               -0.411140  0.374175  ...         -0.582655  0.033157\n",
              "packet_count_decr          -0.099563 -0.014864  ...          0.024106 -0.097842\n",
              "packet_count_incr           0.196831 -0.227054  ...          0.042104 -0.097842\n",
              "max_packet_count            0.073801 -0.183553  ...          0.050237 -0.148473\n",
              "packet_count_index          0.075482 -0.148963  ...          0.049792 -0.117183\n",
              "port_index                 -0.256576  0.715215  ...         -0.178970 -0.008178\n",
              "traversal_index             0.070390  0.012777  ...          0.271403 -0.131465\n",
              "cache_coherence_vnet_index  0.348134 -0.219977  ...          0.954488 -0.008775\n",
              "vnet_vc_cc_index            0.501095 -0.358961  ...          1.000000 -0.007278\n",
              "target                      0.006626 -0.005017  ...         -0.007278  1.000000\n",
              "\n",
              "[21 rows x 21 columns]"
            ]
          },
          "metadata": {
            "tags": []
          },
          "execution_count": 13
        }
      ]
    },
    {
      "cell_type": "code",
      "metadata": {
        "colab_type": "code",
        "id": "KO-4OTqWHg2O",
        "outputId": "7882e73a-ebf9-4499-fedf-84038d4f58e9",
        "colab": {
          "base_uri": "https://localhost:8080/",
          "height": 1000
        }
      },
      "source": [
        "plt.figure(figsize=(25,25))\n",
        "sns.heatmap(df.corr(), annot = True)\n",
        "plt.show()"
      ],
      "execution_count": 14,
      "outputs": [
        {
          "output_type": "display_data",
          "data": {
            "image/png": "[encoded data removed]",
            "text/plain": [
              "<Figure size 1800x1800 with 2 Axes>"
            ]
          },
          "metadata": {
            "tags": [],
            "needs_background": "light"
          }
        }
      ]
    },
    {
      "cell_type": "code",
      "metadata": {
        "id": "ihUQ4Na0X6ud",
        "colab_type": "code",
        "colab": {}
      },
      "source": [
        "def find_correlation(data, threshold=0.9):\n",
        "    corr_mat = data.corr()\n",
        "    corr_mat.loc[:, :] = np.tril(corr_mat, k=-1)\n",
        "    already_in = set()\n",
        "    result = []\n",
        "    for col in corr_mat:\n",
        "        perfect_corr = corr_mat[col][abs(corr_mat[col])> threshold].index.tolist()\n",
        "        if perfect_corr and col not in already_in:\n",
        "            already_in.update(set(perfect_corr))\n",
        "            perfect_corr.append(col)\n",
        "            result.append(perfect_corr)\n",
        "    select_nested = [f[1:] for f in result]\n",
        "    select_flat = [i for j in select_nested for i in j]\n",
        "    return select_flat"
      ],
      "execution_count": 0,
      "outputs": []
    },
    {
      "cell_type": "code",
      "metadata": {
        "id": "ea_XFirFYRWD",
        "colab_type": "code",
        "outputId": "e41d34c8-6eaf-4c27-c825-5f2595b16bcc",
        "colab": {
          "base_uri": "https://localhost:8080/",
          "height": 34
        }
      },
      "source": [
        "columns_to_drop = find_correlation(df.drop(columns=['target']))\n",
        "columns_to_drop"
      ],
      "execution_count": 16,
      "outputs": [
        {
          "output_type": "execute_result",
          "data": {
            "text/plain": [
              "['hop_percentage', 'outport', 'vnet_vc_cc_index', 'cache_coherence_type']"
            ]
          },
          "metadata": {
            "tags": []
          },
          "execution_count": 16
        }
      ]
    },
    {
      "cell_type": "code",
      "metadata": {
        "id": "uoJ0vV8dc3Tp",
        "colab_type": "code",
        "colab": {}
      },
      "source": [
        "df = df.drop(columns=['inport','cache_coherence_type','flit_id','flit_type','vnet','current_hop','hop_percentage','port_index','cache_coherence_vnet_index','vnet_vc_cc_index'])"
      ],
      "execution_count": 0,
      "outputs": []
    },
    {
      "cell_type": "code",
      "metadata": {
        "id": "mnbTvnKD8pJp",
        "colab_type": "code",
        "outputId": "fe39dd4f-eac8-4cfa-818e-e6687f5130a0",
        "colab": {
          "base_uri": "https://localhost:8080/",
          "height": 739
        }
      },
      "source": [
        "plt.figure(figsize=(11,11))\n",
        "sns.heatmap(df.corr(), annot = True)\n",
        "plt.show()"
      ],
      "execution_count": 18,
      "outputs": [
        {
          "output_type": "display_data",
          "data": {
            "image/png": "[encoded data removed]",
            "text/plain": [
              "<Figure size 792x792 with 2 Axes>"
            ]
          },
          "metadata": {
            "tags": [],
            "needs_background": "light"
          }
        }
      ]
    },
    {
      "cell_type": "code",
      "metadata": {
        "id": "xmD7x9tM8rFy",
        "colab_type": "code",
        "outputId": "3386fbf8-588f-452f-8ad0-bfcf672ebde7",
        "colab": {
          "base_uri": "https://localhost:8080/",
          "height": 739
        }
      },
      "source": [
        "plt.figure(figsize=(11,11))\n",
        "sns.heatmap(df.corr())\n",
        "plt.show()"
      ],
      "execution_count": 19,
      "outputs": [
        {
          "output_type": "display_data",
          "data": {
            "image/png": "[encoded data removed]",
            "text/plain": [
              "<Figure size 792x792 with 2 Axes>"
            ]
          },
          "metadata": {
            "tags": [],
            "needs_background": "light"
          }
        }
      ]
    },
    {
      "cell_type": "markdown",
      "metadata": {
        "colab_type": "text",
        "id": "dqkKQOsugytM"
      },
      "source": [
        "Processing Dataset for Training"
      ]
    },
    {
      "cell_type": "code",
      "metadata": {
        "id": "3QGHP8EYGqHK",
        "colab_type": "code",
        "colab": {}
      },
      "source": [
        "train_X = df.drop(columns=['target'])\n",
        "train_Y = df['target']"
      ],
      "execution_count": 0,
      "outputs": []
    },
    {
      "cell_type": "code",
      "metadata": {
        "colab_type": "code",
        "id": "ebvK4Qc8Hg2S",
        "outputId": "cf84f5e2-742a-4a6c-bbfe-b501b5c32198",
        "colab": {
          "base_uri": "https://localhost:8080/",
          "height": 419
        }
      },
      "source": [
        "#standardization\n",
        "x = train_X.values\n",
        "min_max_scaler = preprocessing.MinMaxScaler()\n",
        "columns = train_X.columns\n",
        "x_scaled = min_max_scaler.fit_transform(x)\n",
        "train_X = pd.DataFrame(x_scaled)\n",
        "train_X.columns = columns\n",
        "train_X"
      ],
      "execution_count": 21,
      "outputs": [
        {
          "output_type": "execute_result",
          "data": {
            "text/html": [
              "<div>\n",
              "<style scoped>\n",
              "    .dataframe tbody tr th:only-of-type {\n",
              "        vertical-align: middle;\n",
              "    }\n",
              "\n",
              "    .dataframe tbody tr th {\n",
              "        vertical-align: top;\n",
              "    }\n",
              "\n",
              "    .dataframe thead th {\n",
              "        text-align: right;\n",
              "    }\n",
              "</style>\n",
              "<table border=\"1\" class=\"dataframe\">\n",
              "  <thead>\n",
              "    <tr style=\"text-align: right;\">\n",
              "      <th></th>\n",
              "      <th>outport</th>\n",
              "      <th>vc</th>\n",
              "      <th>traversal_id</th>\n",
              "      <th>hop_count</th>\n",
              "      <th>enqueue_time</th>\n",
              "      <th>packet_count_decr</th>\n",
              "      <th>packet_count_incr</th>\n",
              "      <th>max_packet_count</th>\n",
              "      <th>packet_count_index</th>\n",
              "      <th>traversal_index</th>\n",
              "    </tr>\n",
              "  </thead>\n",
              "  <tbody>\n",
              "    <tr>\n",
              "      <th>0</th>\n",
              "      <td>0.25</td>\n",
              "      <td>0.000000</td>\n",
              "      <td>0.000033</td>\n",
              "      <td>0.25</td>\n",
              "      <td>0.142857</td>\n",
              "      <td>0.056</td>\n",
              "      <td>0.000</td>\n",
              "      <td>0.056</td>\n",
              "      <td>0.001737</td>\n",
              "      <td>0.000001</td>\n",
              "    </tr>\n",
              "    <tr>\n",
              "      <th>1</th>\n",
              "      <td>0.25</td>\n",
              "      <td>0.000000</td>\n",
              "      <td>0.000033</td>\n",
              "      <td>0.25</td>\n",
              "      <td>0.142857</td>\n",
              "      <td>0.056</td>\n",
              "      <td>0.000</td>\n",
              "      <td>0.056</td>\n",
              "      <td>0.001737</td>\n",
              "      <td>0.000001</td>\n",
              "    </tr>\n",
              "    <tr>\n",
              "      <th>2</th>\n",
              "      <td>0.25</td>\n",
              "      <td>0.000000</td>\n",
              "      <td>0.000033</td>\n",
              "      <td>0.25</td>\n",
              "      <td>0.142857</td>\n",
              "      <td>0.056</td>\n",
              "      <td>0.000</td>\n",
              "      <td>0.056</td>\n",
              "      <td>0.001737</td>\n",
              "      <td>0.000001</td>\n",
              "    </tr>\n",
              "    <tr>\n",
              "      <th>3</th>\n",
              "      <td>0.25</td>\n",
              "      <td>0.000000</td>\n",
              "      <td>0.000033</td>\n",
              "      <td>0.25</td>\n",
              "      <td>0.142857</td>\n",
              "      <td>0.056</td>\n",
              "      <td>0.000</td>\n",
              "      <td>0.056</td>\n",
              "      <td>0.001737</td>\n",
              "      <td>0.000001</td>\n",
              "    </tr>\n",
              "    <tr>\n",
              "      <th>4</th>\n",
              "      <td>0.25</td>\n",
              "      <td>0.333333</td>\n",
              "      <td>0.000000</td>\n",
              "      <td>0.50</td>\n",
              "      <td>0.214286</td>\n",
              "      <td>0.048</td>\n",
              "      <td>0.008</td>\n",
              "      <td>0.056</td>\n",
              "      <td>0.003225</td>\n",
              "      <td>0.000000</td>\n",
              "    </tr>\n",
              "    <tr>\n",
              "      <th>...</th>\n",
              "      <td>...</td>\n",
              "      <td>...</td>\n",
              "      <td>...</td>\n",
              "      <td>...</td>\n",
              "      <td>...</td>\n",
              "      <td>...</td>\n",
              "      <td>...</td>\n",
              "      <td>...</td>\n",
              "      <td>...</td>\n",
              "      <td>...</td>\n",
              "    </tr>\n",
              "    <tr>\n",
              "      <th>320162</th>\n",
              "      <td>0.25</td>\n",
              "      <td>0.000000</td>\n",
              "      <td>0.666467</td>\n",
              "      <td>0.50</td>\n",
              "      <td>0.089286</td>\n",
              "      <td>0.000</td>\n",
              "      <td>0.008</td>\n",
              "      <td>0.008</td>\n",
              "      <td>0.000248</td>\n",
              "      <td>0.207492</td>\n",
              "    </tr>\n",
              "    <tr>\n",
              "      <th>320163</th>\n",
              "      <td>0.25</td>\n",
              "      <td>0.000000</td>\n",
              "      <td>0.999834</td>\n",
              "      <td>0.75</td>\n",
              "      <td>0.178571</td>\n",
              "      <td>0.000</td>\n",
              "      <td>0.000</td>\n",
              "      <td>0.000</td>\n",
              "      <td>0.000000</td>\n",
              "      <td>0.311276</td>\n",
              "    </tr>\n",
              "    <tr>\n",
              "      <th>320164</th>\n",
              "      <td>0.25</td>\n",
              "      <td>0.000000</td>\n",
              "      <td>0.999900</td>\n",
              "      <td>0.50</td>\n",
              "      <td>0.107143</td>\n",
              "      <td>0.000</td>\n",
              "      <td>0.000</td>\n",
              "      <td>0.000</td>\n",
              "      <td>0.000000</td>\n",
              "      <td>0.311296</td>\n",
              "    </tr>\n",
              "    <tr>\n",
              "      <th>320165</th>\n",
              "      <td>0.25</td>\n",
              "      <td>0.000000</td>\n",
              "      <td>0.999834</td>\n",
              "      <td>0.75</td>\n",
              "      <td>0.178571</td>\n",
              "      <td>0.008</td>\n",
              "      <td>0.000</td>\n",
              "      <td>0.008</td>\n",
              "      <td>0.000248</td>\n",
              "      <td>0.311276</td>\n",
              "    </tr>\n",
              "    <tr>\n",
              "      <th>320166</th>\n",
              "      <td>0.25</td>\n",
              "      <td>0.000000</td>\n",
              "      <td>0.999900</td>\n",
              "      <td>0.50</td>\n",
              "      <td>0.107143</td>\n",
              "      <td>0.000</td>\n",
              "      <td>0.008</td>\n",
              "      <td>0.008</td>\n",
              "      <td>0.000248</td>\n",
              "      <td>0.311296</td>\n",
              "    </tr>\n",
              "  </tbody>\n",
              "</table>\n",
              "<p>320167 rows × 10 columns</p>\n",
              "</div>"
            ],
            "text/plain": [
              "        outport        vc  ...  packet_count_index  traversal_index\n",
              "0          0.25  0.000000  ...            0.001737         0.000001\n",
              "1          0.25  0.000000  ...            0.001737         0.000001\n",
              "2          0.25  0.000000  ...            0.001737         0.000001\n",
              "3          0.25  0.000000  ...            0.001737         0.000001\n",
              "4          0.25  0.333333  ...            0.003225         0.000000\n",
              "...         ...       ...  ...                 ...              ...\n",
              "320162     0.25  0.000000  ...            0.000248         0.207492\n",
              "320163     0.25  0.000000  ...            0.000000         0.311276\n",
              "320164     0.25  0.000000  ...            0.000000         0.311296\n",
              "320165     0.25  0.000000  ...            0.000248         0.311276\n",
              "320166     0.25  0.000000  ...            0.000248         0.311296\n",
              "\n",
              "[320167 rows x 10 columns]"
            ]
          },
          "metadata": {
            "tags": []
          },
          "execution_count": 21
        }
      ]
    },
    {
      "cell_type": "code",
      "metadata": {
        "colab_type": "code",
        "id": "S6WGL499FBbX",
        "outputId": "79d9ffe4-2517-4e66-a489-d16b282cb761",
        "colab": {
          "base_uri": "https://localhost:8080/",
          "height": 34
        }
      },
      "source": [
        "train_X[train_X.duplicated()].shape"
      ],
      "execution_count": 22,
      "outputs": [
        {
          "output_type": "execute_result",
          "data": {
            "text/plain": [
              "(5759, 10)"
            ]
          },
          "metadata": {
            "tags": []
          },
          "execution_count": 22
        }
      ]
    },
    {
      "cell_type": "code",
      "metadata": {
        "id": "0BZm1zbDPrjh",
        "colab_type": "code",
        "outputId": "0ffd5daa-4455-434e-8e3c-d9bae3b6327d",
        "colab": {
          "base_uri": "https://localhost:8080/",
          "height": 436
        }
      },
      "source": [
        "test_X = df13.drop(columns=['target','timestamp','src_ni','src_router','dst_ni','dst_router','inport','cache_coherence_type','flit_id','flit_type','vnet','current_hop','hop_percentage','port_index','cache_coherence_vnet_index','vnet_vc_cc_index'])\n",
        "test_Y = df13['target']\n",
        "x = test_X.values\n",
        "min_max_scaler = preprocessing.MinMaxScaler()\n",
        "columns = test_X.columns\n",
        "x_scaled = min_max_scaler.fit_transform(x)\n",
        "test_X = pd.DataFrame(x_scaled)\n",
        "test_X.columns = columns\n",
        "print(test_X[test_X.duplicated()].shape)\n",
        "test_X"
      ],
      "execution_count": 23,
      "outputs": [
        {
          "output_type": "stream",
          "text": [
            "(0, 10)\n"
          ],
          "name": "stdout"
        },
        {
          "output_type": "execute_result",
          "data": {
            "text/html": [
              "<div>\n",
              "<style scoped>\n",
              "    .dataframe tbody tr th:only-of-type {\n",
              "        vertical-align: middle;\n",
              "    }\n",
              "\n",
              "    .dataframe tbody tr th {\n",
              "        vertical-align: top;\n",
              "    }\n",
              "\n",
              "    .dataframe thead th {\n",
              "        text-align: right;\n",
              "    }\n",
              "</style>\n",
              "<table border=\"1\" class=\"dataframe\">\n",
              "  <thead>\n",
              "    <tr style=\"text-align: right;\">\n",
              "      <th></th>\n",
              "      <th>outport</th>\n",
              "      <th>vc</th>\n",
              "      <th>traversal_id</th>\n",
              "      <th>hop_count</th>\n",
              "      <th>enqueue_time</th>\n",
              "      <th>packet_count_decr</th>\n",
              "      <th>packet_count_incr</th>\n",
              "      <th>max_packet_count</th>\n",
              "      <th>packet_count_index</th>\n",
              "      <th>traversal_index</th>\n",
              "    </tr>\n",
              "  </thead>\n",
              "  <tbody>\n",
              "    <tr>\n",
              "      <th>0</th>\n",
              "      <td>0.25</td>\n",
              "      <td>0.000000</td>\n",
              "      <td>0.000000</td>\n",
              "      <td>0.333333</td>\n",
              "      <td>0.214286</td>\n",
              "      <td>0.027273</td>\n",
              "      <td>0.000000</td>\n",
              "      <td>0.027273</td>\n",
              "      <td>0.000957</td>\n",
              "      <td>0.000000</td>\n",
              "    </tr>\n",
              "    <tr>\n",
              "      <th>1</th>\n",
              "      <td>0.25</td>\n",
              "      <td>0.000000</td>\n",
              "      <td>0.000333</td>\n",
              "      <td>0.333333</td>\n",
              "      <td>0.214286</td>\n",
              "      <td>0.018182</td>\n",
              "      <td>0.009091</td>\n",
              "      <td>0.027273</td>\n",
              "      <td>0.001595</td>\n",
              "      <td>0.000015</td>\n",
              "    </tr>\n",
              "    <tr>\n",
              "      <th>2</th>\n",
              "      <td>0.25</td>\n",
              "      <td>0.000000</td>\n",
              "      <td>0.000632</td>\n",
              "      <td>0.333333</td>\n",
              "      <td>0.214286</td>\n",
              "      <td>0.009091</td>\n",
              "      <td>0.018182</td>\n",
              "      <td>0.027273</td>\n",
              "      <td>0.001595</td>\n",
              "      <td>0.000028</td>\n",
              "    </tr>\n",
              "    <tr>\n",
              "      <th>3</th>\n",
              "      <td>0.25</td>\n",
              "      <td>0.000000</td>\n",
              "      <td>0.000931</td>\n",
              "      <td>0.666667</td>\n",
              "      <td>0.214286</td>\n",
              "      <td>0.000000</td>\n",
              "      <td>0.027273</td>\n",
              "      <td>0.027273</td>\n",
              "      <td>0.000957</td>\n",
              "      <td>0.000041</td>\n",
              "    </tr>\n",
              "    <tr>\n",
              "      <th>4</th>\n",
              "      <td>0.00</td>\n",
              "      <td>0.000000</td>\n",
              "      <td>0.001962</td>\n",
              "      <td>0.000000</td>\n",
              "      <td>0.214286</td>\n",
              "      <td>0.081818</td>\n",
              "      <td>0.000000</td>\n",
              "      <td>0.081818</td>\n",
              "      <td>0.002871</td>\n",
              "      <td>0.000087</td>\n",
              "    </tr>\n",
              "    <tr>\n",
              "      <th>...</th>\n",
              "      <td>...</td>\n",
              "      <td>...</td>\n",
              "      <td>...</td>\n",
              "      <td>...</td>\n",
              "      <td>...</td>\n",
              "      <td>...</td>\n",
              "      <td>...</td>\n",
              "      <td>...</td>\n",
              "      <td>...</td>\n",
              "      <td>...</td>\n",
              "    </tr>\n",
              "    <tr>\n",
              "      <th>27625</th>\n",
              "      <td>1.00</td>\n",
              "      <td>0.333333</td>\n",
              "      <td>0.999435</td>\n",
              "      <td>0.333333</td>\n",
              "      <td>0.500000</td>\n",
              "      <td>0.018182</td>\n",
              "      <td>0.109091</td>\n",
              "      <td>0.127273</td>\n",
              "      <td>0.012121</td>\n",
              "      <td>0.088890</td>\n",
              "    </tr>\n",
              "    <tr>\n",
              "      <th>27626</th>\n",
              "      <td>0.25</td>\n",
              "      <td>0.666667</td>\n",
              "      <td>0.999401</td>\n",
              "      <td>0.000000</td>\n",
              "      <td>0.035714</td>\n",
              "      <td>0.009091</td>\n",
              "      <td>0.118182</td>\n",
              "      <td>0.127273</td>\n",
              "      <td>0.008612</td>\n",
              "      <td>0.311110</td>\n",
              "    </tr>\n",
              "    <tr>\n",
              "      <th>27627</th>\n",
              "      <td>0.00</td>\n",
              "      <td>0.000000</td>\n",
              "      <td>0.999435</td>\n",
              "      <td>0.333333</td>\n",
              "      <td>0.339286</td>\n",
              "      <td>0.000000</td>\n",
              "      <td>0.127273</td>\n",
              "      <td>0.127273</td>\n",
              "      <td>0.004466</td>\n",
              "      <td>0.133336</td>\n",
              "    </tr>\n",
              "    <tr>\n",
              "      <th>27628</th>\n",
              "      <td>0.25</td>\n",
              "      <td>0.000000</td>\n",
              "      <td>0.999933</td>\n",
              "      <td>0.666667</td>\n",
              "      <td>0.178571</td>\n",
              "      <td>0.009091</td>\n",
              "      <td>0.000000</td>\n",
              "      <td>0.009091</td>\n",
              "      <td>0.000319</td>\n",
              "      <td>0.311276</td>\n",
              "    </tr>\n",
              "    <tr>\n",
              "      <th>27629</th>\n",
              "      <td>0.25</td>\n",
              "      <td>0.000000</td>\n",
              "      <td>1.000000</td>\n",
              "      <td>0.333333</td>\n",
              "      <td>0.107143</td>\n",
              "      <td>0.000000</td>\n",
              "      <td>0.009091</td>\n",
              "      <td>0.009091</td>\n",
              "      <td>0.000319</td>\n",
              "      <td>0.311296</td>\n",
              "    </tr>\n",
              "  </tbody>\n",
              "</table>\n",
              "<p>27630 rows × 10 columns</p>\n",
              "</div>"
            ],
            "text/plain": [
              "       outport        vc  ...  packet_count_index  traversal_index\n",
              "0         0.25  0.000000  ...            0.000957         0.000000\n",
              "1         0.25  0.000000  ...            0.001595         0.000015\n",
              "2         0.25  0.000000  ...            0.001595         0.000028\n",
              "3         0.25  0.000000  ...            0.000957         0.000041\n",
              "4         0.00  0.000000  ...            0.002871         0.000087\n",
              "...        ...       ...  ...                 ...              ...\n",
              "27625     1.00  0.333333  ...            0.012121         0.088890\n",
              "27626     0.25  0.666667  ...            0.008612         0.311110\n",
              "27627     0.00  0.000000  ...            0.004466         0.133336\n",
              "27628     0.25  0.000000  ...            0.000319         0.311276\n",
              "27629     0.25  0.000000  ...            0.000319         0.311296\n",
              "\n",
              "[27630 rows x 10 columns]"
            ]
          },
          "metadata": {
            "tags": []
          },
          "execution_count": 23
        }
      ]
    },
    {
      "cell_type": "code",
      "metadata": {
        "id": "6RHIaC_EpHU3",
        "colab_type": "code",
        "outputId": "395c6d1d-062b-4681-91ff-29aeea20d70b",
        "colab": {
          "base_uri": "https://localhost:8080/",
          "height": 34
        }
      },
      "source": [
        "test_X1 = df14.drop(columns=['target','timestamp','src_ni','src_router','dst_ni','dst_router','inport','cache_coherence_type','flit_id','flit_type','vnet','current_hop','hop_percentage','port_index','cache_coherence_vnet_index','vnet_vc_cc_index'])\n",
        "test_Y1 = df14['target']\n",
        "x = test_X1.values\n",
        "min_max_scaler = preprocessing.MinMaxScaler()\n",
        "columns = test_X1.columns\n",
        "x_scaled = min_max_scaler.fit_transform(x)\n",
        "test_X1 = pd.DataFrame(x_scaled)\n",
        "test_X1.columns = columns\n",
        "print(test_X1[test_X1.duplicated()].shape)"
      ],
      "execution_count": 24,
      "outputs": [
        {
          "output_type": "stream",
          "text": [
            "(0, 10)\n"
          ],
          "name": "stdout"
        }
      ]
    },
    {
      "cell_type": "code",
      "metadata": {
        "id": "CcaDu50VpICj",
        "colab_type": "code",
        "outputId": "f0195649-4262-48b3-dd7f-e3b552259762",
        "colab": {
          "base_uri": "https://localhost:8080/",
          "height": 34
        }
      },
      "source": [
        "test_X2 = df15.drop(columns=['target','timestamp','src_ni','src_router','dst_ni','dst_router','inport','cache_coherence_type','flit_id','flit_type','vnet','current_hop','hop_percentage','port_index','cache_coherence_vnet_index','vnet_vc_cc_index'])\n",
        "test_Y2 = df15['target']\n",
        "x = test_X2.values\n",
        "min_max_scaler = preprocessing.MinMaxScaler()\n",
        "columns = test_X2.columns\n",
        "x_scaled = min_max_scaler.fit_transform(x)\n",
        "test_X2 = pd.DataFrame(x_scaled)\n",
        "test_X2.columns = columns\n",
        "print(test_X2[test_X2.duplicated()].shape)"
      ],
      "execution_count": 25,
      "outputs": [
        {
          "output_type": "stream",
          "text": [
            "(0, 10)\n"
          ],
          "name": "stdout"
        }
      ]
    },
    {
      "cell_type": "code",
      "metadata": {
        "id": "6_CQ1D1DpIgj",
        "colab_type": "code",
        "outputId": "74aba0d8-9360-471e-ef08-bddfafa28ad9",
        "colab": {
          "base_uri": "https://localhost:8080/",
          "height": 34
        }
      },
      "source": [
        "test_X3 = df16.drop(columns=['target','timestamp','src_ni','src_router','dst_ni','dst_router','inport','cache_coherence_type','flit_id','flit_type','vnet','current_hop','hop_percentage','port_index','cache_coherence_vnet_index','vnet_vc_cc_index'])\n",
        "test_Y3 = df16['target']\n",
        "x = test_X3.values\n",
        "min_max_scaler = preprocessing.MinMaxScaler()\n",
        "columns = test_X3.columns\n",
        "x_scaled = min_max_scaler.fit_transform(x)\n",
        "test_X3 = pd.DataFrame(x_scaled)\n",
        "test_X3.columns = columns\n",
        "print(test_X3[test_X3.duplicated()].shape)"
      ],
      "execution_count": 26,
      "outputs": [
        {
          "output_type": "stream",
          "text": [
            "(0, 10)\n"
          ],
          "name": "stdout"
        }
      ]
    },
    {
      "cell_type": "code",
      "metadata": {
        "id": "yyhSMnXWpI7H",
        "colab_type": "code",
        "outputId": "28526d16-871e-42db-c926-6712565fbb14",
        "colab": {
          "base_uri": "https://localhost:8080/",
          "height": 34
        }
      },
      "source": [
        "test_X4 = df17.drop(columns=['target','timestamp','src_ni','src_router','dst_ni','dst_router','inport','cache_coherence_type','flit_id','flit_type','vnet','current_hop','hop_percentage','port_index','cache_coherence_vnet_index','vnet_vc_cc_index'])\n",
        "test_Y4 = df17['target']\n",
        "x = test_X4.values\n",
        "min_max_scaler = preprocessing.MinMaxScaler()\n",
        "columns = test_X4.columns\n",
        "x_scaled = min_max_scaler.fit_transform(x)\n",
        "test_X4 = pd.DataFrame(x_scaled)\n",
        "test_X4.columns = columns\n",
        "print(test_X4[test_X4.duplicated()].shape)"
      ],
      "execution_count": 27,
      "outputs": [
        {
          "output_type": "stream",
          "text": [
            "(0, 10)\n"
          ],
          "name": "stdout"
        }
      ]
    },
    {
      "cell_type": "code",
      "metadata": {
        "id": "x1L9-vRTpJtX",
        "colab_type": "code",
        "outputId": "77a1fcda-dac7-4502-dd78-1a550b10f9b5",
        "colab": {
          "base_uri": "https://localhost:8080/",
          "height": 34
        }
      },
      "source": [
        "test_X5 = df18.drop(columns=['target','timestamp','src_ni','src_router','dst_ni','dst_router','inport','cache_coherence_type','flit_id','flit_type','vnet','current_hop','hop_percentage','port_index','cache_coherence_vnet_index','vnet_vc_cc_index'])\n",
        "test_Y5 = df18['target']\n",
        "x = test_X5.values\n",
        "min_max_scaler = preprocessing.MinMaxScaler()\n",
        "columns = test_X5.columns\n",
        "x_scaled = min_max_scaler.fit_transform(x)\n",
        "test_X5 = pd.DataFrame(x_scaled)\n",
        "test_X5.columns = columns\n",
        "print(test_X5[test_X5.duplicated()].shape)"
      ],
      "execution_count": 28,
      "outputs": [
        {
          "output_type": "stream",
          "text": [
            "(0, 10)\n"
          ],
          "name": "stdout"
        }
      ]
    },
    {
      "cell_type": "code",
      "metadata": {
        "id": "TOO9K9qnpLL_",
        "colab_type": "code",
        "outputId": "bdbb1991-8211-421f-c3ec-56c239dfb565",
        "colab": {
          "base_uri": "https://localhost:8080/",
          "height": 34
        }
      },
      "source": [
        "test_X6 = df19.drop(columns=['target','timestamp','src_ni','src_router','dst_ni','dst_router','inport','cache_coherence_type','flit_id','flit_type','vnet','current_hop','hop_percentage','port_index','cache_coherence_vnet_index','vnet_vc_cc_index'])\n",
        "test_Y6 = df19['target']\n",
        "x = test_X6.values\n",
        "min_max_scaler = preprocessing.MinMaxScaler()\n",
        "columns = test_X6.columns\n",
        "x_scaled = min_max_scaler.fit_transform(x)\n",
        "test_X6 = pd.DataFrame(x_scaled)\n",
        "test_X6.columns = columns\n",
        "print(test_X6[test_X6.duplicated()].shape)"
      ],
      "execution_count": 29,
      "outputs": [
        {
          "output_type": "stream",
          "text": [
            "(0, 10)\n"
          ],
          "name": "stdout"
        }
      ]
    },
    {
      "cell_type": "code",
      "metadata": {
        "id": "y2dPb0tOpLxu",
        "colab_type": "code",
        "outputId": "49fef1cc-8394-40cb-ddf4-563a166b54f9",
        "colab": {
          "base_uri": "https://localhost:8080/",
          "height": 34
        }
      },
      "source": [
        "test_X7 = df20.drop(columns=['target','timestamp','src_ni','src_router','dst_ni','dst_router','inport','cache_coherence_type','flit_id','flit_type','vnet','current_hop','hop_percentage','port_index','cache_coherence_vnet_index','vnet_vc_cc_index'])\n",
        "test_Y7 = df20['target']\n",
        "x = test_X7.values\n",
        "min_max_scaler = preprocessing.MinMaxScaler()\n",
        "columns = test_X7.columns\n",
        "x_scaled = min_max_scaler.fit_transform(x)\n",
        "test_X7 = pd.DataFrame(x_scaled)\n",
        "test_X7.columns = columns\n",
        "print(test_X7[test_X7.duplicated()].shape)"
      ],
      "execution_count": 30,
      "outputs": [
        {
          "output_type": "stream",
          "text": [
            "(0, 10)\n"
          ],
          "name": "stdout"
        }
      ]
    },
    {
      "cell_type": "markdown",
      "metadata": {
        "colab_type": "text",
        "id": "2NUEiEtVHg2h"
      },
      "source": [
        "#### Machine Learning Models"
      ]
    },
    {
      "cell_type": "markdown",
      "metadata": {
        "colab_type": "text",
        "id": "BzgcG2e7hQC8"
      },
      "source": [
        "Module Imports for Data Processing and Report Generation in Machine Learning Models"
      ]
    },
    {
      "cell_type": "code",
      "metadata": {
        "colab_type": "code",
        "id": "wZCWkSvsHg2h",
        "colab": {}
      },
      "source": [
        "from sklearn.model_selection import train_test_split\n",
        "\n",
        "import statsmodels.api as sm\n",
        "from sklearn import metrics\n",
        "\n",
        "from sklearn.metrics import classification_report\n",
        "from sklearn.metrics import confusion_matrix\n",
        "\n",
        "from sklearn.metrics import roc_curve\n",
        "from sklearn.metrics import roc_auc_score\n",
        "from sklearn.metrics import accuracy_score\n",
        "from sklearn.metrics import mean_squared_error"
      ],
      "execution_count": 0,
      "outputs": []
    },
    {
      "cell_type": "markdown",
      "metadata": {
        "colab_type": "text",
        "id": "TWvMTDtHhoex"
      },
      "source": [
        "Labels\n",
        "\n",
        "1.   0 -  malicious\n",
        "2.   1 -  good\n",
        "\n"
      ]
    },
    {
      "cell_type": "code",
      "metadata": {
        "colab_type": "code",
        "id": "Ns6uUJz1G9MD",
        "outputId": "d3cf122e-99af-4d67-ef97-4ee7f4fead0b",
        "colab": {
          "base_uri": "https://localhost:8080/",
          "height": 68
        }
      },
      "source": [
        "train_Y = df['target']\n",
        "train_Y.value_counts()"
      ],
      "execution_count": 32,
      "outputs": [
        {
          "output_type": "execute_result",
          "data": {
            "text/plain": [
              "0    241245\n",
              "1     78922\n",
              "Name: target, dtype: int64"
            ]
          },
          "metadata": {
            "tags": []
          },
          "execution_count": 32
        }
      ]
    },
    {
      "cell_type": "markdown",
      "metadata": {
        "colab_type": "text",
        "id": "_px-73eUh-05"
      },
      "source": [
        "Training and Validation Splitting of the Dataset"
      ]
    },
    {
      "cell_type": "code",
      "metadata": {
        "colab_type": "code",
        "id": "f9N46sTQHAw4",
        "colab": {}
      },
      "source": [
        "seed = 5\n",
        "np.random.seed(seed)"
      ],
      "execution_count": 0,
      "outputs": []
    },
    {
      "cell_type": "code",
      "metadata": {
        "colab_type": "code",
        "id": "SnHyPPbEHg2i",
        "colab": {}
      },
      "source": [
        "X_train, X_test, y_train, y_test = train_test_split(train_X, train_Y, test_size=0.2, random_state=seed, shuffle=True)"
      ],
      "execution_count": 0,
      "outputs": []
    },
    {
      "cell_type": "markdown",
      "metadata": {
        "colab_type": "text",
        "id": "Fy_oia0XiJNW"
      },
      "source": [
        "Feature Selection"
      ]
    },
    {
      "cell_type": "code",
      "metadata": {
        "colab_type": "code",
        "id": "v10pJaPUfMOd",
        "outputId": "5d4b274d-0f0b-4b1b-8b51-0bd3d0628d13",
        "colab": {
          "base_uri": "https://localhost:8080/",
          "height": 469
        }
      },
      "source": [
        "#SelectKBest for feature selection\n",
        "bf = SelectKBest(score_func=chi2, k='all')\n",
        "fit = bf.fit(X_train,y_train)\n",
        "dfscores = pd.DataFrame(fit.scores_)\n",
        "dfcolumns = pd.DataFrame(columns)\n",
        "\n",
        "featureScores = pd.concat([dfcolumns,dfscores],axis=1)\n",
        "featureScores.columns = ['Specs','Score'] \n",
        "print(featureScores.nlargest(10,'Score'))\n",
        "featureScores.plot(kind='barh')"
      ],
      "execution_count": 35,
      "outputs": [
        {
          "output_type": "stream",
          "text": [
            "                Specs        Score\n",
            "2        traversal_id  2647.929988\n",
            "9     traversal_index   872.697273\n",
            "7    max_packet_count   443.633338\n",
            "3           hop_count   335.990825\n",
            "8  packet_count_index   282.813807\n",
            "6   packet_count_incr   223.211563\n",
            "5   packet_count_decr   220.426866\n",
            "4        enqueue_time    31.670985\n",
            "0             outport     6.734271\n",
            "1                  vc     0.300022\n"
          ],
          "name": "stdout"
        },
        {
          "output_type": "execute_result",
          "data": {
            "text/plain": [
              "<matplotlib.axes._subplots.AxesSubplot at 0x7fa580d09da0>"
            ]
          },
          "metadata": {
            "tags": []
          },
          "execution_count": 35
        },
        {
          "output_type": "display_data",
          "data": {
            "image/png": "[encoded data removed]",
            "text/plain": [
              "<Figure size 432x288 with 1 Axes>"
            ]
          },
          "metadata": {
            "tags": [],
            "needs_background": "light"
          }
        }
      ]
    },
    {
      "cell_type": "markdown",
      "metadata": {
        "colab_type": "text",
        "id": "rnmPuKJF2pdi"
      },
      "source": [
        "Decision Tree Classifier"
      ]
    },
    {
      "cell_type": "code",
      "metadata": {
        "colab_type": "code",
        "id": "biZL4MMmvYmG",
        "colab": {}
      },
      "source": [
        "#decisiontreee\n",
        "from sklearn.tree import DecisionTreeClassifier\n",
        "from sklearn.model_selection import GridSearchCV"
      ],
      "execution_count": 0,
      "outputs": []
    },
    {
      "cell_type": "code",
      "metadata": {
        "colab_type": "code",
        "id": "d3mCR-TiHg2-",
        "outputId": "23b350a1-c463-4c9b-cfd6-120500181b43",
        "colab": {
          "base_uri": "https://localhost:8080/",
          "height": 119
        }
      },
      "source": [
        "dt = DecisionTreeClassifier(max_depth=30,max_features=10,random_state = 42)\n",
        "dt.fit(X_train,y_train)"
      ],
      "execution_count": 76,
      "outputs": [
        {
          "output_type": "execute_result",
          "data": {
            "text/plain": [
              "DecisionTreeClassifier(ccp_alpha=0.0, class_weight=None, criterion='gini',\n",
              "                       max_depth=30, max_features=10, max_leaf_nodes=None,\n",
              "                       min_impurity_decrease=0.0, min_impurity_split=None,\n",
              "                       min_samples_leaf=1, min_samples_split=2,\n",
              "                       min_weight_fraction_leaf=0.0, presort='deprecated',\n",
              "                       random_state=42, splitter='best')"
            ]
          },
          "metadata": {
            "tags": []
          },
          "execution_count": 76
        }
      ]
    },
    {
      "cell_type": "code",
      "metadata": {
        "id": "inQ8gu1OdApz",
        "colab_type": "code",
        "colab": {}
      },
      "source": [
        "pickle.dump(dt, open(\"dt-r0.pickle.dat\", 'wb'))"
      ],
      "execution_count": 0,
      "outputs": []
    },
    {
      "cell_type": "code",
      "metadata": {
        "colab_type": "code",
        "id": "xIIefAL_Hg2_",
        "colab": {}
      },
      "source": [
        "y_pred_dt= dt.predict(X_test)"
      ],
      "execution_count": 0,
      "outputs": []
    },
    {
      "cell_type": "code",
      "metadata": {
        "colab_type": "code",
        "id": "gBahu3DGHg3A",
        "outputId": "421ff994-ff58-407a-d329-5455e2d8fd14",
        "colab": {
          "base_uri": "https://localhost:8080/",
          "height": 51
        }
      },
      "source": [
        "dt_score_train = dt.score(X_train,y_train)\n",
        "print(\"Train Prediction Score\",dt_score_train*100)\n",
        "dt_score_test = accuracy_score(y_test,y_pred_dt)\n",
        "print(\"Test Prediction Score\",dt_score_test*100)"
      ],
      "execution_count": 79,
      "outputs": [
        {
          "output_type": "stream",
          "text": [
            "Train Prediction Score 99.06689102926995\n",
            "Test Prediction Score 97.03126464065966\n"
          ],
          "name": "stdout"
        }
      ]
    },
    {
      "cell_type": "code",
      "metadata": {
        "id": "6y9oZRCGhR_7",
        "colab_type": "code",
        "outputId": "98c5be46-b927-4c8f-ee51-ec889d06916f",
        "colab": {
          "base_uri": "https://localhost:8080/",
          "height": 153
        }
      },
      "source": [
        "y_pred_dt_test= dt.predict(test_X)\n",
        "dt_score_test = accuracy_score(test_Y,y_pred_dt_test)\n",
        "print(\"Test Prediction Score\",dt_score_test*100)\n",
        "y_pred_dt_test= dt.predict(test_X1)\n",
        "dt_score_test = accuracy_score(test_Y1,y_pred_dt_test)\n",
        "print(\"Test Prediction Score\",dt_score_test*100)\n",
        "y_pred_dt_test= dt.predict(test_X2)\n",
        "dt_score_test = accuracy_score(test_Y2,y_pred_dt_test)\n",
        "print(\"Test Prediction Score\",dt_score_test*100)\n",
        "y_pred_dt_test= dt.predict(test_X3)\n",
        "dt_score_test = accuracy_score(test_Y3,y_pred_dt_test)\n",
        "print(\"Test Prediction Score\",dt_score_test*100)\n",
        "y_pred_dt_test= dt.predict(test_X4)\n",
        "dt_score_test = accuracy_score(test_Y4,y_pred_dt_test)\n",
        "print(\"Test Prediction Score\",dt_score_test*100)\n",
        "y_pred_dt_test= dt.predict(test_X5)\n",
        "dt_score_test = accuracy_score(test_Y5,y_pred_dt_test)\n",
        "print(\"Test Prediction Score\",dt_score_test*100)\n",
        "y_pred_dt_test= dt.predict(test_X6)\n",
        "dt_score_test = accuracy_score(test_Y6,y_pred_dt_test)\n",
        "print(\"Test Prediction Score\",dt_score_test*100)\n",
        "y_pred_dt_test= dt.predict(test_X7)\n",
        "dt_score_test = accuracy_score(test_Y7,y_pred_dt_test)\n",
        "print(\"Test Prediction Score\",dt_score_test*100)"
      ],
      "execution_count": 80,
      "outputs": [
        {
          "output_type": "stream",
          "text": [
            "Test Prediction Score 89.22547955121244\n",
            "Test Prediction Score 85.49916341327383\n",
            "Test Prediction Score 87.09042754445706\n",
            "Test Prediction Score 86.36626854867897\n",
            "Test Prediction Score 83.63601967461219\n",
            "Test Prediction Score 86.84668358100761\n",
            "Test Prediction Score 86.49640559969731\n",
            "Test Prediction Score 87.22403184943902\n"
          ],
          "name": "stdout"
        }
      ]
    },
    {
      "cell_type": "code",
      "metadata": {
        "colab_type": "code",
        "id": "OCAU8YpEfMRD",
        "outputId": "1420183d-adbb-489e-a3d2-16706ce056c4",
        "colab": {
          "base_uri": "https://localhost:8080/",
          "height": 282
        }
      },
      "source": [
        "feat_importances = pd.Series(dt.feature_importances_, index=columns)\n",
        "feat_importances.plot(kind='barh')"
      ],
      "execution_count": 81,
      "outputs": [
        {
          "output_type": "execute_result",
          "data": {
            "text/plain": [
              "<matplotlib.axes._subplots.AxesSubplot at 0x7fa57ffbfb70>"
            ]
          },
          "metadata": {
            "tags": []
          },
          "execution_count": 81
        },
        {
          "output_type": "display_data",
          "data": {
            "image/png": "[encoded data removed]",
            "text/plain": [
              "<Figure size 432x288 with 1 Axes>"
            ]
          },
          "metadata": {
            "tags": [],
            "needs_background": "light"
          }
        }
      ]
    },
    {
      "cell_type": "code",
      "metadata": {
        "colab_type": "code",
        "id": "5nIhx84-Hg3B",
        "outputId": "fbddfb33-2db4-478a-ada1-4480184372ac",
        "colab": {
          "base_uri": "https://localhost:8080/",
          "height": 295
        }
      },
      "source": [
        "cm = confusion_matrix(y_test, y_pred_dt)\n",
        "class_label = [\"Anomalous\", \"Normal\"]\n",
        "df_cm = pd.DataFrame(cm, index=class_label,columns=class_label)\n",
        "sns.heatmap(df_cm, annot=True, fmt='d')\n",
        "plt.title(\"Confusion Matrix\")\n",
        "plt.xlabel(\"Predicted Label\")\n",
        "plt.ylabel(\"True Label\")\n",
        "plt.show()"
      ],
      "execution_count": 82,
      "outputs": [
        {
          "output_type": "display_data",
          "data": {
            "image/png": "[encoded data removed]",
            "text/plain": [
              "<Figure size 432x288 with 2 Axes>"
            ]
          },
          "metadata": {
            "tags": [],
            "needs_background": "light"
          }
        }
      ]
    },
    {
      "cell_type": "code",
      "metadata": {
        "colab_type": "code",
        "id": "xGqt7wigHg3B",
        "outputId": "f230f927-31a3-4a3f-aa75-d523a1b1991b",
        "colab": {
          "base_uri": "https://localhost:8080/",
          "height": 170
        }
      },
      "source": [
        "print(classification_report(y_test,y_pred_dt))"
      ],
      "execution_count": 83,
      "outputs": [
        {
          "output_type": "stream",
          "text": [
            "              precision    recall  f1-score   support\n",
            "\n",
            "           0       0.98      0.98      0.98     48195\n",
            "           1       0.95      0.93      0.94     15839\n",
            "\n",
            "    accuracy                           0.97     64034\n",
            "   macro avg       0.96      0.96      0.96     64034\n",
            "weighted avg       0.97      0.97      0.97     64034\n",
            "\n"
          ],
          "name": "stdout"
        }
      ]
    },
    {
      "cell_type": "code",
      "metadata": {
        "colab_type": "code",
        "id": "wkWUUjGmHg3C",
        "outputId": "ab3e42f8-8c4c-43ae-a31c-cbe2ff3a3e07",
        "colab": {
          "base_uri": "https://localhost:8080/",
          "height": 295
        }
      },
      "source": [
        "dt_roc_auc = roc_auc_score(y_test, y_pred_dt)\n",
        "fpr, tpr, thresholds = roc_curve(y_test, dt.predict_proba(X_test)[:,1])\n",
        "plt.figure()\n",
        "plt.plot(fpr, tpr, label='DTree (area = %0.2f)' % dt_roc_auc)\n",
        "plt.plot([0, 1], [0, 1],'r--')\n",
        "plt.xlim([0.0, 1.0])\n",
        "plt.ylim([0.0, 1.05])\n",
        "plt.xlabel('False Positive Rate')\n",
        "plt.ylabel('True Positive Rate')\n",
        "plt.title('Receiver operating characteristic')\n",
        "plt.legend(loc=\"lower right\")\n",
        "plt.savefig('DT_ROC')\n",
        "plt.show()"
      ],
      "execution_count": 84,
      "outputs": [
        {
          "output_type": "display_data",
          "data": {
            "image/png": "[encoded data removed]",
            "text/plain": [
              "<Figure size 432x288 with 1 Axes>"
            ]
          },
          "metadata": {
            "tags": [],
            "needs_background": "light"
          }
        }
      ]
    },
    {
      "cell_type": "markdown",
      "metadata": {
        "id": "fXmBo6f1Hg3J",
        "colab_type": "text"
      },
      "source": [
        "XGB Classifier"
      ]
    },
    {
      "cell_type": "code",
      "metadata": {
        "id": "nE2alWP-ejv9",
        "colab_type": "code",
        "colab": {}
      },
      "source": [
        "from xgboost import XGBClassifier\n",
        "from xgboost import plot_importance"
      ],
      "execution_count": 0,
      "outputs": []
    },
    {
      "cell_type": "code",
      "metadata": {
        "colab_type": "code",
        "id": "JBwo0_BWHg3K",
        "outputId": "db2b2c18-f30b-46a8-f026-b903ff2f4d8b",
        "colab": {
          "base_uri": "https://localhost:8080/",
          "height": 136
        }
      },
      "source": [
        "xgbc = XGBClassifier(max_depth=20,min_child_weight=1,n_estimators=500,random_state=42,learning_rate=0.2)\n",
        "xgbc.fit(X_train,y_train)"
      ],
      "execution_count": 95,
      "outputs": [
        {
          "output_type": "execute_result",
          "data": {
            "text/plain": [
              "XGBClassifier(base_score=0.5, booster='gbtree', colsample_bylevel=1,\n",
              "              colsample_bynode=1, colsample_bytree=1, gamma=0,\n",
              "              learning_rate=0.2, max_delta_step=0, max_depth=20,\n",
              "              min_child_weight=1, missing=None, n_estimators=500, n_jobs=1,\n",
              "              nthread=None, objective='binary:logistic', random_state=42,\n",
              "              reg_alpha=0, reg_lambda=1, scale_pos_weight=1, seed=None,\n",
              "              silent=None, subsample=1, verbosity=1)"
            ]
          },
          "metadata": {
            "tags": []
          },
          "execution_count": 95
        }
      ]
    },
    {
      "cell_type": "code",
      "metadata": {
        "id": "1mA3luB2uPQG",
        "colab_type": "code",
        "colab": {}
      },
      "source": [
        "pickle.dump(xgbc, open(\"xgbc-r0-20.pickle.dat\", 'wb'))"
      ],
      "execution_count": 0,
      "outputs": []
    },
    {
      "cell_type": "code",
      "metadata": {
        "colab_type": "code",
        "id": "prz2UBF8Hg3L",
        "colab": {}
      },
      "source": [
        "y_pred_xgbc= xgbc.predict(X_test)"
      ],
      "execution_count": 0,
      "outputs": []
    },
    {
      "cell_type": "code",
      "metadata": {
        "colab_type": "code",
        "id": "tFKQ1bq8Hg3L",
        "outputId": "91638745-6cfd-4d2e-d085-b2483c583ec1",
        "colab": {
          "base_uri": "https://localhost:8080/",
          "height": 51
        }
      },
      "source": [
        "xgbc_score_train = xgbc.score(X_train,y_train)\n",
        "print(\"Train Prediction Score\",xgbc_score_train*100)\n",
        "xgbc_score_test = accuracy_score(y_test,y_pred_xgbc)\n",
        "print(\"Test Prediction Score\",xgbc_score_test*100)"
      ],
      "execution_count": 98,
      "outputs": [
        {
          "output_type": "stream",
          "text": [
            "Train Prediction Score 99.86296182061663\n",
            "Test Prediction Score 98.55233157385139\n"
          ],
          "name": "stdout"
        }
      ]
    },
    {
      "cell_type": "code",
      "metadata": {
        "id": "Z6hKTv8gopF3",
        "colab_type": "code",
        "outputId": "b7882e5f-530d-40a8-da19-02798d6288e3",
        "colab": {
          "base_uri": "https://localhost:8080/",
          "height": 153
        }
      },
      "source": [
        "y_pred_xgbc_test= xgbc.predict(test_X)\n",
        "xgbc_score_test = accuracy_score(test_Y,y_pred_xgbc_test)\n",
        "print(\"Test Prediction Score\",xgbc_score_test*100)\n",
        "y_pred_xgbc_test= xgbc.predict(test_X1)\n",
        "xgbc_score_test = accuracy_score(test_Y1,y_pred_xgbc_test)\n",
        "print(\"Test Prediction Score\",xgbc_score_test*100)\n",
        "y_pred_xgbc_test= xgbc.predict(test_X2)\n",
        "xgbc_score_test = accuracy_score(test_Y2,y_pred_xgbc_test)\n",
        "print(\"Test Prediction Score\",xgbc_score_test*100)\n",
        "y_pred_xgbc_test= xgbc.predict(test_X3)\n",
        "xgbc_score_test = accuracy_score(test_Y3,y_pred_xgbc_test)\n",
        "print(\"Test Prediction Score\",xgbc_score_test*100)\n",
        "y_pred_xgbc_test= xgbc.predict(test_X4)\n",
        "xgbc_score_test = accuracy_score(test_Y4,y_pred_xgbc_test)\n",
        "print(\"Test Prediction Score\",xgbc_score_test*100)\n",
        "y_pred_xgbc_test= xgbc.predict(test_X5)\n",
        "xgbc_score_test = accuracy_score(test_Y5,y_pred_xgbc_test)\n",
        "print(\"Test Prediction Score\",xgbc_score_test*100)\n",
        "y_pred_xgbc_test= xgbc.predict(test_X6)\n",
        "xgbc_score_test = accuracy_score(test_Y6,y_pred_xgbc_test)\n",
        "print(\"Test Prediction Score\",xgbc_score_test*100)\n",
        "y_pred_xgbc_test= xgbc.predict(test_X7)\n",
        "xgbc_score_test = accuracy_score(test_Y7,y_pred_xgbc_test)\n",
        "print(\"Test Prediction Score\",xgbc_score_test*100)"
      ],
      "execution_count": 99,
      "outputs": [
        {
          "output_type": "stream",
          "text": [
            "Test Prediction Score 91.49837133550488\n",
            "Test Prediction Score 87.33616843279421\n",
            "Test Prediction Score 89.51191827468786\n",
            "Test Prediction Score 91.1400651465798\n",
            "Test Prediction Score 87.09042754445706\n",
            "Test Prediction Score 90.05074302283435\n",
            "Test Prediction Score 88.55088914112751\n",
            "Test Prediction Score 90.70213536011582\n"
          ],
          "name": "stdout"
        }
      ]
    },
    {
      "cell_type": "code",
      "metadata": {
        "colab_type": "code",
        "id": "t-zwHWP_fMR_",
        "outputId": "228a53aa-7a16-4252-cfe5-5696524d5bd3",
        "colab": {
          "base_uri": "https://localhost:8080/",
          "height": 295
        }
      },
      "source": [
        "plot_importance(xgbc)\n",
        "plt.show()"
      ],
      "execution_count": 100,
      "outputs": [
        {
          "output_type": "display_data",
          "data": {
            "image/png": "[encoded data removed]",
            "text/plain": [
              "<Figure size 432x288 with 1 Axes>"
            ]
          },
          "metadata": {
            "tags": [],
            "needs_background": "light"
          }
        }
      ]
    },
    {
      "cell_type": "code",
      "metadata": {
        "colab_type": "code",
        "id": "9OVtiUmaHg3M",
        "outputId": "b0b84a6d-d114-4910-8cf7-d93172946d3d",
        "colab": {
          "base_uri": "https://localhost:8080/",
          "height": 295
        }
      },
      "source": [
        "cm = confusion_matrix(y_test, y_pred_xgbc)\n",
        "class_label = [\"Anomalous\", \"Normal\"]\n",
        "df_cm = pd.DataFrame(cm, index=class_label,columns=class_label)\n",
        "sns.heatmap(df_cm, annot=True, fmt='d')\n",
        "plt.title(\"Confusion Matrix\")\n",
        "plt.xlabel(\"Predicted Label\")\n",
        "plt.ylabel(\"True Label\")\n",
        "plt.show()"
      ],
      "execution_count": 101,
      "outputs": [
        {
          "output_type": "display_data",
          "data": {
            "image/png": "[encoded data removed]",
            "text/plain": [
              "<Figure size 432x288 with 2 Axes>"
            ]
          },
          "metadata": {
            "tags": [],
            "needs_background": "light"
          }
        }
      ]
    },
    {
      "cell_type": "code",
      "metadata": {
        "colab_type": "code",
        "id": "gAx5bI8BHg3M",
        "outputId": "083eae1f-d6e2-403c-9733-91e48d2800aa",
        "colab": {
          "base_uri": "https://localhost:8080/",
          "height": 170
        }
      },
      "source": [
        "print(classification_report(y_test,y_pred_xgbc))"
      ],
      "execution_count": 102,
      "outputs": [
        {
          "output_type": "stream",
          "text": [
            "              precision    recall  f1-score   support\n",
            "\n",
            "           0       0.99      0.99      0.99     48195\n",
            "           1       0.97      0.97      0.97     15839\n",
            "\n",
            "    accuracy                           0.99     64034\n",
            "   macro avg       0.98      0.98      0.98     64034\n",
            "weighted avg       0.99      0.99      0.99     64034\n",
            "\n"
          ],
          "name": "stdout"
        }
      ]
    },
    {
      "cell_type": "code",
      "metadata": {
        "colab_type": "code",
        "id": "LqPGLNKQHg3N",
        "outputId": "7c46243b-e9a3-4d3c-ae2e-3a60f167c85f",
        "colab": {
          "base_uri": "https://localhost:8080/",
          "height": 295
        }
      },
      "source": [
        "xgb_roc_auc = roc_auc_score(y_test, y_pred_xgbc)\n",
        "fpr, tpr, thresholds = roc_curve(y_test, xgbc.predict_proba(X_test)[:,1])\n",
        "plt.figure()\n",
        "plt.plot(fpr, tpr, label='XGBoost (area = %0.2f)' % xgb_roc_auc)\n",
        "plt.plot([0, 1], [0, 1],'r--')\n",
        "plt.xlim([0.0, 1.0])\n",
        "plt.ylim([0.0, 1.05])\n",
        "plt.xlabel('False Positive Rate')\n",
        "plt.ylabel('True Positive Rate')\n",
        "plt.title('Receiver operating characteristic')\n",
        "plt.legend(loc=\"lower right\")\n",
        "plt.savefig('XGB_ROC')\n",
        "plt.show()"
      ],
      "execution_count": 103,
      "outputs": [
        {
          "output_type": "display_data",
          "data": {
            "image/png": "[encoded data removed]",
            "text/plain": [
              "<Figure size 432x288 with 1 Axes>"
            ]
          },
          "metadata": {
            "tags": [],
            "needs_background": "light"
          }
        }
      ]
    },
    {
      "cell_type": "code",
      "metadata": {
        "id": "HtrVvMqPEWu-",
        "colab_type": "code",
        "colab": {}
      },
      "source": [
        ""
      ],
      "execution_count": 0,
      "outputs": []
    }
  ]
}