{
  "nbformat": 4,
  "nbformat_minor": 0,
  "metadata": {
    "accelerator": "TPU",
    "colab": {
      "name": "fft-r5.ipynb",
      "provenance": [],
      "collapsed_sections": [],
      "toc_visible": true,
      "include_colab_link": true
    },
    "kernelspec": {
      "display_name": "Python 3",
      "language": "python",
      "name": "python3"
    },
    "language_info": {
      "codemirror_mode": {
        "name": "ipython",
        "version": 3
      },
      "file_extension": ".py",
      "mimetype": "text/x-python",
      "name": "python",
      "nbconvert_exporter": "python",
      "pygments_lexer": "ipython3",
      "version": "3.7.4"
    }
  },
  "cells": [
    {
      "cell_type": "markdown",
      "metadata": {
        "id": "view-in-github",
        "colab_type": "text"
      },
      "source": [
        "<a href=\"https://colab.research.google.com/github/chamikasudusinghe/nocml/blob/master/fft_r5-less-features.ipynb\" target=\"_parent\"><img src=\"https://colab.research.google.com/assets/colab-badge.svg\" alt=\"Open In Colab\"/></a>"
      ]
    },
    {
      "cell_type": "markdown",
      "metadata": {
        "colab_type": "text",
        "id": "sFmit6AlgLJZ"
      },
      "source": [
        "Module Imports for Data Fetiching and Visualization\n",
        "\n"
      ]
    },
    {
      "cell_type": "code",
      "metadata": {
        "colab_type": "code",
        "id": "k-c4z9vpHg1z",
        "outputId": "b2030c52-bbea-4e82-a68b-ef6530c83cca",
        "colab": {
          "base_uri": "https://localhost:8080/",
          "height": 71
        }
      },
      "source": [
        "import time\n",
        "import pandas as pd\n",
        "import numpy as np\n",
        "%matplotlib inline\n",
        "import matplotlib.pyplot as plt\n",
        "import seaborn as sns"
      ],
      "execution_count": 1,
      "outputs": [
        {
          "output_type": "stream",
          "text": [
            "/usr/local/lib/python3.6/dist-packages/statsmodels/tools/_testing.py:19: FutureWarning: pandas.util.testing is deprecated. Use the functions in the public API at pandas.testing instead.\n",
            "  import pandas.util.testing as tm\n"
          ],
          "name": "stderr"
        }
      ]
    },
    {
      "cell_type": "markdown",
      "metadata": {
        "colab_type": "text",
        "id": "wY7RDDLBgdMs"
      },
      "source": [
        "Module Imports for Data Processing"
      ]
    },
    {
      "cell_type": "code",
      "metadata": {
        "colab_type": "code",
        "id": "zhZHRUXxHg13",
        "colab": {}
      },
      "source": [
        "from sklearn import preprocessing\n",
        "from sklearn.feature_selection import SelectKBest\n",
        "from sklearn.feature_selection import chi2\n",
        "import pickle"
      ],
      "execution_count": 0,
      "outputs": []
    },
    {
      "cell_type": "code",
      "metadata": {
        "id": "Vj95aRiF-It6",
        "colab_type": "code",
        "colab": {}
      },
      "source": [
        ""
      ],
      "execution_count": 0,
      "outputs": []
    },
    {
      "cell_type": "markdown",
      "metadata": {
        "colab_type": "text",
        "id": "GEH4mU3Tghd8"
      },
      "source": [
        "Importing Dataset from GitHub"
      ]
    },
    {
      "cell_type": "markdown",
      "metadata": {
        "id": "q9-4lGZ6NMSt",
        "colab_type": "text"
      },
      "source": [
        "Train Data"
      ]
    },
    {
      "cell_type": "code",
      "metadata": {
        "id": "NblOX7-5PrjB",
        "colab_type": "code",
        "colab": {}
      },
      "source": [
        "df1 = pd.read_csv('https://raw.githubusercontent.com/chamikasudusinghe/nocml/master/dos%20results%20ver%204/router-dataset/r5/2-fft-malicious-n-0-15-m-1-r5.csv?token=AKVFSOBWKYXIRA76WSCXAKC63IPFO')\n",
        "df2 = pd.read_csv('https://raw.githubusercontent.com/chamikasudusinghe/nocml/master/dos%20results%20ver%204/router-dataset/r5/2-fft-malicious-n-0-15-m-11-r5.csv?token=AKVFSOG4BTBXRS6QBNRTBWS63IPFS')\n",
        "\n",
        "df3 = pd.read_csv('https://raw.githubusercontent.com/chamikasudusinghe/nocml/master/dos%20results%20ver%204/router-dataset/r5/2-fft-malicious-n-0-4-m-1-r5.csv?token=AKVFSOAD6SCZNGAWGNY5B5K63IPFY')\n",
        "df4 = pd.read_csv('https://raw.githubusercontent.com/chamikasudusinghe/nocml/master/dos%20results%20ver%204/router-dataset/r5/2-fft-malicious-n-0-4-m-11-r5.csv?token=AKVFSOAUSUTTS4YZACOHXWK63IPF2')\n",
        "\n",
        "df5 = pd.read_csv('https://raw.githubusercontent.com/chamikasudusinghe/nocml/master/dos%20results%20ver%204/router-dataset/r5/2-fft-malicious-n-0-6-m-1-r5.csv?token=AKVFSOBIX4FWQHN3PNSROYC63IPF6')\n",
        "df6 = pd.read_csv('https://raw.githubusercontent.com/chamikasudusinghe/nocml/master/dos%20results%20ver%204/router-dataset/r5/2-fft-malicious-n-0-6-m-11-r5.csv?token=AKVFSOEOPQYYDLWWZ44JES263IPGC')\n",
        "\n",
        "df7 = pd.read_csv('https://raw.githubusercontent.com/chamikasudusinghe/nocml/master/dos%20results%20ver%204/router-dataset/r5/2-fft-malicious-n-0-9-m-1-r5.csv?token=AKVFSOEDD5O46YUWQMLOIK263IPGG')\n",
        "df8 = pd.read_csv('https://raw.githubusercontent.com/chamikasudusinghe/nocml/master/dos%20results%20ver%204/router-dataset/r5/2-fft-malicious-n-0-9-m-11-r5.csv?token=AKVFSOFT6MXUVZQ7ETX4AJS63IPGK')\n",
        "\n",
        "df9 = pd.read_csv('https://raw.githubusercontent.com/chamikasudusinghe/nocml/master/dos%20results%20ver%204/router-dataset/r5/2-fft-normal-n-0-15-r5.csv?token=AKVFSOCGSVWLPJVTTUYPXVK63IPGU')\n",
        "df10 = pd.read_csv('https://raw.githubusercontent.com/chamikasudusinghe/nocml/master/dos%20results%20ver%204/router-dataset/r5/2-fft-normal-n-0-4-r5.csv?token=AKVFSOFKGNJGN7IA7QE3RDS63IPGY')\n",
        "df11 = pd.read_csv('https://raw.githubusercontent.com/chamikasudusinghe/nocml/master/dos%20results%20ver%204/router-dataset/r5/2-fft-normal-n-0-6-r5.csv?token=AKVFSOFFPOKXYYSVZXBWPEK63IPHA')\n",
        "df12 = pd.read_csv('https://raw.githubusercontent.com/chamikasudusinghe/nocml/master/dos%20results%20ver%204/router-dataset/r5/2-fft-normal-n-0-9-r5.csv?token=AKVFSODQCBEUVCHTJMWVSYC63IPHE')"
      ],
      "execution_count": 0,
      "outputs": []
    },
    {
      "cell_type": "code",
      "metadata": {
        "id": "YtODRV2NPem1",
        "colab_type": "code",
        "outputId": "b4f97fa7-f277-4717-888e-3f16d46806ca",
        "colab": {
          "base_uri": "https://localhost:8080/",
          "height": 221
        }
      },
      "source": [
        "print(df1.shape)\n",
        "print(df2.shape)\n",
        "print(df3.shape)\n",
        "print(df4.shape)\n",
        "print(df5.shape)\n",
        "print(df6.shape)\n",
        "print(df7.shape)\n",
        "print(df8.shape)\n",
        "print(df9.shape)\n",
        "print(df10.shape)\n",
        "print(df11.shape)\n",
        "print(df12.shape)"
      ],
      "execution_count": 4,
      "outputs": [
        {
          "output_type": "stream",
          "text": [
            "(73806, 26)\n",
            "(52701, 26)\n",
            "(90606, 26)\n",
            "(69643, 26)\n",
            "(83817, 26)\n",
            "(62955, 26)\n",
            "(82090, 26)\n",
            "(60712, 26)\n",
            "(34357, 26)\n",
            "(51024, 26)\n",
            "(44745, 26)\n",
            "(42660, 26)\n"
          ],
          "name": "stdout"
        }
      ]
    },
    {
      "cell_type": "code",
      "metadata": {
        "id": "9L0CwK80NgDG",
        "colab_type": "code",
        "colab": {}
      },
      "source": [
        "df = df1.append(df2, ignore_index=True,sort=False)\n",
        "df = df.append(df3, ignore_index=True,sort=False)\n",
        "df = df.append(df4, ignore_index=True,sort=False)\n",
        "df = df.append(df5, ignore_index=True,sort=False)\n",
        "df = df.append(df6, ignore_index=True,sort=False)\n",
        "df = df.append(df7, ignore_index=True,sort=False)\n",
        "df = df.append(df8, ignore_index=True,sort=False)\n",
        "df = df.append(df9, ignore_index=True,sort=False)\n",
        "df = df.append(df10, ignore_index=True,sort=False)\n",
        "df = df.append(df11, ignore_index=True,sort=False)\n",
        "df = df.append(df12, ignore_index=True,sort=False)\n",
        "\n",
        "df = df.sort_values('timestamp')\n",
        "df.to_csv('fft-r4-train.csv',index=False)"
      ],
      "execution_count": 0,
      "outputs": []
    },
    {
      "cell_type": "code",
      "metadata": {
        "id": "tovtj_19OeCa",
        "colab_type": "code",
        "outputId": "587c4a9c-edfc-4d2d-dbb9-23879eae9bd8",
        "colab": {
          "base_uri": "https://localhost:8080/",
          "height": 439
        }
      },
      "source": [
        "df = pd.read_csv('fft-r4-train.csv')\n",
        "df"
      ],
      "execution_count": 6,
      "outputs": [
        {
          "output_type": "execute_result",
          "data": {
            "text/html": [
              "<div>\n",
              "<style scoped>\n",
              "    .dataframe tbody tr th:only-of-type {\n",
              "        vertical-align: middle;\n",
              "    }\n",
              "\n",
              "    .dataframe tbody tr th {\n",
              "        vertical-align: top;\n",
              "    }\n",
              "\n",
              "    .dataframe thead th {\n",
              "        text-align: right;\n",
              "    }\n",
              "</style>\n",
              "<table border=\"1\" class=\"dataframe\">\n",
              "  <thead>\n",
              "    <tr style=\"text-align: right;\">\n",
              "      <th></th>\n",
              "      <th>timestamp</th>\n",
              "      <th>outport</th>\n",
              "      <th>inport</th>\n",
              "      <th>cache_coherence_type</th>\n",
              "      <th>flit_id</th>\n",
              "      <th>flit_type</th>\n",
              "      <th>vnet</th>\n",
              "      <th>vc</th>\n",
              "      <th>src_ni</th>\n",
              "      <th>src_router</th>\n",
              "      <th>dst_ni</th>\n",
              "      <th>dst_router</th>\n",
              "      <th>traversal_id</th>\n",
              "      <th>hop_count</th>\n",
              "      <th>current_hop</th>\n",
              "      <th>hop_percentage</th>\n",
              "      <th>enqueue_time</th>\n",
              "      <th>packet_count_decr</th>\n",
              "      <th>packet_count_incr</th>\n",
              "      <th>max_packet_count</th>\n",
              "      <th>packet_count_index</th>\n",
              "      <th>port_index</th>\n",
              "      <th>traversal_index</th>\n",
              "      <th>cache_coherence_vnet_index</th>\n",
              "      <th>vnet_vc_cc_index</th>\n",
              "      <th>target</th>\n",
              "    </tr>\n",
              "  </thead>\n",
              "  <tbody>\n",
              "    <tr>\n",
              "      <th>0</th>\n",
              "      <td>11</td>\n",
              "      <td>2</td>\n",
              "      <td>4</td>\n",
              "      <td>1</td>\n",
              "      <td>1</td>\n",
              "      <td>4</td>\n",
              "      <td>3</td>\n",
              "      <td>9</td>\n",
              "      <td>4</td>\n",
              "      <td>4</td>\n",
              "      <td>23</td>\n",
              "      <td>7</td>\n",
              "      <td>2</td>\n",
              "      <td>3</td>\n",
              "      <td>1</td>\n",
              "      <td>0.333333</td>\n",
              "      <td>8</td>\n",
              "      <td>69</td>\n",
              "      <td>1</td>\n",
              "      <td>69</td>\n",
              "      <td>69</td>\n",
              "      <td>8</td>\n",
              "      <td>8</td>\n",
              "      <td>3</td>\n",
              "      <td>27</td>\n",
              "      <td>1</td>\n",
              "    </tr>\n",
              "    <tr>\n",
              "      <th>1</th>\n",
              "      <td>11</td>\n",
              "      <td>2</td>\n",
              "      <td>4</td>\n",
              "      <td>1</td>\n",
              "      <td>1</td>\n",
              "      <td>4</td>\n",
              "      <td>3</td>\n",
              "      <td>9</td>\n",
              "      <td>4</td>\n",
              "      <td>4</td>\n",
              "      <td>23</td>\n",
              "      <td>7</td>\n",
              "      <td>2</td>\n",
              "      <td>3</td>\n",
              "      <td>1</td>\n",
              "      <td>0.333333</td>\n",
              "      <td>8</td>\n",
              "      <td>86</td>\n",
              "      <td>1</td>\n",
              "      <td>86</td>\n",
              "      <td>86</td>\n",
              "      <td>8</td>\n",
              "      <td>8</td>\n",
              "      <td>3</td>\n",
              "      <td>27</td>\n",
              "      <td>0</td>\n",
              "    </tr>\n",
              "    <tr>\n",
              "      <th>2</th>\n",
              "      <td>11</td>\n",
              "      <td>2</td>\n",
              "      <td>4</td>\n",
              "      <td>1</td>\n",
              "      <td>1</td>\n",
              "      <td>4</td>\n",
              "      <td>3</td>\n",
              "      <td>9</td>\n",
              "      <td>4</td>\n",
              "      <td>4</td>\n",
              "      <td>23</td>\n",
              "      <td>7</td>\n",
              "      <td>3</td>\n",
              "      <td>3</td>\n",
              "      <td>1</td>\n",
              "      <td>0.333333</td>\n",
              "      <td>8</td>\n",
              "      <td>124</td>\n",
              "      <td>1</td>\n",
              "      <td>124</td>\n",
              "      <td>124</td>\n",
              "      <td>8</td>\n",
              "      <td>12</td>\n",
              "      <td>3</td>\n",
              "      <td>27</td>\n",
              "      <td>0</td>\n",
              "    </tr>\n",
              "    <tr>\n",
              "      <th>3</th>\n",
              "      <td>66</td>\n",
              "      <td>3</td>\n",
              "      <td>2</td>\n",
              "      <td>4</td>\n",
              "      <td>1</td>\n",
              "      <td>1</td>\n",
              "      <td>5</td>\n",
              "      <td>17</td>\n",
              "      <td>23</td>\n",
              "      <td>7</td>\n",
              "      <td>1</td>\n",
              "      <td>1</td>\n",
              "      <td>2</td>\n",
              "      <td>3</td>\n",
              "      <td>2</td>\n",
              "      <td>0.666667</td>\n",
              "      <td>12</td>\n",
              "      <td>128</td>\n",
              "      <td>1</td>\n",
              "      <td>128</td>\n",
              "      <td>128</td>\n",
              "      <td>6</td>\n",
              "      <td>8</td>\n",
              "      <td>20</td>\n",
              "      <td>340</td>\n",
              "      <td>0</td>\n",
              "    </tr>\n",
              "    <tr>\n",
              "      <th>4</th>\n",
              "      <td>66</td>\n",
              "      <td>1</td>\n",
              "      <td>2</td>\n",
              "      <td>4</td>\n",
              "      <td>1</td>\n",
              "      <td>1</td>\n",
              "      <td>5</td>\n",
              "      <td>17</td>\n",
              "      <td>23</td>\n",
              "      <td>7</td>\n",
              "      <td>9</td>\n",
              "      <td>9</td>\n",
              "      <td>2</td>\n",
              "      <td>3</td>\n",
              "      <td>2</td>\n",
              "      <td>0.666667</td>\n",
              "      <td>12</td>\n",
              "      <td>72</td>\n",
              "      <td>1</td>\n",
              "      <td>72</td>\n",
              "      <td>72</td>\n",
              "      <td>2</td>\n",
              "      <td>8</td>\n",
              "      <td>20</td>\n",
              "      <td>340</td>\n",
              "      <td>1</td>\n",
              "    </tr>\n",
              "    <tr>\n",
              "      <th>...</th>\n",
              "      <td>...</td>\n",
              "      <td>...</td>\n",
              "      <td>...</td>\n",
              "      <td>...</td>\n",
              "      <td>...</td>\n",
              "      <td>...</td>\n",
              "      <td>...</td>\n",
              "      <td>...</td>\n",
              "      <td>...</td>\n",
              "      <td>...</td>\n",
              "      <td>...</td>\n",
              "      <td>...</td>\n",
              "      <td>...</td>\n",
              "      <td>...</td>\n",
              "      <td>...</td>\n",
              "      <td>...</td>\n",
              "      <td>...</td>\n",
              "      <td>...</td>\n",
              "      <td>...</td>\n",
              "      <td>...</td>\n",
              "      <td>...</td>\n",
              "      <td>...</td>\n",
              "      <td>...</td>\n",
              "      <td>...</td>\n",
              "      <td>...</td>\n",
              "      <td>...</td>\n",
              "    </tr>\n",
              "    <tr>\n",
              "      <th>749111</th>\n",
              "      <td>3276597</td>\n",
              "      <td>2</td>\n",
              "      <td>4</td>\n",
              "      <td>4</td>\n",
              "      <td>2</td>\n",
              "      <td>2</td>\n",
              "      <td>5</td>\n",
              "      <td>17</td>\n",
              "      <td>20</td>\n",
              "      <td>4</td>\n",
              "      <td>15</td>\n",
              "      <td>15</td>\n",
              "      <td>30092</td>\n",
              "      <td>5</td>\n",
              "      <td>1</td>\n",
              "      <td>0.200000</td>\n",
              "      <td>9</td>\n",
              "      <td>5</td>\n",
              "      <td>14</td>\n",
              "      <td>18</td>\n",
              "      <td>70</td>\n",
              "      <td>8</td>\n",
              "      <td>481472</td>\n",
              "      <td>20</td>\n",
              "      <td>340</td>\n",
              "      <td>0</td>\n",
              "    </tr>\n",
              "    <tr>\n",
              "      <th>749112</th>\n",
              "      <td>3276598</td>\n",
              "      <td>2</td>\n",
              "      <td>4</td>\n",
              "      <td>4</td>\n",
              "      <td>3</td>\n",
              "      <td>2</td>\n",
              "      <td>5</td>\n",
              "      <td>17</td>\n",
              "      <td>20</td>\n",
              "      <td>4</td>\n",
              "      <td>15</td>\n",
              "      <td>15</td>\n",
              "      <td>30092</td>\n",
              "      <td>5</td>\n",
              "      <td>1</td>\n",
              "      <td>0.200000</td>\n",
              "      <td>10</td>\n",
              "      <td>4</td>\n",
              "      <td>15</td>\n",
              "      <td>18</td>\n",
              "      <td>60</td>\n",
              "      <td>8</td>\n",
              "      <td>722208</td>\n",
              "      <td>20</td>\n",
              "      <td>340</td>\n",
              "      <td>0</td>\n",
              "    </tr>\n",
              "    <tr>\n",
              "      <th>749113</th>\n",
              "      <td>3276599</td>\n",
              "      <td>2</td>\n",
              "      <td>4</td>\n",
              "      <td>4</td>\n",
              "      <td>4</td>\n",
              "      <td>2</td>\n",
              "      <td>5</td>\n",
              "      <td>17</td>\n",
              "      <td>20</td>\n",
              "      <td>4</td>\n",
              "      <td>15</td>\n",
              "      <td>15</td>\n",
              "      <td>30092</td>\n",
              "      <td>5</td>\n",
              "      <td>1</td>\n",
              "      <td>0.200000</td>\n",
              "      <td>11</td>\n",
              "      <td>3</td>\n",
              "      <td>16</td>\n",
              "      <td>18</td>\n",
              "      <td>48</td>\n",
              "      <td>8</td>\n",
              "      <td>962944</td>\n",
              "      <td>20</td>\n",
              "      <td>340</td>\n",
              "      <td>0</td>\n",
              "    </tr>\n",
              "    <tr>\n",
              "      <th>749114</th>\n",
              "      <td>3276600</td>\n",
              "      <td>2</td>\n",
              "      <td>4</td>\n",
              "      <td>3</td>\n",
              "      <td>1</td>\n",
              "      <td>4</td>\n",
              "      <td>3</td>\n",
              "      <td>9</td>\n",
              "      <td>20</td>\n",
              "      <td>4</td>\n",
              "      <td>18</td>\n",
              "      <td>2</td>\n",
              "      <td>30092</td>\n",
              "      <td>3</td>\n",
              "      <td>1</td>\n",
              "      <td>0.333333</td>\n",
              "      <td>12</td>\n",
              "      <td>2</td>\n",
              "      <td>17</td>\n",
              "      <td>18</td>\n",
              "      <td>34</td>\n",
              "      <td>8</td>\n",
              "      <td>361104</td>\n",
              "      <td>9</td>\n",
              "      <td>81</td>\n",
              "      <td>0</td>\n",
              "    </tr>\n",
              "    <tr>\n",
              "      <th>749115</th>\n",
              "      <td>3276603</td>\n",
              "      <td>2</td>\n",
              "      <td>4</td>\n",
              "      <td>4</td>\n",
              "      <td>5</td>\n",
              "      <td>3</td>\n",
              "      <td>5</td>\n",
              "      <td>17</td>\n",
              "      <td>20</td>\n",
              "      <td>4</td>\n",
              "      <td>15</td>\n",
              "      <td>15</td>\n",
              "      <td>30092</td>\n",
              "      <td>5</td>\n",
              "      <td>1</td>\n",
              "      <td>0.200000</td>\n",
              "      <td>15</td>\n",
              "      <td>1</td>\n",
              "      <td>18</td>\n",
              "      <td>18</td>\n",
              "      <td>18</td>\n",
              "      <td>8</td>\n",
              "      <td>1805520</td>\n",
              "      <td>20</td>\n",
              "      <td>340</td>\n",
              "      <td>0</td>\n",
              "    </tr>\n",
              "  </tbody>\n",
              "</table>\n",
              "<p>749116 rows × 26 columns</p>\n",
              "</div>"
            ],
            "text/plain": [
              "        timestamp  outport  ...  vnet_vc_cc_index  target\n",
              "0              11        2  ...                27       1\n",
              "1              11        2  ...                27       0\n",
              "2              11        2  ...                27       0\n",
              "3              66        3  ...               340       0\n",
              "4              66        1  ...               340       1\n",
              "...           ...      ...  ...               ...     ...\n",
              "749111    3276597        2  ...               340       0\n",
              "749112    3276598        2  ...               340       0\n",
              "749113    3276599        2  ...               340       0\n",
              "749114    3276600        2  ...                81       0\n",
              "749115    3276603        2  ...               340       0\n",
              "\n",
              "[749116 rows x 26 columns]"
            ]
          },
          "metadata": {
            "tags": []
          },
          "execution_count": 6
        }
      ]
    },
    {
      "cell_type": "code",
      "metadata": {
        "id": "DEIwin3VOmdC",
        "colab_type": "code",
        "outputId": "a87b0d05-a9f9-4c69-b9ee-61ac968f32ea",
        "colab": {
          "base_uri": "https://localhost:8080/",
          "height": 34
        }
      },
      "source": [
        "df.shape"
      ],
      "execution_count": 7,
      "outputs": [
        {
          "output_type": "execute_result",
          "data": {
            "text/plain": [
              "(749116, 26)"
            ]
          },
          "metadata": {
            "tags": []
          },
          "execution_count": 7
        }
      ]
    },
    {
      "cell_type": "markdown",
      "metadata": {
        "id": "kB28tdcoNPvn",
        "colab_type": "text"
      },
      "source": [
        "Test Data"
      ]
    },
    {
      "cell_type": "code",
      "metadata": {
        "id": "2NNmwmZGNLly",
        "colab_type": "code",
        "colab": {}
      },
      "source": [
        "df13 = pd.read_csv('https://raw.githubusercontent.com/chamikasudusinghe/nocml/master/dos%20results%20ver%204/router-dataset/r5/2-fft-malicious-n-0-15-m-12-r5.csv?token=AKVFSOFGZZNKP3BWO7VOX4263IPSK')\n",
        "df14 = pd.read_csv('https://raw.githubusercontent.com/chamikasudusinghe/nocml/master/dos%20results%20ver%204/router-dataset/r5/2-fft-malicious-n-0-15-m-7-r5.csv?token=AKVFSOF5WUCWSF74MB4QTN263IPSO')\n",
        "df15 = pd.read_csv('https://raw.githubusercontent.com/chamikasudusinghe/nocml/master/dos%20results%20ver%204/router-dataset/r5/2-fft-malicious-n-0-4-m-12-r5.csv?token=AKVFSOESE7NQZBMJMGNJJKS63IPSU')\n",
        "df16 = pd.read_csv('https://raw.githubusercontent.com/chamikasudusinghe/nocml/master/dos%20results%20ver%204/router-dataset/r5/2-fft-malicious-n-0-4-m-7-r5.csv?token=AKVFSOGD7BYYDJM2ZRYUJMK63IPSY')\n",
        "df17 = pd.read_csv('https://raw.githubusercontent.com/chamikasudusinghe/nocml/master/dos%20results%20ver%204/router-dataset/r5/2-fft-malicious-n-0-6-m-12-r5.csv?token=AKVFSOEPJ4KVGPURPAON72K63IPS4')\n",
        "df18 = pd.read_csv('https://raw.githubusercontent.com/chamikasudusinghe/nocml/master/dos%20results%20ver%204/router-dataset/r5/2-fft-malicious-n-0-6-m-7-r5.csv?token=AKVFSODC2EG6QZKGLRW2JSK63IPTK')\n",
        "df19 = pd.read_csv('https://raw.githubusercontent.com/chamikasudusinghe/nocml/master/dos%20results%20ver%204/router-dataset/r5/2-fft-malicious-n-0-9-m-12-r5.csv?token=AKVFSOGKFGRCG3JTP3NEO2S63IPTE')\n",
        "df20 = pd.read_csv('https://raw.githubusercontent.com/chamikasudusinghe/nocml/master/dos%20results%20ver%204/router-dataset/r5/2-fft-malicious-n-0-9-m-7-r5.csv?token=AKVFSOA2LSYNW3KZKVGJEMS63IPTO')"
      ],
      "execution_count": 0,
      "outputs": []
    },
    {
      "cell_type": "code",
      "metadata": {
        "id": "vI7r69cXm0wU",
        "colab_type": "code",
        "outputId": "b71de193-9579-488b-9313-156a635d4780",
        "colab": {
          "base_uri": "https://localhost:8080/",
          "height": 153
        }
      },
      "source": [
        "print(df13.shape)\n",
        "print(df14.shape)\n",
        "print(df15.shape)\n",
        "print(df16.shape)\n",
        "print(df17.shape)\n",
        "print(df18.shape)\n",
        "print(df19.shape)\n",
        "print(df20.shape)"
      ],
      "execution_count": 9,
      "outputs": [
        {
          "output_type": "stream",
          "text": [
            "(50255, 26)\n",
            "(62551, 26)\n",
            "(67123, 26)\n",
            "(79857, 26)\n",
            "(60189, 26)\n",
            "(73065, 26)\n",
            "(58244, 26)\n",
            "(70972, 26)\n"
          ],
          "name": "stdout"
        }
      ]
    },
    {
      "cell_type": "code",
      "metadata": {
        "id": "lyFCjch-Qr7R",
        "colab_type": "code",
        "outputId": "c88807ad-a256-44d2-ff39-925724a9e6a3",
        "colab": {
          "base_uri": "https://localhost:8080/",
          "height": 439
        }
      },
      "source": [
        "df5"
      ],
      "execution_count": 10,
      "outputs": [
        {
          "output_type": "execute_result",
          "data": {
            "text/html": [
              "<div>\n",
              "<style scoped>\n",
              "    .dataframe tbody tr th:only-of-type {\n",
              "        vertical-align: middle;\n",
              "    }\n",
              "\n",
              "    .dataframe tbody tr th {\n",
              "        vertical-align: top;\n",
              "    }\n",
              "\n",
              "    .dataframe thead th {\n",
              "        text-align: right;\n",
              "    }\n",
              "</style>\n",
              "<table border=\"1\" class=\"dataframe\">\n",
              "  <thead>\n",
              "    <tr style=\"text-align: right;\">\n",
              "      <th></th>\n",
              "      <th>timestamp</th>\n",
              "      <th>outport</th>\n",
              "      <th>inport</th>\n",
              "      <th>cache_coherence_type</th>\n",
              "      <th>flit_id</th>\n",
              "      <th>flit_type</th>\n",
              "      <th>vnet</th>\n",
              "      <th>vc</th>\n",
              "      <th>src_ni</th>\n",
              "      <th>src_router</th>\n",
              "      <th>dst_ni</th>\n",
              "      <th>dst_router</th>\n",
              "      <th>traversal_id</th>\n",
              "      <th>hop_count</th>\n",
              "      <th>current_hop</th>\n",
              "      <th>hop_percentage</th>\n",
              "      <th>enqueue_time</th>\n",
              "      <th>packet_count_decr</th>\n",
              "      <th>packet_count_incr</th>\n",
              "      <th>max_packet_count</th>\n",
              "      <th>packet_count_index</th>\n",
              "      <th>port_index</th>\n",
              "      <th>traversal_index</th>\n",
              "      <th>cache_coherence_vnet_index</th>\n",
              "      <th>vnet_vc_cc_index</th>\n",
              "      <th>target</th>\n",
              "    </tr>\n",
              "  </thead>\n",
              "  <tbody>\n",
              "    <tr>\n",
              "      <th>0</th>\n",
              "      <td>80</td>\n",
              "      <td>3</td>\n",
              "      <td>2</td>\n",
              "      <td>4</td>\n",
              "      <td>1</td>\n",
              "      <td>1</td>\n",
              "      <td>5</td>\n",
              "      <td>17</td>\n",
              "      <td>23</td>\n",
              "      <td>7</td>\n",
              "      <td>1</td>\n",
              "      <td>1</td>\n",
              "      <td>2</td>\n",
              "      <td>3</td>\n",
              "      <td>2</td>\n",
              "      <td>0.666667</td>\n",
              "      <td>12</td>\n",
              "      <td>105</td>\n",
              "      <td>1</td>\n",
              "      <td>105</td>\n",
              "      <td>105</td>\n",
              "      <td>6</td>\n",
              "      <td>8</td>\n",
              "      <td>20</td>\n",
              "      <td>340</td>\n",
              "      <td>0</td>\n",
              "    </tr>\n",
              "    <tr>\n",
              "      <th>1</th>\n",
              "      <td>81</td>\n",
              "      <td>4</td>\n",
              "      <td>2</td>\n",
              "      <td>1</td>\n",
              "      <td>1</td>\n",
              "      <td>4</td>\n",
              "      <td>3</td>\n",
              "      <td>9</td>\n",
              "      <td>6</td>\n",
              "      <td>6</td>\n",
              "      <td>24</td>\n",
              "      <td>8</td>\n",
              "      <td>4</td>\n",
              "      <td>3</td>\n",
              "      <td>1</td>\n",
              "      <td>0.333333</td>\n",
              "      <td>9</td>\n",
              "      <td>104</td>\n",
              "      <td>2</td>\n",
              "      <td>105</td>\n",
              "      <td>208</td>\n",
              "      <td>8</td>\n",
              "      <td>16</td>\n",
              "      <td>3</td>\n",
              "      <td>27</td>\n",
              "      <td>0</td>\n",
              "    </tr>\n",
              "    <tr>\n",
              "      <th>2</th>\n",
              "      <td>82</td>\n",
              "      <td>3</td>\n",
              "      <td>2</td>\n",
              "      <td>4</td>\n",
              "      <td>2</td>\n",
              "      <td>2</td>\n",
              "      <td>5</td>\n",
              "      <td>17</td>\n",
              "      <td>23</td>\n",
              "      <td>7</td>\n",
              "      <td>1</td>\n",
              "      <td>1</td>\n",
              "      <td>2</td>\n",
              "      <td>3</td>\n",
              "      <td>2</td>\n",
              "      <td>0.666667</td>\n",
              "      <td>14</td>\n",
              "      <td>103</td>\n",
              "      <td>3</td>\n",
              "      <td>105</td>\n",
              "      <td>309</td>\n",
              "      <td>6</td>\n",
              "      <td>32</td>\n",
              "      <td>20</td>\n",
              "      <td>340</td>\n",
              "      <td>0</td>\n",
              "    </tr>\n",
              "    <tr>\n",
              "      <th>3</th>\n",
              "      <td>83</td>\n",
              "      <td>3</td>\n",
              "      <td>2</td>\n",
              "      <td>4</td>\n",
              "      <td>3</td>\n",
              "      <td>2</td>\n",
              "      <td>5</td>\n",
              "      <td>17</td>\n",
              "      <td>23</td>\n",
              "      <td>7</td>\n",
              "      <td>1</td>\n",
              "      <td>1</td>\n",
              "      <td>2</td>\n",
              "      <td>3</td>\n",
              "      <td>2</td>\n",
              "      <td>0.666667</td>\n",
              "      <td>15</td>\n",
              "      <td>102</td>\n",
              "      <td>4</td>\n",
              "      <td>105</td>\n",
              "      <td>408</td>\n",
              "      <td>6</td>\n",
              "      <td>48</td>\n",
              "      <td>20</td>\n",
              "      <td>340</td>\n",
              "      <td>0</td>\n",
              "    </tr>\n",
              "    <tr>\n",
              "      <th>4</th>\n",
              "      <td>84</td>\n",
              "      <td>3</td>\n",
              "      <td>2</td>\n",
              "      <td>4</td>\n",
              "      <td>4</td>\n",
              "      <td>2</td>\n",
              "      <td>5</td>\n",
              "      <td>17</td>\n",
              "      <td>23</td>\n",
              "      <td>7</td>\n",
              "      <td>1</td>\n",
              "      <td>1</td>\n",
              "      <td>2</td>\n",
              "      <td>3</td>\n",
              "      <td>2</td>\n",
              "      <td>0.666667</td>\n",
              "      <td>16</td>\n",
              "      <td>101</td>\n",
              "      <td>5</td>\n",
              "      <td>105</td>\n",
              "      <td>505</td>\n",
              "      <td>6</td>\n",
              "      <td>64</td>\n",
              "      <td>20</td>\n",
              "      <td>340</td>\n",
              "      <td>0</td>\n",
              "    </tr>\n",
              "    <tr>\n",
              "      <th>...</th>\n",
              "      <td>...</td>\n",
              "      <td>...</td>\n",
              "      <td>...</td>\n",
              "      <td>...</td>\n",
              "      <td>...</td>\n",
              "      <td>...</td>\n",
              "      <td>...</td>\n",
              "      <td>...</td>\n",
              "      <td>...</td>\n",
              "      <td>...</td>\n",
              "      <td>...</td>\n",
              "      <td>...</td>\n",
              "      <td>...</td>\n",
              "      <td>...</td>\n",
              "      <td>...</td>\n",
              "      <td>...</td>\n",
              "      <td>...</td>\n",
              "      <td>...</td>\n",
              "      <td>...</td>\n",
              "      <td>...</td>\n",
              "      <td>...</td>\n",
              "      <td>...</td>\n",
              "      <td>...</td>\n",
              "      <td>...</td>\n",
              "      <td>...</td>\n",
              "      <td>...</td>\n",
              "    </tr>\n",
              "    <tr>\n",
              "      <th>83812</th>\n",
              "      <td>3266199</td>\n",
              "      <td>4</td>\n",
              "      <td>2</td>\n",
              "      <td>4</td>\n",
              "      <td>1</td>\n",
              "      <td>1</td>\n",
              "      <td>5</td>\n",
              "      <td>17</td>\n",
              "      <td>23</td>\n",
              "      <td>7</td>\n",
              "      <td>0</td>\n",
              "      <td>0</td>\n",
              "      <td>30088</td>\n",
              "      <td>4</td>\n",
              "      <td>2</td>\n",
              "      <td>0.500000</td>\n",
              "      <td>13</td>\n",
              "      <td>5</td>\n",
              "      <td>3</td>\n",
              "      <td>7</td>\n",
              "      <td>15</td>\n",
              "      <td>8</td>\n",
              "      <td>120352</td>\n",
              "      <td>20</td>\n",
              "      <td>340</td>\n",
              "      <td>0</td>\n",
              "    </tr>\n",
              "    <tr>\n",
              "      <th>83813</th>\n",
              "      <td>3266200</td>\n",
              "      <td>4</td>\n",
              "      <td>2</td>\n",
              "      <td>4</td>\n",
              "      <td>2</td>\n",
              "      <td>2</td>\n",
              "      <td>5</td>\n",
              "      <td>17</td>\n",
              "      <td>23</td>\n",
              "      <td>7</td>\n",
              "      <td>0</td>\n",
              "      <td>0</td>\n",
              "      <td>30088</td>\n",
              "      <td>4</td>\n",
              "      <td>2</td>\n",
              "      <td>0.500000</td>\n",
              "      <td>14</td>\n",
              "      <td>4</td>\n",
              "      <td>4</td>\n",
              "      <td>7</td>\n",
              "      <td>16</td>\n",
              "      <td>8</td>\n",
              "      <td>481408</td>\n",
              "      <td>20</td>\n",
              "      <td>340</td>\n",
              "      <td>0</td>\n",
              "    </tr>\n",
              "    <tr>\n",
              "      <th>83814</th>\n",
              "      <td>3266201</td>\n",
              "      <td>4</td>\n",
              "      <td>2</td>\n",
              "      <td>4</td>\n",
              "      <td>3</td>\n",
              "      <td>2</td>\n",
              "      <td>5</td>\n",
              "      <td>17</td>\n",
              "      <td>23</td>\n",
              "      <td>7</td>\n",
              "      <td>0</td>\n",
              "      <td>0</td>\n",
              "      <td>30088</td>\n",
              "      <td>4</td>\n",
              "      <td>2</td>\n",
              "      <td>0.500000</td>\n",
              "      <td>15</td>\n",
              "      <td>3</td>\n",
              "      <td>5</td>\n",
              "      <td>7</td>\n",
              "      <td>15</td>\n",
              "      <td>8</td>\n",
              "      <td>722112</td>\n",
              "      <td>20</td>\n",
              "      <td>340</td>\n",
              "      <td>0</td>\n",
              "    </tr>\n",
              "    <tr>\n",
              "      <th>83815</th>\n",
              "      <td>3266202</td>\n",
              "      <td>4</td>\n",
              "      <td>2</td>\n",
              "      <td>4</td>\n",
              "      <td>4</td>\n",
              "      <td>2</td>\n",
              "      <td>5</td>\n",
              "      <td>17</td>\n",
              "      <td>23</td>\n",
              "      <td>7</td>\n",
              "      <td>0</td>\n",
              "      <td>0</td>\n",
              "      <td>30088</td>\n",
              "      <td>4</td>\n",
              "      <td>2</td>\n",
              "      <td>0.500000</td>\n",
              "      <td>16</td>\n",
              "      <td>2</td>\n",
              "      <td>6</td>\n",
              "      <td>7</td>\n",
              "      <td>12</td>\n",
              "      <td>8</td>\n",
              "      <td>962816</td>\n",
              "      <td>20</td>\n",
              "      <td>340</td>\n",
              "      <td>0</td>\n",
              "    </tr>\n",
              "    <tr>\n",
              "      <th>83816</th>\n",
              "      <td>3266206</td>\n",
              "      <td>4</td>\n",
              "      <td>2</td>\n",
              "      <td>4</td>\n",
              "      <td>5</td>\n",
              "      <td>3</td>\n",
              "      <td>5</td>\n",
              "      <td>17</td>\n",
              "      <td>23</td>\n",
              "      <td>7</td>\n",
              "      <td>0</td>\n",
              "      <td>0</td>\n",
              "      <td>30088</td>\n",
              "      <td>4</td>\n",
              "      <td>2</td>\n",
              "      <td>0.500000</td>\n",
              "      <td>20</td>\n",
              "      <td>1</td>\n",
              "      <td>7</td>\n",
              "      <td>7</td>\n",
              "      <td>7</td>\n",
              "      <td>8</td>\n",
              "      <td>1805280</td>\n",
              "      <td>20</td>\n",
              "      <td>340</td>\n",
              "      <td>0</td>\n",
              "    </tr>\n",
              "  </tbody>\n",
              "</table>\n",
              "<p>83817 rows × 26 columns</p>\n",
              "</div>"
            ],
            "text/plain": [
              "       timestamp  outport  ...  vnet_vc_cc_index  target\n",
              "0             80        3  ...               340       0\n",
              "1             81        4  ...                27       0\n",
              "2             82        3  ...               340       0\n",
              "3             83        3  ...               340       0\n",
              "4             84        3  ...               340       0\n",
              "...          ...      ...  ...               ...     ...\n",
              "83812    3266199        4  ...               340       0\n",
              "83813    3266200        4  ...               340       0\n",
              "83814    3266201        4  ...               340       0\n",
              "83815    3266202        4  ...               340       0\n",
              "83816    3266206        4  ...               340       0\n",
              "\n",
              "[83817 rows x 26 columns]"
            ]
          },
          "metadata": {
            "tags": []
          },
          "execution_count": 10
        }
      ]
    },
    {
      "cell_type": "markdown",
      "metadata": {
        "id": "xhWoBoqmnTM8",
        "colab_type": "text"
      },
      "source": [
        "Processing"
      ]
    },
    {
      "cell_type": "code",
      "metadata": {
        "colab_type": "code",
        "id": "Z-DMh9YdHg2F",
        "outputId": "c59564c9-621c-4f97-c7b6-3b00a4ecea1f",
        "colab": {
          "base_uri": "https://localhost:8080/",
          "height": 476
        }
      },
      "source": [
        "df.isnull().sum()"
      ],
      "execution_count": 11,
      "outputs": [
        {
          "output_type": "execute_result",
          "data": {
            "text/plain": [
              "timestamp                     0\n",
              "outport                       0\n",
              "inport                        0\n",
              "cache_coherence_type          0\n",
              "flit_id                       0\n",
              "flit_type                     0\n",
              "vnet                          0\n",
              "vc                            0\n",
              "src_ni                        0\n",
              "src_router                    0\n",
              "dst_ni                        0\n",
              "dst_router                    0\n",
              "traversal_id                  0\n",
              "hop_count                     0\n",
              "current_hop                   0\n",
              "hop_percentage                0\n",
              "enqueue_time                  0\n",
              "packet_count_decr             0\n",
              "packet_count_incr             0\n",
              "max_packet_count              0\n",
              "packet_count_index            0\n",
              "port_index                    0\n",
              "traversal_index               0\n",
              "cache_coherence_vnet_index    0\n",
              "vnet_vc_cc_index              0\n",
              "target                        0\n",
              "dtype: int64"
            ]
          },
          "metadata": {
            "tags": []
          },
          "execution_count": 11
        }
      ]
    },
    {
      "cell_type": "code",
      "metadata": {
        "id": "ct4HKW31PrjK",
        "colab_type": "code",
        "colab": {}
      },
      "source": [
        "df = df.drop(columns=['timestamp','src_ni','src_router','dst_ni','dst_router'])"
      ],
      "execution_count": 0,
      "outputs": []
    },
    {
      "cell_type": "code",
      "metadata": {
        "colab_type": "code",
        "id": "Y9vcn7NCHg2M",
        "outputId": "8f08e599-f5d1-4f2a-8890-5f8f993bebd5",
        "colab": {
          "base_uri": "https://localhost:8080/",
          "height": 720
        }
      },
      "source": [
        "df.corr()"
      ],
      "execution_count": 13,
      "outputs": [
        {
          "output_type": "execute_result",
          "data": {
            "text/html": [
              "<div>\n",
              "<style scoped>\n",
              "    .dataframe tbody tr th:only-of-type {\n",
              "        vertical-align: middle;\n",
              "    }\n",
              "\n",
              "    .dataframe tbody tr th {\n",
              "        vertical-align: top;\n",
              "    }\n",
              "\n",
              "    .dataframe thead th {\n",
              "        text-align: right;\n",
              "    }\n",
              "</style>\n",
              "<table border=\"1\" class=\"dataframe\">\n",
              "  <thead>\n",
              "    <tr style=\"text-align: right;\">\n",
              "      <th></th>\n",
              "      <th>outport</th>\n",
              "      <th>inport</th>\n",
              "      <th>cache_coherence_type</th>\n",
              "      <th>flit_id</th>\n",
              "      <th>flit_type</th>\n",
              "      <th>vnet</th>\n",
              "      <th>vc</th>\n",
              "      <th>traversal_id</th>\n",
              "      <th>hop_count</th>\n",
              "      <th>current_hop</th>\n",
              "      <th>hop_percentage</th>\n",
              "      <th>enqueue_time</th>\n",
              "      <th>packet_count_decr</th>\n",
              "      <th>packet_count_incr</th>\n",
              "      <th>max_packet_count</th>\n",
              "      <th>packet_count_index</th>\n",
              "      <th>port_index</th>\n",
              "      <th>traversal_index</th>\n",
              "      <th>cache_coherence_vnet_index</th>\n",
              "      <th>vnet_vc_cc_index</th>\n",
              "      <th>target</th>\n",
              "    </tr>\n",
              "  </thead>\n",
              "  <tbody>\n",
              "    <tr>\n",
              "      <th>outport</th>\n",
              "      <td>1.000000</td>\n",
              "      <td>-0.250595</td>\n",
              "      <td>-0.020307</td>\n",
              "      <td>0.014424</td>\n",
              "      <td>-0.021815</td>\n",
              "      <td>0.340908</td>\n",
              "      <td>0.339830</td>\n",
              "      <td>-0.007235</td>\n",
              "      <td>0.303156</td>\n",
              "      <td>0.155391</td>\n",
              "      <td>-0.166765</td>\n",
              "      <td>-0.206380</td>\n",
              "      <td>-0.004897</td>\n",
              "      <td>0.025080</td>\n",
              "      <td>0.015047</td>\n",
              "      <td>0.006882</td>\n",
              "      <td>0.536356</td>\n",
              "      <td>-0.022850</td>\n",
              "      <td>0.259028</td>\n",
              "      <td>0.342208</td>\n",
              "      <td>-0.031782</td>\n",
              "    </tr>\n",
              "    <tr>\n",
              "      <th>inport</th>\n",
              "      <td>-0.250595</td>\n",
              "      <td>1.000000</td>\n",
              "      <td>-0.166390</td>\n",
              "      <td>-0.005833</td>\n",
              "      <td>0.008821</td>\n",
              "      <td>0.051282</td>\n",
              "      <td>0.005191</td>\n",
              "      <td>-0.059322</td>\n",
              "      <td>0.044429</td>\n",
              "      <td>-0.264342</td>\n",
              "      <td>-0.112474</td>\n",
              "      <td>-0.131291</td>\n",
              "      <td>-0.047385</td>\n",
              "      <td>-0.106367</td>\n",
              "      <td>-0.114621</td>\n",
              "      <td>-0.102984</td>\n",
              "      <td>0.638870</td>\n",
              "      <td>-0.066931</td>\n",
              "      <td>-0.091503</td>\n",
              "      <td>-0.028135</td>\n",
              "      <td>0.040022</td>\n",
              "    </tr>\n",
              "    <tr>\n",
              "      <th>cache_coherence_type</th>\n",
              "      <td>-0.020307</td>\n",
              "      <td>-0.166390</td>\n",
              "      <td>1.000000</td>\n",
              "      <td>0.209598</td>\n",
              "      <td>-0.316876</td>\n",
              "      <td>-0.224775</td>\n",
              "      <td>-0.237807</td>\n",
              "      <td>0.048404</td>\n",
              "      <td>-0.070167</td>\n",
              "      <td>-0.117661</td>\n",
              "      <td>-0.157311</td>\n",
              "      <td>-0.164176</td>\n",
              "      <td>0.054700</td>\n",
              "      <td>-0.003150</td>\n",
              "      <td>0.038430</td>\n",
              "      <td>0.032523</td>\n",
              "      <td>-0.169434</td>\n",
              "      <td>0.287735</td>\n",
              "      <td>0.617290</td>\n",
              "      <td>0.105833</td>\n",
              "      <td>0.003071</td>\n",
              "    </tr>\n",
              "    <tr>\n",
              "      <th>flit_id</th>\n",
              "      <td>0.014424</td>\n",
              "      <td>-0.005833</td>\n",
              "      <td>0.209598</td>\n",
              "      <td>1.000000</td>\n",
              "      <td>-0.023656</td>\n",
              "      <td>0.242817</td>\n",
              "      <td>0.226803</td>\n",
              "      <td>0.010166</td>\n",
              "      <td>0.044851</td>\n",
              "      <td>0.037675</td>\n",
              "      <td>0.015172</td>\n",
              "      <td>0.390672</td>\n",
              "      <td>-0.029010</td>\n",
              "      <td>0.043069</td>\n",
              "      <td>0.010481</td>\n",
              "      <td>0.007918</td>\n",
              "      <td>-0.002117</td>\n",
              "      <td>0.640279</td>\n",
              "      <td>0.363471</td>\n",
              "      <td>0.311741</td>\n",
              "      <td>-0.010092</td>\n",
              "    </tr>\n",
              "    <tr>\n",
              "      <th>flit_type</th>\n",
              "      <td>-0.021815</td>\n",
              "      <td>0.008821</td>\n",
              "      <td>-0.316876</td>\n",
              "      <td>-0.023656</td>\n",
              "      <td>1.000000</td>\n",
              "      <td>-0.367106</td>\n",
              "      <td>-0.342895</td>\n",
              "      <td>-0.015373</td>\n",
              "      <td>-0.067812</td>\n",
              "      <td>-0.056962</td>\n",
              "      <td>-0.022938</td>\n",
              "      <td>0.330012</td>\n",
              "      <td>-0.045788</td>\n",
              "      <td>0.025021</td>\n",
              "      <td>-0.015482</td>\n",
              "      <td>-0.010995</td>\n",
              "      <td>0.003197</td>\n",
              "      <td>0.140110</td>\n",
              "      <td>-0.549512</td>\n",
              "      <td>-0.471307</td>\n",
              "      <td>0.015247</td>\n",
              "    </tr>\n",
              "    <tr>\n",
              "      <th>vnet</th>\n",
              "      <td>0.340908</td>\n",
              "      <td>0.051282</td>\n",
              "      <td>-0.224775</td>\n",
              "      <td>0.242817</td>\n",
              "      <td>-0.367106</td>\n",
              "      <td>1.000000</td>\n",
              "      <td>0.990014</td>\n",
              "      <td>-0.017920</td>\n",
              "      <td>0.234116</td>\n",
              "      <td>0.218669</td>\n",
              "      <td>0.108782</td>\n",
              "      <td>-0.406800</td>\n",
              "      <td>-0.025664</td>\n",
              "      <td>0.038230</td>\n",
              "      <td>0.009368</td>\n",
              "      <td>0.000403</td>\n",
              "      <td>0.281612</td>\n",
              "      <td>-0.025799</td>\n",
              "      <td>0.627852</td>\n",
              "      <td>0.942094</td>\n",
              "      <td>-0.088140</td>\n",
              "    </tr>\n",
              "    <tr>\n",
              "      <th>vc</th>\n",
              "      <td>0.339830</td>\n",
              "      <td>0.005191</td>\n",
              "      <td>-0.237807</td>\n",
              "      <td>0.226803</td>\n",
              "      <td>-0.342895</td>\n",
              "      <td>0.990014</td>\n",
              "      <td>1.000000</td>\n",
              "      <td>-0.015337</td>\n",
              "      <td>0.209978</td>\n",
              "      <td>0.173770</td>\n",
              "      <td>0.058334</td>\n",
              "      <td>-0.390872</td>\n",
              "      <td>-0.023619</td>\n",
              "      <td>0.049378</td>\n",
              "      <td>0.019203</td>\n",
              "      <td>0.010058</td>\n",
              "      <td>0.245372</td>\n",
              "      <td>-0.030953</td>\n",
              "      <td>0.609379</td>\n",
              "      <td>0.938112</td>\n",
              "      <td>-0.089001</td>\n",
              "    </tr>\n",
              "    <tr>\n",
              "      <th>traversal_id</th>\n",
              "      <td>-0.007235</td>\n",
              "      <td>-0.059322</td>\n",
              "      <td>0.048404</td>\n",
              "      <td>0.010166</td>\n",
              "      <td>-0.015373</td>\n",
              "      <td>-0.017920</td>\n",
              "      <td>-0.015337</td>\n",
              "      <td>1.000000</td>\n",
              "      <td>0.004326</td>\n",
              "      <td>0.028547</td>\n",
              "      <td>0.019755</td>\n",
              "      <td>0.038240</td>\n",
              "      <td>0.102486</td>\n",
              "      <td>0.103469</td>\n",
              "      <td>0.153539</td>\n",
              "      <td>0.091527</td>\n",
              "      <td>-0.058010</td>\n",
              "      <td>0.559500</td>\n",
              "      <td>0.024196</td>\n",
              "      <td>-0.001409</td>\n",
              "      <td>-0.247690</td>\n",
              "    </tr>\n",
              "    <tr>\n",
              "      <th>hop_count</th>\n",
              "      <td>0.303156</td>\n",
              "      <td>0.044429</td>\n",
              "      <td>-0.070167</td>\n",
              "      <td>0.044851</td>\n",
              "      <td>-0.067812</td>\n",
              "      <td>0.234116</td>\n",
              "      <td>0.209978</td>\n",
              "      <td>0.004326</td>\n",
              "      <td>1.000000</td>\n",
              "      <td>0.465172</td>\n",
              "      <td>-0.136038</td>\n",
              "      <td>0.018915</td>\n",
              "      <td>-0.069803</td>\n",
              "      <td>-0.049602</td>\n",
              "      <td>-0.089015</td>\n",
              "      <td>-0.086544</td>\n",
              "      <td>0.224300</td>\n",
              "      <td>-0.011828</td>\n",
              "      <td>0.132977</td>\n",
              "      <td>0.201752</td>\n",
              "      <td>-0.005178</td>\n",
              "    </tr>\n",
              "    <tr>\n",
              "      <th>current_hop</th>\n",
              "      <td>0.155391</td>\n",
              "      <td>-0.264342</td>\n",
              "      <td>-0.117661</td>\n",
              "      <td>0.037675</td>\n",
              "      <td>-0.056962</td>\n",
              "      <td>0.218669</td>\n",
              "      <td>0.173770</td>\n",
              "      <td>0.028547</td>\n",
              "      <td>0.465172</td>\n",
              "      <td>1.000000</td>\n",
              "      <td>0.741069</td>\n",
              "      <td>0.189759</td>\n",
              "      <td>0.009174</td>\n",
              "      <td>0.005147</td>\n",
              "      <td>0.010676</td>\n",
              "      <td>0.000356</td>\n",
              "      <td>-0.143052</td>\n",
              "      <td>-0.016872</td>\n",
              "      <td>0.082568</td>\n",
              "      <td>0.157872</td>\n",
              "      <td>-0.054012</td>\n",
              "    </tr>\n",
              "    <tr>\n",
              "      <th>hop_percentage</th>\n",
              "      <td>-0.166765</td>\n",
              "      <td>-0.112474</td>\n",
              "      <td>-0.157311</td>\n",
              "      <td>0.015172</td>\n",
              "      <td>-0.022938</td>\n",
              "      <td>0.108782</td>\n",
              "      <td>0.058334</td>\n",
              "      <td>0.019755</td>\n",
              "      <td>-0.136038</td>\n",
              "      <td>0.741069</td>\n",
              "      <td>1.000000</td>\n",
              "      <td>0.165463</td>\n",
              "      <td>0.058258</td>\n",
              "      <td>0.023015</td>\n",
              "      <td>0.060588</td>\n",
              "      <td>0.050124</td>\n",
              "      <td>-0.242562</td>\n",
              "      <td>-0.031582</td>\n",
              "      <td>-0.037825</td>\n",
              "      <td>0.029703</td>\n",
              "      <td>-0.043600</td>\n",
              "    </tr>\n",
              "    <tr>\n",
              "      <th>enqueue_time</th>\n",
              "      <td>-0.206380</td>\n",
              "      <td>-0.131291</td>\n",
              "      <td>-0.164176</td>\n",
              "      <td>0.390672</td>\n",
              "      <td>0.330012</td>\n",
              "      <td>-0.406800</td>\n",
              "      <td>-0.390872</td>\n",
              "      <td>0.038240</td>\n",
              "      <td>0.018915</td>\n",
              "      <td>0.189759</td>\n",
              "      <td>0.165463</td>\n",
              "      <td>1.000000</td>\n",
              "      <td>-0.003107</td>\n",
              "      <td>0.022054</td>\n",
              "      <td>0.014125</td>\n",
              "      <td>0.015749</td>\n",
              "      <td>-0.274026</td>\n",
              "      <td>0.344396</td>\n",
              "      <td>-0.459588</td>\n",
              "      <td>-0.472337</td>\n",
              "      <td>0.037675</td>\n",
              "    </tr>\n",
              "    <tr>\n",
              "      <th>packet_count_decr</th>\n",
              "      <td>-0.004897</td>\n",
              "      <td>-0.047385</td>\n",
              "      <td>0.054700</td>\n",
              "      <td>-0.029010</td>\n",
              "      <td>-0.045788</td>\n",
              "      <td>-0.025664</td>\n",
              "      <td>-0.023619</td>\n",
              "      <td>0.102486</td>\n",
              "      <td>-0.069803</td>\n",
              "      <td>0.009174</td>\n",
              "      <td>0.058258</td>\n",
              "      <td>-0.003107</td>\n",
              "      <td>1.000000</td>\n",
              "      <td>-0.100329</td>\n",
              "      <td>0.670698</td>\n",
              "      <td>0.554051</td>\n",
              "      <td>-0.049809</td>\n",
              "      <td>0.044394</td>\n",
              "      <td>0.022972</td>\n",
              "      <td>-0.006964</td>\n",
              "      <td>-0.155641</td>\n",
              "    </tr>\n",
              "    <tr>\n",
              "      <th>packet_count_incr</th>\n",
              "      <td>0.025080</td>\n",
              "      <td>-0.106367</td>\n",
              "      <td>-0.003150</td>\n",
              "      <td>0.043069</td>\n",
              "      <td>0.025021</td>\n",
              "      <td>0.038230</td>\n",
              "      <td>0.049378</td>\n",
              "      <td>0.103469</td>\n",
              "      <td>-0.049602</td>\n",
              "      <td>0.005147</td>\n",
              "      <td>0.023015</td>\n",
              "      <td>0.022054</td>\n",
              "      <td>-0.100329</td>\n",
              "      <td>1.000000</td>\n",
              "      <td>0.670698</td>\n",
              "      <td>0.554051</td>\n",
              "      <td>-0.070620</td>\n",
              "      <td>0.086871</td>\n",
              "      <td>0.028350</td>\n",
              "      <td>0.043973</td>\n",
              "      <td>-0.155641</td>\n",
              "    </tr>\n",
              "    <tr>\n",
              "      <th>max_packet_count</th>\n",
              "      <td>0.015047</td>\n",
              "      <td>-0.114621</td>\n",
              "      <td>0.038430</td>\n",
              "      <td>0.010481</td>\n",
              "      <td>-0.015482</td>\n",
              "      <td>0.009368</td>\n",
              "      <td>0.019203</td>\n",
              "      <td>0.153539</td>\n",
              "      <td>-0.089015</td>\n",
              "      <td>0.010676</td>\n",
              "      <td>0.060588</td>\n",
              "      <td>0.014125</td>\n",
              "      <td>0.670698</td>\n",
              "      <td>0.670698</td>\n",
              "      <td>1.000000</td>\n",
              "      <td>0.826082</td>\n",
              "      <td>-0.089778</td>\n",
              "      <td>0.097857</td>\n",
              "      <td>0.038260</td>\n",
              "      <td>0.027590</td>\n",
              "      <td>-0.232058</td>\n",
              "    </tr>\n",
              "    <tr>\n",
              "      <th>packet_count_index</th>\n",
              "      <td>0.006882</td>\n",
              "      <td>-0.102984</td>\n",
              "      <td>0.032523</td>\n",
              "      <td>0.007918</td>\n",
              "      <td>-0.010995</td>\n",
              "      <td>0.000403</td>\n",
              "      <td>0.010058</td>\n",
              "      <td>0.091527</td>\n",
              "      <td>-0.086544</td>\n",
              "      <td>0.000356</td>\n",
              "      <td>0.050124</td>\n",
              "      <td>0.015749</td>\n",
              "      <td>0.554051</td>\n",
              "      <td>0.554051</td>\n",
              "      <td>0.826082</td>\n",
              "      <td>1.000000</td>\n",
              "      <td>-0.084112</td>\n",
              "      <td>0.062778</td>\n",
              "      <td>0.026304</td>\n",
              "      <td>0.016451</td>\n",
              "      <td>-0.205916</td>\n",
              "    </tr>\n",
              "    <tr>\n",
              "      <th>port_index</th>\n",
              "      <td>0.536356</td>\n",
              "      <td>0.638870</td>\n",
              "      <td>-0.169434</td>\n",
              "      <td>-0.002117</td>\n",
              "      <td>0.003197</td>\n",
              "      <td>0.281612</td>\n",
              "      <td>0.245372</td>\n",
              "      <td>-0.058010</td>\n",
              "      <td>0.224300</td>\n",
              "      <td>-0.143052</td>\n",
              "      <td>-0.242562</td>\n",
              "      <td>-0.274026</td>\n",
              "      <td>-0.049809</td>\n",
              "      <td>-0.070620</td>\n",
              "      <td>-0.089778</td>\n",
              "      <td>-0.084112</td>\n",
              "      <td>1.000000</td>\n",
              "      <td>-0.077344</td>\n",
              "      <td>0.092033</td>\n",
              "      <td>0.212817</td>\n",
              "      <td>-0.001317</td>\n",
              "    </tr>\n",
              "    <tr>\n",
              "      <th>traversal_index</th>\n",
              "      <td>-0.022850</td>\n",
              "      <td>-0.066931</td>\n",
              "      <td>0.287735</td>\n",
              "      <td>0.640279</td>\n",
              "      <td>0.140110</td>\n",
              "      <td>-0.025799</td>\n",
              "      <td>-0.030953</td>\n",
              "      <td>0.559500</td>\n",
              "      <td>-0.011828</td>\n",
              "      <td>-0.016872</td>\n",
              "      <td>-0.031582</td>\n",
              "      <td>0.344396</td>\n",
              "      <td>0.044394</td>\n",
              "      <td>0.086871</td>\n",
              "      <td>0.097857</td>\n",
              "      <td>0.062778</td>\n",
              "      <td>-0.077344</td>\n",
              "      <td>1.000000</td>\n",
              "      <td>0.209004</td>\n",
              "      <td>0.069140</td>\n",
              "      <td>-0.135939</td>\n",
              "    </tr>\n",
              "    <tr>\n",
              "      <th>cache_coherence_vnet_index</th>\n",
              "      <td>0.259028</td>\n",
              "      <td>-0.091503</td>\n",
              "      <td>0.617290</td>\n",
              "      <td>0.363471</td>\n",
              "      <td>-0.549512</td>\n",
              "      <td>0.627852</td>\n",
              "      <td>0.609379</td>\n",
              "      <td>0.024196</td>\n",
              "      <td>0.132977</td>\n",
              "      <td>0.082568</td>\n",
              "      <td>-0.037825</td>\n",
              "      <td>-0.459588</td>\n",
              "      <td>0.022972</td>\n",
              "      <td>0.028350</td>\n",
              "      <td>0.038260</td>\n",
              "      <td>0.026304</td>\n",
              "      <td>0.092033</td>\n",
              "      <td>0.209004</td>\n",
              "      <td>1.000000</td>\n",
              "      <td>0.845180</td>\n",
              "      <td>-0.068711</td>\n",
              "    </tr>\n",
              "    <tr>\n",
              "      <th>vnet_vc_cc_index</th>\n",
              "      <td>0.342208</td>\n",
              "      <td>-0.028135</td>\n",
              "      <td>0.105833</td>\n",
              "      <td>0.311741</td>\n",
              "      <td>-0.471307</td>\n",
              "      <td>0.942094</td>\n",
              "      <td>0.938112</td>\n",
              "      <td>-0.001409</td>\n",
              "      <td>0.201752</td>\n",
              "      <td>0.157872</td>\n",
              "      <td>0.029703</td>\n",
              "      <td>-0.472337</td>\n",
              "      <td>-0.006964</td>\n",
              "      <td>0.043973</td>\n",
              "      <td>0.027590</td>\n",
              "      <td>0.016451</td>\n",
              "      <td>0.212817</td>\n",
              "      <td>0.069140</td>\n",
              "      <td>0.845180</td>\n",
              "      <td>1.000000</td>\n",
              "      <td>-0.089673</td>\n",
              "    </tr>\n",
              "    <tr>\n",
              "      <th>target</th>\n",
              "      <td>-0.031782</td>\n",
              "      <td>0.040022</td>\n",
              "      <td>0.003071</td>\n",
              "      <td>-0.010092</td>\n",
              "      <td>0.015247</td>\n",
              "      <td>-0.088140</td>\n",
              "      <td>-0.089001</td>\n",
              "      <td>-0.247690</td>\n",
              "      <td>-0.005178</td>\n",
              "      <td>-0.054012</td>\n",
              "      <td>-0.043600</td>\n",
              "      <td>0.037675</td>\n",
              "      <td>-0.155641</td>\n",
              "      <td>-0.155641</td>\n",
              "      <td>-0.232058</td>\n",
              "      <td>-0.205916</td>\n",
              "      <td>-0.001317</td>\n",
              "      <td>-0.135939</td>\n",
              "      <td>-0.068711</td>\n",
              "      <td>-0.089673</td>\n",
              "      <td>1.000000</td>\n",
              "    </tr>\n",
              "  </tbody>\n",
              "</table>\n",
              "</div>"
            ],
            "text/plain": [
              "                             outport    inport  ...  vnet_vc_cc_index    target\n",
              "outport                     1.000000 -0.250595  ...          0.342208 -0.031782\n",
              "inport                     -0.250595  1.000000  ...         -0.028135  0.040022\n",
              "cache_coherence_type       -0.020307 -0.166390  ...          0.105833  0.003071\n",
              "flit_id                     0.014424 -0.005833  ...          0.311741 -0.010092\n",
              "flit_type                  -0.021815  0.008821  ...         -0.471307  0.015247\n",
              "vnet                        0.340908  0.051282  ...          0.942094 -0.088140\n",
              "vc                          0.339830  0.005191  ...          0.938112 -0.089001\n",
              "traversal_id               -0.007235 -0.059322  ...         -0.001409 -0.247690\n",
              "hop_count                   0.303156  0.044429  ...          0.201752 -0.005178\n",
              "current_hop                 0.155391 -0.264342  ...          0.157872 -0.054012\n",
              "hop_percentage             -0.166765 -0.112474  ...          0.029703 -0.043600\n",
              "enqueue_time               -0.206380 -0.131291  ...         -0.472337  0.037675\n",
              "packet_count_decr          -0.004897 -0.047385  ...         -0.006964 -0.155641\n",
              "packet_count_incr           0.025080 -0.106367  ...          0.043973 -0.155641\n",
              "max_packet_count            0.015047 -0.114621  ...          0.027590 -0.232058\n",
              "packet_count_index          0.006882 -0.102984  ...          0.016451 -0.205916\n",
              "port_index                  0.536356  0.638870  ...          0.212817 -0.001317\n",
              "traversal_index            -0.022850 -0.066931  ...          0.069140 -0.135939\n",
              "cache_coherence_vnet_index  0.259028 -0.091503  ...          0.845180 -0.068711\n",
              "vnet_vc_cc_index            0.342208 -0.028135  ...          1.000000 -0.089673\n",
              "target                     -0.031782  0.040022  ...         -0.089673  1.000000\n",
              "\n",
              "[21 rows x 21 columns]"
            ]
          },
          "metadata": {
            "tags": []
          },
          "execution_count": 13
        }
      ]
    },
    {
      "cell_type": "code",
      "metadata": {
        "colab_type": "code",
        "id": "KO-4OTqWHg2O",
        "outputId": "7503f595-c9f2-49c5-84b3-348d5bc15757",
        "colab": {
          "base_uri": "https://localhost:8080/",
          "height": 1000
        }
      },
      "source": [
        "plt.figure(figsize=(25,25))\n",
        "sns.heatmap(df.corr(), annot = True)\n",
        "plt.show()"
      ],
      "execution_count": 14,
      "outputs": [
        {
          "output_type": "display_data",
          "data": {
            "image/png": "[encoded data removed]",
            "text/plain": [
              "<Figure size 1800x1800 with 2 Axes>"
            ]
          },
          "metadata": {
            "tags": [],
            "needs_background": "light"
          }
        }
      ]
    },
    {
      "cell_type": "code",
      "metadata": {
        "id": "ihUQ4Na0X6ud",
        "colab_type": "code",
        "colab": {}
      },
      "source": [
        "def find_correlation(data, threshold=0.9):\n",
        "    corr_mat = data.corr()\n",
        "    corr_mat.loc[:, :] = np.tril(corr_mat, k=-1)\n",
        "    already_in = set()\n",
        "    result = []\n",
        "    for col in corr_mat:\n",
        "        perfect_corr = corr_mat[col][abs(corr_mat[col])> threshold].index.tolist()\n",
        "        if perfect_corr and col not in already_in:\n",
        "            already_in.update(set(perfect_corr))\n",
        "            perfect_corr.append(col)\n",
        "            result.append(perfect_corr)\n",
        "    select_nested = [f[1:] for f in result]\n",
        "    select_flat = [i for j in select_nested for i in j]\n",
        "    return select_flat"
      ],
      "execution_count": 0,
      "outputs": []
    },
    {
      "cell_type": "code",
      "metadata": {
        "id": "ea_XFirFYRWD",
        "colab_type": "code",
        "outputId": "79c75dc5-9843-48f1-b887-172f803d1120",
        "colab": {
          "base_uri": "https://localhost:8080/",
          "height": 34
        }
      },
      "source": [
        "columns_to_drop = find_correlation(df.drop(columns=['target']))\n",
        "columns_to_drop"
      ],
      "execution_count": 16,
      "outputs": [
        {
          "output_type": "execute_result",
          "data": {
            "text/plain": [
              "['vnet_vc_cc_index', 'vnet']"
            ]
          },
          "metadata": {
            "tags": []
          },
          "execution_count": 16
        }
      ]
    },
    {
      "cell_type": "code",
      "metadata": {
        "id": "uoJ0vV8dc3Tp",
        "colab_type": "code",
        "colab": {}
      },
      "source": [
        "df = df.drop(columns=['inport','cache_coherence_type','flit_id','flit_type','vnet','current_hop','hop_percentage','port_index','cache_coherence_vnet_index','vnet_vc_cc_index'])"
      ],
      "execution_count": 0,
      "outputs": []
    },
    {
      "cell_type": "code",
      "metadata": {
        "id": "mnbTvnKD8pJp",
        "colab_type": "code",
        "outputId": "ff053a12-c757-479f-eb1a-fd29b5bbab2b",
        "colab": {
          "base_uri": "https://localhost:8080/",
          "height": 739
        }
      },
      "source": [
        "plt.figure(figsize=(11,11))\n",
        "sns.heatmap(df.corr(), annot = True)\n",
        "plt.show()"
      ],
      "execution_count": 18,
      "outputs": [
        {
          "output_type": "display_data",
          "data": {
            "image/png": "[encoded data removed]",
            "text/plain": [
              "<Figure size 792x792 with 2 Axes>"
            ]
          },
          "metadata": {
            "tags": [],
            "needs_background": "light"
          }
        }
      ]
    },
    {
      "cell_type": "code",
      "metadata": {
        "id": "xmD7x9tM8rFy",
        "colab_type": "code",
        "outputId": "23e9d519-0386-48b2-842a-a3fc66b80879",
        "colab": {
          "base_uri": "https://localhost:8080/",
          "height": 739
        }
      },
      "source": [
        "plt.figure(figsize=(11,11))\n",
        "sns.heatmap(df.corr())\n",
        "plt.show()"
      ],
      "execution_count": 19,
      "outputs": [
        {
          "output_type": "display_data",
          "data": {
            "image/png": "[encoded data removed]",
            "text/plain": [
              "<Figure size 792x792 with 2 Axes>"
            ]
          },
          "metadata": {
            "tags": [],
            "needs_background": "light"
          }
        }
      ]
    },
    {
      "cell_type": "markdown",
      "metadata": {
        "colab_type": "text",
        "id": "dqkKQOsugytM"
      },
      "source": [
        "Processing Dataset for Training"
      ]
    },
    {
      "cell_type": "code",
      "metadata": {
        "id": "3QGHP8EYGqHK",
        "colab_type": "code",
        "colab": {}
      },
      "source": [
        "train_X = df.drop(columns=['target'])\n",
        "train_Y = df['target']"
      ],
      "execution_count": 0,
      "outputs": []
    },
    {
      "cell_type": "code",
      "metadata": {
        "colab_type": "code",
        "id": "ebvK4Qc8Hg2S",
        "outputId": "4415366a-3a74-4b43-d6e3-89d018144453",
        "colab": {
          "base_uri": "https://localhost:8080/",
          "height": 439
        }
      },
      "source": [
        "#standardization\n",
        "x = train_X.values\n",
        "min_max_scaler = preprocessing.MinMaxScaler()\n",
        "columns = train_X.columns\n",
        "x_scaled = min_max_scaler.fit_transform(x)\n",
        "train_X = pd.DataFrame(x_scaled)\n",
        "train_X.columns = columns\n",
        "train_X"
      ],
      "execution_count": 21,
      "outputs": [
        {
          "output_type": "execute_result",
          "data": {
            "text/html": [
              "<div>\n",
              "<style scoped>\n",
              "    .dataframe tbody tr th:only-of-type {\n",
              "        vertical-align: middle;\n",
              "    }\n",
              "\n",
              "    .dataframe tbody tr th {\n",
              "        vertical-align: top;\n",
              "    }\n",
              "\n",
              "    .dataframe thead th {\n",
              "        text-align: right;\n",
              "    }\n",
              "</style>\n",
              "<table border=\"1\" class=\"dataframe\">\n",
              "  <thead>\n",
              "    <tr style=\"text-align: right;\">\n",
              "      <th></th>\n",
              "      <th>outport</th>\n",
              "      <th>vc</th>\n",
              "      <th>traversal_id</th>\n",
              "      <th>hop_count</th>\n",
              "      <th>enqueue_time</th>\n",
              "      <th>packet_count_decr</th>\n",
              "      <th>packet_count_incr</th>\n",
              "      <th>max_packet_count</th>\n",
              "      <th>packet_count_index</th>\n",
              "      <th>traversal_index</th>\n",
              "    </tr>\n",
              "  </thead>\n",
              "  <tbody>\n",
              "    <tr>\n",
              "      <th>0</th>\n",
              "      <td>0.50</td>\n",
              "      <td>0.000000</td>\n",
              "      <td>0.000033</td>\n",
              "      <td>0.5</td>\n",
              "      <td>0.065574</td>\n",
              "      <td>0.414634</td>\n",
              "      <td>0.000000</td>\n",
              "      <td>0.414634</td>\n",
              "      <td>0.009872</td>\n",
              "      <td>0.000001</td>\n",
              "    </tr>\n",
              "    <tr>\n",
              "      <th>1</th>\n",
              "      <td>0.50</td>\n",
              "      <td>0.000000</td>\n",
              "      <td>0.000033</td>\n",
              "      <td>0.5</td>\n",
              "      <td>0.065574</td>\n",
              "      <td>0.518293</td>\n",
              "      <td>0.000000</td>\n",
              "      <td>0.518293</td>\n",
              "      <td>0.012340</td>\n",
              "      <td>0.000001</td>\n",
              "    </tr>\n",
              "    <tr>\n",
              "      <th>2</th>\n",
              "      <td>0.50</td>\n",
              "      <td>0.000000</td>\n",
              "      <td>0.000066</td>\n",
              "      <td>0.5</td>\n",
              "      <td>0.065574</td>\n",
              "      <td>0.750000</td>\n",
              "      <td>0.000000</td>\n",
              "      <td>0.750000</td>\n",
              "      <td>0.017857</td>\n",
              "      <td>0.000003</td>\n",
              "    </tr>\n",
              "    <tr>\n",
              "      <th>3</th>\n",
              "      <td>0.75</td>\n",
              "      <td>0.888889</td>\n",
              "      <td>0.000033</td>\n",
              "      <td>0.5</td>\n",
              "      <td>0.131148</td>\n",
              "      <td>0.774390</td>\n",
              "      <td>0.000000</td>\n",
              "      <td>0.774390</td>\n",
              "      <td>0.018438</td>\n",
              "      <td>0.000001</td>\n",
              "    </tr>\n",
              "    <tr>\n",
              "      <th>4</th>\n",
              "      <td>0.25</td>\n",
              "      <td>0.888889</td>\n",
              "      <td>0.000033</td>\n",
              "      <td>0.5</td>\n",
              "      <td>0.131148</td>\n",
              "      <td>0.432927</td>\n",
              "      <td>0.000000</td>\n",
              "      <td>0.432927</td>\n",
              "      <td>0.010308</td>\n",
              "      <td>0.000001</td>\n",
              "    </tr>\n",
              "    <tr>\n",
              "      <th>...</th>\n",
              "      <td>...</td>\n",
              "      <td>...</td>\n",
              "      <td>...</td>\n",
              "      <td>...</td>\n",
              "      <td>...</td>\n",
              "      <td>...</td>\n",
              "      <td>...</td>\n",
              "      <td>...</td>\n",
              "      <td>...</td>\n",
              "      <td>...</td>\n",
              "    </tr>\n",
              "    <tr>\n",
              "      <th>749111</th>\n",
              "      <td>0.50</td>\n",
              "      <td>0.888889</td>\n",
              "      <td>1.000000</td>\n",
              "      <td>1.0</td>\n",
              "      <td>0.081967</td>\n",
              "      <td>0.024390</td>\n",
              "      <td>0.079268</td>\n",
              "      <td>0.103659</td>\n",
              "      <td>0.010017</td>\n",
              "      <td>0.178007</td>\n",
              "    </tr>\n",
              "    <tr>\n",
              "      <th>749112</th>\n",
              "      <td>0.50</td>\n",
              "      <td>0.888889</td>\n",
              "      <td>1.000000</td>\n",
              "      <td>1.0</td>\n",
              "      <td>0.098361</td>\n",
              "      <td>0.018293</td>\n",
              "      <td>0.085366</td>\n",
              "      <td>0.103659</td>\n",
              "      <td>0.008566</td>\n",
              "      <td>0.267012</td>\n",
              "    </tr>\n",
              "    <tr>\n",
              "      <th>749113</th>\n",
              "      <td>0.50</td>\n",
              "      <td>0.888889</td>\n",
              "      <td>1.000000</td>\n",
              "      <td>1.0</td>\n",
              "      <td>0.114754</td>\n",
              "      <td>0.012195</td>\n",
              "      <td>0.091463</td>\n",
              "      <td>0.103659</td>\n",
              "      <td>0.006823</td>\n",
              "      <td>0.356016</td>\n",
              "    </tr>\n",
              "    <tr>\n",
              "      <th>749114</th>\n",
              "      <td>0.50</td>\n",
              "      <td>0.000000</td>\n",
              "      <td>1.000000</td>\n",
              "      <td>0.5</td>\n",
              "      <td>0.131148</td>\n",
              "      <td>0.006098</td>\n",
              "      <td>0.097561</td>\n",
              "      <td>0.103659</td>\n",
              "      <td>0.004791</td>\n",
              "      <td>0.133505</td>\n",
              "    </tr>\n",
              "    <tr>\n",
              "      <th>749115</th>\n",
              "      <td>0.50</td>\n",
              "      <td>0.888889</td>\n",
              "      <td>1.000000</td>\n",
              "      <td>1.0</td>\n",
              "      <td>0.180328</td>\n",
              "      <td>0.000000</td>\n",
              "      <td>0.103659</td>\n",
              "      <td>0.103659</td>\n",
              "      <td>0.002468</td>\n",
              "      <td>0.667531</td>\n",
              "    </tr>\n",
              "  </tbody>\n",
              "</table>\n",
              "<p>749116 rows × 10 columns</p>\n",
              "</div>"
            ],
            "text/plain": [
              "        outport        vc  ...  packet_count_index  traversal_index\n",
              "0          0.50  0.000000  ...            0.009872         0.000001\n",
              "1          0.50  0.000000  ...            0.012340         0.000001\n",
              "2          0.50  0.000000  ...            0.017857         0.000003\n",
              "3          0.75  0.888889  ...            0.018438         0.000001\n",
              "4          0.25  0.888889  ...            0.010308         0.000001\n",
              "...         ...       ...  ...                 ...              ...\n",
              "749111     0.50  0.888889  ...            0.010017         0.178007\n",
              "749112     0.50  0.888889  ...            0.008566         0.267012\n",
              "749113     0.50  0.888889  ...            0.006823         0.356016\n",
              "749114     0.50  0.000000  ...            0.004791         0.133505\n",
              "749115     0.50  0.888889  ...            0.002468         0.667531\n",
              "\n",
              "[749116 rows x 10 columns]"
            ]
          },
          "metadata": {
            "tags": []
          },
          "execution_count": 21
        }
      ]
    },
    {
      "cell_type": "code",
      "metadata": {
        "colab_type": "code",
        "id": "S6WGL499FBbX",
        "outputId": "69cc3c66-b3bc-434a-b151-0f58bc28fcb2",
        "colab": {
          "base_uri": "https://localhost:8080/",
          "height": 34
        }
      },
      "source": [
        "train_X[train_X.duplicated()].shape"
      ],
      "execution_count": 22,
      "outputs": [
        {
          "output_type": "execute_result",
          "data": {
            "text/plain": [
              "(2739, 10)"
            ]
          },
          "metadata": {
            "tags": []
          },
          "execution_count": 22
        }
      ]
    },
    {
      "cell_type": "code",
      "metadata": {
        "id": "0BZm1zbDPrjh",
        "colab_type": "code",
        "outputId": "168dc1f0-4fb6-44c5-b2a7-83be4897c981",
        "colab": {
          "base_uri": "https://localhost:8080/",
          "height": 456
        }
      },
      "source": [
        "test_X = df13.drop(columns=['target','timestamp','src_ni','src_router','dst_ni','dst_router','inport','cache_coherence_type','flit_id','flit_type','vnet','current_hop','hop_percentage','port_index','cache_coherence_vnet_index','vnet_vc_cc_index'])\n",
        "test_Y = df13['target']\n",
        "x = test_X.values\n",
        "min_max_scaler = preprocessing.MinMaxScaler()\n",
        "columns = test_X.columns\n",
        "x_scaled = min_max_scaler.fit_transform(x)\n",
        "test_X = pd.DataFrame(x_scaled)\n",
        "test_X.columns = columns\n",
        "print(test_X[test_X.duplicated()].shape)\n",
        "test_X"
      ],
      "execution_count": 23,
      "outputs": [
        {
          "output_type": "stream",
          "text": [
            "(0, 10)\n"
          ],
          "name": "stdout"
        },
        {
          "output_type": "execute_result",
          "data": {
            "text/html": [
              "<div>\n",
              "<style scoped>\n",
              "    .dataframe tbody tr th:only-of-type {\n",
              "        vertical-align: middle;\n",
              "    }\n",
              "\n",
              "    .dataframe tbody tr th {\n",
              "        vertical-align: top;\n",
              "    }\n",
              "\n",
              "    .dataframe thead th {\n",
              "        text-align: right;\n",
              "    }\n",
              "</style>\n",
              "<table border=\"1\" class=\"dataframe\">\n",
              "  <thead>\n",
              "    <tr style=\"text-align: right;\">\n",
              "      <th></th>\n",
              "      <th>outport</th>\n",
              "      <th>vc</th>\n",
              "      <th>traversal_id</th>\n",
              "      <th>hop_count</th>\n",
              "      <th>enqueue_time</th>\n",
              "      <th>packet_count_decr</th>\n",
              "      <th>packet_count_incr</th>\n",
              "      <th>max_packet_count</th>\n",
              "      <th>packet_count_index</th>\n",
              "      <th>traversal_index</th>\n",
              "    </tr>\n",
              "  </thead>\n",
              "  <tbody>\n",
              "    <tr>\n",
              "      <th>0</th>\n",
              "      <td>1.0</td>\n",
              "      <td>0.888889</td>\n",
              "      <td>0.0</td>\n",
              "      <td>0.666667</td>\n",
              "      <td>0.129032</td>\n",
              "      <td>0.614173</td>\n",
              "      <td>0.000000</td>\n",
              "      <td>0.614173</td>\n",
              "      <td>0.018755</td>\n",
              "      <td>0.000000</td>\n",
              "    </tr>\n",
              "    <tr>\n",
              "      <th>1</th>\n",
              "      <td>1.0</td>\n",
              "      <td>0.888889</td>\n",
              "      <td>0.0</td>\n",
              "      <td>0.666667</td>\n",
              "      <td>0.145161</td>\n",
              "      <td>0.606299</td>\n",
              "      <td>0.007874</td>\n",
              "      <td>0.614173</td>\n",
              "      <td>0.037269</td>\n",
              "      <td>0.000004</td>\n",
              "    </tr>\n",
              "    <tr>\n",
              "      <th>2</th>\n",
              "      <td>1.0</td>\n",
              "      <td>0.888889</td>\n",
              "      <td>0.0</td>\n",
              "      <td>0.666667</td>\n",
              "      <td>0.161290</td>\n",
              "      <td>0.598425</td>\n",
              "      <td>0.015748</td>\n",
              "      <td>0.614173</td>\n",
              "      <td>0.055302</td>\n",
              "      <td>0.000007</td>\n",
              "    </tr>\n",
              "    <tr>\n",
              "      <th>3</th>\n",
              "      <td>1.0</td>\n",
              "      <td>0.888889</td>\n",
              "      <td>0.0</td>\n",
              "      <td>0.666667</td>\n",
              "      <td>0.177419</td>\n",
              "      <td>0.590551</td>\n",
              "      <td>0.023622</td>\n",
              "      <td>0.614173</td>\n",
              "      <td>0.072854</td>\n",
              "      <td>0.000010</td>\n",
              "    </tr>\n",
              "    <tr>\n",
              "      <th>4</th>\n",
              "      <td>1.0</td>\n",
              "      <td>0.888889</td>\n",
              "      <td>0.0</td>\n",
              "      <td>0.666667</td>\n",
              "      <td>0.241935</td>\n",
              "      <td>0.582677</td>\n",
              "      <td>0.031496</td>\n",
              "      <td>0.614173</td>\n",
              "      <td>0.089925</td>\n",
              "      <td>0.000021</td>\n",
              "    </tr>\n",
              "    <tr>\n",
              "      <th>...</th>\n",
              "      <td>...</td>\n",
              "      <td>...</td>\n",
              "      <td>...</td>\n",
              "      <td>...</td>\n",
              "      <td>...</td>\n",
              "      <td>...</td>\n",
              "      <td>...</td>\n",
              "      <td>...</td>\n",
              "      <td>...</td>\n",
              "      <td>...</td>\n",
              "    </tr>\n",
              "    <tr>\n",
              "      <th>50250</th>\n",
              "      <td>0.5</td>\n",
              "      <td>0.888889</td>\n",
              "      <td>1.0</td>\n",
              "      <td>1.000000</td>\n",
              "      <td>0.080645</td>\n",
              "      <td>0.031496</td>\n",
              "      <td>0.102362</td>\n",
              "      <td>0.133858</td>\n",
              "      <td>0.016591</td>\n",
              "      <td>0.044501</td>\n",
              "    </tr>\n",
              "    <tr>\n",
              "      <th>50251</th>\n",
              "      <td>0.5</td>\n",
              "      <td>0.888889</td>\n",
              "      <td>1.0</td>\n",
              "      <td>1.000000</td>\n",
              "      <td>0.096774</td>\n",
              "      <td>0.023622</td>\n",
              "      <td>0.110236</td>\n",
              "      <td>0.133858</td>\n",
              "      <td>0.014186</td>\n",
              "      <td>0.178007</td>\n",
              "    </tr>\n",
              "    <tr>\n",
              "      <th>50252</th>\n",
              "      <td>0.5</td>\n",
              "      <td>0.888889</td>\n",
              "      <td>1.0</td>\n",
              "      <td>1.000000</td>\n",
              "      <td>0.112903</td>\n",
              "      <td>0.015748</td>\n",
              "      <td>0.118110</td>\n",
              "      <td>0.133858</td>\n",
              "      <td>0.011301</td>\n",
              "      <td>0.267012</td>\n",
              "    </tr>\n",
              "    <tr>\n",
              "      <th>50253</th>\n",
              "      <td>0.5</td>\n",
              "      <td>0.888889</td>\n",
              "      <td>1.0</td>\n",
              "      <td>1.000000</td>\n",
              "      <td>0.129032</td>\n",
              "      <td>0.007874</td>\n",
              "      <td>0.125984</td>\n",
              "      <td>0.133858</td>\n",
              "      <td>0.007935</td>\n",
              "      <td>0.356016</td>\n",
              "    </tr>\n",
              "    <tr>\n",
              "      <th>50254</th>\n",
              "      <td>0.5</td>\n",
              "      <td>0.888889</td>\n",
              "      <td>1.0</td>\n",
              "      <td>1.000000</td>\n",
              "      <td>0.193548</td>\n",
              "      <td>0.000000</td>\n",
              "      <td>0.133858</td>\n",
              "      <td>0.133858</td>\n",
              "      <td>0.004088</td>\n",
              "      <td>0.667532</td>\n",
              "    </tr>\n",
              "  </tbody>\n",
              "</table>\n",
              "<p>50255 rows × 10 columns</p>\n",
              "</div>"
            ],
            "text/plain": [
              "       outport        vc  ...  packet_count_index  traversal_index\n",
              "0          1.0  0.888889  ...            0.018755         0.000000\n",
              "1          1.0  0.888889  ...            0.037269         0.000004\n",
              "2          1.0  0.888889  ...            0.055302         0.000007\n",
              "3          1.0  0.888889  ...            0.072854         0.000010\n",
              "4          1.0  0.888889  ...            0.089925         0.000021\n",
              "...        ...       ...  ...                 ...              ...\n",
              "50250      0.5  0.888889  ...            0.016591         0.044501\n",
              "50251      0.5  0.888889  ...            0.014186         0.178007\n",
              "50252      0.5  0.888889  ...            0.011301         0.267012\n",
              "50253      0.5  0.888889  ...            0.007935         0.356016\n",
              "50254      0.5  0.888889  ...            0.004088         0.667532\n",
              "\n",
              "[50255 rows x 10 columns]"
            ]
          },
          "metadata": {
            "tags": []
          },
          "execution_count": 23
        }
      ]
    },
    {
      "cell_type": "code",
      "metadata": {
        "id": "6RHIaC_EpHU3",
        "colab_type": "code",
        "outputId": "beab8ac0-b6f3-4fa5-ba60-0092571d1a3a",
        "colab": {
          "base_uri": "https://localhost:8080/",
          "height": 34
        }
      },
      "source": [
        "test_X1 = df14.drop(columns=['target','timestamp','src_ni','src_router','dst_ni','dst_router','inport','cache_coherence_type','flit_id','flit_type','vnet','current_hop','hop_percentage','port_index','cache_coherence_vnet_index','vnet_vc_cc_index'])\n",
        "test_Y1 = df14['target']\n",
        "x = test_X1.values\n",
        "min_max_scaler = preprocessing.MinMaxScaler()\n",
        "columns = test_X1.columns\n",
        "x_scaled = min_max_scaler.fit_transform(x)\n",
        "test_X1 = pd.DataFrame(x_scaled)\n",
        "test_X1.columns = columns\n",
        "print(test_X1[test_X1.duplicated()].shape)"
      ],
      "execution_count": 24,
      "outputs": [
        {
          "output_type": "stream",
          "text": [
            "(0, 10)\n"
          ],
          "name": "stdout"
        }
      ]
    },
    {
      "cell_type": "code",
      "metadata": {
        "id": "CcaDu50VpICj",
        "colab_type": "code",
        "outputId": "2c8d7a09-cd8d-4841-de76-c1a1c3ca52bd",
        "colab": {
          "base_uri": "https://localhost:8080/",
          "height": 34
        }
      },
      "source": [
        "test_X2 = df15.drop(columns=['target','timestamp','src_ni','src_router','dst_ni','dst_router','inport','cache_coherence_type','flit_id','flit_type','vnet','current_hop','hop_percentage','port_index','cache_coherence_vnet_index','vnet_vc_cc_index'])\n",
        "test_Y2 = df15['target']\n",
        "x = test_X2.values\n",
        "min_max_scaler = preprocessing.MinMaxScaler()\n",
        "columns = test_X2.columns\n",
        "x_scaled = min_max_scaler.fit_transform(x)\n",
        "test_X2 = pd.DataFrame(x_scaled)\n",
        "test_X2.columns = columns\n",
        "print(test_X2[test_X2.duplicated()].shape)"
      ],
      "execution_count": 25,
      "outputs": [
        {
          "output_type": "stream",
          "text": [
            "(0, 10)\n"
          ],
          "name": "stdout"
        }
      ]
    },
    {
      "cell_type": "code",
      "metadata": {
        "id": "6_CQ1D1DpIgj",
        "colab_type": "code",
        "outputId": "3517d14b-84be-46d2-f05d-cf94b13a9b3b",
        "colab": {
          "base_uri": "https://localhost:8080/",
          "height": 34
        }
      },
      "source": [
        "test_X3 = df16.drop(columns=['target','timestamp','src_ni','src_router','dst_ni','dst_router','inport','cache_coherence_type','flit_id','flit_type','vnet','current_hop','hop_percentage','port_index','cache_coherence_vnet_index','vnet_vc_cc_index'])\n",
        "test_Y3 = df16['target']\n",
        "x = test_X3.values\n",
        "min_max_scaler = preprocessing.MinMaxScaler()\n",
        "columns = test_X3.columns\n",
        "x_scaled = min_max_scaler.fit_transform(x)\n",
        "test_X3 = pd.DataFrame(x_scaled)\n",
        "test_X3.columns = columns\n",
        "print(test_X3[test_X3.duplicated()].shape)"
      ],
      "execution_count": 26,
      "outputs": [
        {
          "output_type": "stream",
          "text": [
            "(0, 10)\n"
          ],
          "name": "stdout"
        }
      ]
    },
    {
      "cell_type": "code",
      "metadata": {
        "id": "yyhSMnXWpI7H",
        "colab_type": "code",
        "outputId": "1dc27f15-d40f-4d68-892f-72752f104db6",
        "colab": {
          "base_uri": "https://localhost:8080/",
          "height": 34
        }
      },
      "source": [
        "test_X4 = df17.drop(columns=['target','timestamp','src_ni','src_router','dst_ni','dst_router','inport','cache_coherence_type','flit_id','flit_type','vnet','current_hop','hop_percentage','port_index','cache_coherence_vnet_index','vnet_vc_cc_index'])\n",
        "test_Y4 = df17['target']\n",
        "x = test_X4.values\n",
        "min_max_scaler = preprocessing.MinMaxScaler()\n",
        "columns = test_X4.columns\n",
        "x_scaled = min_max_scaler.fit_transform(x)\n",
        "test_X4 = pd.DataFrame(x_scaled)\n",
        "test_X4.columns = columns\n",
        "print(test_X4[test_X4.duplicated()].shape)"
      ],
      "execution_count": 27,
      "outputs": [
        {
          "output_type": "stream",
          "text": [
            "(0, 10)\n"
          ],
          "name": "stdout"
        }
      ]
    },
    {
      "cell_type": "code",
      "metadata": {
        "id": "x1L9-vRTpJtX",
        "colab_type": "code",
        "outputId": "b2f7b8cc-ecdc-45a3-9ed7-6cfe8e0c0ad7",
        "colab": {
          "base_uri": "https://localhost:8080/",
          "height": 34
        }
      },
      "source": [
        "test_X5 = df18.drop(columns=['target','timestamp','src_ni','src_router','dst_ni','dst_router','inport','cache_coherence_type','flit_id','flit_type','vnet','current_hop','hop_percentage','port_index','cache_coherence_vnet_index','vnet_vc_cc_index'])\n",
        "test_Y5 = df18['target']\n",
        "x = test_X5.values\n",
        "min_max_scaler = preprocessing.MinMaxScaler()\n",
        "columns = test_X5.columns\n",
        "x_scaled = min_max_scaler.fit_transform(x)\n",
        "test_X5 = pd.DataFrame(x_scaled)\n",
        "test_X5.columns = columns\n",
        "print(test_X5[test_X5.duplicated()].shape)"
      ],
      "execution_count": 28,
      "outputs": [
        {
          "output_type": "stream",
          "text": [
            "(0, 10)\n"
          ],
          "name": "stdout"
        }
      ]
    },
    {
      "cell_type": "code",
      "metadata": {
        "id": "TOO9K9qnpLL_",
        "colab_type": "code",
        "outputId": "c310890d-a630-4295-cf3f-24f286d8d994",
        "colab": {
          "base_uri": "https://localhost:8080/",
          "height": 34
        }
      },
      "source": [
        "test_X6 = df19.drop(columns=['target','timestamp','src_ni','src_router','dst_ni','dst_router','inport','cache_coherence_type','flit_id','flit_type','vnet','current_hop','hop_percentage','port_index','cache_coherence_vnet_index','vnet_vc_cc_index'])\n",
        "test_Y6 = df19['target']\n",
        "x = test_X6.values\n",
        "min_max_scaler = preprocessing.MinMaxScaler()\n",
        "columns = test_X6.columns\n",
        "x_scaled = min_max_scaler.fit_transform(x)\n",
        "test_X6 = pd.DataFrame(x_scaled)\n",
        "test_X6.columns = columns\n",
        "print(test_X6[test_X6.duplicated()].shape)"
      ],
      "execution_count": 29,
      "outputs": [
        {
          "output_type": "stream",
          "text": [
            "(0, 10)\n"
          ],
          "name": "stdout"
        }
      ]
    },
    {
      "cell_type": "code",
      "metadata": {
        "id": "y2dPb0tOpLxu",
        "colab_type": "code",
        "outputId": "586c4072-a719-4805-f908-462047bb56e2",
        "colab": {
          "base_uri": "https://localhost:8080/",
          "height": 34
        }
      },
      "source": [
        "test_X7 = df20.drop(columns=['target','timestamp','src_ni','src_router','dst_ni','dst_router','inport','cache_coherence_type','flit_id','flit_type','vnet','current_hop','hop_percentage','port_index','cache_coherence_vnet_index','vnet_vc_cc_index'])\n",
        "test_Y7 = df20['target']\n",
        "x = test_X7.values\n",
        "min_max_scaler = preprocessing.MinMaxScaler()\n",
        "columns = test_X7.columns\n",
        "x_scaled = min_max_scaler.fit_transform(x)\n",
        "test_X7 = pd.DataFrame(x_scaled)\n",
        "test_X7.columns = columns\n",
        "print(test_X7[test_X7.duplicated()].shape)"
      ],
      "execution_count": 30,
      "outputs": [
        {
          "output_type": "stream",
          "text": [
            "(0, 10)\n"
          ],
          "name": "stdout"
        }
      ]
    },
    {
      "cell_type": "markdown",
      "metadata": {
        "colab_type": "text",
        "id": "2NUEiEtVHg2h"
      },
      "source": [
        "#### Machine Learning Models"
      ]
    },
    {
      "cell_type": "markdown",
      "metadata": {
        "colab_type": "text",
        "id": "BzgcG2e7hQC8"
      },
      "source": [
        "Module Imports for Data Processing and Report Generation in Machine Learning Models"
      ]
    },
    {
      "cell_type": "code",
      "metadata": {
        "colab_type": "code",
        "id": "wZCWkSvsHg2h",
        "colab": {}
      },
      "source": [
        "from sklearn.model_selection import train_test_split\n",
        "\n",
        "import statsmodels.api as sm\n",
        "from sklearn import metrics\n",
        "\n",
        "from sklearn.metrics import classification_report\n",
        "from sklearn.metrics import confusion_matrix\n",
        "\n",
        "from sklearn.metrics import roc_curve\n",
        "from sklearn.metrics import roc_auc_score\n",
        "from sklearn.metrics import accuracy_score\n",
        "from sklearn.metrics import mean_squared_error"
      ],
      "execution_count": 0,
      "outputs": []
    },
    {
      "cell_type": "markdown",
      "metadata": {
        "colab_type": "text",
        "id": "TWvMTDtHhoex"
      },
      "source": [
        "Labels\n",
        "\n",
        "1.   0 -  malicious\n",
        "2.   1 -  good\n",
        "\n"
      ]
    },
    {
      "cell_type": "code",
      "metadata": {
        "colab_type": "code",
        "id": "Ns6uUJz1G9MD",
        "outputId": "42145178-efb3-4481-8de8-4d1adb62ffd6",
        "colab": {
          "base_uri": "https://localhost:8080/",
          "height": 68
        }
      },
      "source": [
        "train_Y = df['target']\n",
        "train_Y.value_counts()"
      ],
      "execution_count": 32,
      "outputs": [
        {
          "output_type": "execute_result",
          "data": {
            "text/plain": [
              "0    576330\n",
              "1    172786\n",
              "Name: target, dtype: int64"
            ]
          },
          "metadata": {
            "tags": []
          },
          "execution_count": 32
        }
      ]
    },
    {
      "cell_type": "markdown",
      "metadata": {
        "colab_type": "text",
        "id": "_px-73eUh-05"
      },
      "source": [
        "Training and Validation Splitting of the Dataset"
      ]
    },
    {
      "cell_type": "code",
      "metadata": {
        "colab_type": "code",
        "id": "f9N46sTQHAw4",
        "colab": {}
      },
      "source": [
        "seed = 5\n",
        "np.random.seed(seed)"
      ],
      "execution_count": 0,
      "outputs": []
    },
    {
      "cell_type": "code",
      "metadata": {
        "colab_type": "code",
        "id": "SnHyPPbEHg2i",
        "colab": {}
      },
      "source": [
        "X_train, X_test, y_train, y_test = train_test_split(train_X, train_Y, test_size=0.2, random_state=seed, shuffle=True)"
      ],
      "execution_count": 0,
      "outputs": []
    },
    {
      "cell_type": "markdown",
      "metadata": {
        "colab_type": "text",
        "id": "Fy_oia0XiJNW"
      },
      "source": [
        "Feature Selection"
      ]
    },
    {
      "cell_type": "code",
      "metadata": {
        "colab_type": "code",
        "id": "v10pJaPUfMOd",
        "outputId": "708c929d-5e67-42da-f4cb-ae9e9ae198e5",
        "colab": {
          "base_uri": "https://localhost:8080/",
          "height": 469
        }
      },
      "source": [
        "#SelectKBest for feature selection\n",
        "bf = SelectKBest(score_func=chi2, k=\"all\")\n",
        "fit = bf.fit(X_train,y_train)\n",
        "dfscores = pd.DataFrame(fit.scores_)\n",
        "dfcolumns = pd.DataFrame(columns)\n",
        "\n",
        "featureScores = pd.concat([dfcolumns,dfscores],axis=1)\n",
        "featureScores.columns = ['Specs','Score'] \n",
        "print(featureScores.nlargest(10,'Score'))\n",
        "featureScores.plot(kind='barh')"
      ],
      "execution_count": 35,
      "outputs": [
        {
          "output_type": "stream",
          "text": [
            "                Specs        Score\n",
            "2        traversal_id  6150.023835\n",
            "7    max_packet_count  3782.252557\n",
            "8  packet_count_index  3443.807216\n",
            "1                  vc  2205.250708\n",
            "6   packet_count_incr  1902.913847\n",
            "5   packet_count_decr  1879.377005\n",
            "9     traversal_index  1846.237715\n",
            "4        enqueue_time   101.298212\n",
            "0             outport    89.321641\n",
            "3           hop_count     1.937755\n"
          ],
          "name": "stdout"
        },
        {
          "output_type": "execute_result",
          "data": {
            "text/plain": [
              "<matplotlib.axes._subplots.AxesSubplot at 0x7f709b108d30>"
            ]
          },
          "metadata": {
            "tags": []
          },
          "execution_count": 35
        },
        {
          "output_type": "display_data",
          "data": {
            "image/png": "[encoded data removed]",
            "text/plain": [
              "<Figure size 432x288 with 1 Axes>"
            ]
          },
          "metadata": {
            "tags": [],
            "needs_background": "light"
          }
        }
      ]
    },
    {
      "cell_type": "markdown",
      "metadata": {
        "colab_type": "text",
        "id": "rnmPuKJF2pdi"
      },
      "source": [
        "Decision Tree Classifier"
      ]
    },
    {
      "cell_type": "code",
      "metadata": {
        "colab_type": "code",
        "id": "biZL4MMmvYmG",
        "colab": {}
      },
      "source": [
        "#decisiontreee\n",
        "from sklearn.tree import DecisionTreeClassifier\n",
        "from sklearn.model_selection import GridSearchCV"
      ],
      "execution_count": 0,
      "outputs": []
    },
    {
      "cell_type": "code",
      "metadata": {
        "colab_type": "code",
        "id": "d3mCR-TiHg2-",
        "outputId": "80616602-c4d4-4a11-a0f3-b87f7e2f0b3d",
        "colab": {
          "base_uri": "https://localhost:8080/",
          "height": 119
        }
      },
      "source": [
        "dt = DecisionTreeClassifier(max_depth=20,max_features=10,random_state = 42)\n",
        "dt.fit(X_train,y_train)"
      ],
      "execution_count": 37,
      "outputs": [
        {
          "output_type": "execute_result",
          "data": {
            "text/plain": [
              "DecisionTreeClassifier(ccp_alpha=0.0, class_weight=None, criterion='gini',\n",
              "                       max_depth=20, max_features=10, max_leaf_nodes=None,\n",
              "                       min_impurity_decrease=0.0, min_impurity_split=None,\n",
              "                       min_samples_leaf=1, min_samples_split=2,\n",
              "                       min_weight_fraction_leaf=0.0, presort='deprecated',\n",
              "                       random_state=42, splitter='best')"
            ]
          },
          "metadata": {
            "tags": []
          },
          "execution_count": 37
        }
      ]
    },
    {
      "cell_type": "code",
      "metadata": {
        "id": "inQ8gu1OdApz",
        "colab_type": "code",
        "colab": {}
      },
      "source": [
        "pickle.dump(dt, open(\"dt-r5.pickle.dat\", 'wb'))"
      ],
      "execution_count": 0,
      "outputs": []
    },
    {
      "cell_type": "code",
      "metadata": {
        "colab_type": "code",
        "id": "xIIefAL_Hg2_",
        "colab": {}
      },
      "source": [
        "y_pred_dt= dt.predict(X_test)"
      ],
      "execution_count": 0,
      "outputs": []
    },
    {
      "cell_type": "code",
      "metadata": {
        "colab_type": "code",
        "id": "gBahu3DGHg3A",
        "outputId": "ffa7119c-06e4-436f-880f-946b29e5f99d",
        "colab": {
          "base_uri": "https://localhost:8080/",
          "height": 51
        }
      },
      "source": [
        "dt_score_train = dt.score(X_train,y_train)\n",
        "print(\"Train Prediction Score\",dt_score_train*100)\n",
        "dt_score_test = accuracy_score(y_test,y_pred_dt)\n",
        "print(\"Test Prediction Score\",dt_score_test*100)"
      ],
      "execution_count": 40,
      "outputs": [
        {
          "output_type": "stream",
          "text": [
            "Train Prediction Score 95.61449176695167\n",
            "Test Prediction Score 94.4608340452798\n"
          ],
          "name": "stdout"
        }
      ]
    },
    {
      "cell_type": "code",
      "metadata": {
        "id": "6y9oZRCGhR_7",
        "colab_type": "code",
        "outputId": "2de28da9-b8b9-4871-b110-3f3d9945f3d2",
        "colab": {
          "base_uri": "https://localhost:8080/",
          "height": 153
        }
      },
      "source": [
        "y_pred_dt_test= dt.predict(test_X)\n",
        "dt_score_test = accuracy_score(test_Y,y_pred_dt_test)\n",
        "print(\"Test Prediction Score\",dt_score_test*100)\n",
        "y_pred_dt_test= dt.predict(test_X1)\n",
        "dt_score_test = accuracy_score(test_Y1,y_pred_dt_test)\n",
        "print(\"Test Prediction Score\",dt_score_test*100)\n",
        "y_pred_dt_test= dt.predict(test_X2)\n",
        "dt_score_test = accuracy_score(test_Y2,y_pred_dt_test)\n",
        "print(\"Test Prediction Score\",dt_score_test*100)\n",
        "y_pred_dt_test= dt.predict(test_X3)\n",
        "dt_score_test = accuracy_score(test_Y3,y_pred_dt_test)\n",
        "print(\"Test Prediction Score\",dt_score_test*100)\n",
        "y_pred_dt_test= dt.predict(test_X4)\n",
        "dt_score_test = accuracy_score(test_Y4,y_pred_dt_test)\n",
        "print(\"Test Prediction Score\",dt_score_test*100)\n",
        "y_pred_dt_test= dt.predict(test_X5)\n",
        "dt_score_test = accuracy_score(test_Y5,y_pred_dt_test)\n",
        "print(\"Test Prediction Score\",dt_score_test*100)\n",
        "y_pred_dt_test= dt.predict(test_X6)\n",
        "dt_score_test = accuracy_score(test_Y6,y_pred_dt_test)\n",
        "print(\"Test Prediction Score\",dt_score_test*100)\n",
        "y_pred_dt_test= dt.predict(test_X7)\n",
        "dt_score_test = accuracy_score(test_Y7,y_pred_dt_test)\n",
        "print(\"Test Prediction Score\",dt_score_test*100)"
      ],
      "execution_count": 41,
      "outputs": [
        {
          "output_type": "stream",
          "text": [
            "Test Prediction Score 85.75067157496767\n",
            "Test Prediction Score 87.15448194273473\n",
            "Test Prediction Score 89.48050593686217\n",
            "Test Prediction Score 88.77368295828794\n",
            "Test Prediction Score 87.69044177507517\n",
            "Test Prediction Score 88.4760145076302\n",
            "Test Prediction Score 86.98750085845752\n",
            "Test Prediction Score 87.6683762610607\n"
          ],
          "name": "stdout"
        }
      ]
    },
    {
      "cell_type": "code",
      "metadata": {
        "colab_type": "code",
        "id": "OCAU8YpEfMRD",
        "outputId": "74f89b1e-c050-4d0e-8596-7f478f6ff2ad",
        "colab": {
          "base_uri": "https://localhost:8080/",
          "height": 282
        }
      },
      "source": [
        "feat_importances = pd.Series(dt.feature_importances_, index=columns)\n",
        "feat_importances.plot(kind='barh')"
      ],
      "execution_count": 42,
      "outputs": [
        {
          "output_type": "execute_result",
          "data": {
            "text/plain": [
              "<matplotlib.axes._subplots.AxesSubplot at 0x7f709b0722e8>"
            ]
          },
          "metadata": {
            "tags": []
          },
          "execution_count": 42
        },
        {
          "output_type": "display_data",
          "data": {
            "image/png": "[encoded data removed]",
            "text/plain": [
              "<Figure size 432x288 with 1 Axes>"
            ]
          },
          "metadata": {
            "tags": [],
            "needs_background": "light"
          }
        }
      ]
    },
    {
      "cell_type": "code",
      "metadata": {
        "colab_type": "code",
        "id": "5nIhx84-Hg3B",
        "outputId": "a9845384-5860-4b41-93c8-be1d60813de6",
        "colab": {
          "base_uri": "https://localhost:8080/",
          "height": 295
        }
      },
      "source": [
        "cm = confusion_matrix(y_test, y_pred_dt)\n",
        "class_label = [\"Anomalous\", \"Normal\"]\n",
        "df_cm = pd.DataFrame(cm, index=class_label,columns=class_label)\n",
        "sns.heatmap(df_cm, annot=True, fmt='d')\n",
        "plt.title(\"Confusion Matrix\")\n",
        "plt.xlabel(\"Predicted Label\")\n",
        "plt.ylabel(\"True Label\")\n",
        "plt.show()"
      ],
      "execution_count": 43,
      "outputs": [
        {
          "output_type": "display_data",
          "data": {
            "image/png": "[encoded data removed]",
            "text/plain": [
              "<Figure size 432x288 with 2 Axes>"
            ]
          },
          "metadata": {
            "tags": [],
            "needs_background": "light"
          }
        }
      ]
    },
    {
      "cell_type": "code",
      "metadata": {
        "colab_type": "code",
        "id": "xGqt7wigHg3B",
        "outputId": "fd062e9d-df31-4364-ba36-60736e300da5",
        "colab": {
          "base_uri": "https://localhost:8080/",
          "height": 170
        }
      },
      "source": [
        "print(classification_report(y_test,y_pred_dt))"
      ],
      "execution_count": 44,
      "outputs": [
        {
          "output_type": "stream",
          "text": [
            "              precision    recall  f1-score   support\n",
            "\n",
            "           0       0.95      0.97      0.96    115107\n",
            "           1       0.91      0.85      0.88     34717\n",
            "\n",
            "    accuracy                           0.94    149824\n",
            "   macro avg       0.93      0.91      0.92    149824\n",
            "weighted avg       0.94      0.94      0.94    149824\n",
            "\n"
          ],
          "name": "stdout"
        }
      ]
    },
    {
      "cell_type": "code",
      "metadata": {
        "colab_type": "code",
        "id": "wkWUUjGmHg3C",
        "outputId": "0ed4d6b0-fc39-4d82-f15b-48cf636eeb9f",
        "colab": {
          "base_uri": "https://localhost:8080/",
          "height": 295
        }
      },
      "source": [
        "dt_roc_auc = roc_auc_score(y_test, y_pred_dt)\n",
        "fpr, tpr, thresholds = roc_curve(y_test, dt.predict_proba(X_test)[:,1])\n",
        "plt.figure()\n",
        "plt.plot(fpr, tpr, label='DTree (area = %0.2f)' % dt_roc_auc)\n",
        "plt.plot([0, 1], [0, 1],'r--')\n",
        "plt.xlim([0.0, 1.0])\n",
        "plt.ylim([0.0, 1.05])\n",
        "plt.xlabel('False Positive Rate')\n",
        "plt.ylabel('True Positive Rate')\n",
        "plt.title('Receiver operating characteristic')\n",
        "plt.legend(loc=\"lower right\")\n",
        "plt.savefig('DT_ROC')\n",
        "plt.show()"
      ],
      "execution_count": 45,
      "outputs": [
        {
          "output_type": "display_data",
          "data": {
            "image/png": "[encoded data removed]",
            "text/plain": [
              "<Figure size 432x288 with 1 Axes>"
            ]
          },
          "metadata": {
            "tags": [],
            "needs_background": "light"
          }
        }
      ]
    },
    {
      "cell_type": "markdown",
      "metadata": {
        "id": "fXmBo6f1Hg3J",
        "colab_type": "text"
      },
      "source": [
        "XGB Classifier"
      ]
    },
    {
      "cell_type": "code",
      "metadata": {
        "id": "nE2alWP-ejv9",
        "colab_type": "code",
        "colab": {}
      },
      "source": [
        "from xgboost import XGBClassifier\n",
        "from xgboost import plot_importance"
      ],
      "execution_count": 0,
      "outputs": []
    },
    {
      "cell_type": "code",
      "metadata": {
        "colab_type": "code",
        "id": "JBwo0_BWHg3K",
        "outputId": "2b92cda0-fbfe-4c84-c65e-e9b219f7287d",
        "colab": {
          "base_uri": "https://localhost:8080/",
          "height": 136
        }
      },
      "source": [
        "xgbc = XGBClassifier(max_depth=20,min_child_weight=1,n_estimators=500,random_state=42,learning_rate=0.2)\n",
        "xgbc.fit(X_train,y_train)"
      ],
      "execution_count": 47,
      "outputs": [
        {
          "output_type": "execute_result",
          "data": {
            "text/plain": [
              "XGBClassifier(base_score=0.5, booster='gbtree', colsample_bylevel=1,\n",
              "              colsample_bynode=1, colsample_bytree=1, gamma=0,\n",
              "              learning_rate=0.2, max_delta_step=0, max_depth=20,\n",
              "              min_child_weight=1, missing=None, n_estimators=500, n_jobs=1,\n",
              "              nthread=None, objective='binary:logistic', random_state=42,\n",
              "              reg_alpha=0, reg_lambda=1, scale_pos_weight=1, seed=None,\n",
              "              silent=None, subsample=1, verbosity=1)"
            ]
          },
          "metadata": {
            "tags": []
          },
          "execution_count": 47
        }
      ]
    },
    {
      "cell_type": "code",
      "metadata": {
        "id": "1mA3luB2uPQG",
        "colab_type": "code",
        "colab": {}
      },
      "source": [
        "pickle.dump(xgbc, open(\"xgbc-r5l.pickle.dat\", 'wb'))"
      ],
      "execution_count": 0,
      "outputs": []
    },
    {
      "cell_type": "code",
      "metadata": {
        "colab_type": "code",
        "id": "prz2UBF8Hg3L",
        "colab": {}
      },
      "source": [
        "y_pred_xgbc= xgbc.predict(X_test)"
      ],
      "execution_count": 0,
      "outputs": []
    },
    {
      "cell_type": "code",
      "metadata": {
        "colab_type": "code",
        "id": "tFKQ1bq8Hg3L",
        "outputId": "6ccbcd24-5ca4-46de-af04-3226fabbc3b6",
        "colab": {
          "base_uri": "https://localhost:8080/",
          "height": 51
        }
      },
      "source": [
        "xgbc_score_train = xgbc.score(X_train,y_train)\n",
        "print(\"Train Prediction Score\",xgbc_score_train*100)\n",
        "xgbc_score_test = accuracy_score(y_test,y_pred_xgbc)\n",
        "print(\"Test Prediction Score\",xgbc_score_test*100)"
      ],
      "execution_count": 50,
      "outputs": [
        {
          "output_type": "stream",
          "text": [
            "Train Prediction Score 99.99165682171629\n",
            "Test Prediction Score 99.35324113626656\n"
          ],
          "name": "stdout"
        }
      ]
    },
    {
      "cell_type": "code",
      "metadata": {
        "id": "Z6hKTv8gopF3",
        "colab_type": "code",
        "outputId": "8e3dd937-7113-48f1-f099-ea819003af3c",
        "colab": {
          "base_uri": "https://localhost:8080/",
          "height": 153
        }
      },
      "source": [
        "y_pred_xgbc_test= xgbc.predict(test_X)\n",
        "xgbc_score_test = accuracy_score(test_Y,y_pred_xgbc_test)\n",
        "print(\"Test Prediction Score\",xgbc_score_test*100)\n",
        "y_pred_xgbc_test= xgbc.predict(test_X1)\n",
        "xgbc_score_test = accuracy_score(test_Y1,y_pred_xgbc_test)\n",
        "print(\"Test Prediction Score\",xgbc_score_test*100)\n",
        "y_pred_xgbc_test= xgbc.predict(test_X2)\n",
        "xgbc_score_test = accuracy_score(test_Y2,y_pred_xgbc_test)\n",
        "print(\"Test Prediction Score\",xgbc_score_test*100)\n",
        "y_pred_xgbc_test= xgbc.predict(test_X3)\n",
        "xgbc_score_test = accuracy_score(test_Y3,y_pred_xgbc_test)\n",
        "print(\"Test Prediction Score\",xgbc_score_test*100)\n",
        "y_pred_xgbc_test= xgbc.predict(test_X4)\n",
        "xgbc_score_test = accuracy_score(test_Y4,y_pred_xgbc_test)\n",
        "print(\"Test Prediction Score\",xgbc_score_test*100)\n",
        "y_pred_xgbc_test= xgbc.predict(test_X5)\n",
        "xgbc_score_test = accuracy_score(test_Y5,y_pred_xgbc_test)\n",
        "print(\"Test Prediction Score\",xgbc_score_test*100)\n",
        "y_pred_xgbc_test= xgbc.predict(test_X6)\n",
        "xgbc_score_test = accuracy_score(test_Y6,y_pred_xgbc_test)\n",
        "print(\"Test Prediction Score\",xgbc_score_test*100)\n",
        "y_pred_xgbc_test= xgbc.predict(test_X7)\n",
        "xgbc_score_test = accuracy_score(test_Y7,y_pred_xgbc_test)\n",
        "print(\"Test Prediction Score\",xgbc_score_test*100)"
      ],
      "execution_count": 51,
      "outputs": [
        {
          "output_type": "stream",
          "text": [
            "Test Prediction Score 87.93154909959208\n",
            "Test Prediction Score 88.53575482406356\n",
            "Test Prediction Score 90.59934746659118\n",
            "Test Prediction Score 89.5275304606985\n",
            "Test Prediction Score 88.71886889630996\n",
            "Test Prediction Score 89.97194279066585\n",
            "Test Prediction Score 88.15500309044708\n",
            "Test Prediction Score 89.19714817110973\n"
          ],
          "name": "stdout"
        }
      ]
    },
    {
      "cell_type": "code",
      "metadata": {
        "colab_type": "code",
        "id": "t-zwHWP_fMR_",
        "outputId": "5b4cc766-881e-4afd-c3ba-059991a918b8",
        "colab": {
          "base_uri": "https://localhost:8080/",
          "height": 295
        }
      },
      "source": [
        "plot_importance(xgbc)\n",
        "plt.show()"
      ],
      "execution_count": 52,
      "outputs": [
        {
          "output_type": "display_data",
          "data": {
            "image/png": "[encoded data removed]",
            "text/plain": [
              "<Figure size 432x288 with 1 Axes>"
            ]
          },
          "metadata": {
            "tags": [],
            "needs_background": "light"
          }
        }
      ]
    },
    {
      "cell_type": "code",
      "metadata": {
        "colab_type": "code",
        "id": "9OVtiUmaHg3M",
        "outputId": "267fd966-fd04-4f9f-a228-4ec035958462",
        "colab": {
          "base_uri": "https://localhost:8080/",
          "height": 295
        }
      },
      "source": [
        "cm = confusion_matrix(y_test, y_pred_xgbc)\n",
        "class_label = [\"Anomalous\", \"Normal\"]\n",
        "df_cm = pd.DataFrame(cm, index=class_label,columns=class_label)\n",
        "sns.heatmap(df_cm, annot=True, fmt='d')\n",
        "plt.title(\"Confusion Matrix\")\n",
        "plt.xlabel(\"Predicted Label\")\n",
        "plt.ylabel(\"True Label\")\n",
        "plt.show()"
      ],
      "execution_count": 53,
      "outputs": [
        {
          "output_type": "display_data",
          "data": {
            "image/png": "[encoded data removed]",
            "text/plain": [
              "<Figure size 432x288 with 2 Axes>"
            ]
          },
          "metadata": {
            "tags": [],
            "needs_background": "light"
          }
        }
      ]
    },
    {
      "cell_type": "code",
      "metadata": {
        "colab_type": "code",
        "id": "gAx5bI8BHg3M",
        "outputId": "fc1a9700-df68-48e0-eb45-d88464171207",
        "colab": {
          "base_uri": "https://localhost:8080/",
          "height": 170
        }
      },
      "source": [
        "print(classification_report(y_test,y_pred_xgbc))"
      ],
      "execution_count": 54,
      "outputs": [
        {
          "output_type": "stream",
          "text": [
            "              precision    recall  f1-score   support\n",
            "\n",
            "           0       0.99      1.00      1.00    115107\n",
            "           1       0.99      0.98      0.99     34717\n",
            "\n",
            "    accuracy                           0.99    149824\n",
            "   macro avg       0.99      0.99      0.99    149824\n",
            "weighted avg       0.99      0.99      0.99    149824\n",
            "\n"
          ],
          "name": "stdout"
        }
      ]
    },
    {
      "cell_type": "code",
      "metadata": {
        "colab_type": "code",
        "id": "LqPGLNKQHg3N",
        "outputId": "f7527b77-494d-496f-e3fd-1ad6cba071a7",
        "colab": {
          "base_uri": "https://localhost:8080/",
          "height": 295
        }
      },
      "source": [
        "xgb_roc_auc = roc_auc_score(y_test, y_pred_xgbc)\n",
        "fpr, tpr, thresholds = roc_curve(y_test, xgbc.predict_proba(X_test)[:,1])\n",
        "plt.figure()\n",
        "plt.plot(fpr, tpr, label='XGBoost (area = %0.2f)' % xgb_roc_auc)\n",
        "plt.plot([0, 1], [0, 1],'r--')\n",
        "plt.xlim([0.0, 1.0])\n",
        "plt.ylim([0.0, 1.05])\n",
        "plt.xlabel('False Positive Rate')\n",
        "plt.ylabel('True Positive Rate')\n",
        "plt.title('Receiver operating characteristic')\n",
        "plt.legend(loc=\"lower right\")\n",
        "plt.savefig('XGB_ROC')\n",
        "plt.show()"
      ],
      "execution_count": 55,
      "outputs": [
        {
          "output_type": "display_data",
          "data": {
            "image/png": "[encoded data removed]",
            "text/plain": [
              "<Figure size 432x288 with 1 Axes>"
            ]
          },
          "metadata": {
            "tags": [],
            "needs_background": "light"
          }
        }
      ]
    }
  ]
}