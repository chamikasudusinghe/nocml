{
 "cells": [
  {
   "cell_type": "markdown",
   "metadata": {},
   "source": [
    "#### Data Fetch"
   ]
  },
  {
   "cell_type": "code",
   "execution_count": null,
   "metadata": {},
   "outputs": [],
   "source": [
    "import pandas as pd\n",
    "import numpy as np\n",
    "%matplotlib inline\n",
    "import matplotlib.pyplot as plt\n",
    "import seaborn as sns"
   ]
  },
  {
   "cell_type": "code",
   "execution_count": 14,
   "metadata": {},
   "outputs": [
    {
     "name": "stdout",
     "output_type": "stream",
     "text": [
      "done\n"
     ]
    }
   ],
   "source": [
    "#extracting lines for simplied verion\n",
    "open('2-fft-malicious-n-0-5-m-9.txt','w').writelines([ line for line in open(\"2-fft-malicious-n-0-5-m-9.log\") if \"Enqueue\" in line])\n",
    "print (\"done\")"
   ]
  },
  {
   "cell_type": "code",
   "execution_count": null,
   "metadata": {},
   "outputs": [],
   "source": [
    "#extracting content from lines\n",
    "csv_out = open('2-fft-malicious-n-0-5-m-9-csv.txt','w')\n",
    "with open ('2-fft-malicious-n-0-5-m-9.txt', 'rt') as fft:\n",
    "    csv_out.write(\"time,router,outport,inport,packet_address,packet_type,flit_id,flit_type,vnet,vc,src_ni,src_router,dst_ni,dst_router,enq_time\\n\")\n",
    "    for line in fft:\n",
    "        line_split = line.split()\n",
    "        time = line_split[line_split.index(\"time:\") + 1]\n",
    "        router = line_split[line_split.index(\"SwitchAllocator\") + 3]\n",
    "        outport = line_split[line_split.index(\"outport\") + 1]\n",
    "        inport = line_split[line_split.index(\"inport\") + 1]\n",
    "        packet_address = line_split[line_split.index(\"addr\") + 2][1:-1]\n",
    "        packet_type = line_split[line_split.index(\"addr\") + 7]\n",
    "        flit_id = line_split[line_split.index(\"[flit::\") + 1][3:]\n",
    "        flit_type = line_split[line_split.index(\"Id=\"+str(flit_id)) + 1][5:]\n",
    "        vnet = line_split[line_split.index(\"Type=\"+str(flit_type)) + 1][5:]\n",
    "        vc = line_split[line_split.index(\"Vnet=\"+str(vnet)) + 1][3:]\n",
    "        src_ni = line_split[line_split.index(\"VC=\"+str(vc)) + 2][3:]\n",
    "        src_router = line_split[line_split.index(\"NI=\"+str(src_ni)) + 2][7:]\n",
    "        dst_ni = line_split[line_split.index(\"Router=\"+str(src_router)) + 2][3:]\n",
    "        dst_router = line_split[line_split.index(\"NI=\"+str(dst_ni)) + 2][7:]\n",
    "        enq_time = str(line_split[line_split.index(\"Enqueue\") + 1][5:])\n",
    "        line_csv = time+\",\"+router+\",\"+outport+\",\"+inport+\",\"+packet_address+\",\"+packet_type+\",\"+flit_id+\",\"+flit_type+\",\"+vnet+\",\"+vc+\",\"+src_ni+\",\"+src_router+\",\"+dst_ni+\",\"+dst_router+\",\"+enq_time+\"\\n\"\n",
    "        csv_out.write(line_csv)\n",
    "print (\"done\")"
   ]
  },
  {
   "cell_type": "code",
   "execution_count": null,
   "metadata": {},
   "outputs": [],
   "source": [
    "#convert txt to csv\n",
    "\n",
    "df = pd.read_csv(\"2-fft-malicious-n-0-5-m-9-csv.txt\",delimiter=',')\n",
    "df.to_csv('2-fft-malicious-n-0-5-m-9.csv',index=False)"
   ]
  },
  {
   "cell_type": "code",
   "execution_count": null,
   "metadata": {},
   "outputs": [],
   "source": [
    "#dataset\n",
    "df = pd.read_csv('2-fft-malicious-n-0-5-m-9.csv')"
   ]
  },
  {
   "cell_type": "code",
   "execution_count": null,
   "metadata": {},
   "outputs": [],
   "source": [
    "df.shape"
   ]
  },
  {
   "cell_type": "code",
   "execution_count": null,
   "metadata": {},
   "outputs": [],
   "source": [
    "df.describe()"
   ]
  },
  {
   "cell_type": "code",
   "execution_count": null,
   "metadata": {},
   "outputs": [],
   "source": [
    "sns.distplot(df['router'], kde = False, bins=30, color='blue')"
   ]
  },
  {
   "cell_type": "code",
   "execution_count": null,
   "metadata": {},
   "outputs": [],
   "source": [
    "sns.distplot(df['src_router'], kde = False, bins=30, color='blue')"
   ]
  },
  {
   "cell_type": "code",
   "execution_count": null,
   "metadata": {},
   "outputs": [],
   "source": [
    "sns.distplot(df['dst_router'], kde = False, bins=30, color='red')"
   ]
  },
  {
   "cell_type": "code",
   "execution_count": null,
   "metadata": {},
   "outputs": [],
   "source": [
    "sns.distplot(df['inport'], kde = False, bins=30, color='green')"
   ]
  },
  {
   "cell_type": "code",
   "execution_count": null,
   "metadata": {},
   "outputs": [],
   "source": [
    "sns.distplot(df['outport'], kde = False, bins=30, color='green')"
   ]
  },
  {
   "cell_type": "code",
   "execution_count": null,
   "metadata": {},
   "outputs": [],
   "source": [
    "sns.distplot(df['packet_type'], kde = False, bins=30, color='red')"
   ]
  },
  {
   "cell_type": "code",
   "execution_count": null,
   "metadata": {},
   "outputs": [],
   "source": [
    "direction = {'Local': 0,'North': 1, 'East': 2, 'South':3,'West':4}\n",
    "df = df.replace({'inport': direction, 'outport': direction})"
   ]
  },
  {
   "cell_type": "code",
   "execution_count": null,
   "metadata": {},
   "outputs": [],
   "source": [
    "data = {'GETS': 1,'GETX': 2,'GUX': 3,'DATA': 4, 'PUTX': 5,'PUTS': 6,'WB_ACK':7}\n",
    "df = df.replace({'packet_type': data})"
   ]
  },
  {
   "cell_type": "code",
   "execution_count": null,
   "metadata": {},
   "outputs": [],
   "source": [
    "df['flit_id'] = df['flit_id']+1\n",
    "df['flit_type'] = df['flit_type']+1\n",
    "df['vnet'] = df['vnet']+1\n",
    "df['vc'] = df['vc']+1"
   ]
  },
  {
   "cell_type": "code",
   "execution_count": null,
   "metadata": {},
   "outputs": [],
   "source": [
    "hoparr = {\"0to0\":0,\"0to1\":1,\"0to2\":2,\"0to3\":3,\"0to4\":1,\"0to5\":2,\"0to6\":3,\"0to7\":4,\"0to8\":2,\"0to9\":3,\"0to10\":4,\"0to11\":5,\"0to12\":3,\"0to13\":4,\"0to14\":5,\"0to15\":6,\n",
    "         \"1to1\":0,\"1to2\":1,\"1to3\":2,\"1to4\":2,\"1to5\":1,\"1to6\":2,\"1to7\":3,\"1to8\":3,\"1to9\":2,\"1to10\":3,\"1to11\":4,\"1to12\":5,\"1to13\":3,\"1to14\":4,\"1to15\":5,\n",
    "         \"2to2\":0,\"2to3\":1,\"2to4\":3,\"2to5\":2,\"2to6\":1,\"2to7\":2,\"2to8\":4,\"2to9\":3,\"2to10\":2,\"2to11\":3,\"2to12\":5,\"2to13\":4,\"2to14\":3,\"2to15\":4,\n",
    "         \"3to3\":0,\"3to4\":4,\"3to5\":3,\"3to6\":2,\"3to7\":1,\"3to8\":5,\"3to9\":4,\"3to10\":3,\"3to11\":2,\"3to12\":6,\"3to13\":5,\"3to14\":4,\"3to15\":3,\n",
    "         \"4to4\":0,\"4to5\":1,\"4to6\":2,\"4to7\":3,\"4to8\":1,\"4to9\":2,\"4to10\":3,\"4to11\":4,\"4to12\":2,\"4to13\":3,\"4to14\":4,\"4to15\":5,\n",
    "         \"5to5\":0,\"5to6\":1,\"5to7\":2,\"5to8\":2,\"5to9\":1,\"5to10\":2,\"5to11\":3,\"5to12\":3,\"5to13\":2,\"5to14\":3,\"5to15\":4,\n",
    "         \"6to6\":0,\"6to7\":1,\"6to8\":3,\"6to9\":2,\"6to10\":1,\"6to11\":2,\"6to12\":4,\"6to13\":3,\"6to14\":2,\"6to15\":3,\n",
    "         \"7to7\":0,\"7to8\":4,\"7to9\":3,\"7to10\":2,\"7to11\":1,\"7to12\":5,\"7to13\":4,\"7to14\":3,\"7to15\":2,\n",
    "         \"8to8\":0,\"8to9\":1,\"8to10\":2,\"8to11\":3,\"8to12\":1,\"8to13\":2,\"8to14\":3,\"8to15\":4,\n",
    "         \"9to9\":0,\"9to10\":1,\"9to11\":2,\"9to12\":2,\"9to13\":1,\"9to14\":2,\"9to15\":4,\n",
    "         \"10to10\":0,\"10to11\":1,\"10to12\":3,\"10to13\":2,\"10to14\":1,\"10to15\":2,\n",
    "         \"11to11\":0,\"11to12\":4,\"11to13\":3,\"11to14\":2,\"11to15\":1,\n",
    "         \"12to12\":0,\"12to13\":1,\"12to14\":2,\"12to15\":3,\n",
    "         \"13to13\":0,\"13to14\":1,\"13to15\":2,\n",
    "         \"14to14\":0,\"14to15\":1,\n",
    "         \"15to15\":0}"
   ]
  },
  {
   "cell_type": "code",
   "execution_count": null,
   "metadata": {},
   "outputs": [],
   "source": [
    "packarr = {}\n",
    "packtime = {}\n",
    "packchunk = []\n",
    "hopcurrentarr = []\n",
    "hoptotarr = []\n",
    "hoppercentarr =[]\n",
    "waitingarr = []\n",
    "interval = 500\n",
    "count = 0\n",
    "for index, row in df.iterrows():\n",
    "    current_time = row[\"time\"]\n",
    "    enqueue_time = row[\"enq_time\"]\n",
    "    waiting_time = current_time - enqueue_time\n",
    "    waitingarr.append(waiting_time)\n",
    "    current_router = row[\"router\"]\n",
    "    src_router = row[\"src_router\"]\n",
    "    dst_router = row[\"dst_router\"]\n",
    "    src_router_temp = src_router\n",
    "    if src_router_temp>dst_router:\n",
    "        temph = src_router_temp\n",
    "        src_router_temp = dst_router\n",
    "        dst_router = temph\n",
    "    hop_count_string = str(src_router_temp)+\"to\"+str(dst_router)\n",
    "    src_router_temp = src_router\n",
    "    hop_count = hoparr.get(hop_count_string)\n",
    "    if src_router_temp>current_router:\n",
    "        tempc = src_router_temp\n",
    "        src_router_temp = current_router\n",
    "        current_router = tempc\n",
    "    current_hop_string = str(src_router_temp)+\"to\"+str(current_router)\n",
    "    current_hop = hoparr.get(current_hop_string)\n",
    "    if(current_hop == 0 and hop_count ==0):\n",
    "        hop_percent = 0\n",
    "    else:\n",
    "        hop_percent = current_hop/hop_count\n",
    "    hoptotarr.append(hop_count)\n",
    "    hopcurrentarr.append(current_hop)\n",
    "    hoppercentarr.append(hop_percent)\n",
    "    if row[\"packet_address\"] not in packarr:\n",
    "        packarr[row[\"packet_address\"]] = count\n",
    "        packtime[row[\"packet_address\"]] = row[\"time\"]\n",
    "        packchunk.append(packarr.get(row[\"packet_address\"]))\n",
    "        count+=1\n",
    "    else:\n",
    "        current_time = row[\"time\"]\n",
    "        position = packarr.get(row[\"packet_address\"])\n",
    "        pkt_time = packtime.get(row[\"packet_address\"])\n",
    "        current_max = max(packarr.values())\n",
    "        if (current_time-pkt_time)<interval:\n",
    "            packchunk.append(packarr.get(row[\"packet_address\"]))\n",
    "        else:\n",
    "            del packarr[row[\"packet_address\"]]\n",
    "            del packtime[row[\"packet_address\"]]\n",
    "            packarr[row[\"packet_address\"]] = current_max+1\n",
    "            packtime[row[\"packet_address\"]] = row[\"time\"]\n",
    "            packchunk.append(packarr.get(row[\"packet_address\"]))\n",
    "            if (current_max)==count:\n",
    "                count+=2\n",
    "            elif (current_max+1)==count:\n",
    "                count+=1"
   ]
  },
  {
   "cell_type": "code",
   "execution_count": null,
   "metadata": {},
   "outputs": [],
   "source": [
    "df['packet_address'].nunique()"
   ]
  },
  {
   "cell_type": "code",
   "execution_count": null,
   "metadata": {},
   "outputs": [],
   "source": [
    "print(len(packarr))"
   ]
  },
  {
   "cell_type": "code",
   "execution_count": null,
   "metadata": {},
   "outputs": [],
   "source": [
    "print(len(packchunk))"
   ]
  },
  {
   "cell_type": "code",
   "execution_count": null,
   "metadata": {},
   "outputs": [],
   "source": [
    "df = df.assign(traversal_id=packchunk)\n",
    "df = df.assign(hop_count=hoptotarr)\n",
    "df = df.assign(current_hop=hopcurrentarr)\n",
    "df = df.assign(hop_percentage=hoppercentarr)\n",
    "df = df.assign(enqueue_time=waitingarr)"
   ]
  },
  {
   "cell_type": "code",
   "execution_count": null,
   "metadata": {},
   "outputs": [],
   "source": [
    "df.rename(columns={'packet_type': 'cache_coherence_type', 'time': 'timestamp'}, inplace=True)"
   ]
  },
  {
   "cell_type": "code",
   "execution_count": null,
   "metadata": {},
   "outputs": [],
   "source": [
    "df = df.drop(columns=['packet_address','enq_time'])"
   ]
  },
  {
   "cell_type": "code",
   "execution_count": null,
   "metadata": {},
   "outputs": [],
   "source": [
    "df.isnull().sum()"
   ]
  },
  {
   "cell_type": "code",
   "execution_count": null,
   "metadata": {},
   "outputs": [],
   "source": [
    "df.dtypes"
   ]
  },
  {
   "cell_type": "code",
   "execution_count": null,
   "metadata": {},
   "outputs": [],
   "source": [
    "df.to_csv('2-fft-malicious-n-0-5-m-9.csv',index=False)"
   ]
  },
  {
   "cell_type": "markdown",
   "metadata": {},
   "source": [
    "#### Router Fetch"
   ]
  },
  {
   "cell_type": "code",
   "execution_count": 1,
   "metadata": {},
   "outputs": [
    {
     "ename": "NameError",
     "evalue": "name 'pd' is not defined",
     "output_type": "error",
     "traceback": [
      "\u001b[1;31m---------------------------------------------------------------------------\u001b[0m",
      "\u001b[1;31mNameError\u001b[0m                                 Traceback (most recent call last)",
      "\u001b[1;32m<ipython-input-1-ce551377f7d3>\u001b[0m in \u001b[0;36m<module>\u001b[1;34m\u001b[0m\n\u001b[1;32m----> 1\u001b[1;33m \u001b[0mdf1\u001b[0m \u001b[1;33m=\u001b[0m \u001b[0mpd\u001b[0m\u001b[1;33m.\u001b[0m\u001b[0mread_csv\u001b[0m\u001b[1;33m(\u001b[0m\u001b[1;34m'2-fft-normal-n-0-3-data.csv'\u001b[0m\u001b[1;33m)\u001b[0m\u001b[1;33m\u001b[0m\u001b[1;33m\u001b[0m\u001b[0m\n\u001b[0m",
      "\u001b[1;31mNameError\u001b[0m: name 'pd' is not defined"
     ]
    }
   ],
   "source": [
    "df = pd.read_csv('2-fft-malicious-n-0-5-m-9.csv')\n",
    "df.shape"
   ]
  },
  {
   "cell_type": "code",
   "execution_count": 2,
   "metadata": {},
   "outputs": [
    {
     "ename": "NameError",
     "evalue": "name 'df' is not defined",
     "output_type": "error",
     "traceback": [
      "\u001b[1;31m---------------------------------------------------------------------------\u001b[0m",
      "\u001b[1;31mNameError\u001b[0m                                 Traceback (most recent call last)",
      "\u001b[1;32m<ipython-input-2-bc74c38eb3d6>\u001b[0m in \u001b[0;36m<module>\u001b[1;34m\u001b[0m\n\u001b[1;32m----> 1\u001b[1;33m \u001b[0mdf\u001b[0m \u001b[1;33m=\u001b[0m \u001b[0mdf\u001b[0m\u001b[1;33m.\u001b[0m\u001b[0mloc\u001b[0m\u001b[1;33m[\u001b[0m\u001b[0mdf1\u001b[0m\u001b[1;33m[\u001b[0m\u001b[1;34m'router'\u001b[0m\u001b[1;33m]\u001b[0m \u001b[1;33m==\u001b[0m \u001b[1;36m1\u001b[0m\u001b[1;33m]\u001b[0m\u001b[1;33m\u001b[0m\u001b[1;33m\u001b[0m\u001b[0m\n\u001b[0m\u001b[0;32m      2\u001b[0m \u001b[0mdf1\u001b[0m \u001b[1;33m=\u001b[0m \u001b[0mdf1\u001b[0m\u001b[1;33m.\u001b[0m\u001b[0mdrop\u001b[0m\u001b[1;33m(\u001b[0m\u001b[0mcolumns\u001b[0m\u001b[1;33m=\u001b[0m\u001b[1;33m[\u001b[0m\u001b[1;34m'router'\u001b[0m\u001b[1;33m]\u001b[0m\u001b[1;33m)\u001b[0m\u001b[1;33m\u001b[0m\u001b[1;33m\u001b[0m\u001b[0m\n",
      "\u001b[1;31mNameError\u001b[0m: name 'df' is not defined"
     ]
    }
   ],
   "source": [
    "df = df.loc[df['router'] == 1]\n",
    "df = df.drop(columns=['router'])\n",
    "df.to_csv('2-fft-malicious-n-0-5-m-9-r1.csv',index=False)"
   ]
  },
  {
   "cell_type": "code",
   "execution_count": null,
   "metadata": {},
   "outputs": [],
   "source": [
    "df = pd.read_csv('2-fft-malicious-n-0-5-m-9-r1.csv')"
   ]
  },
  {
   "cell_type": "code",
   "execution_count": null,
   "metadata": {},
   "outputs": [],
   "source": [
    "def timecount(df):\n",
    "    timearr = []\n",
    "    interval = 99\n",
    "    count = 0\n",
    "    for index, row in df.iterrows():\n",
    "        if row[\"timestamp\"]<=interval:\n",
    "            count+=1\n",
    "        else:\n",
    "            timearr.append([interval+1,count])\n",
    "            count=1\n",
    "            interval+=100\n",
    "    timearr.append([interval+1,count])\n",
    "    return timearr"
   ]
  },
  {
   "cell_type": "code",
   "execution_count": null,
   "metadata": {},
   "outputs": [],
   "source": [
    "def maxcount(timearr,df):\n",
    "    countarr = []\n",
    "    increarr = []\n",
    "    maxarr = []\n",
    "    for i in range(len(timearr)):\n",
    "        for cnt in range(timearr[i][1],0,-1):\n",
    "            countarr.append(cnt)\n",
    "            maxarr.append(timearr[i][1])\n",
    "            increment = timearr[i][1] - cnt + 1\n",
    "            increarr.append(increment)\n",
    "    df = df.assign(packet_count_decr=countarr)\n",
    "    df = df.assign(packet_count_incr=increarr)\n",
    "    df = df.assign(max_packet_count=maxarr)\n",
    "    return df"
   ]
  },
  {
   "cell_type": "code",
   "execution_count": null,
   "metadata": {},
   "outputs": [],
   "source": [
    "df1 = maxcount(timecount(df1),df1)"
   ]
  },
  {
   "cell_type": "code",
   "execution_count": null,
   "metadata": {},
   "outputs": [],
   "source": [
    "df1"
   ]
  },
  {
   "cell_type": "code",
   "execution_count": null,
   "metadata": {},
   "outputs": [],
   "source": [
    "def rename(df):\n",
    "    df['traversal_id'] = df['traversal_id']+1\n",
    "    df[\"packet_count_index\"] = df[\"packet_count_decr\"]*df[\"packet_count_incr\"]\n",
    "    df[\"packet_max_index\"] = df[\"packet_count_index\"]*df[\"max_packet_count\"]\n",
    "    df[\"port_index\"] = df[\"outport\"]*df[\"inport\"]\n",
    "    df[\"cache_coherence_flit_index\"] = df[\"cache_coherence_type\"]*df[\"flit_id\"]\n",
    "    df[\"flit_index\"] = df[\"cache_coherence_flit_index\"]*df[\"flit_type\"]\n",
    "    df[\"traversal_index\"] = df[\"flit_index\"]*df[\"traversal_id\"]\n",
    "    df[\"cache_coherence_vnet_index\"] = df[\"cache_coherence_type\"]*df[\"vnet\"]\n",
    "    df[\"vnet_vc_index\"] = df[\"vnet\"]*df[\"vc\"]\n",
    "    df[\"vnet_vc_cc_index\"] = df[\"vnet\"]*df[\"cache_coherence_vnet_index\"]\n",
    "    df.head(50)"
   ]
  },
  {
   "cell_type": "code",
   "execution_count": null,
   "metadata": {},
   "outputs": [],
   "source": [
    "rename(df1)"
   ]
  },
  {
   "cell_type": "code",
   "execution_count": null,
   "metadata": {},
   "outputs": [],
   "source": [
    "df1['target'] = 1"
   ]
  },
  {
   "cell_type": "code",
   "execution_count": null,
   "metadata": {},
   "outputs": [],
   "source": [
    "df1"
   ]
  },
  {
   "cell_type": "code",
   "execution_count": null,
   "metadata": {},
   "outputs": [],
   "source": [
    "df1.dtypes"
   ]
  },
  {
   "cell_type": "code",
   "execution_count": null,
   "metadata": {},
   "outputs": [],
   "source": [
    "df1.to_csv('2-fft-malicious-n-0-5-m-9-r1.csv',index=False)"
   ]
  }
 ],
 "metadata": {
  "kernelspec": {
   "display_name": "Python 3",
   "language": "python",
   "name": "python3"
  },
  "language_info": {
   "codemirror_mode": {
    "name": "ipython",
    "version": 3
   },
   "file_extension": ".py",
   "mimetype": "text/x-python",
   "name": "python",
   "nbconvert_exporter": "python",
   "pygments_lexer": "ipython3",
   "version": "3.7.4"
  }
 },
 "nbformat": 4,
 "nbformat_minor": 4
}
