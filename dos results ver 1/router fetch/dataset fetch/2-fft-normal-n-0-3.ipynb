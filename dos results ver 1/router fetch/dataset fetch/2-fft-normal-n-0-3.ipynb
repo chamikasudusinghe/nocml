{
 "cells": [
  {
   "cell_type": "code",
   "execution_count": 5,
   "metadata": {},
   "outputs": [],
   "source": [
    "import pandas as pd\n",
    "import seaborn as sns\n",
    "import matplotlib.pyplot as plt"
   ]
  },
  {
   "cell_type": "code",
   "execution_count": 6,
   "metadata": {},
   "outputs": [
    {
     "data": {
      "text/html": [
       "<div>\n",
       "<style scoped>\n",
       "    .dataframe tbody tr th:only-of-type {\n",
       "        vertical-align: middle;\n",
       "    }\n",
       "\n",
       "    .dataframe tbody tr th {\n",
       "        vertical-align: top;\n",
       "    }\n",
       "\n",
       "    .dataframe thead th {\n",
       "        text-align: right;\n",
       "    }\n",
       "</style>\n",
       "<table border=\"1\" class=\"dataframe\">\n",
       "  <thead>\n",
       "    <tr style=\"text-align: right;\">\n",
       "      <th></th>\n",
       "      <th>time</th>\n",
       "      <th>router</th>\n",
       "      <th>outport</th>\n",
       "      <th>inport</th>\n",
       "      <th>packet_address</th>\n",
       "      <th>packet_type</th>\n",
       "      <th>flit_id</th>\n",
       "      <th>flit_type</th>\n",
       "      <th>vnet</th>\n",
       "      <th>vc</th>\n",
       "      <th>src_ni</th>\n",
       "      <th>src_router</th>\n",
       "      <th>dst_ni</th>\n",
       "      <th>dst_router</th>\n",
       "      <th>enq_time</th>\n",
       "    </tr>\n",
       "  </thead>\n",
       "  <tbody>\n",
       "    <tr>\n",
       "      <td>0</td>\n",
       "      <td>7</td>\n",
       "      <td>0</td>\n",
       "      <td>East</td>\n",
       "      <td>Local</td>\n",
       "      <td>0x1dc0</td>\n",
       "      <td>GETS</td>\n",
       "      <td>0</td>\n",
       "      <td>3</td>\n",
       "      <td>2</td>\n",
       "      <td>8</td>\n",
       "      <td>0</td>\n",
       "      <td>0</td>\n",
       "      <td>23</td>\n",
       "      <td>7</td>\n",
       "      <td>3</td>\n",
       "    </tr>\n",
       "    <tr>\n",
       "      <td>1</td>\n",
       "      <td>7</td>\n",
       "      <td>3</td>\n",
       "      <td>North</td>\n",
       "      <td>Local</td>\n",
       "      <td>0xeddc0</td>\n",
       "      <td>GETS</td>\n",
       "      <td>0</td>\n",
       "      <td>3</td>\n",
       "      <td>2</td>\n",
       "      <td>8</td>\n",
       "      <td>3</td>\n",
       "      <td>3</td>\n",
       "      <td>23</td>\n",
       "      <td>7</td>\n",
       "      <td>3</td>\n",
       "    </tr>\n",
       "    <tr>\n",
       "      <td>2</td>\n",
       "      <td>11</td>\n",
       "      <td>7</td>\n",
       "      <td>Local</td>\n",
       "      <td>South</td>\n",
       "      <td>0xeddc0</td>\n",
       "      <td>GETS</td>\n",
       "      <td>0</td>\n",
       "      <td>3</td>\n",
       "      <td>2</td>\n",
       "      <td>8</td>\n",
       "      <td>3</td>\n",
       "      <td>3</td>\n",
       "      <td>23</td>\n",
       "      <td>7</td>\n",
       "      <td>3</td>\n",
       "    </tr>\n",
       "    <tr>\n",
       "      <td>3</td>\n",
       "      <td>11</td>\n",
       "      <td>1</td>\n",
       "      <td>East</td>\n",
       "      <td>West</td>\n",
       "      <td>0x1dc0</td>\n",
       "      <td>GETS</td>\n",
       "      <td>0</td>\n",
       "      <td>3</td>\n",
       "      <td>2</td>\n",
       "      <td>8</td>\n",
       "      <td>0</td>\n",
       "      <td>0</td>\n",
       "      <td>23</td>\n",
       "      <td>7</td>\n",
       "      <td>3</td>\n",
       "    </tr>\n",
       "    <tr>\n",
       "      <td>4</td>\n",
       "      <td>15</td>\n",
       "      <td>2</td>\n",
       "      <td>East</td>\n",
       "      <td>West</td>\n",
       "      <td>0x1dc0</td>\n",
       "      <td>GETS</td>\n",
       "      <td>0</td>\n",
       "      <td>3</td>\n",
       "      <td>2</td>\n",
       "      <td>8</td>\n",
       "      <td>0</td>\n",
       "      <td>0</td>\n",
       "      <td>23</td>\n",
       "      <td>7</td>\n",
       "      <td>3</td>\n",
       "    </tr>\n",
       "    <tr>\n",
       "      <td>...</td>\n",
       "      <td>...</td>\n",
       "      <td>...</td>\n",
       "      <td>...</td>\n",
       "      <td>...</td>\n",
       "      <td>...</td>\n",
       "      <td>...</td>\n",
       "      <td>...</td>\n",
       "      <td>...</td>\n",
       "      <td>...</td>\n",
       "      <td>...</td>\n",
       "      <td>...</td>\n",
       "      <td>...</td>\n",
       "      <td>...</td>\n",
       "      <td>...</td>\n",
       "      <td>...</td>\n",
       "    </tr>\n",
       "    <tr>\n",
       "      <td>700544</td>\n",
       "      <td>3269173</td>\n",
       "      <td>3</td>\n",
       "      <td>North</td>\n",
       "      <td>Local</td>\n",
       "      <td>0x1392c0</td>\n",
       "      <td>GETS</td>\n",
       "      <td>0</td>\n",
       "      <td>3</td>\n",
       "      <td>2</td>\n",
       "      <td>11</td>\n",
       "      <td>3</td>\n",
       "      <td>3</td>\n",
       "      <td>27</td>\n",
       "      <td>11</td>\n",
       "      <td>3269141</td>\n",
       "    </tr>\n",
       "    <tr>\n",
       "      <td>700545</td>\n",
       "      <td>3269176</td>\n",
       "      <td>7</td>\n",
       "      <td>North</td>\n",
       "      <td>South</td>\n",
       "      <td>0x2432c0</td>\n",
       "      <td>PUTX</td>\n",
       "      <td>4</td>\n",
       "      <td>2</td>\n",
       "      <td>2</td>\n",
       "      <td>8</td>\n",
       "      <td>3</td>\n",
       "      <td>3</td>\n",
       "      <td>27</td>\n",
       "      <td>11</td>\n",
       "      <td>3269140</td>\n",
       "    </tr>\n",
       "    <tr>\n",
       "      <td>700546</td>\n",
       "      <td>3269177</td>\n",
       "      <td>7</td>\n",
       "      <td>North</td>\n",
       "      <td>South</td>\n",
       "      <td>0x1392c0</td>\n",
       "      <td>GETS</td>\n",
       "      <td>0</td>\n",
       "      <td>3</td>\n",
       "      <td>2</td>\n",
       "      <td>9</td>\n",
       "      <td>3</td>\n",
       "      <td>3</td>\n",
       "      <td>27</td>\n",
       "      <td>11</td>\n",
       "      <td>3269141</td>\n",
       "    </tr>\n",
       "    <tr>\n",
       "      <td>700547</td>\n",
       "      <td>3269180</td>\n",
       "      <td>11</td>\n",
       "      <td>Local</td>\n",
       "      <td>South</td>\n",
       "      <td>0x2432c0</td>\n",
       "      <td>PUTX</td>\n",
       "      <td>4</td>\n",
       "      <td>2</td>\n",
       "      <td>2</td>\n",
       "      <td>8</td>\n",
       "      <td>3</td>\n",
       "      <td>3</td>\n",
       "      <td>27</td>\n",
       "      <td>11</td>\n",
       "      <td>3269140</td>\n",
       "    </tr>\n",
       "    <tr>\n",
       "      <td>700548</td>\n",
       "      <td>3269181</td>\n",
       "      <td>11</td>\n",
       "      <td>Local</td>\n",
       "      <td>South</td>\n",
       "      <td>0x1392c0</td>\n",
       "      <td>GETS</td>\n",
       "      <td>0</td>\n",
       "      <td>3</td>\n",
       "      <td>2</td>\n",
       "      <td>9</td>\n",
       "      <td>3</td>\n",
       "      <td>3</td>\n",
       "      <td>27</td>\n",
       "      <td>11</td>\n",
       "      <td>3269141</td>\n",
       "    </tr>\n",
       "  </tbody>\n",
       "</table>\n",
       "<p>700549 rows × 15 columns</p>\n",
       "</div>"
      ],
      "text/plain": [
       "           time  router outport inport packet_address packet_type  flit_id  \\\n",
       "0             7       0    East  Local         0x1dc0        GETS        0   \n",
       "1             7       3   North  Local        0xeddc0        GETS        0   \n",
       "2            11       7   Local  South        0xeddc0        GETS        0   \n",
       "3            11       1    East   West         0x1dc0        GETS        0   \n",
       "4            15       2    East   West         0x1dc0        GETS        0   \n",
       "...         ...     ...     ...    ...            ...         ...      ...   \n",
       "700544  3269173       3   North  Local       0x1392c0        GETS        0   \n",
       "700545  3269176       7   North  South       0x2432c0        PUTX        4   \n",
       "700546  3269177       7   North  South       0x1392c0        GETS        0   \n",
       "700547  3269180      11   Local  South       0x2432c0        PUTX        4   \n",
       "700548  3269181      11   Local  South       0x1392c0        GETS        0   \n",
       "\n",
       "        flit_type  vnet  vc  src_ni  src_router  dst_ni  dst_router  enq_time  \n",
       "0               3     2   8       0           0      23           7         3  \n",
       "1               3     2   8       3           3      23           7         3  \n",
       "2               3     2   8       3           3      23           7         3  \n",
       "3               3     2   8       0           0      23           7         3  \n",
       "4               3     2   8       0           0      23           7         3  \n",
       "...           ...   ...  ..     ...         ...     ...         ...       ...  \n",
       "700544          3     2  11       3           3      27          11   3269141  \n",
       "700545          2     2   8       3           3      27          11   3269140  \n",
       "700546          3     2   9       3           3      27          11   3269141  \n",
       "700547          2     2   8       3           3      27          11   3269140  \n",
       "700548          3     2   9       3           3      27          11   3269141  \n",
       "\n",
       "[700549 rows x 15 columns]"
      ]
     },
     "execution_count": 6,
     "metadata": {},
     "output_type": "execute_result"
    }
   ],
   "source": [
    "#dataset\n",
    "df = pd.read_csv('2-fft-normal-n-0-3.csv')\n",
    "df"
   ]
  },
  {
   "cell_type": "code",
   "execution_count": 7,
   "metadata": {},
   "outputs": [
    {
     "data": {
      "text/plain": [
       "time               int64\n",
       "router             int64\n",
       "outport           object\n",
       "inport            object\n",
       "packet_address    object\n",
       "packet_type       object\n",
       "flit_id            int64\n",
       "flit_type          int64\n",
       "vnet               int64\n",
       "vc                 int64\n",
       "src_ni             int64\n",
       "src_router         int64\n",
       "dst_ni             int64\n",
       "dst_router         int64\n",
       "enq_time           int64\n",
       "dtype: object"
      ]
     },
     "execution_count": 7,
     "metadata": {},
     "output_type": "execute_result"
    }
   ],
   "source": [
    "df.dtypes"
   ]
  },
  {
   "cell_type": "code",
   "execution_count": 8,
   "metadata": {},
   "outputs": [
    {
     "data": {
      "text/plain": [
       "(700549, 15)"
      ]
     },
     "execution_count": 8,
     "metadata": {},
     "output_type": "execute_result"
    }
   ],
   "source": [
    "df.shape"
   ]
  },
  {
   "cell_type": "code",
   "execution_count": 9,
   "metadata": {},
   "outputs": [
    {
     "data": {
      "text/html": [
       "<div>\n",
       "<style scoped>\n",
       "    .dataframe tbody tr th:only-of-type {\n",
       "        vertical-align: middle;\n",
       "    }\n",
       "\n",
       "    .dataframe tbody tr th {\n",
       "        vertical-align: top;\n",
       "    }\n",
       "\n",
       "    .dataframe thead th {\n",
       "        text-align: right;\n",
       "    }\n",
       "</style>\n",
       "<table border=\"1\" class=\"dataframe\">\n",
       "  <thead>\n",
       "    <tr style=\"text-align: right;\">\n",
       "      <th></th>\n",
       "      <th>time</th>\n",
       "      <th>router</th>\n",
       "      <th>flit_id</th>\n",
       "      <th>flit_type</th>\n",
       "      <th>vnet</th>\n",
       "      <th>vc</th>\n",
       "      <th>src_ni</th>\n",
       "      <th>src_router</th>\n",
       "      <th>dst_ni</th>\n",
       "      <th>dst_router</th>\n",
       "      <th>enq_time</th>\n",
       "    </tr>\n",
       "  </thead>\n",
       "  <tbody>\n",
       "    <tr>\n",
       "      <td>count</td>\n",
       "      <td>7.005490e+05</td>\n",
       "      <td>700549.000000</td>\n",
       "      <td>700549.000000</td>\n",
       "      <td>700549.000000</td>\n",
       "      <td>700549.000000</td>\n",
       "      <td>700549.000000</td>\n",
       "      <td>700549.000000</td>\n",
       "      <td>700549.000000</td>\n",
       "      <td>700549.000000</td>\n",
       "      <td>700549.000000</td>\n",
       "      <td>7.005490e+05</td>\n",
       "    </tr>\n",
       "    <tr>\n",
       "      <td>mean</td>\n",
       "      <td>1.788912e+06</td>\n",
       "      <td>5.446174</td>\n",
       "      <td>1.593921</td>\n",
       "      <td>1.406079</td>\n",
       "      <td>2.597175</td>\n",
       "      <td>10.881910</td>\n",
       "      <td>15.964067</td>\n",
       "      <td>5.328500</td>\n",
       "      <td>15.889230</td>\n",
       "      <td>5.552834</td>\n",
       "      <td>1.788890e+06</td>\n",
       "    </tr>\n",
       "    <tr>\n",
       "      <td>std</td>\n",
       "      <td>1.083298e+06</td>\n",
       "      <td>4.141479</td>\n",
       "      <td>1.497058</td>\n",
       "      <td>0.982875</td>\n",
       "      <td>0.915277</td>\n",
       "      <td>3.693611</td>\n",
       "      <td>10.793707</td>\n",
       "      <td>4.250217</td>\n",
       "      <td>11.136621</td>\n",
       "      <td>4.489062</td>\n",
       "      <td>1.083297e+06</td>\n",
       "    </tr>\n",
       "    <tr>\n",
       "      <td>min</td>\n",
       "      <td>7.000000e+00</td>\n",
       "      <td>0.000000</td>\n",
       "      <td>0.000000</td>\n",
       "      <td>0.000000</td>\n",
       "      <td>2.000000</td>\n",
       "      <td>8.000000</td>\n",
       "      <td>0.000000</td>\n",
       "      <td>0.000000</td>\n",
       "      <td>0.000000</td>\n",
       "      <td>0.000000</td>\n",
       "      <td>3.000000e+00</td>\n",
       "    </tr>\n",
       "    <tr>\n",
       "      <td>25%</td>\n",
       "      <td>7.578930e+05</td>\n",
       "      <td>2.000000</td>\n",
       "      <td>0.000000</td>\n",
       "      <td>1.000000</td>\n",
       "      <td>2.000000</td>\n",
       "      <td>8.000000</td>\n",
       "      <td>3.000000</td>\n",
       "      <td>3.000000</td>\n",
       "      <td>3.000000</td>\n",
       "      <td>3.000000</td>\n",
       "      <td>7.578820e+05</td>\n",
       "    </tr>\n",
       "    <tr>\n",
       "      <td>50%</td>\n",
       "      <td>1.856668e+06</td>\n",
       "      <td>4.000000</td>\n",
       "      <td>1.000000</td>\n",
       "      <td>1.000000</td>\n",
       "      <td>2.000000</td>\n",
       "      <td>9.000000</td>\n",
       "      <td>20.000000</td>\n",
       "      <td>4.000000</td>\n",
       "      <td>20.000000</td>\n",
       "      <td>4.000000</td>\n",
       "      <td>1.856635e+06</td>\n",
       "    </tr>\n",
       "    <tr>\n",
       "      <td>75%</td>\n",
       "      <td>2.728208e+06</td>\n",
       "      <td>8.000000</td>\n",
       "      <td>3.000000</td>\n",
       "      <td>2.000000</td>\n",
       "      <td>4.000000</td>\n",
       "      <td>16.000000</td>\n",
       "      <td>24.000000</td>\n",
       "      <td>8.000000</td>\n",
       "      <td>25.000000</td>\n",
       "      <td>9.000000</td>\n",
       "      <td>2.728188e+06</td>\n",
       "    </tr>\n",
       "    <tr>\n",
       "      <td>max</td>\n",
       "      <td>3.269181e+06</td>\n",
       "      <td>15.000000</td>\n",
       "      <td>4.000000</td>\n",
       "      <td>3.000000</td>\n",
       "      <td>4.000000</td>\n",
       "      <td>19.000000</td>\n",
       "      <td>31.000000</td>\n",
       "      <td>15.000000</td>\n",
       "      <td>31.000000</td>\n",
       "      <td>15.000000</td>\n",
       "      <td>3.269141e+06</td>\n",
       "    </tr>\n",
       "  </tbody>\n",
       "</table>\n",
       "</div>"
      ],
      "text/plain": [
       "               time         router        flit_id      flit_type  \\\n",
       "count  7.005490e+05  700549.000000  700549.000000  700549.000000   \n",
       "mean   1.788912e+06       5.446174       1.593921       1.406079   \n",
       "std    1.083298e+06       4.141479       1.497058       0.982875   \n",
       "min    7.000000e+00       0.000000       0.000000       0.000000   \n",
       "25%    7.578930e+05       2.000000       0.000000       1.000000   \n",
       "50%    1.856668e+06       4.000000       1.000000       1.000000   \n",
       "75%    2.728208e+06       8.000000       3.000000       2.000000   \n",
       "max    3.269181e+06      15.000000       4.000000       3.000000   \n",
       "\n",
       "                vnet             vc         src_ni     src_router  \\\n",
       "count  700549.000000  700549.000000  700549.000000  700549.000000   \n",
       "mean        2.597175      10.881910      15.964067       5.328500   \n",
       "std         0.915277       3.693611      10.793707       4.250217   \n",
       "min         2.000000       8.000000       0.000000       0.000000   \n",
       "25%         2.000000       8.000000       3.000000       3.000000   \n",
       "50%         2.000000       9.000000      20.000000       4.000000   \n",
       "75%         4.000000      16.000000      24.000000       8.000000   \n",
       "max         4.000000      19.000000      31.000000      15.000000   \n",
       "\n",
       "              dst_ni     dst_router      enq_time  \n",
       "count  700549.000000  700549.000000  7.005490e+05  \n",
       "mean       15.889230       5.552834  1.788890e+06  \n",
       "std        11.136621       4.489062  1.083297e+06  \n",
       "min         0.000000       0.000000  3.000000e+00  \n",
       "25%         3.000000       3.000000  7.578820e+05  \n",
       "50%        20.000000       4.000000  1.856635e+06  \n",
       "75%        25.000000       9.000000  2.728188e+06  \n",
       "max        31.000000      15.000000  3.269141e+06  "
      ]
     },
     "execution_count": 9,
     "metadata": {},
     "output_type": "execute_result"
    }
   ],
   "source": [
    "df.describe()"
   ]
  },
  {
   "cell_type": "code",
   "execution_count": 10,
   "metadata": {},
   "outputs": [
    {
     "data": {
      "text/plain": [
       "<matplotlib.axes._subplots.AxesSubplot at 0x2de3912c848>"
      ]
     },
     "execution_count": 10,
     "metadata": {},
     "output_type": "execute_result"
    },
    {
     "data": {
      "image/png": "[encoded data removed]",
      "text/plain": [
       "<Figure size 432x288 with 1 Axes>"
      ]
     },
     "metadata": {
      "needs_background": "light"
     },
     "output_type": "display_data"
    }
   ],
   "source": [
    "sns.distplot(df['router'], kde = False, bins=30, color='blue')"
   ]
  },
  {
   "cell_type": "code",
   "execution_count": 11,
   "metadata": {},
   "outputs": [
    {
     "data": {
      "text/plain": [
       "<matplotlib.axes._subplots.AxesSubplot at 0x2de38d753c8>"
      ]
     },
     "execution_count": 11,
     "metadata": {},
     "output_type": "execute_result"
    },
    {
     "data": {
      "image/png": "[encoded data removed]",
      "text/plain": [
       "<Figure size 432x288 with 1 Axes>"
      ]
     },
     "metadata": {
      "needs_background": "light"
     },
     "output_type": "display_data"
    }
   ],
   "source": [
    "sns.distplot(df['src_router'], kde = False, bins=30, color='blue')"
   ]
  },
  {
   "cell_type": "code",
   "execution_count": 12,
   "metadata": {},
   "outputs": [
    {
     "data": {
      "text/plain": [
       "<matplotlib.axes._subplots.AxesSubplot at 0x2de38e307c8>"
      ]
     },
     "execution_count": 12,
     "metadata": {},
     "output_type": "execute_result"
    },
    {
     "data": {
      "image/png": "[encoded data removed]",
      "text/plain": [
       "<Figure size 432x288 with 1 Axes>"
      ]
     },
     "metadata": {
      "needs_background": "light"
     },
     "output_type": "display_data"
    }
   ],
   "source": [
    "sns.distplot(df['dst_router'], kde = False, bins=30, color='red')"
   ]
  },
  {
   "cell_type": "code",
   "execution_count": 13,
   "metadata": {},
   "outputs": [
    {
     "data": {
      "text/plain": [
       "<matplotlib.axes._subplots.AxesSubplot at 0x2de38f05088>"
      ]
     },
     "execution_count": 13,
     "metadata": {},
     "output_type": "execute_result"
    },
    {
     "data": {
      "image/png": "[encoded data removed]",
      "text/plain": [
       "<Figure size 432x288 with 1 Axes>"
      ]
     },
     "metadata": {
      "needs_background": "light"
     },
     "output_type": "display_data"
    }
   ],
   "source": [
    "sns.distplot(df['inport'], kde = False, bins=30, color='green')"
   ]
  },
  {
   "cell_type": "code",
   "execution_count": 14,
   "metadata": {},
   "outputs": [
    {
     "data": {
      "text/plain": [
       "<matplotlib.axes._subplots.AxesSubplot at 0x2de38fcc948>"
      ]
     },
     "execution_count": 14,
     "metadata": {},
     "output_type": "execute_result"
    },
    {
     "data": {
      "image/png": "[encoded data removed]",
      "text/plain": [
       "<Figure size 432x288 with 1 Axes>"
      ]
     },
     "metadata": {
      "needs_background": "light"
     },
     "output_type": "display_data"
    }
   ],
   "source": [
    "sns.distplot(df['outport'], kde = False, bins=30, color='green')"
   ]
  },
  {
   "cell_type": "code",
   "execution_count": 15,
   "metadata": {},
   "outputs": [
    {
     "data": {
      "text/plain": [
       "<matplotlib.axes._subplots.AxesSubplot at 0x2de39098ec8>"
      ]
     },
     "execution_count": 15,
     "metadata": {},
     "output_type": "execute_result"
    },
    {
     "data": {
      "image/png": "[encoded data removed]",
      "text/plain": [
       "<Figure size 432x288 with 1 Axes>"
      ]
     },
     "metadata": {
      "needs_background": "light"
     },
     "output_type": "display_data"
    }
   ],
   "source": [
    "sns.distplot(df['packet_type'], kde = False, bins=30, color='red')"
   ]
  },
  {
   "cell_type": "code",
   "execution_count": 16,
   "metadata": {},
   "outputs": [],
   "source": [
    "direction = {'Local': 0,'North': 1, 'East': 2, 'South':3,'West':4}\n",
    "df = df.replace({'inport': direction, 'outport': direction})"
   ]
  },
  {
   "cell_type": "code",
   "execution_count": 17,
   "metadata": {},
   "outputs": [],
   "source": [
    "data = {'GETS': 1,'GETX': 2,'GUX': 3,'DATA': 4, 'PUTX': 5,'PUTS': 6,'WB_ACK':7}\n",
    "df = df.replace({'packet_type': data})"
   ]
  },
  {
   "cell_type": "code",
   "execution_count": 18,
   "metadata": {},
   "outputs": [],
   "source": [
    "df['flit_id'] = df['flit_id']+1\n",
    "df['flit_type'] = df['flit_type']+1\n",
    "df['vnet'] = df['vnet']+1\n",
    "df['vc'] = df['vc']+1"
   ]
  },
  {
   "cell_type": "code",
   "execution_count": 19,
   "metadata": {},
   "outputs": [
    {
     "data": {
      "text/plain": [
       "time               int64\n",
       "router             int64\n",
       "outport            int64\n",
       "inport             int64\n",
       "packet_address    object\n",
       "packet_type        int64\n",
       "flit_id            int64\n",
       "flit_type          int64\n",
       "vnet               int64\n",
       "vc                 int64\n",
       "src_ni             int64\n",
       "src_router         int64\n",
       "dst_ni             int64\n",
       "dst_router         int64\n",
       "enq_time           int64\n",
       "dtype: object"
      ]
     },
     "execution_count": 19,
     "metadata": {},
     "output_type": "execute_result"
    }
   ],
   "source": [
    "df.dtypes"
   ]
  },
  {
   "cell_type": "code",
   "execution_count": 20,
   "metadata": {},
   "outputs": [],
   "source": [
    "hoparr = {\"0to0\":0,\"0to1\":1,\"0to2\":2,\"0to3\":3,\"0to4\":1,\"0to5\":2,\"0to6\":3,\"0to7\":4,\"0to8\":2,\"0to9\":3,\"0to10\":4,\"0to11\":5,\"0to12\":3,\"0to13\":4,\"0to14\":5,\"0to15\":6,\n",
    "         \"1to1\":0,\"1to2\":1,\"1to3\":2,\"1to4\":2,\"1to5\":1,\"1to6\":2,\"1to7\":3,\"1to8\":3,\"1to9\":2,\"1to10\":3,\"1to11\":4,\"1to12\":5,\"1to13\":3,\"1to14\":4,\"1to15\":5,\n",
    "         \"2to2\":0,\"2to3\":1,\"2to4\":3,\"2to5\":2,\"2to6\":1,\"2to7\":2,\"2to8\":4,\"2to9\":3,\"2to10\":2,\"2to11\":3,\"2to12\":5,\"2to13\":4,\"2to14\":3,\"2to15\":4,\n",
    "         \"3to3\":0,\"3to4\":4,\"3to5\":3,\"3to6\":2,\"3to7\":1,\"3to8\":5,\"3to9\":4,\"3to10\":3,\"3to11\":2,\"3to12\":6,\"3to13\":5,\"3to14\":4,\"3to15\":3,\n",
    "         \"4to4\":0,\"4to5\":1,\"4to6\":2,\"4to7\":3,\"4to8\":1,\"4to9\":2,\"4to10\":3,\"4to11\":4,\"4to12\":2,\"4to13\":3,\"4to14\":4,\"4to15\":5,\n",
    "         \"5to5\":0,\"5to6\":1,\"5to7\":2,\"5to8\":2,\"5to9\":1,\"5to10\":2,\"5to11\":3,\"5to12\":3,\"5to13\":2,\"5to14\":3,\"5to15\":4,\n",
    "         \"6to6\":0,\"6to7\":1,\"6to8\":3,\"6to9\":2,\"6to10\":1,\"6to11\":2,\"6to12\":4,\"6to13\":3,\"6to14\":2,\"6to15\":3,\n",
    "         \"7to7\":0,\"7to8\":4,\"7to9\":3,\"7to10\":2,\"7to11\":1,\"7to12\":5,\"7to13\":4,\"7to14\":3,\"7to15\":2,\n",
    "         \"8to8\":0,\"8to9\":1,\"8to10\":2,\"8to11\":3,\"8to12\":1,\"8to13\":2,\"8to14\":3,\"8to15\":4,\n",
    "         \"9to9\":0,\"9to10\":1,\"9to11\":2,\"9to12\":2,\"9to13\":1,\"9to14\":2,\"9to15\":4,\n",
    "         \"10to10\":0,\"10to11\":1,\"10to12\":3,\"10to13\":2,\"10to14\":1,\"10to15\":2,\n",
    "         \"11to11\":0,\"11to12\":4,\"11to13\":3,\"11to14\":2,\"11to15\":1,\n",
    "         \"12to12\":0,\"12to13\":1,\"12to14\":2,\"12to15\":3,\n",
    "         \"13to13\":0,\"13to14\":1,\"13to15\":2,\n",
    "         \"14to14\":0,\"14to15\":1,\n",
    "         \"15to15\":0}"
   ]
  },
  {
   "cell_type": "code",
   "execution_count": 22,
   "metadata": {},
   "outputs": [],
   "source": [
    "packarr = {}\n",
    "packtime = {}\n",
    "packchunk = []\n",
    "hopcurrentarr = []\n",
    "hoptotarr = []\n",
    "hoppercentarr =[]\n",
    "waitingarr = []\n",
    "interval = 500\n",
    "count = 0\n",
    "for index, row in df.iterrows():\n",
    "    current_time = row[\"time\"]\n",
    "    enqueue_time = row[\"enq_time\"]\n",
    "    waiting_time = current_time - enqueue_time\n",
    "    waitingarr.append(waiting_time)\n",
    "    current_router = row[\"router\"]\n",
    "    src_router = row[\"src_router\"]\n",
    "    dst_router = row[\"dst_router\"]\n",
    "    src_router_temp = src_router\n",
    "    if src_router_temp>dst_router:\n",
    "        temph = src_router_temp\n",
    "        src_router_temp = dst_router\n",
    "        dst_router = temph\n",
    "    hop_count_string = str(src_router_temp)+\"to\"+str(dst_router)\n",
    "    src_router_temp = src_router\n",
    "    hop_count = hoparr.get(hop_count_string)\n",
    "    if src_router_temp>current_router:\n",
    "        tempc = src_router_temp\n",
    "        src_router_temp = current_router\n",
    "        current_router = tempc\n",
    "    current_hop_string = str(src_router_temp)+\"to\"+str(current_router)\n",
    "    current_hop = hoparr.get(current_hop_string)\n",
    "    if(current_hop == 0 and hop_count ==0):\n",
    "        hop_percent = 0\n",
    "    else:\n",
    "        hop_percent = current_hop/hop_count\n",
    "    hoptotarr.append(hop_count)\n",
    "    hopcurrentarr.append(current_hop)\n",
    "    hoppercentarr.append(hop_percent)\n",
    "    if row[\"packet_address\"] not in packarr:\n",
    "        packarr[row[\"packet_address\"]] = count\n",
    "        packtime[row[\"packet_address\"]] = row[\"time\"]\n",
    "        packchunk.append(packarr.get(row[\"packet_address\"]))\n",
    "        count+=1\n",
    "    else:\n",
    "        current_time = row[\"time\"]\n",
    "        position = packarr.get(row[\"packet_address\"])\n",
    "        pkt_time = packtime.get(row[\"packet_address\"])\n",
    "        current_max = max(packarr.values())\n",
    "        if (current_time-pkt_time)<interval:\n",
    "            packchunk.append(packarr.get(row[\"packet_address\"]))\n",
    "        else:\n",
    "            del packarr[row[\"packet_address\"]]\n",
    "            del packtime[row[\"packet_address\"]]\n",
    "            packarr[row[\"packet_address\"]] = current_max+1\n",
    "            packtime[row[\"packet_address\"]] = row[\"time\"]\n",
    "            packchunk.append(packarr.get(row[\"packet_address\"]))\n",
    "            if (current_max)==count:\n",
    "                count+=2\n",
    "            elif (current_max+1)==count:\n",
    "                count+=1"
   ]
  },
  {
   "cell_type": "code",
   "execution_count": 23,
   "metadata": {},
   "outputs": [
    {
     "data": {
      "text/plain": [
       "3826"
      ]
     },
     "execution_count": 23,
     "metadata": {},
     "output_type": "execute_result"
    }
   ],
   "source": [
    "df['packet_address'].nunique()"
   ]
  },
  {
   "cell_type": "code",
   "execution_count": 24,
   "metadata": {},
   "outputs": [
    {
     "name": "stdout",
     "output_type": "stream",
     "text": [
      "3826\n"
     ]
    }
   ],
   "source": [
    "print(len(packarr))"
   ]
  },
  {
   "cell_type": "code",
   "execution_count": 25,
   "metadata": {},
   "outputs": [
    {
     "name": "stdout",
     "output_type": "stream",
     "text": [
      "700549\n"
     ]
    }
   ],
   "source": [
    "print(len(packchunk))"
   ]
  },
  {
   "cell_type": "code",
   "execution_count": 26,
   "metadata": {},
   "outputs": [],
   "source": [
    "df = df.assign(traversal_id=packchunk)\n",
    "df = df.assign(hop_count=hoptotarr)\n",
    "df = df.assign(current_hop=hopcurrentarr)\n",
    "df = df.assign(hop_percentage=hoppercentarr)\n",
    "df = df.assign(enqueue_time=waitingarr)"
   ]
  },
  {
   "cell_type": "code",
   "execution_count": 27,
   "metadata": {},
   "outputs": [],
   "source": [
    "df.rename(columns={'packet_type': 'cache_coherence_type', 'time': 'timestamp'}, inplace=True)"
   ]
  },
  {
   "cell_type": "code",
   "execution_count": 28,
   "metadata": {},
   "outputs": [],
   "source": [
    "df = df.drop(columns=['packet_address','enq_time'])"
   ]
  },
  {
   "cell_type": "code",
   "execution_count": 29,
   "metadata": {},
   "outputs": [
    {
     "data": {
      "text/plain": [
       "timestamp               0\n",
       "router                  0\n",
       "outport                 0\n",
       "inport                  0\n",
       "cache_coherence_type    0\n",
       "flit_id                 0\n",
       "flit_type               0\n",
       "vnet                    0\n",
       "vc                      0\n",
       "src_ni                  0\n",
       "src_router              0\n",
       "dst_ni                  0\n",
       "dst_router              0\n",
       "traversal_id            0\n",
       "hop_count               0\n",
       "current_hop             0\n",
       "hop_percentage          0\n",
       "enqueue_time            0\n",
       "dtype: int64"
      ]
     },
     "execution_count": 29,
     "metadata": {},
     "output_type": "execute_result"
    }
   ],
   "source": [
    "df.isnull().sum()"
   ]
  },
  {
   "cell_type": "code",
   "execution_count": 30,
   "metadata": {},
   "outputs": [
    {
     "data": {
      "text/plain": [
       "timestamp                 int64\n",
       "router                    int64\n",
       "outport                   int64\n",
       "inport                    int64\n",
       "cache_coherence_type      int64\n",
       "flit_id                   int64\n",
       "flit_type                 int64\n",
       "vnet                      int64\n",
       "vc                        int64\n",
       "src_ni                    int64\n",
       "src_router                int64\n",
       "dst_ni                    int64\n",
       "dst_router                int64\n",
       "traversal_id              int64\n",
       "hop_count                 int64\n",
       "current_hop               int64\n",
       "hop_percentage          float64\n",
       "enqueue_time              int64\n",
       "dtype: object"
      ]
     },
     "execution_count": 30,
     "metadata": {},
     "output_type": "execute_result"
    }
   ],
   "source": [
    "df.dtypes"
   ]
  },
  {
   "cell_type": "code",
   "execution_count": 31,
   "metadata": {},
   "outputs": [
    {
     "data": {
      "text/html": [
       "<div>\n",
       "<style scoped>\n",
       "    .dataframe tbody tr th:only-of-type {\n",
       "        vertical-align: middle;\n",
       "    }\n",
       "\n",
       "    .dataframe tbody tr th {\n",
       "        vertical-align: top;\n",
       "    }\n",
       "\n",
       "    .dataframe thead th {\n",
       "        text-align: right;\n",
       "    }\n",
       "</style>\n",
       "<table border=\"1\" class=\"dataframe\">\n",
       "  <thead>\n",
       "    <tr style=\"text-align: right;\">\n",
       "      <th></th>\n",
       "      <th>timestamp</th>\n",
       "      <th>router</th>\n",
       "      <th>outport</th>\n",
       "      <th>inport</th>\n",
       "      <th>cache_coherence_type</th>\n",
       "      <th>flit_id</th>\n",
       "      <th>flit_type</th>\n",
       "      <th>vnet</th>\n",
       "      <th>vc</th>\n",
       "      <th>src_ni</th>\n",
       "      <th>src_router</th>\n",
       "      <th>dst_ni</th>\n",
       "      <th>dst_router</th>\n",
       "      <th>traversal_id</th>\n",
       "      <th>hop_count</th>\n",
       "      <th>current_hop</th>\n",
       "      <th>hop_percentage</th>\n",
       "      <th>enqueue_time</th>\n",
       "    </tr>\n",
       "  </thead>\n",
       "  <tbody>\n",
       "    <tr>\n",
       "      <td>0</td>\n",
       "      <td>7</td>\n",
       "      <td>0</td>\n",
       "      <td>2</td>\n",
       "      <td>0</td>\n",
       "      <td>1</td>\n",
       "      <td>1</td>\n",
       "      <td>4</td>\n",
       "      <td>3</td>\n",
       "      <td>9</td>\n",
       "      <td>0</td>\n",
       "      <td>0</td>\n",
       "      <td>23</td>\n",
       "      <td>7</td>\n",
       "      <td>0</td>\n",
       "      <td>4</td>\n",
       "      <td>0</td>\n",
       "      <td>0.00</td>\n",
       "      <td>4</td>\n",
       "    </tr>\n",
       "    <tr>\n",
       "      <td>1</td>\n",
       "      <td>7</td>\n",
       "      <td>3</td>\n",
       "      <td>1</td>\n",
       "      <td>0</td>\n",
       "      <td>1</td>\n",
       "      <td>1</td>\n",
       "      <td>4</td>\n",
       "      <td>3</td>\n",
       "      <td>9</td>\n",
       "      <td>3</td>\n",
       "      <td>3</td>\n",
       "      <td>23</td>\n",
       "      <td>7</td>\n",
       "      <td>1</td>\n",
       "      <td>1</td>\n",
       "      <td>0</td>\n",
       "      <td>0.00</td>\n",
       "      <td>4</td>\n",
       "    </tr>\n",
       "    <tr>\n",
       "      <td>2</td>\n",
       "      <td>11</td>\n",
       "      <td>7</td>\n",
       "      <td>0</td>\n",
       "      <td>3</td>\n",
       "      <td>1</td>\n",
       "      <td>1</td>\n",
       "      <td>4</td>\n",
       "      <td>3</td>\n",
       "      <td>9</td>\n",
       "      <td>3</td>\n",
       "      <td>3</td>\n",
       "      <td>23</td>\n",
       "      <td>7</td>\n",
       "      <td>1</td>\n",
       "      <td>1</td>\n",
       "      <td>1</td>\n",
       "      <td>1.00</td>\n",
       "      <td>8</td>\n",
       "    </tr>\n",
       "    <tr>\n",
       "      <td>3</td>\n",
       "      <td>11</td>\n",
       "      <td>1</td>\n",
       "      <td>2</td>\n",
       "      <td>4</td>\n",
       "      <td>1</td>\n",
       "      <td>1</td>\n",
       "      <td>4</td>\n",
       "      <td>3</td>\n",
       "      <td>9</td>\n",
       "      <td>0</td>\n",
       "      <td>0</td>\n",
       "      <td>23</td>\n",
       "      <td>7</td>\n",
       "      <td>0</td>\n",
       "      <td>4</td>\n",
       "      <td>1</td>\n",
       "      <td>0.25</td>\n",
       "      <td>8</td>\n",
       "    </tr>\n",
       "    <tr>\n",
       "      <td>4</td>\n",
       "      <td>15</td>\n",
       "      <td>2</td>\n",
       "      <td>2</td>\n",
       "      <td>4</td>\n",
       "      <td>1</td>\n",
       "      <td>1</td>\n",
       "      <td>4</td>\n",
       "      <td>3</td>\n",
       "      <td>9</td>\n",
       "      <td>0</td>\n",
       "      <td>0</td>\n",
       "      <td>23</td>\n",
       "      <td>7</td>\n",
       "      <td>0</td>\n",
       "      <td>4</td>\n",
       "      <td>2</td>\n",
       "      <td>0.50</td>\n",
       "      <td>12</td>\n",
       "    </tr>\n",
       "    <tr>\n",
       "      <td>5</td>\n",
       "      <td>19</td>\n",
       "      <td>3</td>\n",
       "      <td>1</td>\n",
       "      <td>4</td>\n",
       "      <td>1</td>\n",
       "      <td>1</td>\n",
       "      <td>4</td>\n",
       "      <td>3</td>\n",
       "      <td>9</td>\n",
       "      <td>0</td>\n",
       "      <td>0</td>\n",
       "      <td>23</td>\n",
       "      <td>7</td>\n",
       "      <td>0</td>\n",
       "      <td>4</td>\n",
       "      <td>3</td>\n",
       "      <td>0.75</td>\n",
       "      <td>16</td>\n",
       "    </tr>\n",
       "    <tr>\n",
       "      <td>6</td>\n",
       "      <td>23</td>\n",
       "      <td>7</td>\n",
       "      <td>0</td>\n",
       "      <td>3</td>\n",
       "      <td>1</td>\n",
       "      <td>1</td>\n",
       "      <td>4</td>\n",
       "      <td>3</td>\n",
       "      <td>9</td>\n",
       "      <td>0</td>\n",
       "      <td>0</td>\n",
       "      <td>23</td>\n",
       "      <td>7</td>\n",
       "      <td>0</td>\n",
       "      <td>4</td>\n",
       "      <td>4</td>\n",
       "      <td>1.00</td>\n",
       "      <td>20</td>\n",
       "    </tr>\n",
       "    <tr>\n",
       "      <td>7</td>\n",
       "      <td>50</td>\n",
       "      <td>7</td>\n",
       "      <td>3</td>\n",
       "      <td>0</td>\n",
       "      <td>4</td>\n",
       "      <td>1</td>\n",
       "      <td>1</td>\n",
       "      <td>5</td>\n",
       "      <td>17</td>\n",
       "      <td>23</td>\n",
       "      <td>7</td>\n",
       "      <td>3</td>\n",
       "      <td>3</td>\n",
       "      <td>1</td>\n",
       "      <td>1</td>\n",
       "      <td>0</td>\n",
       "      <td>0.00</td>\n",
       "      <td>4</td>\n",
       "    </tr>\n",
       "    <tr>\n",
       "      <td>8</td>\n",
       "      <td>51</td>\n",
       "      <td>7</td>\n",
       "      <td>3</td>\n",
       "      <td>0</td>\n",
       "      <td>4</td>\n",
       "      <td>2</td>\n",
       "      <td>2</td>\n",
       "      <td>5</td>\n",
       "      <td>17</td>\n",
       "      <td>23</td>\n",
       "      <td>7</td>\n",
       "      <td>3</td>\n",
       "      <td>3</td>\n",
       "      <td>1</td>\n",
       "      <td>1</td>\n",
       "      <td>0</td>\n",
       "      <td>0.00</td>\n",
       "      <td>5</td>\n",
       "    </tr>\n",
       "    <tr>\n",
       "      <td>9</td>\n",
       "      <td>52</td>\n",
       "      <td>7</td>\n",
       "      <td>3</td>\n",
       "      <td>0</td>\n",
       "      <td>4</td>\n",
       "      <td>3</td>\n",
       "      <td>2</td>\n",
       "      <td>5</td>\n",
       "      <td>17</td>\n",
       "      <td>23</td>\n",
       "      <td>7</td>\n",
       "      <td>3</td>\n",
       "      <td>3</td>\n",
       "      <td>1</td>\n",
       "      <td>1</td>\n",
       "      <td>0</td>\n",
       "      <td>0.00</td>\n",
       "      <td>6</td>\n",
       "    </tr>\n",
       "  </tbody>\n",
       "</table>\n",
       "</div>"
      ],
      "text/plain": [
       "   timestamp  router  outport  inport  cache_coherence_type  flit_id  \\\n",
       "0          7       0        2       0                     1        1   \n",
       "1          7       3        1       0                     1        1   \n",
       "2         11       7        0       3                     1        1   \n",
       "3         11       1        2       4                     1        1   \n",
       "4         15       2        2       4                     1        1   \n",
       "5         19       3        1       4                     1        1   \n",
       "6         23       7        0       3                     1        1   \n",
       "7         50       7        3       0                     4        1   \n",
       "8         51       7        3       0                     4        2   \n",
       "9         52       7        3       0                     4        3   \n",
       "\n",
       "   flit_type  vnet  vc  src_ni  src_router  dst_ni  dst_router  traversal_id  \\\n",
       "0          4     3   9       0           0      23           7             0   \n",
       "1          4     3   9       3           3      23           7             1   \n",
       "2          4     3   9       3           3      23           7             1   \n",
       "3          4     3   9       0           0      23           7             0   \n",
       "4          4     3   9       0           0      23           7             0   \n",
       "5          4     3   9       0           0      23           7             0   \n",
       "6          4     3   9       0           0      23           7             0   \n",
       "7          1     5  17      23           7       3           3             1   \n",
       "8          2     5  17      23           7       3           3             1   \n",
       "9          2     5  17      23           7       3           3             1   \n",
       "\n",
       "   hop_count  current_hop  hop_percentage  enqueue_time  \n",
       "0          4            0            0.00             4  \n",
       "1          1            0            0.00             4  \n",
       "2          1            1            1.00             8  \n",
       "3          4            1            0.25             8  \n",
       "4          4            2            0.50            12  \n",
       "5          4            3            0.75            16  \n",
       "6          4            4            1.00            20  \n",
       "7          1            0            0.00             4  \n",
       "8          1            0            0.00             5  \n",
       "9          1            0            0.00             6  "
      ]
     },
     "execution_count": 31,
     "metadata": {},
     "output_type": "execute_result"
    }
   ],
   "source": [
    "df.head(10)"
   ]
  },
  {
   "cell_type": "code",
   "execution_count": 32,
   "metadata": {},
   "outputs": [],
   "source": [
    "df.to_csv('2-fft-normal-n-0-3-data.csv',index=False)"
   ]
  }
 ],
 "metadata": {
  "kernelspec": {
   "display_name": "Python 3",
   "language": "python",
   "name": "python3"
  },
  "language_info": {
   "codemirror_mode": {
    "name": "ipython",
    "version": 3
   },
   "file_extension": ".py",
   "mimetype": "text/x-python",
   "name": "python",
   "nbconvert_exporter": "python",
   "pygments_lexer": "ipython3",
   "version": "3.7.4"
  }
 },
 "nbformat": 4,
 "nbformat_minor": 4
}
