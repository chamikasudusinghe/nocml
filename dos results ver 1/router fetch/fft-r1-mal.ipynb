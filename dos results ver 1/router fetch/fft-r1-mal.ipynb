{
 "cells": [
  {
   "cell_type": "code",
   "execution_count": 1,
   "metadata": {},
   "outputs": [],
   "source": [
    "import pandas as pd"
   ]
  },
  {
   "cell_type": "code",
   "execution_count": 2,
   "metadata": {},
   "outputs": [],
   "source": [
    "df1 = pd.read_csv('2-fft-malicious-n-0-3-m-1-data.csv')\n",
    "df2 = pd.read_csv('2-fft-malicious-n-0-5-m-9-data.csv')\n",
    "df3 = pd.read_csv('2-fft-malicious-n-0-10-m-14-data.csv')\n",
    "df4 = pd.read_csv('2-fft-malicious-n-0-12-m-9-data.csv')\n",
    "df5 = pd.read_csv('2-fft-malicious-n-0-15-m-1-data.csv')"
   ]
  },
  {
   "cell_type": "code",
   "execution_count": 3,
   "metadata": {},
   "outputs": [],
   "source": [
    "df1 = df1.loc[df1['router'] == 1]\n",
    "df2 = df2.loc[df2['router'] == 1]\n",
    "df3 = df3.loc[df3['router'] == 1]\n",
    "df4 = df4.loc[df4['router'] == 1]\n",
    "df5 = df5.loc[df5['router'] == 1]"
   ]
  },
  {
   "cell_type": "code",
   "execution_count": 4,
   "metadata": {},
   "outputs": [],
   "source": [
    "df1 = df1.drop(columns=['router'])\n",
    "df2 = df2.drop(columns=['router'])\n",
    "df3 = df3.drop(columns=['router'])\n",
    "df4 = df4.drop(columns=['router'])\n",
    "df5 = df5.drop(columns=['router'])"
   ]
  },
  {
   "cell_type": "code",
   "execution_count": 5,
   "metadata": {},
   "outputs": [],
   "source": [
    "df1.to_csv('2-fft-normal-n-0-3-data-r1-mal.csv',index=False)\n",
    "df2.to_csv('2-fft-normal-n-0-5-data-r1-mal.csv',index=False)\n",
    "df3.to_csv('2-fft-normal-n-0-10-data-r1-mal.csv',index=False)\n",
    "df4.to_csv('2-fft-normal-n-0-12-data-r1-mal.csv',index=False)\n",
    "df5.to_csv('2-fft-normal-n-0-15-data-r1-mal.csv',index=False)"
   ]
  },
  {
   "cell_type": "code",
   "execution_count": 6,
   "metadata": {},
   "outputs": [],
   "source": [
    "df1 = pd.read_csv('2-fft-normal-n-0-3-data-r1-mal.csv')\n",
    "df2 = pd.read_csv('2-fft-normal-n-0-5-data-r1-mal.csv')\n",
    "df3 = pd.read_csv('2-fft-normal-n-0-10-data-r1-mal.csv')\n",
    "df4 = pd.read_csv('2-fft-normal-n-0-12-data-r1-mal.csv')\n",
    "df5 = pd.read_csv('2-fft-normal-n-0-15-data-r1-mal.csv')"
   ]
  },
  {
   "cell_type": "code",
   "execution_count": 7,
   "metadata": {},
   "outputs": [],
   "source": [
    "def timecount(df):\n",
    "    timearr = []\n",
    "    interval = 99\n",
    "    count = 0\n",
    "    for index, row in df.iterrows():\n",
    "        if row[\"timestamp\"]<=interval:\n",
    "            count+=1\n",
    "        else:\n",
    "            timearr.append([interval+1,count])\n",
    "            count=1\n",
    "            interval+=100\n",
    "    timearr.append([interval+1,count])\n",
    "    return timearr"
   ]
  },
  {
   "cell_type": "code",
   "execution_count": 8,
   "metadata": {},
   "outputs": [],
   "source": [
    "def maxcount(timearr,df):\n",
    "    countarr = []\n",
    "    increarr = []\n",
    "    maxarr = []\n",
    "    for i in range(len(timearr)):\n",
    "        for cnt in range(timearr[i][1],0,-1):\n",
    "            countarr.append(cnt)\n",
    "            maxarr.append(timearr[i][1])\n",
    "            increment = timearr[i][1] - cnt + 1\n",
    "            increarr.append(increment)\n",
    "    df = df.assign(packet_count_decr=countarr)\n",
    "    df = df.assign(packet_count_incr=increarr)\n",
    "    df = df.assign(max_packet_count=maxarr)\n",
    "    return df"
   ]
  },
  {
   "cell_type": "code",
   "execution_count": null,
   "metadata": {},
   "outputs": [],
   "source": [
    "df1 = maxcount(timecount(df1),df1)\n",
    "df2 = maxcount(timecount(df2),df2)\n",
    "df3 = maxcount(timecount(df3),df3)\n",
    "df4 = maxcount(timecount(df4),df4)\n",
    "df5 = maxcount(timecount(df5),df5)"
   ]
  },
  {
   "cell_type": "code",
   "execution_count": null,
   "metadata": {},
   "outputs": [],
   "source": [
    "df1"
   ]
  },
  {
   "cell_type": "code",
   "execution_count": null,
   "metadata": {},
   "outputs": [],
   "source": [
    "def rename(df):\n",
    "    df[\"packet_count_index\"] = df[\"packet_count_decr\"]*df[\"packet_count_incr\"]\n",
    "    df[\"packet_max_index\"] = df[\"packet_count_index\"]*df[\"max_packet_count\"]\n",
    "    df[\"port_index\"] = df[\"outport\"]*df[\"inport\"]\n",
    "    df[\"cache_coherence_flit_index\"] = df[\"cache_coherence_type\"]*df[\"flit_id\"]\n",
    "    df[\"flit_index\"] = df[\"cache_coherence_flit_index\"]*df[\"flit_type\"]\n",
    "    df[\"traversal_index\"] = df[\"flit_index\"]*df[\"traversal_id\"]\n",
    "    df[\"cache_coherence_vnet_index\"] = df[\"cache_coherence_type\"]*df[\"vnet\"]\n",
    "    df[\"vnet_vc_index\"] = df[\"vnet\"]*df[\"vc\"]\n",
    "    df[\"vnet_vc_cc_index\"] = df[\"vnet\"]*df[\"cache_coherence_vnet_index\"]\n",
    "    df.head(50)"
   ]
  },
  {
   "cell_type": "code",
   "execution_count": null,
   "metadata": {},
   "outputs": [],
   "source": [
    "rename(df1)\n",
    "rename(df2)\n",
    "rename(df3)\n",
    "rename(df4)\n",
    "rename(df5)"
   ]
  },
  {
   "cell_type": "code",
   "execution_count": null,
   "metadata": {},
   "outputs": [],
   "source": [
    "df1['target'] = 0\n",
    "df2['target'] = 0\n",
    "df3['target'] = 0\n",
    "df4['target'] = 0\n",
    "df5['target'] = 0"
   ]
  },
  {
   "cell_type": "code",
   "execution_count": null,
   "metadata": {},
   "outputs": [],
   "source": [
    "df1"
   ]
  },
  {
   "cell_type": "code",
   "execution_count": null,
   "metadata": {},
   "outputs": [],
   "source": [
    "df2"
   ]
  },
  {
   "cell_type": "code",
   "execution_count": null,
   "metadata": {},
   "outputs": [],
   "source": [
    "df3"
   ]
  },
  {
   "cell_type": "code",
   "execution_count": null,
   "metadata": {},
   "outputs": [],
   "source": [
    "df4"
   ]
  },
  {
   "cell_type": "code",
   "execution_count": null,
   "metadata": {},
   "outputs": [],
   "source": [
    "df5"
   ]
  },
  {
   "cell_type": "code",
   "execution_count": null,
   "metadata": {},
   "outputs": [],
   "source": [
    "df1.dtypes"
   ]
  },
  {
   "cell_type": "code",
   "execution_count": 82,
   "metadata": {},
   "outputs": [],
   "source": [
    "df1.to_csv('2-fft-normal-n-0-3-data-r1-mal.csv',index=False)\n",
    "df2.to_csv('2-fft-normal-n-0-5-data-r1-mal.csv',index=False)\n",
    "df3.to_csv('2-fft-normal-n-0-10-data-r1-mal.csv',index=False)\n",
    "df4.to_csv('2-fft-normal-n-0-12-data-r1-mal.csv',index=False)\n",
    "df5.to_csv('2-fft-normal-n-0-15-data-r1-mal.csv',index=False)"
   ]
  }
 ],
 "metadata": {
  "kernelspec": {
   "display_name": "Python 3",
   "language": "python",
   "name": "python3"
  },
  "language_info": {
   "codemirror_mode": {
    "name": "ipython",
    "version": 3
   },
   "file_extension": ".py",
   "mimetype": "text/x-python",
   "name": "python",
   "nbconvert_exporter": "python",
   "pygments_lexer": "ipython3",
   "version": "3.7.4"
  }
 },
 "nbformat": 4,
 "nbformat_minor": 4
}
