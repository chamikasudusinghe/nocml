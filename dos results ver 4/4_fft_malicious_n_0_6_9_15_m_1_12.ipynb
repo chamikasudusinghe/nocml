{
  "nbformat": 4,
  "nbformat_minor": 0,
  "metadata": {
    "kernelspec": {
      "display_name": "Python 3",
      "language": "python",
      "name": "python3"
    },
    "language_info": {
      "codemirror_mode": {
        "name": "ipython",
        "version": 3
      },
      "file_extension": ".py",
      "mimetype": "text/x-python",
      "name": "python",
      "nbconvert_exporter": "python",
      "pygments_lexer": "ipython3",
      "version": "3.7.7"
    },
    "colab": {
      "name": "4-fft-malicious-n-0-6-9-15-m-1-12.ipynb",
      "provenance": [],
      "toc_visible": true,
      "include_colab_link": true
    },
    "accelerator": "TPU"
  },
  "cells": [
    {
      "cell_type": "markdown",
      "metadata": {
        "id": "view-in-github",
        "colab_type": "text"
      },
      "source": [
        "<a href=\"https://colab.research.google.com/github/chamikasudusinghe/nocml/blob/master/4_fft_malicious_n_0_6_9_15_m_1_12.ipynb\" target=\"_parent\"><img src=\"https://colab.research.google.com/assets/colab-badge.svg\" alt=\"Open In Colab\"/></a>"
      ]
    },
    {
      "cell_type": "markdown",
      "metadata": {
        "id": "_nheNNHpIOt5",
        "colab_type": "text"
      },
      "source": [
        "#### Data Fetch"
      ]
    },
    {
      "cell_type": "code",
      "metadata": {
        "id": "dIsW_5EzIOt9",
        "colab_type": "code",
        "colab": {}
      },
      "source": [
        "import pandas as pd\n",
        "import numpy as np\n",
        "%matplotlib inline\n",
        "import matplotlib.pyplot as plt\n",
        "import seaborn as sns\n",
        "import math"
      ],
      "execution_count": 0,
      "outputs": []
    },
    {
      "cell_type": "code",
      "metadata": {
        "id": "el5EV9JVIi0K",
        "colab_type": "code",
        "outputId": "51b2ffbb-dcf4-4389-da8f-591fe5cc712b",
        "colab": {
          "base_uri": "https://localhost:8080/",
          "height": 54
        }
      },
      "source": [
        "from google.colab import drive\n",
        "drive.mount('/content/drive')\n",
        "root_dir = \"/content/drive/My Drive/iter-3\""
      ],
      "execution_count": 95,
      "outputs": [
        {
          "output_type": "stream",
          "text": [
            "Drive already mounted at /content/drive; to attempt to forcibly remount, call drive.mount(\"/content/drive\", force_remount=True).\n"
          ],
          "name": "stdout"
        }
      ]
    },
    {
      "cell_type": "code",
      "metadata": {
        "id": "6UPFgvvvIOuQ",
        "colab_type": "code",
        "outputId": "7f9b8aac-1acb-49c5-8ad7-01eefd2d7aa8",
        "colab": {
          "base_uri": "https://localhost:8080/",
          "height": 34
        }
      },
      "source": [
        "#extracting lines for simplied verion\n",
        "open('2-fft-normal-n-0-15.txt','w').writelines([ line for line in open(root_dir+\"/4-fft-malicious-n-0-6-9-15-m-1-12.log\") if \"Enqueue\" in line])\n",
        "print (\"done\")"
      ],
      "execution_count": 96,
      "outputs": [
        {
          "output_type": "stream",
          "text": [
            "done\n"
          ],
          "name": "stdout"
        }
      ]
    },
    {
      "cell_type": "code",
      "metadata": {
        "id": "xiGFa94LIOus",
        "colab_type": "code",
        "outputId": "14dcc4a2-d92f-4e92-a3ae-1a1ef2c1b3f0",
        "colab": {
          "base_uri": "https://localhost:8080/",
          "height": 34
        }
      },
      "source": [
        "#extracting content from lines\n",
        "csv_out = open('2-fft-normal-n-0-15-csv.txt','w')\n",
        "with open ('2-fft-normal-n-0-15.txt', 'rt') as fft:\n",
        "    csv_out.write(\"time,router,outport,inport,packet_address,packet_type,flit_id,flit_type,vnet,vc,src_ni,src_router,dst_ni,dst_router,enq_time\\n\")\n",
        "    for line in fft:\n",
        "        line_split = line.split()\n",
        "        time = line_split[line_split.index(\"time:\") + 1]\n",
        "        router = line_split[line_split.index(\"SwitchAllocator\") + 3]\n",
        "        outport = line_split[line_split.index(\"outport\") + 1]\n",
        "        inport = line_split[line_split.index(\"inport\") + 1]\n",
        "        packet_address = line_split[line_split.index(\"addr\") + 2][1:-1]\n",
        "        packet_type = line_split[line_split.index(\"addr\") + 7]\n",
        "        flit_id = line_split[line_split.index(\"[flit::\") + 1][3:]\n",
        "        flit_type = line_split[line_split.index(\"Id=\"+str(flit_id)) + 1][5:]\n",
        "        vnet = line_split[line_split.index(\"Type=\"+str(flit_type)) + 1][5:]\n",
        "        vc = line_split[line_split.index(\"Vnet=\"+str(vnet)) + 1][3:]\n",
        "        src_ni = line_split[line_split.index(\"VC=\"+str(vc)) + 2][3:]\n",
        "        src_router = line_split[line_split.index(\"NI=\"+str(src_ni)) + 2][7:]\n",
        "        dst_ni = line_split[line_split.index(\"Router=\"+str(src_router)) + 2][3:]\n",
        "        dst_router = line_split[line_split.index(\"NI=\"+str(dst_ni)) + 2][7:]\n",
        "        enq_time = str(line_split[line_split.index(\"Enqueue\") + 1][5:])\n",
        "        line_csv = time+\",\"+router+\",\"+outport+\",\"+inport+\",\"+packet_address+\",\"+packet_type+\",\"+flit_id+\",\"+flit_type+\",\"+vnet+\",\"+vc+\",\"+src_ni+\",\"+src_router+\",\"+dst_ni+\",\"+dst_router+\",\"+enq_time+\"\\n\"\n",
        "        csv_out.write(line_csv)\n",
        "print (\"done\")"
      ],
      "execution_count": 97,
      "outputs": [
        {
          "output_type": "stream",
          "text": [
            "done\n"
          ],
          "name": "stdout"
        }
      ]
    },
    {
      "cell_type": "code",
      "metadata": {
        "id": "S4BIfzznIOu5",
        "colab_type": "code",
        "colab": {}
      },
      "source": [
        "#convert txt to csv\n",
        "\n",
        "df = pd.read_csv(\"2-fft-normal-n-0-15-csv.txt\",delimiter=',')\n",
        "df.to_csv('2-fft-normal-n-0-15.csv',index=False)"
      ],
      "execution_count": 0,
      "outputs": []
    },
    {
      "cell_type": "code",
      "metadata": {
        "id": "2ym6IwfBIOvE",
        "colab_type": "code",
        "colab": {}
      },
      "source": [
        "#dataset\n",
        "df = pd.read_csv('2-fft-normal-n-0-15.csv')"
      ],
      "execution_count": 0,
      "outputs": []
    },
    {
      "cell_type": "code",
      "metadata": {
        "id": "FAvIimiHIOvT",
        "colab_type": "code",
        "outputId": "1b6b0681-bc19-4c49-d817-4c331fbfb5fb",
        "colab": {
          "base_uri": "https://localhost:8080/",
          "height": 34
        }
      },
      "source": [
        "df.shape"
      ],
      "execution_count": 100,
      "outputs": [
        {
          "output_type": "execute_result",
          "data": {
            "text/plain": [
              "(2006894, 15)"
            ]
          },
          "metadata": {
            "tags": []
          },
          "execution_count": 100
        }
      ]
    },
    {
      "cell_type": "code",
      "metadata": {
        "id": "rrGZ6IGsIOvf",
        "colab_type": "code",
        "outputId": "afdd8554-c87e-4e7a-eccf-a7d63ad76a6d",
        "colab": {
          "base_uri": "https://localhost:8080/",
          "height": 317
        }
      },
      "source": [
        "df.describe()"
      ],
      "execution_count": 101,
      "outputs": [
        {
          "output_type": "execute_result",
          "data": {
            "text/html": [
              "<div>\n",
              "<style scoped>\n",
              "    .dataframe tbody tr th:only-of-type {\n",
              "        vertical-align: middle;\n",
              "    }\n",
              "\n",
              "    .dataframe tbody tr th {\n",
              "        vertical-align: top;\n",
              "    }\n",
              "\n",
              "    .dataframe thead th {\n",
              "        text-align: right;\n",
              "    }\n",
              "</style>\n",
              "<table border=\"1\" class=\"dataframe\">\n",
              "  <thead>\n",
              "    <tr style=\"text-align: right;\">\n",
              "      <th></th>\n",
              "      <th>time</th>\n",
              "      <th>router</th>\n",
              "      <th>flit_id</th>\n",
              "      <th>flit_type</th>\n",
              "      <th>vnet</th>\n",
              "      <th>vc</th>\n",
              "      <th>src_ni</th>\n",
              "      <th>src_router</th>\n",
              "      <th>dst_ni</th>\n",
              "      <th>dst_router</th>\n",
              "      <th>enq_time</th>\n",
              "    </tr>\n",
              "  </thead>\n",
              "  <tbody>\n",
              "    <tr>\n",
              "      <th>count</th>\n",
              "      <td>2.006894e+06</td>\n",
              "      <td>2.006894e+06</td>\n",
              "      <td>2.006894e+06</td>\n",
              "      <td>2.006894e+06</td>\n",
              "      <td>2.006894e+06</td>\n",
              "      <td>2.006894e+06</td>\n",
              "      <td>2.006894e+06</td>\n",
              "      <td>2.006894e+06</td>\n",
              "      <td>2.006894e+06</td>\n",
              "      <td>2.006894e+06</td>\n",
              "      <td>2.006894e+06</td>\n",
              "    </tr>\n",
              "    <tr>\n",
              "      <th>mean</th>\n",
              "      <td>1.773215e+06</td>\n",
              "      <td>7.172289e+00</td>\n",
              "      <td>1.588037e+00</td>\n",
              "      <td>1.411961e+00</td>\n",
              "      <td>2.575877e+00</td>\n",
              "      <td>1.084329e+01</td>\n",
              "      <td>1.790499e+01</td>\n",
              "      <td>7.204807e+00</td>\n",
              "      <td>1.765946e+01</td>\n",
              "      <td>7.142462e+00</td>\n",
              "      <td>1.773193e+06</td>\n",
              "    </tr>\n",
              "    <tr>\n",
              "      <th>std</th>\n",
              "      <td>1.082355e+06</td>\n",
              "      <td>4.395043e+00</td>\n",
              "      <td>1.497414e+00</td>\n",
              "      <td>9.858092e-01</td>\n",
              "      <td>9.056048e-01</td>\n",
              "      <td>3.660253e+00</td>\n",
              "      <td>8.674168e+00</td>\n",
              "      <td>4.542575e+00</td>\n",
              "      <td>8.830992e+00</td>\n",
              "      <td>4.690392e+00</td>\n",
              "      <td>1.082354e+06</td>\n",
              "    </tr>\n",
              "    <tr>\n",
              "      <th>min</th>\n",
              "      <td>7.000000e+00</td>\n",
              "      <td>0.000000e+00</td>\n",
              "      <td>0.000000e+00</td>\n",
              "      <td>0.000000e+00</td>\n",
              "      <td>2.000000e+00</td>\n",
              "      <td>8.000000e+00</td>\n",
              "      <td>0.000000e+00</td>\n",
              "      <td>0.000000e+00</td>\n",
              "      <td>0.000000e+00</td>\n",
              "      <td>0.000000e+00</td>\n",
              "      <td>3.000000e+00</td>\n",
              "    </tr>\n",
              "    <tr>\n",
              "      <th>25%</th>\n",
              "      <td>7.448512e+05</td>\n",
              "      <td>4.000000e+00</td>\n",
              "      <td>0.000000e+00</td>\n",
              "      <td>1.000000e+00</td>\n",
              "      <td>2.000000e+00</td>\n",
              "      <td>8.000000e+00</td>\n",
              "      <td>1.200000e+01</td>\n",
              "      <td>4.000000e+00</td>\n",
              "      <td>1.200000e+01</td>\n",
              "      <td>3.000000e+00</td>\n",
              "      <td>7.448350e+05</td>\n",
              "    </tr>\n",
              "    <tr>\n",
              "      <th>50%</th>\n",
              "      <td>1.845690e+06</td>\n",
              "      <td>7.000000e+00</td>\n",
              "      <td>1.000000e+00</td>\n",
              "      <td>1.000000e+00</td>\n",
              "      <td>2.000000e+00</td>\n",
              "      <td>9.000000e+00</td>\n",
              "      <td>2.000000e+01</td>\n",
              "      <td>7.000000e+00</td>\n",
              "      <td>2.000000e+01</td>\n",
              "      <td>7.000000e+00</td>\n",
              "      <td>1.845679e+06</td>\n",
              "    </tr>\n",
              "    <tr>\n",
              "      <th>75%</th>\n",
              "      <td>2.700014e+06</td>\n",
              "      <td>1.100000e+01</td>\n",
              "      <td>3.000000e+00</td>\n",
              "      <td>2.000000e+00</td>\n",
              "      <td>4.000000e+00</td>\n",
              "      <td>1.600000e+01</td>\n",
              "      <td>2.400000e+01</td>\n",
              "      <td>1.100000e+01</td>\n",
              "      <td>2.400000e+01</td>\n",
              "      <td>1.100000e+01</td>\n",
              "      <td>2.699983e+06</td>\n",
              "    </tr>\n",
              "    <tr>\n",
              "      <th>max</th>\n",
              "      <td>3.282877e+06</td>\n",
              "      <td>1.500000e+01</td>\n",
              "      <td>4.000000e+00</td>\n",
              "      <td>3.000000e+00</td>\n",
              "      <td>4.000000e+00</td>\n",
              "      <td>1.900000e+01</td>\n",
              "      <td>3.100000e+01</td>\n",
              "      <td>1.500000e+01</td>\n",
              "      <td>3.100000e+01</td>\n",
              "      <td>1.500000e+01</td>\n",
              "      <td>3.282872e+06</td>\n",
              "    </tr>\n",
              "  </tbody>\n",
              "</table>\n",
              "</div>"
            ],
            "text/plain": [
              "               time        router  ...    dst_router      enq_time\n",
              "count  2.006894e+06  2.006894e+06  ...  2.006894e+06  2.006894e+06\n",
              "mean   1.773215e+06  7.172289e+00  ...  7.142462e+00  1.773193e+06\n",
              "std    1.082355e+06  4.395043e+00  ...  4.690392e+00  1.082354e+06\n",
              "min    7.000000e+00  0.000000e+00  ...  0.000000e+00  3.000000e+00\n",
              "25%    7.448512e+05  4.000000e+00  ...  3.000000e+00  7.448350e+05\n",
              "50%    1.845690e+06  7.000000e+00  ...  7.000000e+00  1.845679e+06\n",
              "75%    2.700014e+06  1.100000e+01  ...  1.100000e+01  2.699983e+06\n",
              "max    3.282877e+06  1.500000e+01  ...  1.500000e+01  3.282872e+06\n",
              "\n",
              "[8 rows x 11 columns]"
            ]
          },
          "metadata": {
            "tags": []
          },
          "execution_count": 101
        }
      ]
    },
    {
      "cell_type": "code",
      "metadata": {
        "id": "DAVlt6aUIOvr",
        "colab_type": "code",
        "outputId": "fa0fc041-c728-427e-b5eb-048f24d56c7f",
        "colab": {
          "base_uri": "https://localhost:8080/",
          "height": 299
        }
      },
      "source": [
        "sns.distplot(df['router'], kde = False, bins=30, color='blue')"
      ],
      "execution_count": 102,
      "outputs": [
        {
          "output_type": "execute_result",
          "data": {
            "text/plain": [
              "<matplotlib.axes._subplots.AxesSubplot at 0x7f3f11d420b8>"
            ]
          },
          "metadata": {
            "tags": []
          },
          "execution_count": 102
        },
        {
          "output_type": "display_data",
          "data": {
            "image/png": "[encoded data removed]",
            "text/plain": [
              "<Figure size 432x288 with 1 Axes>"
            ]
          },
          "metadata": {
            "tags": [],
            "needs_background": "light"
          }
        }
      ]
    },
    {
      "cell_type": "code",
      "metadata": {
        "id": "ADYRK1YQIOvz",
        "colab_type": "code",
        "outputId": "f4274485-2e8f-4436-85da-e02f338b3233",
        "colab": {
          "base_uri": "https://localhost:8080/",
          "height": 297
        }
      },
      "source": [
        "sns.distplot(df['src_router'], kde = False, bins=30, color='blue')"
      ],
      "execution_count": 103,
      "outputs": [
        {
          "output_type": "execute_result",
          "data": {
            "text/plain": [
              "<matplotlib.axes._subplots.AxesSubplot at 0x7f3f11c39dd8>"
            ]
          },
          "metadata": {
            "tags": []
          },
          "execution_count": 103
        },
        {
          "output_type": "display_data",
          "data": {
            "image/png": "[encoded data removed]",
            "text/plain": [
              "<Figure size 432x288 with 1 Axes>"
            ]
          },
          "metadata": {
            "tags": [],
            "needs_background": "light"
          }
        }
      ]
    },
    {
      "cell_type": "code",
      "metadata": {
        "id": "px-MondzIOv7",
        "colab_type": "code",
        "outputId": "190f564c-20ea-46d4-e427-dd6aaea2d29e",
        "colab": {
          "base_uri": "https://localhost:8080/",
          "height": 297
        }
      },
      "source": [
        "sns.distplot(df['dst_router'], kde = False, bins=30, color='red')"
      ],
      "execution_count": 104,
      "outputs": [
        {
          "output_type": "execute_result",
          "data": {
            "text/plain": [
              "<matplotlib.axes._subplots.AxesSubplot at 0x7f3f1221d908>"
            ]
          },
          "metadata": {
            "tags": []
          },
          "execution_count": 104
        },
        {
          "output_type": "display_data",
          "data": {
            "image/png": "[encoded data removed]",
            "text/plain": [
              "<Figure size 432x288 with 1 Axes>"
            ]
          },
          "metadata": {
            "tags": [],
            "needs_background": "light"
          }
        }
      ]
    },
    {
      "cell_type": "code",
      "metadata": {
        "id": "hVwsADkDIOwe",
        "colab_type": "code",
        "colab": {}
      },
      "source": [
        "direction = {'Local': 0,'North': 1, 'East': 2, 'South':3,'West':4}\n",
        "df = df.replace({'inport': direction, 'outport': direction})"
      ],
      "execution_count": 0,
      "outputs": []
    },
    {
      "cell_type": "code",
      "metadata": {
        "id": "0SSsXUjoJp55",
        "colab_type": "code",
        "outputId": "22d86c81-e26a-49f4-9b49-a2d4523d710c",
        "colab": {
          "base_uri": "https://localhost:8080/",
          "height": 297
        }
      },
      "source": [
        "sns.distplot(df['inport'], kde = False, bins=30, color='green')"
      ],
      "execution_count": 106,
      "outputs": [
        {
          "output_type": "execute_result",
          "data": {
            "text/plain": [
              "<matplotlib.axes._subplots.AxesSubplot at 0x7f3f12188128>"
            ]
          },
          "metadata": {
            "tags": []
          },
          "execution_count": 106
        },
        {
          "output_type": "display_data",
          "data": {
            "image/png": "[encoded data removed]",
            "text/plain": [
              "<Figure size 432x288 with 1 Axes>"
            ]
          },
          "metadata": {
            "tags": [],
            "needs_background": "light"
          }
        }
      ]
    },
    {
      "cell_type": "code",
      "metadata": {
        "id": "qxujo-2HIOwN",
        "colab_type": "code",
        "outputId": "7003c215-14ef-4a36-8884-041a1f4ed934",
        "colab": {
          "base_uri": "https://localhost:8080/",
          "height": 297
        }
      },
      "source": [
        "sns.distplot(df['outport'], kde = False, bins=30, color='green')"
      ],
      "execution_count": 107,
      "outputs": [
        {
          "output_type": "execute_result",
          "data": {
            "text/plain": [
              "<matplotlib.axes._subplots.AxesSubplot at 0x7f3f124a8e10>"
            ]
          },
          "metadata": {
            "tags": []
          },
          "execution_count": 107
        },
        {
          "output_type": "display_data",
          "data": {
            "image/png": "[encoded data removed]",
            "text/plain": [
              "<Figure size 432x288 with 1 Axes>"
            ]
          },
          "metadata": {
            "tags": [],
            "needs_background": "light"
          }
        }
      ]
    },
    {
      "cell_type": "code",
      "metadata": {
        "id": "Z43bzns_IOwk",
        "colab_type": "code",
        "colab": {}
      },
      "source": [
        "data = {'GETS': 1,'GETX': 2,'GUX': 3,'DATA': 4, 'PUTX': 5,'PUTS': 6,'WB_ACK':7}\n",
        "df = df.replace({'packet_type': data})"
      ],
      "execution_count": 0,
      "outputs": []
    },
    {
      "cell_type": "code",
      "metadata": {
        "id": "5fqnHJAnIOwX",
        "colab_type": "code",
        "outputId": "edbce77f-62a8-4f1a-9528-1380ed703f32",
        "colab": {
          "base_uri": "https://localhost:8080/",
          "height": 299
        }
      },
      "source": [
        "sns.distplot(df['packet_type'], kde = False, bins=30, color='red')"
      ],
      "execution_count": 109,
      "outputs": [
        {
          "output_type": "execute_result",
          "data": {
            "text/plain": [
              "<matplotlib.axes._subplots.AxesSubplot at 0x7f3f11773a58>"
            ]
          },
          "metadata": {
            "tags": []
          },
          "execution_count": 109
        },
        {
          "output_type": "display_data",
          "data": {
            "image/png": "[encoded data removed]",
            "text/plain": [
              "<Figure size 432x288 with 1 Axes>"
            ]
          },
          "metadata": {
            "tags": [],
            "needs_background": "light"
          }
        }
      ]
    },
    {
      "cell_type": "code",
      "metadata": {
        "id": "8b1kcndyIOwq",
        "colab_type": "code",
        "colab": {}
      },
      "source": [
        "df['flit_id'] = df['flit_id']+1\n",
        "df['flit_type'] = df['flit_type']+1\n",
        "df['vnet'] = df['vnet']+1\n",
        "df['vc'] = df['vc']+1"
      ],
      "execution_count": 0,
      "outputs": []
    },
    {
      "cell_type": "code",
      "metadata": {
        "id": "ylQx-ySCIOwy",
        "colab_type": "code",
        "colab": {}
      },
      "source": [
        "hoparr = {\"0to0\":0,\"0to1\":1,\"0to2\":2,\"0to3\":3,\"0to4\":1,\"0to5\":2,\"0to6\":3,\"0to7\":4,\"0to8\":2,\"0to9\":3,\"0to10\":4,\"0to11\":5,\"0to12\":3,\"0to13\":4,\"0to14\":5,\"0to15\":6,\n",
        "         \"1to1\":0,\"1to2\":1,\"1to3\":2,\"1to4\":2,\"1to5\":1,\"1to6\":2,\"1to7\":3,\"1to8\":3,\"1to9\":2,\"1to10\":3,\"1to11\":4,\"1to12\":5,\"1to13\":3,\"1to14\":4,\"1to15\":5,\n",
        "         \"2to2\":0,\"2to3\":1,\"2to4\":3,\"2to5\":2,\"2to6\":1,\"2to7\":2,\"2to8\":4,\"2to9\":3,\"2to10\":2,\"2to11\":3,\"2to12\":5,\"2to13\":4,\"2to14\":3,\"2to15\":4,\n",
        "         \"3to3\":0,\"3to4\":4,\"3to5\":3,\"3to6\":2,\"3to7\":1,\"3to8\":5,\"3to9\":4,\"3to10\":3,\"3to11\":2,\"3to12\":6,\"3to13\":5,\"3to14\":4,\"3to15\":3,\n",
        "         \"4to4\":0,\"4to5\":1,\"4to6\":2,\"4to7\":3,\"4to8\":1,\"4to9\":2,\"4to10\":3,\"4to11\":4,\"4to12\":2,\"4to13\":3,\"4to14\":4,\"4to15\":5,\n",
        "         \"5to5\":0,\"5to6\":1,\"5to7\":2,\"5to8\":2,\"5to9\":1,\"5to10\":2,\"5to11\":3,\"5to12\":3,\"5to13\":2,\"5to14\":3,\"5to15\":4,\n",
        "         \"6to6\":0,\"6to7\":1,\"6to8\":3,\"6to9\":2,\"6to10\":1,\"6to11\":2,\"6to12\":4,\"6to13\":3,\"6to14\":2,\"6to15\":3,\n",
        "         \"7to7\":0,\"7to8\":4,\"7to9\":3,\"7to10\":2,\"7to11\":1,\"7to12\":5,\"7to13\":4,\"7to14\":3,\"7to15\":2,\n",
        "         \"8to8\":0,\"8to9\":1,\"8to10\":2,\"8to11\":3,\"8to12\":1,\"8to13\":2,\"8to14\":3,\"8to15\":4,\n",
        "         \"9to9\":0,\"9to10\":1,\"9to11\":2,\"9to12\":2,\"9to13\":1,\"9to14\":2,\"9to15\":4,\n",
        "         \"10to10\":0,\"10to11\":1,\"10to12\":3,\"10to13\":2,\"10to14\":1,\"10to15\":2,\n",
        "         \"11to11\":0,\"11to12\":4,\"11to13\":3,\"11to14\":2,\"11to15\":1,\n",
        "         \"12to12\":0,\"12to13\":1,\"12to14\":2,\"12to15\":3,\n",
        "         \"13to13\":0,\"13to14\":1,\"13to15\":2,\n",
        "         \"14to14\":0,\"14to15\":1,\n",
        "         \"15to15\":0}"
      ],
      "execution_count": 0,
      "outputs": []
    },
    {
      "cell_type": "code",
      "metadata": {
        "id": "NDf0qt2-IOw5",
        "colab_type": "code",
        "colab": {}
      },
      "source": [
        "packarr = {}\n",
        "packtime = {}\n",
        "packchunk = []\n",
        "hopcurrentarr = []\n",
        "hoptotarr = []\n",
        "hoppercentarr =[]\n",
        "waitingarr = []\n",
        "interval = 500\n",
        "count = 0\n",
        "for index, row in df.iterrows():\n",
        "    current_time = row[\"time\"]\n",
        "    enqueue_time = row[\"enq_time\"]\n",
        "    waiting_time = current_time - enqueue_time\n",
        "    waitingarr.append(waiting_time)\n",
        "    current_router = row[\"router\"]\n",
        "    src_router = row[\"src_router\"]\n",
        "    dst_router = row[\"dst_router\"]\n",
        "    src_router_temp = src_router\n",
        "    if src_router_temp>dst_router:\n",
        "        temph = src_router_temp\n",
        "        src_router_temp = dst_router\n",
        "        dst_router = temph\n",
        "    hop_count_string = str(src_router_temp)+\"to\"+str(dst_router)\n",
        "    src_router_temp = src_router\n",
        "    hop_count = hoparr.get(hop_count_string)\n",
        "    if src_router_temp>current_router:\n",
        "        tempc = src_router_temp\n",
        "        src_router_temp = current_router\n",
        "        current_router = tempc\n",
        "    current_hop_string = str(src_router_temp)+\"to\"+str(current_router)\n",
        "    current_hop = hoparr.get(current_hop_string)\n",
        "    if(current_hop == 0 and hop_count ==0):\n",
        "        hop_percent = 0\n",
        "    else:\n",
        "        hop_percent = current_hop/hop_count\n",
        "    hoptotarr.append(hop_count)\n",
        "    hopcurrentarr.append(current_hop)\n",
        "    hoppercentarr.append(hop_percent)\n",
        "    if row[\"packet_address\"] not in packarr:\n",
        "        packarr[row[\"packet_address\"]] = count\n",
        "        packtime[row[\"packet_address\"]] = row[\"time\"]\n",
        "        packchunk.append(packarr.get(row[\"packet_address\"]))\n",
        "        count+=1\n",
        "    else:\n",
        "        current_time = row[\"time\"]\n",
        "        position = packarr.get(row[\"packet_address\"])\n",
        "        pkt_time = packtime.get(row[\"packet_address\"])\n",
        "        current_max = max(packarr.values())\n",
        "        if (current_time-pkt_time)<interval:\n",
        "            packchunk.append(packarr.get(row[\"packet_address\"]))\n",
        "        else:\n",
        "            del packarr[row[\"packet_address\"]]\n",
        "            del packtime[row[\"packet_address\"]]\n",
        "            packarr[row[\"packet_address\"]] = current_max+1\n",
        "            packtime[row[\"packet_address\"]] = row[\"time\"]\n",
        "            packchunk.append(packarr.get(row[\"packet_address\"]))\n",
        "            if (current_max)==count:\n",
        "                count+=2\n",
        "            elif (current_max+1)==count:\n",
        "                count+=1"
      ],
      "execution_count": 0,
      "outputs": []
    },
    {
      "cell_type": "code",
      "metadata": {
        "id": "25pyBgWqIOw_",
        "colab_type": "code",
        "colab": {
          "base_uri": "https://localhost:8080/",
          "height": 34
        },
        "outputId": "74d39142-cd8e-4b49-82e0-9b7a31bec1aa"
      },
      "source": [
        "df['packet_address'].nunique()"
      ],
      "execution_count": 113,
      "outputs": [
        {
          "output_type": "execute_result",
          "data": {
            "text/plain": [
              "11487"
            ]
          },
          "metadata": {
            "tags": []
          },
          "execution_count": 113
        }
      ]
    },
    {
      "cell_type": "code",
      "metadata": {
        "id": "wQUHR_CdIOxG",
        "colab_type": "code",
        "colab": {
          "base_uri": "https://localhost:8080/",
          "height": 34
        },
        "outputId": "f7ca31ac-8fea-49f4-fa1d-a19f7fe21e8f"
      },
      "source": [
        "print(len(packarr))"
      ],
      "execution_count": 114,
      "outputs": [
        {
          "output_type": "stream",
          "text": [
            "11487\n"
          ],
          "name": "stdout"
        }
      ]
    },
    {
      "cell_type": "code",
      "metadata": {
        "id": "9udFHe45IOxO",
        "colab_type": "code",
        "colab": {
          "base_uri": "https://localhost:8080/",
          "height": 34
        },
        "outputId": "c1a6dbe9-f4e4-48b2-aa07-464eac00799e"
      },
      "source": [
        "print(len(packchunk))"
      ],
      "execution_count": 115,
      "outputs": [
        {
          "output_type": "stream",
          "text": [
            "2006894\n"
          ],
          "name": "stdout"
        }
      ]
    },
    {
      "cell_type": "code",
      "metadata": {
        "id": "_H2Inp9TIOxU",
        "colab_type": "code",
        "colab": {}
      },
      "source": [
        "df = df.assign(traversal_id=packchunk)\n",
        "df = df.assign(hop_count=hoptotarr)\n",
        "df = df.assign(current_hop=hopcurrentarr)\n",
        "df = df.assign(hop_percentage=hoppercentarr)\n",
        "df = df.assign(enqueue_time=waitingarr)"
      ],
      "execution_count": 0,
      "outputs": []
    },
    {
      "cell_type": "code",
      "metadata": {
        "id": "SM0aItmFIOxa",
        "colab_type": "code",
        "colab": {}
      },
      "source": [
        "df.rename(columns={'packet_type': 'cache_coherence_type', 'time': 'timestamp'}, inplace=True)"
      ],
      "execution_count": 0,
      "outputs": []
    },
    {
      "cell_type": "code",
      "metadata": {
        "id": "fqkOWYxEIOxi",
        "colab_type": "code",
        "colab": {}
      },
      "source": [
        "df = df.drop(columns=['packet_address','enq_time'])"
      ],
      "execution_count": 0,
      "outputs": []
    },
    {
      "cell_type": "code",
      "metadata": {
        "id": "q8LzC__ZIOxq",
        "colab_type": "code",
        "colab": {
          "base_uri": "https://localhost:8080/",
          "height": 340
        },
        "outputId": "65bdb3ca-8037-4322-9aaf-a0d815696553"
      },
      "source": [
        "df.isnull().sum()"
      ],
      "execution_count": 119,
      "outputs": [
        {
          "output_type": "execute_result",
          "data": {
            "text/plain": [
              "timestamp               0\n",
              "router                  0\n",
              "outport                 0\n",
              "inport                  0\n",
              "cache_coherence_type    0\n",
              "flit_id                 0\n",
              "flit_type               0\n",
              "vnet                    0\n",
              "vc                      0\n",
              "src_ni                  0\n",
              "src_router              0\n",
              "dst_ni                  0\n",
              "dst_router              0\n",
              "traversal_id            0\n",
              "hop_count               0\n",
              "current_hop             0\n",
              "hop_percentage          0\n",
              "enqueue_time            0\n",
              "dtype: int64"
            ]
          },
          "metadata": {
            "tags": []
          },
          "execution_count": 119
        }
      ]
    },
    {
      "cell_type": "code",
      "metadata": {
        "id": "afMkAyb8IOxz",
        "colab_type": "code",
        "colab": {
          "base_uri": "https://localhost:8080/",
          "height": 340
        },
        "outputId": "50e1058b-9e16-452a-82ae-22afade85f3a"
      },
      "source": [
        "df.dtypes"
      ],
      "execution_count": 120,
      "outputs": [
        {
          "output_type": "execute_result",
          "data": {
            "text/plain": [
              "timestamp                 int64\n",
              "router                    int64\n",
              "outport                   int64\n",
              "inport                    int64\n",
              "cache_coherence_type      int64\n",
              "flit_id                   int64\n",
              "flit_type                 int64\n",
              "vnet                      int64\n",
              "vc                        int64\n",
              "src_ni                    int64\n",
              "src_router                int64\n",
              "dst_ni                    int64\n",
              "dst_router                int64\n",
              "traversal_id              int64\n",
              "hop_count                 int64\n",
              "current_hop               int64\n",
              "hop_percentage          float64\n",
              "enqueue_time              int64\n",
              "dtype: object"
            ]
          },
          "metadata": {
            "tags": []
          },
          "execution_count": 120
        }
      ]
    },
    {
      "cell_type": "code",
      "metadata": {
        "id": "lYs4E73eIOx4",
        "colab_type": "code",
        "colab": {}
      },
      "source": [
        "df.to_csv('2-fft-normal-n-0-15.csv',index=False)"
      ],
      "execution_count": 0,
      "outputs": []
    },
    {
      "cell_type": "markdown",
      "metadata": {
        "id": "rUIKyRVoIOyA",
        "colab_type": "text"
      },
      "source": [
        "#### Router Fetch"
      ]
    },
    {
      "cell_type": "code",
      "metadata": {
        "id": "L3VDbqOcIOyB",
        "colab_type": "code",
        "colab": {}
      },
      "source": [
        "def roundup(x):\n",
        "  return int(math.ceil(x / 1000.0)) * 1000"
      ],
      "execution_count": 0,
      "outputs": []
    },
    {
      "cell_type": "code",
      "metadata": {
        "id": "CXBMZWZ5IOyJ",
        "colab_type": "code",
        "colab": {}
      },
      "source": [
        "def fetch(i):\n",
        "    \n",
        "    df = pd.read_csv('2-fft-normal-n-0-15.csv')\n",
        "    df = df.loc[df['router'] == i]\n",
        "    df = df.drop(columns=['router'])\n",
        "    df.to_csv('4-fft-malicious-n-0-6-9-15-m-1-12-r'+str(i)+'.csv',index=False)\n",
        "    df = pd.read_csv('4-fft-malicious-n-0-6-9-15-m-1-12-r'+str(i)+'.csv')\n",
        "\n",
        "    def timecount(df):\n",
        "        timearr = []\n",
        "        interval = 999\n",
        "        count = 0\n",
        "        for index, row in df.iterrows():\n",
        "            if row[\"timestamp\"]<=interval :\n",
        "                count+=1\n",
        "            else:\n",
        "                timearr.append([interval+1,count])\n",
        "                count=1\n",
        "                if (row[\"timestamp\"] == roundup(row[\"timestamp\"])):\n",
        "                  interval = row[\"timestamp\"]+999\n",
        "                else:\n",
        "                  interval = roundup(row[\"timestamp\"])-1\n",
        "        timearr.append([interval+1,count])\n",
        "        return timearr\n",
        "    \n",
        "    def maxcount(timearr,df):\n",
        "        countarr = []\n",
        "        increarr = []\n",
        "        maxarr = []\n",
        "        for i in range(len(timearr)):\n",
        "            for cnt in range(timearr[i][1],0,-1):\n",
        "                countarr.append(cnt)\n",
        "                maxarr.append(timearr[i][1])\n",
        "                increment = timearr[i][1] - cnt + 1\n",
        "                increarr.append(increment)\n",
        "        df = df.assign(packet_count_decr=countarr)\n",
        "        df = df.assign(packet_count_incr=increarr)\n",
        "        df = df.assign(max_packet_count=maxarr)\n",
        "        return df\n",
        "    \n",
        "    df = maxcount(timecount(df),df)\n",
        "        \n",
        "    def rename(df):\n",
        "        df['traversal_id'] = df['traversal_id']+1\n",
        "        df[\"packet_count_index\"] = df[\"packet_count_decr\"]*df[\"packet_count_incr\"]\n",
        "        df[\"port_index\"] = df[\"outport\"]*df[\"inport\"]\n",
        "        df[\"traversal_index\"] = df[\"cache_coherence_type\"]*df[\"flit_id\"]*df[\"flit_type\"]*df[\"traversal_id\"]\n",
        "        df[\"cache_coherence_vnet_index\"] = df[\"cache_coherence_type\"]*df[\"vnet\"]\n",
        "        df[\"vnet_vc_cc_index\"] = df[\"vc\"]*df[\"cache_coherence_vnet_index\"]\n",
        "        \n",
        "    rename(df)\n",
        "    \n",
        "    df['target'] = 0\n",
        "    \n",
        "    print(df.shape)\n",
        "        \n",
        "    df.to_csv('4-fft-malicious-n-0-6-9-15-m-1-12-r'+str(i)+'.csv',index=False)"
      ],
      "execution_count": 0,
      "outputs": []
    },
    {
      "cell_type": "code",
      "metadata": {
        "id": "mLcRMn_uIOyN",
        "colab_type": "code",
        "colab": {
          "base_uri": "https://localhost:8080/",
          "height": 289
        },
        "outputId": "a03f9412-f1ea-4319-8cc5-5c90e5464dc1"
      },
      "source": [
        "for i in range (0,16):\n",
        "    fetch(i)"
      ],
      "execution_count": 124,
      "outputs": [
        {
          "output_type": "stream",
          "text": [
            "(140312, 26)\n",
            "(154778, 26)\n",
            "(80081, 26)\n",
            "(53844, 26)\n",
            "(191578, 26)\n",
            "(145562, 26)\n",
            "(157020, 26)\n",
            "(127208, 26)\n",
            "(148163, 26)\n",
            "(166846, 26)\n",
            "(119314, 26)\n",
            "(157726, 26)\n",
            "(89975, 26)\n",
            "(69808, 26)\n",
            "(81579, 26)\n",
            "(123100, 26)\n"
          ],
          "name": "stdout"
        }
      ]
    }
  ]
}