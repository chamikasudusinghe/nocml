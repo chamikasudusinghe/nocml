{
 "cells": [
  {
   "cell_type": "code",
   "execution_count": 1,
   "metadata": {},
   "outputs": [],
   "source": [
    "import pandas as pd\n",
    "import matplotlib.pyplot as plt\n",
    "import seaborn as sns"
   ]
  },
  {
   "cell_type": "code",
   "execution_count": 2,
   "metadata": {},
   "outputs": [],
   "source": [
    "df = pd.read_csv('wats_mal.csv')"
   ]
  },
  {
   "cell_type": "code",
   "execution_count": 3,
   "metadata": {},
   "outputs": [
    {
     "data": {
      "text/plain": [
       "(258373, 17)"
      ]
     },
     "execution_count": 3,
     "metadata": {},
     "output_type": "execute_result"
    }
   ],
   "source": [
    "df.shape"
   ]
  },
  {
   "cell_type": "code",
   "execution_count": 4,
   "metadata": {},
   "outputs": [
    {
     "data": {
      "text/plain": [
       "time                 3151705\n",
       "router                    15\n",
       "outport                    4\n",
       "inport                     4\n",
       "packet_address       0xffec0\n",
       "packet_type                3\n",
       "flit_id                    4\n",
       "flit_type                  3\n",
       "vnet                       4\n",
       "vc                        19\n",
       "src_ni                    31\n",
       "src_router                15\n",
       "dst_ni                    31\n",
       "dst_router                15\n",
       "enq_time             3151676\n",
       "packet_address_id       2348\n",
       "target                   mal\n",
       "dtype: object"
      ]
     },
     "execution_count": 4,
     "metadata": {},
     "output_type": "execute_result"
    }
   ],
   "source": [
    "df.max()"
   ]
  },
  {
   "cell_type": "code",
   "execution_count": 5,
   "metadata": {},
   "outputs": [
    {
     "data": {
      "text/plain": [
       "time                  int64\n",
       "router                int64\n",
       "outport               int64\n",
       "inport                int64\n",
       "packet_address       object\n",
       "packet_type           int64\n",
       "flit_id               int64\n",
       "flit_type             int64\n",
       "vnet                  int64\n",
       "vc                    int64\n",
       "src_ni                int64\n",
       "src_router            int64\n",
       "dst_ni                int64\n",
       "dst_router            int64\n",
       "enq_time              int64\n",
       "packet_address_id     int64\n",
       "target               object\n",
       "dtype: object"
      ]
     },
     "execution_count": 5,
     "metadata": {},
     "output_type": "execute_result"
    }
   ],
   "source": [
    "df.dtypes"
   ]
  },
  {
   "cell_type": "code",
   "execution_count": 6,
   "metadata": {},
   "outputs": [],
   "source": [
    "interval = 99\n",
    "r0count = 0\n",
    "r1count = 0\n",
    "r2count = 0\n",
    "r3count = 0\n",
    "r4count = 0\n",
    "r5count = 0\n",
    "r6count = 0\n",
    "r7count = 0\n",
    "r8count = 0\n",
    "r9count = 0\n",
    "r10count = 0\n",
    "r11count = 0\n",
    "r12count = 0\n",
    "r13count = 0\n",
    "r14count = 0\n",
    "r15count = 0\n",
    "r0arr = []\n",
    "r1arr = []\n",
    "r2arr = []\n",
    "r3arr = []\n",
    "r4arr = []\n",
    "r5arr = []\n",
    "r6arr = []\n",
    "r7arr = []\n",
    "r8arr = []\n",
    "r9arr = []\n",
    "r10arr = []\n",
    "r11arr = []\n",
    "r12arr = []\n",
    "r13arr = []\n",
    "r14arr = []\n",
    "r15arr = []\n",
    "for index, row in df.iterrows():\n",
    "    if row['time']<=interval:\n",
    "        if row['router']==0:\n",
    "            r0count+=1\n",
    "        elif row['router']==1:\n",
    "            r1count+=1\n",
    "        elif row['router']==2:\n",
    "            r2count+=1\n",
    "        elif row['router']==3:\n",
    "            r3count+=1\n",
    "        elif row['router']==4:\n",
    "            r4count+=1\n",
    "        elif row['router']==5:\n",
    "            r5count+=1\n",
    "        elif row['router']==6:\n",
    "            r6count+=1\n",
    "        elif row['router']==7:\n",
    "            r7count+=1\n",
    "        elif row['router']==8:\n",
    "            r8count+=1\n",
    "        elif row['router']==9:\n",
    "            r9count+=1\n",
    "        elif row['router']==10:\n",
    "            r10count+=1\n",
    "        elif row['router']==11:\n",
    "            r11count+=1\n",
    "        elif row['router']==12:\n",
    "            r12count+=1\n",
    "        elif row['router']==13:\n",
    "            r13count+=1\n",
    "        elif row['router']==14:\n",
    "            r14count+=1\n",
    "        elif row['router']==15:\n",
    "            r15count+=1\n",
    "    else:\n",
    "        r0arr.append(r0count)\n",
    "        r1arr.append(r1count)\n",
    "        r2arr.append(r2count)\n",
    "        r3arr.append(r3count)\n",
    "        r4arr.append(r4count)\n",
    "        r5arr.append(r5count)\n",
    "        r6arr.append(r6count)\n",
    "        r7arr.append(r7count)\n",
    "        r8arr.append(r8count)\n",
    "        r9arr.append(r9count)\n",
    "        r10arr.append(r10count)\n",
    "        r11arr.append(r11count)\n",
    "        r12arr.append(r12count)\n",
    "        r13arr.append(r13count)\n",
    "        r14arr.append(r14count)\n",
    "        r15arr.append(r15count)\n",
    "        if row['router']==0:\n",
    "            r0count = 1\n",
    "        else:\n",
    "            r0count = 0\n",
    "        if row['router']==1:\n",
    "            r1count = 1\n",
    "        else:\n",
    "            r1count = 0\n",
    "        if row['router']==2:\n",
    "            r2count = 1\n",
    "        else:\n",
    "            r2count = 0\n",
    "        if row['router']==3:\n",
    "            r3count = 1\n",
    "        else:\n",
    "            r3count = 0\n",
    "        if row['router']==4:\n",
    "            r4count = 1\n",
    "        else:\n",
    "            r4count = 0\n",
    "        if row['router']==5:\n",
    "            r5count = 1\n",
    "        else:\n",
    "            r5count = 0\n",
    "        if row['router']==6:\n",
    "            r6count = 1\n",
    "        else:\n",
    "            r6count = 0\n",
    "        if row['router']==7:\n",
    "            r7count = 1\n",
    "        else:\n",
    "            r7count = 0\n",
    "        if row['router']==8:\n",
    "            r8count = 1\n",
    "        else:\n",
    "            r8count = 0\n",
    "        if row['router']==9:\n",
    "            r9count = 1\n",
    "        else:\n",
    "            r9count = 0\n",
    "        if row['router']==10:\n",
    "            r10count = 1\n",
    "        else:\n",
    "            r10count = 0\n",
    "        if row['router']==11:\n",
    "            r11count = 1\n",
    "        else:\n",
    "            r11count = 0\n",
    "        if row['router']==12:\n",
    "            r12count = 1\n",
    "        else:\n",
    "            r12count = 0\n",
    "        if row['router']==13:\n",
    "            r13count = 1\n",
    "        else:\n",
    "            r13count = 0\n",
    "        if row['router']==14:\n",
    "            r14count = 1\n",
    "        else:\n",
    "            r14count = 0\n",
    "        if row['router']==15:\n",
    "            r15count = 1\n",
    "        else:\n",
    "            r15count = 0\n",
    "        interval+=100"
   ]
  },
  {
   "cell_type": "code",
   "execution_count": 7,
   "metadata": {},
   "outputs": [],
   "source": [
    "df = pd.DataFrame(range(100,3151705,100), columns=[\"time_intervals\"]) "
   ]
  },
  {
   "cell_type": "code",
   "execution_count": 8,
   "metadata": {},
   "outputs": [
    {
     "data": {
      "text/html": [
       "<div>\n",
       "<style scoped>\n",
       "    .dataframe tbody tr th:only-of-type {\n",
       "        vertical-align: middle;\n",
       "    }\n",
       "\n",
       "    .dataframe tbody tr th {\n",
       "        vertical-align: top;\n",
       "    }\n",
       "\n",
       "    .dataframe thead th {\n",
       "        text-align: right;\n",
       "    }\n",
       "</style>\n",
       "<table border=\"1\" class=\"dataframe\">\n",
       "  <thead>\n",
       "    <tr style=\"text-align: right;\">\n",
       "      <th></th>\n",
       "      <th>time_intervals</th>\n",
       "    </tr>\n",
       "  </thead>\n",
       "  <tbody>\n",
       "    <tr>\n",
       "      <td>0</td>\n",
       "      <td>100</td>\n",
       "    </tr>\n",
       "    <tr>\n",
       "      <td>1</td>\n",
       "      <td>200</td>\n",
       "    </tr>\n",
       "    <tr>\n",
       "      <td>2</td>\n",
       "      <td>300</td>\n",
       "    </tr>\n",
       "    <tr>\n",
       "      <td>3</td>\n",
       "      <td>400</td>\n",
       "    </tr>\n",
       "    <tr>\n",
       "      <td>4</td>\n",
       "      <td>500</td>\n",
       "    </tr>\n",
       "    <tr>\n",
       "      <td>...</td>\n",
       "      <td>...</td>\n",
       "    </tr>\n",
       "    <tr>\n",
       "      <td>31512</td>\n",
       "      <td>3151300</td>\n",
       "    </tr>\n",
       "    <tr>\n",
       "      <td>31513</td>\n",
       "      <td>3151400</td>\n",
       "    </tr>\n",
       "    <tr>\n",
       "      <td>31514</td>\n",
       "      <td>3151500</td>\n",
       "    </tr>\n",
       "    <tr>\n",
       "      <td>31515</td>\n",
       "      <td>3151600</td>\n",
       "    </tr>\n",
       "    <tr>\n",
       "      <td>31516</td>\n",
       "      <td>3151700</td>\n",
       "    </tr>\n",
       "  </tbody>\n",
       "</table>\n",
       "<p>31517 rows × 1 columns</p>\n",
       "</div>"
      ],
      "text/plain": [
       "       time_intervals\n",
       "0                 100\n",
       "1                 200\n",
       "2                 300\n",
       "3                 400\n",
       "4                 500\n",
       "...               ...\n",
       "31512         3151300\n",
       "31513         3151400\n",
       "31514         3151500\n",
       "31515         3151600\n",
       "31516         3151700\n",
       "\n",
       "[31517 rows x 1 columns]"
      ]
     },
     "execution_count": 8,
     "metadata": {},
     "output_type": "execute_result"
    }
   ],
   "source": [
    "df"
   ]
  },
  {
   "cell_type": "code",
   "execution_count": 9,
   "metadata": {},
   "outputs": [
    {
     "data": {
      "text/plain": [
       "31517"
      ]
     },
     "execution_count": 9,
     "metadata": {},
     "output_type": "execute_result"
    }
   ],
   "source": [
    "len(r0arr)"
   ]
  },
  {
   "cell_type": "code",
   "execution_count": 10,
   "metadata": {},
   "outputs": [],
   "source": [
    "df = df.assign(r0=r0arr)\n",
    "df = df.assign(r1=r1arr)\n",
    "df = df.assign(r2=r2arr)\n",
    "df = df.assign(r3=r3arr)\n",
    "df = df.assign(r4=r4arr)\n",
    "df = df.assign(r5=r5arr)\n",
    "df = df.assign(r6=r6arr)\n",
    "df = df.assign(r7=r7arr)\n",
    "df = df.assign(r8=r8arr)\n",
    "df = df.assign(r9=r9arr)\n",
    "df = df.assign(r10=r10arr)\n",
    "df = df.assign(r11=r11arr)\n",
    "df = df.assign(r12=r12arr)\n",
    "df = df.assign(r13=r13arr)\n",
    "df = df.assign(r14=r14arr)\n",
    "df = df.assign(r15=r15arr)"
   ]
  },
  {
   "cell_type": "code",
   "execution_count": 11,
   "metadata": {},
   "outputs": [],
   "source": [
    "df['target']=0"
   ]
  },
  {
   "cell_type": "code",
   "execution_count": 12,
   "metadata": {},
   "outputs": [],
   "source": [
    "df.to_csv('wat-mal-time.csv',index=False)"
   ]
  }
 ],
 "metadata": {
  "kernelspec": {
   "display_name": "Python 3",
   "language": "python",
   "name": "python3"
  },
  "language_info": {
   "codemirror_mode": {
    "name": "ipython",
    "version": 3
   },
   "file_extension": ".py",
   "mimetype": "text/x-python",
   "name": "python",
   "nbconvert_exporter": "python",
   "pygments_lexer": "ipython3",
   "version": "3.7.4"
  }
 },
 "nbformat": 4,
 "nbformat_minor": 4
}
