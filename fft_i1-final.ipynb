{
  "nbformat": 4,
  "nbformat_minor": 0,
  "metadata": {
    "accelerator": "TPU",
    "colab": {
      "name": "fft-i1.ipynb",
      "provenance": [],
      "collapsed_sections": [],
      "include_colab_link": true
    },
    "kernelspec": {
      "display_name": "Python 3",
      "language": "python",
      "name": "python3"
    },
    "language_info": {
      "codemirror_mode": {
        "name": "ipython",
        "version": 3
      },
      "file_extension": ".py",
      "mimetype": "text/x-python",
      "name": "python",
      "nbconvert_exporter": "python",
      "pygments_lexer": "ipython3",
      "version": "3.7.7"
    }
  },
  "cells": [
    {
      "cell_type": "markdown",
      "metadata": {
        "id": "view-in-github",
        "colab_type": "text"
      },
      "source": [
        "<a href=\"https://colab.research.google.com/github/chamikasudusinghe/nocml/blob/master/fft_i1-final.ipynb\" target=\"_parent\"><img src=\"https://colab.research.google.com/assets/colab-badge.svg\" alt=\"Open In Colab\"/></a>"
      ]
    },
    {
      "cell_type": "markdown",
      "metadata": {
        "colab_type": "text",
        "id": "sFmit6AlgLJZ"
      },
      "source": [
        "Module Imports for Data Fetiching and Visualization\n",
        "\n"
      ]
    },
    {
      "cell_type": "code",
      "metadata": {
        "colab_type": "code",
        "id": "k-c4z9vpHg1z",
        "colab": {}
      },
      "source": [
        "import time\n",
        "import pandas as pd\n",
        "import numpy as np\n",
        "import math\n",
        "import pickle\n",
        "from functools import reduce"
      ],
      "execution_count": 0,
      "outputs": []
    },
    {
      "cell_type": "code",
      "metadata": {
        "id": "3Ii_wzLg_L0Y",
        "colab_type": "code",
        "outputId": "3e43c9f5-81e2-4467-8f4a-e60d0c4d57a4",
        "colab": {
          "base_uri": "https://localhost:8080/",
          "height": 71
        }
      },
      "source": [
        "import matplotlib.pyplot as plt\n",
        "import seaborn as sns"
      ],
      "execution_count": 2,
      "outputs": [
        {
          "output_type": "stream",
          "text": [
            "/usr/local/lib/python3.6/dist-packages/statsmodels/tools/_testing.py:19: FutureWarning: pandas.util.testing is deprecated. Use the functions in the public API at pandas.testing instead.\n",
            "  import pandas.util.testing as tm\n"
          ],
          "name": "stderr"
        }
      ]
    },
    {
      "cell_type": "code",
      "metadata": {
        "colab_type": "code",
        "id": "TV0grGca3WkY",
        "outputId": "17992c7e-eb0e-4d8b-989a-4328f10cf471",
        "colab": {
          "base_uri": "https://localhost:8080/",
          "height": 34
        }
      },
      "source": [
        "from google.colab import drive\n",
        "drive.mount('/content/drive')\n",
        "root_dir = \"/content/drive/My Drive/model-i1-less-features\""
      ],
      "execution_count": 3,
      "outputs": [
        {
          "output_type": "stream",
          "text": [
            "Drive already mounted at /content/drive; to attempt to forcibly remount, call drive.mount(\"/content/drive\", force_remount=True).\n"
          ],
          "name": "stdout"
        }
      ]
    },
    {
      "cell_type": "code",
      "metadata": {
        "colab_type": "code",
        "id": "zhZHRUXxHg13",
        "colab": {}
      },
      "source": [
        "from sklearn import preprocessing\n",
        "from sklearn.feature_selection import SelectKBest\n",
        "from sklearn.feature_selection import chi2"
      ],
      "execution_count": 0,
      "outputs": []
    },
    {
      "cell_type": "code",
      "metadata": {
        "colab_type": "code",
        "id": "x5oIMg977OyU",
        "colab": {}
      },
      "source": [
        "import statsmodels.api as sm\n",
        "from sklearn import metrics\n",
        "\n",
        "from sklearn.metrics import classification_report\n",
        "from sklearn.metrics import confusion_matrix\n",
        "\n",
        "from sklearn.metrics import roc_curve\n",
        "from sklearn.metrics import roc_auc_score\n",
        "from sklearn.metrics import accuracy_score\n",
        "\n",
        "from sklearn.model_selection import KFold\n",
        "from sklearn.model_selection import StratifiedKFold\n",
        "from sklearn.model_selection import cross_val_score"
      ],
      "execution_count": 0,
      "outputs": []
    },
    {
      "cell_type": "markdown",
      "metadata": {
        "colab_type": "text",
        "id": "GEH4mU3Tghd8"
      },
      "source": [
        "Importing Dataset from GitHub"
      ]
    },
    {
      "cell_type": "markdown",
      "metadata": {
        "colab_type": "text",
        "id": "kB28tdcoNPvn"
      },
      "source": [
        "Test Data"
      ]
    },
    {
      "cell_type": "code",
      "metadata": {
        "colab_type": "code",
        "id": "A3XFUS36e24-",
        "colab": {}
      },
      "source": [
        "df0_1 = pd.read_csv('https://raw.githubusercontent.com/chamikasudusinghe/nocml/master/dos%20results%20ver%204/router-dataset/r0/2-fft-malicious-n-0-15-m-12-r0.csv?token=AKVFSOCE3FVVG5OF4ZQWNJ263FQWA')\n",
        "df0_2 = pd.read_csv('https://raw.githubusercontent.com/chamikasudusinghe/nocml/master/dos%20results%20ver%204/router-dataset/r0/2-fft-malicious-n-0-15-m-7-r0.csv?token=AKVFSODFHFWKKECKFAQE2DS63FQFC')\n",
        "df0_3 = pd.read_csv('https://raw.githubusercontent.com/chamikasudusinghe/nocml/master/dos%20results%20ver%204/router-dataset/r0/2-fft-malicious-n-0-15-m-11-r0.csv?token=AKVFSOH52ILNZX4OJIY644263FPWO')"
      ],
      "execution_count": 0,
      "outputs": []
    },
    {
      "cell_type": "code",
      "metadata": {
        "colab_type": "code",
        "id": "vMYyqlWie3HW",
        "colab": {}
      },
      "source": [
        "df1_1 = pd.read_csv('https://raw.githubusercontent.com/chamikasudusinghe/nocml/master/dos%20results%20ver%204/router-dataset/r1/2-fft-malicious-n-0-15-m-12-r1.csv?token=AKVFSOC5UXUUHGMH6WRX2DS63IADW')\n",
        "df1_2 = pd.read_csv('https://raw.githubusercontent.com/chamikasudusinghe/nocml/master/dos%20results%20ver%204/router-dataset/r1/2-fft-malicious-n-0-15-m-7-r1.csv?token=AKVFSOCEMAZYITSUEMAWNZC63IAD4')\n",
        "df1_3 = pd.read_csv('https://raw.githubusercontent.com/chamikasudusinghe/nocml/master/dos%20results%20ver%204/router-dataset/r1/2-fft-malicious-n-0-15-m-11-r1.csv?token=AKVFSOH2WAU53NLLXJKHJZK63H7KM')"
      ],
      "execution_count": 0,
      "outputs": []
    },
    {
      "cell_type": "code",
      "metadata": {
        "colab_type": "code",
        "id": "hip6g3soe3Uq",
        "colab": {}
      },
      "source": [
        "df2_1 = pd.read_csv('https://raw.githubusercontent.com/chamikasudusinghe/nocml/master/dos%20results%20ver%204/router-dataset/r2/2-fft-malicious-n-0-15-m-12-r2.csv?token=AKVFSOHNXJCRW2Y5EHJ525263ICWK')\n",
        "df2_2 = pd.read_csv('https://raw.githubusercontent.com/chamikasudusinghe/nocml/master/dos%20results%20ver%204/router-dataset/r2/2-fft-malicious-n-0-15-m-7-r2.csv?token=AKVFSOFOWY6S2IPVTC5I3OK63ICWM')\n",
        "df2_3 = pd.read_csv('https://raw.githubusercontent.com/chamikasudusinghe/nocml/master/dos%20results%20ver%204/router-dataset/r2/2-fft-malicious-n-0-15-m-11-r2.csv?token=AKVFSOFQUUBBYNVV7YQ5NPS63IB6M')"
      ],
      "execution_count": 0,
      "outputs": []
    },
    {
      "cell_type": "code",
      "metadata": {
        "colab_type": "code",
        "id": "s-X8dyaee3ha",
        "colab": {}
      },
      "source": [
        "df3_1 = pd.read_csv('https://raw.githubusercontent.com/chamikasudusinghe/nocml/master/dos%20results%20ver%204/router-dataset/r3/2-fft-malicious-n-0-15-m-12-r3.csv?token=AKVFSOE4XEDCYO4VR63SV2C63IE7C')\n",
        "df3_2 = pd.read_csv('https://raw.githubusercontent.com/chamikasudusinghe/nocml/master/dos%20results%20ver%204/router-dataset/r3/2-fft-malicious-n-0-15-m-7-r3.csv?token=AKVFSOCVVADXM4BZ62CH6JC63IE7I')\n",
        "df3_3 = pd.read_csv('https://raw.githubusercontent.com/chamikasudusinghe/nocml/master/dos%20results%20ver%204/router-dataset/r3/2-fft-malicious-n-0-15-m-11-r3.csv?token=AKVFSOBVUGL7OSHKLIU3Z3S63IDNK')"
      ],
      "execution_count": 0,
      "outputs": []
    },
    {
      "cell_type": "code",
      "metadata": {
        "colab_type": "code",
        "id": "2NNmwmZGNLly",
        "colab": {}
      },
      "source": [
        "df4_1 = pd.read_csv('https://raw.githubusercontent.com/chamikasudusinghe/nocml/master/dos%20results%20ver%204/router-dataset/r4/2-fft-malicious-n-0-15-m-12-r4.csv?token=AKVFSOELY7EYPZC6QZRXOJ263INYG')\n",
        "df4_2 = pd.read_csv('https://raw.githubusercontent.com/chamikasudusinghe/nocml/master/dos%20results%20ver%204/router-dataset/r4/2-fft-malicious-n-0-15-m-7-r4.csv?token=AKVFSOA7ZSSOS55SHOQWE4K63INYK')\n",
        "df4_3 = pd.read_csv('https://raw.githubusercontent.com/chamikasudusinghe/nocml/master/dos%20results%20ver%204/router-dataset/r4/2-fft-malicious-n-0-15-m-11-r4.csv?token=AKVFSOGGFTANMBL73NT4MQS63INLS')"
      ],
      "execution_count": 0,
      "outputs": []
    },
    {
      "cell_type": "code",
      "metadata": {
        "colab_type": "code",
        "id": "cjNMkrDFexu6",
        "colab": {}
      },
      "source": [
        "df5_1 = pd.read_csv('https://raw.githubusercontent.com/chamikasudusinghe/nocml/master/dos%20results%20ver%204/router-dataset/r5/2-fft-malicious-n-0-15-m-12-r5.csv?token=AKVFSOFGZZNKP3BWO7VOX4263IPSK')\n",
        "df5_2 = pd.read_csv('https://raw.githubusercontent.com/chamikasudusinghe/nocml/master/dos%20results%20ver%204/router-dataset/r5/2-fft-malicious-n-0-15-m-7-r5.csv?token=AKVFSOF5WUCWSF74MB4QTN263IPSO')\n",
        "df5_3 = pd.read_csv('https://raw.githubusercontent.com/chamikasudusinghe/nocml/master/dos%20results%20ver%204/router-dataset/r5/2-fft-malicious-n-0-15-m-11-r5.csv?token=AKVFSOG4BTBXRS6QBNRTBWS63IPFS')"
      ],
      "execution_count": 0,
      "outputs": []
    },
    {
      "cell_type": "code",
      "metadata": {
        "colab_type": "code",
        "id": "MkpEnN66ex8O",
        "colab": {}
      },
      "source": [
        "df6_1 = pd.read_csv('https://raw.githubusercontent.com/chamikasudusinghe/nocml/master/dos%20results%20ver%204/router-dataset/r6/2-fft-malicious-n-0-15-m-12-r6.csv?token=AKVFSOGFXPLRBVFF2CSTSU263I2RE')\n",
        "df6_2 = pd.read_csv('https://raw.githubusercontent.com/chamikasudusinghe/nocml/master/dos%20results%20ver%204/router-dataset/r6/2-fft-malicious-n-0-15-m-7-r6.csv?token=AKVFSOCFZYWDIHTDXDL47DC63I2RG')\n",
        "df6_3 = pd.read_csv('https://raw.githubusercontent.com/chamikasudusinghe/nocml/master/dos%20results%20ver%204/router-dataset/r6/2-fft-malicious-n-0-15-m-11-r6.csv?token=AKVFSODRMP7WFOTNGA43XEC63I2IO')"
      ],
      "execution_count": 0,
      "outputs": []
    },
    {
      "cell_type": "code",
      "metadata": {
        "colab_type": "code",
        "id": "Ps-_gSHgeye1",
        "colab": {}
      },
      "source": [
        "df7_1 = pd.read_csv('https://raw.githubusercontent.com/chamikasudusinghe/nocml/master/dos%20results%20ver%204/router-dataset/r7/2-fft-malicious-n-0-15-m-12-r7.csv?token=AKVFSOGQXPD3OXG6OLC3P6S63I3WS')\n",
        "df7_2 = pd.read_csv('https://raw.githubusercontent.com/chamikasudusinghe/nocml/master/dos%20results%20ver%204/router-dataset/r7/2-fft-malicious-n-0-15-m-7-r7.csv?token=AKVFSOHR6N2LIBQVGJQFB4C63I3WY')\n",
        "df7_3 = pd.read_csv('https://raw.githubusercontent.com/chamikasudusinghe/nocml/master/dos%20results%20ver%204/router-dataset/r7/2-fft-malicious-n-0-15-m-11-r7.csv?token=AKVFSOAXOHNH6CKQ6IUNANS63I3MQ')"
      ],
      "execution_count": 0,
      "outputs": []
    },
    {
      "cell_type": "code",
      "metadata": {
        "colab_type": "code",
        "id": "qRN3IZ0Feypi",
        "colab": {}
      },
      "source": [
        "df8_1 = pd.read_csv('https://raw.githubusercontent.com/chamikasudusinghe/nocml/master/dos%20results%20ver%204/router-dataset/r8/2-fft-malicious-n-0-15-m-12-r8.csv?token=AKVFSOAKB2AYPBWMBTZQIB263I46G')\n",
        "df8_2 = pd.read_csv('https://raw.githubusercontent.com/chamikasudusinghe/nocml/master/dos%20results%20ver%204/router-dataset/r8/2-fft-malicious-n-0-15-m-7-r8.csv?token=AKVFSOBOOWHOYC7EACQCDNC63I46I')\n",
        "df8_3 = pd.read_csv('https://raw.githubusercontent.com/chamikasudusinghe/nocml/master/dos%20results%20ver%204/router-dataset/r8/2-fft-malicious-n-0-15-m-11-r8.csv?token=AKVFSOC4TLQUBVRJBWFEK6C63I4LO')"
      ],
      "execution_count": 0,
      "outputs": []
    },
    {
      "cell_type": "code",
      "metadata": {
        "colab_type": "code",
        "id": "su73xtuSey1-",
        "colab": {}
      },
      "source": [
        "df9_1 = pd.read_csv('https://raw.githubusercontent.com/chamikasudusinghe/nocml/master/dos%20results%20ver%204/router-dataset/r9/2-fft-malicious-n-0-15-m-12-r9.csv?token=AKVFSOBOHTVG3MJMJANN6WK63I6C2')\n",
        "df9_2 = pd.read_csv('https://raw.githubusercontent.com/chamikasudusinghe/nocml/master/dos%20results%20ver%204/router-dataset/r9/2-fft-malicious-n-0-15-m-7-r9.csv?token=AKVFSOB6G5XYPI2M2MYYVWK63I6C4')\n",
        "df9_3 = pd.read_csv('https://raw.githubusercontent.com/chamikasudusinghe/nocml/master/dos%20results%20ver%204/router-dataset/r9/2-fft-malicious-n-0-15-m-11-r9.csv?token=AKVFSOB5GJ644WPZILMYKES63I5X6')"
      ],
      "execution_count": 0,
      "outputs": []
    },
    {
      "cell_type": "code",
      "metadata": {
        "colab_type": "code",
        "id": "14aQHMUiezNl",
        "colab": {}
      },
      "source": [
        "df10_1 = pd.read_csv('https://raw.githubusercontent.com/chamikasudusinghe/nocml/master/dos%20results%20ver%204/router-dataset/r10/2-fft-malicious-n-0-15-m-12-r10.csv?token=AKVFSOFVGIPVBC454BZZIYS63JR4K')\n",
        "df10_2 = pd.read_csv('https://raw.githubusercontent.com/chamikasudusinghe/nocml/master/dos%20results%20ver%204/router-dataset/r10/2-fft-malicious-n-0-15-m-7-r10.csv?token=AKVFSOBYE5BQE7QZ4AMG2NS63JR4O')\n",
        "df10_3 = pd.read_csv('https://raw.githubusercontent.com/chamikasudusinghe/nocml/master/dos%20results%20ver%204/router-dataset/r10/2-fft-malicious-n-0-15-m-11-r10.csv?token=AKVFSOF6CTQCKY7F6NUI5SS63I6YO')"
      ],
      "execution_count": 0,
      "outputs": []
    },
    {
      "cell_type": "code",
      "metadata": {
        "colab_type": "code",
        "id": "2hSa3qFVezb7",
        "colab": {}
      },
      "source": [
        "df11_1 = pd.read_csv('https://raw.githubusercontent.com/chamikasudusinghe/nocml/master/dos%20results%20ver%204/router-dataset/r11/2-fft-malicious-n-0-15-m-12-r11.csv?token=AKVFSODFX632MJC3CW5FU7S63JEEK')\n",
        "df11_2 = pd.read_csv('https://raw.githubusercontent.com/chamikasudusinghe/nocml/master/dos%20results%20ver%204/router-dataset/r11/2-fft-malicious-n-0-15-m-7-r11.csv?token=AKVFSOGYGNPHWB42VH7Q2GK63JEEQ')\n",
        "df11_3 = pd.read_csv('https://raw.githubusercontent.com/chamikasudusinghe/nocml/master/dos%20results%20ver%204/router-dataset/r11/2-fft-malicious-n-0-15-m-11-r11.csv?token=AKVFSOBY5KWVYP7MVPVLSKS63JDDQ')"
      ],
      "execution_count": 0,
      "outputs": []
    },
    {
      "cell_type": "code",
      "metadata": {
        "colab_type": "code",
        "id": "-ihVq4rvezpQ",
        "colab": {}
      },
      "source": [
        "df12_1 = pd.read_csv('https://raw.githubusercontent.com/chamikasudusinghe/nocml/master/dos%20results%20ver%204/router-dataset/r12/2-fft-malicious-n-0-15-m-12-r12.csv?token=AKVFSOAQGBVPWTBK23STAH263JFYI')\n",
        "df12_2 = pd.read_csv('https://raw.githubusercontent.com/chamikasudusinghe/nocml/master/dos%20results%20ver%204/router-dataset/r12/2-fft-malicious-n-0-15-m-7-r12.csv?token=AKVFSOACXGKWQCFQJMZE7OK63JFYM')\n",
        "df12_3 = pd.read_csv('https://raw.githubusercontent.com/chamikasudusinghe/nocml/master/dos%20results%20ver%204/router-dataset/r12/2-fft-malicious-n-0-15-m-11-r12.csv?token=AKVFSODJ2VS24KRBYQIJD3S63JFGM')"
      ],
      "execution_count": 0,
      "outputs": []
    },
    {
      "cell_type": "code",
      "metadata": {
        "colab_type": "code",
        "id": "IQUBnDrLez2p",
        "colab": {}
      },
      "source": [
        "df13_1 = pd.read_csv('https://raw.githubusercontent.com/chamikasudusinghe/nocml/master/dos%20results%20ver%204/router-dataset/r13/2-fft-malicious-n-0-15-m-12-r13.csv?token=AKVFSOAXXM3UU5GITOILMOC63JHPW')\n",
        "df13_2 = pd.read_csv('https://raw.githubusercontent.com/chamikasudusinghe/nocml/master/dos%20results%20ver%204/router-dataset/r13/2-fft-malicious-n-0-15-m-7-r13.csv?token=AKVFSOFKNO7OWYS5BRNHQZK63JHP4')\n",
        "df13_3 = pd.read_csv('https://raw.githubusercontent.com/chamikasudusinghe/nocml/master/dos%20results%20ver%204/router-dataset/r13/2-fft-malicious-n-0-15-m-11-r13.csv?token=AKVFSOCO6G7PCJACTCL6OTK63JGKO')"
      ],
      "execution_count": 0,
      "outputs": []
    },
    {
      "cell_type": "code",
      "metadata": {
        "colab_type": "code",
        "id": "l4oU1cdre0Dh",
        "colab": {}
      },
      "source": [
        "df14_1 = pd.read_csv('https://raw.githubusercontent.com/chamikasudusinghe/nocml/master/dos%20results%20ver%204/router-dataset/r14/2-fft-malicious-n-0-15-m-12-r14.csv?token=AKVFSOCCWK2AKL76QQQFCWK63JIXI')\n",
        "df14_2 = pd.read_csv('https://raw.githubusercontent.com/chamikasudusinghe/nocml/master/dos%20results%20ver%204/router-dataset/r14/2-fft-malicious-n-0-15-m-7-r14.csv?token=AKVFSOFFLTHP6UWBLP76WXK63JIXM')\n",
        "df14_3 = pd.read_csv('https://raw.githubusercontent.com/chamikasudusinghe/nocml/master/dos%20results%20ver%204/router-dataset/r14/2-fft-malicious-n-0-15-m-11-r14.csv?token=AKVFSOH66ZAW6U6NJIEDAWK63JIH6')"
      ],
      "execution_count": 0,
      "outputs": []
    },
    {
      "cell_type": "code",
      "metadata": {
        "colab_type": "code",
        "id": "4rRmHL5He0Q5",
        "colab": {}
      },
      "source": [
        "df15_1 = pd.read_csv('https://raw.githubusercontent.com/chamikasudusinghe/nocml/master/dos%20results%20ver%204/router-dataset/r15/2-fft-malicious-n-0-15-m-12-r15.csv?token=AKVFSOFCIIATN53BXPZZYAS63JK5C')\n",
        "df15_2 = pd.read_csv('https://raw.githubusercontent.com/chamikasudusinghe/nocml/master/dos%20results%20ver%204/router-dataset/r15/2-fft-malicious-n-0-15-m-7-r15.csv?token=AKVFSOGNEHOF57IWO2H7FXC63JK5G')\n",
        "df15_3 = pd.read_csv('https://raw.githubusercontent.com/chamikasudusinghe/nocml/master/dos%20results%20ver%204/router-dataset/r15/2-fft-malicious-n-0-15-m-11-r15.csv?token=AKVFSOAFEHDGNJ6UICOJZQS63JJVK')"
      ],
      "execution_count": 0,
      "outputs": []
    },
    {
      "cell_type": "code",
      "metadata": {
        "colab_type": "code",
        "id": "lyFCjch-Qr7R",
        "outputId": "dbaaae09-c57f-4595-836d-c90ddacfa054",
        "colab": {
          "base_uri": "https://localhost:8080/",
          "height": 456
        }
      },
      "source": [
        "print(df15_3.shape)\n",
        "df15_3"
      ],
      "execution_count": 22,
      "outputs": [
        {
          "output_type": "stream",
          "text": [
            "(88873, 26)\n"
          ],
          "name": "stdout"
        },
        {
          "output_type": "execute_result",
          "data": {
            "text/html": [
              "<div>\n",
              "<style scoped>\n",
              "    .dataframe tbody tr th:only-of-type {\n",
              "        vertical-align: middle;\n",
              "    }\n",
              "\n",
              "    .dataframe tbody tr th {\n",
              "        vertical-align: top;\n",
              "    }\n",
              "\n",
              "    .dataframe thead th {\n",
              "        text-align: right;\n",
              "    }\n",
              "</style>\n",
              "<table border=\"1\" class=\"dataframe\">\n",
              "  <thead>\n",
              "    <tr style=\"text-align: right;\">\n",
              "      <th></th>\n",
              "      <th>timestamp</th>\n",
              "      <th>outport</th>\n",
              "      <th>inport</th>\n",
              "      <th>cache_coherence_type</th>\n",
              "      <th>flit_id</th>\n",
              "      <th>flit_type</th>\n",
              "      <th>vnet</th>\n",
              "      <th>vc</th>\n",
              "      <th>src_ni</th>\n",
              "      <th>src_router</th>\n",
              "      <th>dst_ni</th>\n",
              "      <th>dst_router</th>\n",
              "      <th>traversal_id</th>\n",
              "      <th>hop_count</th>\n",
              "      <th>current_hop</th>\n",
              "      <th>hop_percentage</th>\n",
              "      <th>enqueue_time</th>\n",
              "      <th>packet_count_decr</th>\n",
              "      <th>packet_count_incr</th>\n",
              "      <th>max_packet_count</th>\n",
              "      <th>packet_count_index</th>\n",
              "      <th>port_index</th>\n",
              "      <th>traversal_index</th>\n",
              "      <th>cache_coherence_vnet_index</th>\n",
              "      <th>vnet_vc_cc_index</th>\n",
              "      <th>target</th>\n",
              "    </tr>\n",
              "  </thead>\n",
              "  <tbody>\n",
              "    <tr>\n",
              "      <th>0</th>\n",
              "      <td>7</td>\n",
              "      <td>3</td>\n",
              "      <td>0</td>\n",
              "      <td>1</td>\n",
              "      <td>1</td>\n",
              "      <td>4</td>\n",
              "      <td>3</td>\n",
              "      <td>9</td>\n",
              "      <td>15</td>\n",
              "      <td>15</td>\n",
              "      <td>23</td>\n",
              "      <td>7</td>\n",
              "      <td>3</td>\n",
              "      <td>2</td>\n",
              "      <td>0</td>\n",
              "      <td>0.0</td>\n",
              "      <td>4</td>\n",
              "      <td>60</td>\n",
              "      <td>1</td>\n",
              "      <td>60</td>\n",
              "      <td>60</td>\n",
              "      <td>0</td>\n",
              "      <td>12</td>\n",
              "      <td>3</td>\n",
              "      <td>27</td>\n",
              "      <td>0</td>\n",
              "    </tr>\n",
              "    <tr>\n",
              "      <th>1</th>\n",
              "      <td>80</td>\n",
              "      <td>0</td>\n",
              "      <td>3</td>\n",
              "      <td>4</td>\n",
              "      <td>1</td>\n",
              "      <td>1</td>\n",
              "      <td>5</td>\n",
              "      <td>17</td>\n",
              "      <td>23</td>\n",
              "      <td>7</td>\n",
              "      <td>15</td>\n",
              "      <td>15</td>\n",
              "      <td>3</td>\n",
              "      <td>2</td>\n",
              "      <td>2</td>\n",
              "      <td>1.0</td>\n",
              "      <td>12</td>\n",
              "      <td>59</td>\n",
              "      <td>2</td>\n",
              "      <td>60</td>\n",
              "      <td>118</td>\n",
              "      <td>0</td>\n",
              "      <td>12</td>\n",
              "      <td>20</td>\n",
              "      <td>340</td>\n",
              "      <td>0</td>\n",
              "    </tr>\n",
              "    <tr>\n",
              "      <th>2</th>\n",
              "      <td>81</td>\n",
              "      <td>0</td>\n",
              "      <td>3</td>\n",
              "      <td>4</td>\n",
              "      <td>2</td>\n",
              "      <td>2</td>\n",
              "      <td>5</td>\n",
              "      <td>17</td>\n",
              "      <td>23</td>\n",
              "      <td>7</td>\n",
              "      <td>15</td>\n",
              "      <td>15</td>\n",
              "      <td>3</td>\n",
              "      <td>2</td>\n",
              "      <td>2</td>\n",
              "      <td>1.0</td>\n",
              "      <td>13</td>\n",
              "      <td>58</td>\n",
              "      <td>3</td>\n",
              "      <td>60</td>\n",
              "      <td>174</td>\n",
              "      <td>0</td>\n",
              "      <td>48</td>\n",
              "      <td>20</td>\n",
              "      <td>340</td>\n",
              "      <td>0</td>\n",
              "    </tr>\n",
              "    <tr>\n",
              "      <th>3</th>\n",
              "      <td>82</td>\n",
              "      <td>0</td>\n",
              "      <td>3</td>\n",
              "      <td>4</td>\n",
              "      <td>3</td>\n",
              "      <td>2</td>\n",
              "      <td>5</td>\n",
              "      <td>17</td>\n",
              "      <td>23</td>\n",
              "      <td>7</td>\n",
              "      <td>15</td>\n",
              "      <td>15</td>\n",
              "      <td>3</td>\n",
              "      <td>2</td>\n",
              "      <td>2</td>\n",
              "      <td>1.0</td>\n",
              "      <td>14</td>\n",
              "      <td>57</td>\n",
              "      <td>4</td>\n",
              "      <td>60</td>\n",
              "      <td>228</td>\n",
              "      <td>0</td>\n",
              "      <td>72</td>\n",
              "      <td>20</td>\n",
              "      <td>340</td>\n",
              "      <td>0</td>\n",
              "    </tr>\n",
              "    <tr>\n",
              "      <th>4</th>\n",
              "      <td>83</td>\n",
              "      <td>0</td>\n",
              "      <td>3</td>\n",
              "      <td>4</td>\n",
              "      <td>4</td>\n",
              "      <td>2</td>\n",
              "      <td>5</td>\n",
              "      <td>17</td>\n",
              "      <td>23</td>\n",
              "      <td>7</td>\n",
              "      <td>15</td>\n",
              "      <td>15</td>\n",
              "      <td>3</td>\n",
              "      <td>2</td>\n",
              "      <td>2</td>\n",
              "      <td>1.0</td>\n",
              "      <td>15</td>\n",
              "      <td>56</td>\n",
              "      <td>5</td>\n",
              "      <td>60</td>\n",
              "      <td>280</td>\n",
              "      <td>0</td>\n",
              "      <td>96</td>\n",
              "      <td>20</td>\n",
              "      <td>340</td>\n",
              "      <td>0</td>\n",
              "    </tr>\n",
              "    <tr>\n",
              "      <th>...</th>\n",
              "      <td>...</td>\n",
              "      <td>...</td>\n",
              "      <td>...</td>\n",
              "      <td>...</td>\n",
              "      <td>...</td>\n",
              "      <td>...</td>\n",
              "      <td>...</td>\n",
              "      <td>...</td>\n",
              "      <td>...</td>\n",
              "      <td>...</td>\n",
              "      <td>...</td>\n",
              "      <td>...</td>\n",
              "      <td>...</td>\n",
              "      <td>...</td>\n",
              "      <td>...</td>\n",
              "      <td>...</td>\n",
              "      <td>...</td>\n",
              "      <td>...</td>\n",
              "      <td>...</td>\n",
              "      <td>...</td>\n",
              "      <td>...</td>\n",
              "      <td>...</td>\n",
              "      <td>...</td>\n",
              "      <td>...</td>\n",
              "      <td>...</td>\n",
              "      <td>...</td>\n",
              "    </tr>\n",
              "    <tr>\n",
              "      <th>88868</th>\n",
              "      <td>3276374</td>\n",
              "      <td>3</td>\n",
              "      <td>0</td>\n",
              "      <td>5</td>\n",
              "      <td>2</td>\n",
              "      <td>2</td>\n",
              "      <td>3</td>\n",
              "      <td>9</td>\n",
              "      <td>15</td>\n",
              "      <td>15</td>\n",
              "      <td>27</td>\n",
              "      <td>11</td>\n",
              "      <td>30095</td>\n",
              "      <td>1</td>\n",
              "      <td>0</td>\n",
              "      <td>0.0</td>\n",
              "      <td>11</td>\n",
              "      <td>5</td>\n",
              "      <td>20</td>\n",
              "      <td>24</td>\n",
              "      <td>100</td>\n",
              "      <td>0</td>\n",
              "      <td>601900</td>\n",
              "      <td>15</td>\n",
              "      <td>135</td>\n",
              "      <td>0</td>\n",
              "    </tr>\n",
              "    <tr>\n",
              "      <th>88869</th>\n",
              "      <td>3276381</td>\n",
              "      <td>3</td>\n",
              "      <td>0</td>\n",
              "      <td>5</td>\n",
              "      <td>3</td>\n",
              "      <td>2</td>\n",
              "      <td>3</td>\n",
              "      <td>9</td>\n",
              "      <td>15</td>\n",
              "      <td>15</td>\n",
              "      <td>27</td>\n",
              "      <td>11</td>\n",
              "      <td>30095</td>\n",
              "      <td>1</td>\n",
              "      <td>0</td>\n",
              "      <td>0.0</td>\n",
              "      <td>18</td>\n",
              "      <td>4</td>\n",
              "      <td>21</td>\n",
              "      <td>24</td>\n",
              "      <td>84</td>\n",
              "      <td>0</td>\n",
              "      <td>902850</td>\n",
              "      <td>15</td>\n",
              "      <td>135</td>\n",
              "      <td>0</td>\n",
              "    </tr>\n",
              "    <tr>\n",
              "      <th>88870</th>\n",
              "      <td>3276388</td>\n",
              "      <td>3</td>\n",
              "      <td>0</td>\n",
              "      <td>5</td>\n",
              "      <td>4</td>\n",
              "      <td>2</td>\n",
              "      <td>3</td>\n",
              "      <td>9</td>\n",
              "      <td>15</td>\n",
              "      <td>15</td>\n",
              "      <td>27</td>\n",
              "      <td>11</td>\n",
              "      <td>30095</td>\n",
              "      <td>1</td>\n",
              "      <td>0</td>\n",
              "      <td>0.0</td>\n",
              "      <td>25</td>\n",
              "      <td>3</td>\n",
              "      <td>22</td>\n",
              "      <td>24</td>\n",
              "      <td>66</td>\n",
              "      <td>0</td>\n",
              "      <td>1203800</td>\n",
              "      <td>15</td>\n",
              "      <td>135</td>\n",
              "      <td>0</td>\n",
              "    </tr>\n",
              "    <tr>\n",
              "      <th>88871</th>\n",
              "      <td>3276395</td>\n",
              "      <td>3</td>\n",
              "      <td>0</td>\n",
              "      <td>5</td>\n",
              "      <td>5</td>\n",
              "      <td>3</td>\n",
              "      <td>3</td>\n",
              "      <td>9</td>\n",
              "      <td>15</td>\n",
              "      <td>15</td>\n",
              "      <td>27</td>\n",
              "      <td>11</td>\n",
              "      <td>30095</td>\n",
              "      <td>1</td>\n",
              "      <td>0</td>\n",
              "      <td>0.0</td>\n",
              "      <td>32</td>\n",
              "      <td>2</td>\n",
              "      <td>23</td>\n",
              "      <td>24</td>\n",
              "      <td>46</td>\n",
              "      <td>0</td>\n",
              "      <td>2257125</td>\n",
              "      <td>15</td>\n",
              "      <td>135</td>\n",
              "      <td>0</td>\n",
              "    </tr>\n",
              "    <tr>\n",
              "      <th>88872</th>\n",
              "      <td>3276396</td>\n",
              "      <td>3</td>\n",
              "      <td>0</td>\n",
              "      <td>1</td>\n",
              "      <td>1</td>\n",
              "      <td>4</td>\n",
              "      <td>3</td>\n",
              "      <td>10</td>\n",
              "      <td>15</td>\n",
              "      <td>15</td>\n",
              "      <td>27</td>\n",
              "      <td>11</td>\n",
              "      <td>30096</td>\n",
              "      <td>1</td>\n",
              "      <td>0</td>\n",
              "      <td>0.0</td>\n",
              "      <td>32</td>\n",
              "      <td>1</td>\n",
              "      <td>24</td>\n",
              "      <td>24</td>\n",
              "      <td>24</td>\n",
              "      <td>0</td>\n",
              "      <td>120384</td>\n",
              "      <td>3</td>\n",
              "      <td>30</td>\n",
              "      <td>0</td>\n",
              "    </tr>\n",
              "  </tbody>\n",
              "</table>\n",
              "<p>88873 rows × 26 columns</p>\n",
              "</div>"
            ],
            "text/plain": [
              "       timestamp  outport  ...  vnet_vc_cc_index  target\n",
              "0              7        3  ...                27       0\n",
              "1             80        0  ...               340       0\n",
              "2             81        0  ...               340       0\n",
              "3             82        0  ...               340       0\n",
              "4             83        0  ...               340       0\n",
              "...          ...      ...  ...               ...     ...\n",
              "88868    3276374        3  ...               135       0\n",
              "88869    3276381        3  ...               135       0\n",
              "88870    3276388        3  ...               135       0\n",
              "88871    3276395        3  ...               135       0\n",
              "88872    3276396        3  ...                30       0\n",
              "\n",
              "[88873 rows x 26 columns]"
            ]
          },
          "metadata": {
            "tags": []
          },
          "execution_count": 22
        }
      ]
    },
    {
      "cell_type": "code",
      "metadata": {
        "colab_type": "code",
        "id": "8rw34rA6NfcM",
        "colab": {}
      },
      "source": [
        "def roundup(x):\n",
        "  return int(math.ceil(x / 1000.0)) * 1000"
      ],
      "execution_count": 0,
      "outputs": []
    },
    {
      "cell_type": "code",
      "metadata": {
        "colab_type": "code",
        "id": "3LrtUuvdvyQY",
        "colab": {}
      },
      "source": [
        "def timecount(df):\n",
        "    timearr = []\n",
        "    interval = 999\n",
        "    count = 0\n",
        "    for index, row in df.iterrows():\n",
        "        if row[\"timestamp\"]<=interval :\n",
        "            count+=1\n",
        "        else:\n",
        "            timearr.append([interval+1,count])\n",
        "            count=1\n",
        "            if (row[\"timestamp\"] == roundup(row[\"timestamp\"])):\n",
        "              interval = row[\"timestamp\"]+999\n",
        "            else:\n",
        "              interval = roundup(row[\"timestamp\"])-1\n",
        "    timearr.append([interval+1,count])\n",
        "    return timearr"
      ],
      "execution_count": 0,
      "outputs": []
    },
    {
      "cell_type": "code",
      "metadata": {
        "colab_type": "code",
        "id": "YUYuKgbEv0G3",
        "colab": {}
      },
      "source": [
        "def standardize(df):\n",
        "  test_X = df.drop(columns=['target','timestamp','src_ni','src_router','dst_ni','dst_router','inport','cache_coherence_type','flit_id','flit_type','vnet','current_hop','hop_percentage','port_index','cache_coherence_vnet_index','vnet_vc_cc_index'])\n",
        "  test_Y = df['target']\n",
        "  x = test_X.values\n",
        "  min_max_scaler = preprocessing.MinMaxScaler()\n",
        "  columns = test_X.columns\n",
        "  x_scaled = min_max_scaler.fit_transform(x)\n",
        "  test_X = pd.DataFrame(x_scaled)\n",
        "  test_X.columns = columns\n",
        "  print(test_X[test_X.duplicated()].shape)\n",
        "  return test_X,test_Y"
      ],
      "execution_count": 0,
      "outputs": []
    },
    {
      "cell_type": "code",
      "metadata": {
        "colab_type": "code",
        "id": "XuEcJdEOxI4U",
        "colab": {}
      },
      "source": [
        "xgb_r0 = pickle.load(open(root_dir+\"/xgbc-r0l-i1.pickle.dat\", \"rb\"))\n",
        "xgb_r1 = pickle.load(open(root_dir+\"/xgbc-r1l-i1.pickle.dat\", \"rb\"))\n",
        "xgb_r2 = pickle.load(open(root_dir+\"/xgbc-r2l-i1.pickle.dat\", \"rb\"))\n",
        "xgb_r3 = pickle.load(open(root_dir+\"/xgbc-r3l-i1.pickle.dat\", \"rb\"))\n",
        "xgb_r4 = pickle.load(open(root_dir+\"/xgbc-r4l-i1.pickle.dat\", \"rb\"))\n",
        "xgb_r5 = pickle.load(open(root_dir+\"/xgbc-r5l-i1.pickle.dat\", \"rb\"))\n",
        "xgb_r6 = pickle.load(open(root_dir+\"/xgbc-r6l-i1.pickle.dat\", \"rb\"))\n",
        "xgb_r7 = pickle.load(open(root_dir+\"/xgbc-r7l-i1.pickle.dat\", \"rb\"))\n",
        "xgb_r8 = pickle.load(open(root_dir+\"/xgbc-r8l-i1.pickle.dat\", \"rb\"))\n",
        "xgb_r9 = pickle.load(open(root_dir+\"/xgbc-r9l-i1.pickle.dat\", \"rb\"))\n",
        "xgb_r10 = pickle.load(open(root_dir+\"/xgbc-r10l-i1.pickle.dat\", \"rb\"))\n",
        "xgb_r11 = pickle.load(open(root_dir+\"/xgbc-r11l-i1.pickle.dat\", \"rb\"))\n",
        "xgb_r12 = pickle.load(open(root_dir+\"/xgbc-r12l-i1.pickle.dat\", \"rb\"))\n",
        "xgb_r13 = pickle.load(open(root_dir+\"/xgbc-r13l-i1.pickle.dat\", \"rb\"))\n",
        "xgb_r14 = pickle.load(open(root_dir+\"/xgbc-r14l-i1.pickle.dat\", \"rb\"))\n",
        "xgb_r15 = pickle.load(open(root_dir+\"/xgbc-r15l-i1.pickle.dat\", \"rb\"))"
      ],
      "execution_count": 0,
      "outputs": []
    },
    {
      "cell_type": "code",
      "metadata": {
        "colab_type": "code",
        "id": "p5G7CkpwIRzC",
        "outputId": "327f9388-db1c-4714-809c-8ef921e451e0",
        "colab": {
          "base_uri": "https://localhost:8080/",
          "height": 34
        }
      },
      "source": [
        "df0_1.shape"
      ],
      "execution_count": 27,
      "outputs": [
        {
          "output_type": "execute_result",
          "data": {
            "text/plain": [
              "(97992, 26)"
            ]
          },
          "metadata": {
            "tags": []
          },
          "execution_count": 27
        }
      ]
    },
    {
      "cell_type": "code",
      "metadata": {
        "id": "fdVLKbmELgEK",
        "colab_type": "code",
        "colab": {}
      },
      "source": [
        "def window(j):\n",
        "\n",
        "  timearr0 = timecount(df0_3)\n",
        "  timearr1 = timecount(df1_3)\n",
        "  timearr2 = timecount(df2_3)\n",
        "  timearr3 = timecount(df3_3)\n",
        "  timearr4 = timecount(df4_3)\n",
        "  timearr5 = timecount(df5_3)\n",
        "  timearr6 = timecount(df6_3)\n",
        "  timearr7 = timecount(df7_3)\n",
        "  timearr8 = timecount(df8_3)\n",
        "  timearr9 = timecount(df9_3)\n",
        "  timearr10 = timecount(df10_3)\n",
        "  timearr11 = timecount(df11_3)\n",
        "  timearr12 = timecount(df12_3)\n",
        "  timearr13 = timecount(df13_3)\n",
        "  timearr14 = timecount(df14_3)\n",
        "  timearr15 = timecount(df15_3)\n",
        "\n",
        "  max_limit = max(timearr0[-1],timearr1[-1],timearr2[-1],timearr3[-1],timearr4[-1],timearr5[-1],timearr6[-1],timearr7[-1],timearr8[-1],timearr9[-1],timearr10[-1],timearr11[-1],timearr12[-1],timearr13[-1],timearr14[-1],timearr15[-1])\n",
        "\n",
        "  print(max_limit[0])\n",
        "  \n",
        "  def prediction(df,timearr,xgb):\n",
        "\n",
        "    test_X,test_Y = standardize (df)\n",
        "    counter = timearr[0][1]\n",
        "    result = []\n",
        "    begin = counter\n",
        "    text_X0 = test_X[:counter]\n",
        "    text_Y0 = test_Y[:counter]\n",
        "\n",
        "    #try:\n",
        "    #      kfold = KFold(n_splits=10, random_state=7, shuffle = True)\n",
        "    #      results = cross_val_score(xgb, text_X0, text_Y0, cv=kfold)\n",
        "    #      result.append([timearr[0][0],results.mean()*100,timearr[0][1]]) \n",
        "    #except:\n",
        "    y_pred_xgbc_test= xgb.predict(text_X0)\n",
        "    xgbc_score_test = accuracy_score(text_Y0,y_pred_xgbc_test)\n",
        "    result.append([timearr[0][0],xgbc_score_test*100,timearr[0][1]]) \n",
        "\n",
        "    for i in range(1,len(timearr)):\n",
        "\n",
        "      counter += timearr[i][1]\n",
        "\n",
        "      text_X0 = test_X[begin:counter]\n",
        "      text_Y0 = test_Y[begin:counter]\n",
        "\n",
        "      #try:\n",
        "      #    kfold = KFold(n_splits=10, random_state=7, shuffle = True)\n",
        "      #    results = cross_val_score(xgb, text_X0, text_Y0, cv=kfold)\n",
        "      #    result.append([timearr[i][0],results.mean()*100,timearr[i][1]]) \n",
        "      #except:\n",
        "      y_pred_xgbc_test= xgb.predict(text_X0)\n",
        "      xgbc_score_test = accuracy_score(text_Y0,y_pred_xgbc_test)\n",
        "      result.append([timearr[i][0],xgbc_score_test*100,timearr[i][1]])\n",
        "\n",
        "      begin = counter\n",
        "\n",
        "    return result\n",
        "\n",
        "  result0 = prediction(df0_3,timearr0,xgb_r0)\n",
        "  result1 = prediction(df1_3,timearr1,xgb_r1)\n",
        "  result2 = prediction(df2_3,timearr2,xgb_r2)\n",
        "  result3 = prediction(df3_3,timearr3,xgb_r3)\n",
        "  result4 = prediction(df4_3,timearr4,xgb_r4)\n",
        "  result5 = prediction(df5_3,timearr5,xgb_r5)\n",
        "  result6 = prediction(df6_3,timearr6,xgb_r6)\n",
        "  result7 = prediction(df7_3,timearr7,xgb_r7)\n",
        "  result8 = prediction(df8_3,timearr8,xgb_r8)\n",
        "  result9 = prediction(df9_3,timearr9,xgb_r9)\n",
        "  result10 = prediction(df10_3,timearr10,xgb_r10)\n",
        "  result11 = prediction(df11_3,timearr11,xgb_r11)\n",
        "  result12 = prediction(df12_3,timearr12,xgb_r12)\n",
        "  result13 = prediction(df13_3,timearr13,xgb_r13)\n",
        "  result14 = prediction(df14_3,timearr14,xgb_r14)\n",
        "  result15 = prediction(df15_3,timearr15,xgb_r15)\n",
        "\n",
        "  indexarr = []\n",
        "\n",
        "  for i in range(1000,int(max_limit[0])+1,1000):\n",
        "    indexarr.append(i)\n",
        "\n",
        "  df = pd.DataFrame()\n",
        "  df = df.assign(index=indexarr)\n",
        "\n",
        "  df0 = pd.DataFrame()\n",
        "  df0 = df0.assign(index=[i[0] for i in result0])\n",
        "  df0 = df0.assign(count0=[i[1] for i in result0])\n",
        "  df0 = df0.assign(count0_weight=[i[2] for i in result0])\n",
        "  print(df0.head(15))\n",
        "\n",
        "  df1 = pd.DataFrame()\n",
        "  df1 = df1.assign(index=[i[0] for i in result1])\n",
        "  df1 = df1.assign(count1=[i[1] for i in result1])\n",
        "  df1 = df1.assign(count1_weight=[i[2] for i in result1])\n",
        "\n",
        "  df2= pd.DataFrame()\n",
        "  df2 = df2.assign(index=[i[0] for i in result2])\n",
        "  df2 = df2.assign(count2=[i[1] for i in result2])\n",
        "  df2 = df2.assign(count2_weight=[i[2] for i in result2])\n",
        "\n",
        "  df3 = pd.DataFrame()\n",
        "  df3 = df3.assign(index=[i[0] for i in result3])\n",
        "  df3 = df3.assign(count3=[i[1] for i in result3])\n",
        "  df3 = df3.assign(count3_weight=[i[2] for i in result3])  \n",
        "\n",
        "  df4 = pd.DataFrame()\n",
        "  df4 = df4.assign(index=[i[0] for i in result4])\n",
        "  df4 = df4.assign(count4=[i[1] for i in result4])\n",
        "  df4 = df4.assign(count4_weight=[i[2] for i in result4])  \n",
        "\n",
        "  df5 = pd.DataFrame()\n",
        "  df5 = df5.assign(index=[i[0] for i in result5])\n",
        "  df5 = df5.assign(count5=[i[1] for i in result5])\n",
        "  df5 = df5.assign(count5_weight=[i[2] for i in result5])  \n",
        "\n",
        "  df6 = pd.DataFrame()\n",
        "  df6 = df6.assign(index=[i[0] for i in result6])\n",
        "  df6 = df6.assign(count6=[i[1] for i in result6])\n",
        "  df6 = df6.assign(count6_weight=[i[2] for i in result6])  \n",
        "\n",
        "  df7= pd.DataFrame()\n",
        "  df7 = df7.assign(index=[i[0] for i in result7])\n",
        "  df7 = df7.assign(count7=[i[1] for i in result7])\n",
        "  df7 = df7.assign(count7_weight=[i[2] for i in result7])  \n",
        "\n",
        "  df8 = pd.DataFrame()\n",
        "  df8 = df8.assign(index=[i[0] for i in result8])\n",
        "  df8 = df8.assign(count8=[i[1] for i in result8])\n",
        "  df8 = df8.assign(count8_weight=[i[2] for i in result8])  \n",
        "\n",
        "  df9 = pd.DataFrame()\n",
        "  df9 = df9.assign(index=[i[0] for i in result9])\n",
        "  df9 = df9.assign(count9=[i[1] for i in result9])\n",
        "  df9 = df9.assign(count9_weight=[i[2] for i in result9])  \n",
        "\n",
        "  df10 = pd.DataFrame()\n",
        "  df10 = df10.assign(index=[i[0] for i in result10])\n",
        "  df10 = df10.assign(count10=[i[1] for i in result10])\n",
        "  df10 = df10.assign(count10_weight=[i[2] for i in result10])  \n",
        "\n",
        "  df11 = pd.DataFrame()\n",
        "  df11 = df11.assign(index=[i[0] for i in result11])\n",
        "  df11 = df11.assign(count11=[i[1] for i in result11])\n",
        "  df11 = df11.assign(count11_weight=[i[2] for i in result11])  \n",
        "\n",
        "  df12= pd.DataFrame()\n",
        "  df12 = df12.assign(index=[i[0] for i in result12])\n",
        "  df12 = df12.assign(count12=[i[1] for i in result12])\n",
        "  df12 = df12.assign(count12_weight=[i[2] for i in result12])  \n",
        "\n",
        "  df13 = pd.DataFrame()\n",
        "  df13 = df13.assign(index=[i[0] for i in result13])\n",
        "  df13 = df13.assign(count13=[i[1] for i in result13])\n",
        "  df13 = df13.assign(count13_weight=[i[2] for i in result13])  \n",
        "\n",
        "  df14 = pd.DataFrame()\n",
        "  df14 = df14.assign(index=[i[0] for i in result14])\n",
        "  df14 = df14.assign(count14=[i[1] for i in result14])\n",
        "  df14 = df14.assign(count14_weight=[i[2] for i in result14])  \n",
        "\n",
        "  df15 = pd.DataFrame()\n",
        "  df15 = df15.assign(index=[i[0] for i in result15])\n",
        "  df15 = df15.assign(count15=[i[1] for i in result15])\n",
        "  df15 = df15.assign(count15_weight=[i[2] for i in result15])  \n",
        "\n",
        "  df0 = pd.merge(df,df0,on='index',how='left')\n",
        "  df1 = pd.merge(df,df1,on='index',how='left')\n",
        "  df2 = pd.merge(df,df2,on='index',how='left')\n",
        "  df3 = pd.merge(df,df3,on='index',how='left')\n",
        "  df4 = pd.merge(df,df4,on='index',how='left')\n",
        "  df5 = pd.merge(df,df5,on='index',how='left')\n",
        "  df6 = pd.merge(df,df6,on='index',how='left')\n",
        "  df7 = pd.merge(df,df7,on='index',how='left')\n",
        "  df8 = pd.merge(df,df8,on='index',how='left')\n",
        "  df9 = pd.merge(df,df9,on='index',how='left')\n",
        "  df10 = pd.merge(df,df10,on='index',how='left')\n",
        "  df11 = pd.merge(df,df11,on='index',how='left')\n",
        "  df12 = pd.merge(df,df12,on='index',how='left')\n",
        "  df13 = pd.merge(df,df13,on='index',how='left')\n",
        "  df14 = pd.merge(df,df14,on='index',how='left')\n",
        "  df15 = pd.merge(df,df15,on='index',how='left')\n",
        "\n",
        "  dfs = [df0, df1, df2, df3, df4, df5, df6,df7,df8,df9,df10,df11,df12,df13,df14,df15]\n",
        "\n",
        "  df_final = reduce(lambda left,right: pd.merge(left,right,on='index'), dfs)\n",
        "\n",
        "  print(df_final.isnull().sum())\n",
        "\n",
        "  df_final.to_csv('fft-i1-test-less-'+str(j)+'.csv',index=False)\n",
        "\n",
        "  print(df_final.head())\n"
      ],
      "execution_count": 0,
      "outputs": []
    },
    {
      "cell_type": "code",
      "metadata": {
        "id": "p0O1L_-jRqNk",
        "colab_type": "code",
        "outputId": "028f7511-bd3d-4449-a683-8bc690708c0b",
        "colab": {
          "base_uri": "https://localhost:8080/",
          "height": 1000
        }
      },
      "source": [
        "window(1)"
      ],
      "execution_count": 29,
      "outputs": [
        {
          "output_type": "stream",
          "text": [
            "3279000\n",
            "(0, 10)\n",
            "(0, 10)\n",
            "(0, 10)\n",
            "(0, 10)\n",
            "(0, 10)\n",
            "(0, 10)\n",
            "(0, 10)\n",
            "(0, 10)\n",
            "(0, 10)\n",
            "(0, 10)\n",
            "(0, 10)\n",
            "(0, 10)\n",
            "(0, 10)\n",
            "(0, 10)\n",
            "(0, 10)\n",
            "(0, 10)\n",
            "      index      count0  count0_weight\n",
            "0    1000.0  100.000000             61\n",
            "1    2000.0    0.000000             56\n",
            "2    3000.0   98.550725             69\n",
            "3    4000.0    0.000000             38\n",
            "4    5000.0  100.000000             73\n",
            "5    6000.0   88.679245             53\n",
            "6    7000.0    0.000000             58\n",
            "7    8000.0  100.000000             73\n",
            "8    9000.0    0.000000             63\n",
            "9   10000.0  100.000000            102\n",
            "10  11000.0    5.882353             68\n",
            "11  12000.0    0.000000             85\n",
            "12  13000.0   88.888889             99\n",
            "13  14000.0  100.000000             74\n",
            "14  15000.0  100.000000             68\n",
            "index                0\n",
            "count0             886\n",
            "count0_weight      886\n",
            "count1            1026\n",
            "count1_weight     1026\n",
            "count2            1300\n",
            "count2_weight     1300\n",
            "count3            1537\n",
            "count3_weight     1537\n",
            "count4             775\n",
            "count4_weight      775\n",
            "count5            1031\n",
            "count5_weight     1031\n",
            "count6            1141\n",
            "count6_weight     1141\n",
            "count7            1132\n",
            "count7_weight     1132\n",
            "count8             799\n",
            "count8_weight      799\n",
            "count9            1071\n",
            "count9_weight     1071\n",
            "count10           1188\n",
            "count10_weight    1188\n",
            "count11            864\n",
            "count11_weight     864\n",
            "count12            967\n",
            "count12_weight     967\n",
            "count13            932\n",
            "count13_weight     932\n",
            "count14            967\n",
            "count14_weight     967\n",
            "count15            878\n",
            "count15_weight     878\n",
            "dtype: int64\n",
            "   index      count0  count0_weight  ...  count14_weight     count15  count15_weight\n",
            "0   1000  100.000000           61.0  ...            18.0  100.000000            66.0\n",
            "1   2000    0.000000           56.0  ...            26.0  100.000000            65.0\n",
            "2   3000   98.550725           69.0  ...            10.0    0.000000            50.0\n",
            "3   4000    0.000000           38.0  ...            17.0    0.000000            51.0\n",
            "4   5000  100.000000           73.0  ...            17.0   10.606061            66.0\n",
            "\n",
            "[5 rows x 33 columns]\n"
          ],
          "name": "stdout"
        }
      ]
    },
    {
      "cell_type": "code",
      "metadata": {
        "id": "7epJH7ONVlOf",
        "colab_type": "code",
        "outputId": "ed399007-db50-45f5-f330-16b45b78a343",
        "colab": {
          "base_uri": "https://localhost:8080/",
          "height": 1000
        }
      },
      "source": [
        "window(2)"
      ],
      "execution_count": 31,
      "outputs": [
        {
          "output_type": "stream",
          "text": [
            "3276000\n",
            "(0, 10)\n",
            "(0, 10)\n",
            "(0, 10)\n",
            "(0, 10)\n",
            "(0, 10)\n",
            "(0, 10)\n",
            "(0, 10)\n",
            "(0, 10)\n",
            "(0, 10)\n",
            "(0, 10)\n",
            "(0, 10)\n",
            "(0, 10)\n",
            "(0, 10)\n",
            "(0, 10)\n",
            "(0, 10)\n",
            "(0, 10)\n",
            "      index      count0  count0_weight\n",
            "0    1000.0   59.016393             61\n",
            "1    2000.0  100.000000             58\n",
            "2    3000.0  100.000000             66\n",
            "3    4000.0  100.000000             39\n",
            "4    5000.0    0.000000             73\n",
            "5    6000.0   82.000000             50\n",
            "6    7000.0  100.000000             61\n",
            "7    8000.0  100.000000             72\n",
            "8    9000.0  100.000000             70\n",
            "9   10000.0  100.000000             99\n",
            "10  11000.0    0.000000             63\n",
            "11  12000.0   66.326531             98\n",
            "12  13000.0    0.000000             84\n",
            "13  14000.0  100.000000             74\n",
            "14  15000.0  100.000000             64\n",
            "index                0\n",
            "count0             801\n",
            "count0_weight      801\n",
            "count1             949\n",
            "count1_weight      949\n",
            "count2            1122\n",
            "count2_weight     1122\n",
            "count3            1290\n",
            "count3_weight     1290\n",
            "count4             725\n",
            "count4_weight      725\n",
            "count5             829\n",
            "count5_weight      829\n",
            "count6             812\n",
            "count6_weight      812\n",
            "count7             707\n",
            "count7_weight      707\n",
            "count8            1291\n",
            "count8_weight     1291\n",
            "count9            1212\n",
            "count9_weight     1212\n",
            "count10           1222\n",
            "count10_weight    1222\n",
            "count11            887\n",
            "count11_weight     887\n",
            "count12           1890\n",
            "count12_weight    1890\n",
            "count13           1502\n",
            "count13_weight    1502\n",
            "count14           1264\n",
            "count14_weight    1264\n",
            "count15           1016\n",
            "count15_weight    1016\n",
            "dtype: int64\n",
            "   index      count0  count0_weight  ...  count14_weight  count15  count15_weight\n",
            "0   1000   59.016393           61.0  ...            14.0      0.0            62.0\n",
            "1   2000  100.000000           58.0  ...            24.0    100.0            65.0\n",
            "2   3000  100.000000           66.0  ...             5.0    100.0            48.0\n",
            "3   4000  100.000000           39.0  ...            15.0      0.0            50.0\n",
            "4   5000    0.000000           73.0  ...            18.0      0.0            66.0\n",
            "\n",
            "[5 rows x 33 columns]\n"
          ],
          "name": "stdout"
        }
      ]
    },
    {
      "cell_type": "code",
      "metadata": {
        "id": "U4u8BA5wRHh-",
        "colab_type": "code",
        "outputId": "11ff857a-1d95-4981-e1d4-c9d546668c53",
        "colab": {
          "base_uri": "https://localhost:8080/",
          "height": 1000
        }
      },
      "source": [
        "window(3)"
      ],
      "execution_count": 33,
      "outputs": [
        {
          "output_type": "stream",
          "text": [
            "3277000\n",
            "(0, 10)\n",
            "(0, 10)\n",
            "(0, 10)\n",
            "(0, 10)\n",
            "(0, 10)\n",
            "(0, 10)\n",
            "(0, 10)\n",
            "(0, 10)\n",
            "(0, 10)\n",
            "(0, 10)\n",
            "(0, 10)\n",
            "(0, 10)\n",
            "(0, 10)\n",
            "(0, 10)\n",
            "(0, 10)\n",
            "(0, 10)\n",
            "      index      count0  count0_weight\n",
            "0    1000.0    6.557377             61\n",
            "1    2000.0    8.620690             58\n",
            "2    3000.0  100.000000             67\n",
            "3    4000.0  100.000000             39\n",
            "4    5000.0    0.000000             72\n",
            "5    6000.0    0.000000             50\n",
            "6    7000.0    0.000000             60\n",
            "7    8000.0    0.000000             72\n",
            "8    9000.0    0.000000             72\n",
            "9   10000.0  100.000000             99\n",
            "10  11000.0   11.290323             62\n",
            "11  12000.0  100.000000            102\n",
            "12  13000.0    0.000000             85\n",
            "13  14000.0  100.000000             70\n",
            "14  15000.0  100.000000             63\n",
            "index                0\n",
            "count0             892\n",
            "count0_weight      892\n",
            "count1            1004\n",
            "count1_weight     1004\n",
            "count2            1173\n",
            "count2_weight     1173\n",
            "count3            1341\n",
            "count3_weight     1341\n",
            "count4             860\n",
            "count4_weight      860\n",
            "count5            1038\n",
            "count5_weight     1038\n",
            "count6            1040\n",
            "count6_weight     1040\n",
            "count7            1004\n",
            "count7_weight     1004\n",
            "count8            1218\n",
            "count8_weight     1218\n",
            "count9            1004\n",
            "count9_weight     1004\n",
            "count10            961\n",
            "count10_weight     961\n",
            "count11            687\n",
            "count11_weight     687\n",
            "count12           1896\n",
            "count12_weight    1896\n",
            "count13           1509\n",
            "count13_weight    1509\n",
            "count14           1280\n",
            "count14_weight    1280\n",
            "count15           1032\n",
            "count15_weight    1032\n",
            "dtype: int64\n",
            "   index      count0  count0_weight  ...  count14_weight    count15  count15_weight\n",
            "0   1000    6.557377           61.0  ...            14.0    0.00000            60.0\n",
            "1   2000    8.620690           58.0  ...            24.0  100.00000            67.0\n",
            "2   3000  100.000000           67.0  ...             5.0    0.00000            47.0\n",
            "3   4000  100.000000           39.0  ...            15.0    2.12766            47.0\n",
            "4   5000    0.000000           72.0  ...            18.0  100.00000            70.0\n",
            "\n",
            "[5 rows x 33 columns]\n"
          ],
          "name": "stdout"
        }
      ]
    },
    {
      "cell_type": "code",
      "metadata": {
        "id": "aEy1WvyKRoAa",
        "colab_type": "code",
        "outputId": "ee760ddb-56b2-4456-e45e-2e62ac3df5be",
        "colab": {
          "base_uri": "https://localhost:8080/",
          "height": 1000
        }
      },
      "source": [
        "window(4)"
      ],
      "execution_count": 0,
      "outputs": [
        {
          "output_type": "stream",
          "text": [
            "3267000.0\n",
            "(0, 10)\n",
            "(0, 10)\n",
            "(0, 10)\n",
            "(0, 10)\n",
            "(0, 10)\n",
            "(0, 10)\n",
            "(0, 10)\n",
            "(0, 10)\n",
            "(0, 10)\n",
            "(0, 10)\n",
            "(0, 10)\n",
            "(0, 10)\n",
            "(0, 10)\n"
          ],
          "name": "stdout"
        },
        {
          "output_type": "stream",
          "text": [
            "/usr/local/lib/python3.6/dist-packages/numpy/lib/function_base.py:393: RuntimeWarning: Mean of empty slice.\n",
            "  avg = a.mean(axis)\n",
            "/usr/local/lib/python3.6/dist-packages/numpy/core/_methods.py:161: RuntimeWarning: invalid value encountered in double_scalars\n",
            "  ret = ret.dtype.type(ret / rcount)\n"
          ],
          "name": "stderr"
        },
        {
          "output_type": "stream",
          "text": [
            "(0, 10)\n"
          ],
          "name": "stdout"
        },
        {
          "output_type": "stream",
          "text": [
            "/usr/local/lib/python3.6/dist-packages/numpy/lib/function_base.py:393: RuntimeWarning: Mean of empty slice.\n",
            "  avg = a.mean(axis)\n",
            "/usr/local/lib/python3.6/dist-packages/numpy/core/_methods.py:161: RuntimeWarning: invalid value encountered in double_scalars\n",
            "  ret = ret.dtype.type(ret / rcount)\n"
          ],
          "name": "stderr"
        },
        {
          "output_type": "stream",
          "text": [
            "(0, 10)\n",
            "(0, 10)\n",
            "      index  count0  count0_weight\n",
            "0    1000.0   100.0             61\n",
            "1    2000.0   100.0             63\n",
            "2    3000.0   100.0             62\n",
            "3    4000.0   100.0             39\n",
            "4    5000.0     0.0             72\n",
            "5    6000.0    25.0             56\n",
            "6    7000.0   100.0             62\n",
            "7    8000.0     0.0             73\n",
            "8    9000.0     0.0             70\n",
            "9   10000.0   100.0            101\n",
            "10  11000.0     0.0             63\n",
            "11  12000.0   100.0            109\n",
            "12  13000.0   100.0             80\n",
            "13  14000.0   100.0             67\n",
            "14  15000.0   100.0             72\n",
            "index                0\n",
            "count0             884\n",
            "count0_weight      884\n",
            "count1            1026\n",
            "count1_weight     1026\n",
            "count2            1283\n",
            "count2_weight     1283\n",
            "count3            1528\n",
            "count3_weight     1528\n",
            "count4             636\n",
            "count4_weight      636\n",
            "count5             766\n",
            "count5_weight      766\n",
            "count6             818\n",
            "count6_weight      818\n",
            "count7             807\n",
            "count7_weight      807\n",
            "count8            1346\n",
            "count8_weight     1346\n",
            "count9            1390\n",
            "count9_weight     1390\n",
            "count10           1424\n",
            "count10_weight    1424\n",
            "count11           1427\n",
            "count11_weight    1427\n",
            "count12           1926\n",
            "count12_weight    1925\n",
            "count13           1867\n",
            "count13_weight    1866\n",
            "count14           1804\n",
            "count14_weight    1804\n",
            "count15           1750\n",
            "count15_weight    1750\n",
            "dtype: int64\n",
            "   index  count0  count0_weight  ...  count14_weight  count15  count15_weight\n",
            "0   1000   100.0           61.0  ...             9.0      0.0             3.0\n",
            "1   2000   100.0           63.0  ...            15.0    100.0             9.0\n",
            "2   3000   100.0           62.0  ...             NaN      NaN             NaN\n",
            "3   4000   100.0           39.0  ...            10.0      0.0            10.0\n",
            "4   5000     0.0           72.0  ...            14.0    100.0            19.0\n",
            "\n",
            "[5 rows x 33 columns]\n"
          ],
          "name": "stdout"
        }
      ]
    },
    {
      "cell_type": "code",
      "metadata": {
        "id": "oImyCR7LXx2h",
        "colab_type": "code",
        "outputId": "1968c6f8-4a63-488b-b67a-24774da4b6c1",
        "colab": {
          "base_uri": "https://localhost:8080/",
          "height": 1000
        }
      },
      "source": [
        "window(5)"
      ],
      "execution_count": 0,
      "outputs": [
        {
          "output_type": "stream",
          "text": [
            "3274000\n",
            "(0, 10)\n",
            "(0, 10)\n",
            "(0, 10)\n",
            "(0, 10)\n",
            "(0, 10)\n",
            "(0, 10)\n",
            "(0, 10)\n",
            "(0, 10)\n",
            "(0, 10)\n",
            "(0, 10)\n",
            "(0, 10)\n",
            "(0, 10)\n",
            "(0, 10)\n",
            "(0, 10)\n",
            "(0, 10)\n",
            "(0, 10)\n",
            "      index      count0  count0_weight\n",
            "0    1000.0  100.000000             61\n",
            "1    2000.0   52.380952             63\n",
            "2    3000.0    4.838710             62\n",
            "3    4000.0    0.000000             44\n",
            "4    5000.0   32.835821             67\n",
            "5    6000.0  100.000000             56\n",
            "6    7000.0   44.444444             63\n",
            "7    8000.0    0.000000             76\n",
            "8    9000.0  100.000000             64\n",
            "9   10000.0  100.000000            103\n",
            "10  11000.0    0.000000             63\n",
            "11  12000.0  100.000000            103\n",
            "12  13000.0    8.235294             85\n",
            "13  14000.0  100.000000             72\n",
            "14  15000.0  100.000000             66\n",
            "index                0\n",
            "count0             897\n",
            "count0_weight      897\n",
            "count1            1035\n",
            "count1_weight     1035\n",
            "count2            1315\n",
            "count2_weight     1315\n",
            "count3            1834\n",
            "count3_weight     1834\n",
            "count4             722\n",
            "count4_weight      722\n",
            "count5             859\n",
            "count5_weight      859\n",
            "count6             822\n",
            "count6_weight      822\n",
            "count7            1212\n",
            "count7_weight     1212\n",
            "count8             859\n",
            "count8_weight      859\n",
            "count9            1133\n",
            "count9_weight     1133\n",
            "count10           1177\n",
            "count10_weight    1177\n",
            "count11           1311\n",
            "count11_weight    1311\n",
            "count12           1081\n",
            "count12_weight    1081\n",
            "count13           1193\n",
            "count13_weight    1193\n",
            "count14           1283\n",
            "count14_weight    1283\n",
            "count15           1418\n",
            "count15_weight    1418\n",
            "dtype: int64\n",
            "   index      count0  count0_weight  ...  count14_weight     count15  count15_weight\n",
            "0   1000  100.000000           61.0  ...            13.0  100.000000             6.0\n",
            "1   2000   52.380952           63.0  ...            17.0  100.000000            10.0\n",
            "2   3000    4.838710           62.0  ...             6.0   50.000000             2.0\n",
            "3   4000    0.000000           44.0  ...            12.0   91.666667            12.0\n",
            "4   5000   32.835821           67.0  ...            12.0  100.000000            18.0\n",
            "\n",
            "[5 rows x 33 columns]\n"
          ],
          "name": "stdout"
        }
      ]
    },
    {
      "cell_type": "code",
      "metadata": {
        "id": "X15HArdAb87f",
        "colab_type": "code",
        "outputId": "30dd0e24-ebcf-4945-9d5d-ed17cfc30221",
        "colab": {
          "base_uri": "https://localhost:8080/",
          "height": 1000
        }
      },
      "source": [
        "window(6)"
      ],
      "execution_count": 0,
      "outputs": [
        {
          "output_type": "stream",
          "text": [
            "3267000.0\n",
            "(0, 10)\n",
            "(0, 10)\n",
            "(0, 10)\n",
            "(0, 10)\n",
            "(0, 10)\n",
            "(0, 10)\n",
            "(0, 10)\n",
            "(0, 10)\n",
            "(0, 10)\n",
            "(0, 10)\n",
            "(0, 10)\n",
            "(0, 10)\n",
            "(0, 10)\n"
          ],
          "name": "stdout"
        },
        {
          "output_type": "stream",
          "text": [
            "/usr/local/lib/python3.6/dist-packages/numpy/lib/function_base.py:393: RuntimeWarning: Mean of empty slice.\n",
            "  avg = a.mean(axis)\n",
            "/usr/local/lib/python3.6/dist-packages/numpy/core/_methods.py:161: RuntimeWarning: invalid value encountered in double_scalars\n",
            "  ret = ret.dtype.type(ret / rcount)\n"
          ],
          "name": "stderr"
        },
        {
          "output_type": "stream",
          "text": [
            "(0, 10)\n"
          ],
          "name": "stdout"
        },
        {
          "output_type": "stream",
          "text": [
            "/usr/local/lib/python3.6/dist-packages/numpy/lib/function_base.py:393: RuntimeWarning: Mean of empty slice.\n",
            "  avg = a.mean(axis)\n",
            "/usr/local/lib/python3.6/dist-packages/numpy/core/_methods.py:161: RuntimeWarning: invalid value encountered in double_scalars\n",
            "  ret = ret.dtype.type(ret / rcount)\n"
          ],
          "name": "stderr"
        },
        {
          "output_type": "stream",
          "text": [
            "(0, 10)\n",
            "(0, 10)\n",
            "      index      count0  count0_weight\n",
            "0    1000.0  100.000000             61\n",
            "1    2000.0  100.000000             64\n",
            "2    3000.0  100.000000             61\n",
            "3    4000.0    0.000000             39\n",
            "4    5000.0    0.000000             72\n",
            "5    6000.0    5.263158             57\n",
            "6    7000.0  100.000000             63\n",
            "7    8000.0    0.000000             72\n",
            "8    9000.0    0.000000             69\n",
            "9   10000.0  100.000000            100\n",
            "10  11000.0    0.000000             60\n",
            "11  12000.0  100.000000            109\n",
            "12  13000.0   37.974684             79\n",
            "13  14000.0  100.000000             72\n",
            "14  15000.0  100.000000             67\n",
            "index                0\n",
            "count0             920\n",
            "count0_weight      920\n",
            "count1            1032\n",
            "count1_weight     1032\n",
            "count2            1202\n",
            "count2_weight     1202\n",
            "count3            1561\n",
            "count3_weight     1561\n",
            "count4             748\n",
            "count4_weight      748\n",
            "count5             773\n",
            "count5_weight      773\n",
            "count6             640\n",
            "count6_weight      640\n",
            "count7             786\n",
            "count7_weight      786\n",
            "count8            1417\n",
            "count8_weight     1417\n",
            "count9            1414\n",
            "count9_weight     1414\n",
            "count10           1328\n",
            "count10_weight    1328\n",
            "count11           1426\n",
            "count11_weight    1426\n",
            "count12           2169\n",
            "count12_weight    2168\n",
            "count13           2010\n",
            "count13_weight    2009\n",
            "count14           1816\n",
            "count14_weight    1816\n",
            "count15           1764\n",
            "count15_weight    1764\n",
            "dtype: int64\n",
            "   index  count0  count0_weight  ...  count14_weight     count15  count15_weight\n",
            "0   1000   100.0           61.0  ...             9.0    0.000000             3.0\n",
            "1   2000   100.0           64.0  ...            15.0  100.000000             9.0\n",
            "2   3000   100.0           61.0  ...             NaN         NaN             NaN\n",
            "3   4000     0.0           39.0  ...            11.0    9.090909            11.0\n",
            "4   5000     0.0           72.0  ...            13.0  100.000000            18.0\n",
            "\n",
            "[5 rows x 33 columns]\n"
          ],
          "name": "stdout"
        }
      ]
    },
    {
      "cell_type": "code",
      "metadata": {
        "id": "KLz0Mstwe8iF",
        "colab_type": "code",
        "outputId": "eea9aed3-6915-4880-be64-6ec8d9850f46",
        "colab": {
          "base_uri": "https://localhost:8080/",
          "height": 1000
        }
      },
      "source": [
        "window(7)"
      ],
      "execution_count": 0,
      "outputs": [
        {
          "output_type": "stream",
          "text": [
            "3273000\n",
            "(0, 10)\n",
            "(0, 10)\n",
            "(0, 10)\n",
            "(0, 10)\n",
            "(0, 10)\n",
            "(0, 10)\n",
            "(0, 10)\n",
            "(0, 10)\n",
            "(0, 10)\n",
            "(0, 10)\n",
            "(0, 10)\n",
            "(0, 10)\n",
            "(0, 10)\n",
            "(0, 10)\n",
            "(0, 10)\n",
            "(0, 10)\n",
            "      index      count0  count0_weight\n",
            "0    1000.0  100.000000             61\n",
            "1    2000.0  100.000000             63\n",
            "2    3000.0  100.000000             62\n",
            "3    4000.0    0.000000             44\n",
            "4    5000.0   76.119403             67\n",
            "5    6000.0   12.500000             56\n",
            "6    7000.0  100.000000             65\n",
            "7    8000.0    0.000000             69\n",
            "8    9000.0    0.000000             70\n",
            "9   10000.0  100.000000            103\n",
            "10  11000.0    0.000000             69\n",
            "11  12000.0  100.000000             95\n",
            "12  13000.0   22.619048             84\n",
            "13  14000.0  100.000000             75\n",
            "14  15000.0  100.000000             71\n",
            "index                0\n",
            "count0             865\n",
            "count0_weight      865\n",
            "count1            1008\n",
            "count1_weight     1008\n",
            "count2            1438\n",
            "count2_weight     1438\n",
            "count3            1844\n",
            "count3_weight     1844\n",
            "count4             739\n",
            "count4_weight      739\n",
            "count5             903\n",
            "count5_weight      903\n",
            "count6            1160\n",
            "count6_weight     1160\n",
            "count7            1316\n",
            "count7_weight     1316\n",
            "count8             798\n",
            "count8_weight      798\n",
            "count9             746\n",
            "count9_weight      746\n",
            "count10           1043\n",
            "count10_weight    1043\n",
            "count11           1157\n",
            "count11_weight    1157\n",
            "count12           1080\n",
            "count12_weight    1080\n",
            "count13           1089\n",
            "count13_weight    1089\n",
            "count14           1272\n",
            "count14_weight    1272\n",
            "count15           1418\n",
            "count15_weight    1418\n",
            "dtype: int64\n",
            "   index      count0  count0_weight  ...  count14_weight  count15  count15_weight\n",
            "0   1000  100.000000           61.0  ...            13.0    100.0             6.0\n",
            "1   2000  100.000000           63.0  ...            17.0    100.0            10.0\n",
            "2   3000  100.000000           62.0  ...             6.0      0.0             3.0\n",
            "3   4000    0.000000           44.0  ...            12.0    100.0            13.0\n",
            "4   5000   76.119403           67.0  ...            12.0    100.0            16.0\n",
            "\n",
            "[5 rows x 33 columns]\n"
          ],
          "name": "stdout"
        }
      ]
    },
    {
      "cell_type": "code",
      "metadata": {
        "id": "WaFJrvw3e9eq",
        "colab_type": "code",
        "outputId": "54840810-7e6b-4c8d-d41c-d8bff63dc955",
        "colab": {
          "base_uri": "https://localhost:8080/",
          "height": 1000
        }
      },
      "source": [
        "window(8)"
      ],
      "execution_count": 0,
      "outputs": [
        {
          "output_type": "stream",
          "text": [
            "3267000\n",
            "(0, 10)\n",
            "(0, 10)\n",
            "(0, 10)\n",
            "(0, 10)\n",
            "(0, 10)\n",
            "(0, 10)\n",
            "(0, 10)\n",
            "(0, 10)\n",
            "(0, 10)\n",
            "(0, 10)\n",
            "(0, 10)\n",
            "(0, 10)\n",
            "(0, 10)\n"
          ],
          "name": "stdout"
        },
        {
          "output_type": "stream",
          "text": [
            "/usr/local/lib/python3.6/dist-packages/numpy/lib/function_base.py:393: RuntimeWarning: Mean of empty slice.\n",
            "  avg = a.mean(axis)\n",
            "/usr/local/lib/python3.6/dist-packages/numpy/core/_methods.py:161: RuntimeWarning: invalid value encountered in double_scalars\n",
            "  ret = ret.dtype.type(ret / rcount)\n"
          ],
          "name": "stderr"
        },
        {
          "output_type": "stream",
          "text": [
            "(0, 10)\n"
          ],
          "name": "stdout"
        },
        {
          "output_type": "stream",
          "text": [
            "/usr/local/lib/python3.6/dist-packages/numpy/lib/function_base.py:393: RuntimeWarning: Mean of empty slice.\n",
            "  avg = a.mean(axis)\n",
            "/usr/local/lib/python3.6/dist-packages/numpy/core/_methods.py:161: RuntimeWarning: invalid value encountered in double_scalars\n",
            "  ret = ret.dtype.type(ret / rcount)\n"
          ],
          "name": "stderr"
        },
        {
          "output_type": "stream",
          "text": [
            "(0, 10)\n",
            "(0, 10)\n",
            "      index      count0  count0_weight\n",
            "0    1000.0  100.000000             61\n",
            "1    2000.0  100.000000             62\n",
            "2    3000.0  100.000000             63\n",
            "3    4000.0  100.000000             39\n",
            "4    5000.0    0.000000             72\n",
            "5    6000.0   23.636364             55\n",
            "6    7000.0  100.000000             65\n",
            "7    8000.0    0.000000             70\n",
            "8    9000.0    0.000000             71\n",
            "9   10000.0  100.000000             98\n",
            "10  11000.0    0.000000             70\n",
            "11  12000.0  100.000000            101\n",
            "12  13000.0  100.000000             79\n",
            "13  14000.0  100.000000             67\n",
            "14  15000.0  100.000000             78\n",
            "index                0\n",
            "count0             859\n",
            "count0_weight      859\n",
            "count1            1009\n",
            "count1_weight     1009\n",
            "count2            1286\n",
            "count2_weight     1286\n",
            "count3            1515\n",
            "count3_weight     1515\n",
            "count4             793\n",
            "count4_weight      793\n",
            "count5             855\n",
            "count5_weight      855\n",
            "count6             913\n",
            "count6_weight      913\n",
            "count7             848\n",
            "count7_weight      848\n",
            "count8            1332\n",
            "count8_weight     1332\n",
            "count9             885\n",
            "count9_weight      885\n",
            "count10           1168\n",
            "count10_weight    1168\n",
            "count11           1265\n",
            "count11_weight    1265\n",
            "count12           2162\n",
            "count12_weight    2161\n",
            "count13           1881\n",
            "count13_weight    1880\n",
            "count14           1820\n",
            "count14_weight    1820\n",
            "count15           1761\n",
            "count15_weight    1761\n",
            "dtype: int64\n",
            "   index  count0  count0_weight  ...  count14_weight  count15  count15_weight\n",
            "0   1000   100.0           61.0  ...             9.0      0.0             3.0\n",
            "1   2000   100.0           62.0  ...            15.0    100.0             9.0\n",
            "2   3000   100.0           63.0  ...             NaN      NaN             NaN\n",
            "3   4000   100.0           39.0  ...            10.0      0.0            12.0\n",
            "4   5000     0.0           72.0  ...            14.0    100.0            17.0\n",
            "\n",
            "[5 rows x 33 columns]\n"
          ],
          "name": "stdout"
        }
      ]
    },
    {
      "cell_type": "code",
      "metadata": {
        "id": "K8Df_IBCGway",
        "colab_type": "code",
        "outputId": "f2403efb-713a-4823-d1fd-51a374c96f73",
        "colab": {
          "base_uri": "https://localhost:8080/",
          "height": 1000
        }
      },
      "source": [
        "window(9)"
      ],
      "execution_count": 0,
      "outputs": [
        {
          "output_type": "stream",
          "text": [
            "3276000\n",
            "(0, 10)\n",
            "(0, 10)\n",
            "(0, 10)\n",
            "(0, 10)\n",
            "(0, 10)\n",
            "(0, 10)\n",
            "(0, 10)\n",
            "(0, 10)\n",
            "(0, 10)\n",
            "(0, 10)\n",
            "(0, 10)\n",
            "(0, 10)\n",
            "(0, 10)\n",
            "(0, 10)\n",
            "(0, 10)\n",
            "(0, 10)\n",
            "      index  count0  count0_weight\n",
            "0    1000.0   100.0             59\n",
            "1    2000.0   100.0             56\n",
            "2    3000.0   100.0             62\n",
            "3    4000.0   100.0             38\n",
            "4    5000.0   100.0             66\n",
            "5    6000.0   100.0             50\n",
            "6    7000.0   100.0             60\n",
            "7    8000.0   100.0             64\n",
            "8    9000.0   100.0             60\n",
            "9   10000.0   100.0             90\n",
            "10  11000.0   100.0             62\n",
            "11  12000.0   100.0             88\n",
            "12  13000.0   100.0             78\n",
            "13  14000.0   100.0             68\n",
            "14  15000.0   100.0             65\n",
            "index                0\n",
            "count0            1045\n",
            "count0_weight     1045\n",
            "count1            1226\n",
            "count1_weight     1226\n",
            "count2            1456\n",
            "count2_weight     1456\n",
            "count3            1685\n",
            "count3_weight     1685\n",
            "count4            1069\n",
            "count4_weight     1069\n",
            "count5            1338\n",
            "count5_weight     1338\n",
            "count6            1421\n",
            "count6_weight     1421\n",
            "count7            1388\n",
            "count7_weight     1388\n",
            "count8            1565\n",
            "count8_weight     1565\n",
            "count9            1517\n",
            "count9_weight     1517\n",
            "count10           1587\n",
            "count10_weight    1587\n",
            "count11           1175\n",
            "count11_weight    1175\n",
            "count12           1996\n",
            "count12_weight    1996\n",
            "count13           1643\n",
            "count13_weight    1643\n",
            "count14           1423\n",
            "count14_weight    1423\n",
            "count15           1179\n",
            "count15_weight    1179\n",
            "dtype: int64\n",
            "   index  count0  count0_weight  ...  count14_weight  count15  count15_weight\n",
            "0   1000   100.0           59.0  ...            11.0    100.0            62.0\n",
            "1   2000   100.0           56.0  ...            19.0    100.0            61.0\n",
            "2   3000   100.0           62.0  ...             5.0    100.0            48.0\n",
            "3   4000   100.0           38.0  ...            11.0    100.0            46.0\n",
            "4   5000   100.0           66.0  ...            13.0    100.0            60.0\n",
            "\n",
            "[5 rows x 33 columns]\n"
          ],
          "name": "stdout"
        }
      ]
    },
    {
      "cell_type": "code",
      "metadata": {
        "id": "k2-qD56X5LK8",
        "colab_type": "code",
        "outputId": "8cead8dc-ab90-49d3-f347-25e31be6c1cd",
        "colab": {
          "base_uri": "https://localhost:8080/",
          "height": 51
        }
      },
      "source": [
        "print(pre(df0_1,xgb_r1))"
      ],
      "execution_count": 0,
      "outputs": [
        {
          "output_type": "stream",
          "text": [
            "(0, 10)\n",
            "96.88648052902278\n"
          ],
          "name": "stdout"
        }
      ]
    },
    {
      "cell_type": "code",
      "metadata": {
        "id": "aGvv3YIn5UsL",
        "colab_type": "code",
        "outputId": "50fb866c-7006-4651-a51c-40940c5ab5a8",
        "colab": {
          "base_uri": "https://localhost:8080/",
          "height": 34
        }
      },
      "source": [
        "test_X,test_Y = standardize (df0_9)"
      ],
      "execution_count": 0,
      "outputs": [
        {
          "output_type": "stream",
          "text": [
            "(0, 10)\n"
          ],
          "name": "stdout"
        }
      ]
    },
    {
      "cell_type": "code",
      "metadata": {
        "id": "9AAoOxXF5rxh",
        "colab_type": "code",
        "outputId": "b50110c2-527c-409d-efaa-9d3bdc08fa11",
        "colab": {
          "base_uri": "https://localhost:8080/",
          "height": 439
        }
      },
      "source": [
        "test_X"
      ],
      "execution_count": 0,
      "outputs": [
        {
          "output_type": "execute_result",
          "data": {
            "text/html": [
              "<div>\n",
              "<style scoped>\n",
              "    .dataframe tbody tr th:only-of-type {\n",
              "        vertical-align: middle;\n",
              "    }\n",
              "\n",
              "    .dataframe tbody tr th {\n",
              "        vertical-align: top;\n",
              "    }\n",
              "\n",
              "    .dataframe thead th {\n",
              "        text-align: right;\n",
              "    }\n",
              "</style>\n",
              "<table border=\"1\" class=\"dataframe\">\n",
              "  <thead>\n",
              "    <tr style=\"text-align: right;\">\n",
              "      <th></th>\n",
              "      <th>outport</th>\n",
              "      <th>vc</th>\n",
              "      <th>traversal_id</th>\n",
              "      <th>hop_count</th>\n",
              "      <th>enqueue_time</th>\n",
              "      <th>packet_count_decr</th>\n",
              "      <th>packet_count_incr</th>\n",
              "      <th>max_packet_count</th>\n",
              "      <th>packet_count_index</th>\n",
              "      <th>traversal_index</th>\n",
              "    </tr>\n",
              "  </thead>\n",
              "  <tbody>\n",
              "    <tr>\n",
              "      <th>0</th>\n",
              "      <td>1.0</td>\n",
              "      <td>0.000</td>\n",
              "      <td>0.00000</td>\n",
              "      <td>0.666667</td>\n",
              "      <td>0.000000</td>\n",
              "      <td>0.349398</td>\n",
              "      <td>0.000000</td>\n",
              "      <td>0.349398</td>\n",
              "      <td>0.008221</td>\n",
              "      <td>0.000000</td>\n",
              "    </tr>\n",
              "    <tr>\n",
              "      <th>1</th>\n",
              "      <td>0.0</td>\n",
              "      <td>1.000</td>\n",
              "      <td>0.00000</td>\n",
              "      <td>0.666667</td>\n",
              "      <td>0.258065</td>\n",
              "      <td>0.343373</td>\n",
              "      <td>0.006024</td>\n",
              "      <td>0.349398</td>\n",
              "      <td>0.016300</td>\n",
              "      <td>0.000000</td>\n",
              "    </tr>\n",
              "    <tr>\n",
              "      <th>2</th>\n",
              "      <td>0.0</td>\n",
              "      <td>1.000</td>\n",
              "      <td>0.00000</td>\n",
              "      <td>0.666667</td>\n",
              "      <td>0.274194</td>\n",
              "      <td>0.337349</td>\n",
              "      <td>0.012048</td>\n",
              "      <td>0.349398</td>\n",
              "      <td>0.024096</td>\n",
              "      <td>0.000007</td>\n",
              "    </tr>\n",
              "    <tr>\n",
              "      <th>3</th>\n",
              "      <td>0.0</td>\n",
              "      <td>1.000</td>\n",
              "      <td>0.00000</td>\n",
              "      <td>0.666667</td>\n",
              "      <td>0.290323</td>\n",
              "      <td>0.331325</td>\n",
              "      <td>0.018072</td>\n",
              "      <td>0.349398</td>\n",
              "      <td>0.031609</td>\n",
              "      <td>0.000011</td>\n",
              "    </tr>\n",
              "    <tr>\n",
              "      <th>4</th>\n",
              "      <td>0.0</td>\n",
              "      <td>1.000</td>\n",
              "      <td>0.00000</td>\n",
              "      <td>0.666667</td>\n",
              "      <td>0.306452</td>\n",
              "      <td>0.325301</td>\n",
              "      <td>0.024096</td>\n",
              "      <td>0.349398</td>\n",
              "      <td>0.038838</td>\n",
              "      <td>0.000016</td>\n",
              "    </tr>\n",
              "    <tr>\n",
              "      <th>...</th>\n",
              "      <td>...</td>\n",
              "      <td>...</td>\n",
              "      <td>...</td>\n",
              "      <td>...</td>\n",
              "      <td>...</td>\n",
              "      <td>...</td>\n",
              "      <td>...</td>\n",
              "      <td>...</td>\n",
              "      <td>...</td>\n",
              "      <td>...</td>\n",
              "    </tr>\n",
              "    <tr>\n",
              "      <th>84458</th>\n",
              "      <td>0.5</td>\n",
              "      <td>0.000</td>\n",
              "      <td>0.99995</td>\n",
              "      <td>0.500000</td>\n",
              "      <td>0.241935</td>\n",
              "      <td>0.024096</td>\n",
              "      <td>0.042169</td>\n",
              "      <td>0.066265</td>\n",
              "      <td>0.005528</td>\n",
              "      <td>0.266665</td>\n",
              "    </tr>\n",
              "    <tr>\n",
              "      <th>84459</th>\n",
              "      <td>0.5</td>\n",
              "      <td>0.000</td>\n",
              "      <td>0.99995</td>\n",
              "      <td>0.500000</td>\n",
              "      <td>0.354839</td>\n",
              "      <td>0.018072</td>\n",
              "      <td>0.048193</td>\n",
              "      <td>0.066265</td>\n",
              "      <td>0.004961</td>\n",
              "      <td>0.399999</td>\n",
              "    </tr>\n",
              "    <tr>\n",
              "      <th>84460</th>\n",
              "      <td>0.5</td>\n",
              "      <td>0.000</td>\n",
              "      <td>0.99995</td>\n",
              "      <td>0.500000</td>\n",
              "      <td>0.467742</td>\n",
              "      <td>0.012048</td>\n",
              "      <td>0.054217</td>\n",
              "      <td>0.066265</td>\n",
              "      <td>0.004111</td>\n",
              "      <td>0.533332</td>\n",
              "    </tr>\n",
              "    <tr>\n",
              "      <th>84461</th>\n",
              "      <td>0.5</td>\n",
              "      <td>0.000</td>\n",
              "      <td>0.99995</td>\n",
              "      <td>0.500000</td>\n",
              "      <td>0.580645</td>\n",
              "      <td>0.006024</td>\n",
              "      <td>0.060241</td>\n",
              "      <td>0.066265</td>\n",
              "      <td>0.002977</td>\n",
              "      <td>1.000000</td>\n",
              "    </tr>\n",
              "    <tr>\n",
              "      <th>84462</th>\n",
              "      <td>0.5</td>\n",
              "      <td>0.125</td>\n",
              "      <td>1.00000</td>\n",
              "      <td>0.500000</td>\n",
              "      <td>0.580645</td>\n",
              "      <td>0.000000</td>\n",
              "      <td>0.066265</td>\n",
              "      <td>0.066265</td>\n",
              "      <td>0.001559</td>\n",
              "      <td>0.088891</td>\n",
              "    </tr>\n",
              "  </tbody>\n",
              "</table>\n",
              "<p>84463 rows × 10 columns</p>\n",
              "</div>"
            ],
            "text/plain": [
              "       outport     vc  ...  packet_count_index  traversal_index\n",
              "0          1.0  0.000  ...            0.008221         0.000000\n",
              "1          0.0  1.000  ...            0.016300         0.000000\n",
              "2          0.0  1.000  ...            0.024096         0.000007\n",
              "3          0.0  1.000  ...            0.031609         0.000011\n",
              "4          0.0  1.000  ...            0.038838         0.000016\n",
              "...        ...    ...  ...                 ...              ...\n",
              "84458      0.5  0.000  ...            0.005528         0.266665\n",
              "84459      0.5  0.000  ...            0.004961         0.399999\n",
              "84460      0.5  0.000  ...            0.004111         0.533332\n",
              "84461      0.5  0.000  ...            0.002977         1.000000\n",
              "84462      0.5  0.125  ...            0.001559         0.088891\n",
              "\n",
              "[84463 rows x 10 columns]"
            ]
          },
          "metadata": {
            "tags": []
          },
          "execution_count": 79
        }
      ]
    },
    {
      "cell_type": "code",
      "metadata": {
        "id": "ClqDw_uv5vtU",
        "colab_type": "code",
        "outputId": "c3e3f80b-59d7-4a8e-856f-203e635055f5",
        "colab": {
          "base_uri": "https://localhost:8080/",
          "height": 221
        }
      },
      "source": [
        "test_Y"
      ],
      "execution_count": 0,
      "outputs": [
        {
          "output_type": "execute_result",
          "data": {
            "text/plain": [
              "0        1\n",
              "1        1\n",
              "2        1\n",
              "3        1\n",
              "4        1\n",
              "        ..\n",
              "84458    1\n",
              "84459    1\n",
              "84460    1\n",
              "84461    1\n",
              "84462    1\n",
              "Name: target, Length: 84463, dtype: int64"
            ]
          },
          "metadata": {
            "tags": []
          },
          "execution_count": 80
        }
      ]
    },
    {
      "cell_type": "code",
      "metadata": {
        "id": "z6OM6kMj74MH",
        "colab_type": "code",
        "colab": {}
      },
      "source": [
        "df1 = pd.read_csv('https://raw.githubusercontent.com/chamikasudusinghe/nocml/master/dos%20results%20ver%204/router-dataset/r9/2-fft-malicious-n-0-15-m-1-r9.csv?token=AKVFSOBYZC4G6LXFHKRUXSS63I5X4')\n",
        "df2 = pd.read_csv('https://raw.githubusercontent.com/chamikasudusinghe/nocml/master/dos%20results%20ver%204/router-dataset/r9/2-fft-malicious-n-0-15-m-11-r9.csv?token=AKVFSOB5GJ644WPZILMYKES63I5X6')\n",
        "\n",
        "df3 = pd.read_csv('https://raw.githubusercontent.com/chamikasudusinghe/nocml/master/dos%20results%20ver%204/router-dataset/r9/2-fft-malicious-n-0-4-m-1-r9.csv?token=AKVFSOFKC5MUKGRYRBP5A3263I5YC')\n",
        "df4 = pd.read_csv('https://raw.githubusercontent.com/chamikasudusinghe/nocml/master/dos%20results%20ver%204/router-dataset/r9/2-fft-malicious-n-0-4-m-11-r9.csv?token=AKVFSOHT4LJZBLILXTMUSUC63I5YE')\n",
        "\n",
        "df5 = pd.read_csv('https://raw.githubusercontent.com/chamikasudusinghe/nocml/master/dos%20results%20ver%204/router-dataset/r9/2-fft-malicious-n-0-6-m-1-r9.csv?token=AKVFSODFAXDKEJN3UVWPVN263I5YG')\n",
        "df6 = pd.read_csv('https://raw.githubusercontent.com/chamikasudusinghe/nocml/master/dos%20results%20ver%204/router-dataset/r9/2-fft-malicious-n-0-6-m-11-r9.csv?token=AKVFSOHC7DIPJ45FEIXU4WC63I5YK')\n",
        "\n",
        "df7 = pd.read_csv('https://raw.githubusercontent.com/chamikasudusinghe/nocml/master/dos%20results%20ver%204/router-dataset/r9/2-fft-malicious-n-0-9-m-1-r9.csv?token=AKVFSOFZ2WNJL46PEBZEBQS63I5YO')\n",
        "df8 = pd.read_csv('https://raw.githubusercontent.com/chamikasudusinghe/nocml/master/dos%20results%20ver%204/router-dataset/r9/2-fft-malicious-n-0-9-m-11-r9.csv?token=AKVFSOF2ZLFCI6ME5XUSMWK63I5YS')\n",
        "\n",
        "df9 = pd.read_csv('https://raw.githubusercontent.com/chamikasudusinghe/nocml/master/dos%20results%20ver%204/router-dataset/r9/2-fft-normal-n-0-15-r9.csv?token=AKVFSOHOK4Z2QMGCARXW6C263I5YU')\n",
        "df10 = pd.read_csv('https://raw.githubusercontent.com/chamikasudusinghe/nocml/master/dos%20results%20ver%204/router-dataset/r9/2-fft-normal-n-0-4-r9.csv?token=AKVFSOEP3BLBVNCYHOPZSXC63I5YY')\n",
        "df11 = pd.read_csv('https://raw.githubusercontent.com/chamikasudusinghe/nocml/master/dos%20results%20ver%204/router-dataset/r9/2-fft-normal-n-0-6-r9.csv?token=AKVFSODVPMKNCQJDQV2RUAC63I5Y6')\n",
        "df12 = pd.read_csv('http://raw.githubusercontent.com/chamikasudusinghe/nocml/master/dos%20results%20ver%204/router-dataset/r9/2-fft-normal-n-0-9-r9.csv?token=AKVFSOH25STVHOUWKX2CRCK63I5ZE')"
      ],
      "execution_count": 0,
      "outputs": []
    },
    {
      "cell_type": "code",
      "metadata": {
        "id": "_6QJKGJw5xwh",
        "colab_type": "code",
        "colab": {}
      },
      "source": [
        "df = pd.DataFrame()\n",
        "df = df1.append(df2, ignore_index=True,sort=False)\n",
        "df = df.append(df3, ignore_index=True,sort=False)\n",
        "df = df.append(df4, ignore_index=True,sort=False)\n",
        "df = df.append(df5, ignore_index=True,sort=False)\n",
        "df = df.append(df6, ignore_index=True,sort=False)\n",
        "df = df.append(df7, ignore_index=True,sort=False)\n",
        "df = df.append(df8, ignore_index=True,sort=False)\n",
        "df = df.append(df9, ignore_index=True,sort=False)\n",
        "df = df.append(df10, ignore_index=True,sort=False)\n",
        "df = df.append(df11, ignore_index=True,sort=False)\n",
        "df = df.append(df12, ignore_index=True,sort=False)\n",
        "\n",
        "df = df.sort_values('timestamp')\n",
        "df.to_csv('fft-r9-train.csv',index=False)"
      ],
      "execution_count": 0,
      "outputs": []
    },
    {
      "cell_type": "code",
      "metadata": {
        "id": "l0ifCIRH8cGi",
        "colab_type": "code",
        "colab": {}
      },
      "source": [
        "df = pd.read_csv('fft-r9-train.csv')"
      ],
      "execution_count": 0,
      "outputs": []
    },
    {
      "cell_type": "code",
      "metadata": {
        "id": "rCt6EYvZ90D1",
        "colab_type": "code",
        "outputId": "6d930377-cad6-42c5-f76f-f7d991aaeb67",
        "colab": {
          "base_uri": "https://localhost:8080/",
          "height": 34
        }
      },
      "source": [
        "df.shape"
      ],
      "execution_count": 0,
      "outputs": [
        {
          "output_type": "execute_result",
          "data": {
            "text/plain": [
              "(779144, 26)"
            ]
          },
          "metadata": {
            "tags": []
          },
          "execution_count": 29
        }
      ]
    },
    {
      "cell_type": "code",
      "metadata": {
        "id": "Tt5ys-9fFvio",
        "colab_type": "code",
        "colab": {}
      },
      "source": [
        "def pre(df,xgb):\n",
        "    test_X,test_Y = standardize (df)\n",
        "    y_pred_xgbc_test= xgb.predict(test_X)\n",
        "    xgbc_score_test = accuracy_score(test_Y,y_pred_xgbc_test)\n",
        "    kfold = KFold(n_splits=10, random_state=7)\n",
        "    results = cross_val_score(xgb, test_X, test_Y, cv=kfold)\n",
        "    return test_Y,y_pred_xgbc_test,xgbc_score_test*100,results.mean()*100,results.std()*100"
      ],
      "execution_count": 0,
      "outputs": []
    },
    {
      "cell_type": "code",
      "metadata": {
        "id": "kVHlgPd_8Ndj",
        "colab_type": "code",
        "outputId": "ebb9ef81-1f43-4bea-80c2-3e90bdc9173c",
        "colab": {
          "base_uri": "https://localhost:8080/",
          "height": 344
        }
      },
      "source": [
        "test_Y,y_pred_xgbc_test,xgbc_score_test,rst,rst_std = pre(df,xgb_r9)"
      ],
      "execution_count": 0,
      "outputs": [
        {
          "output_type": "stream",
          "text": [
            "(3267, 10)\n"
          ],
          "name": "stdout"
        },
        {
          "output_type": "error",
          "ename": "KeyboardInterrupt",
          "evalue": "ignored",
          "traceback": [
            "\u001b[0;31m---------------------------------------------------------------------------\u001b[0m",
            "\u001b[0;31mKeyboardInterrupt\u001b[0m                         Traceback (most recent call last)",
            "\u001b[0;32m<ipython-input-44-d6ec0c6e93f8>\u001b[0m in \u001b[0;36m<module>\u001b[0;34m()\u001b[0m\n\u001b[0;32m----> 1\u001b[0;31m \u001b[0mtest_Y\u001b[0m\u001b[0;34m,\u001b[0m\u001b[0my_pred_xgbc_test\u001b[0m\u001b[0;34m,\u001b[0m\u001b[0mxgbc_score_test\u001b[0m\u001b[0;34m,\u001b[0m\u001b[0mrst\u001b[0m\u001b[0;34m,\u001b[0m\u001b[0mrst_std\u001b[0m \u001b[0;34m=\u001b[0m \u001b[0mpre\u001b[0m\u001b[0;34m(\u001b[0m\u001b[0mdf\u001b[0m\u001b[0;34m,\u001b[0m\u001b[0mxgb_r9\u001b[0m\u001b[0;34m)\u001b[0m\u001b[0;34m\u001b[0m\u001b[0;34m\u001b[0m\u001b[0m\n\u001b[0m",
            "\u001b[0;32m<ipython-input-42-3250dbb67c9f>\u001b[0m in \u001b[0;36mpre\u001b[0;34m(df, xgb)\u001b[0m\n\u001b[1;32m      1\u001b[0m \u001b[0;32mdef\u001b[0m \u001b[0mpre\u001b[0m\u001b[0;34m(\u001b[0m\u001b[0mdf\u001b[0m\u001b[0;34m,\u001b[0m\u001b[0mxgb\u001b[0m\u001b[0;34m)\u001b[0m\u001b[0;34m:\u001b[0m\u001b[0;34m\u001b[0m\u001b[0;34m\u001b[0m\u001b[0m\n\u001b[1;32m      2\u001b[0m     \u001b[0mtest_X\u001b[0m\u001b[0;34m,\u001b[0m\u001b[0mtest_Y\u001b[0m \u001b[0;34m=\u001b[0m \u001b[0mstandardize\u001b[0m \u001b[0;34m(\u001b[0m\u001b[0mdf\u001b[0m\u001b[0;34m)\u001b[0m\u001b[0;34m\u001b[0m\u001b[0;34m\u001b[0m\u001b[0m\n\u001b[0;32m----> 3\u001b[0;31m     \u001b[0my_pred_xgbc_test\u001b[0m\u001b[0;34m=\u001b[0m \u001b[0mxgb\u001b[0m\u001b[0;34m.\u001b[0m\u001b[0mpredict\u001b[0m\u001b[0;34m(\u001b[0m\u001b[0mtest_X\u001b[0m\u001b[0;34m)\u001b[0m\u001b[0;34m\u001b[0m\u001b[0;34m\u001b[0m\u001b[0m\n\u001b[0m\u001b[1;32m      4\u001b[0m     \u001b[0mxgbc_score_test\u001b[0m \u001b[0;34m=\u001b[0m \u001b[0maccuracy_score\u001b[0m\u001b[0;34m(\u001b[0m\u001b[0mtest_Y\u001b[0m\u001b[0;34m,\u001b[0m\u001b[0my_pred_xgbc_test\u001b[0m\u001b[0;34m)\u001b[0m\u001b[0;34m\u001b[0m\u001b[0;34m\u001b[0m\u001b[0m\n\u001b[1;32m      5\u001b[0m     \u001b[0mkfold\u001b[0m \u001b[0;34m=\u001b[0m \u001b[0mKFold\u001b[0m\u001b[0;34m(\u001b[0m\u001b[0mn_splits\u001b[0m\u001b[0;34m=\u001b[0m\u001b[0;36m10\u001b[0m\u001b[0;34m,\u001b[0m \u001b[0mrandom_state\u001b[0m\u001b[0;34m=\u001b[0m\u001b[0;36m7\u001b[0m\u001b[0;34m)\u001b[0m\u001b[0;34m\u001b[0m\u001b[0;34m\u001b[0m\u001b[0m\n",
            "\u001b[0;32m/usr/local/lib/python3.6/dist-packages/xgboost/sklearn.py\u001b[0m in \u001b[0;36mpredict\u001b[0;34m(self, data, output_margin, ntree_limit, validate_features)\u001b[0m\n\u001b[1;32m    789\u001b[0m                                                  \u001b[0moutput_margin\u001b[0m\u001b[0;34m=\u001b[0m\u001b[0moutput_margin\u001b[0m\u001b[0;34m,\u001b[0m\u001b[0;34m\u001b[0m\u001b[0;34m\u001b[0m\u001b[0m\n\u001b[1;32m    790\u001b[0m                                                  \u001b[0mntree_limit\u001b[0m\u001b[0;34m=\u001b[0m\u001b[0mntree_limit\u001b[0m\u001b[0;34m,\u001b[0m\u001b[0;34m\u001b[0m\u001b[0;34m\u001b[0m\u001b[0m\n\u001b[0;32m--> 791\u001b[0;31m                                                  validate_features=validate_features)\n\u001b[0m\u001b[1;32m    792\u001b[0m         \u001b[0;32mif\u001b[0m \u001b[0moutput_margin\u001b[0m\u001b[0;34m:\u001b[0m\u001b[0;34m\u001b[0m\u001b[0;34m\u001b[0m\u001b[0m\n\u001b[1;32m    793\u001b[0m             \u001b[0;31m# If output_margin is active, simply return the scores\u001b[0m\u001b[0;34m\u001b[0m\u001b[0;34m\u001b[0m\u001b[0;34m\u001b[0m\u001b[0m\n",
            "\u001b[0;32m/usr/local/lib/python3.6/dist-packages/xgboost/core.py\u001b[0m in \u001b[0;36mpredict\u001b[0;34m(self, data, output_margin, ntree_limit, pred_leaf, pred_contribs, approx_contribs, pred_interactions, validate_features)\u001b[0m\n\u001b[1;32m   1290\u001b[0m                                           \u001b[0mctypes\u001b[0m\u001b[0;34m.\u001b[0m\u001b[0mc_uint\u001b[0m\u001b[0;34m(\u001b[0m\u001b[0mntree_limit\u001b[0m\u001b[0;34m)\u001b[0m\u001b[0;34m,\u001b[0m\u001b[0;34m\u001b[0m\u001b[0;34m\u001b[0m\u001b[0m\n\u001b[1;32m   1291\u001b[0m                                           \u001b[0mctypes\u001b[0m\u001b[0;34m.\u001b[0m\u001b[0mbyref\u001b[0m\u001b[0;34m(\u001b[0m\u001b[0mlength\u001b[0m\u001b[0;34m)\u001b[0m\u001b[0;34m,\u001b[0m\u001b[0;34m\u001b[0m\u001b[0;34m\u001b[0m\u001b[0m\n\u001b[0;32m-> 1292\u001b[0;31m                                           ctypes.byref(preds)))\n\u001b[0m\u001b[1;32m   1293\u001b[0m         \u001b[0mpreds\u001b[0m \u001b[0;34m=\u001b[0m \u001b[0mctypes2numpy\u001b[0m\u001b[0;34m(\u001b[0m\u001b[0mpreds\u001b[0m\u001b[0;34m,\u001b[0m \u001b[0mlength\u001b[0m\u001b[0;34m.\u001b[0m\u001b[0mvalue\u001b[0m\u001b[0;34m,\u001b[0m \u001b[0mnp\u001b[0m\u001b[0;34m.\u001b[0m\u001b[0mfloat32\u001b[0m\u001b[0;34m)\u001b[0m\u001b[0;34m\u001b[0m\u001b[0;34m\u001b[0m\u001b[0m\n\u001b[1;32m   1294\u001b[0m         \u001b[0;32mif\u001b[0m \u001b[0mpred_leaf\u001b[0m\u001b[0;34m:\u001b[0m\u001b[0;34m\u001b[0m\u001b[0;34m\u001b[0m\u001b[0m\n",
            "\u001b[0;31mKeyboardInterrupt\u001b[0m: "
          ]
        }
      ]
    },
    {
      "cell_type": "code",
      "metadata": {
        "id": "U6uE8cDu-nEZ",
        "colab_type": "code",
        "outputId": "22d3c85f-135f-497f-c221-de4bf9466328",
        "colab": {
          "base_uri": "https://localhost:8080/",
          "height": 34
        }
      },
      "source": [
        "print(xgbc_score_test)\n",
        "print(rst)\n",
        "print(rst_std)"
      ],
      "execution_count": 0,
      "outputs": [
        {
          "output_type": "stream",
          "text": [
            "99.90309878533364\n"
          ],
          "name": "stdout"
        }
      ]
    },
    {
      "cell_type": "code",
      "metadata": {
        "id": "YESJ6TXO8ZrE",
        "colab_type": "code",
        "outputId": "52b1a5a0-cd17-433c-d4e2-6795dfc85f0b",
        "colab": {
          "base_uri": "https://localhost:8080/",
          "height": 295
        }
      },
      "source": [
        "cm = confusion_matrix(test_Y, y_pred_xgbc_test)\n",
        "class_label = [\"Anomalous\", \"Normal\"]\n",
        "df_cm = pd.DataFrame(cm, index=class_label,columns=class_label)\n",
        "sns.heatmap(df_cm, annot=True, fmt='d')\n",
        "plt.title(\"Confusion Matrix\")\n",
        "plt.xlabel(\"Predicted Label\")\n",
        "plt.ylabel(\"True Label\")\n",
        "plt.show()"
      ],
      "execution_count": 0,
      "outputs": [
        {
          "output_type": "display_data",
          "data": {
            "image/png": "[encoded data removed]",
            "text/plain": [
              "<Figure size 432x288 with 2 Axes>"
            ]
          },
          "metadata": {
            "tags": [],
            "needs_background": "light"
          }
        }
      ]
    }
  ]
}