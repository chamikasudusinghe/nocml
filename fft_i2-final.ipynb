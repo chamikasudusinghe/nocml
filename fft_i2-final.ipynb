{
  "nbformat": 4,
  "nbformat_minor": 0,
  "metadata": {
    "accelerator": "TPU",
    "colab": {
      "name": "fft-i2.ipynb",
      "provenance": [],
      "collapsed_sections": [],
      "include_colab_link": true
    },
    "kernelspec": {
      "display_name": "Python 3",
      "language": "python",
      "name": "python3"
    },
    "language_info": {
      "codemirror_mode": {
        "name": "ipython",
        "version": 3
      },
      "file_extension": ".py",
      "mimetype": "text/x-python",
      "name": "python",
      "nbconvert_exporter": "python",
      "pygments_lexer": "ipython3",
      "version": "3.7.7"
    }
  },
  "cells": [
    {
      "cell_type": "markdown",
      "metadata": {
        "id": "view-in-github",
        "colab_type": "text"
      },
      "source": [
        "<a href=\"https://colab.research.google.com/github/chamikasudusinghe/nocml/blob/master/fft_i2-final.ipynb\" target=\"_parent\"><img src=\"https://colab.research.google.com/assets/colab-badge.svg\" alt=\"Open In Colab\"/></a>"
      ]
    },
    {
      "cell_type": "markdown",
      "metadata": {
        "colab_type": "text",
        "id": "sFmit6AlgLJZ"
      },
      "source": [
        "Module Imports for Data Fetiching and Visualization\n",
        "\n"
      ]
    },
    {
      "cell_type": "code",
      "metadata": {
        "colab_type": "code",
        "id": "k-c4z9vpHg1z",
        "colab": {}
      },
      "source": [
        "import time\n",
        "import pandas as pd\n",
        "import numpy as np\n",
        "import math\n",
        "import pickle\n",
        "from functools import reduce"
      ],
      "execution_count": 0,
      "outputs": []
    },
    {
      "cell_type": "code",
      "metadata": {
        "colab_type": "code",
        "id": "TV0grGca3WkY",
        "outputId": "5defaafe-1f74-448a-f250-38d1e37dfabc",
        "colab": {
          "base_uri": "https://localhost:8080/",
          "height": 34
        }
      },
      "source": [
        "from google.colab import drive\n",
        "drive.mount('/content/drive')\n",
        "root_dir = \"/content/drive/My Drive/model-i2\""
      ],
      "execution_count": 0,
      "outputs": [
        {
          "output_type": "stream",
          "text": [
            "Drive already mounted at /content/drive; to attempt to forcibly remount, call drive.mount(\"/content/drive\", force_remount=True).\n"
          ],
          "name": "stdout"
        }
      ]
    },
    {
      "cell_type": "code",
      "metadata": {
        "colab_type": "code",
        "id": "zhZHRUXxHg13",
        "colab": {}
      },
      "source": [
        "from sklearn import preprocessing\n",
        "from sklearn.feature_selection import SelectKBest\n",
        "from sklearn.feature_selection import chi2"
      ],
      "execution_count": 0,
      "outputs": []
    },
    {
      "cell_type": "code",
      "metadata": {
        "colab_type": "code",
        "id": "x5oIMg977OyU",
        "outputId": "b155a8ec-054e-4907-a907-2287d4d41f5d",
        "colab": {
          "base_uri": "https://localhost:8080/",
          "height": 71
        }
      },
      "source": [
        "import statsmodels.api as sm\n",
        "from sklearn import metrics\n",
        "\n",
        "from sklearn.metrics import classification_report\n",
        "from sklearn.metrics import confusion_matrix\n",
        "\n",
        "from sklearn.metrics import roc_curve\n",
        "from sklearn.metrics import roc_auc_score\n",
        "from sklearn.metrics import accuracy_score"
      ],
      "execution_count": 0,
      "outputs": [
        {
          "output_type": "stream",
          "text": [
            "/usr/local/lib/python3.6/dist-packages/statsmodels/tools/_testing.py:19: FutureWarning: pandas.util.testing is deprecated. Use the functions in the public API at pandas.testing instead.\n",
            "  import pandas.util.testing as tm\n"
          ],
          "name": "stderr"
        }
      ]
    },
    {
      "cell_type": "markdown",
      "metadata": {
        "colab_type": "text",
        "id": "GEH4mU3Tghd8"
      },
      "source": [
        "Importing Dataset from GitHub"
      ]
    },
    {
      "cell_type": "markdown",
      "metadata": {
        "colab_type": "text",
        "id": "kB28tdcoNPvn"
      },
      "source": [
        "Test Data"
      ]
    },
    {
      "cell_type": "code",
      "metadata": {
        "colab_type": "code",
        "id": "A3XFUS36e24-",
        "colab": {}
      },
      "source": [
        "df0_1 = pd.read_csv('https://raw.githubusercontent.com/chamikasudusinghe/nocml/master/dos%20results%20ver%204/router-dataset/r0/2-fft-malicious-n-0-15-m-12-r0.csv?token=AKVFSOCE3FVVG5OF4ZQWNJ263FQWA')\n",
        "df0_2 = pd.read_csv('https://raw.githubusercontent.com/chamikasudusinghe/nocml/master/dos%20results%20ver%204/router-dataset/r0/2-fft-malicious-n-0-15-m-7-r0.csv?token=AKVFSODFHFWKKECKFAQE2DS63FQFC')\n",
        "df0_3 = pd.read_csv('https://raw.githubusercontent.com/chamikasudusinghe/nocml/master/dos%20results%20ver%204/router-dataset/r0/2-fft-malicious-n-0-4-m-12-r0.csv?token=AKVFSOHL3NFFSRLCIW6EE2C63FQFG')\n",
        "df0_4 = pd.read_csv('https://raw.githubusercontent.com/chamikasudusinghe/nocml/master/dos%20results%20ver%204/router-dataset/r0/2-fft-malicious-n-0-4-m-7-r0.csv?token=AKVFSOBBXH3VVQB5FECWUA263FQFK')\n",
        "df0_5 = pd.read_csv('https://raw.githubusercontent.com/chamikasudusinghe/nocml/master/dos%20results%20ver%204/router-dataset/r0/2-fft-malicious-n-0-6-m-12-r0.csv?token=AKVFSOC2FER7TLSZC4Z6U4263FQFO')\n",
        "df0_6 = pd.read_csv('https://raw.githubusercontent.com/chamikasudusinghe/nocml/master/dos%20results%20ver%204/router-dataset/r0/2-fft-malicious-n-0-6-m-7-r0.csv?token=AKVFSOBOOMKJNNCB6YLLDTC63FQFU')\n",
        "df0_7 = pd.read_csv('https://raw.githubusercontent.com/chamikasudusinghe/nocml/master/dos%20results%20ver%204/router-dataset/r0/2-fft-malicious-n-0-9-m-12-r0.csv?token=AKVFSOALARMS35UNKSR6LCS63FQF2')\n",
        "df0_8 = pd.read_csv('https://raw.githubusercontent.com/chamikasudusinghe/nocml/master/dos%20results%20ver%204/router-dataset/r0/2-fft-malicious-n-0-9-m-7-r0.csv?token=AKVFSOBOEXI5QUDEKITKN5S63FQGA')"
      ],
      "execution_count": 0,
      "outputs": []
    },
    {
      "cell_type": "code",
      "metadata": {
        "colab_type": "code",
        "id": "vMYyqlWie3HW",
        "colab": {}
      },
      "source": [
        "df1_1 = pd.read_csv('https://raw.githubusercontent.com/chamikasudusinghe/nocml/master/dos%20results%20ver%204/router-dataset/r1/2-fft-malicious-n-0-15-m-12-r1.csv?token=AKVFSOC5UXUUHGMH6WRX2DS63IADW')\n",
        "df1_2 = pd.read_csv('https://raw.githubusercontent.com/chamikasudusinghe/nocml/master/dos%20results%20ver%204/router-dataset/r1/2-fft-malicious-n-0-15-m-7-r1.csv?token=AKVFSOCEMAZYITSUEMAWNZC63IAD4')\n",
        "df1_3 = pd.read_csv('https://raw.githubusercontent.com/chamikasudusinghe/nocml/master/dos%20results%20ver%204/router-dataset/r1/2-fft-malicious-n-0-4-m-12-r1.csv?token=AKVFSODO577K2RAF5MPNFRK63IAEC')\n",
        "df1_4 = pd.read_csv('https://raw.githubusercontent.com/chamikasudusinghe/nocml/master/dos%20results%20ver%204/router-dataset/r1/2-fft-malicious-n-0-4-m-7-r1.csv?token=AKVFSOD5M6HXXJAJDK7OMSC63IAEI')\n",
        "df1_5 = pd.read_csv('https://raw.githubusercontent.com/chamikasudusinghe/nocml/master/dos%20results%20ver%204/router-dataset/r1/2-fft-malicious-n-0-6-m-12-r1.csv?token=AKVFSOBCV6BTIWSZ25YS2ES63IAEM')\n",
        "df1_6 = pd.read_csv('https://raw.githubusercontent.com/chamikasudusinghe/nocml/master/dos%20results%20ver%204/router-dataset/r1/2-fft-malicious-n-0-6-m-7-r1.csv?token=AKVFSOC3CQJKARLKYOPO62C63IAES')\n",
        "df1_7 = pd.read_csv('https://raw.githubusercontent.com/chamikasudusinghe/nocml/master/dos%20results%20ver%204/router-dataset/r1/2-fft-malicious-n-0-9-m-12-r1.csv?token=AKVFSOGTM4ZFZCZVRAE63YS63IAEW')\n",
        "df1_8 = pd.read_csv('https://raw.githubusercontent.com/chamikasudusinghe/nocml/master/dos%20results%20ver%204/router-dataset/r1/2-fft-malicious-n-0-9-m-7-r1.csv?token=AKVFSOBTWFVLTZAFEMZNUSK63IAE2')"
      ],
      "execution_count": 0,
      "outputs": []
    },
    {
      "cell_type": "code",
      "metadata": {
        "colab_type": "code",
        "id": "hip6g3soe3Uq",
        "colab": {}
      },
      "source": [
        "df2_1 = pd.read_csv('https://raw.githubusercontent.com/chamikasudusinghe/nocml/master/dos%20results%20ver%204/router-dataset/r2/2-fft-malicious-n-0-15-m-12-r2.csv?token=AKVFSOHNXJCRW2Y5EHJ525263ICWK')\n",
        "df2_2 = pd.read_csv('https://raw.githubusercontent.com/chamikasudusinghe/nocml/master/dos%20results%20ver%204/router-dataset/r2/2-fft-malicious-n-0-15-m-7-r2.csv?token=AKVFSOFOWY6S2IPVTC5I3OK63ICWM')\n",
        "df2_3 = pd.read_csv('https://raw.githubusercontent.com/chamikasudusinghe/nocml/master/dos%20results%20ver%204/router-dataset/r2/2-fft-malicious-n-0-4-m-12-r2.csv?token=AKVFSOC7U4MMJECV3FGI4LS63ICWS')\n",
        "df2_4 = pd.read_csv('https://raw.githubusercontent.com/chamikasudusinghe/nocml/master/dos%20results%20ver%204/router-dataset/r2/2-fft-malicious-n-0-4-m-7-r2.csv?token=AKVFSOAWE5QTONHX4RD4EY263ICWW')\n",
        "df2_5 = pd.read_csv('https://raw.githubusercontent.com/chamikasudusinghe/nocml/master/dos%20results%20ver%204/router-dataset/r2/2-fft-malicious-n-0-6-m-12-r2.csv?token=AKVFSODHOHWOSWVRNLR777K63ICW2')\n",
        "df2_6 = pd.read_csv('https://raw.githubusercontent.com/chamikasudusinghe/nocml/master/dos%20results%20ver%204/router-dataset/r2/2-fft-malicious-n-0-6-m-7-r2.csv?token=AKVFSOCC7FEFNYFPP6RH4WS63ICXE')\n",
        "df2_7 = pd.read_csv('https://raw.githubusercontent.com/chamikasudusinghe/nocml/master/dos%20results%20ver%204/router-dataset/r2/2-fft-malicious-n-0-9-m-12-r2.csv?token=AKVFSOALPDWQGI6POBXUPWS63ICXI')\n",
        "df2_8 = pd.read_csv('https://raw.githubusercontent.com/chamikasudusinghe/nocml/master/dos%20results%20ver%204/router-dataset/r2/2-fft-malicious-n-0-9-m-7-r2.csv?token=AKVFSOHCDEYQEGI5AZJCU7K63ICXO')"
      ],
      "execution_count": 0,
      "outputs": []
    },
    {
      "cell_type": "code",
      "metadata": {
        "colab_type": "code",
        "id": "s-X8dyaee3ha",
        "colab": {}
      },
      "source": [
        "df3_1 = pd.read_csv('https://raw.githubusercontent.com/chamikasudusinghe/nocml/master/dos%20results%20ver%204/router-dataset/r3/2-fft-malicious-n-0-15-m-12-r3.csv?token=AKVFSOE4XEDCYO4VR63SV2C63IE7C')\n",
        "df3_2 = pd.read_csv('https://raw.githubusercontent.com/chamikasudusinghe/nocml/master/dos%20results%20ver%204/router-dataset/r3/2-fft-malicious-n-0-15-m-7-r3.csv?token=AKVFSOCVVADXM4BZ62CH6JC63IE7I')\n",
        "df3_3 = pd.read_csv('https://raw.githubusercontent.com/chamikasudusinghe/nocml/master/dos%20results%20ver%204/router-dataset/r3/2-fft-malicious-n-0-4-m-12-r3.csv?token=AKVFSOFMSCBTCNUCCUW6U2S63IE7M')\n",
        "df3_4 = pd.read_csv('https://raw.githubusercontent.com/chamikasudusinghe/nocml/master/dos%20results%20ver%204/router-dataset/r3/2-fft-malicious-n-0-4-m-7-r3.csv?token=AKVFSOFSSLE5GSESBLKWTJS63IE7Q')\n",
        "df3_5 = pd.read_csv('https://raw.githubusercontent.com/chamikasudusinghe/nocml/master/dos%20results%20ver%204/router-dataset/r3/2-fft-malicious-n-0-6-m-12-r3.csv?token=AKVFSOECXTT4CSEPBDOMS2263IE7U')\n",
        "df3_6 = pd.read_csv('https://raw.githubusercontent.com/chamikasudusinghe/nocml/master/dos%20results%20ver%204/router-dataset/r3/2-fft-malicious-n-0-6-m-7-r3.csv?token=AKVFSOBDH2426Q5P6M3M7QK63IE7Y')\n",
        "df3_7 = pd.read_csv('https://raw.githubusercontent.com/chamikasudusinghe/nocml/master/dos%20results%20ver%204/router-dataset/r3/2-fft-malicious-n-0-9-m-12-r3.csv?token=AKVFSODN2MYZWU74647AA7263IE74')\n",
        "df3_8 = pd.read_csv('https://raw.githubusercontent.com/chamikasudusinghe/nocml/master/dos%20results%20ver%204/router-dataset/r3/2-fft-malicious-n-0-9-m-7-r3.csv?token=AKVFSODUZCKPISNRBNB6GWK63IE76')"
      ],
      "execution_count": 0,
      "outputs": []
    },
    {
      "cell_type": "code",
      "metadata": {
        "colab_type": "code",
        "id": "2NNmwmZGNLly",
        "colab": {}
      },
      "source": [
        "df4_1 = pd.read_csv('https://raw.githubusercontent.com/chamikasudusinghe/nocml/master/dos%20results%20ver%204/router-dataset/r4/2-fft-malicious-n-0-15-m-12-r4.csv?token=AKVFSOELY7EYPZC6QZRXOJ263INYG')\n",
        "df4_2 = pd.read_csv('https://raw.githubusercontent.com/chamikasudusinghe/nocml/master/dos%20results%20ver%204/router-dataset/r4/2-fft-malicious-n-0-15-m-7-r4.csv?token=AKVFSOA7ZSSOS55SHOQWE4K63INYK')\n",
        "df4_3 = pd.read_csv('https://raw.githubusercontent.com/chamikasudusinghe/nocml/master/dos%20results%20ver%204/router-dataset/r4/2-fft-malicious-n-0-4-m-12-r4.csv?token=AKVFSOGVLE5EA2HDMHFN7XC63INYM')\n",
        "df4_4 = pd.read_csv('https://raw.githubusercontent.com/chamikasudusinghe/nocml/master/dos%20results%20ver%204/router-dataset/r4/2-fft-malicious-n-0-4-m-7-r4.csv?token=AKVFSOFOCZL7VGDJJYMNNUC63INYS')\n",
        "df4_5 = pd.read_csv('https://raw.githubusercontent.com/chamikasudusinghe/nocml/master/dos%20results%20ver%204/router-dataset/r4/2-fft-malicious-n-0-6-m-12-r4.csv?token=AKVFSOB6MDUT2HAKK25WTMS63INYY')\n",
        "df4_6 = pd.read_csv('https://raw.githubusercontent.com/chamikasudusinghe/nocml/master/dos%20results%20ver%204/router-dataset/r4/2-fft-malicious-n-0-6-m-7-r4.csv?token=AKVFSOEZEIMBRFUGIJ4SABC63INZA')\n",
        "df4_7 = pd.read_csv('https://raw.githubusercontent.com/chamikasudusinghe/nocml/master/dos%20results%20ver%204/router-dataset/r4/2-fft-malicious-n-0-9-m-12-r4.csv?token=AKVFSOG44CWSJ3ONBI4WYLC63INZC')\n",
        "df4_8 = pd.read_csv('https://raw.githubusercontent.com/chamikasudusinghe/nocml/master/dos%20results%20ver%204/router-dataset/r4/2-fft-malicious-n-0-9-m-7-r4.csv?token=AKVFSOANMCRIGIKFQXOH3IC63INZG')"
      ],
      "execution_count": 0,
      "outputs": []
    },
    {
      "cell_type": "code",
      "metadata": {
        "colab_type": "code",
        "id": "cjNMkrDFexu6",
        "colab": {}
      },
      "source": [
        "df5_1 = pd.read_csv('https://raw.githubusercontent.com/chamikasudusinghe/nocml/master/dos%20results%20ver%204/router-dataset/r5/2-fft-malicious-n-0-15-m-12-r5.csv?token=AKVFSOFGZZNKP3BWO7VOX4263IPSK')\n",
        "df5_2 = pd.read_csv('https://raw.githubusercontent.com/chamikasudusinghe/nocml/master/dos%20results%20ver%204/router-dataset/r5/2-fft-malicious-n-0-15-m-7-r5.csv?token=AKVFSOF5WUCWSF74MB4QTN263IPSO')\n",
        "df5_3 = pd.read_csv('https://raw.githubusercontent.com/chamikasudusinghe/nocml/master/dos%20results%20ver%204/router-dataset/r5/2-fft-malicious-n-0-4-m-12-r5.csv?token=AKVFSOESE7NQZBMJMGNJJKS63IPSU')\n",
        "df5_4 = pd.read_csv('https://raw.githubusercontent.com/chamikasudusinghe/nocml/master/dos%20results%20ver%204/router-dataset/r5/2-fft-malicious-n-0-4-m-7-r5.csv?token=AKVFSOGD7BYYDJM2ZRYUJMK63IPSY')\n",
        "df5_5 = pd.read_csv('https://raw.githubusercontent.com/chamikasudusinghe/nocml/master/dos%20results%20ver%204/router-dataset/r5/2-fft-malicious-n-0-6-m-12-r5.csv?token=AKVFSOEPJ4KVGPURPAON72K63IPS4')\n",
        "df5_6 = pd.read_csv('https://raw.githubusercontent.com/chamikasudusinghe/nocml/master/dos%20results%20ver%204/router-dataset/r5/2-fft-malicious-n-0-6-m-7-r5.csv?token=AKVFSODC2EG6QZKGLRW2JSK63IPTK')\n",
        "df5_7 = pd.read_csv('https://raw.githubusercontent.com/chamikasudusinghe/nocml/master/dos%20results%20ver%204/router-dataset/r5/2-fft-malicious-n-0-9-m-12-r5.csv?token=AKVFSOGKFGRCG3JTP3NEO2S63IPTE')\n",
        "df5_8 = pd.read_csv('https://raw.githubusercontent.com/chamikasudusinghe/nocml/master/dos%20results%20ver%204/router-dataset/r5/2-fft-malicious-n-0-9-m-7-r5.csv?token=AKVFSOA2LSYNW3KZKVGJEMS63IPTO')"
      ],
      "execution_count": 0,
      "outputs": []
    },
    {
      "cell_type": "code",
      "metadata": {
        "colab_type": "code",
        "id": "MkpEnN66ex8O",
        "colab": {}
      },
      "source": [
        "df6_1 = pd.read_csv('https://raw.githubusercontent.com/chamikasudusinghe/nocml/master/dos%20results%20ver%204/router-dataset/r6/2-fft-malicious-n-0-15-m-12-r6.csv?token=AKVFSOGFXPLRBVFF2CSTSU263I2RE')\n",
        "df6_2 = pd.read_csv('https://raw.githubusercontent.com/chamikasudusinghe/nocml/master/dos%20results%20ver%204/router-dataset/r6/2-fft-malicious-n-0-15-m-7-r6.csv?token=AKVFSOCFZYWDIHTDXDL47DC63I2RG')\n",
        "df6_3 = pd.read_csv('https://raw.githubusercontent.com/chamikasudusinghe/nocml/master/dos%20results%20ver%204/router-dataset/r6/2-fft-malicious-n-0-4-m-12-r6.csv?token=AKVFSOCCRFXVSA5QWAACUYK63I2RK')\n",
        "df6_4 = pd.read_csv('https://raw.githubusercontent.com/chamikasudusinghe/nocml/master/dos%20results%20ver%204/router-dataset/r6/2-fft-malicious-n-0-4-m-7-r6.csv?token=AKVFSOCAYF5PLB6ZUSDXOCC63I2RQ')\n",
        "df6_5 = pd.read_csv('https://raw.githubusercontent.com/chamikasudusinghe/nocml/master/dos%20results%20ver%204/router-dataset/r6/2-fft-malicious-n-0-6-m-12-r6.csv?token=AKVFSOFOPN43UOJJPCWRG5S63I2RS')\n",
        "df6_6 = pd.read_csv('https://raw.githubusercontent.com/chamikasudusinghe/nocml/master/dos%20results%20ver%204/router-dataset/r6/2-fft-malicious-n-0-6-m-7-r6.csv?token=AKVFSOBKMXLJPAJAY433G4263I2RU')\n",
        "df6_7 = pd.read_csv('https://raw.githubusercontent.com/chamikasudusinghe/nocml/master/dos%20results%20ver%204/router-dataset/r6/2-fft-malicious-n-0-9-m-12-r6.csv?token=AKVFSOGZOPDPGPZ3CINKWVK63I2RY')\n",
        "df6_8 = pd.read_csv('https://raw.githubusercontent.com/chamikasudusinghe/nocml/master/dos%20results%20ver%204/router-dataset/r6/2-fft-malicious-n-0-9-m-7-r6.csv?token=AKVFSOH3IVE45S3ZS5CS43S63I2R4')"
      ],
      "execution_count": 0,
      "outputs": []
    },
    {
      "cell_type": "code",
      "metadata": {
        "colab_type": "code",
        "id": "Ps-_gSHgeye1",
        "colab": {}
      },
      "source": [
        "df7_1 = pd.read_csv('https://raw.githubusercontent.com/chamikasudusinghe/nocml/master/dos%20results%20ver%204/router-dataset/r7/2-fft-malicious-n-0-15-m-12-r7.csv?token=AKVFSOGQXPD3OXG6OLC3P6S63I3WS')\n",
        "df7_2 = pd.read_csv('https://raw.githubusercontent.com/chamikasudusinghe/nocml/master/dos%20results%20ver%204/router-dataset/r7/2-fft-malicious-n-0-15-m-7-r7.csv?token=AKVFSOHR6N2LIBQVGJQFB4C63I3WY')\n",
        "df7_3 = pd.read_csv('https://raw.githubusercontent.com/chamikasudusinghe/nocml/master/dos%20results%20ver%204/router-dataset/r7/2-fft-malicious-n-0-4-m-12-r7.csv?token=AKVFSOEDU7BXD7GKX4UU72S63I3W2')\n",
        "df7_4 = pd.read_csv('https://raw.githubusercontent.com/chamikasudusinghe/nocml/master/dos%20results%20ver%204/router-dataset/r7/2-fft-malicious-n-0-4-m-7-r7.csv?token=AKVFSOE7XL3J5FV7HGA2BEK63I3W6')\n",
        "df7_5 = pd.read_csv('https://raw.githubusercontent.com/chamikasudusinghe/nocml/master/dos%20results%20ver%204/router-dataset/r7/2-fft-malicious-n-0-6-m-12-r7.csv?token=AKVFSOHWECATKM5SYEW7UZC63I3XA')\n",
        "df7_6 = pd.read_csv('https://raw.githubusercontent.com/chamikasudusinghe/nocml/master/dos%20results%20ver%204/router-dataset/r7/2-fft-malicious-n-0-6-m-7-r7.csv?token=AKVFSOCL3PM36USSPSSFMCC63I3XE')\n",
        "df7_7 = pd.read_csv('https://raw.githubusercontent.com/chamikasudusinghe/nocml/master/dos%20results%20ver%204/router-dataset/r7/2-fft-malicious-n-0-9-m-12-r7.csv?token=AKVFSOFWEXNUVFI35HG3ZEC63I3XG')\n",
        "df7_8 = pd.read_csv('https://raw.githubusercontent.com/chamikasudusinghe/nocml/master/dos%20results%20ver%204/router-dataset/r7/2-fft-malicious-n-0-9-m-7-r7.csv?token=AKVFSOBYJTCSRAIQSXHCYLK63I3XK')"
      ],
      "execution_count": 0,
      "outputs": []
    },
    {
      "cell_type": "code",
      "metadata": {
        "colab_type": "code",
        "id": "qRN3IZ0Feypi",
        "colab": {}
      },
      "source": [
        "df8_1 = pd.read_csv('https://raw.githubusercontent.com/chamikasudusinghe/nocml/master/dos%20results%20ver%204/router-dataset/r8/2-fft-malicious-n-0-15-m-12-r8.csv?token=AKVFSOAKB2AYPBWMBTZQIB263I46G')\n",
        "df8_2 = pd.read_csv('https://raw.githubusercontent.com/chamikasudusinghe/nocml/master/dos%20results%20ver%204/router-dataset/r8/2-fft-malicious-n-0-15-m-7-r8.csv?token=AKVFSOBOOWHOYC7EACQCDNC63I46I')\n",
        "df8_3 = pd.read_csv('https://raw.githubusercontent.com/chamikasudusinghe/nocml/master/dos%20results%20ver%204/router-dataset/r8/2-fft-malicious-n-0-4-m-12-r8.csv?token=AKVFSOG4NYZEJFKEURUIMKK63I46M')\n",
        "df8_4 = pd.read_csv('https://raw.githubusercontent.com/chamikasudusinghe/nocml/master/dos%20results%20ver%204/router-dataset/r8/2-fft-malicious-n-0-4-m-7-r8.csv?token=AKVFSOGCNL3SIPM5FCQSNHK63I46S')\n",
        "df8_5 = pd.read_csv('https://raw.githubusercontent.com/chamikasudusinghe/nocml/master/dos%20results%20ver%204/router-dataset/r8/2-fft-malicious-n-0-6-m-12-r8.csv?token=AKVFSOAA7A6QCJMIOUGDNZS63I46W')\n",
        "df8_6 = pd.read_csv('https://raw.githubusercontent.com/chamikasudusinghe/nocml/master/dos%20results%20ver%204/router-dataset/r8/2-fft-malicious-n-0-6-m-7-r8.csv?token=AKVFSOFBY2SZGXHYN65K7BS63I46Y')\n",
        "df8_7 = pd.read_csv('https://raw.githubusercontent.com/chamikasudusinghe/nocml/master/dos%20results%20ver%204/router-dataset/r8/2-fft-malicious-n-0-9-m-12-r8.csv?token=AKVFSOEDKL5GJVUGZK72GI263I464')\n",
        "df8_8 = pd.read_csv('https://raw.githubusercontent.com/chamikasudusinghe/nocml/master/dos%20results%20ver%204/router-dataset/r8/2-fft-malicious-n-0-9-m-7-r8.csv?token=AKVFSOF63COCNDMPXELLWIK63I47A')"
      ],
      "execution_count": 0,
      "outputs": []
    },
    {
      "cell_type": "code",
      "metadata": {
        "colab_type": "code",
        "id": "su73xtuSey1-",
        "colab": {}
      },
      "source": [
        "df9_1 = pd.read_csv('https://raw.githubusercontent.com/chamikasudusinghe/nocml/master/dos%20results%20ver%204/router-dataset/r9/2-fft-malicious-n-0-15-m-12-r9.csv?token=AKVFSOBOHTVG3MJMJANN6WK63I6C2')\n",
        "df9_2 = pd.read_csv('https://raw.githubusercontent.com/chamikasudusinghe/nocml/master/dos%20results%20ver%204/router-dataset/r9/2-fft-malicious-n-0-15-m-7-r9.csv?token=AKVFSOB6G5XYPI2M2MYYVWK63I6C4')\n",
        "df9_3 = pd.read_csv('https://raw.githubusercontent.com/chamikasudusinghe/nocml/master/dos%20results%20ver%204/router-dataset/r9/2-fft-malicious-n-0-4-m-12-r9.csv?token=AKVFSOFKWAFM52ARWFNRYAS63I6C6')\n",
        "df9_4 = pd.read_csv('https://raw.githubusercontent.com/chamikasudusinghe/nocml/master/dos%20results%20ver%204/router-dataset/r9/2-fft-malicious-n-0-4-m-7-r9.csv?token=AKVFSODAQD7CE6W6GUDPTZC63I6DA')\n",
        "df9_5 = pd.read_csv('https://raw.githubusercontent.com/chamikasudusinghe/nocml/master/dos%20results%20ver%204/router-dataset/r9/2-fft-malicious-n-0-6-m-12-r9.csv?token=AKVFSOFBWSLMJUQVAPKAEX263I6DE')\n",
        "df9_6 = pd.read_csv('https://raw.githubusercontent.com/chamikasudusinghe/nocml/master/dos%20results%20ver%204/router-dataset/r9/2-fft-malicious-n-0-6-m-7-r9.csv?token=AKVFSOGY6QHT5NN24KL7E7C63I6DI')\n",
        "df9_7 = pd.read_csv('https://raw.githubusercontent.com/chamikasudusinghe/nocml/master/dos%20results%20ver%204/router-dataset/r9/2-fft-malicious-n-0-9-m-12-r9.csv?token=AKVFSOALONLIOJZTZCXCUTC63I6DM')\n",
        "df9_8 = pd.read_csv('https://raw.githubusercontent.com/chamikasudusinghe/nocml/master/dos%20results%20ver%204/router-dataset/r9/2-fft-malicious-n-0-9-m-7-r9.csv?token=AKVFSOHCIKUWUJA7HJX3UK263I6DO')"
      ],
      "execution_count": 0,
      "outputs": []
    },
    {
      "cell_type": "code",
      "metadata": {
        "colab_type": "code",
        "id": "14aQHMUiezNl",
        "colab": {}
      },
      "source": [
        "df10_1 = pd.read_csv('https://raw.githubusercontent.com/chamikasudusinghe/nocml/master/dos%20results%20ver%204/router-dataset/r10/2-fft-malicious-n-0-15-m-12-r10.csv?token=AKVFSOFVGIPVBC454BZZIYS63JR4K')\n",
        "df10_2 = pd.read_csv('https://raw.githubusercontent.com/chamikasudusinghe/nocml/master/dos%20results%20ver%204/router-dataset/r10/2-fft-malicious-n-0-15-m-7-r10.csv?token=AKVFSOBYE5BQE7QZ4AMG2NS63JR4O')\n",
        "df10_3 = pd.read_csv('https://raw.githubusercontent.com/chamikasudusinghe/nocml/master/dos%20results%20ver%204/router-dataset/r10/2-fft-malicious-n-0-4-m-12-r10.csv?token=AKVFSOHSRTBV3DWTO5POEDS63JR4S')\n",
        "df10_4 = pd.read_csv('https://raw.githubusercontent.com/chamikasudusinghe/nocml/master/dos%20results%20ver%204/router-dataset/r10/2-fft-malicious-n-0-4-m-7-r10.csv?token=AKVFSOABGQLH7FP623C6TSS63JR4W')\n",
        "df10_5 = pd.read_csv('https://raw.githubusercontent.com/chamikasudusinghe/nocml/master/dos%20results%20ver%204/router-dataset/r10/2-fft-malicious-n-0-6-m-12-r10.csv?token=AKVFSOCM7ZVIS6C34GD2DJC63JR42')\n",
        "df10_6 = pd.read_csv('https://raw.githubusercontent.com/chamikasudusinghe/nocml/master/dos%20results%20ver%204/router-dataset/r10/2-fft-malicious-n-0-6-m-7-r10.csv?token=AKVFSOG45XQ57Q2DLQTYDUK63JR46')\n",
        "df10_7 = pd.read_csv('https://raw.githubusercontent.com/chamikasudusinghe/nocml/master/dos%20results%20ver%204/router-dataset/r10/2-fft-malicious-n-0-9-m-12-r10.csv?token=AKVFSOEKKOUN2NI7SNNDNDK63JR5C')\n",
        "df10_8 = pd.read_csv('https://raw.githubusercontent.com/chamikasudusinghe/nocml/master/dos%20results%20ver%204/router-dataset/r10/2-fft-malicious-n-0-9-m-7-r10.csv?token=AKVFSOEGFNODJLSCLGQ5N5K63JR5I')"
      ],
      "execution_count": 0,
      "outputs": []
    },
    {
      "cell_type": "code",
      "metadata": {
        "colab_type": "code",
        "id": "2hSa3qFVezb7",
        "colab": {}
      },
      "source": [
        "df11_1 = pd.read_csv('https://raw.githubusercontent.com/chamikasudusinghe/nocml/master/dos%20results%20ver%204/router-dataset/r11/2-fft-malicious-n-0-15-m-12-r11.csv?token=AKVFSODFX632MJC3CW5FU7S63JEEK')\n",
        "df11_2 = pd.read_csv('https://raw.githubusercontent.com/chamikasudusinghe/nocml/master/dos%20results%20ver%204/router-dataset/r11/2-fft-malicious-n-0-15-m-7-r11.csv?token=AKVFSOGYGNPHWB42VH7Q2GK63JEEQ')\n",
        "df11_3 = pd.read_csv('https://raw.githubusercontent.com/chamikasudusinghe/nocml/master/dos%20results%20ver%204/router-dataset/r11/2-fft-malicious-n-0-4-m-12-r11.csv?token=AKVFSOFZ6KJEJ26DEU6UFHS63JEES')\n",
        "df11_4 = pd.read_csv('https://raw.githubusercontent.com/chamikasudusinghe/nocml/master/dos%20results%20ver%204/router-dataset/r11/2-fft-malicious-n-0-4-m-7-r11.csv?token=AKVFSOER2UFUJ5R5M2LN2B263JEEW')\n",
        "df11_5 = pd.read_csv('https://raw.githubusercontent.com/chamikasudusinghe/nocml/master/dos%20results%20ver%204/router-dataset/r11/2-fft-malicious-n-0-6-m-12-r11.csv?token=AKVFSOB57H6WKTXOY4DPBX263JEE2')\n",
        "df11_6 = pd.read_csv('https://raw.githubusercontent.com/chamikasudusinghe/nocml/master/dos%20results%20ver%204/router-dataset/r11/2-fft-malicious-n-0-6-m-7-r11.csv?token=AKVFSOCLQ35HXGV32FCHFJ263JEE6')\n",
        "df11_7 = pd.read_csv('https://raw.githubusercontent.com/chamikasudusinghe/nocml/master/dos%20results%20ver%204/router-dataset/r11/2-fft-malicious-n-0-9-m-12-r11.csv?token=AKVFSOCTWJFN5PAITIQQD7S63JEFE')\n",
        "df11_8 = pd.read_csv('https://raw.githubusercontent.com/chamikasudusinghe/nocml/master/dos%20results%20ver%204/router-dataset/r11/2-fft-malicious-n-0-9-m-7-r11.csv?token=AKVFSOHI6JNCK4OP4LHGZOS63JEFI')"
      ],
      "execution_count": 0,
      "outputs": []
    },
    {
      "cell_type": "code",
      "metadata": {
        "colab_type": "code",
        "id": "-ihVq4rvezpQ",
        "colab": {}
      },
      "source": [
        "df12_1 = pd.read_csv('https://raw.githubusercontent.com/chamikasudusinghe/nocml/master/dos%20results%20ver%204/router-dataset/r12/2-fft-malicious-n-0-15-m-12-r12.csv?token=AKVFSOAQGBVPWTBK23STAH263JFYI')\n",
        "df12_2 = pd.read_csv('https://raw.githubusercontent.com/chamikasudusinghe/nocml/master/dos%20results%20ver%204/router-dataset/r12/2-fft-malicious-n-0-15-m-7-r12.csv?token=AKVFSOACXGKWQCFQJMZE7OK63JFYM')\n",
        "df12_3 = pd.read_csv('https://raw.githubusercontent.com/chamikasudusinghe/nocml/master/dos%20results%20ver%204/router-dataset/r12/2-fft-malicious-n-0-4-m-12-r12.csv?token=AKVFSOEP6PXCYIEXXGXIMAS63JFYS')\n",
        "df12_4 = pd.read_csv('https://raw.githubusercontent.com/chamikasudusinghe/nocml/master/dos%20results%20ver%204/router-dataset/r12/2-fft-malicious-n-0-4-m-7-r12.csv?token=AKVFSOEPFPRE6YMP5OPPTWC63JFYW')\n",
        "df12_5 = pd.read_csv('https://raw.githubusercontent.com/chamikasudusinghe/nocml/master/dos%20results%20ver%204/router-dataset/r12/2-fft-malicious-n-0-6-m-12-r12.csv?token=AKVFSOE34UMVNGJ6LETMSXC63JFY2')\n",
        "df12_6 = pd.read_csv('https://raw.githubusercontent.com/chamikasudusinghe/nocml/master/dos%20results%20ver%204/router-dataset/r12/2-fft-malicious-n-0-6-m-7-r12.csv?token=AKVFSODWIH76NTQVZ2HRY7263JFY6')\n",
        "df12_7 = pd.read_csv('https://raw.githubusercontent.com/chamikasudusinghe/nocml/master/dos%20results%20ver%204/router-dataset/r12/2-fft-malicious-n-0-9-m-12-r12.csv?token=AKVFSOHIESF6HVPVT7QHJYK63JFZG')\n",
        "df12_8 = pd.read_csv('https://raw.githubusercontent.com/chamikasudusinghe/nocml/master/dos%20results%20ver%204/router-dataset/r12/2-fft-malicious-n-0-9-m-7-r12.csv?token=AKVFSOEYEBJJAOXQMTBOKYC63JFZM')"
      ],
      "execution_count": 0,
      "outputs": []
    },
    {
      "cell_type": "code",
      "metadata": {
        "colab_type": "code",
        "id": "IQUBnDrLez2p",
        "colab": {}
      },
      "source": [
        "df13_1 = pd.read_csv('https://raw.githubusercontent.com/chamikasudusinghe/nocml/master/dos%20results%20ver%204/router-dataset/r13/2-fft-malicious-n-0-15-m-12-r13.csv?token=AKVFSOAXXM3UU5GITOILMOC63JHPW')\n",
        "df13_2 = pd.read_csv('https://raw.githubusercontent.com/chamikasudusinghe/nocml/master/dos%20results%20ver%204/router-dataset/r13/2-fft-malicious-n-0-15-m-7-r13.csv?token=AKVFSOFKNO7OWYS5BRNHQZK63JHP4')\n",
        "df13_3 = pd.read_csv('https://raw.githubusercontent.com/chamikasudusinghe/nocml/master/dos%20results%20ver%204/router-dataset/r13/2-fft-malicious-n-0-4-m-12-r13.csv?token=AKVFSOGYU422BL6DF7RJ6HS63JHQA')\n",
        "df13_4 = pd.read_csv('https://raw.githubusercontent.com/chamikasudusinghe/nocml/master/dos%20results%20ver%204/router-dataset/r13/2-fft-malicious-n-0-4-m-7-r13.csv?token=AKVFSODPPLDKWC3NVAKQGVK63JHQE')\n",
        "df13_5 = pd.read_csv('https://raw.githubusercontent.com/chamikasudusinghe/nocml/master/dos%20results%20ver%204/router-dataset/r13/2-fft-malicious-n-0-6-m-12-r13.csv?token=AKVFSOBEBVBBJKZXWSQLBQ263JHQI')\n",
        "df13_6 = pd.read_csv('https://raw.githubusercontent.com/chamikasudusinghe/nocml/master/dos%20results%20ver%204/router-dataset/r13/2-fft-malicious-n-0-6-m-7-r13.csv?token=AKVFSOEX7RZOWF53SBAXS6K63JHQO')\n",
        "df13_7 = pd.read_csv('https://raw.githubusercontent.com/chamikasudusinghe/nocml/master/dos%20results%20ver%204/router-dataset/r13/2-fft-malicious-n-0-9-m-12-r13.csv?token=AKVFSOE3CS3PGH25O4QDKOC63JHQS')\n",
        "df13_8 = pd.read_csv('https://raw.githubusercontent.com/chamikasudusinghe/nocml/master/dos%20results%20ver%204/router-dataset/r13/2-fft-malicious-n-0-9-m-7-r13.csv?token=AKVFSOCLBNZLGDTYRDK7KKS63JHQW')"
      ],
      "execution_count": 0,
      "outputs": []
    },
    {
      "cell_type": "code",
      "metadata": {
        "colab_type": "code",
        "id": "l4oU1cdre0Dh",
        "colab": {}
      },
      "source": [
        "df14_1 = pd.read_csv('https://raw.githubusercontent.com/chamikasudusinghe/nocml/master/dos%20results%20ver%204/router-dataset/r14/2-fft-malicious-n-0-15-m-12-r14.csv?token=AKVFSOCCWK2AKL76QQQFCWK63JIXI')\n",
        "df14_2 = pd.read_csv('https://raw.githubusercontent.com/chamikasudusinghe/nocml/master/dos%20results%20ver%204/router-dataset/r14/2-fft-malicious-n-0-15-m-7-r14.csv?token=AKVFSOFFLTHP6UWBLP76WXK63JIXM')\n",
        "df14_3 = pd.read_csv('https://raw.githubusercontent.com/chamikasudusinghe/nocml/master/dos%20results%20ver%204/router-dataset/r14/2-fft-malicious-n-0-4-m-12-r14.csv?token=AKVFSOEEOIMZMSB4ZGOHEZS63JIXQ')\n",
        "df14_4 = pd.read_csv('https://raw.githubusercontent.com/chamikasudusinghe/nocml/master/dos%20results%20ver%204/router-dataset/r14/2-fft-malicious-n-0-4-m-7-r14.csv?token=AKVFSOFDXPPLO7LKPID64NC63JIXY')\n",
        "df14_5 = pd.read_csv('https://raw.githubusercontent.com/chamikasudusinghe/nocml/master/dos%20results%20ver%204/router-dataset/r14/2-fft-malicious-n-0-6-m-12-r14.csv?token=AKVFSOFC72RSFH5THD7X2SK63JIX4')\n",
        "df14_6 = pd.read_csv('https://raw.githubusercontent.com/chamikasudusinghe/nocml/master/dos%20results%20ver%204/router-dataset/r14/2-fft-malicious-n-0-6-m-7-r14.csv?token=AKVFSOGX3QPOJQ365RI5ZIK63JIYA')\n",
        "df14_7 = pd.read_csv('https://raw.githubusercontent.com/chamikasudusinghe/nocml/master/dos%20results%20ver%204/router-dataset/r14/2-fft-malicious-n-0-9-m-12-r14.csv?token=AKVFSOCG4P5TBFIE47ZVHWS63JIYG')\n",
        "df14_8 = pd.read_csv('https://raw.githubusercontent.com/chamikasudusinghe/nocml/master/dos%20results%20ver%204/router-dataset/r14/2-fft-malicious-n-0-9-m-7-r14.csv?token=AKVFSOADWD2F6DDB4GMSQ6S63JIYK')"
      ],
      "execution_count": 0,
      "outputs": []
    },
    {
      "cell_type": "code",
      "metadata": {
        "colab_type": "code",
        "id": "4rRmHL5He0Q5",
        "colab": {}
      },
      "source": [
        "df15_1 = pd.read_csv('https://raw.githubusercontent.com/chamikasudusinghe/nocml/master/dos%20results%20ver%204/router-dataset/r15/2-fft-malicious-n-0-15-m-12-r15.csv?token=AKVFSOFCIIATN53BXPZZYAS63JK5C')\n",
        "df15_2 = pd.read_csv('https://raw.githubusercontent.com/chamikasudusinghe/nocml/master/dos%20results%20ver%204/router-dataset/r15/2-fft-malicious-n-0-15-m-7-r15.csv?token=AKVFSOGNEHOF57IWO2H7FXC63JK5G')\n",
        "df15_3 = pd.read_csv('https://raw.githubusercontent.com/chamikasudusinghe/nocml/master/dos%20results%20ver%204/router-dataset/r15/2-fft-malicious-n-0-4-m-12-r15.csv?token=AKVFSOCPIIFOLQNDQMMWWZK63JK5I')\n",
        "df15_4 = pd.read_csv('https://raw.githubusercontent.com/chamikasudusinghe/nocml/master/dos%20results%20ver%204/router-dataset/r15/2-fft-malicious-n-0-4-m-7-r15.csv?token=AKVFSOCB4H2XK6OOQSGGKMK63JK5M')\n",
        "df15_5 = pd.read_csv('https://raw.githubusercontent.com/chamikasudusinghe/nocml/master/dos%20results%20ver%204/router-dataset/r15/2-fft-malicious-n-0-6-m-12-r15.csv?token=AKVFSOF6O7SLN7ZGKZCOWK263JK5S')\n",
        "df15_6 = pd.read_csv('https://raw.githubusercontent.com/chamikasudusinghe/nocml/master/dos%20results%20ver%204/router-dataset/r15/2-fft-malicious-n-0-6-m-7-r15.csv?token=AKVFSOBBCKN5ZT36DWFVJ5263JK5W')\n",
        "df15_7 = pd.read_csv('https://raw.githubusercontent.com/chamikasudusinghe/nocml/master/dos%20results%20ver%204/router-dataset/r15/2-fft-malicious-n-0-9-m-12-r15.csv?token=AKVFSODMBWR2W3K6FF2UXBK63JK52')\n",
        "df15_8 = pd.read_csv('https://raw.githubusercontent.com/chamikasudusinghe/nocml/master/dos%20results%20ver%204/router-dataset/r15/2-fft-malicious-n-0-9-m-7-r15.csv?token=AKVFSOFKHHH63FKPM45JO6S63JK6A')"
      ],
      "execution_count": 0,
      "outputs": []
    },
    {
      "cell_type": "code",
      "metadata": {
        "colab_type": "code",
        "id": "lyFCjch-Qr7R",
        "outputId": "9e75a7db-f8d9-4570-f95e-1e7f42716292",
        "colab": {
          "base_uri": "https://localhost:8080/",
          "height": 456
        }
      },
      "source": [
        "print(df15_8.shape)\n",
        "df15_8"
      ],
      "execution_count": 0,
      "outputs": [
        {
          "output_type": "stream",
          "text": [
            "(29188, 26)\n"
          ],
          "name": "stdout"
        },
        {
          "output_type": "execute_result",
          "data": {
            "text/html": [
              "<div>\n",
              "<style scoped>\n",
              "    .dataframe tbody tr th:only-of-type {\n",
              "        vertical-align: middle;\n",
              "    }\n",
              "\n",
              "    .dataframe tbody tr th {\n",
              "        vertical-align: top;\n",
              "    }\n",
              "\n",
              "    .dataframe thead th {\n",
              "        text-align: right;\n",
              "    }\n",
              "</style>\n",
              "<table border=\"1\" class=\"dataframe\">\n",
              "  <thead>\n",
              "    <tr style=\"text-align: right;\">\n",
              "      <th></th>\n",
              "      <th>timestamp</th>\n",
              "      <th>outport</th>\n",
              "      <th>inport</th>\n",
              "      <th>cache_coherence_type</th>\n",
              "      <th>flit_id</th>\n",
              "      <th>flit_type</th>\n",
              "      <th>vnet</th>\n",
              "      <th>vc</th>\n",
              "      <th>src_ni</th>\n",
              "      <th>src_router</th>\n",
              "      <th>dst_ni</th>\n",
              "      <th>dst_router</th>\n",
              "      <th>traversal_id</th>\n",
              "      <th>hop_count</th>\n",
              "      <th>current_hop</th>\n",
              "      <th>hop_percentage</th>\n",
              "      <th>enqueue_time</th>\n",
              "      <th>packet_count_decr</th>\n",
              "      <th>packet_count_incr</th>\n",
              "      <th>max_packet_count</th>\n",
              "      <th>packet_count_index</th>\n",
              "      <th>port_index</th>\n",
              "      <th>traversal_index</th>\n",
              "      <th>cache_coherence_vnet_index</th>\n",
              "      <th>vnet_vc_cc_index</th>\n",
              "      <th>target</th>\n",
              "    </tr>\n",
              "  </thead>\n",
              "  <tbody>\n",
              "    <tr>\n",
              "      <th>0</th>\n",
              "      <td>751</td>\n",
              "      <td>3</td>\n",
              "      <td>4</td>\n",
              "      <td>2</td>\n",
              "      <td>1</td>\n",
              "      <td>4</td>\n",
              "      <td>3</td>\n",
              "      <td>9</td>\n",
              "      <td>30</td>\n",
              "      <td>14</td>\n",
              "      <td>27</td>\n",
              "      <td>11</td>\n",
              "      <td>25</td>\n",
              "      <td>2</td>\n",
              "      <td>1</td>\n",
              "      <td>0.50</td>\n",
              "      <td>8</td>\n",
              "      <td>3</td>\n",
              "      <td>1</td>\n",
              "      <td>3</td>\n",
              "      <td>3</td>\n",
              "      <td>12</td>\n",
              "      <td>200</td>\n",
              "      <td>6</td>\n",
              "      <td>54</td>\n",
              "      <td>0</td>\n",
              "    </tr>\n",
              "    <tr>\n",
              "      <th>1</th>\n",
              "      <td>804</td>\n",
              "      <td>3</td>\n",
              "      <td>4</td>\n",
              "      <td>2</td>\n",
              "      <td>1</td>\n",
              "      <td>4</td>\n",
              "      <td>3</td>\n",
              "      <td>9</td>\n",
              "      <td>30</td>\n",
              "      <td>14</td>\n",
              "      <td>27</td>\n",
              "      <td>11</td>\n",
              "      <td>26</td>\n",
              "      <td>2</td>\n",
              "      <td>1</td>\n",
              "      <td>0.50</td>\n",
              "      <td>8</td>\n",
              "      <td>2</td>\n",
              "      <td>2</td>\n",
              "      <td>3</td>\n",
              "      <td>4</td>\n",
              "      <td>12</td>\n",
              "      <td>208</td>\n",
              "      <td>6</td>\n",
              "      <td>54</td>\n",
              "      <td>0</td>\n",
              "    </tr>\n",
              "    <tr>\n",
              "      <th>2</th>\n",
              "      <td>857</td>\n",
              "      <td>3</td>\n",
              "      <td>4</td>\n",
              "      <td>2</td>\n",
              "      <td>1</td>\n",
              "      <td>4</td>\n",
              "      <td>3</td>\n",
              "      <td>9</td>\n",
              "      <td>30</td>\n",
              "      <td>14</td>\n",
              "      <td>27</td>\n",
              "      <td>11</td>\n",
              "      <td>28</td>\n",
              "      <td>2</td>\n",
              "      <td>1</td>\n",
              "      <td>0.50</td>\n",
              "      <td>8</td>\n",
              "      <td>1</td>\n",
              "      <td>3</td>\n",
              "      <td>3</td>\n",
              "      <td>3</td>\n",
              "      <td>12</td>\n",
              "      <td>224</td>\n",
              "      <td>6</td>\n",
              "      <td>54</td>\n",
              "      <td>0</td>\n",
              "    </tr>\n",
              "    <tr>\n",
              "      <th>3</th>\n",
              "      <td>1167</td>\n",
              "      <td>3</td>\n",
              "      <td>4</td>\n",
              "      <td>2</td>\n",
              "      <td>1</td>\n",
              "      <td>4</td>\n",
              "      <td>3</td>\n",
              "      <td>9</td>\n",
              "      <td>28</td>\n",
              "      <td>12</td>\n",
              "      <td>27</td>\n",
              "      <td>11</td>\n",
              "      <td>36</td>\n",
              "      <td>4</td>\n",
              "      <td>3</td>\n",
              "      <td>0.75</td>\n",
              "      <td>16</td>\n",
              "      <td>9</td>\n",
              "      <td>1</td>\n",
              "      <td>9</td>\n",
              "      <td>9</td>\n",
              "      <td>12</td>\n",
              "      <td>288</td>\n",
              "      <td>6</td>\n",
              "      <td>54</td>\n",
              "      <td>0</td>\n",
              "    </tr>\n",
              "    <tr>\n",
              "      <th>4</th>\n",
              "      <td>1189</td>\n",
              "      <td>3</td>\n",
              "      <td>4</td>\n",
              "      <td>2</td>\n",
              "      <td>1</td>\n",
              "      <td>4</td>\n",
              "      <td>3</td>\n",
              "      <td>9</td>\n",
              "      <td>28</td>\n",
              "      <td>12</td>\n",
              "      <td>27</td>\n",
              "      <td>11</td>\n",
              "      <td>38</td>\n",
              "      <td>4</td>\n",
              "      <td>3</td>\n",
              "      <td>0.75</td>\n",
              "      <td>16</td>\n",
              "      <td>8</td>\n",
              "      <td>2</td>\n",
              "      <td>9</td>\n",
              "      <td>16</td>\n",
              "      <td>12</td>\n",
              "      <td>304</td>\n",
              "      <td>6</td>\n",
              "      <td>54</td>\n",
              "      <td>0</td>\n",
              "    </tr>\n",
              "    <tr>\n",
              "      <th>...</th>\n",
              "      <td>...</td>\n",
              "      <td>...</td>\n",
              "      <td>...</td>\n",
              "      <td>...</td>\n",
              "      <td>...</td>\n",
              "      <td>...</td>\n",
              "      <td>...</td>\n",
              "      <td>...</td>\n",
              "      <td>...</td>\n",
              "      <td>...</td>\n",
              "      <td>...</td>\n",
              "      <td>...</td>\n",
              "      <td>...</td>\n",
              "      <td>...</td>\n",
              "      <td>...</td>\n",
              "      <td>...</td>\n",
              "      <td>...</td>\n",
              "      <td>...</td>\n",
              "      <td>...</td>\n",
              "      <td>...</td>\n",
              "      <td>...</td>\n",
              "      <td>...</td>\n",
              "      <td>...</td>\n",
              "      <td>...</td>\n",
              "      <td>...</td>\n",
              "      <td>...</td>\n",
              "    </tr>\n",
              "    <tr>\n",
              "      <th>29183</th>\n",
              "      <td>3265316</td>\n",
              "      <td>3</td>\n",
              "      <td>4</td>\n",
              "      <td>6</td>\n",
              "      <td>2</td>\n",
              "      <td>2</td>\n",
              "      <td>3</td>\n",
              "      <td>9</td>\n",
              "      <td>30</td>\n",
              "      <td>14</td>\n",
              "      <td>27</td>\n",
              "      <td>11</td>\n",
              "      <td>30078</td>\n",
              "      <td>2</td>\n",
              "      <td>1</td>\n",
              "      <td>0.50</td>\n",
              "      <td>15</td>\n",
              "      <td>5</td>\n",
              "      <td>8</td>\n",
              "      <td>12</td>\n",
              "      <td>40</td>\n",
              "      <td>12</td>\n",
              "      <td>721872</td>\n",
              "      <td>18</td>\n",
              "      <td>162</td>\n",
              "      <td>0</td>\n",
              "    </tr>\n",
              "    <tr>\n",
              "      <th>29184</th>\n",
              "      <td>3265323</td>\n",
              "      <td>3</td>\n",
              "      <td>4</td>\n",
              "      <td>6</td>\n",
              "      <td>3</td>\n",
              "      <td>2</td>\n",
              "      <td>3</td>\n",
              "      <td>9</td>\n",
              "      <td>30</td>\n",
              "      <td>14</td>\n",
              "      <td>27</td>\n",
              "      <td>11</td>\n",
              "      <td>30078</td>\n",
              "      <td>2</td>\n",
              "      <td>1</td>\n",
              "      <td>0.50</td>\n",
              "      <td>22</td>\n",
              "      <td>4</td>\n",
              "      <td>9</td>\n",
              "      <td>12</td>\n",
              "      <td>36</td>\n",
              "      <td>12</td>\n",
              "      <td>1082808</td>\n",
              "      <td>18</td>\n",
              "      <td>162</td>\n",
              "      <td>0</td>\n",
              "    </tr>\n",
              "    <tr>\n",
              "      <th>29185</th>\n",
              "      <td>3265330</td>\n",
              "      <td>3</td>\n",
              "      <td>4</td>\n",
              "      <td>6</td>\n",
              "      <td>4</td>\n",
              "      <td>2</td>\n",
              "      <td>3</td>\n",
              "      <td>9</td>\n",
              "      <td>30</td>\n",
              "      <td>14</td>\n",
              "      <td>27</td>\n",
              "      <td>11</td>\n",
              "      <td>30078</td>\n",
              "      <td>2</td>\n",
              "      <td>1</td>\n",
              "      <td>0.50</td>\n",
              "      <td>29</td>\n",
              "      <td>3</td>\n",
              "      <td>10</td>\n",
              "      <td>12</td>\n",
              "      <td>30</td>\n",
              "      <td>12</td>\n",
              "      <td>1443744</td>\n",
              "      <td>18</td>\n",
              "      <td>162</td>\n",
              "      <td>0</td>\n",
              "    </tr>\n",
              "    <tr>\n",
              "      <th>29186</th>\n",
              "      <td>3265337</td>\n",
              "      <td>3</td>\n",
              "      <td>4</td>\n",
              "      <td>6</td>\n",
              "      <td>5</td>\n",
              "      <td>3</td>\n",
              "      <td>3</td>\n",
              "      <td>9</td>\n",
              "      <td>30</td>\n",
              "      <td>14</td>\n",
              "      <td>27</td>\n",
              "      <td>11</td>\n",
              "      <td>30078</td>\n",
              "      <td>2</td>\n",
              "      <td>1</td>\n",
              "      <td>0.50</td>\n",
              "      <td>36</td>\n",
              "      <td>2</td>\n",
              "      <td>11</td>\n",
              "      <td>12</td>\n",
              "      <td>22</td>\n",
              "      <td>12</td>\n",
              "      <td>2707020</td>\n",
              "      <td>18</td>\n",
              "      <td>162</td>\n",
              "      <td>0</td>\n",
              "    </tr>\n",
              "    <tr>\n",
              "      <th>29187</th>\n",
              "      <td>3265338</td>\n",
              "      <td>3</td>\n",
              "      <td>4</td>\n",
              "      <td>2</td>\n",
              "      <td>1</td>\n",
              "      <td>4</td>\n",
              "      <td>3</td>\n",
              "      <td>10</td>\n",
              "      <td>30</td>\n",
              "      <td>14</td>\n",
              "      <td>27</td>\n",
              "      <td>11</td>\n",
              "      <td>30079</td>\n",
              "      <td>2</td>\n",
              "      <td>1</td>\n",
              "      <td>0.50</td>\n",
              "      <td>36</td>\n",
              "      <td>1</td>\n",
              "      <td>12</td>\n",
              "      <td>12</td>\n",
              "      <td>12</td>\n",
              "      <td>12</td>\n",
              "      <td>240632</td>\n",
              "      <td>6</td>\n",
              "      <td>60</td>\n",
              "      <td>0</td>\n",
              "    </tr>\n",
              "  </tbody>\n",
              "</table>\n",
              "<p>29188 rows × 26 columns</p>\n",
              "</div>"
            ],
            "text/plain": [
              "       timestamp  outport  ...  vnet_vc_cc_index  target\n",
              "0            751        3  ...                54       0\n",
              "1            804        3  ...                54       0\n",
              "2            857        3  ...                54       0\n",
              "3           1167        3  ...                54       0\n",
              "4           1189        3  ...                54       0\n",
              "...          ...      ...  ...               ...     ...\n",
              "29183    3265316        3  ...               162       0\n",
              "29184    3265323        3  ...               162       0\n",
              "29185    3265330        3  ...               162       0\n",
              "29186    3265337        3  ...               162       0\n",
              "29187    3265338        3  ...                60       0\n",
              "\n",
              "[29188 rows x 26 columns]"
            ]
          },
          "metadata": {
            "tags": []
          },
          "execution_count": 22
        }
      ]
    },
    {
      "cell_type": "code",
      "metadata": {
        "colab_type": "code",
        "id": "8rw34rA6NfcM",
        "colab": {}
      },
      "source": [
        "def roundup(x):\n",
        "  return int(math.ceil(x / 1000.0)) * 1000"
      ],
      "execution_count": 0,
      "outputs": []
    },
    {
      "cell_type": "code",
      "metadata": {
        "colab_type": "code",
        "id": "3LrtUuvdvyQY",
        "colab": {}
      },
      "source": [
        "def timecount(df):\n",
        "    timearr = []\n",
        "    interval = 999\n",
        "    count = 0\n",
        "    for index, row in df.iterrows():\n",
        "        if row[\"timestamp\"]<=interval :\n",
        "            count+=1\n",
        "        else:\n",
        "            timearr.append([interval+1,count])\n",
        "            count=1\n",
        "            if (row[\"timestamp\"] == roundup(row[\"timestamp\"])):\n",
        "              interval = row[\"timestamp\"]+999\n",
        "            else:\n",
        "              interval = roundup(row[\"timestamp\"])-1\n",
        "    timearr.append([interval+1,count])\n",
        "    return timearr"
      ],
      "execution_count": 0,
      "outputs": []
    },
    {
      "cell_type": "code",
      "metadata": {
        "colab_type": "code",
        "id": "YUYuKgbEv0G3",
        "colab": {}
      },
      "source": [
        "def standardize(df):\n",
        "  test_X = df.drop(columns=['target','timestamp','src_ni','src_router','dst_ni','dst_router'])\n",
        "  test_Y = df['target']\n",
        "  x = test_X.values\n",
        "  min_max_scaler = preprocessing.MinMaxScaler()\n",
        "  columns = test_X.columns\n",
        "  x_scaled = min_max_scaler.fit_transform(x)\n",
        "  test_X = pd.DataFrame(x_scaled)\n",
        "  test_X.columns = columns\n",
        "  print(test_X[test_X.duplicated()].shape)\n",
        "  return test_X,test_Y"
      ],
      "execution_count": 0,
      "outputs": []
    },
    {
      "cell_type": "code",
      "metadata": {
        "colab_type": "code",
        "id": "XuEcJdEOxI4U",
        "colab": {}
      },
      "source": [
        "xgb_r0 = pickle.load(open(root_dir+\"/xgbc-r0.pickle.dat\", \"rb\"))\n",
        "xgb_r1 = pickle.load(open(root_dir+\"/xgbc-r1.pickle.dat\", \"rb\"))\n",
        "xgb_r2 = pickle.load(open(root_dir+\"/xgbc-r2.pickle.dat\", \"rb\"))\n",
        "xgb_r3 = pickle.load(open(root_dir+\"/xgbc-r3.pickle.dat\", \"rb\"))\n",
        "xgb_r4 = pickle.load(open(root_dir+\"/xgbc-r4.pickle.dat\", \"rb\"))\n",
        "xgb_r5 = pickle.load(open(root_dir+\"/xgbc-r5.pickle.dat\", \"rb\"))\n",
        "xgb_r6 = pickle.load(open(root_dir+\"/xgbc-r6.pickle.dat\", \"rb\"))\n",
        "xgb_r7 = pickle.load(open(root_dir+\"/xgbc-r7.pickle.dat\", \"rb\"))\n",
        "xgb_r8 = pickle.load(open(root_dir+\"/xgbc-r8.pickle.dat\", \"rb\"))\n",
        "xgb_r9 = pickle.load(open(root_dir+\"/xgbc-r9.pickle.dat\", \"rb\"))\n",
        "xgb_r10 = pickle.load(open(root_dir+\"/xgbc-r10.pickle.dat\", \"rb\"))\n",
        "xgb_r11 = pickle.load(open(root_dir+\"/xgbc-r11.pickle.dat\", \"rb\"))\n",
        "xgb_r12 = pickle.load(open(root_dir+\"/xgbc-r12.pickle.dat\", \"rb\"))\n",
        "xgb_r13 = pickle.load(open(root_dir+\"/xgbc-r13.pickle.dat\", \"rb\"))\n",
        "xgb_r14 = pickle.load(open(root_dir+\"/xgbc-r14.pickle.dat\", \"rb\"))\n",
        "xgb_r15 = pickle.load(open(root_dir+\"/xgbc-r15.pickle.dat\", \"rb\"))"
      ],
      "execution_count": 0,
      "outputs": []
    },
    {
      "cell_type": "code",
      "metadata": {
        "colab_type": "code",
        "id": "p5G7CkpwIRzC",
        "outputId": "9208f8ca-3b05-4ae4-e3b4-a801fe5814c8",
        "colab": {
          "base_uri": "https://localhost:8080/",
          "height": 34
        }
      },
      "source": [
        "df0_1.shape"
      ],
      "execution_count": 0,
      "outputs": [
        {
          "output_type": "execute_result",
          "data": {
            "text/plain": [
              "(97992, 26)"
            ]
          },
          "metadata": {
            "tags": []
          },
          "execution_count": 27
        }
      ]
    },
    {
      "cell_type": "code",
      "metadata": {
        "id": "fdVLKbmELgEK",
        "colab_type": "code",
        "colab": {}
      },
      "source": [
        "def window(j):\n",
        "\n",
        "  timearr0 = timecount(df0_1)\n",
        "  timearr1 = timecount(df1_1)\n",
        "  timearr2 = timecount(df2_1)\n",
        "  timearr3 = timecount(df3_1)\n",
        "  timearr4 = timecount(df4_1)\n",
        "  timearr5 = timecount(df5_1)\n",
        "  timearr6 = timecount(df6_1)\n",
        "  timearr7 = timecount(df7_1)\n",
        "  timearr8 = timecount(df8_1)\n",
        "  timearr9 = timecount(df9_1)\n",
        "  timearr10 = timecount(df10_1)\n",
        "  timearr11 = timecount(df11_1)\n",
        "  timearr12 = timecount(df12_1)\n",
        "  timearr13 = timecount(df13_1)\n",
        "  timearr14 = timecount(df14_1)\n",
        "  timearr15 = timecount(df15_1)\n",
        "\n",
        "  max_limit = max(timearr0[-1],timearr1[-1],timearr2[-1],timearr3[-1],timearr4[-1],timearr5[-1],timearr6[-1],timearr7[-1],timearr8[-1],timearr9[-1],timearr10[-1],timearr11[-1],timearr12[-1],timearr13[-1],timearr14[-1],timearr15[-1])\n",
        "\n",
        "  print(max_limit[0])\n",
        "  \n",
        "  def prediction(df,timearr,xgb):\n",
        "\n",
        "    test_X,test_Y = standardize (df)\n",
        "    counter = timearr[0][1]\n",
        "    result = []\n",
        "    begin = counter\n",
        "    text_X0 = test_X[:counter]\n",
        "    text_Y0 = test_Y[:counter]\n",
        "\n",
        "    y_pred_xgbc_test= xgb.predict(text_X0)\n",
        "\n",
        "    xgbc_score_test = accuracy_score(text_Y0,y_pred_xgbc_test)\n",
        "    \n",
        "    result.append([timearr[0][0],xgbc_score_test*100]) \n",
        "\n",
        "    for i in range(1,len(timearr)):\n",
        "\n",
        "      counter += timearr[i][1]\n",
        "\n",
        "      text_X0 = test_X[begin:counter]\n",
        "      text_Y0 = test_Y[begin:counter]\n",
        "\n",
        "      y_pred_xgbc_test= xgb.predict(text_X0)\n",
        "\n",
        "      xgbc_score_test = accuracy_score(text_Y0,y_pred_xgbc_test)\n",
        "\n",
        "      result.append([timearr[i][0],xgbc_score_test*100])\n",
        "\n",
        "      begin = counter\n",
        "\n",
        "    return result\n",
        "\n",
        "  result0 = prediction(df0_1,timearr0,xgb_r0)\n",
        "  result1 = prediction(df1_1,timearr1,xgb_r1)\n",
        "  result2 = prediction(df2_1,timearr2,xgb_r2)\n",
        "  result3 = prediction(df3_1,timearr3,xgb_r3)\n",
        "  result4 = prediction(df4_1,timearr4,xgb_r4)\n",
        "  result5 = prediction(df5_1,timearr5,xgb_r5)\n",
        "  result6 = prediction(df6_1,timearr6,xgb_r6)\n",
        "  result7 = prediction(df7_1,timearr7,xgb_r7)\n",
        "  result8 = prediction(df8_1,timearr8,xgb_r8)\n",
        "  result9 = prediction(df9_1,timearr9,xgb_r9)\n",
        "  result10 = prediction(df10_1,timearr10,xgb_r10)\n",
        "  result11 = prediction(df11_1,timearr11,xgb_r11)\n",
        "  result12 = prediction(df12_1,timearr12,xgb_r12)\n",
        "  result13 = prediction(df13_1,timearr13,xgb_r13)\n",
        "  result14 = prediction(df14_1,timearr14,xgb_r14)\n",
        "  result15 = prediction(df15_1,timearr15,xgb_r15)\n",
        "\n",
        "  indexarr = []\n",
        "\n",
        "  for i in range(1000,int(max_limit[0])+1,1000):\n",
        "    indexarr.append(i)\n",
        "\n",
        "  df = pd.DataFrame()\n",
        "  df = df.assign(index=indexarr)\n",
        "\n",
        "  df0 = pd.DataFrame()\n",
        "  df0 = df0.assign(index=[i[0] for i in result0])\n",
        "  df0 = df0.assign(count0=[i[1] for i in result0])\n",
        "\n",
        "  df1 = pd.DataFrame()\n",
        "  df1 = df1.assign(index=[i[0] for i in result1])\n",
        "  df1 = df1.assign(count1=[i[1] for i in result1])\n",
        "\n",
        "  df2= pd.DataFrame()\n",
        "  df2 = df2.assign(index=[i[0] for i in result2])\n",
        "  df2 = df2.assign(count2=[i[1] for i in result2])\n",
        "\n",
        "  df3 = pd.DataFrame()\n",
        "  df3 = df3.assign(index=[i[0] for i in result3])\n",
        "  df3 = df3.assign(count3=[i[1] for i in result3])\n",
        "\n",
        "  df4 = pd.DataFrame()\n",
        "  df4 = df4.assign(index=[i[0] for i in result4])\n",
        "  df4 = df4.assign(count4=[i[1] for i in result4])\n",
        "\n",
        "  df5 = pd.DataFrame()\n",
        "  df5 = df5.assign(index=[i[0] for i in result5])\n",
        "  df5 = df5.assign(count5=[i[1] for i in result5])\n",
        "\n",
        "  df6 = pd.DataFrame()\n",
        "  df6 = df6.assign(index=[i[0] for i in result6])\n",
        "  df6 = df6.assign(count6=[i[1] for i in result6])\n",
        "\n",
        "  df7= pd.DataFrame()\n",
        "  df7 = df7.assign(index=[i[0] for i in result7])\n",
        "  df7 = df7.assign(count7=[i[1] for i in result7])\n",
        "\n",
        "  df8 = pd.DataFrame()\n",
        "  df8 = df8.assign(index=[i[0] for i in result8])\n",
        "  df8 = df8.assign(count8=[i[1] for i in result8])\n",
        "\n",
        "  df9 = pd.DataFrame()\n",
        "  df9 = df9.assign(index=[i[0] for i in result9])\n",
        "  df9 = df9.assign(count9=[i[1] for i in result9])\n",
        "\n",
        "  df10 = pd.DataFrame()\n",
        "  df10 = df10.assign(index=[i[0] for i in result10])\n",
        "  df10 = df10.assign(count10=[i[1] for i in result10])\n",
        "\n",
        "  df11 = pd.DataFrame()\n",
        "  df11 = df11.assign(index=[i[0] for i in result11])\n",
        "  df11 = df11.assign(count11=[i[1] for i in result11])\n",
        "\n",
        "  df12= pd.DataFrame()\n",
        "  df12 = df12.assign(index=[i[0] for i in result12])\n",
        "  df12 = df12.assign(count12=[i[1] for i in result12])\n",
        "\n",
        "  df13 = pd.DataFrame()\n",
        "  df13 = df13.assign(index=[i[0] for i in result13])\n",
        "  df13 = df13.assign(count13=[i[1] for i in result13])\n",
        "\n",
        "  df14 = pd.DataFrame()\n",
        "  df14 = df14.assign(index=[i[0] for i in result14])\n",
        "  df14 = df14.assign(count14=[i[1] for i in result14])\n",
        "\n",
        "  df15 = pd.DataFrame()\n",
        "  df15 = df15.assign(index=[i[0] for i in result15])\n",
        "  df15 = df15.assign(count15=[i[1] for i in result15])\n",
        "\n",
        "  df0 = pd.merge(df,df0,on='index',how='left')\n",
        "  df1 = pd.merge(df,df1,on='index',how='left')\n",
        "  df2 = pd.merge(df,df2,on='index',how='left')\n",
        "  df3 = pd.merge(df,df3,on='index',how='left')\n",
        "  df4 = pd.merge(df,df4,on='index',how='left')\n",
        "  df5 = pd.merge(df,df5,on='index',how='left')\n",
        "  df6 = pd.merge(df,df6,on='index',how='left')\n",
        "  df7 = pd.merge(df,df7,on='index',how='left')\n",
        "  df8 = pd.merge(df,df8,on='index',how='left')\n",
        "  df9 = pd.merge(df,df9,on='index',how='left')\n",
        "  df10 = pd.merge(df,df10,on='index',how='left')\n",
        "  df11 = pd.merge(df,df11,on='index',how='left')\n",
        "  df12 = pd.merge(df,df12,on='index',how='left')\n",
        "  df13 = pd.merge(df,df13,on='index',how='left')\n",
        "  df14 = pd.merge(df,df14,on='index',how='left')\n",
        "  df15 = pd.merge(df,df15,on='index',how='left')\n",
        "\n",
        "  dfs = [df0, df1, df2, df3, df4, df5, df6,df7,df8,df9,df10,df11,df12,df13,df14,df15]\n",
        "\n",
        "  df_final = reduce(lambda left,right: pd.merge(left,right,on='index'), dfs)\n",
        "\n",
        "  print(df_final.isnull().sum())\n",
        "\n",
        "  df_final.to_csv('fft-i2-test-'+str(j)+'.csv',index=False)\n"
      ],
      "execution_count": 0,
      "outputs": []
    },
    {
      "cell_type": "code",
      "metadata": {
        "id": "p0O1L_-jRqNk",
        "colab_type": "code",
        "colab": {
          "base_uri": "https://localhost:8080/",
          "height": 612
        },
        "outputId": "aae24532-e626-4e60-f0ea-52c04510851b"
      },
      "source": [
        "window(1)"
      ],
      "execution_count": 52,
      "outputs": [
        {
          "output_type": "stream",
          "text": [
            "3279000\n",
            "(0, 20)\n",
            "(0, 20)\n",
            "(0, 20)\n",
            "(0, 20)\n",
            "(0, 20)\n",
            "(0, 20)\n",
            "(0, 20)\n",
            "(0, 20)\n",
            "(0, 20)\n",
            "(0, 20)\n",
            "(0, 20)\n",
            "(0, 20)\n",
            "(0, 20)\n",
            "(0, 20)\n",
            "(0, 20)\n",
            "(0, 20)\n",
            "index         0\n",
            "count0      886\n",
            "count1     1026\n",
            "count2     1300\n",
            "count3     1537\n",
            "count4      775\n",
            "count5     1031\n",
            "count6     1141\n",
            "count7     1132\n",
            "count8      799\n",
            "count9     1071\n",
            "count10    1188\n",
            "count11     864\n",
            "count12     967\n",
            "count13     932\n",
            "count14     967\n",
            "count15     878\n",
            "dtype: int64\n"
          ],
          "name": "stdout"
        }
      ]
    },
    {
      "cell_type": "code",
      "metadata": {
        "id": "7epJH7ONVlOf",
        "colab_type": "code",
        "outputId": "fd5e36dd-201c-4e54-b6fa-61ba1170325e",
        "colab": {
          "base_uri": "https://localhost:8080/",
          "height": 595
        }
      },
      "source": [
        "window(2)"
      ],
      "execution_count": 0,
      "outputs": [
        {
          "output_type": "stream",
          "text": [
            "(0, 20)\n",
            "(0, 20)\n",
            "(0, 20)\n",
            "(0, 20)\n",
            "(0, 20)\n",
            "(0, 20)\n",
            "(0, 20)\n",
            "(0, 20)\n",
            "(0, 20)\n",
            "(0, 20)\n",
            "(0, 20)\n",
            "(0, 20)\n",
            "(0, 20)\n",
            "(0, 20)\n",
            "(0, 20)\n",
            "(0, 20)\n",
            "index         0\n",
            "count0      801\n",
            "count1      949\n",
            "count2     1122\n",
            "count3     1290\n",
            "count4      725\n",
            "count5      829\n",
            "count6      812\n",
            "count7      707\n",
            "count8     1291\n",
            "count9     1212\n",
            "count10    1222\n",
            "count11     887\n",
            "count12    1890\n",
            "count13    1502\n",
            "count14    1264\n",
            "count15    1016\n",
            "dtype: int64\n"
          ],
          "name": "stdout"
        }
      ]
    },
    {
      "cell_type": "code",
      "metadata": {
        "id": "U4u8BA5wRHh-",
        "colab_type": "code",
        "outputId": "d632659c-2da4-4388-8163-c4a6beeeb5a6",
        "colab": {
          "base_uri": "https://localhost:8080/",
          "height": 595
        }
      },
      "source": [
        "window(3)"
      ],
      "execution_count": 0,
      "outputs": [
        {
          "output_type": "stream",
          "text": [
            "(0, 20)\n",
            "(0, 20)\n",
            "(0, 20)\n",
            "(0, 20)\n",
            "(0, 20)\n",
            "(0, 20)\n",
            "(0, 20)\n",
            "(0, 20)\n",
            "(0, 20)\n",
            "(0, 20)\n",
            "(0, 20)\n",
            "(0, 20)\n",
            "(0, 20)\n",
            "(0, 20)\n",
            "(0, 20)\n",
            "(0, 20)\n",
            "index         0\n",
            "count0      867\n",
            "count1     1033\n",
            "count2     1441\n",
            "count3     1823\n",
            "count4      554\n",
            "count5      802\n",
            "count6     1027\n",
            "count7     1204\n",
            "count8      816\n",
            "count9     1139\n",
            "count10    1305\n",
            "count11    1338\n",
            "count12     997\n",
            "count13    1122\n",
            "count14    1311\n",
            "count15    1449\n",
            "dtype: int64\n"
          ],
          "name": "stdout"
        }
      ]
    },
    {
      "cell_type": "code",
      "metadata": {
        "id": "aEy1WvyKRoAa",
        "colab_type": "code",
        "outputId": "89deec52-72e7-4d5b-be18-f3a95cf460ba",
        "colab": {
          "base_uri": "https://localhost:8080/",
          "height": 791
        }
      },
      "source": [
        "window(4)"
      ],
      "execution_count": 0,
      "outputs": [
        {
          "output_type": "stream",
          "text": [
            "3267000.0\n",
            "(0, 20)\n",
            "(0, 20)\n",
            "(0, 20)\n",
            "(0, 20)\n",
            "(0, 20)\n",
            "(0, 20)\n",
            "(0, 20)\n",
            "(0, 20)\n",
            "(0, 20)\n",
            "(0, 20)\n",
            "(0, 20)\n",
            "(0, 20)\n",
            "(0, 20)\n"
          ],
          "name": "stdout"
        },
        {
          "output_type": "stream",
          "text": [
            "/usr/local/lib/python3.6/dist-packages/numpy/lib/function_base.py:393: RuntimeWarning: Mean of empty slice.\n",
            "  avg = a.mean(axis)\n",
            "/usr/local/lib/python3.6/dist-packages/numpy/core/_methods.py:161: RuntimeWarning: invalid value encountered in double_scalars\n",
            "  ret = ret.dtype.type(ret / rcount)\n"
          ],
          "name": "stderr"
        },
        {
          "output_type": "stream",
          "text": [
            "(0, 20)\n"
          ],
          "name": "stdout"
        },
        {
          "output_type": "stream",
          "text": [
            "/usr/local/lib/python3.6/dist-packages/numpy/lib/function_base.py:393: RuntimeWarning: Mean of empty slice.\n",
            "  avg = a.mean(axis)\n",
            "/usr/local/lib/python3.6/dist-packages/numpy/core/_methods.py:161: RuntimeWarning: invalid value encountered in double_scalars\n",
            "  ret = ret.dtype.type(ret / rcount)\n"
          ],
          "name": "stderr"
        },
        {
          "output_type": "stream",
          "text": [
            "(0, 20)\n",
            "(0, 20)\n",
            "index         0\n",
            "count0      884\n",
            "count1     1026\n",
            "count2     1283\n",
            "count3     1528\n",
            "count4      636\n",
            "count5      766\n",
            "count6      818\n",
            "count7      807\n",
            "count8     1346\n",
            "count9     1390\n",
            "count10    1424\n",
            "count11    1427\n",
            "count12    1926\n",
            "count13    1867\n",
            "count14    1804\n",
            "count15    1750\n",
            "dtype: int64\n"
          ],
          "name": "stdout"
        }
      ]
    },
    {
      "cell_type": "code",
      "metadata": {
        "id": "oImyCR7LXx2h",
        "colab_type": "code",
        "outputId": "9dff0349-c155-45dc-b5f1-77f3f3796893",
        "colab": {
          "base_uri": "https://localhost:8080/",
          "height": 647
        }
      },
      "source": [
        "window(5)"
      ],
      "execution_count": 0,
      "outputs": [
        {
          "output_type": "stream",
          "text": [
            "3274000\n",
            "(0, 20)\n",
            "(0, 20)\n",
            "(0, 20)\n",
            "(0, 20)\n",
            "(0, 20)\n",
            "(0, 20)\n",
            "(0, 20)\n",
            "(0, 20)\n",
            "(0, 20)\n",
            "(0, 20)\n",
            "(0, 20)\n",
            "(0, 20)\n",
            "(0, 20)\n",
            "(0, 20)\n",
            "(0, 20)\n",
            "(0, 20)\n",
            "index         0\n",
            "count0      897\n",
            "count1     1035\n",
            "count2     1315\n",
            "count3     1834\n",
            "count4      722\n",
            "count5      859\n",
            "count6      822\n",
            "count7     1212\n",
            "count8      859\n",
            "count9     1133\n",
            "count10    1177\n",
            "count11    1311\n",
            "count12    1081\n",
            "count13    1193\n",
            "count14    1283\n",
            "count15    1418\n",
            "dtype: int64\n"
          ],
          "name": "stdout"
        }
      ]
    },
    {
      "cell_type": "code",
      "metadata": {
        "id": "X15HArdAb87f",
        "colab_type": "code",
        "colab": {
          "base_uri": "https://localhost:8080/",
          "height": 768
        },
        "outputId": "78dcd333-04ed-4a56-eefc-f13d05d9fe96"
      },
      "source": [
        "window(6)"
      ],
      "execution_count": 46,
      "outputs": [
        {
          "output_type": "stream",
          "text": [
            "3267000.0\n",
            "(0, 20)\n",
            "(0, 20)\n",
            "(0, 20)\n",
            "(0, 20)\n",
            "(0, 20)\n",
            "(0, 20)\n",
            "(0, 20)\n",
            "(0, 20)\n",
            "(0, 20)\n",
            "(0, 20)\n",
            "(0, 20)\n",
            "(0, 20)\n",
            "(0, 20)\n"
          ],
          "name": "stdout"
        },
        {
          "output_type": "stream",
          "text": [
            "/usr/local/lib/python3.6/dist-packages/numpy/lib/function_base.py:393: RuntimeWarning: Mean of empty slice.\n",
            "  avg = a.mean(axis)\n",
            "/usr/local/lib/python3.6/dist-packages/numpy/core/_methods.py:161: RuntimeWarning: invalid value encountered in double_scalars\n",
            "  ret = ret.dtype.type(ret / rcount)\n"
          ],
          "name": "stderr"
        },
        {
          "output_type": "stream",
          "text": [
            "(0, 20)\n"
          ],
          "name": "stdout"
        },
        {
          "output_type": "stream",
          "text": [
            "/usr/local/lib/python3.6/dist-packages/numpy/lib/function_base.py:393: RuntimeWarning: Mean of empty slice.\n",
            "  avg = a.mean(axis)\n",
            "/usr/local/lib/python3.6/dist-packages/numpy/core/_methods.py:161: RuntimeWarning: invalid value encountered in double_scalars\n",
            "  ret = ret.dtype.type(ret / rcount)\n"
          ],
          "name": "stderr"
        },
        {
          "output_type": "stream",
          "text": [
            "(0, 20)\n",
            "(0, 20)\n",
            "index         0\n",
            "count0      920\n",
            "count1     1032\n",
            "count2     1202\n",
            "count3     1561\n",
            "count4      748\n",
            "count5      773\n",
            "count6      640\n",
            "count7      786\n",
            "count8     1417\n",
            "count9     1414\n",
            "count10    1328\n",
            "count11    1426\n",
            "count12    2169\n",
            "count13    2010\n",
            "count14    1816\n",
            "count15    1764\n",
            "dtype: int64\n"
          ],
          "name": "stdout"
        }
      ]
    },
    {
      "cell_type": "code",
      "metadata": {
        "id": "KLz0Mstwe8iF",
        "colab_type": "code",
        "colab": {
          "base_uri": "https://localhost:8080/",
          "height": 612
        },
        "outputId": "711e7a4a-6b96-4ea5-8f88-901ed282d7f5"
      },
      "source": [
        "window(7)"
      ],
      "execution_count": 48,
      "outputs": [
        {
          "output_type": "stream",
          "text": [
            "3273000\n",
            "(0, 20)\n",
            "(0, 20)\n",
            "(0, 20)\n",
            "(0, 20)\n",
            "(0, 20)\n",
            "(0, 20)\n",
            "(0, 20)\n",
            "(0, 20)\n",
            "(0, 20)\n",
            "(0, 20)\n",
            "(0, 20)\n",
            "(0, 20)\n",
            "(0, 20)\n",
            "(0, 20)\n",
            "(0, 20)\n",
            "(0, 20)\n",
            "index         0\n",
            "count0      865\n",
            "count1     1008\n",
            "count2     1438\n",
            "count3     1844\n",
            "count4      739\n",
            "count5      903\n",
            "count6     1160\n",
            "count7     1316\n",
            "count8      798\n",
            "count9      746\n",
            "count10    1043\n",
            "count11    1157\n",
            "count12    1080\n",
            "count13    1089\n",
            "count14    1272\n",
            "count15    1418\n",
            "dtype: int64\n"
          ],
          "name": "stdout"
        }
      ]
    },
    {
      "cell_type": "code",
      "metadata": {
        "id": "WaFJrvw3e9eq",
        "colab_type": "code",
        "colab": {
          "base_uri": "https://localhost:8080/",
          "height": 748
        },
        "outputId": "0a9b24a7-a553-4f44-df31-8436c01d8695"
      },
      "source": [
        "window(8)"
      ],
      "execution_count": 50,
      "outputs": [
        {
          "output_type": "stream",
          "text": [
            "3267000\n",
            "(0, 20)\n",
            "(0, 20)\n",
            "(0, 20)\n",
            "(0, 20)\n",
            "(0, 20)\n",
            "(0, 20)\n",
            "(0, 20)\n",
            "(0, 20)\n",
            "(0, 20)\n",
            "(0, 20)\n",
            "(0, 20)\n",
            "(0, 20)\n",
            "(0, 20)\n"
          ],
          "name": "stdout"
        },
        {
          "output_type": "stream",
          "text": [
            "/usr/local/lib/python3.6/dist-packages/numpy/lib/function_base.py:393: RuntimeWarning: Mean of empty slice.\n",
            "  avg = a.mean(axis)\n",
            "/usr/local/lib/python3.6/dist-packages/numpy/core/_methods.py:161: RuntimeWarning: invalid value encountered in double_scalars\n",
            "  ret = ret.dtype.type(ret / rcount)\n"
          ],
          "name": "stderr"
        },
        {
          "output_type": "stream",
          "text": [
            "(0, 20)\n"
          ],
          "name": "stdout"
        },
        {
          "output_type": "stream",
          "text": [
            "/usr/local/lib/python3.6/dist-packages/numpy/lib/function_base.py:393: RuntimeWarning: Mean of empty slice.\n",
            "  avg = a.mean(axis)\n",
            "/usr/local/lib/python3.6/dist-packages/numpy/core/_methods.py:161: RuntimeWarning: invalid value encountered in double_scalars\n",
            "  ret = ret.dtype.type(ret / rcount)\n"
          ],
          "name": "stderr"
        },
        {
          "output_type": "stream",
          "text": [
            "(0, 20)\n",
            "(0, 20)\n",
            "index         0\n",
            "count0      859\n",
            "count1     1009\n",
            "count2     1286\n",
            "count3     1515\n",
            "count4      793\n",
            "count5      855\n",
            "count6      913\n",
            "count7      848\n",
            "count8     1332\n",
            "count9      885\n",
            "count10    1168\n",
            "count11    1265\n",
            "count12    2162\n",
            "count13    1881\n",
            "count14    1820\n",
            "count15    1761\n",
            "dtype: int64\n"
          ],
          "name": "stdout"
        }
      ]
    }
  ]
}