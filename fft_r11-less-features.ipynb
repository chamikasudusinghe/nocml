{
  "nbformat": 4,
  "nbformat_minor": 0,
  "metadata": {
    "accelerator": "TPU",
    "colab": {
      "name": "fft-r11.ipynb",
      "provenance": [],
      "collapsed_sections": [],
      "toc_visible": true,
      "include_colab_link": true
    },
    "kernelspec": {
      "display_name": "Python 3",
      "language": "python",
      "name": "python3"
    },
    "language_info": {
      "codemirror_mode": {
        "name": "ipython",
        "version": 3
      },
      "file_extension": ".py",
      "mimetype": "text/x-python",
      "name": "python",
      "nbconvert_exporter": "python",
      "pygments_lexer": "ipython3",
      "version": "3.7.4"
    }
  },
  "cells": [
    {
      "cell_type": "markdown",
      "metadata": {
        "id": "view-in-github",
        "colab_type": "text"
      },
      "source": [
        "<a href=\"https://colab.research.google.com/github/chamikasudusinghe/nocml/blob/master/fft_r11-less-features.ipynb\" target=\"_parent\"><img src=\"https://colab.research.google.com/assets/colab-badge.svg\" alt=\"Open In Colab\"/></a>"
      ]
    },
    {
      "cell_type": "markdown",
      "metadata": {
        "colab_type": "text",
        "id": "sFmit6AlgLJZ"
      },
      "source": [
        "Module Imports for Data Fetiching and Visualization\n",
        "\n"
      ]
    },
    {
      "cell_type": "code",
      "metadata": {
        "colab_type": "code",
        "id": "k-c4z9vpHg1z",
        "colab": {
          "base_uri": "https://localhost:8080/",
          "height": 71
        },
        "outputId": "8bd00059-2408-4c6a-dc19-a3e3db63ebab"
      },
      "source": [
        "import time\n",
        "import pandas as pd\n",
        "import numpy as np\n",
        "%matplotlib inline\n",
        "import matplotlib.pyplot as plt\n",
        "import seaborn as sns"
      ],
      "execution_count": 1,
      "outputs": [
        {
          "output_type": "stream",
          "text": [
            "/usr/local/lib/python3.6/dist-packages/statsmodels/tools/_testing.py:19: FutureWarning: pandas.util.testing is deprecated. Use the functions in the public API at pandas.testing instead.\n",
            "  import pandas.util.testing as tm\n"
          ],
          "name": "stderr"
        }
      ]
    },
    {
      "cell_type": "markdown",
      "metadata": {
        "colab_type": "text",
        "id": "wY7RDDLBgdMs"
      },
      "source": [
        "Module Imports for Data Processing"
      ]
    },
    {
      "cell_type": "code",
      "metadata": {
        "colab_type": "code",
        "id": "zhZHRUXxHg13",
        "colab": {}
      },
      "source": [
        "from sklearn import preprocessing\n",
        "from sklearn.feature_selection import SelectKBest\n",
        "from sklearn.feature_selection import chi2\n",
        "import pickle"
      ],
      "execution_count": 0,
      "outputs": []
    },
    {
      "cell_type": "markdown",
      "metadata": {
        "colab_type": "text",
        "id": "GEH4mU3Tghd8"
      },
      "source": [
        "Importing Dataset from GitHub"
      ]
    },
    {
      "cell_type": "markdown",
      "metadata": {
        "id": "q9-4lGZ6NMSt",
        "colab_type": "text"
      },
      "source": [
        "Train Data"
      ]
    },
    {
      "cell_type": "code",
      "metadata": {
        "id": "NblOX7-5PrjB",
        "colab_type": "code",
        "colab": {}
      },
      "source": [
        "df1 = pd.read_csv('https://raw.githubusercontent.com/chamikasudusinghe/nocml/master/dos%20results%20ver%204/router-dataset/r11/2-fft-malicious-n-0-15-m-1-r11.csv?token=AKVFSOH4TC4IY3N4CSRVFYK63JDDO')\n",
        "df2 = pd.read_csv('https://raw.githubusercontent.com/chamikasudusinghe/nocml/master/dos%20results%20ver%204/router-dataset/r11/2-fft-malicious-n-0-15-m-11-r11.csv?token=AKVFSOBY5KWVYP7MVPVLSKS63JDDQ')\n",
        "\n",
        "df3 = pd.read_csv('https://raw.githubusercontent.com/chamikasudusinghe/nocml/master/dos%20results%20ver%204/router-dataset/r11/2-fft-malicious-n-0-4-m-1-r11.csv?token=AKVFSOBOPZXRIHTY75257K263JDDW')\n",
        "df4 = pd.read_csv('https://raw.githubusercontent.com/chamikasudusinghe/nocml/master/dos%20results%20ver%204/router-dataset/r11/2-fft-malicious-n-0-4-m-11-r11.csv?token=AKVFSOBNHAMMTIEDLLG2S3263JDD4')\n",
        "\n",
        "df5 = pd.read_csv('https://raw.githubusercontent.com/chamikasudusinghe/nocml/master/dos%20results%20ver%204/router-dataset/r11/2-fft-malicious-n-0-6-m-1-r11.csv?token=AKVFSOGJEWMJIC34XUWDJNC63JDD6')\n",
        "df6 = pd.read_csv('https://raw.githubusercontent.com/chamikasudusinghe/nocml/master/dos%20results%20ver%204/router-dataset/r11/2-fft-malicious-n-0-6-m-11-r11.csv?token=AKVFSOGFKJBHUH2ZJR6X7T263JDEG')\n",
        "\n",
        "df7 = pd.read_csv('https://raw.githubusercontent.com/chamikasudusinghe/nocml/master/dos%20results%20ver%204/router-dataset/r11/2-fft-malicious-n-0-9-m-1-r11.csv?token=AKVFSOB3MTPMSXHBLAMI76S63JDEI')\n",
        "df8 = pd.read_csv('https://raw.githubusercontent.com/chamikasudusinghe/nocml/master/dos%20results%20ver%204/router-dataset/r11/2-fft-malicious-n-0-9-m-11-r11.csv?token=AKVFSOCLQ3I32KFGCMKCY5K63JDEO')\n",
        "\n",
        "df9 = pd.read_csv('https://raw.githubusercontent.com/chamikasudusinghe/nocml/master/dos%20results%20ver%204/router-dataset/r11/2-fft-normal-n-0-15-r11.csv?token=AKVFSOCYILXP5XA4GGQEKYC63JDES')\n",
        "df10 = pd.read_csv('https://raw.githubusercontent.com/chamikasudusinghe/nocml/master/dos%20results%20ver%204/router-dataset/r11/2-fft-normal-n-0-4-r11.csv?token=AKVFSOE54EDO56EYFZTHU5K63JDEY')\n",
        "df11 = pd.read_csv('https://raw.githubusercontent.com/chamikasudusinghe/nocml/master/dos%20results%20ver%204/router-dataset/r11/2-fft-normal-n-0-6-r11.csv?token=AKVFSOFOZ3U36V47XBCSAQ263JDE4')\n",
        "df12 = pd.read_csv('https://raw.githubusercontent.com/chamikasudusinghe/nocml/master/dos%20results%20ver%204/router-dataset/r11/2-fft-normal-n-0-9-r11.csv?token=AKVFSOBWYIQ5T5PELBMMN7S63JDFA')"
      ],
      "execution_count": 0,
      "outputs": []
    },
    {
      "cell_type": "code",
      "metadata": {
        "id": "YtODRV2NPem1",
        "colab_type": "code",
        "outputId": "42221342-41d7-43be-f1df-dea64b4f386b",
        "colab": {
          "base_uri": "https://localhost:8080/",
          "height": 221
        }
      },
      "source": [
        "print(df1.shape)\n",
        "print(df2.shape)\n",
        "print(df3.shape)\n",
        "print(df4.shape)\n",
        "print(df5.shape)\n",
        "print(df6.shape)\n",
        "print(df7.shape)\n",
        "print(df8.shape)\n",
        "print(df9.shape)\n",
        "print(df10.shape)\n",
        "print(df11.shape)\n",
        "print(df12.shape)"
      ],
      "execution_count": 4,
      "outputs": [
        {
          "output_type": "stream",
          "text": [
            "(88528, 26)\n",
            "(140275, 26)\n",
            "(61733, 26)\n",
            "(113728, 26)\n",
            "(61720, 26)\n",
            "(113852, 26)\n",
            "(66468, 26)\n",
            "(118665, 26)\n",
            "(67772, 26)\n",
            "(40960, 26)\n",
            "(40960, 26)\n",
            "(45712, 26)\n"
          ],
          "name": "stdout"
        }
      ]
    },
    {
      "cell_type": "code",
      "metadata": {
        "id": "9L0CwK80NgDG",
        "colab_type": "code",
        "colab": {}
      },
      "source": [
        "df = df1.append(df2, ignore_index=True,sort=False)\n",
        "df = df.append(df3, ignore_index=True,sort=False)\n",
        "df = df.append(df4, ignore_index=True,sort=False)\n",
        "df = df.append(df5, ignore_index=True,sort=False)\n",
        "df = df.append(df6, ignore_index=True,sort=False)\n",
        "df = df.append(df7, ignore_index=True,sort=False)\n",
        "df = df.append(df8, ignore_index=True,sort=False)\n",
        "df = df.append(df9, ignore_index=True,sort=False)\n",
        "df = df.append(df10, ignore_index=True,sort=False)\n",
        "df = df.append(df11, ignore_index=True,sort=False)\n",
        "df = df.append(df12, ignore_index=True,sort=False)\n",
        "\n",
        "df = df.sort_values('timestamp')\n",
        "df.to_csv('fft-r11-train.csv',index=False)"
      ],
      "execution_count": 0,
      "outputs": []
    },
    {
      "cell_type": "code",
      "metadata": {
        "id": "tovtj_19OeCa",
        "colab_type": "code",
        "outputId": "6ee8cd26-14ac-4aa2-c603-0eced57b835a",
        "colab": {
          "base_uri": "https://localhost:8080/",
          "height": 439
        }
      },
      "source": [
        "df = pd.read_csv('fft-r11-train.csv')\n",
        "df"
      ],
      "execution_count": 6,
      "outputs": [
        {
          "output_type": "execute_result",
          "data": {
            "text/html": [
              "<div>\n",
              "<style scoped>\n",
              "    .dataframe tbody tr th:only-of-type {\n",
              "        vertical-align: middle;\n",
              "    }\n",
              "\n",
              "    .dataframe tbody tr th {\n",
              "        vertical-align: top;\n",
              "    }\n",
              "\n",
              "    .dataframe thead th {\n",
              "        text-align: right;\n",
              "    }\n",
              "</style>\n",
              "<table border=\"1\" class=\"dataframe\">\n",
              "  <thead>\n",
              "    <tr style=\"text-align: right;\">\n",
              "      <th></th>\n",
              "      <th>timestamp</th>\n",
              "      <th>outport</th>\n",
              "      <th>inport</th>\n",
              "      <th>cache_coherence_type</th>\n",
              "      <th>flit_id</th>\n",
              "      <th>flit_type</th>\n",
              "      <th>vnet</th>\n",
              "      <th>vc</th>\n",
              "      <th>src_ni</th>\n",
              "      <th>src_router</th>\n",
              "      <th>dst_ni</th>\n",
              "      <th>dst_router</th>\n",
              "      <th>traversal_id</th>\n",
              "      <th>hop_count</th>\n",
              "      <th>current_hop</th>\n",
              "      <th>hop_percentage</th>\n",
              "      <th>enqueue_time</th>\n",
              "      <th>packet_count_decr</th>\n",
              "      <th>packet_count_incr</th>\n",
              "      <th>max_packet_count</th>\n",
              "      <th>packet_count_index</th>\n",
              "      <th>port_index</th>\n",
              "      <th>traversal_index</th>\n",
              "      <th>cache_coherence_vnet_index</th>\n",
              "      <th>vnet_vc_cc_index</th>\n",
              "      <th>target</th>\n",
              "    </tr>\n",
              "  </thead>\n",
              "  <tbody>\n",
              "    <tr>\n",
              "      <th>0</th>\n",
              "      <td>7</td>\n",
              "      <td>3</td>\n",
              "      <td>0</td>\n",
              "      <td>1</td>\n",
              "      <td>1</td>\n",
              "      <td>4</td>\n",
              "      <td>3</td>\n",
              "      <td>9</td>\n",
              "      <td>11</td>\n",
              "      <td>11</td>\n",
              "      <td>23</td>\n",
              "      <td>7</td>\n",
              "      <td>3</td>\n",
              "      <td>1</td>\n",
              "      <td>0</td>\n",
              "      <td>0.0</td>\n",
              "      <td>4</td>\n",
              "      <td>84</td>\n",
              "      <td>1</td>\n",
              "      <td>84</td>\n",
              "      <td>84</td>\n",
              "      <td>0</td>\n",
              "      <td>12</td>\n",
              "      <td>3</td>\n",
              "      <td>27</td>\n",
              "      <td>0</td>\n",
              "    </tr>\n",
              "    <tr>\n",
              "      <th>1</th>\n",
              "      <td>7</td>\n",
              "      <td>3</td>\n",
              "      <td>0</td>\n",
              "      <td>1</td>\n",
              "      <td>1</td>\n",
              "      <td>4</td>\n",
              "      <td>3</td>\n",
              "      <td>9</td>\n",
              "      <td>11</td>\n",
              "      <td>11</td>\n",
              "      <td>23</td>\n",
              "      <td>7</td>\n",
              "      <td>2</td>\n",
              "      <td>1</td>\n",
              "      <td>0</td>\n",
              "      <td>0.0</td>\n",
              "      <td>4</td>\n",
              "      <td>131</td>\n",
              "      <td>1</td>\n",
              "      <td>131</td>\n",
              "      <td>131</td>\n",
              "      <td>0</td>\n",
              "      <td>8</td>\n",
              "      <td>3</td>\n",
              "      <td>27</td>\n",
              "      <td>0</td>\n",
              "    </tr>\n",
              "    <tr>\n",
              "      <th>2</th>\n",
              "      <td>7</td>\n",
              "      <td>3</td>\n",
              "      <td>0</td>\n",
              "      <td>1</td>\n",
              "      <td>1</td>\n",
              "      <td>4</td>\n",
              "      <td>3</td>\n",
              "      <td>9</td>\n",
              "      <td>11</td>\n",
              "      <td>11</td>\n",
              "      <td>23</td>\n",
              "      <td>7</td>\n",
              "      <td>3</td>\n",
              "      <td>1</td>\n",
              "      <td>0</td>\n",
              "      <td>0.0</td>\n",
              "      <td>4</td>\n",
              "      <td>84</td>\n",
              "      <td>1</td>\n",
              "      <td>84</td>\n",
              "      <td>84</td>\n",
              "      <td>0</td>\n",
              "      <td>12</td>\n",
              "      <td>3</td>\n",
              "      <td>27</td>\n",
              "      <td>0</td>\n",
              "    </tr>\n",
              "    <tr>\n",
              "      <th>3</th>\n",
              "      <td>7</td>\n",
              "      <td>3</td>\n",
              "      <td>0</td>\n",
              "      <td>1</td>\n",
              "      <td>1</td>\n",
              "      <td>4</td>\n",
              "      <td>3</td>\n",
              "      <td>9</td>\n",
              "      <td>11</td>\n",
              "      <td>11</td>\n",
              "      <td>23</td>\n",
              "      <td>7</td>\n",
              "      <td>3</td>\n",
              "      <td>1</td>\n",
              "      <td>0</td>\n",
              "      <td>0.0</td>\n",
              "      <td>4</td>\n",
              "      <td>87</td>\n",
              "      <td>1</td>\n",
              "      <td>87</td>\n",
              "      <td>87</td>\n",
              "      <td>0</td>\n",
              "      <td>12</td>\n",
              "      <td>3</td>\n",
              "      <td>27</td>\n",
              "      <td>0</td>\n",
              "    </tr>\n",
              "    <tr>\n",
              "      <th>4</th>\n",
              "      <td>11</td>\n",
              "      <td>3</td>\n",
              "      <td>1</td>\n",
              "      <td>1</td>\n",
              "      <td>1</td>\n",
              "      <td>4</td>\n",
              "      <td>3</td>\n",
              "      <td>9</td>\n",
              "      <td>15</td>\n",
              "      <td>15</td>\n",
              "      <td>23</td>\n",
              "      <td>7</td>\n",
              "      <td>3</td>\n",
              "      <td>2</td>\n",
              "      <td>1</td>\n",
              "      <td>0.5</td>\n",
              "      <td>8</td>\n",
              "      <td>130</td>\n",
              "      <td>2</td>\n",
              "      <td>131</td>\n",
              "      <td>260</td>\n",
              "      <td>3</td>\n",
              "      <td>12</td>\n",
              "      <td>3</td>\n",
              "      <td>27</td>\n",
              "      <td>0</td>\n",
              "    </tr>\n",
              "    <tr>\n",
              "      <th>...</th>\n",
              "      <td>...</td>\n",
              "      <td>...</td>\n",
              "      <td>...</td>\n",
              "      <td>...</td>\n",
              "      <td>...</td>\n",
              "      <td>...</td>\n",
              "      <td>...</td>\n",
              "      <td>...</td>\n",
              "      <td>...</td>\n",
              "      <td>...</td>\n",
              "      <td>...</td>\n",
              "      <td>...</td>\n",
              "      <td>...</td>\n",
              "      <td>...</td>\n",
              "      <td>...</td>\n",
              "      <td>...</td>\n",
              "      <td>...</td>\n",
              "      <td>...</td>\n",
              "      <td>...</td>\n",
              "      <td>...</td>\n",
              "      <td>...</td>\n",
              "      <td>...</td>\n",
              "      <td>...</td>\n",
              "      <td>...</td>\n",
              "      <td>...</td>\n",
              "      <td>...</td>\n",
              "    </tr>\n",
              "    <tr>\n",
              "      <th>960368</th>\n",
              "      <td>3276921</td>\n",
              "      <td>4</td>\n",
              "      <td>0</td>\n",
              "      <td>6</td>\n",
              "      <td>3</td>\n",
              "      <td>2</td>\n",
              "      <td>3</td>\n",
              "      <td>11</td>\n",
              "      <td>27</td>\n",
              "      <td>11</td>\n",
              "      <td>24</td>\n",
              "      <td>8</td>\n",
              "      <td>30095</td>\n",
              "      <td>3</td>\n",
              "      <td>0</td>\n",
              "      <td>0.0</td>\n",
              "      <td>18</td>\n",
              "      <td>5</td>\n",
              "      <td>45</td>\n",
              "      <td>49</td>\n",
              "      <td>225</td>\n",
              "      <td>0</td>\n",
              "      <td>1083420</td>\n",
              "      <td>18</td>\n",
              "      <td>198</td>\n",
              "      <td>0</td>\n",
              "    </tr>\n",
              "    <tr>\n",
              "      <th>960369</th>\n",
              "      <td>3276928</td>\n",
              "      <td>4</td>\n",
              "      <td>0</td>\n",
              "      <td>6</td>\n",
              "      <td>4</td>\n",
              "      <td>2</td>\n",
              "      <td>3</td>\n",
              "      <td>11</td>\n",
              "      <td>27</td>\n",
              "      <td>11</td>\n",
              "      <td>24</td>\n",
              "      <td>8</td>\n",
              "      <td>30095</td>\n",
              "      <td>3</td>\n",
              "      <td>0</td>\n",
              "      <td>0.0</td>\n",
              "      <td>25</td>\n",
              "      <td>4</td>\n",
              "      <td>46</td>\n",
              "      <td>49</td>\n",
              "      <td>184</td>\n",
              "      <td>0</td>\n",
              "      <td>1444560</td>\n",
              "      <td>18</td>\n",
              "      <td>198</td>\n",
              "      <td>0</td>\n",
              "    </tr>\n",
              "    <tr>\n",
              "      <th>960370</th>\n",
              "      <td>3276935</td>\n",
              "      <td>4</td>\n",
              "      <td>0</td>\n",
              "      <td>6</td>\n",
              "      <td>5</td>\n",
              "      <td>3</td>\n",
              "      <td>3</td>\n",
              "      <td>11</td>\n",
              "      <td>27</td>\n",
              "      <td>11</td>\n",
              "      <td>24</td>\n",
              "      <td>8</td>\n",
              "      <td>30095</td>\n",
              "      <td>3</td>\n",
              "      <td>0</td>\n",
              "      <td>0.0</td>\n",
              "      <td>32</td>\n",
              "      <td>3</td>\n",
              "      <td>47</td>\n",
              "      <td>49</td>\n",
              "      <td>141</td>\n",
              "      <td>0</td>\n",
              "      <td>2708550</td>\n",
              "      <td>18</td>\n",
              "      <td>198</td>\n",
              "      <td>0</td>\n",
              "    </tr>\n",
              "    <tr>\n",
              "      <th>960371</th>\n",
              "      <td>3276936</td>\n",
              "      <td>4</td>\n",
              "      <td>0</td>\n",
              "      <td>2</td>\n",
              "      <td>1</td>\n",
              "      <td>4</td>\n",
              "      <td>3</td>\n",
              "      <td>12</td>\n",
              "      <td>27</td>\n",
              "      <td>11</td>\n",
              "      <td>24</td>\n",
              "      <td>8</td>\n",
              "      <td>30096</td>\n",
              "      <td>3</td>\n",
              "      <td>0</td>\n",
              "      <td>0.0</td>\n",
              "      <td>32</td>\n",
              "      <td>2</td>\n",
              "      <td>48</td>\n",
              "      <td>49</td>\n",
              "      <td>96</td>\n",
              "      <td>0</td>\n",
              "      <td>240768</td>\n",
              "      <td>6</td>\n",
              "      <td>72</td>\n",
              "      <td>0</td>\n",
              "    </tr>\n",
              "    <tr>\n",
              "      <th>960372</th>\n",
              "      <td>3276938</td>\n",
              "      <td>1</td>\n",
              "      <td>0</td>\n",
              "      <td>7</td>\n",
              "      <td>1</td>\n",
              "      <td>4</td>\n",
              "      <td>3</td>\n",
              "      <td>9</td>\n",
              "      <td>27</td>\n",
              "      <td>11</td>\n",
              "      <td>15</td>\n",
              "      <td>15</td>\n",
              "      <td>30095</td>\n",
              "      <td>1</td>\n",
              "      <td>0</td>\n",
              "      <td>0.0</td>\n",
              "      <td>4</td>\n",
              "      <td>1</td>\n",
              "      <td>49</td>\n",
              "      <td>49</td>\n",
              "      <td>49</td>\n",
              "      <td>0</td>\n",
              "      <td>842660</td>\n",
              "      <td>21</td>\n",
              "      <td>189</td>\n",
              "      <td>0</td>\n",
              "    </tr>\n",
              "  </tbody>\n",
              "</table>\n",
              "<p>960373 rows × 26 columns</p>\n",
              "</div>"
            ],
            "text/plain": [
              "        timestamp  outport  ...  vnet_vc_cc_index  target\n",
              "0               7        3  ...                27       0\n",
              "1               7        3  ...                27       0\n",
              "2               7        3  ...                27       0\n",
              "3               7        3  ...                27       0\n",
              "4              11        3  ...                27       0\n",
              "...           ...      ...  ...               ...     ...\n",
              "960368    3276921        4  ...               198       0\n",
              "960369    3276928        4  ...               198       0\n",
              "960370    3276935        4  ...               198       0\n",
              "960371    3276936        4  ...                72       0\n",
              "960372    3276938        1  ...               189       0\n",
              "\n",
              "[960373 rows x 26 columns]"
            ]
          },
          "metadata": {
            "tags": []
          },
          "execution_count": 6
        }
      ]
    },
    {
      "cell_type": "code",
      "metadata": {
        "id": "DEIwin3VOmdC",
        "colab_type": "code",
        "outputId": "d4a34b00-f6e5-4696-ea3f-8feddc41dcc5",
        "colab": {
          "base_uri": "https://localhost:8080/",
          "height": 34
        }
      },
      "source": [
        "df.shape"
      ],
      "execution_count": 7,
      "outputs": [
        {
          "output_type": "execute_result",
          "data": {
            "text/plain": [
              "(960373, 26)"
            ]
          },
          "metadata": {
            "tags": []
          },
          "execution_count": 7
        }
      ]
    },
    {
      "cell_type": "markdown",
      "metadata": {
        "id": "kB28tdcoNPvn",
        "colab_type": "text"
      },
      "source": [
        "Test Data"
      ]
    },
    {
      "cell_type": "code",
      "metadata": {
        "id": "2NNmwmZGNLly",
        "colab_type": "code",
        "colab": {}
      },
      "source": [
        "df13 = pd.read_csv('https://raw.githubusercontent.com/chamikasudusinghe/nocml/master/dos%20results%20ver%204/router-dataset/r11/2-fft-malicious-n-0-15-m-12-r11.csv?token=AKVFSODFX632MJC3CW5FU7S63JEEK')\n",
        "df14 = pd.read_csv('https://raw.githubusercontent.com/chamikasudusinghe/nocml/master/dos%20results%20ver%204/router-dataset/r11/2-fft-malicious-n-0-15-m-7-r11.csv?token=AKVFSOGYGNPHWB42VH7Q2GK63JEEQ')\n",
        "df15 = pd.read_csv('https://raw.githubusercontent.com/chamikasudusinghe/nocml/master/dos%20results%20ver%204/router-dataset/r11/2-fft-malicious-n-0-4-m-12-r11.csv?token=AKVFSOFZ6KJEJ26DEU6UFHS63JEES')\n",
        "df16 = pd.read_csv('https://raw.githubusercontent.com/chamikasudusinghe/nocml/master/dos%20results%20ver%204/router-dataset/r11/2-fft-malicious-n-0-4-m-7-r11.csv?token=AKVFSOER2UFUJ5R5M2LN2B263JEEW')\n",
        "df17 = pd.read_csv('https://raw.githubusercontent.com/chamikasudusinghe/nocml/master/dos%20results%20ver%204/router-dataset/r11/2-fft-malicious-n-0-6-m-12-r11.csv?token=AKVFSOB57H6WKTXOY4DPBX263JEE2')\n",
        "df18 = pd.read_csv('https://raw.githubusercontent.com/chamikasudusinghe/nocml/master/dos%20results%20ver%204/router-dataset/r11/2-fft-malicious-n-0-6-m-7-r11.csv?token=AKVFSOCLQ35HXGV32FCHFJ263JEE6')\n",
        "df19 = pd.read_csv('https://raw.githubusercontent.com/chamikasudusinghe/nocml/master/dos%20results%20ver%204/router-dataset/r11/2-fft-malicious-n-0-9-m-12-r11.csv?token=AKVFSOCTWJFN5PAITIQQD7S63JEFE')\n",
        "df20 = pd.read_csv('https://raw.githubusercontent.com/chamikasudusinghe/nocml/master/dos%20results%20ver%204/router-dataset/r11/2-fft-malicious-n-0-9-m-7-r11.csv?token=AKVFSOHI6JNCK4OP4LHGZOS63JEFI')"
      ],
      "execution_count": 0,
      "outputs": []
    },
    {
      "cell_type": "code",
      "metadata": {
        "id": "vI7r69cXm0wU",
        "colab_type": "code",
        "outputId": "05887212-1ca0-4dac-a676-3a46cd4e5c6e",
        "colab": {
          "base_uri": "https://localhost:8080/",
          "height": 153
        }
      },
      "source": [
        "print(df13.shape)\n",
        "print(df14.shape)\n",
        "print(df15.shape)\n",
        "print(df16.shape)\n",
        "print(df17.shape)\n",
        "print(df18.shape)\n",
        "print(df19.shape)\n",
        "print(df20.shape)"
      ],
      "execution_count": 9,
      "outputs": [
        {
          "output_type": "stream",
          "text": [
            "(91737, 26)\n",
            "(96751, 26)\n",
            "(64634, 26)\n",
            "(70016, 26)\n",
            "(64642, 26)\n",
            "(69959, 26)\n",
            "(69491, 26)\n",
            "(74860, 26)\n"
          ],
          "name": "stdout"
        }
      ]
    },
    {
      "cell_type": "code",
      "metadata": {
        "id": "lyFCjch-Qr7R",
        "colab_type": "code",
        "outputId": "9e63f938-d9d9-4b0d-d61b-a297188b466f",
        "colab": {
          "base_uri": "https://localhost:8080/",
          "height": 439
        }
      },
      "source": [
        "df5"
      ],
      "execution_count": 10,
      "outputs": [
        {
          "output_type": "execute_result",
          "data": {
            "text/html": [
              "<div>\n",
              "<style scoped>\n",
              "    .dataframe tbody tr th:only-of-type {\n",
              "        vertical-align: middle;\n",
              "    }\n",
              "\n",
              "    .dataframe tbody tr th {\n",
              "        vertical-align: top;\n",
              "    }\n",
              "\n",
              "    .dataframe thead th {\n",
              "        text-align: right;\n",
              "    }\n",
              "</style>\n",
              "<table border=\"1\" class=\"dataframe\">\n",
              "  <thead>\n",
              "    <tr style=\"text-align: right;\">\n",
              "      <th></th>\n",
              "      <th>timestamp</th>\n",
              "      <th>outport</th>\n",
              "      <th>inport</th>\n",
              "      <th>cache_coherence_type</th>\n",
              "      <th>flit_id</th>\n",
              "      <th>flit_type</th>\n",
              "      <th>vnet</th>\n",
              "      <th>vc</th>\n",
              "      <th>src_ni</th>\n",
              "      <th>src_router</th>\n",
              "      <th>dst_ni</th>\n",
              "      <th>dst_router</th>\n",
              "      <th>traversal_id</th>\n",
              "      <th>hop_count</th>\n",
              "      <th>current_hop</th>\n",
              "      <th>hop_percentage</th>\n",
              "      <th>enqueue_time</th>\n",
              "      <th>packet_count_decr</th>\n",
              "      <th>packet_count_incr</th>\n",
              "      <th>max_packet_count</th>\n",
              "      <th>packet_count_index</th>\n",
              "      <th>port_index</th>\n",
              "      <th>traversal_index</th>\n",
              "      <th>cache_coherence_vnet_index</th>\n",
              "      <th>vnet_vc_cc_index</th>\n",
              "      <th>target</th>\n",
              "    </tr>\n",
              "  </thead>\n",
              "  <tbody>\n",
              "    <tr>\n",
              "      <th>0</th>\n",
              "      <td>753</td>\n",
              "      <td>0</td>\n",
              "      <td>1</td>\n",
              "      <td>2</td>\n",
              "      <td>1</td>\n",
              "      <td>4</td>\n",
              "      <td>3</td>\n",
              "      <td>9</td>\n",
              "      <td>30</td>\n",
              "      <td>14</td>\n",
              "      <td>27</td>\n",
              "      <td>11</td>\n",
              "      <td>25</td>\n",
              "      <td>2</td>\n",
              "      <td>2</td>\n",
              "      <td>1.0</td>\n",
              "      <td>12</td>\n",
              "      <td>29</td>\n",
              "      <td>1</td>\n",
              "      <td>29</td>\n",
              "      <td>29</td>\n",
              "      <td>0</td>\n",
              "      <td>200</td>\n",
              "      <td>6</td>\n",
              "      <td>54</td>\n",
              "      <td>0</td>\n",
              "    </tr>\n",
              "    <tr>\n",
              "      <th>1</th>\n",
              "      <td>792</td>\n",
              "      <td>4</td>\n",
              "      <td>0</td>\n",
              "      <td>3</td>\n",
              "      <td>1</td>\n",
              "      <td>4</td>\n",
              "      <td>3</td>\n",
              "      <td>9</td>\n",
              "      <td>27</td>\n",
              "      <td>11</td>\n",
              "      <td>30</td>\n",
              "      <td>14</td>\n",
              "      <td>25</td>\n",
              "      <td>2</td>\n",
              "      <td>0</td>\n",
              "      <td>0.0</td>\n",
              "      <td>4</td>\n",
              "      <td>28</td>\n",
              "      <td>2</td>\n",
              "      <td>29</td>\n",
              "      <td>56</td>\n",
              "      <td>0</td>\n",
              "      <td>300</td>\n",
              "      <td>9</td>\n",
              "      <td>81</td>\n",
              "      <td>0</td>\n",
              "    </tr>\n",
              "    <tr>\n",
              "      <th>2</th>\n",
              "      <td>793</td>\n",
              "      <td>4</td>\n",
              "      <td>0</td>\n",
              "      <td>4</td>\n",
              "      <td>1</td>\n",
              "      <td>1</td>\n",
              "      <td>5</td>\n",
              "      <td>17</td>\n",
              "      <td>27</td>\n",
              "      <td>11</td>\n",
              "      <td>6</td>\n",
              "      <td>6</td>\n",
              "      <td>25</td>\n",
              "      <td>2</td>\n",
              "      <td>0</td>\n",
              "      <td>0.0</td>\n",
              "      <td>5</td>\n",
              "      <td>27</td>\n",
              "      <td>3</td>\n",
              "      <td>29</td>\n",
              "      <td>81</td>\n",
              "      <td>0</td>\n",
              "      <td>100</td>\n",
              "      <td>20</td>\n",
              "      <td>340</td>\n",
              "      <td>0</td>\n",
              "    </tr>\n",
              "    <tr>\n",
              "      <th>3</th>\n",
              "      <td>794</td>\n",
              "      <td>4</td>\n",
              "      <td>0</td>\n",
              "      <td>4</td>\n",
              "      <td>2</td>\n",
              "      <td>2</td>\n",
              "      <td>5</td>\n",
              "      <td>17</td>\n",
              "      <td>27</td>\n",
              "      <td>11</td>\n",
              "      <td>6</td>\n",
              "      <td>6</td>\n",
              "      <td>25</td>\n",
              "      <td>2</td>\n",
              "      <td>0</td>\n",
              "      <td>0.0</td>\n",
              "      <td>6</td>\n",
              "      <td>26</td>\n",
              "      <td>4</td>\n",
              "      <td>29</td>\n",
              "      <td>104</td>\n",
              "      <td>0</td>\n",
              "      <td>400</td>\n",
              "      <td>20</td>\n",
              "      <td>340</td>\n",
              "      <td>0</td>\n",
              "    </tr>\n",
              "    <tr>\n",
              "      <th>4</th>\n",
              "      <td>795</td>\n",
              "      <td>4</td>\n",
              "      <td>0</td>\n",
              "      <td>4</td>\n",
              "      <td>3</td>\n",
              "      <td>2</td>\n",
              "      <td>5</td>\n",
              "      <td>17</td>\n",
              "      <td>27</td>\n",
              "      <td>11</td>\n",
              "      <td>6</td>\n",
              "      <td>6</td>\n",
              "      <td>25</td>\n",
              "      <td>2</td>\n",
              "      <td>0</td>\n",
              "      <td>0.0</td>\n",
              "      <td>7</td>\n",
              "      <td>25</td>\n",
              "      <td>5</td>\n",
              "      <td>29</td>\n",
              "      <td>125</td>\n",
              "      <td>0</td>\n",
              "      <td>600</td>\n",
              "      <td>20</td>\n",
              "      <td>340</td>\n",
              "      <td>0</td>\n",
              "    </tr>\n",
              "    <tr>\n",
              "      <th>...</th>\n",
              "      <td>...</td>\n",
              "      <td>...</td>\n",
              "      <td>...</td>\n",
              "      <td>...</td>\n",
              "      <td>...</td>\n",
              "      <td>...</td>\n",
              "      <td>...</td>\n",
              "      <td>...</td>\n",
              "      <td>...</td>\n",
              "      <td>...</td>\n",
              "      <td>...</td>\n",
              "      <td>...</td>\n",
              "      <td>...</td>\n",
              "      <td>...</td>\n",
              "      <td>...</td>\n",
              "      <td>...</td>\n",
              "      <td>...</td>\n",
              "      <td>...</td>\n",
              "      <td>...</td>\n",
              "      <td>...</td>\n",
              "      <td>...</td>\n",
              "      <td>...</td>\n",
              "      <td>...</td>\n",
              "      <td>...</td>\n",
              "      <td>...</td>\n",
              "      <td>...</td>\n",
              "    </tr>\n",
              "    <tr>\n",
              "      <th>61715</th>\n",
              "      <td>3265449</td>\n",
              "      <td>4</td>\n",
              "      <td>0</td>\n",
              "      <td>3</td>\n",
              "      <td>1</td>\n",
              "      <td>4</td>\n",
              "      <td>3</td>\n",
              "      <td>10</td>\n",
              "      <td>27</td>\n",
              "      <td>11</td>\n",
              "      <td>30</td>\n",
              "      <td>14</td>\n",
              "      <td>30080</td>\n",
              "      <td>2</td>\n",
              "      <td>0</td>\n",
              "      <td>0.0</td>\n",
              "      <td>5</td>\n",
              "      <td>5</td>\n",
              "      <td>21</td>\n",
              "      <td>25</td>\n",
              "      <td>105</td>\n",
              "      <td>0</td>\n",
              "      <td>360960</td>\n",
              "      <td>9</td>\n",
              "      <td>90</td>\n",
              "      <td>0</td>\n",
              "    </tr>\n",
              "    <tr>\n",
              "      <th>61716</th>\n",
              "      <td>3265450</td>\n",
              "      <td>4</td>\n",
              "      <td>0</td>\n",
              "      <td>4</td>\n",
              "      <td>2</td>\n",
              "      <td>2</td>\n",
              "      <td>5</td>\n",
              "      <td>17</td>\n",
              "      <td>27</td>\n",
              "      <td>11</td>\n",
              "      <td>0</td>\n",
              "      <td>0</td>\n",
              "      <td>30080</td>\n",
              "      <td>5</td>\n",
              "      <td>0</td>\n",
              "      <td>0.0</td>\n",
              "      <td>6</td>\n",
              "      <td>4</td>\n",
              "      <td>22</td>\n",
              "      <td>25</td>\n",
              "      <td>88</td>\n",
              "      <td>0</td>\n",
              "      <td>481280</td>\n",
              "      <td>20</td>\n",
              "      <td>340</td>\n",
              "      <td>0</td>\n",
              "    </tr>\n",
              "    <tr>\n",
              "      <th>61717</th>\n",
              "      <td>3265451</td>\n",
              "      <td>4</td>\n",
              "      <td>0</td>\n",
              "      <td>4</td>\n",
              "      <td>3</td>\n",
              "      <td>2</td>\n",
              "      <td>5</td>\n",
              "      <td>17</td>\n",
              "      <td>27</td>\n",
              "      <td>11</td>\n",
              "      <td>0</td>\n",
              "      <td>0</td>\n",
              "      <td>30080</td>\n",
              "      <td>5</td>\n",
              "      <td>0</td>\n",
              "      <td>0.0</td>\n",
              "      <td>7</td>\n",
              "      <td>3</td>\n",
              "      <td>23</td>\n",
              "      <td>25</td>\n",
              "      <td>69</td>\n",
              "      <td>0</td>\n",
              "      <td>721920</td>\n",
              "      <td>20</td>\n",
              "      <td>340</td>\n",
              "      <td>0</td>\n",
              "    </tr>\n",
              "    <tr>\n",
              "      <th>61718</th>\n",
              "      <td>3265452</td>\n",
              "      <td>4</td>\n",
              "      <td>0</td>\n",
              "      <td>4</td>\n",
              "      <td>4</td>\n",
              "      <td>2</td>\n",
              "      <td>5</td>\n",
              "      <td>17</td>\n",
              "      <td>27</td>\n",
              "      <td>11</td>\n",
              "      <td>0</td>\n",
              "      <td>0</td>\n",
              "      <td>30080</td>\n",
              "      <td>5</td>\n",
              "      <td>0</td>\n",
              "      <td>0.0</td>\n",
              "      <td>8</td>\n",
              "      <td>2</td>\n",
              "      <td>24</td>\n",
              "      <td>25</td>\n",
              "      <td>48</td>\n",
              "      <td>0</td>\n",
              "      <td>962560</td>\n",
              "      <td>20</td>\n",
              "      <td>340</td>\n",
              "      <td>0</td>\n",
              "    </tr>\n",
              "    <tr>\n",
              "      <th>61719</th>\n",
              "      <td>3265455</td>\n",
              "      <td>4</td>\n",
              "      <td>0</td>\n",
              "      <td>4</td>\n",
              "      <td>5</td>\n",
              "      <td>3</td>\n",
              "      <td>5</td>\n",
              "      <td>17</td>\n",
              "      <td>27</td>\n",
              "      <td>11</td>\n",
              "      <td>0</td>\n",
              "      <td>0</td>\n",
              "      <td>30080</td>\n",
              "      <td>5</td>\n",
              "      <td>0</td>\n",
              "      <td>0.0</td>\n",
              "      <td>11</td>\n",
              "      <td>1</td>\n",
              "      <td>25</td>\n",
              "      <td>25</td>\n",
              "      <td>25</td>\n",
              "      <td>0</td>\n",
              "      <td>1804800</td>\n",
              "      <td>20</td>\n",
              "      <td>340</td>\n",
              "      <td>0</td>\n",
              "    </tr>\n",
              "  </tbody>\n",
              "</table>\n",
              "<p>61720 rows × 26 columns</p>\n",
              "</div>"
            ],
            "text/plain": [
              "       timestamp  outport  ...  vnet_vc_cc_index  target\n",
              "0            753        0  ...                54       0\n",
              "1            792        4  ...                81       0\n",
              "2            793        4  ...               340       0\n",
              "3            794        4  ...               340       0\n",
              "4            795        4  ...               340       0\n",
              "...          ...      ...  ...               ...     ...\n",
              "61715    3265449        4  ...                90       0\n",
              "61716    3265450        4  ...               340       0\n",
              "61717    3265451        4  ...               340       0\n",
              "61718    3265452        4  ...               340       0\n",
              "61719    3265455        4  ...               340       0\n",
              "\n",
              "[61720 rows x 26 columns]"
            ]
          },
          "metadata": {
            "tags": []
          },
          "execution_count": 10
        }
      ]
    },
    {
      "cell_type": "markdown",
      "metadata": {
        "id": "xhWoBoqmnTM8",
        "colab_type": "text"
      },
      "source": [
        "Processing"
      ]
    },
    {
      "cell_type": "code",
      "metadata": {
        "colab_type": "code",
        "id": "Z-DMh9YdHg2F",
        "outputId": "f3593f5f-5088-46b3-ddb8-c89cad66d05a",
        "colab": {
          "base_uri": "https://localhost:8080/",
          "height": 476
        }
      },
      "source": [
        "df.isnull().sum()"
      ],
      "execution_count": 11,
      "outputs": [
        {
          "output_type": "execute_result",
          "data": {
            "text/plain": [
              "timestamp                     0\n",
              "outport                       0\n",
              "inport                        0\n",
              "cache_coherence_type          0\n",
              "flit_id                       0\n",
              "flit_type                     0\n",
              "vnet                          0\n",
              "vc                            0\n",
              "src_ni                        0\n",
              "src_router                    0\n",
              "dst_ni                        0\n",
              "dst_router                    0\n",
              "traversal_id                  0\n",
              "hop_count                     0\n",
              "current_hop                   0\n",
              "hop_percentage                0\n",
              "enqueue_time                  0\n",
              "packet_count_decr             0\n",
              "packet_count_incr             0\n",
              "max_packet_count              0\n",
              "packet_count_index            0\n",
              "port_index                    0\n",
              "traversal_index               0\n",
              "cache_coherence_vnet_index    0\n",
              "vnet_vc_cc_index              0\n",
              "target                        0\n",
              "dtype: int64"
            ]
          },
          "metadata": {
            "tags": []
          },
          "execution_count": 11
        }
      ]
    },
    {
      "cell_type": "code",
      "metadata": {
        "id": "ct4HKW31PrjK",
        "colab_type": "code",
        "colab": {}
      },
      "source": [
        "df = df.drop(columns=['timestamp','src_ni','src_router','dst_ni','dst_router'])"
      ],
      "execution_count": 0,
      "outputs": []
    },
    {
      "cell_type": "code",
      "metadata": {
        "colab_type": "code",
        "id": "Y9vcn7NCHg2M",
        "outputId": "159ca595-0691-4880-a799-5b7c8672b2be",
        "colab": {
          "base_uri": "https://localhost:8080/",
          "height": 720
        }
      },
      "source": [
        "df.corr()"
      ],
      "execution_count": 13,
      "outputs": [
        {
          "output_type": "execute_result",
          "data": {
            "text/html": [
              "<div>\n",
              "<style scoped>\n",
              "    .dataframe tbody tr th:only-of-type {\n",
              "        vertical-align: middle;\n",
              "    }\n",
              "\n",
              "    .dataframe tbody tr th {\n",
              "        vertical-align: top;\n",
              "    }\n",
              "\n",
              "    .dataframe thead th {\n",
              "        text-align: right;\n",
              "    }\n",
              "</style>\n",
              "<table border=\"1\" class=\"dataframe\">\n",
              "  <thead>\n",
              "    <tr style=\"text-align: right;\">\n",
              "      <th></th>\n",
              "      <th>outport</th>\n",
              "      <th>inport</th>\n",
              "      <th>cache_coherence_type</th>\n",
              "      <th>flit_id</th>\n",
              "      <th>flit_type</th>\n",
              "      <th>vnet</th>\n",
              "      <th>vc</th>\n",
              "      <th>traversal_id</th>\n",
              "      <th>hop_count</th>\n",
              "      <th>current_hop</th>\n",
              "      <th>hop_percentage</th>\n",
              "      <th>enqueue_time</th>\n",
              "      <th>packet_count_decr</th>\n",
              "      <th>packet_count_incr</th>\n",
              "      <th>max_packet_count</th>\n",
              "      <th>packet_count_index</th>\n",
              "      <th>port_index</th>\n",
              "      <th>traversal_index</th>\n",
              "      <th>cache_coherence_vnet_index</th>\n",
              "      <th>vnet_vc_cc_index</th>\n",
              "      <th>target</th>\n",
              "    </tr>\n",
              "  </thead>\n",
              "  <tbody>\n",
              "    <tr>\n",
              "      <th>outport</th>\n",
              "      <td>1.000000</td>\n",
              "      <td>-0.586652</td>\n",
              "      <td>-0.158326</td>\n",
              "      <td>0.005864</td>\n",
              "      <td>-0.009051</td>\n",
              "      <td>0.128049</td>\n",
              "      <td>0.247906</td>\n",
              "      <td>-0.009271</td>\n",
              "      <td>0.247522</td>\n",
              "      <td>-0.687877</td>\n",
              "      <td>-0.866207</td>\n",
              "      <td>-0.426832</td>\n",
              "      <td>-0.055510</td>\n",
              "      <td>0.012033</td>\n",
              "      <td>-0.032503</td>\n",
              "      <td>-0.027692</td>\n",
              "      <td>0.001140</td>\n",
              "      <td>-0.044524</td>\n",
              "      <td>-0.036134</td>\n",
              "      <td>0.151372</td>\n",
              "      <td>0.009033</td>\n",
              "    </tr>\n",
              "    <tr>\n",
              "      <th>inport</th>\n",
              "      <td>-0.586652</td>\n",
              "      <td>1.000000</td>\n",
              "      <td>-0.014303</td>\n",
              "      <td>-0.004865</td>\n",
              "      <td>0.007503</td>\n",
              "      <td>0.082495</td>\n",
              "      <td>-0.053757</td>\n",
              "      <td>-0.023896</td>\n",
              "      <td>0.228304</td>\n",
              "      <td>0.731355</td>\n",
              "      <td>0.701245</td>\n",
              "      <td>0.323981</td>\n",
              "      <td>0.012904</td>\n",
              "      <td>-0.039434</td>\n",
              "      <td>-0.019834</td>\n",
              "      <td>-0.018410</td>\n",
              "      <td>0.506315</td>\n",
              "      <td>-0.029128</td>\n",
              "      <td>0.053146</td>\n",
              "      <td>-0.003429</td>\n",
              "      <td>0.018532</td>\n",
              "    </tr>\n",
              "    <tr>\n",
              "      <th>cache_coherence_type</th>\n",
              "      <td>-0.158326</td>\n",
              "      <td>-0.014303</td>\n",
              "      <td>1.000000</td>\n",
              "      <td>0.257657</td>\n",
              "      <td>-0.397577</td>\n",
              "      <td>-0.282789</td>\n",
              "      <td>-0.331443</td>\n",
              "      <td>0.038627</td>\n",
              "      <td>-0.058124</td>\n",
              "      <td>0.104727</td>\n",
              "      <td>0.200364</td>\n",
              "      <td>-0.049009</td>\n",
              "      <td>0.024615</td>\n",
              "      <td>-0.036262</td>\n",
              "      <td>-0.008707</td>\n",
              "      <td>-0.005062</td>\n",
              "      <td>-0.044348</td>\n",
              "      <td>0.311297</td>\n",
              "      <td>0.646557</td>\n",
              "      <td>0.050045</td>\n",
              "      <td>0.008653</td>\n",
              "    </tr>\n",
              "    <tr>\n",
              "      <th>flit_id</th>\n",
              "      <td>0.005864</td>\n",
              "      <td>-0.004865</td>\n",
              "      <td>0.257657</td>\n",
              "      <td>1.000000</td>\n",
              "      <td>0.023104</td>\n",
              "      <td>0.186072</td>\n",
              "      <td>0.152356</td>\n",
              "      <td>0.003081</td>\n",
              "      <td>0.027244</td>\n",
              "      <td>0.001419</td>\n",
              "      <td>-0.003510</td>\n",
              "      <td>0.309405</td>\n",
              "      <td>-0.021816</td>\n",
              "      <td>0.020756</td>\n",
              "      <td>-0.000793</td>\n",
              "      <td>-0.001104</td>\n",
              "      <td>0.012707</td>\n",
              "      <td>0.660649</td>\n",
              "      <td>0.372528</td>\n",
              "      <td>0.275900</td>\n",
              "      <td>-0.000860</td>\n",
              "    </tr>\n",
              "    <tr>\n",
              "      <th>flit_type</th>\n",
              "      <td>-0.009051</td>\n",
              "      <td>0.007503</td>\n",
              "      <td>-0.397577</td>\n",
              "      <td>0.023104</td>\n",
              "      <td>1.000000</td>\n",
              "      <td>-0.287096</td>\n",
              "      <td>-0.235075</td>\n",
              "      <td>-0.004775</td>\n",
              "      <td>-0.042050</td>\n",
              "      <td>-0.002199</td>\n",
              "      <td>0.005416</td>\n",
              "      <td>0.362772</td>\n",
              "      <td>-0.026394</td>\n",
              "      <td>0.029043</td>\n",
              "      <td>0.001980</td>\n",
              "      <td>0.002690</td>\n",
              "      <td>-0.019601</td>\n",
              "      <td>0.151433</td>\n",
              "      <td>-0.574811</td>\n",
              "      <td>-0.425706</td>\n",
              "      <td>0.001315</td>\n",
              "    </tr>\n",
              "    <tr>\n",
              "      <th>vnet</th>\n",
              "      <td>0.128049</td>\n",
              "      <td>0.082495</td>\n",
              "      <td>-0.282789</td>\n",
              "      <td>0.186072</td>\n",
              "      <td>-0.287096</td>\n",
              "      <td>1.000000</td>\n",
              "      <td>0.968101</td>\n",
              "      <td>-0.048354</td>\n",
              "      <td>0.112358</td>\n",
              "      <td>-0.144502</td>\n",
              "      <td>-0.211144</td>\n",
              "      <td>-0.474126</td>\n",
              "      <td>-0.043771</td>\n",
              "      <td>0.049011</td>\n",
              "      <td>0.003917</td>\n",
              "      <td>-0.002784</td>\n",
              "      <td>-0.010011</td>\n",
              "      <td>-0.074032</td>\n",
              "      <td>0.548888</td>\n",
              "      <td>0.932314</td>\n",
              "      <td>-0.000441</td>\n",
              "    </tr>\n",
              "    <tr>\n",
              "      <th>vc</th>\n",
              "      <td>0.247906</td>\n",
              "      <td>-0.053757</td>\n",
              "      <td>-0.331443</td>\n",
              "      <td>0.152356</td>\n",
              "      <td>-0.235075</td>\n",
              "      <td>0.968101</td>\n",
              "      <td>1.000000</td>\n",
              "      <td>-0.043987</td>\n",
              "      <td>0.095730</td>\n",
              "      <td>-0.264180</td>\n",
              "      <td>-0.347668</td>\n",
              "      <td>-0.513783</td>\n",
              "      <td>-0.043520</td>\n",
              "      <td>0.059381</td>\n",
              "      <td>0.011858</td>\n",
              "      <td>0.004472</td>\n",
              "      <td>-0.061548</td>\n",
              "      <td>-0.091166</td>\n",
              "      <td>0.481117</td>\n",
              "      <td>0.919125</td>\n",
              "      <td>-0.006093</td>\n",
              "    </tr>\n",
              "    <tr>\n",
              "      <th>traversal_id</th>\n",
              "      <td>-0.009271</td>\n",
              "      <td>-0.023896</td>\n",
              "      <td>0.038627</td>\n",
              "      <td>0.003081</td>\n",
              "      <td>-0.004775</td>\n",
              "      <td>-0.048354</td>\n",
              "      <td>-0.043987</td>\n",
              "      <td>1.000000</td>\n",
              "      <td>-0.017730</td>\n",
              "      <td>-0.002414</td>\n",
              "      <td>-0.001753</td>\n",
              "      <td>0.032037</td>\n",
              "      <td>0.162240</td>\n",
              "      <td>0.163225</td>\n",
              "      <td>0.243312</td>\n",
              "      <td>0.182428</td>\n",
              "      <td>-0.054439</td>\n",
              "      <td>0.535471</td>\n",
              "      <td>-0.004795</td>\n",
              "      <td>-0.034371</td>\n",
              "      <td>-0.238579</td>\n",
              "    </tr>\n",
              "    <tr>\n",
              "      <th>hop_count</th>\n",
              "      <td>0.247522</td>\n",
              "      <td>0.228304</td>\n",
              "      <td>-0.058124</td>\n",
              "      <td>0.027244</td>\n",
              "      <td>-0.042050</td>\n",
              "      <td>0.112358</td>\n",
              "      <td>0.095730</td>\n",
              "      <td>-0.017730</td>\n",
              "      <td>1.000000</td>\n",
              "      <td>0.436641</td>\n",
              "      <td>0.026696</td>\n",
              "      <td>0.188211</td>\n",
              "      <td>-0.075949</td>\n",
              "      <td>-0.080684</td>\n",
              "      <td>-0.117096</td>\n",
              "      <td>-0.100124</td>\n",
              "      <td>0.230837</td>\n",
              "      <td>-0.021130</td>\n",
              "      <td>0.038709</td>\n",
              "      <td>0.089790</td>\n",
              "      <td>0.088156</td>\n",
              "    </tr>\n",
              "    <tr>\n",
              "      <th>current_hop</th>\n",
              "      <td>-0.687877</td>\n",
              "      <td>0.731355</td>\n",
              "      <td>0.104727</td>\n",
              "      <td>0.001419</td>\n",
              "      <td>-0.002199</td>\n",
              "      <td>-0.144502</td>\n",
              "      <td>-0.264180</td>\n",
              "      <td>-0.002414</td>\n",
              "      <td>0.436641</td>\n",
              "      <td>1.000000</td>\n",
              "      <td>0.815660</td>\n",
              "      <td>0.605426</td>\n",
              "      <td>0.003859</td>\n",
              "      <td>-0.078766</td>\n",
              "      <td>-0.055999</td>\n",
              "      <td>-0.047134</td>\n",
              "      <td>0.243311</td>\n",
              "      <td>0.028494</td>\n",
              "      <td>-0.023660</td>\n",
              "      <td>-0.187273</td>\n",
              "      <td>0.045421</td>\n",
              "    </tr>\n",
              "    <tr>\n",
              "      <th>hop_percentage</th>\n",
              "      <td>-0.866207</td>\n",
              "      <td>0.701245</td>\n",
              "      <td>0.200364</td>\n",
              "      <td>-0.003510</td>\n",
              "      <td>0.005416</td>\n",
              "      <td>-0.211144</td>\n",
              "      <td>-0.347668</td>\n",
              "      <td>-0.001753</td>\n",
              "      <td>0.026696</td>\n",
              "      <td>0.815660</td>\n",
              "      <td>1.000000</td>\n",
              "      <td>0.544498</td>\n",
              "      <td>0.021344</td>\n",
              "      <td>-0.058087</td>\n",
              "      <td>-0.027468</td>\n",
              "      <td>-0.023211</td>\n",
              "      <td>0.108602</td>\n",
              "      <td>0.053229</td>\n",
              "      <td>0.006682</td>\n",
              "      <td>-0.233607</td>\n",
              "      <td>0.029385</td>\n",
              "    </tr>\n",
              "    <tr>\n",
              "      <th>enqueue_time</th>\n",
              "      <td>-0.426832</td>\n",
              "      <td>0.323981</td>\n",
              "      <td>-0.049009</td>\n",
              "      <td>0.309405</td>\n",
              "      <td>0.362772</td>\n",
              "      <td>-0.474126</td>\n",
              "      <td>-0.513783</td>\n",
              "      <td>0.032037</td>\n",
              "      <td>0.188211</td>\n",
              "      <td>0.605426</td>\n",
              "      <td>0.544498</td>\n",
              "      <td>1.000000</td>\n",
              "      <td>0.008615</td>\n",
              "      <td>-0.046005</td>\n",
              "      <td>-0.027952</td>\n",
              "      <td>-0.018524</td>\n",
              "      <td>0.143277</td>\n",
              "      <td>0.322402</td>\n",
              "      <td>-0.419796</td>\n",
              "      <td>-0.546050</td>\n",
              "      <td>0.021954</td>\n",
              "    </tr>\n",
              "    <tr>\n",
              "      <th>packet_count_decr</th>\n",
              "      <td>-0.055510</td>\n",
              "      <td>0.012904</td>\n",
              "      <td>0.024615</td>\n",
              "      <td>-0.021816</td>\n",
              "      <td>-0.026394</td>\n",
              "      <td>-0.043771</td>\n",
              "      <td>-0.043520</td>\n",
              "      <td>0.162240</td>\n",
              "      <td>-0.075949</td>\n",
              "      <td>0.003859</td>\n",
              "      <td>0.021344</td>\n",
              "      <td>0.008615</td>\n",
              "      <td>1.000000</td>\n",
              "      <td>-0.105357</td>\n",
              "      <td>0.668821</td>\n",
              "      <td>0.551870</td>\n",
              "      <td>-0.050548</td>\n",
              "      <td>0.075814</td>\n",
              "      <td>-0.013361</td>\n",
              "      <td>-0.037936</td>\n",
              "      <td>-0.195255</td>\n",
              "    </tr>\n",
              "    <tr>\n",
              "      <th>packet_count_incr</th>\n",
              "      <td>0.012033</td>\n",
              "      <td>-0.039434</td>\n",
              "      <td>-0.036262</td>\n",
              "      <td>0.020756</td>\n",
              "      <td>0.029043</td>\n",
              "      <td>0.049011</td>\n",
              "      <td>0.059381</td>\n",
              "      <td>0.163225</td>\n",
              "      <td>-0.080684</td>\n",
              "      <td>-0.078766</td>\n",
              "      <td>-0.058087</td>\n",
              "      <td>-0.046005</td>\n",
              "      <td>-0.105357</td>\n",
              "      <td>1.000000</td>\n",
              "      <td>0.668821</td>\n",
              "      <td>0.551870</td>\n",
              "      <td>-0.057658</td>\n",
              "      <td>0.094590</td>\n",
              "      <td>0.007379</td>\n",
              "      <td>0.043872</td>\n",
              "      <td>-0.195255</td>\n",
              "    </tr>\n",
              "    <tr>\n",
              "      <th>max_packet_count</th>\n",
              "      <td>-0.032503</td>\n",
              "      <td>-0.019834</td>\n",
              "      <td>-0.008707</td>\n",
              "      <td>-0.000793</td>\n",
              "      <td>0.001980</td>\n",
              "      <td>0.003917</td>\n",
              "      <td>0.011858</td>\n",
              "      <td>0.243312</td>\n",
              "      <td>-0.117096</td>\n",
              "      <td>-0.055999</td>\n",
              "      <td>-0.027468</td>\n",
              "      <td>-0.027952</td>\n",
              "      <td>0.668821</td>\n",
              "      <td>0.668821</td>\n",
              "      <td>1.000000</td>\n",
              "      <td>0.825138</td>\n",
              "      <td>-0.080894</td>\n",
              "      <td>0.127391</td>\n",
              "      <td>-0.004473</td>\n",
              "      <td>0.004438</td>\n",
              "      <td>-0.291939</td>\n",
              "    </tr>\n",
              "    <tr>\n",
              "      <th>packet_count_index</th>\n",
              "      <td>-0.027692</td>\n",
              "      <td>-0.018410</td>\n",
              "      <td>-0.005062</td>\n",
              "      <td>-0.001104</td>\n",
              "      <td>0.002690</td>\n",
              "      <td>-0.002784</td>\n",
              "      <td>0.004472</td>\n",
              "      <td>0.182428</td>\n",
              "      <td>-0.100124</td>\n",
              "      <td>-0.047134</td>\n",
              "      <td>-0.023211</td>\n",
              "      <td>-0.018524</td>\n",
              "      <td>0.551870</td>\n",
              "      <td>0.551870</td>\n",
              "      <td>0.825138</td>\n",
              "      <td>1.000000</td>\n",
              "      <td>-0.059257</td>\n",
              "      <td>0.095884</td>\n",
              "      <td>-0.006625</td>\n",
              "      <td>-0.001416</td>\n",
              "      <td>-0.247694</td>\n",
              "    </tr>\n",
              "    <tr>\n",
              "      <th>port_index</th>\n",
              "      <td>0.001140</td>\n",
              "      <td>0.506315</td>\n",
              "      <td>-0.044348</td>\n",
              "      <td>0.012707</td>\n",
              "      <td>-0.019601</td>\n",
              "      <td>-0.010011</td>\n",
              "      <td>-0.061548</td>\n",
              "      <td>-0.054439</td>\n",
              "      <td>0.230837</td>\n",
              "      <td>0.243311</td>\n",
              "      <td>0.108602</td>\n",
              "      <td>0.143277</td>\n",
              "      <td>-0.050548</td>\n",
              "      <td>-0.057658</td>\n",
              "      <td>-0.080894</td>\n",
              "      <td>-0.059257</td>\n",
              "      <td>1.000000</td>\n",
              "      <td>-0.039551</td>\n",
              "      <td>-0.046609</td>\n",
              "      <td>-0.057696</td>\n",
              "      <td>0.100526</td>\n",
              "    </tr>\n",
              "    <tr>\n",
              "      <th>traversal_index</th>\n",
              "      <td>-0.044524</td>\n",
              "      <td>-0.029128</td>\n",
              "      <td>0.311297</td>\n",
              "      <td>0.660649</td>\n",
              "      <td>0.151433</td>\n",
              "      <td>-0.074032</td>\n",
              "      <td>-0.091166</td>\n",
              "      <td>0.535471</td>\n",
              "      <td>-0.021130</td>\n",
              "      <td>0.028494</td>\n",
              "      <td>0.053229</td>\n",
              "      <td>0.322402</td>\n",
              "      <td>0.075814</td>\n",
              "      <td>0.094590</td>\n",
              "      <td>0.127391</td>\n",
              "      <td>0.095884</td>\n",
              "      <td>-0.039551</td>\n",
              "      <td>1.000000</td>\n",
              "      <td>0.212405</td>\n",
              "      <td>0.029817</td>\n",
              "      <td>-0.124542</td>\n",
              "    </tr>\n",
              "    <tr>\n",
              "      <th>cache_coherence_vnet_index</th>\n",
              "      <td>-0.036134</td>\n",
              "      <td>0.053146</td>\n",
              "      <td>0.646557</td>\n",
              "      <td>0.372528</td>\n",
              "      <td>-0.574811</td>\n",
              "      <td>0.548888</td>\n",
              "      <td>0.481117</td>\n",
              "      <td>-0.004795</td>\n",
              "      <td>0.038709</td>\n",
              "      <td>-0.023660</td>\n",
              "      <td>0.006682</td>\n",
              "      <td>-0.419796</td>\n",
              "      <td>-0.013361</td>\n",
              "      <td>0.007379</td>\n",
              "      <td>-0.004473</td>\n",
              "      <td>-0.006625</td>\n",
              "      <td>-0.046609</td>\n",
              "      <td>0.212405</td>\n",
              "      <td>1.000000</td>\n",
              "      <td>0.785109</td>\n",
              "      <td>0.007190</td>\n",
              "    </tr>\n",
              "    <tr>\n",
              "      <th>vnet_vc_cc_index</th>\n",
              "      <td>0.151372</td>\n",
              "      <td>-0.003429</td>\n",
              "      <td>0.050045</td>\n",
              "      <td>0.275900</td>\n",
              "      <td>-0.425706</td>\n",
              "      <td>0.932314</td>\n",
              "      <td>0.919125</td>\n",
              "      <td>-0.034371</td>\n",
              "      <td>0.089790</td>\n",
              "      <td>-0.187273</td>\n",
              "      <td>-0.233607</td>\n",
              "      <td>-0.546050</td>\n",
              "      <td>-0.037936</td>\n",
              "      <td>0.043872</td>\n",
              "      <td>0.004438</td>\n",
              "      <td>-0.001416</td>\n",
              "      <td>-0.057696</td>\n",
              "      <td>0.029817</td>\n",
              "      <td>0.785109</td>\n",
              "      <td>1.000000</td>\n",
              "      <td>0.001799</td>\n",
              "    </tr>\n",
              "    <tr>\n",
              "      <th>target</th>\n",
              "      <td>0.009033</td>\n",
              "      <td>0.018532</td>\n",
              "      <td>0.008653</td>\n",
              "      <td>-0.000860</td>\n",
              "      <td>0.001315</td>\n",
              "      <td>-0.000441</td>\n",
              "      <td>-0.006093</td>\n",
              "      <td>-0.238579</td>\n",
              "      <td>0.088156</td>\n",
              "      <td>0.045421</td>\n",
              "      <td>0.029385</td>\n",
              "      <td>0.021954</td>\n",
              "      <td>-0.195255</td>\n",
              "      <td>-0.195255</td>\n",
              "      <td>-0.291939</td>\n",
              "      <td>-0.247694</td>\n",
              "      <td>0.100526</td>\n",
              "      <td>-0.124542</td>\n",
              "      <td>0.007190</td>\n",
              "      <td>0.001799</td>\n",
              "      <td>1.000000</td>\n",
              "    </tr>\n",
              "  </tbody>\n",
              "</table>\n",
              "</div>"
            ],
            "text/plain": [
              "                             outport    inport  ...  vnet_vc_cc_index    target\n",
              "outport                     1.000000 -0.586652  ...          0.151372  0.009033\n",
              "inport                     -0.586652  1.000000  ...         -0.003429  0.018532\n",
              "cache_coherence_type       -0.158326 -0.014303  ...          0.050045  0.008653\n",
              "flit_id                     0.005864 -0.004865  ...          0.275900 -0.000860\n",
              "flit_type                  -0.009051  0.007503  ...         -0.425706  0.001315\n",
              "vnet                        0.128049  0.082495  ...          0.932314 -0.000441\n",
              "vc                          0.247906 -0.053757  ...          0.919125 -0.006093\n",
              "traversal_id               -0.009271 -0.023896  ...         -0.034371 -0.238579\n",
              "hop_count                   0.247522  0.228304  ...          0.089790  0.088156\n",
              "current_hop                -0.687877  0.731355  ...         -0.187273  0.045421\n",
              "hop_percentage             -0.866207  0.701245  ...         -0.233607  0.029385\n",
              "enqueue_time               -0.426832  0.323981  ...         -0.546050  0.021954\n",
              "packet_count_decr          -0.055510  0.012904  ...         -0.037936 -0.195255\n",
              "packet_count_incr           0.012033 -0.039434  ...          0.043872 -0.195255\n",
              "max_packet_count           -0.032503 -0.019834  ...          0.004438 -0.291939\n",
              "packet_count_index         -0.027692 -0.018410  ...         -0.001416 -0.247694\n",
              "port_index                  0.001140  0.506315  ...         -0.057696  0.100526\n",
              "traversal_index            -0.044524 -0.029128  ...          0.029817 -0.124542\n",
              "cache_coherence_vnet_index -0.036134  0.053146  ...          0.785109  0.007190\n",
              "vnet_vc_cc_index            0.151372 -0.003429  ...          1.000000  0.001799\n",
              "target                      0.009033  0.018532  ...          0.001799  1.000000\n",
              "\n",
              "[21 rows x 21 columns]"
            ]
          },
          "metadata": {
            "tags": []
          },
          "execution_count": 13
        }
      ]
    },
    {
      "cell_type": "code",
      "metadata": {
        "colab_type": "code",
        "id": "KO-4OTqWHg2O",
        "outputId": "451a731e-4650-4e95-dd22-21961aeacf3f",
        "colab": {
          "base_uri": "https://localhost:8080/",
          "height": 1000
        }
      },
      "source": [
        "plt.figure(figsize=(25,25))\n",
        "sns.heatmap(df.corr(), annot = True)\n",
        "plt.show()"
      ],
      "execution_count": 14,
      "outputs": [
        {
          "output_type": "display_data",
          "data": {
            "image/png": "[encoded data removed]",
            "text/plain": [
              "<Figure size 1800x1800 with 2 Axes>"
            ]
          },
          "metadata": {
            "tags": [],
            "needs_background": "light"
          }
        }
      ]
    },
    {
      "cell_type": "code",
      "metadata": {
        "id": "ihUQ4Na0X6ud",
        "colab_type": "code",
        "colab": {}
      },
      "source": [
        "def find_correlation(data, threshold=0.9):\n",
        "    corr_mat = data.corr()\n",
        "    corr_mat.loc[:, :] = np.tril(corr_mat, k=-1)\n",
        "    already_in = set()\n",
        "    result = []\n",
        "    for col in corr_mat:\n",
        "        perfect_corr = corr_mat[col][abs(corr_mat[col])> threshold].index.tolist()\n",
        "        if perfect_corr and col not in already_in:\n",
        "            already_in.update(set(perfect_corr))\n",
        "            perfect_corr.append(col)\n",
        "            result.append(perfect_corr)\n",
        "    select_nested = [f[1:] for f in result]\n",
        "    select_flat = [i for j in select_nested for i in j]\n",
        "    return select_flat"
      ],
      "execution_count": 0,
      "outputs": []
    },
    {
      "cell_type": "code",
      "metadata": {
        "id": "ea_XFirFYRWD",
        "colab_type": "code",
        "outputId": "cede9340-9d6f-45d0-9b80-2902e549d35c",
        "colab": {
          "base_uri": "https://localhost:8080/",
          "height": 34
        }
      },
      "source": [
        "columns_to_drop = find_correlation(df.drop(columns=['target']))\n",
        "columns_to_drop"
      ],
      "execution_count": 16,
      "outputs": [
        {
          "output_type": "execute_result",
          "data": {
            "text/plain": [
              "['vnet_vc_cc_index', 'vnet']"
            ]
          },
          "metadata": {
            "tags": []
          },
          "execution_count": 16
        }
      ]
    },
    {
      "cell_type": "code",
      "metadata": {
        "id": "uoJ0vV8dc3Tp",
        "colab_type": "code",
        "colab": {}
      },
      "source": [
        "df = df.drop(columns=['inport','cache_coherence_type','flit_id','flit_type','vnet','current_hop','hop_percentage','port_index','cache_coherence_vnet_index','vnet_vc_cc_index'])"
      ],
      "execution_count": 0,
      "outputs": []
    },
    {
      "cell_type": "code",
      "metadata": {
        "id": "mnbTvnKD8pJp",
        "colab_type": "code",
        "outputId": "6ae3c533-51c9-4fe8-adcd-d64df4098342",
        "colab": {
          "base_uri": "https://localhost:8080/",
          "height": 739
        }
      },
      "source": [
        "plt.figure(figsize=(11,11))\n",
        "sns.heatmap(df.corr(), annot = True)\n",
        "plt.show()"
      ],
      "execution_count": 18,
      "outputs": [
        {
          "output_type": "display_data",
          "data": {
            "image/png": "[encoded data removed]",
            "text/plain": [
              "<Figure size 792x792 with 2 Axes>"
            ]
          },
          "metadata": {
            "tags": [],
            "needs_background": "light"
          }
        }
      ]
    },
    {
      "cell_type": "code",
      "metadata": {
        "id": "xmD7x9tM8rFy",
        "colab_type": "code",
        "outputId": "63c8bea3-ec4b-4dca-c631-aa1adf804528",
        "colab": {
          "base_uri": "https://localhost:8080/",
          "height": 739
        }
      },
      "source": [
        "plt.figure(figsize=(11,11))\n",
        "sns.heatmap(df.corr())\n",
        "plt.show()"
      ],
      "execution_count": 19,
      "outputs": [
        {
          "output_type": "display_data",
          "data": {
            "image/png": "[encoded data removed]",
            "text/plain": [
              "<Figure size 792x792 with 2 Axes>"
            ]
          },
          "metadata": {
            "tags": [],
            "needs_background": "light"
          }
        }
      ]
    },
    {
      "cell_type": "markdown",
      "metadata": {
        "colab_type": "text",
        "id": "dqkKQOsugytM"
      },
      "source": [
        "Processing Dataset for Training"
      ]
    },
    {
      "cell_type": "code",
      "metadata": {
        "id": "3QGHP8EYGqHK",
        "colab_type": "code",
        "colab": {}
      },
      "source": [
        "train_X = df.drop(columns=['target'])\n",
        "train_Y = df['target']"
      ],
      "execution_count": 0,
      "outputs": []
    },
    {
      "cell_type": "code",
      "metadata": {
        "colab_type": "code",
        "id": "ebvK4Qc8Hg2S",
        "outputId": "b3a4cab1-39ed-4070-fea7-f848511f1f70",
        "colab": {
          "base_uri": "https://localhost:8080/",
          "height": 439
        }
      },
      "source": [
        "#standardization\n",
        "x = train_X.values\n",
        "min_max_scaler = preprocessing.MinMaxScaler()\n",
        "columns = train_X.columns\n",
        "x_scaled = min_max_scaler.fit_transform(x)\n",
        "train_X = pd.DataFrame(x_scaled)\n",
        "train_X.columns = columns\n",
        "train_X"
      ],
      "execution_count": 21,
      "outputs": [
        {
          "output_type": "execute_result",
          "data": {
            "text/html": [
              "<div>\n",
              "<style scoped>\n",
              "    .dataframe tbody tr th:only-of-type {\n",
              "        vertical-align: middle;\n",
              "    }\n",
              "\n",
              "    .dataframe tbody tr th {\n",
              "        vertical-align: top;\n",
              "    }\n",
              "\n",
              "    .dataframe thead th {\n",
              "        text-align: right;\n",
              "    }\n",
              "</style>\n",
              "<table border=\"1\" class=\"dataframe\">\n",
              "  <thead>\n",
              "    <tr style=\"text-align: right;\">\n",
              "      <th></th>\n",
              "      <th>outport</th>\n",
              "      <th>vc</th>\n",
              "      <th>traversal_id</th>\n",
              "      <th>hop_count</th>\n",
              "      <th>enqueue_time</th>\n",
              "      <th>packet_count_decr</th>\n",
              "      <th>packet_count_incr</th>\n",
              "      <th>max_packet_count</th>\n",
              "      <th>packet_count_index</th>\n",
              "      <th>traversal_index</th>\n",
              "    </tr>\n",
              "  </thead>\n",
              "  <tbody>\n",
              "    <tr>\n",
              "      <th>0</th>\n",
              "      <td>0.75</td>\n",
              "      <td>0.000000</td>\n",
              "      <td>0.000033</td>\n",
              "      <td>0.166667</td>\n",
              "      <td>0.000000</td>\n",
              "      <td>0.387850</td>\n",
              "      <td>0.000000</td>\n",
              "      <td>0.387850</td>\n",
              "      <td>0.007117</td>\n",
              "      <td>0.000001</td>\n",
              "    </tr>\n",
              "    <tr>\n",
              "      <th>1</th>\n",
              "      <td>0.75</td>\n",
              "      <td>0.000000</td>\n",
              "      <td>0.000000</td>\n",
              "      <td>0.166667</td>\n",
              "      <td>0.000000</td>\n",
              "      <td>0.607477</td>\n",
              "      <td>0.000000</td>\n",
              "      <td>0.607477</td>\n",
              "      <td>0.011146</td>\n",
              "      <td>0.000000</td>\n",
              "    </tr>\n",
              "    <tr>\n",
              "      <th>2</th>\n",
              "      <td>0.75</td>\n",
              "      <td>0.000000</td>\n",
              "      <td>0.000033</td>\n",
              "      <td>0.166667</td>\n",
              "      <td>0.000000</td>\n",
              "      <td>0.387850</td>\n",
              "      <td>0.000000</td>\n",
              "      <td>0.387850</td>\n",
              "      <td>0.007117</td>\n",
              "      <td>0.000001</td>\n",
              "    </tr>\n",
              "    <tr>\n",
              "      <th>3</th>\n",
              "      <td>0.75</td>\n",
              "      <td>0.000000</td>\n",
              "      <td>0.000033</td>\n",
              "      <td>0.166667</td>\n",
              "      <td>0.000000</td>\n",
              "      <td>0.401869</td>\n",
              "      <td>0.000000</td>\n",
              "      <td>0.401869</td>\n",
              "      <td>0.007374</td>\n",
              "      <td>0.000001</td>\n",
              "    </tr>\n",
              "    <tr>\n",
              "      <th>4</th>\n",
              "      <td>0.75</td>\n",
              "      <td>0.000000</td>\n",
              "      <td>0.000033</td>\n",
              "      <td>0.333333</td>\n",
              "      <td>0.055556</td>\n",
              "      <td>0.602804</td>\n",
              "      <td>0.004673</td>\n",
              "      <td>0.607477</td>\n",
              "      <td>0.022207</td>\n",
              "      <td>0.000001</td>\n",
              "    </tr>\n",
              "    <tr>\n",
              "      <th>...</th>\n",
              "      <td>...</td>\n",
              "      <td>...</td>\n",
              "      <td>...</td>\n",
              "      <td>...</td>\n",
              "      <td>...</td>\n",
              "      <td>...</td>\n",
              "      <td>...</td>\n",
              "      <td>...</td>\n",
              "      <td>...</td>\n",
              "      <td>...</td>\n",
              "    </tr>\n",
              "    <tr>\n",
              "      <th>960368</th>\n",
              "      <td>1.00</td>\n",
              "      <td>0.181818</td>\n",
              "      <td>0.999967</td>\n",
              "      <td>0.500000</td>\n",
              "      <td>0.194444</td>\n",
              "      <td>0.018692</td>\n",
              "      <td>0.205607</td>\n",
              "      <td>0.224299</td>\n",
              "      <td>0.019206</td>\n",
              "      <td>0.399998</td>\n",
              "    </tr>\n",
              "    <tr>\n",
              "      <th>960369</th>\n",
              "      <td>1.00</td>\n",
              "      <td>0.181818</td>\n",
              "      <td>0.999967</td>\n",
              "      <td>0.500000</td>\n",
              "      <td>0.291667</td>\n",
              "      <td>0.014019</td>\n",
              "      <td>0.210280</td>\n",
              "      <td>0.224299</td>\n",
              "      <td>0.015691</td>\n",
              "      <td>0.533332</td>\n",
              "    </tr>\n",
              "    <tr>\n",
              "      <th>960370</th>\n",
              "      <td>1.00</td>\n",
              "      <td>0.181818</td>\n",
              "      <td>0.999967</td>\n",
              "      <td>0.500000</td>\n",
              "      <td>0.388889</td>\n",
              "      <td>0.009346</td>\n",
              "      <td>0.214953</td>\n",
              "      <td>0.224299</td>\n",
              "      <td>0.012004</td>\n",
              "      <td>1.000000</td>\n",
              "    </tr>\n",
              "    <tr>\n",
              "      <th>960371</th>\n",
              "      <td>1.00</td>\n",
              "      <td>0.272727</td>\n",
              "      <td>1.000000</td>\n",
              "      <td>0.500000</td>\n",
              "      <td>0.388889</td>\n",
              "      <td>0.004673</td>\n",
              "      <td>0.219626</td>\n",
              "      <td>0.224299</td>\n",
              "      <td>0.008145</td>\n",
              "      <td>0.088889</td>\n",
              "    </tr>\n",
              "    <tr>\n",
              "      <th>960372</th>\n",
              "      <td>0.25</td>\n",
              "      <td>0.000000</td>\n",
              "      <td>0.999967</td>\n",
              "      <td>0.166667</td>\n",
              "      <td>0.000000</td>\n",
              "      <td>0.000000</td>\n",
              "      <td>0.224299</td>\n",
              "      <td>0.224299</td>\n",
              "      <td>0.004116</td>\n",
              "      <td>0.311109</td>\n",
              "    </tr>\n",
              "  </tbody>\n",
              "</table>\n",
              "<p>960373 rows × 10 columns</p>\n",
              "</div>"
            ],
            "text/plain": [
              "        outport        vc  ...  packet_count_index  traversal_index\n",
              "0          0.75  0.000000  ...            0.007117         0.000001\n",
              "1          0.75  0.000000  ...            0.011146         0.000000\n",
              "2          0.75  0.000000  ...            0.007117         0.000001\n",
              "3          0.75  0.000000  ...            0.007374         0.000001\n",
              "4          0.75  0.000000  ...            0.022207         0.000001\n",
              "...         ...       ...  ...                 ...              ...\n",
              "960368     1.00  0.181818  ...            0.019206         0.399998\n",
              "960369     1.00  0.181818  ...            0.015691         0.533332\n",
              "960370     1.00  0.181818  ...            0.012004         1.000000\n",
              "960371     1.00  0.272727  ...            0.008145         0.088889\n",
              "960372     0.25  0.000000  ...            0.004116         0.311109\n",
              "\n",
              "[960373 rows x 10 columns]"
            ]
          },
          "metadata": {
            "tags": []
          },
          "execution_count": 21
        }
      ]
    },
    {
      "cell_type": "code",
      "metadata": {
        "colab_type": "code",
        "id": "S6WGL499FBbX",
        "outputId": "e285d562-5627-443d-e35c-39fc0574de1b",
        "colab": {
          "base_uri": "https://localhost:8080/",
          "height": 34
        }
      },
      "source": [
        "train_X[train_X.duplicated()].shape"
      ],
      "execution_count": 22,
      "outputs": [
        {
          "output_type": "execute_result",
          "data": {
            "text/plain": [
              "(4606, 10)"
            ]
          },
          "metadata": {
            "tags": []
          },
          "execution_count": 22
        }
      ]
    },
    {
      "cell_type": "code",
      "metadata": {
        "id": "0BZm1zbDPrjh",
        "colab_type": "code",
        "outputId": "4be42afa-86ce-4ec2-9429-39f0553e8dd0",
        "colab": {
          "base_uri": "https://localhost:8080/",
          "height": 456
        }
      },
      "source": [
        "test_X = df13.drop(columns=['target','timestamp','src_ni','src_router','dst_ni','dst_router','inport','cache_coherence_type','flit_id','flit_type','vnet','current_hop','hop_percentage','port_index','cache_coherence_vnet_index','vnet_vc_cc_index'])\n",
        "test_Y = df13['target']\n",
        "x = test_X.values\n",
        "min_max_scaler = preprocessing.MinMaxScaler()\n",
        "columns = test_X.columns\n",
        "x_scaled = min_max_scaler.fit_transform(x)\n",
        "test_X = pd.DataFrame(x_scaled)\n",
        "test_X.columns = columns\n",
        "print(test_X[test_X.duplicated()].shape)\n",
        "test_X"
      ],
      "execution_count": 23,
      "outputs": [
        {
          "output_type": "stream",
          "text": [
            "(0, 10)\n"
          ],
          "name": "stdout"
        },
        {
          "output_type": "execute_result",
          "data": {
            "text/html": [
              "<div>\n",
              "<style scoped>\n",
              "    .dataframe tbody tr th:only-of-type {\n",
              "        vertical-align: middle;\n",
              "    }\n",
              "\n",
              "    .dataframe tbody tr th {\n",
              "        vertical-align: top;\n",
              "    }\n",
              "\n",
              "    .dataframe thead th {\n",
              "        text-align: right;\n",
              "    }\n",
              "</style>\n",
              "<table border=\"1\" class=\"dataframe\">\n",
              "  <thead>\n",
              "    <tr style=\"text-align: right;\">\n",
              "      <th></th>\n",
              "      <th>outport</th>\n",
              "      <th>vc</th>\n",
              "      <th>traversal_id</th>\n",
              "      <th>hop_count</th>\n",
              "      <th>enqueue_time</th>\n",
              "      <th>packet_count_decr</th>\n",
              "      <th>packet_count_incr</th>\n",
              "      <th>max_packet_count</th>\n",
              "      <th>packet_count_index</th>\n",
              "      <th>traversal_index</th>\n",
              "    </tr>\n",
              "  </thead>\n",
              "  <tbody>\n",
              "    <tr>\n",
              "      <th>0</th>\n",
              "      <td>0.75</td>\n",
              "      <td>0.000000</td>\n",
              "      <td>0.000033</td>\n",
              "      <td>0.2</td>\n",
              "      <td>0.056338</td>\n",
              "      <td>0.429379</td>\n",
              "      <td>0.000000</td>\n",
              "      <td>0.429379</td>\n",
              "      <td>0.009489</td>\n",
              "      <td>0.000001</td>\n",
              "    </tr>\n",
              "    <tr>\n",
              "      <th>1</th>\n",
              "      <td>0.75</td>\n",
              "      <td>0.000000</td>\n",
              "      <td>0.000000</td>\n",
              "      <td>0.8</td>\n",
              "      <td>0.225352</td>\n",
              "      <td>0.423729</td>\n",
              "      <td>0.005650</td>\n",
              "      <td>0.429379</td>\n",
              "      <td>0.018854</td>\n",
              "      <td>0.000000</td>\n",
              "    </tr>\n",
              "    <tr>\n",
              "      <th>2</th>\n",
              "      <td>0.25</td>\n",
              "      <td>0.727273</td>\n",
              "      <td>0.000033</td>\n",
              "      <td>0.2</td>\n",
              "      <td>0.056338</td>\n",
              "      <td>0.418079</td>\n",
              "      <td>0.011299</td>\n",
              "      <td>0.429379</td>\n",
              "      <td>0.027969</td>\n",
              "      <td>0.000001</td>\n",
              "    </tr>\n",
              "    <tr>\n",
              "      <th>3</th>\n",
              "      <td>0.25</td>\n",
              "      <td>0.727273</td>\n",
              "      <td>0.000033</td>\n",
              "      <td>0.2</td>\n",
              "      <td>0.070423</td>\n",
              "      <td>0.412429</td>\n",
              "      <td>0.016949</td>\n",
              "      <td>0.429379</td>\n",
              "      <td>0.036834</td>\n",
              "      <td>0.000015</td>\n",
              "    </tr>\n",
              "    <tr>\n",
              "      <th>4</th>\n",
              "      <td>0.25</td>\n",
              "      <td>0.727273</td>\n",
              "      <td>0.000033</td>\n",
              "      <td>0.2</td>\n",
              "      <td>0.084507</td>\n",
              "      <td>0.406780</td>\n",
              "      <td>0.022599</td>\n",
              "      <td>0.429379</td>\n",
              "      <td>0.045449</td>\n",
              "      <td>0.000024</td>\n",
              "    </tr>\n",
              "    <tr>\n",
              "      <th>...</th>\n",
              "      <td>...</td>\n",
              "      <td>...</td>\n",
              "      <td>...</td>\n",
              "      <td>...</td>\n",
              "      <td>...</td>\n",
              "      <td>...</td>\n",
              "      <td>...</td>\n",
              "      <td>...</td>\n",
              "      <td>...</td>\n",
              "      <td>...</td>\n",
              "    </tr>\n",
              "    <tr>\n",
              "      <th>91732</th>\n",
              "      <td>0.25</td>\n",
              "      <td>0.727273</td>\n",
              "      <td>0.999967</td>\n",
              "      <td>0.2</td>\n",
              "      <td>0.084507</td>\n",
              "      <td>0.022599</td>\n",
              "      <td>0.152542</td>\n",
              "      <td>0.175141</td>\n",
              "      <td>0.017355</td>\n",
              "      <td>0.266744</td>\n",
              "    </tr>\n",
              "    <tr>\n",
              "      <th>91733</th>\n",
              "      <td>0.25</td>\n",
              "      <td>0.727273</td>\n",
              "      <td>0.999967</td>\n",
              "      <td>0.2</td>\n",
              "      <td>0.098592</td>\n",
              "      <td>0.016949</td>\n",
              "      <td>0.158192</td>\n",
              "      <td>0.175141</td>\n",
              "      <td>0.014359</td>\n",
              "      <td>0.355660</td>\n",
              "    </tr>\n",
              "    <tr>\n",
              "      <th>91734</th>\n",
              "      <td>0.25</td>\n",
              "      <td>0.727273</td>\n",
              "      <td>0.999967</td>\n",
              "      <td>0.2</td>\n",
              "      <td>0.154930</td>\n",
              "      <td>0.011299</td>\n",
              "      <td>0.163842</td>\n",
              "      <td>0.175141</td>\n",
              "      <td>0.011112</td>\n",
              "      <td>0.666865</td>\n",
              "    </tr>\n",
              "    <tr>\n",
              "      <th>91735</th>\n",
              "      <td>0.00</td>\n",
              "      <td>0.000000</td>\n",
              "      <td>1.000000</td>\n",
              "      <td>0.0</td>\n",
              "      <td>0.056338</td>\n",
              "      <td>0.005650</td>\n",
              "      <td>0.169492</td>\n",
              "      <td>0.175141</td>\n",
              "      <td>0.007616</td>\n",
              "      <td>0.055571</td>\n",
              "    </tr>\n",
              "    <tr>\n",
              "      <th>91736</th>\n",
              "      <td>0.00</td>\n",
              "      <td>0.000000</td>\n",
              "      <td>1.000000</td>\n",
              "      <td>0.0</td>\n",
              "      <td>0.154930</td>\n",
              "      <td>0.000000</td>\n",
              "      <td>0.175141</td>\n",
              "      <td>0.175141</td>\n",
              "      <td>0.003871</td>\n",
              "      <td>0.222294</td>\n",
              "    </tr>\n",
              "  </tbody>\n",
              "</table>\n",
              "<p>91737 rows × 10 columns</p>\n",
              "</div>"
            ],
            "text/plain": [
              "       outport        vc  ...  packet_count_index  traversal_index\n",
              "0         0.75  0.000000  ...            0.009489         0.000001\n",
              "1         0.75  0.000000  ...            0.018854         0.000000\n",
              "2         0.25  0.727273  ...            0.027969         0.000001\n",
              "3         0.25  0.727273  ...            0.036834         0.000015\n",
              "4         0.25  0.727273  ...            0.045449         0.000024\n",
              "...        ...       ...  ...                 ...              ...\n",
              "91732     0.25  0.727273  ...            0.017355         0.266744\n",
              "91733     0.25  0.727273  ...            0.014359         0.355660\n",
              "91734     0.25  0.727273  ...            0.011112         0.666865\n",
              "91735     0.00  0.000000  ...            0.007616         0.055571\n",
              "91736     0.00  0.000000  ...            0.003871         0.222294\n",
              "\n",
              "[91737 rows x 10 columns]"
            ]
          },
          "metadata": {
            "tags": []
          },
          "execution_count": 23
        }
      ]
    },
    {
      "cell_type": "code",
      "metadata": {
        "id": "6RHIaC_EpHU3",
        "colab_type": "code",
        "outputId": "f9ac0e24-8fb5-4206-96c9-87858153d854",
        "colab": {
          "base_uri": "https://localhost:8080/",
          "height": 34
        }
      },
      "source": [
        "test_X1 = df14.drop(columns=['target','timestamp','src_ni','src_router','dst_ni','dst_router','inport','cache_coherence_type','flit_id','flit_type','vnet','current_hop','hop_percentage','port_index','cache_coherence_vnet_index','vnet_vc_cc_index'])\n",
        "test_Y1 = df14['target']\n",
        "x = test_X1.values\n",
        "min_max_scaler = preprocessing.MinMaxScaler()\n",
        "columns = test_X1.columns\n",
        "x_scaled = min_max_scaler.fit_transform(x)\n",
        "test_X1 = pd.DataFrame(x_scaled)\n",
        "test_X1.columns = columns\n",
        "print(test_X1[test_X1.duplicated()].shape)"
      ],
      "execution_count": 24,
      "outputs": [
        {
          "output_type": "stream",
          "text": [
            "(0, 10)\n"
          ],
          "name": "stdout"
        }
      ]
    },
    {
      "cell_type": "code",
      "metadata": {
        "id": "CcaDu50VpICj",
        "colab_type": "code",
        "outputId": "0b9a2115-684e-4da5-e51c-b5dbd2b4e9cb",
        "colab": {
          "base_uri": "https://localhost:8080/",
          "height": 34
        }
      },
      "source": [
        "test_X2 = df15.drop(columns=['target','timestamp','src_ni','src_router','dst_ni','dst_router','inport','cache_coherence_type','flit_id','flit_type','vnet','current_hop','hop_percentage','port_index','cache_coherence_vnet_index','vnet_vc_cc_index'])\n",
        "test_Y2 = df15['target']\n",
        "x = test_X2.values\n",
        "min_max_scaler = preprocessing.MinMaxScaler()\n",
        "columns = test_X2.columns\n",
        "x_scaled = min_max_scaler.fit_transform(x)\n",
        "test_X2 = pd.DataFrame(x_scaled)\n",
        "test_X2.columns = columns\n",
        "print(test_X2[test_X2.duplicated()].shape)"
      ],
      "execution_count": 25,
      "outputs": [
        {
          "output_type": "stream",
          "text": [
            "(0, 10)\n"
          ],
          "name": "stdout"
        }
      ]
    },
    {
      "cell_type": "code",
      "metadata": {
        "id": "6_CQ1D1DpIgj",
        "colab_type": "code",
        "outputId": "b36b116a-69c8-4fb7-df7b-1341c4e1341d",
        "colab": {
          "base_uri": "https://localhost:8080/",
          "height": 34
        }
      },
      "source": [
        "test_X3 = df16.drop(columns=['target','timestamp','src_ni','src_router','dst_ni','dst_router','inport','cache_coherence_type','flit_id','flit_type','vnet','current_hop','hop_percentage','port_index','cache_coherence_vnet_index','vnet_vc_cc_index'])\n",
        "test_Y3 = df16['target']\n",
        "x = test_X3.values\n",
        "min_max_scaler = preprocessing.MinMaxScaler()\n",
        "columns = test_X3.columns\n",
        "x_scaled = min_max_scaler.fit_transform(x)\n",
        "test_X3 = pd.DataFrame(x_scaled)\n",
        "test_X3.columns = columns\n",
        "print(test_X3[test_X3.duplicated()].shape)"
      ],
      "execution_count": 26,
      "outputs": [
        {
          "output_type": "stream",
          "text": [
            "(0, 10)\n"
          ],
          "name": "stdout"
        }
      ]
    },
    {
      "cell_type": "code",
      "metadata": {
        "id": "yyhSMnXWpI7H",
        "colab_type": "code",
        "outputId": "e371c830-01f2-423b-ad84-8cd95594ee17",
        "colab": {
          "base_uri": "https://localhost:8080/",
          "height": 34
        }
      },
      "source": [
        "test_X4 = df17.drop(columns=['target','timestamp','src_ni','src_router','dst_ni','dst_router','inport','cache_coherence_type','flit_id','flit_type','vnet','current_hop','hop_percentage','port_index','cache_coherence_vnet_index','vnet_vc_cc_index'])\n",
        "test_Y4 = df17['target']\n",
        "x = test_X4.values\n",
        "min_max_scaler = preprocessing.MinMaxScaler()\n",
        "columns = test_X4.columns\n",
        "x_scaled = min_max_scaler.fit_transform(x)\n",
        "test_X4 = pd.DataFrame(x_scaled)\n",
        "test_X4.columns = columns\n",
        "print(test_X4[test_X4.duplicated()].shape)"
      ],
      "execution_count": 27,
      "outputs": [
        {
          "output_type": "stream",
          "text": [
            "(0, 10)\n"
          ],
          "name": "stdout"
        }
      ]
    },
    {
      "cell_type": "code",
      "metadata": {
        "id": "x1L9-vRTpJtX",
        "colab_type": "code",
        "outputId": "0137b72b-110b-4fda-edaf-6bf51b3ba619",
        "colab": {
          "base_uri": "https://localhost:8080/",
          "height": 34
        }
      },
      "source": [
        "test_X5 = df18.drop(columns=['target','timestamp','src_ni','src_router','dst_ni','dst_router','inport','cache_coherence_type','flit_id','flit_type','vnet','current_hop','hop_percentage','port_index','cache_coherence_vnet_index','vnet_vc_cc_index'])\n",
        "test_Y5 = df18['target']\n",
        "x = test_X5.values\n",
        "min_max_scaler = preprocessing.MinMaxScaler()\n",
        "columns = test_X5.columns\n",
        "x_scaled = min_max_scaler.fit_transform(x)\n",
        "test_X5 = pd.DataFrame(x_scaled)\n",
        "test_X5.columns = columns\n",
        "print(test_X5[test_X5.duplicated()].shape)"
      ],
      "execution_count": 28,
      "outputs": [
        {
          "output_type": "stream",
          "text": [
            "(0, 10)\n"
          ],
          "name": "stdout"
        }
      ]
    },
    {
      "cell_type": "code",
      "metadata": {
        "id": "TOO9K9qnpLL_",
        "colab_type": "code",
        "outputId": "e42f3bd5-2053-4f01-b1be-d5ad262b2137",
        "colab": {
          "base_uri": "https://localhost:8080/",
          "height": 34
        }
      },
      "source": [
        "test_X6 = df19.drop(columns=['target','timestamp','src_ni','src_router','dst_ni','dst_router','inport','cache_coherence_type','flit_id','flit_type','vnet','current_hop','hop_percentage','port_index','cache_coherence_vnet_index','vnet_vc_cc_index'])\n",
        "test_Y6 = df19['target']\n",
        "x = test_X6.values\n",
        "min_max_scaler = preprocessing.MinMaxScaler()\n",
        "columns = test_X6.columns\n",
        "x_scaled = min_max_scaler.fit_transform(x)\n",
        "test_X6 = pd.DataFrame(x_scaled)\n",
        "test_X6.columns = columns\n",
        "print(test_X6[test_X6.duplicated()].shape)"
      ],
      "execution_count": 29,
      "outputs": [
        {
          "output_type": "stream",
          "text": [
            "(0, 10)\n"
          ],
          "name": "stdout"
        }
      ]
    },
    {
      "cell_type": "code",
      "metadata": {
        "id": "y2dPb0tOpLxu",
        "colab_type": "code",
        "outputId": "0f4f09cb-e68f-45e3-a482-a4a35ffbf1d7",
        "colab": {
          "base_uri": "https://localhost:8080/",
          "height": 34
        }
      },
      "source": [
        "test_X7 = df20.drop(columns=['target','timestamp','src_ni','src_router','dst_ni','dst_router','inport','cache_coherence_type','flit_id','flit_type','vnet','current_hop','hop_percentage','port_index','cache_coherence_vnet_index','vnet_vc_cc_index'])\n",
        "test_Y7 = df20['target']\n",
        "x = test_X7.values\n",
        "min_max_scaler = preprocessing.MinMaxScaler()\n",
        "columns = test_X7.columns\n",
        "x_scaled = min_max_scaler.fit_transform(x)\n",
        "test_X7 = pd.DataFrame(x_scaled)\n",
        "test_X7.columns = columns\n",
        "print(test_X7[test_X7.duplicated()].shape)"
      ],
      "execution_count": 30,
      "outputs": [
        {
          "output_type": "stream",
          "text": [
            "(0, 10)\n"
          ],
          "name": "stdout"
        }
      ]
    },
    {
      "cell_type": "markdown",
      "metadata": {
        "colab_type": "text",
        "id": "2NUEiEtVHg2h"
      },
      "source": [
        "#### Machine Learning Models"
      ]
    },
    {
      "cell_type": "markdown",
      "metadata": {
        "colab_type": "text",
        "id": "BzgcG2e7hQC8"
      },
      "source": [
        "Module Imports for Data Processing and Report Generation in Machine Learning Models"
      ]
    },
    {
      "cell_type": "code",
      "metadata": {
        "colab_type": "code",
        "id": "wZCWkSvsHg2h",
        "colab": {}
      },
      "source": [
        "from sklearn.model_selection import train_test_split\n",
        "\n",
        "import statsmodels.api as sm\n",
        "from sklearn import metrics\n",
        "\n",
        "from sklearn.metrics import classification_report\n",
        "from sklearn.metrics import confusion_matrix\n",
        "\n",
        "from sklearn.metrics import roc_curve\n",
        "from sklearn.metrics import roc_auc_score\n",
        "from sklearn.metrics import accuracy_score\n",
        "from sklearn.metrics import mean_squared_error"
      ],
      "execution_count": 0,
      "outputs": []
    },
    {
      "cell_type": "markdown",
      "metadata": {
        "colab_type": "text",
        "id": "TWvMTDtHhoex"
      },
      "source": [
        "Labels\n",
        "\n",
        "1.   0 -  malicious\n",
        "2.   1 -  good\n",
        "\n"
      ]
    },
    {
      "cell_type": "code",
      "metadata": {
        "colab_type": "code",
        "id": "Ns6uUJz1G9MD",
        "outputId": "dbd71a16-9f14-41f1-aad3-9fe89547942b",
        "colab": {
          "base_uri": "https://localhost:8080/",
          "height": 68
        }
      },
      "source": [
        "train_Y = df['target']\n",
        "train_Y.value_counts()"
      ],
      "execution_count": 32,
      "outputs": [
        {
          "output_type": "execute_result",
          "data": {
            "text/plain": [
              "0    764969\n",
              "1    195404\n",
              "Name: target, dtype: int64"
            ]
          },
          "metadata": {
            "tags": []
          },
          "execution_count": 32
        }
      ]
    },
    {
      "cell_type": "markdown",
      "metadata": {
        "colab_type": "text",
        "id": "_px-73eUh-05"
      },
      "source": [
        "Training and Validation Splitting of the Dataset"
      ]
    },
    {
      "cell_type": "code",
      "metadata": {
        "colab_type": "code",
        "id": "f9N46sTQHAw4",
        "colab": {}
      },
      "source": [
        "seed = 5\n",
        "np.random.seed(seed)"
      ],
      "execution_count": 0,
      "outputs": []
    },
    {
      "cell_type": "code",
      "metadata": {
        "colab_type": "code",
        "id": "SnHyPPbEHg2i",
        "colab": {}
      },
      "source": [
        "X_train, X_test, y_train, y_test = train_test_split(train_X, train_Y, test_size=0.2, random_state=seed, shuffle=True)"
      ],
      "execution_count": 0,
      "outputs": []
    },
    {
      "cell_type": "markdown",
      "metadata": {
        "colab_type": "text",
        "id": "Fy_oia0XiJNW"
      },
      "source": [
        "Feature Selection"
      ]
    },
    {
      "cell_type": "code",
      "metadata": {
        "colab_type": "code",
        "id": "v10pJaPUfMOd",
        "outputId": "10ac9379-309f-4cab-d0f7-8ce4c03d70ef",
        "colab": {
          "base_uri": "https://localhost:8080/",
          "height": 469
        }
      },
      "source": [
        "#SelectKBest for feature selection\n",
        "bf = SelectKBest(score_func=chi2, k='all')\n",
        "fit = bf.fit(X_train,y_train)\n",
        "dfscores = pd.DataFrame(fit.scores_)\n",
        "dfcolumns = pd.DataFrame(columns)\n",
        "\n",
        "featureScores = pd.concat([dfcolumns,dfscores],axis=1)\n",
        "featureScores.columns = ['Specs','Score'] \n",
        "print(featureScores.nlargest(10,'Score'))\n",
        "featureScores.plot(kind='barh')"
      ],
      "execution_count": 35,
      "outputs": [
        {
          "output_type": "stream",
          "text": [
            "                Specs        Score\n",
            "7    max_packet_count  8254.788949\n",
            "8  packet_count_index  7321.281341\n",
            "2        traversal_id  7141.018767\n",
            "6   packet_count_incr  4130.778659\n",
            "5   packet_count_decr  4124.012761\n",
            "9     traversal_index  2215.237974\n",
            "3           hop_count   709.065206\n",
            "4        enqueue_time    55.596235\n",
            "0             outport    29.488180\n",
            "1                  vc    13.217211\n"
          ],
          "name": "stdout"
        },
        {
          "output_type": "execute_result",
          "data": {
            "text/plain": [
              "<matplotlib.axes._subplots.AxesSubplot at 0x7fd68894acf8>"
            ]
          },
          "metadata": {
            "tags": []
          },
          "execution_count": 35
        },
        {
          "output_type": "display_data",
          "data": {
            "image/png": "[encoded data removed]",
            "text/plain": [
              "<Figure size 432x288 with 1 Axes>"
            ]
          },
          "metadata": {
            "tags": [],
            "needs_background": "light"
          }
        }
      ]
    },
    {
      "cell_type": "markdown",
      "metadata": {
        "colab_type": "text",
        "id": "rnmPuKJF2pdi"
      },
      "source": [
        "Decision Tree Classifier"
      ]
    },
    {
      "cell_type": "code",
      "metadata": {
        "colab_type": "code",
        "id": "biZL4MMmvYmG",
        "colab": {}
      },
      "source": [
        "#decisiontreee\n",
        "from sklearn.tree import DecisionTreeClassifier\n",
        "from sklearn.model_selection import GridSearchCV"
      ],
      "execution_count": 0,
      "outputs": []
    },
    {
      "cell_type": "code",
      "metadata": {
        "colab_type": "code",
        "id": "d3mCR-TiHg2-",
        "outputId": "d99834fb-9c59-4107-91a5-4fe81eb4ca61",
        "colab": {
          "base_uri": "https://localhost:8080/",
          "height": 119
        }
      },
      "source": [
        "dt = DecisionTreeClassifier(max_depth=20,max_features=10,random_state = 42)\n",
        "dt.fit(X_train,y_train)"
      ],
      "execution_count": 37,
      "outputs": [
        {
          "output_type": "execute_result",
          "data": {
            "text/plain": [
              "DecisionTreeClassifier(ccp_alpha=0.0, class_weight=None, criterion='gini',\n",
              "                       max_depth=20, max_features=10, max_leaf_nodes=None,\n",
              "                       min_impurity_decrease=0.0, min_impurity_split=None,\n",
              "                       min_samples_leaf=1, min_samples_split=2,\n",
              "                       min_weight_fraction_leaf=0.0, presort='deprecated',\n",
              "                       random_state=42, splitter='best')"
            ]
          },
          "metadata": {
            "tags": []
          },
          "execution_count": 37
        }
      ]
    },
    {
      "cell_type": "code",
      "metadata": {
        "id": "inQ8gu1OdApz",
        "colab_type": "code",
        "colab": {}
      },
      "source": [
        "pickle.dump(dt, open(\"dt-r11.pickle.dat\", 'wb'))"
      ],
      "execution_count": 0,
      "outputs": []
    },
    {
      "cell_type": "code",
      "metadata": {
        "colab_type": "code",
        "id": "xIIefAL_Hg2_",
        "colab": {}
      },
      "source": [
        "y_pred_dt= dt.predict(X_test)"
      ],
      "execution_count": 0,
      "outputs": []
    },
    {
      "cell_type": "code",
      "metadata": {
        "colab_type": "code",
        "id": "gBahu3DGHg3A",
        "outputId": "82439a3b-4e79-4ae7-f03a-0626c21042d9",
        "colab": {
          "base_uri": "https://localhost:8080/",
          "height": 51
        }
      },
      "source": [
        "dt_score_train = dt.score(X_train,y_train)\n",
        "print(\"Train Prediction Score\",dt_score_train*100)\n",
        "dt_score_test = accuracy_score(y_test,y_pred_dt)\n",
        "print(\"Test Prediction Score\",dt_score_test*100)"
      ],
      "execution_count": 40,
      "outputs": [
        {
          "output_type": "stream",
          "text": [
            "Train Prediction Score 95.08120546975262\n",
            "Test Prediction Score 94.07210724977223\n"
          ],
          "name": "stdout"
        }
      ]
    },
    {
      "cell_type": "code",
      "metadata": {
        "id": "6y9oZRCGhR_7",
        "colab_type": "code",
        "outputId": "a1ffca7e-9e9d-4093-ef06-aba4f68c8a69",
        "colab": {
          "base_uri": "https://localhost:8080/",
          "height": 153
        }
      },
      "source": [
        "y_pred_dt_test= dt.predict(test_X)\n",
        "dt_score_test = accuracy_score(test_Y,y_pred_dt_test)\n",
        "print(\"Test Prediction Score\",dt_score_test*100)\n",
        "y_pred_dt_test= dt.predict(test_X1)\n",
        "dt_score_test = accuracy_score(test_Y1,y_pred_dt_test)\n",
        "print(\"Test Prediction Score\",dt_score_test*100)\n",
        "y_pred_dt_test= dt.predict(test_X2)\n",
        "dt_score_test = accuracy_score(test_Y2,y_pred_dt_test)\n",
        "print(\"Test Prediction Score\",dt_score_test*100)\n",
        "y_pred_dt_test= dt.predict(test_X3)\n",
        "dt_score_test = accuracy_score(test_Y3,y_pred_dt_test)\n",
        "print(\"Test Prediction Score\",dt_score_test*100)\n",
        "y_pred_dt_test= dt.predict(test_X4)\n",
        "dt_score_test = accuracy_score(test_Y4,y_pred_dt_test)\n",
        "print(\"Test Prediction Score\",dt_score_test*100)\n",
        "y_pred_dt_test= dt.predict(test_X5)\n",
        "dt_score_test = accuracy_score(test_Y5,y_pred_dt_test)\n",
        "print(\"Test Prediction Score\",dt_score_test*100)\n",
        "y_pred_dt_test= dt.predict(test_X6)\n",
        "dt_score_test = accuracy_score(test_Y6,y_pred_dt_test)\n",
        "print(\"Test Prediction Score\",dt_score_test*100)\n",
        "y_pred_dt_test= dt.predict(test_X7)\n",
        "dt_score_test = accuracy_score(test_Y7,y_pred_dt_test)\n",
        "print(\"Test Prediction Score\",dt_score_test*100)"
      ],
      "execution_count": 41,
      "outputs": [
        {
          "output_type": "stream",
          "text": [
            "Test Prediction Score 88.97391456010116\n",
            "Test Prediction Score 91.12567311965768\n",
            "Test Prediction Score 89.076956400656\n",
            "Test Prediction Score 89.69521252285192\n",
            "Test Prediction Score 88.70239163392222\n",
            "Test Prediction Score 88.22453151131377\n",
            "Test Prediction Score 89.015843778331\n",
            "Test Prediction Score 89.50707988244724\n"
          ],
          "name": "stdout"
        }
      ]
    },
    {
      "cell_type": "code",
      "metadata": {
        "colab_type": "code",
        "id": "OCAU8YpEfMRD",
        "outputId": "b9f9fcc0-2a1d-4037-d003-6ac8f9a510b9",
        "colab": {
          "base_uri": "https://localhost:8080/",
          "height": 282
        }
      },
      "source": [
        "feat_importances = pd.Series(dt.feature_importances_, index=columns)\n",
        "feat_importances.plot(kind='barh')"
      ],
      "execution_count": 42,
      "outputs": [
        {
          "output_type": "execute_result",
          "data": {
            "text/plain": [
              "<matplotlib.axes._subplots.AxesSubplot at 0x7fd6888aed68>"
            ]
          },
          "metadata": {
            "tags": []
          },
          "execution_count": 42
        },
        {
          "output_type": "display_data",
          "data": {
            "image/png": "[encoded data removed]",
            "text/plain": [
              "<Figure size 432x288 with 1 Axes>"
            ]
          },
          "metadata": {
            "tags": [],
            "needs_background": "light"
          }
        }
      ]
    },
    {
      "cell_type": "code",
      "metadata": {
        "colab_type": "code",
        "id": "5nIhx84-Hg3B",
        "outputId": "b5926d34-4d6d-4576-cbcb-14181c2e7896",
        "colab": {
          "base_uri": "https://localhost:8080/",
          "height": 295
        }
      },
      "source": [
        "cm = confusion_matrix(y_test, y_pred_dt)\n",
        "class_label = [\"Anomalous\", \"Normal\"]\n",
        "df_cm = pd.DataFrame(cm, index=class_label,columns=class_label)\n",
        "sns.heatmap(df_cm, annot=True, fmt='d')\n",
        "plt.title(\"Confusion Matrix\")\n",
        "plt.xlabel(\"Predicted Label\")\n",
        "plt.ylabel(\"True Label\")\n",
        "plt.show()"
      ],
      "execution_count": 43,
      "outputs": [
        {
          "output_type": "display_data",
          "data": {
            "image/png": "[encoded data removed]",
            "text/plain": [
              "<Figure size 432x288 with 2 Axes>"
            ]
          },
          "metadata": {
            "tags": [],
            "needs_background": "light"
          }
        }
      ]
    },
    {
      "cell_type": "code",
      "metadata": {
        "colab_type": "code",
        "id": "xGqt7wigHg3B",
        "outputId": "dadb0b88-b2a9-4fb8-d4a8-27b470b65ade",
        "colab": {
          "base_uri": "https://localhost:8080/",
          "height": 170
        }
      },
      "source": [
        "print(classification_report(y_test,y_pred_dt))"
      ],
      "execution_count": 44,
      "outputs": [
        {
          "output_type": "stream",
          "text": [
            "              precision    recall  f1-score   support\n",
            "\n",
            "           0       0.95      0.97      0.96    152883\n",
            "           1       0.88      0.82      0.85     39192\n",
            "\n",
            "    accuracy                           0.94    192075\n",
            "   macro avg       0.92      0.90      0.91    192075\n",
            "weighted avg       0.94      0.94      0.94    192075\n",
            "\n"
          ],
          "name": "stdout"
        }
      ]
    },
    {
      "cell_type": "code",
      "metadata": {
        "colab_type": "code",
        "id": "wkWUUjGmHg3C",
        "outputId": "8cdb50cc-28c0-444a-acfc-cbcb8b6e7c23",
        "colab": {
          "base_uri": "https://localhost:8080/",
          "height": 295
        }
      },
      "source": [
        "dt_roc_auc = roc_auc_score(y_test, y_pred_dt)\n",
        "fpr, tpr, thresholds = roc_curve(y_test, dt.predict_proba(X_test)[:,1])\n",
        "plt.figure()\n",
        "plt.plot(fpr, tpr, label='DTree (area = %0.2f)' % dt_roc_auc)\n",
        "plt.plot([0, 1], [0, 1],'r--')\n",
        "plt.xlim([0.0, 1.0])\n",
        "plt.ylim([0.0, 1.05])\n",
        "plt.xlabel('False Positive Rate')\n",
        "plt.ylabel('True Positive Rate')\n",
        "plt.title('Receiver operating characteristic')\n",
        "plt.legend(loc=\"lower right\")\n",
        "plt.savefig('DT_ROC')\n",
        "plt.show()"
      ],
      "execution_count": 45,
      "outputs": [
        {
          "output_type": "display_data",
          "data": {
            "image/png": "[encoded data removed]",
            "text/plain": [
              "<Figure size 432x288 with 1 Axes>"
            ]
          },
          "metadata": {
            "tags": [],
            "needs_background": "light"
          }
        }
      ]
    },
    {
      "cell_type": "markdown",
      "metadata": {
        "id": "fXmBo6f1Hg3J",
        "colab_type": "text"
      },
      "source": [
        "XGB Classifier"
      ]
    },
    {
      "cell_type": "code",
      "metadata": {
        "id": "nE2alWP-ejv9",
        "colab_type": "code",
        "colab": {}
      },
      "source": [
        "from xgboost import XGBClassifier\n",
        "from xgboost import plot_importance"
      ],
      "execution_count": 0,
      "outputs": []
    },
    {
      "cell_type": "code",
      "metadata": {
        "colab_type": "code",
        "id": "JBwo0_BWHg3K",
        "outputId": "38d216fb-c8de-4818-d578-e66effcd3531",
        "colab": {
          "base_uri": "https://localhost:8080/",
          "height": 136
        }
      },
      "source": [
        "xgbc = XGBClassifier(max_depth=20,min_child_weight=1,n_estimators=500,random_state=42,learning_rate=0.2)\n",
        "xgbc.fit(X_train,y_train)"
      ],
      "execution_count": 47,
      "outputs": [
        {
          "output_type": "execute_result",
          "data": {
            "text/plain": [
              "XGBClassifier(base_score=0.5, booster='gbtree', colsample_bylevel=1,\n",
              "              colsample_bynode=1, colsample_bytree=1, gamma=0,\n",
              "              learning_rate=0.2, max_delta_step=0, max_depth=20,\n",
              "              min_child_weight=1, missing=None, n_estimators=500, n_jobs=1,\n",
              "              nthread=None, objective='binary:logistic', random_state=42,\n",
              "              reg_alpha=0, reg_lambda=1, scale_pos_weight=1, seed=None,\n",
              "              silent=None, subsample=1, verbosity=1)"
            ]
          },
          "metadata": {
            "tags": []
          },
          "execution_count": 47
        }
      ]
    },
    {
      "cell_type": "code",
      "metadata": {
        "id": "1mA3luB2uPQG",
        "colab_type": "code",
        "colab": {}
      },
      "source": [
        "pickle.dump(xgbc, open(\"xgbc-r11l.pickle.dat\", 'wb'))"
      ],
      "execution_count": 0,
      "outputs": []
    },
    {
      "cell_type": "code",
      "metadata": {
        "colab_type": "code",
        "id": "prz2UBF8Hg3L",
        "colab": {}
      },
      "source": [
        "y_pred_xgbc= xgbc.predict(X_test)"
      ],
      "execution_count": 0,
      "outputs": []
    },
    {
      "cell_type": "code",
      "metadata": {
        "colab_type": "code",
        "id": "tFKQ1bq8Hg3L",
        "outputId": "e2980100-ab1d-4bca-a49a-1ec991c33803",
        "colab": {
          "base_uri": "https://localhost:8080/",
          "height": 51
        }
      },
      "source": [
        "xgbc_score_train = xgbc.score(X_train,y_train)\n",
        "print(\"Train Prediction Score\",xgbc_score_train*100)\n",
        "xgbc_score_test = accuracy_score(y_test,y_pred_xgbc)\n",
        "print(\"Test Prediction Score\",xgbc_score_test*100)"
      ],
      "execution_count": 50,
      "outputs": [
        {
          "output_type": "stream",
          "text": [
            "Train Prediction Score 99.9772223798578\n",
            "Test Prediction Score 99.64701288559156\n"
          ],
          "name": "stdout"
        }
      ]
    },
    {
      "cell_type": "code",
      "metadata": {
        "id": "Z6hKTv8gopF3",
        "colab_type": "code",
        "outputId": "b5dcfeb7-5efd-4f3d-814e-be14a04eec75",
        "colab": {
          "base_uri": "https://localhost:8080/",
          "height": 153
        }
      },
      "source": [
        "y_pred_xgbc_test= xgbc.predict(test_X)\n",
        "xgbc_score_test = accuracy_score(test_Y,y_pred_xgbc_test)\n",
        "print(\"Test Prediction Score\",xgbc_score_test*100)\n",
        "y_pred_xgbc_test= xgbc.predict(test_X1)\n",
        "xgbc_score_test = accuracy_score(test_Y1,y_pred_xgbc_test)\n",
        "print(\"Test Prediction Score\",xgbc_score_test*100)\n",
        "y_pred_xgbc_test= xgbc.predict(test_X2)\n",
        "xgbc_score_test = accuracy_score(test_Y2,y_pred_xgbc_test)\n",
        "print(\"Test Prediction Score\",xgbc_score_test*100)\n",
        "y_pred_xgbc_test= xgbc.predict(test_X3)\n",
        "xgbc_score_test = accuracy_score(test_Y3,y_pred_xgbc_test)\n",
        "print(\"Test Prediction Score\",xgbc_score_test*100)\n",
        "y_pred_xgbc_test= xgbc.predict(test_X4)\n",
        "xgbc_score_test = accuracy_score(test_Y4,y_pred_xgbc_test)\n",
        "print(\"Test Prediction Score\",xgbc_score_test*100)\n",
        "y_pred_xgbc_test= xgbc.predict(test_X5)\n",
        "xgbc_score_test = accuracy_score(test_Y5,y_pred_xgbc_test)\n",
        "print(\"Test Prediction Score\",xgbc_score_test*100)\n",
        "y_pred_xgbc_test= xgbc.predict(test_X6)\n",
        "xgbc_score_test = accuracy_score(test_Y6,y_pred_xgbc_test)\n",
        "print(\"Test Prediction Score\",xgbc_score_test*100)\n",
        "y_pred_xgbc_test= xgbc.predict(test_X7)\n",
        "xgbc_score_test = accuracy_score(test_Y7,y_pred_xgbc_test)\n",
        "print(\"Test Prediction Score\",xgbc_score_test*100)"
      ],
      "execution_count": 51,
      "outputs": [
        {
          "output_type": "stream",
          "text": [
            "Test Prediction Score 92.48721889750047\n",
            "Test Prediction Score 94.61194199543156\n",
            "Test Prediction Score 91.47507503790575\n",
            "Test Prediction Score 93.45006855575868\n",
            "Test Prediction Score 91.75303981931252\n",
            "Test Prediction Score 93.50905530382082\n",
            "Test Prediction Score 91.31686117626742\n",
            "Test Prediction Score 93.3395671920919\n"
          ],
          "name": "stdout"
        }
      ]
    },
    {
      "cell_type": "code",
      "metadata": {
        "colab_type": "code",
        "id": "t-zwHWP_fMR_",
        "outputId": "b9b989ad-a1aa-4922-911e-89ebeefda6c1",
        "colab": {
          "base_uri": "https://localhost:8080/",
          "height": 295
        }
      },
      "source": [
        "plot_importance(xgbc)\n",
        "plt.show()"
      ],
      "execution_count": 52,
      "outputs": [
        {
          "output_type": "display_data",
          "data": {
            "image/png": "[encoded data removed]",
            "text/plain": [
              "<Figure size 432x288 with 1 Axes>"
            ]
          },
          "metadata": {
            "tags": [],
            "needs_background": "light"
          }
        }
      ]
    },
    {
      "cell_type": "code",
      "metadata": {
        "colab_type": "code",
        "id": "9OVtiUmaHg3M",
        "outputId": "ac179d38-d88b-4d01-a831-00bf3950f70e",
        "colab": {
          "base_uri": "https://localhost:8080/",
          "height": 295
        }
      },
      "source": [
        "cm = confusion_matrix(y_test, y_pred_xgbc)\n",
        "class_label = [\"Anomalous\", \"Normal\"]\n",
        "df_cm = pd.DataFrame(cm, index=class_label,columns=class_label)\n",
        "sns.heatmap(df_cm, annot=True, fmt='d')\n",
        "plt.title(\"Confusion Matrix\")\n",
        "plt.xlabel(\"Predicted Label\")\n",
        "plt.ylabel(\"True Label\")\n",
        "plt.show()"
      ],
      "execution_count": 53,
      "outputs": [
        {
          "output_type": "display_data",
          "data": {
            "image/png": "[encoded data removed]",
            "text/plain": [
              "<Figure size 432x288 with 2 Axes>"
            ]
          },
          "metadata": {
            "tags": [],
            "needs_background": "light"
          }
        }
      ]
    },
    {
      "cell_type": "code",
      "metadata": {
        "colab_type": "code",
        "id": "gAx5bI8BHg3M",
        "outputId": "9e8dfd10-2d91-4cad-f431-727dd4582a4b",
        "colab": {
          "base_uri": "https://localhost:8080/",
          "height": 170
        }
      },
      "source": [
        "print(classification_report(y_test,y_pred_xgbc))"
      ],
      "execution_count": 54,
      "outputs": [
        {
          "output_type": "stream",
          "text": [
            "              precision    recall  f1-score   support\n",
            "\n",
            "           0       1.00      1.00      1.00    152883\n",
            "           1       0.99      0.99      0.99     39192\n",
            "\n",
            "    accuracy                           1.00    192075\n",
            "   macro avg       1.00      0.99      0.99    192075\n",
            "weighted avg       1.00      1.00      1.00    192075\n",
            "\n"
          ],
          "name": "stdout"
        }
      ]
    },
    {
      "cell_type": "code",
      "metadata": {
        "colab_type": "code",
        "id": "LqPGLNKQHg3N",
        "outputId": "ae2e98c5-6595-4a37-e4b8-872fd1cd9caf",
        "colab": {
          "base_uri": "https://localhost:8080/",
          "height": 295
        }
      },
      "source": [
        "xgb_roc_auc = roc_auc_score(y_test, y_pred_xgbc)\n",
        "fpr, tpr, thresholds = roc_curve(y_test, xgbc.predict_proba(X_test)[:,1])\n",
        "plt.figure()\n",
        "plt.plot(fpr, tpr, label='XGBoost (area = %0.2f)' % xgb_roc_auc)\n",
        "plt.plot([0, 1], [0, 1],'r--')\n",
        "plt.xlim([0.0, 1.0])\n",
        "plt.ylim([0.0, 1.05])\n",
        "plt.xlabel('False Positive Rate')\n",
        "plt.ylabel('True Positive Rate')\n",
        "plt.title('Receiver operating characteristic')\n",
        "plt.legend(loc=\"lower right\")\n",
        "plt.savefig('XGB_ROC')\n",
        "plt.show()"
      ],
      "execution_count": 55,
      "outputs": [
        {
          "output_type": "display_data",
          "data": {
            "image/png": "[encoded data removed]",
            "text/plain": [
              "<Figure size 432x288 with 1 Axes>"
            ]
          },
          "metadata": {
            "tags": [],
            "needs_background": "light"
          }
        }
      ]
    }
  ]
}