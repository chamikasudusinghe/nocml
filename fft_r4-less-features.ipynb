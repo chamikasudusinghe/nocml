{
  "nbformat": 4,
  "nbformat_minor": 0,
  "metadata": {
    "accelerator": "TPU",
    "colab": {
      "name": "fft-r4.ipynb",
      "provenance": [],
      "collapsed_sections": [],
      "toc_visible": true,
      "include_colab_link": true
    },
    "kernelspec": {
      "display_name": "Python 3",
      "language": "python",
      "name": "python3"
    },
    "language_info": {
      "codemirror_mode": {
        "name": "ipython",
        "version": 3
      },
      "file_extension": ".py",
      "mimetype": "text/x-python",
      "name": "python",
      "nbconvert_exporter": "python",
      "pygments_lexer": "ipython3",
      "version": "3.7.4"
    }
  },
  "cells": [
    {
      "cell_type": "markdown",
      "metadata": {
        "id": "view-in-github",
        "colab_type": "text"
      },
      "source": [
        "<a href=\"https://colab.research.google.com/github/chamikasudusinghe/nocml/blob/master/fft_r4-less-features.ipynb\" target=\"_parent\"><img src=\"https://colab.research.google.com/assets/colab-badge.svg\" alt=\"Open In Colab\"/></a>"
      ]
    },
    {
      "cell_type": "markdown",
      "metadata": {
        "colab_type": "text",
        "id": "sFmit6AlgLJZ"
      },
      "source": [
        "Module Imports for Data Fetiching and Visualization\n",
        "\n"
      ]
    },
    {
      "cell_type": "code",
      "metadata": {
        "colab_type": "code",
        "id": "k-c4z9vpHg1z",
        "colab": {
          "base_uri": "https://localhost:8080/",
          "height": 71
        },
        "outputId": "ef3344bc-62ed-484e-b565-7b16afd8ca70"
      },
      "source": [
        "import time\n",
        "import pandas as pd\n",
        "import numpy as np\n",
        "%matplotlib inline\n",
        "import matplotlib.pyplot as plt\n",
        "import seaborn as sns"
      ],
      "execution_count": 1,
      "outputs": [
        {
          "output_type": "stream",
          "text": [
            "/usr/local/lib/python3.6/dist-packages/statsmodels/tools/_testing.py:19: FutureWarning: pandas.util.testing is deprecated. Use the functions in the public API at pandas.testing instead.\n",
            "  import pandas.util.testing as tm\n"
          ],
          "name": "stderr"
        }
      ]
    },
    {
      "cell_type": "markdown",
      "metadata": {
        "colab_type": "text",
        "id": "wY7RDDLBgdMs"
      },
      "source": [
        "Module Imports for Data Processing"
      ]
    },
    {
      "cell_type": "code",
      "metadata": {
        "colab_type": "code",
        "id": "zhZHRUXxHg13",
        "colab": {}
      },
      "source": [
        "from sklearn import preprocessing\n",
        "from sklearn.feature_selection import SelectKBest\n",
        "from sklearn.feature_selection import chi2\n",
        "import pickle"
      ],
      "execution_count": 0,
      "outputs": []
    },
    {
      "cell_type": "markdown",
      "metadata": {
        "colab_type": "text",
        "id": "GEH4mU3Tghd8"
      },
      "source": [
        "Importing Dataset from GitHub"
      ]
    },
    {
      "cell_type": "markdown",
      "metadata": {
        "id": "q9-4lGZ6NMSt",
        "colab_type": "text"
      },
      "source": [
        "Train Data"
      ]
    },
    {
      "cell_type": "code",
      "metadata": {
        "id": "NblOX7-5PrjB",
        "colab_type": "code",
        "colab": {}
      },
      "source": [
        "df1 = pd.read_csv('https://raw.githubusercontent.com/chamikasudusinghe/nocml/master/dos%20results%20ver%204/router-dataset/r4/2-fft-malicious-n-0-15-m-1-r4.csv?token=AKVFSOE5TRYEHQB5LGEPJO263INLO')\n",
        "df2 = pd.read_csv('https://raw.githubusercontent.com/chamikasudusinghe/nocml/master/dos%20results%20ver%204/router-dataset/r4/2-fft-malicious-n-0-15-m-11-r4.csv?token=AKVFSOGGFTANMBL73NT4MQS63INLS')\n",
        "\n",
        "df3 = pd.read_csv('https://raw.githubusercontent.com/chamikasudusinghe/nocml/master/dos%20results%20ver%204/router-dataset/r4/2-fft-malicious-n-0-4-m-1-r4.csv?token=AKVFSOBYXFJC236HHYDQJQS63INLU')\n",
        "df4 = pd.read_csv('https://raw.githubusercontent.com/chamikasudusinghe/nocml/master/dos%20results%20ver%204/router-dataset/r4/2-fft-malicious-n-0-4-m-11-r4.csv?token=AKVFSOEPPYWLZHJ236KIQR263INLY')\n",
        "\n",
        "df5 = pd.read_csv('https://raw.githubusercontent.com/chamikasudusinghe/nocml/master/dos%20results%20ver%204/router-dataset/r4/2-fft-malicious-n-0-6-m-1-r4.csv?token=AKVFSOFQQNWGS4UE7KYMFB263INL6')\n",
        "df6 = pd.read_csv('https://raw.githubusercontent.com/chamikasudusinghe/nocml/master/dos%20results%20ver%204/router-dataset/r4/2-fft-malicious-n-0-6-m-11-r4.csv?token=AKVFSOGXODHSTMM4EGKQHAS63INME')\n",
        "\n",
        "df7 = pd.read_csv('https://raw.githubusercontent.com/chamikasudusinghe/nocml/master/dos%20results%20ver%204/router-dataset/r4/2-fft-malicious-n-0-9-m-1-r4.csv?token=AKVFSOCARPYMVPVWWPP2UN263INMI')\n",
        "df8 = pd.read_csv('https://raw.githubusercontent.com/chamikasudusinghe/nocml/master/dos%20results%20ver%204/router-dataset/r4/2-fft-malicious-n-0-9-m-11-r4.csv?token=AKVFSOFLDZUEOQCG5HVOKF263INMQ')\n",
        "\n",
        "df9 = pd.read_csv('https://raw.githubusercontent.com/chamikasudusinghe/nocml/master/dos%20results%20ver%204/router-dataset/r4/2-fft-normal-n-0-15-r4.csv?token=AKVFSOCRF7VQ65UPET5B2NS63INMS')\n",
        "df10 = pd.read_csv('https://raw.githubusercontent.com/chamikasudusinghe/nocml/master/dos%20results%20ver%204/router-dataset/r4/2-fft-normal-n-0-4-r4.csv?token=AKVFSOBUFF57HNEVIT2QJJS63INMW')\n",
        "df11 = pd.read_csv('https://raw.githubusercontent.com/chamikasudusinghe/nocml/master/dos%20results%20ver%204/router-dataset/r4/2-fft-normal-n-0-6-r4.csv?token=AKVFSOHO6HNPKNOVPWLVOJ263INM4')\n",
        "df12 = pd.read_csv('https://raw.githubusercontent.com/chamikasudusinghe/nocml/master/dos%20results%20ver%204/router-dataset/r4/2-fft-normal-n-0-9-r4.csv?token=AKVFSODWMDN2YLTP52YICSC63INNA')"
      ],
      "execution_count": 0,
      "outputs": []
    },
    {
      "cell_type": "code",
      "metadata": {
        "id": "YtODRV2NPem1",
        "colab_type": "code",
        "outputId": "0ef702cc-f8c6-4543-f664-1ce412c2838e",
        "colab": {
          "base_uri": "https://localhost:8080/",
          "height": 221
        }
      },
      "source": [
        "print(df1.shape)\n",
        "print(df2.shape)\n",
        "print(df3.shape)\n",
        "print(df4.shape)\n",
        "print(df5.shape)\n",
        "print(df6.shape)\n",
        "print(df7.shape)\n",
        "print(df8.shape)\n",
        "print(df9.shape)\n",
        "print(df10.shape)\n",
        "print(df11.shape)\n",
        "print(df12.shape)"
      ],
      "execution_count": 4,
      "outputs": [
        {
          "output_type": "stream",
          "text": [
            "(101735, 26)\n",
            "(100063, 26)\n",
            "(151694, 26)\n",
            "(149982, 26)\n",
            "(105348, 26)\n",
            "(103725, 26)\n",
            "(101922, 26)\n",
            "(100166, 26)\n",
            "(74341, 26)\n",
            "(124078, 26)\n",
            "(78023, 26)\n",
            "(74548, 26)\n"
          ],
          "name": "stdout"
        }
      ]
    },
    {
      "cell_type": "code",
      "metadata": {
        "id": "9L0CwK80NgDG",
        "colab_type": "code",
        "colab": {}
      },
      "source": [
        "df = df1.append(df2, ignore_index=True,sort=False)\n",
        "df = df.append(df3, ignore_index=True,sort=False)\n",
        "df = df.append(df4, ignore_index=True,sort=False)\n",
        "df = df.append(df5, ignore_index=True,sort=False)\n",
        "df = df.append(df6, ignore_index=True,sort=False)\n",
        "df = df.append(df7, ignore_index=True,sort=False)\n",
        "df = df.append(df8, ignore_index=True,sort=False)\n",
        "df = df.append(df9, ignore_index=True,sort=False)\n",
        "df = df.append(df10, ignore_index=True,sort=False)\n",
        "df = df.append(df11, ignore_index=True,sort=False)\n",
        "df = df.append(df12, ignore_index=True,sort=False)\n",
        "\n",
        "df = df.sort_values('timestamp')\n",
        "df.to_csv('fft-r4-train.csv',index=False)"
      ],
      "execution_count": 0,
      "outputs": []
    },
    {
      "cell_type": "code",
      "metadata": {
        "id": "tovtj_19OeCa",
        "colab_type": "code",
        "outputId": "7295e611-0cdf-41a2-ea39-94b20c3f1fb6",
        "colab": {
          "base_uri": "https://localhost:8080/",
          "height": 439
        }
      },
      "source": [
        "df = pd.read_csv('fft-r4-train.csv')\n",
        "df"
      ],
      "execution_count": 6,
      "outputs": [
        {
          "output_type": "execute_result",
          "data": {
            "text/html": [
              "<div>\n",
              "<style scoped>\n",
              "    .dataframe tbody tr th:only-of-type {\n",
              "        vertical-align: middle;\n",
              "    }\n",
              "\n",
              "    .dataframe tbody tr th {\n",
              "        vertical-align: top;\n",
              "    }\n",
              "\n",
              "    .dataframe thead th {\n",
              "        text-align: right;\n",
              "    }\n",
              "</style>\n",
              "<table border=\"1\" class=\"dataframe\">\n",
              "  <thead>\n",
              "    <tr style=\"text-align: right;\">\n",
              "      <th></th>\n",
              "      <th>timestamp</th>\n",
              "      <th>outport</th>\n",
              "      <th>inport</th>\n",
              "      <th>cache_coherence_type</th>\n",
              "      <th>flit_id</th>\n",
              "      <th>flit_type</th>\n",
              "      <th>vnet</th>\n",
              "      <th>vc</th>\n",
              "      <th>src_ni</th>\n",
              "      <th>src_router</th>\n",
              "      <th>dst_ni</th>\n",
              "      <th>dst_router</th>\n",
              "      <th>traversal_id</th>\n",
              "      <th>hop_count</th>\n",
              "      <th>current_hop</th>\n",
              "      <th>hop_percentage</th>\n",
              "      <th>enqueue_time</th>\n",
              "      <th>packet_count_decr</th>\n",
              "      <th>packet_count_incr</th>\n",
              "      <th>max_packet_count</th>\n",
              "      <th>packet_count_index</th>\n",
              "      <th>port_index</th>\n",
              "      <th>traversal_index</th>\n",
              "      <th>cache_coherence_vnet_index</th>\n",
              "      <th>vnet_vc_cc_index</th>\n",
              "      <th>target</th>\n",
              "    </tr>\n",
              "  </thead>\n",
              "  <tbody>\n",
              "    <tr>\n",
              "      <th>0</th>\n",
              "      <td>7</td>\n",
              "      <td>2</td>\n",
              "      <td>0</td>\n",
              "      <td>1</td>\n",
              "      <td>1</td>\n",
              "      <td>4</td>\n",
              "      <td>3</td>\n",
              "      <td>9</td>\n",
              "      <td>4</td>\n",
              "      <td>4</td>\n",
              "      <td>23</td>\n",
              "      <td>7</td>\n",
              "      <td>2</td>\n",
              "      <td>3</td>\n",
              "      <td>0</td>\n",
              "      <td>0.0</td>\n",
              "      <td>4</td>\n",
              "      <td>129</td>\n",
              "      <td>1</td>\n",
              "      <td>129</td>\n",
              "      <td>129</td>\n",
              "      <td>0</td>\n",
              "      <td>8</td>\n",
              "      <td>3</td>\n",
              "      <td>27</td>\n",
              "      <td>0</td>\n",
              "    </tr>\n",
              "    <tr>\n",
              "      <th>1</th>\n",
              "      <td>7</td>\n",
              "      <td>2</td>\n",
              "      <td>0</td>\n",
              "      <td>1</td>\n",
              "      <td>1</td>\n",
              "      <td>4</td>\n",
              "      <td>3</td>\n",
              "      <td>9</td>\n",
              "      <td>4</td>\n",
              "      <td>4</td>\n",
              "      <td>23</td>\n",
              "      <td>7</td>\n",
              "      <td>2</td>\n",
              "      <td>3</td>\n",
              "      <td>0</td>\n",
              "      <td>0.0</td>\n",
              "      <td>4</td>\n",
              "      <td>115</td>\n",
              "      <td>1</td>\n",
              "      <td>115</td>\n",
              "      <td>115</td>\n",
              "      <td>0</td>\n",
              "      <td>8</td>\n",
              "      <td>3</td>\n",
              "      <td>27</td>\n",
              "      <td>1</td>\n",
              "    </tr>\n",
              "    <tr>\n",
              "      <th>2</th>\n",
              "      <td>7</td>\n",
              "      <td>2</td>\n",
              "      <td>0</td>\n",
              "      <td>1</td>\n",
              "      <td>1</td>\n",
              "      <td>4</td>\n",
              "      <td>3</td>\n",
              "      <td>9</td>\n",
              "      <td>4</td>\n",
              "      <td>4</td>\n",
              "      <td>23</td>\n",
              "      <td>7</td>\n",
              "      <td>3</td>\n",
              "      <td>3</td>\n",
              "      <td>0</td>\n",
              "      <td>0.0</td>\n",
              "      <td>4</td>\n",
              "      <td>129</td>\n",
              "      <td>1</td>\n",
              "      <td>129</td>\n",
              "      <td>129</td>\n",
              "      <td>0</td>\n",
              "      <td>12</td>\n",
              "      <td>3</td>\n",
              "      <td>27</td>\n",
              "      <td>0</td>\n",
              "    </tr>\n",
              "    <tr>\n",
              "      <th>3</th>\n",
              "      <td>70</td>\n",
              "      <td>0</td>\n",
              "      <td>2</td>\n",
              "      <td>4</td>\n",
              "      <td>1</td>\n",
              "      <td>1</td>\n",
              "      <td>5</td>\n",
              "      <td>17</td>\n",
              "      <td>23</td>\n",
              "      <td>7</td>\n",
              "      <td>4</td>\n",
              "      <td>4</td>\n",
              "      <td>2</td>\n",
              "      <td>3</td>\n",
              "      <td>3</td>\n",
              "      <td>1.0</td>\n",
              "      <td>16</td>\n",
              "      <td>114</td>\n",
              "      <td>2</td>\n",
              "      <td>115</td>\n",
              "      <td>228</td>\n",
              "      <td>0</td>\n",
              "      <td>8</td>\n",
              "      <td>20</td>\n",
              "      <td>340</td>\n",
              "      <td>1</td>\n",
              "    </tr>\n",
              "    <tr>\n",
              "      <th>4</th>\n",
              "      <td>71</td>\n",
              "      <td>0</td>\n",
              "      <td>2</td>\n",
              "      <td>4</td>\n",
              "      <td>2</td>\n",
              "      <td>2</td>\n",
              "      <td>5</td>\n",
              "      <td>17</td>\n",
              "      <td>23</td>\n",
              "      <td>7</td>\n",
              "      <td>4</td>\n",
              "      <td>4</td>\n",
              "      <td>2</td>\n",
              "      <td>3</td>\n",
              "      <td>3</td>\n",
              "      <td>1.0</td>\n",
              "      <td>17</td>\n",
              "      <td>113</td>\n",
              "      <td>3</td>\n",
              "      <td>115</td>\n",
              "      <td>339</td>\n",
              "      <td>0</td>\n",
              "      <td>32</td>\n",
              "      <td>20</td>\n",
              "      <td>340</td>\n",
              "      <td>1</td>\n",
              "    </tr>\n",
              "    <tr>\n",
              "      <th>...</th>\n",
              "      <td>...</td>\n",
              "      <td>...</td>\n",
              "      <td>...</td>\n",
              "      <td>...</td>\n",
              "      <td>...</td>\n",
              "      <td>...</td>\n",
              "      <td>...</td>\n",
              "      <td>...</td>\n",
              "      <td>...</td>\n",
              "      <td>...</td>\n",
              "      <td>...</td>\n",
              "      <td>...</td>\n",
              "      <td>...</td>\n",
              "      <td>...</td>\n",
              "      <td>...</td>\n",
              "      <td>...</td>\n",
              "      <td>...</td>\n",
              "      <td>...</td>\n",
              "      <td>...</td>\n",
              "      <td>...</td>\n",
              "      <td>...</td>\n",
              "      <td>...</td>\n",
              "      <td>...</td>\n",
              "      <td>...</td>\n",
              "      <td>...</td>\n",
              "      <td>...</td>\n",
              "    </tr>\n",
              "    <tr>\n",
              "      <th>1265620</th>\n",
              "      <td>3276593</td>\n",
              "      <td>2</td>\n",
              "      <td>0</td>\n",
              "      <td>4</td>\n",
              "      <td>2</td>\n",
              "      <td>2</td>\n",
              "      <td>5</td>\n",
              "      <td>19</td>\n",
              "      <td>20</td>\n",
              "      <td>4</td>\n",
              "      <td>15</td>\n",
              "      <td>15</td>\n",
              "      <td>30092</td>\n",
              "      <td>5</td>\n",
              "      <td>0</td>\n",
              "      <td>0.0</td>\n",
              "      <td>5</td>\n",
              "      <td>5</td>\n",
              "      <td>20</td>\n",
              "      <td>24</td>\n",
              "      <td>100</td>\n",
              "      <td>0</td>\n",
              "      <td>481472</td>\n",
              "      <td>20</td>\n",
              "      <td>380</td>\n",
              "      <td>0</td>\n",
              "    </tr>\n",
              "    <tr>\n",
              "      <th>1265621</th>\n",
              "      <td>3276594</td>\n",
              "      <td>2</td>\n",
              "      <td>0</td>\n",
              "      <td>4</td>\n",
              "      <td>3</td>\n",
              "      <td>2</td>\n",
              "      <td>5</td>\n",
              "      <td>19</td>\n",
              "      <td>20</td>\n",
              "      <td>4</td>\n",
              "      <td>15</td>\n",
              "      <td>15</td>\n",
              "      <td>30092</td>\n",
              "      <td>5</td>\n",
              "      <td>0</td>\n",
              "      <td>0.0</td>\n",
              "      <td>6</td>\n",
              "      <td>4</td>\n",
              "      <td>21</td>\n",
              "      <td>24</td>\n",
              "      <td>84</td>\n",
              "      <td>0</td>\n",
              "      <td>722208</td>\n",
              "      <td>20</td>\n",
              "      <td>380</td>\n",
              "      <td>0</td>\n",
              "    </tr>\n",
              "    <tr>\n",
              "      <th>1265622</th>\n",
              "      <td>3276595</td>\n",
              "      <td>2</td>\n",
              "      <td>0</td>\n",
              "      <td>4</td>\n",
              "      <td>4</td>\n",
              "      <td>2</td>\n",
              "      <td>5</td>\n",
              "      <td>19</td>\n",
              "      <td>20</td>\n",
              "      <td>4</td>\n",
              "      <td>15</td>\n",
              "      <td>15</td>\n",
              "      <td>30092</td>\n",
              "      <td>5</td>\n",
              "      <td>0</td>\n",
              "      <td>0.0</td>\n",
              "      <td>7</td>\n",
              "      <td>3</td>\n",
              "      <td>22</td>\n",
              "      <td>24</td>\n",
              "      <td>66</td>\n",
              "      <td>0</td>\n",
              "      <td>962944</td>\n",
              "      <td>20</td>\n",
              "      <td>380</td>\n",
              "      <td>0</td>\n",
              "    </tr>\n",
              "    <tr>\n",
              "      <th>1265623</th>\n",
              "      <td>3276596</td>\n",
              "      <td>2</td>\n",
              "      <td>0</td>\n",
              "      <td>3</td>\n",
              "      <td>1</td>\n",
              "      <td>4</td>\n",
              "      <td>3</td>\n",
              "      <td>10</td>\n",
              "      <td>20</td>\n",
              "      <td>4</td>\n",
              "      <td>18</td>\n",
              "      <td>2</td>\n",
              "      <td>30092</td>\n",
              "      <td>3</td>\n",
              "      <td>0</td>\n",
              "      <td>0.0</td>\n",
              "      <td>8</td>\n",
              "      <td>2</td>\n",
              "      <td>23</td>\n",
              "      <td>24</td>\n",
              "      <td>46</td>\n",
              "      <td>0</td>\n",
              "      <td>361104</td>\n",
              "      <td>9</td>\n",
              "      <td>90</td>\n",
              "      <td>0</td>\n",
              "    </tr>\n",
              "    <tr>\n",
              "      <th>1265624</th>\n",
              "      <td>3276599</td>\n",
              "      <td>2</td>\n",
              "      <td>0</td>\n",
              "      <td>4</td>\n",
              "      <td>5</td>\n",
              "      <td>3</td>\n",
              "      <td>5</td>\n",
              "      <td>19</td>\n",
              "      <td>20</td>\n",
              "      <td>4</td>\n",
              "      <td>15</td>\n",
              "      <td>15</td>\n",
              "      <td>30092</td>\n",
              "      <td>5</td>\n",
              "      <td>0</td>\n",
              "      <td>0.0</td>\n",
              "      <td>11</td>\n",
              "      <td>1</td>\n",
              "      <td>24</td>\n",
              "      <td>24</td>\n",
              "      <td>24</td>\n",
              "      <td>0</td>\n",
              "      <td>1805520</td>\n",
              "      <td>20</td>\n",
              "      <td>380</td>\n",
              "      <td>0</td>\n",
              "    </tr>\n",
              "  </tbody>\n",
              "</table>\n",
              "<p>1265625 rows × 26 columns</p>\n",
              "</div>"
            ],
            "text/plain": [
              "         timestamp  outport  ...  vnet_vc_cc_index  target\n",
              "0                7        2  ...                27       0\n",
              "1                7        2  ...                27       1\n",
              "2                7        2  ...                27       0\n",
              "3               70        0  ...               340       1\n",
              "4               71        0  ...               340       1\n",
              "...            ...      ...  ...               ...     ...\n",
              "1265620    3276593        2  ...               380       0\n",
              "1265621    3276594        2  ...               380       0\n",
              "1265622    3276595        2  ...               380       0\n",
              "1265623    3276596        2  ...                90       0\n",
              "1265624    3276599        2  ...               380       0\n",
              "\n",
              "[1265625 rows x 26 columns]"
            ]
          },
          "metadata": {
            "tags": []
          },
          "execution_count": 6
        }
      ]
    },
    {
      "cell_type": "code",
      "metadata": {
        "id": "DEIwin3VOmdC",
        "colab_type": "code",
        "outputId": "63d2b1c8-d10a-43f7-fb64-062d85156c7e",
        "colab": {
          "base_uri": "https://localhost:8080/",
          "height": 34
        }
      },
      "source": [
        "df.shape"
      ],
      "execution_count": 7,
      "outputs": [
        {
          "output_type": "execute_result",
          "data": {
            "text/plain": [
              "(1265625, 26)"
            ]
          },
          "metadata": {
            "tags": []
          },
          "execution_count": 7
        }
      ]
    },
    {
      "cell_type": "markdown",
      "metadata": {
        "id": "kB28tdcoNPvn",
        "colab_type": "text"
      },
      "source": [
        "Test Data"
      ]
    },
    {
      "cell_type": "code",
      "metadata": {
        "id": "2NNmwmZGNLly",
        "colab_type": "code",
        "colab": {}
      },
      "source": [
        "df13 = pd.read_csv('https://raw.githubusercontent.com/chamikasudusinghe/nocml/master/dos%20results%20ver%204/router-dataset/r4/2-fft-malicious-n-0-15-m-12-r4.csv?token=AKVFSOELY7EYPZC6QZRXOJ263INYG')\n",
        "df14 = pd.read_csv('https://raw.githubusercontent.com/chamikasudusinghe/nocml/master/dos%20results%20ver%204/router-dataset/r4/2-fft-malicious-n-0-15-m-7-r4.csv?token=AKVFSOA7ZSSOS55SHOQWE4K63INYK')\n",
        "df15 = pd.read_csv('https://raw.githubusercontent.com/chamikasudusinghe/nocml/master/dos%20results%20ver%204/router-dataset/r4/2-fft-malicious-n-0-4-m-12-r4.csv?token=AKVFSOGVLE5EA2HDMHFN7XC63INYM')\n",
        "df16 = pd.read_csv('https://raw.githubusercontent.com/chamikasudusinghe/nocml/master/dos%20results%20ver%204/router-dataset/r4/2-fft-malicious-n-0-4-m-7-r4.csv?token=AKVFSOFOCZL7VGDJJYMNNUC63INYS')\n",
        "df17 = pd.read_csv('https://raw.githubusercontent.com/chamikasudusinghe/nocml/master/dos%20results%20ver%204/router-dataset/r4/2-fft-malicious-n-0-6-m-12-r4.csv?token=AKVFSOB6MDUT2HAKK25WTMS63INYY')\n",
        "df18 = pd.read_csv('https://raw.githubusercontent.com/chamikasudusinghe/nocml/master/dos%20results%20ver%204/router-dataset/r4/2-fft-malicious-n-0-6-m-7-r4.csv?token=AKVFSOEZEIMBRFUGIJ4SABC63INZA')\n",
        "df19 = pd.read_csv('https://raw.githubusercontent.com/chamikasudusinghe/nocml/master/dos%20results%20ver%204/router-dataset/r4/2-fft-malicious-n-0-9-m-12-r4.csv?token=AKVFSOG44CWSJ3ONBI4WYLC63INZC')\n",
        "df20 = pd.read_csv('https://raw.githubusercontent.com/chamikasudusinghe/nocml/master/dos%20results%20ver%204/router-dataset/r4/2-fft-malicious-n-0-9-m-7-r4.csv?token=AKVFSOANMCRIGIKFQXOH3IC63INZG')"
      ],
      "execution_count": 0,
      "outputs": []
    },
    {
      "cell_type": "code",
      "metadata": {
        "id": "vI7r69cXm0wU",
        "colab_type": "code",
        "outputId": "4e0ed461-e352-4f26-9374-d601b603ccb9",
        "colab": {
          "base_uri": "https://localhost:8080/",
          "height": 153
        }
      },
      "source": [
        "print(df13.shape)\n",
        "print(df14.shape)\n",
        "print(df15.shape)\n",
        "print(df16.shape)\n",
        "print(df17.shape)\n",
        "print(df18.shape)\n",
        "print(df19.shape)\n",
        "print(df20.shape)"
      ],
      "execution_count": 9,
      "outputs": [
        {
          "output_type": "stream",
          "text": [
            "(108174, 26)\n",
            "(103449, 26)\n",
            "(158087, 26)\n",
            "(153540, 26)\n",
            "(111614, 26)\n",
            "(107195, 26)\n",
            "(108282, 26)\n",
            "(103725, 26)\n"
          ],
          "name": "stdout"
        }
      ]
    },
    {
      "cell_type": "code",
      "metadata": {
        "id": "lyFCjch-Qr7R",
        "colab_type": "code",
        "outputId": "6ef4fe28-d382-419c-e9a3-9e72e15832b3",
        "colab": {
          "base_uri": "https://localhost:8080/",
          "height": 439
        }
      },
      "source": [
        "df5"
      ],
      "execution_count": 10,
      "outputs": [
        {
          "output_type": "execute_result",
          "data": {
            "text/html": [
              "<div>\n",
              "<style scoped>\n",
              "    .dataframe tbody tr th:only-of-type {\n",
              "        vertical-align: middle;\n",
              "    }\n",
              "\n",
              "    .dataframe tbody tr th {\n",
              "        vertical-align: top;\n",
              "    }\n",
              "\n",
              "    .dataframe thead th {\n",
              "        text-align: right;\n",
              "    }\n",
              "</style>\n",
              "<table border=\"1\" class=\"dataframe\">\n",
              "  <thead>\n",
              "    <tr style=\"text-align: right;\">\n",
              "      <th></th>\n",
              "      <th>timestamp</th>\n",
              "      <th>outport</th>\n",
              "      <th>inport</th>\n",
              "      <th>cache_coherence_type</th>\n",
              "      <th>flit_id</th>\n",
              "      <th>flit_type</th>\n",
              "      <th>vnet</th>\n",
              "      <th>vc</th>\n",
              "      <th>src_ni</th>\n",
              "      <th>src_router</th>\n",
              "      <th>dst_ni</th>\n",
              "      <th>dst_router</th>\n",
              "      <th>traversal_id</th>\n",
              "      <th>hop_count</th>\n",
              "      <th>current_hop</th>\n",
              "      <th>hop_percentage</th>\n",
              "      <th>enqueue_time</th>\n",
              "      <th>packet_count_decr</th>\n",
              "      <th>packet_count_incr</th>\n",
              "      <th>max_packet_count</th>\n",
              "      <th>packet_count_index</th>\n",
              "      <th>port_index</th>\n",
              "      <th>traversal_index</th>\n",
              "      <th>cache_coherence_vnet_index</th>\n",
              "      <th>vnet_vc_cc_index</th>\n",
              "      <th>target</th>\n",
              "    </tr>\n",
              "  </thead>\n",
              "  <tbody>\n",
              "    <tr>\n",
              "      <th>0</th>\n",
              "      <td>85</td>\n",
              "      <td>1</td>\n",
              "      <td>2</td>\n",
              "      <td>1</td>\n",
              "      <td>1</td>\n",
              "      <td>4</td>\n",
              "      <td>3</td>\n",
              "      <td>9</td>\n",
              "      <td>6</td>\n",
              "      <td>6</td>\n",
              "      <td>24</td>\n",
              "      <td>8</td>\n",
              "      <td>4</td>\n",
              "      <td>3</td>\n",
              "      <td>2</td>\n",
              "      <td>0.666667</td>\n",
              "      <td>13</td>\n",
              "      <td>80</td>\n",
              "      <td>1</td>\n",
              "      <td>80</td>\n",
              "      <td>80</td>\n",
              "      <td>2</td>\n",
              "      <td>16</td>\n",
              "      <td>3</td>\n",
              "      <td>27</td>\n",
              "      <td>0</td>\n",
              "    </tr>\n",
              "    <tr>\n",
              "      <th>1</th>\n",
              "      <td>106</td>\n",
              "      <td>3</td>\n",
              "      <td>2</td>\n",
              "      <td>4</td>\n",
              "      <td>1</td>\n",
              "      <td>1</td>\n",
              "      <td>5</td>\n",
              "      <td>17</td>\n",
              "      <td>23</td>\n",
              "      <td>7</td>\n",
              "      <td>0</td>\n",
              "      <td>0</td>\n",
              "      <td>1</td>\n",
              "      <td>4</td>\n",
              "      <td>3</td>\n",
              "      <td>0.750000</td>\n",
              "      <td>16</td>\n",
              "      <td>79</td>\n",
              "      <td>2</td>\n",
              "      <td>80</td>\n",
              "      <td>158</td>\n",
              "      <td>6</td>\n",
              "      <td>4</td>\n",
              "      <td>20</td>\n",
              "      <td>340</td>\n",
              "      <td>0</td>\n",
              "    </tr>\n",
              "    <tr>\n",
              "      <th>2</th>\n",
              "      <td>107</td>\n",
              "      <td>3</td>\n",
              "      <td>2</td>\n",
              "      <td>4</td>\n",
              "      <td>2</td>\n",
              "      <td>2</td>\n",
              "      <td>5</td>\n",
              "      <td>17</td>\n",
              "      <td>23</td>\n",
              "      <td>7</td>\n",
              "      <td>0</td>\n",
              "      <td>0</td>\n",
              "      <td>1</td>\n",
              "      <td>4</td>\n",
              "      <td>3</td>\n",
              "      <td>0.750000</td>\n",
              "      <td>17</td>\n",
              "      <td>78</td>\n",
              "      <td>3</td>\n",
              "      <td>80</td>\n",
              "      <td>234</td>\n",
              "      <td>6</td>\n",
              "      <td>16</td>\n",
              "      <td>20</td>\n",
              "      <td>340</td>\n",
              "      <td>0</td>\n",
              "    </tr>\n",
              "    <tr>\n",
              "      <th>3</th>\n",
              "      <td>108</td>\n",
              "      <td>3</td>\n",
              "      <td>2</td>\n",
              "      <td>4</td>\n",
              "      <td>3</td>\n",
              "      <td>2</td>\n",
              "      <td>5</td>\n",
              "      <td>17</td>\n",
              "      <td>23</td>\n",
              "      <td>7</td>\n",
              "      <td>0</td>\n",
              "      <td>0</td>\n",
              "      <td>1</td>\n",
              "      <td>4</td>\n",
              "      <td>3</td>\n",
              "      <td>0.750000</td>\n",
              "      <td>18</td>\n",
              "      <td>77</td>\n",
              "      <td>4</td>\n",
              "      <td>80</td>\n",
              "      <td>308</td>\n",
              "      <td>6</td>\n",
              "      <td>24</td>\n",
              "      <td>20</td>\n",
              "      <td>340</td>\n",
              "      <td>0</td>\n",
              "    </tr>\n",
              "    <tr>\n",
              "      <th>4</th>\n",
              "      <td>109</td>\n",
              "      <td>3</td>\n",
              "      <td>2</td>\n",
              "      <td>4</td>\n",
              "      <td>4</td>\n",
              "      <td>2</td>\n",
              "      <td>5</td>\n",
              "      <td>17</td>\n",
              "      <td>23</td>\n",
              "      <td>7</td>\n",
              "      <td>0</td>\n",
              "      <td>0</td>\n",
              "      <td>1</td>\n",
              "      <td>4</td>\n",
              "      <td>3</td>\n",
              "      <td>0.750000</td>\n",
              "      <td>19</td>\n",
              "      <td>76</td>\n",
              "      <td>5</td>\n",
              "      <td>80</td>\n",
              "      <td>380</td>\n",
              "      <td>6</td>\n",
              "      <td>32</td>\n",
              "      <td>20</td>\n",
              "      <td>340</td>\n",
              "      <td>0</td>\n",
              "    </tr>\n",
              "    <tr>\n",
              "      <th>...</th>\n",
              "      <td>...</td>\n",
              "      <td>...</td>\n",
              "      <td>...</td>\n",
              "      <td>...</td>\n",
              "      <td>...</td>\n",
              "      <td>...</td>\n",
              "      <td>...</td>\n",
              "      <td>...</td>\n",
              "      <td>...</td>\n",
              "      <td>...</td>\n",
              "      <td>...</td>\n",
              "      <td>...</td>\n",
              "      <td>...</td>\n",
              "      <td>...</td>\n",
              "      <td>...</td>\n",
              "      <td>...</td>\n",
              "      <td>...</td>\n",
              "      <td>...</td>\n",
              "      <td>...</td>\n",
              "      <td>...</td>\n",
              "      <td>...</td>\n",
              "      <td>...</td>\n",
              "      <td>...</td>\n",
              "      <td>...</td>\n",
              "      <td>...</td>\n",
              "      <td>...</td>\n",
              "    </tr>\n",
              "    <tr>\n",
              "      <th>105343</th>\n",
              "      <td>3266159</td>\n",
              "      <td>3</td>\n",
              "      <td>2</td>\n",
              "      <td>7</td>\n",
              "      <td>1</td>\n",
              "      <td>4</td>\n",
              "      <td>3</td>\n",
              "      <td>9</td>\n",
              "      <td>22</td>\n",
              "      <td>6</td>\n",
              "      <td>0</td>\n",
              "      <td>0</td>\n",
              "      <td>30087</td>\n",
              "      <td>3</td>\n",
              "      <td>2</td>\n",
              "      <td>0.666667</td>\n",
              "      <td>13</td>\n",
              "      <td>5</td>\n",
              "      <td>7</td>\n",
              "      <td>11</td>\n",
              "      <td>35</td>\n",
              "      <td>6</td>\n",
              "      <td>842436</td>\n",
              "      <td>21</td>\n",
              "      <td>189</td>\n",
              "      <td>0</td>\n",
              "    </tr>\n",
              "    <tr>\n",
              "      <th>105344</th>\n",
              "      <td>3266203</td>\n",
              "      <td>3</td>\n",
              "      <td>2</td>\n",
              "      <td>4</td>\n",
              "      <td>1</td>\n",
              "      <td>1</td>\n",
              "      <td>5</td>\n",
              "      <td>17</td>\n",
              "      <td>23</td>\n",
              "      <td>7</td>\n",
              "      <td>0</td>\n",
              "      <td>0</td>\n",
              "      <td>30088</td>\n",
              "      <td>4</td>\n",
              "      <td>3</td>\n",
              "      <td>0.750000</td>\n",
              "      <td>17</td>\n",
              "      <td>4</td>\n",
              "      <td>8</td>\n",
              "      <td>11</td>\n",
              "      <td>32</td>\n",
              "      <td>6</td>\n",
              "      <td>120352</td>\n",
              "      <td>20</td>\n",
              "      <td>340</td>\n",
              "      <td>0</td>\n",
              "    </tr>\n",
              "    <tr>\n",
              "      <th>105345</th>\n",
              "      <td>3266204</td>\n",
              "      <td>3</td>\n",
              "      <td>2</td>\n",
              "      <td>4</td>\n",
              "      <td>2</td>\n",
              "      <td>2</td>\n",
              "      <td>5</td>\n",
              "      <td>17</td>\n",
              "      <td>23</td>\n",
              "      <td>7</td>\n",
              "      <td>0</td>\n",
              "      <td>0</td>\n",
              "      <td>30088</td>\n",
              "      <td>4</td>\n",
              "      <td>3</td>\n",
              "      <td>0.750000</td>\n",
              "      <td>18</td>\n",
              "      <td>3</td>\n",
              "      <td>9</td>\n",
              "      <td>11</td>\n",
              "      <td>27</td>\n",
              "      <td>6</td>\n",
              "      <td>481408</td>\n",
              "      <td>20</td>\n",
              "      <td>340</td>\n",
              "      <td>0</td>\n",
              "    </tr>\n",
              "    <tr>\n",
              "      <th>105346</th>\n",
              "      <td>3266205</td>\n",
              "      <td>3</td>\n",
              "      <td>2</td>\n",
              "      <td>4</td>\n",
              "      <td>3</td>\n",
              "      <td>2</td>\n",
              "      <td>5</td>\n",
              "      <td>17</td>\n",
              "      <td>23</td>\n",
              "      <td>7</td>\n",
              "      <td>0</td>\n",
              "      <td>0</td>\n",
              "      <td>30088</td>\n",
              "      <td>4</td>\n",
              "      <td>3</td>\n",
              "      <td>0.750000</td>\n",
              "      <td>19</td>\n",
              "      <td>2</td>\n",
              "      <td>10</td>\n",
              "      <td>11</td>\n",
              "      <td>20</td>\n",
              "      <td>6</td>\n",
              "      <td>722112</td>\n",
              "      <td>20</td>\n",
              "      <td>340</td>\n",
              "      <td>0</td>\n",
              "    </tr>\n",
              "    <tr>\n",
              "      <th>105347</th>\n",
              "      <td>3266206</td>\n",
              "      <td>3</td>\n",
              "      <td>2</td>\n",
              "      <td>4</td>\n",
              "      <td>4</td>\n",
              "      <td>2</td>\n",
              "      <td>5</td>\n",
              "      <td>17</td>\n",
              "      <td>23</td>\n",
              "      <td>7</td>\n",
              "      <td>0</td>\n",
              "      <td>0</td>\n",
              "      <td>30088</td>\n",
              "      <td>4</td>\n",
              "      <td>3</td>\n",
              "      <td>0.750000</td>\n",
              "      <td>20</td>\n",
              "      <td>1</td>\n",
              "      <td>11</td>\n",
              "      <td>11</td>\n",
              "      <td>11</td>\n",
              "      <td>6</td>\n",
              "      <td>962816</td>\n",
              "      <td>20</td>\n",
              "      <td>340</td>\n",
              "      <td>0</td>\n",
              "    </tr>\n",
              "  </tbody>\n",
              "</table>\n",
              "<p>105348 rows × 26 columns</p>\n",
              "</div>"
            ],
            "text/plain": [
              "        timestamp  outport  ...  vnet_vc_cc_index  target\n",
              "0              85        1  ...                27       0\n",
              "1             106        3  ...               340       0\n",
              "2             107        3  ...               340       0\n",
              "3             108        3  ...               340       0\n",
              "4             109        3  ...               340       0\n",
              "...           ...      ...  ...               ...     ...\n",
              "105343    3266159        3  ...               189       0\n",
              "105344    3266203        3  ...               340       0\n",
              "105345    3266204        3  ...               340       0\n",
              "105346    3266205        3  ...               340       0\n",
              "105347    3266206        3  ...               340       0\n",
              "\n",
              "[105348 rows x 26 columns]"
            ]
          },
          "metadata": {
            "tags": []
          },
          "execution_count": 10
        }
      ]
    },
    {
      "cell_type": "markdown",
      "metadata": {
        "id": "xhWoBoqmnTM8",
        "colab_type": "text"
      },
      "source": [
        "Processing"
      ]
    },
    {
      "cell_type": "code",
      "metadata": {
        "colab_type": "code",
        "id": "Z-DMh9YdHg2F",
        "outputId": "21be69cf-d976-45a8-bad8-255e5c628189",
        "colab": {
          "base_uri": "https://localhost:8080/",
          "height": 476
        }
      },
      "source": [
        "df.isnull().sum()"
      ],
      "execution_count": 11,
      "outputs": [
        {
          "output_type": "execute_result",
          "data": {
            "text/plain": [
              "timestamp                     0\n",
              "outport                       0\n",
              "inport                        0\n",
              "cache_coherence_type          0\n",
              "flit_id                       0\n",
              "flit_type                     0\n",
              "vnet                          0\n",
              "vc                            0\n",
              "src_ni                        0\n",
              "src_router                    0\n",
              "dst_ni                        0\n",
              "dst_router                    0\n",
              "traversal_id                  0\n",
              "hop_count                     0\n",
              "current_hop                   0\n",
              "hop_percentage                0\n",
              "enqueue_time                  0\n",
              "packet_count_decr             0\n",
              "packet_count_incr             0\n",
              "max_packet_count              0\n",
              "packet_count_index            0\n",
              "port_index                    0\n",
              "traversal_index               0\n",
              "cache_coherence_vnet_index    0\n",
              "vnet_vc_cc_index              0\n",
              "target                        0\n",
              "dtype: int64"
            ]
          },
          "metadata": {
            "tags": []
          },
          "execution_count": 11
        }
      ]
    },
    {
      "cell_type": "code",
      "metadata": {
        "id": "ct4HKW31PrjK",
        "colab_type": "code",
        "colab": {}
      },
      "source": [
        "df = df.drop(columns=['timestamp','src_ni','src_router','dst_ni','dst_router'])"
      ],
      "execution_count": 0,
      "outputs": []
    },
    {
      "cell_type": "code",
      "metadata": {
        "colab_type": "code",
        "id": "Y9vcn7NCHg2M",
        "outputId": "f5a76b15-d974-4e95-9fbb-232cc14166e4",
        "colab": {
          "base_uri": "https://localhost:8080/",
          "height": 720
        }
      },
      "source": [
        "df.corr()"
      ],
      "execution_count": 13,
      "outputs": [
        {
          "output_type": "execute_result",
          "data": {
            "text/html": [
              "<div>\n",
              "<style scoped>\n",
              "    .dataframe tbody tr th:only-of-type {\n",
              "        vertical-align: middle;\n",
              "    }\n",
              "\n",
              "    .dataframe tbody tr th {\n",
              "        vertical-align: top;\n",
              "    }\n",
              "\n",
              "    .dataframe thead th {\n",
              "        text-align: right;\n",
              "    }\n",
              "</style>\n",
              "<table border=\"1\" class=\"dataframe\">\n",
              "  <thead>\n",
              "    <tr style=\"text-align: right;\">\n",
              "      <th></th>\n",
              "      <th>outport</th>\n",
              "      <th>inport</th>\n",
              "      <th>cache_coherence_type</th>\n",
              "      <th>flit_id</th>\n",
              "      <th>flit_type</th>\n",
              "      <th>vnet</th>\n",
              "      <th>vc</th>\n",
              "      <th>traversal_id</th>\n",
              "      <th>hop_count</th>\n",
              "      <th>current_hop</th>\n",
              "      <th>hop_percentage</th>\n",
              "      <th>enqueue_time</th>\n",
              "      <th>packet_count_decr</th>\n",
              "      <th>packet_count_incr</th>\n",
              "      <th>max_packet_count</th>\n",
              "      <th>packet_count_index</th>\n",
              "      <th>port_index</th>\n",
              "      <th>traversal_index</th>\n",
              "      <th>cache_coherence_vnet_index</th>\n",
              "      <th>vnet_vc_cc_index</th>\n",
              "      <th>target</th>\n",
              "    </tr>\n",
              "  </thead>\n",
              "  <tbody>\n",
              "    <tr>\n",
              "      <th>outport</th>\n",
              "      <td>1.000000</td>\n",
              "      <td>-0.640860</td>\n",
              "      <td>-0.231043</td>\n",
              "      <td>0.017385</td>\n",
              "      <td>-0.027084</td>\n",
              "      <td>0.533824</td>\n",
              "      <td>0.547234</td>\n",
              "      <td>0.011146</td>\n",
              "      <td>0.164037</td>\n",
              "      <td>-0.257597</td>\n",
              "      <td>-0.557620</td>\n",
              "      <td>-0.456159</td>\n",
              "      <td>-0.064275</td>\n",
              "      <td>-0.016396</td>\n",
              "      <td>-0.061405</td>\n",
              "      <td>-0.061887</td>\n",
              "      <td>0.529113</td>\n",
              "      <td>-0.067549</td>\n",
              "      <td>0.257988</td>\n",
              "      <td>0.499396</td>\n",
              "      <td>0.040587</td>\n",
              "    </tr>\n",
              "    <tr>\n",
              "      <th>inport</th>\n",
              "      <td>-0.640860</td>\n",
              "      <td>1.000000</td>\n",
              "      <td>0.289527</td>\n",
              "      <td>-0.001553</td>\n",
              "      <td>0.002418</td>\n",
              "      <td>-0.475627</td>\n",
              "      <td>-0.566596</td>\n",
              "      <td>0.016753</td>\n",
              "      <td>0.084813</td>\n",
              "      <td>0.610024</td>\n",
              "      <td>0.855844</td>\n",
              "      <td>0.611373</td>\n",
              "      <td>0.004628</td>\n",
              "      <td>-0.075568</td>\n",
              "      <td>-0.053998</td>\n",
              "      <td>-0.046284</td>\n",
              "      <td>0.139108</td>\n",
              "      <td>0.092865</td>\n",
              "      <td>-0.156273</td>\n",
              "      <td>-0.468238</td>\n",
              "      <td>-0.012670</td>\n",
              "    </tr>\n",
              "    <tr>\n",
              "      <th>cache_coherence_type</th>\n",
              "      <td>-0.231043</td>\n",
              "      <td>0.289527</td>\n",
              "      <td>1.000000</td>\n",
              "      <td>0.197501</td>\n",
              "      <td>-0.307641</td>\n",
              "      <td>-0.342114</td>\n",
              "      <td>-0.390422</td>\n",
              "      <td>0.024052</td>\n",
              "      <td>0.035486</td>\n",
              "      <td>0.196786</td>\n",
              "      <td>0.271243</td>\n",
              "      <td>0.035501</td>\n",
              "      <td>0.021758</td>\n",
              "      <td>-0.037889</td>\n",
              "      <td>-0.012279</td>\n",
              "      <td>-0.009107</td>\n",
              "      <td>-0.055188</td>\n",
              "      <td>0.275194</td>\n",
              "      <td>0.583931</td>\n",
              "      <td>-0.041410</td>\n",
              "      <td>-0.003908</td>\n",
              "    </tr>\n",
              "    <tr>\n",
              "      <th>flit_id</th>\n",
              "      <td>0.017385</td>\n",
              "      <td>-0.001553</td>\n",
              "      <td>0.197501</td>\n",
              "      <td>1.000000</td>\n",
              "      <td>0.044792</td>\n",
              "      <td>0.208797</td>\n",
              "      <td>0.177944</td>\n",
              "      <td>0.002038</td>\n",
              "      <td>-0.021720</td>\n",
              "      <td>-0.003028</td>\n",
              "      <td>-0.004105</td>\n",
              "      <td>0.295005</td>\n",
              "      <td>-0.026947</td>\n",
              "      <td>0.019934</td>\n",
              "      <td>-0.005338</td>\n",
              "      <td>-0.004624</td>\n",
              "      <td>0.023541</td>\n",
              "      <td>0.629836</td>\n",
              "      <td>0.354087</td>\n",
              "      <td>0.280004</td>\n",
              "      <td>0.001325</td>\n",
              "    </tr>\n",
              "    <tr>\n",
              "      <th>flit_type</th>\n",
              "      <td>-0.027084</td>\n",
              "      <td>0.002418</td>\n",
              "      <td>-0.307641</td>\n",
              "      <td>0.044792</td>\n",
              "      <td>1.000000</td>\n",
              "      <td>-0.325241</td>\n",
              "      <td>-0.277182</td>\n",
              "      <td>-0.003179</td>\n",
              "      <td>0.033830</td>\n",
              "      <td>0.004715</td>\n",
              "      <td>0.006394</td>\n",
              "      <td>0.351879</td>\n",
              "      <td>-0.019953</td>\n",
              "      <td>0.031562</td>\n",
              "      <td>0.008837</td>\n",
              "      <td>0.007935</td>\n",
              "      <td>-0.036675</td>\n",
              "      <td>0.176635</td>\n",
              "      <td>-0.551556</td>\n",
              "      <td>-0.436158</td>\n",
              "      <td>-0.002062</td>\n",
              "    </tr>\n",
              "    <tr>\n",
              "      <th>vnet</th>\n",
              "      <td>0.533824</td>\n",
              "      <td>-0.475627</td>\n",
              "      <td>-0.342114</td>\n",
              "      <td>0.208797</td>\n",
              "      <td>-0.325241</td>\n",
              "      <td>1.000000</td>\n",
              "      <td>0.971917</td>\n",
              "      <td>-0.023400</td>\n",
              "      <td>-0.024022</td>\n",
              "      <td>-0.142791</td>\n",
              "      <td>-0.302120</td>\n",
              "      <td>-0.492077</td>\n",
              "      <td>-0.057010</td>\n",
              "      <td>0.015727</td>\n",
              "      <td>-0.031423</td>\n",
              "      <td>-0.032728</td>\n",
              "      <td>0.277886</td>\n",
              "      <td>-0.065005</td>\n",
              "      <td>0.563047</td>\n",
              "      <td>0.942206</td>\n",
              "      <td>0.027511</td>\n",
              "    </tr>\n",
              "    <tr>\n",
              "      <th>vc</th>\n",
              "      <td>0.547234</td>\n",
              "      <td>-0.566596</td>\n",
              "      <td>-0.390422</td>\n",
              "      <td>0.177944</td>\n",
              "      <td>-0.277182</td>\n",
              "      <td>0.971917</td>\n",
              "      <td>1.000000</td>\n",
              "      <td>-0.030076</td>\n",
              "      <td>-0.068686</td>\n",
              "      <td>-0.256525</td>\n",
              "      <td>-0.424187</td>\n",
              "      <td>-0.529882</td>\n",
              "      <td>-0.053351</td>\n",
              "      <td>0.028644</td>\n",
              "      <td>-0.018806</td>\n",
              "      <td>-0.020271</td>\n",
              "      <td>0.183640</td>\n",
              "      <td>-0.085755</td>\n",
              "      <td>0.496298</td>\n",
              "      <td>0.930618</td>\n",
              "      <td>0.020078</td>\n",
              "    </tr>\n",
              "    <tr>\n",
              "      <th>traversal_id</th>\n",
              "      <td>0.011146</td>\n",
              "      <td>0.016753</td>\n",
              "      <td>0.024052</td>\n",
              "      <td>0.002038</td>\n",
              "      <td>-0.003179</td>\n",
              "      <td>-0.023400</td>\n",
              "      <td>-0.030076</td>\n",
              "      <td>1.000000</td>\n",
              "      <td>0.027081</td>\n",
              "      <td>0.016697</td>\n",
              "      <td>0.017643</td>\n",
              "      <td>0.026611</td>\n",
              "      <td>0.095050</td>\n",
              "      <td>0.096047</td>\n",
              "      <td>0.145459</td>\n",
              "      <td>0.090783</td>\n",
              "      <td>0.051697</td>\n",
              "      <td>0.560801</td>\n",
              "      <td>0.000937</td>\n",
              "      <td>-0.021631</td>\n",
              "      <td>-0.258324</td>\n",
              "    </tr>\n",
              "    <tr>\n",
              "      <th>hop_count</th>\n",
              "      <td>0.164037</td>\n",
              "      <td>0.084813</td>\n",
              "      <td>0.035486</td>\n",
              "      <td>-0.021720</td>\n",
              "      <td>0.033830</td>\n",
              "      <td>-0.024022</td>\n",
              "      <td>-0.068686</td>\n",
              "      <td>0.027081</td>\n",
              "      <td>1.000000</td>\n",
              "      <td>0.613104</td>\n",
              "      <td>0.226307</td>\n",
              "      <td>0.300051</td>\n",
              "      <td>-0.027362</td>\n",
              "      <td>-0.039931</td>\n",
              "      <td>-0.051221</td>\n",
              "      <td>-0.052578</td>\n",
              "      <td>0.365381</td>\n",
              "      <td>0.012666</td>\n",
              "      <td>0.010457</td>\n",
              "      <td>-0.046012</td>\n",
              "      <td>-0.023544</td>\n",
              "    </tr>\n",
              "    <tr>\n",
              "      <th>current_hop</th>\n",
              "      <td>-0.257597</td>\n",
              "      <td>0.610024</td>\n",
              "      <td>0.196786</td>\n",
              "      <td>-0.003028</td>\n",
              "      <td>0.004715</td>\n",
              "      <td>-0.142791</td>\n",
              "      <td>-0.256525</td>\n",
              "      <td>0.016697</td>\n",
              "      <td>0.613104</td>\n",
              "      <td>1.000000</td>\n",
              "      <td>0.818575</td>\n",
              "      <td>0.591655</td>\n",
              "      <td>-0.000345</td>\n",
              "      <td>-0.064427</td>\n",
              "      <td>-0.049303</td>\n",
              "      <td>-0.049732</td>\n",
              "      <td>0.348125</td>\n",
              "      <td>0.050997</td>\n",
              "      <td>0.049710</td>\n",
              "      <td>-0.160386</td>\n",
              "      <td>0.007665</td>\n",
              "    </tr>\n",
              "    <tr>\n",
              "      <th>hop_percentage</th>\n",
              "      <td>-0.557620</td>\n",
              "      <td>0.855844</td>\n",
              "      <td>0.271243</td>\n",
              "      <td>-0.004105</td>\n",
              "      <td>0.006394</td>\n",
              "      <td>-0.302120</td>\n",
              "      <td>-0.424187</td>\n",
              "      <td>0.017643</td>\n",
              "      <td>0.226307</td>\n",
              "      <td>0.818575</td>\n",
              "      <td>1.000000</td>\n",
              "      <td>0.601761</td>\n",
              "      <td>0.021583</td>\n",
              "      <td>-0.062036</td>\n",
              "      <td>-0.030792</td>\n",
              "      <td>-0.029930</td>\n",
              "      <td>0.178466</td>\n",
              "      <td>0.077086</td>\n",
              "      <td>-0.022455</td>\n",
              "      <td>-0.310262</td>\n",
              "      <td>0.004937</td>\n",
              "    </tr>\n",
              "    <tr>\n",
              "      <th>enqueue_time</th>\n",
              "      <td>-0.456159</td>\n",
              "      <td>0.611373</td>\n",
              "      <td>0.035501</td>\n",
              "      <td>0.295005</td>\n",
              "      <td>0.351879</td>\n",
              "      <td>-0.492077</td>\n",
              "      <td>-0.529882</td>\n",
              "      <td>0.026611</td>\n",
              "      <td>0.300051</td>\n",
              "      <td>0.591655</td>\n",
              "      <td>0.601761</td>\n",
              "      <td>1.000000</td>\n",
              "      <td>0.014377</td>\n",
              "      <td>-0.023530</td>\n",
              "      <td>-0.006967</td>\n",
              "      <td>-0.004998</td>\n",
              "      <td>0.017740</td>\n",
              "      <td>0.318743</td>\n",
              "      <td>-0.393899</td>\n",
              "      <td>-0.545681</td>\n",
              "      <td>-0.014680</td>\n",
              "    </tr>\n",
              "    <tr>\n",
              "      <th>packet_count_decr</th>\n",
              "      <td>-0.064275</td>\n",
              "      <td>0.004628</td>\n",
              "      <td>0.021758</td>\n",
              "      <td>-0.026947</td>\n",
              "      <td>-0.019953</td>\n",
              "      <td>-0.057010</td>\n",
              "      <td>-0.053351</td>\n",
              "      <td>0.095050</td>\n",
              "      <td>-0.027362</td>\n",
              "      <td>-0.000345</td>\n",
              "      <td>0.021583</td>\n",
              "      <td>0.014377</td>\n",
              "      <td>1.000000</td>\n",
              "      <td>-0.137021</td>\n",
              "      <td>0.656879</td>\n",
              "      <td>0.538557</td>\n",
              "      <td>-0.041351</td>\n",
              "      <td>0.043292</td>\n",
              "      <td>-0.030117</td>\n",
              "      <td>-0.052005</td>\n",
              "      <td>-0.090714</td>\n",
              "    </tr>\n",
              "    <tr>\n",
              "      <th>packet_count_incr</th>\n",
              "      <td>-0.016396</td>\n",
              "      <td>-0.075568</td>\n",
              "      <td>-0.037889</td>\n",
              "      <td>0.019934</td>\n",
              "      <td>0.031562</td>\n",
              "      <td>0.015727</td>\n",
              "      <td>0.028644</td>\n",
              "      <td>0.096047</td>\n",
              "      <td>-0.039931</td>\n",
              "      <td>-0.064427</td>\n",
              "      <td>-0.062036</td>\n",
              "      <td>-0.023530</td>\n",
              "      <td>-0.137021</td>\n",
              "      <td>1.000000</td>\n",
              "      <td>0.656879</td>\n",
              "      <td>0.538557</td>\n",
              "      <td>-0.047155</td>\n",
              "      <td>0.064207</td>\n",
              "      <td>-0.019736</td>\n",
              "      <td>0.011750</td>\n",
              "      <td>-0.090714</td>\n",
              "    </tr>\n",
              "    <tr>\n",
              "      <th>max_packet_count</th>\n",
              "      <td>-0.061405</td>\n",
              "      <td>-0.053998</td>\n",
              "      <td>-0.012279</td>\n",
              "      <td>-0.005338</td>\n",
              "      <td>0.008837</td>\n",
              "      <td>-0.031423</td>\n",
              "      <td>-0.018806</td>\n",
              "      <td>0.145459</td>\n",
              "      <td>-0.051221</td>\n",
              "      <td>-0.049303</td>\n",
              "      <td>-0.030792</td>\n",
              "      <td>-0.006967</td>\n",
              "      <td>0.656879</td>\n",
              "      <td>0.656879</td>\n",
              "      <td>1.000000</td>\n",
              "      <td>0.819874</td>\n",
              "      <td>-0.067369</td>\n",
              "      <td>0.081826</td>\n",
              "      <td>-0.037947</td>\n",
              "      <td>-0.030641</td>\n",
              "      <td>-0.138099</td>\n",
              "    </tr>\n",
              "    <tr>\n",
              "      <th>packet_count_index</th>\n",
              "      <td>-0.061887</td>\n",
              "      <td>-0.046284</td>\n",
              "      <td>-0.009107</td>\n",
              "      <td>-0.004624</td>\n",
              "      <td>0.007935</td>\n",
              "      <td>-0.032728</td>\n",
              "      <td>-0.020271</td>\n",
              "      <td>0.090783</td>\n",
              "      <td>-0.052578</td>\n",
              "      <td>-0.049732</td>\n",
              "      <td>-0.029930</td>\n",
              "      <td>-0.004998</td>\n",
              "      <td>0.538557</td>\n",
              "      <td>0.538557</td>\n",
              "      <td>0.819874</td>\n",
              "      <td>1.000000</td>\n",
              "      <td>-0.069247</td>\n",
              "      <td>0.051659</td>\n",
              "      <td>-0.036284</td>\n",
              "      <td>-0.030936</td>\n",
              "      <td>-0.127327</td>\n",
              "    </tr>\n",
              "    <tr>\n",
              "      <th>port_index</th>\n",
              "      <td>0.529113</td>\n",
              "      <td>0.139108</td>\n",
              "      <td>-0.055188</td>\n",
              "      <td>0.023541</td>\n",
              "      <td>-0.036675</td>\n",
              "      <td>0.277886</td>\n",
              "      <td>0.183640</td>\n",
              "      <td>0.051697</td>\n",
              "      <td>0.365381</td>\n",
              "      <td>0.348125</td>\n",
              "      <td>0.178466</td>\n",
              "      <td>0.017740</td>\n",
              "      <td>-0.041351</td>\n",
              "      <td>-0.047155</td>\n",
              "      <td>-0.067369</td>\n",
              "      <td>-0.069247</td>\n",
              "      <td>1.000000</td>\n",
              "      <td>0.002027</td>\n",
              "      <td>0.191538</td>\n",
              "      <td>0.215070</td>\n",
              "      <td>0.049670</td>\n",
              "    </tr>\n",
              "    <tr>\n",
              "      <th>traversal_index</th>\n",
              "      <td>-0.067549</td>\n",
              "      <td>0.092865</td>\n",
              "      <td>0.275194</td>\n",
              "      <td>0.629836</td>\n",
              "      <td>0.176635</td>\n",
              "      <td>-0.065005</td>\n",
              "      <td>-0.085755</td>\n",
              "      <td>0.560801</td>\n",
              "      <td>0.012666</td>\n",
              "      <td>0.050997</td>\n",
              "      <td>0.077086</td>\n",
              "      <td>0.318743</td>\n",
              "      <td>0.043292</td>\n",
              "      <td>0.064207</td>\n",
              "      <td>0.081826</td>\n",
              "      <td>0.051659</td>\n",
              "      <td>0.002027</td>\n",
              "      <td>1.000000</td>\n",
              "      <td>0.185872</td>\n",
              "      <td>0.016090</td>\n",
              "      <td>-0.147570</td>\n",
              "    </tr>\n",
              "    <tr>\n",
              "      <th>cache_coherence_vnet_index</th>\n",
              "      <td>0.257988</td>\n",
              "      <td>-0.156273</td>\n",
              "      <td>0.583931</td>\n",
              "      <td>0.354087</td>\n",
              "      <td>-0.551556</td>\n",
              "      <td>0.563047</td>\n",
              "      <td>0.496298</td>\n",
              "      <td>0.000937</td>\n",
              "      <td>0.010457</td>\n",
              "      <td>0.049710</td>\n",
              "      <td>-0.022455</td>\n",
              "      <td>-0.393899</td>\n",
              "      <td>-0.030117</td>\n",
              "      <td>-0.019736</td>\n",
              "      <td>-0.037947</td>\n",
              "      <td>-0.036284</td>\n",
              "      <td>0.191538</td>\n",
              "      <td>0.185872</td>\n",
              "      <td>1.000000</td>\n",
              "      <td>0.777585</td>\n",
              "      <td>0.020330</td>\n",
              "    </tr>\n",
              "    <tr>\n",
              "      <th>vnet_vc_cc_index</th>\n",
              "      <td>0.499396</td>\n",
              "      <td>-0.468238</td>\n",
              "      <td>-0.041410</td>\n",
              "      <td>0.280004</td>\n",
              "      <td>-0.436158</td>\n",
              "      <td>0.942206</td>\n",
              "      <td>0.930618</td>\n",
              "      <td>-0.021631</td>\n",
              "      <td>-0.046012</td>\n",
              "      <td>-0.160386</td>\n",
              "      <td>-0.310262</td>\n",
              "      <td>-0.545681</td>\n",
              "      <td>-0.052005</td>\n",
              "      <td>0.011750</td>\n",
              "      <td>-0.030641</td>\n",
              "      <td>-0.030936</td>\n",
              "      <td>0.215070</td>\n",
              "      <td>0.016090</td>\n",
              "      <td>0.777585</td>\n",
              "      <td>1.000000</td>\n",
              "      <td>0.022549</td>\n",
              "    </tr>\n",
              "    <tr>\n",
              "      <th>target</th>\n",
              "      <td>0.040587</td>\n",
              "      <td>-0.012670</td>\n",
              "      <td>-0.003908</td>\n",
              "      <td>0.001325</td>\n",
              "      <td>-0.002062</td>\n",
              "      <td>0.027511</td>\n",
              "      <td>0.020078</td>\n",
              "      <td>-0.258324</td>\n",
              "      <td>-0.023544</td>\n",
              "      <td>0.007665</td>\n",
              "      <td>0.004937</td>\n",
              "      <td>-0.014680</td>\n",
              "      <td>-0.090714</td>\n",
              "      <td>-0.090714</td>\n",
              "      <td>-0.138099</td>\n",
              "      <td>-0.127327</td>\n",
              "      <td>0.049670</td>\n",
              "      <td>-0.147570</td>\n",
              "      <td>0.020330</td>\n",
              "      <td>0.022549</td>\n",
              "      <td>1.000000</td>\n",
              "    </tr>\n",
              "  </tbody>\n",
              "</table>\n",
              "</div>"
            ],
            "text/plain": [
              "                             outport    inport  ...  vnet_vc_cc_index    target\n",
              "outport                     1.000000 -0.640860  ...          0.499396  0.040587\n",
              "inport                     -0.640860  1.000000  ...         -0.468238 -0.012670\n",
              "cache_coherence_type       -0.231043  0.289527  ...         -0.041410 -0.003908\n",
              "flit_id                     0.017385 -0.001553  ...          0.280004  0.001325\n",
              "flit_type                  -0.027084  0.002418  ...         -0.436158 -0.002062\n",
              "vnet                        0.533824 -0.475627  ...          0.942206  0.027511\n",
              "vc                          0.547234 -0.566596  ...          0.930618  0.020078\n",
              "traversal_id                0.011146  0.016753  ...         -0.021631 -0.258324\n",
              "hop_count                   0.164037  0.084813  ...         -0.046012 -0.023544\n",
              "current_hop                -0.257597  0.610024  ...         -0.160386  0.007665\n",
              "hop_percentage             -0.557620  0.855844  ...         -0.310262  0.004937\n",
              "enqueue_time               -0.456159  0.611373  ...         -0.545681 -0.014680\n",
              "packet_count_decr          -0.064275  0.004628  ...         -0.052005 -0.090714\n",
              "packet_count_incr          -0.016396 -0.075568  ...          0.011750 -0.090714\n",
              "max_packet_count           -0.061405 -0.053998  ...         -0.030641 -0.138099\n",
              "packet_count_index         -0.061887 -0.046284  ...         -0.030936 -0.127327\n",
              "port_index                  0.529113  0.139108  ...          0.215070  0.049670\n",
              "traversal_index            -0.067549  0.092865  ...          0.016090 -0.147570\n",
              "cache_coherence_vnet_index  0.257988 -0.156273  ...          0.777585  0.020330\n",
              "vnet_vc_cc_index            0.499396 -0.468238  ...          1.000000  0.022549\n",
              "target                      0.040587 -0.012670  ...          0.022549  1.000000\n",
              "\n",
              "[21 rows x 21 columns]"
            ]
          },
          "metadata": {
            "tags": []
          },
          "execution_count": 13
        }
      ]
    },
    {
      "cell_type": "code",
      "metadata": {
        "colab_type": "code",
        "id": "KO-4OTqWHg2O",
        "outputId": "d60f168a-6971-40f8-95a2-09f467e0c177",
        "colab": {
          "base_uri": "https://localhost:8080/",
          "height": 993
        }
      },
      "source": [
        "plt.figure(figsize=(25,25))\n",
        "sns.heatmap(df.corr(), annot = True)\n",
        "plt.show()"
      ],
      "execution_count": 14,
      "outputs": [
        {
          "output_type": "display_data",
          "data": {
            "image/png": "[encoded data removed]",
            "text/plain": [
              "<Figure size 1800x1800 with 2 Axes>"
            ]
          },
          "metadata": {
            "tags": [],
            "needs_background": "light"
          }
        }
      ]
    },
    {
      "cell_type": "code",
      "metadata": {
        "id": "ihUQ4Na0X6ud",
        "colab_type": "code",
        "colab": {}
      },
      "source": [
        "def find_correlation(data, threshold=0.9):\n",
        "    corr_mat = data.corr()\n",
        "    corr_mat.loc[:, :] = np.tril(corr_mat, k=-1)\n",
        "    already_in = set()\n",
        "    result = []\n",
        "    for col in corr_mat:\n",
        "        perfect_corr = corr_mat[col][abs(corr_mat[col])> threshold].index.tolist()\n",
        "        if perfect_corr and col not in already_in:\n",
        "            already_in.update(set(perfect_corr))\n",
        "            perfect_corr.append(col)\n",
        "            result.append(perfect_corr)\n",
        "    select_nested = [f[1:] for f in result]\n",
        "    select_flat = [i for j in select_nested for i in j]\n",
        "    return select_flat"
      ],
      "execution_count": 0,
      "outputs": []
    },
    {
      "cell_type": "code",
      "metadata": {
        "id": "ea_XFirFYRWD",
        "colab_type": "code",
        "outputId": "d3e0691c-5216-4c6c-a8d0-603f242d3cb3",
        "colab": {
          "base_uri": "https://localhost:8080/",
          "height": 34
        }
      },
      "source": [
        "columns_to_drop = find_correlation(df.drop(columns=['target']))\n",
        "columns_to_drop"
      ],
      "execution_count": 16,
      "outputs": [
        {
          "output_type": "execute_result",
          "data": {
            "text/plain": [
              "['vnet_vc_cc_index', 'vnet']"
            ]
          },
          "metadata": {
            "tags": []
          },
          "execution_count": 16
        }
      ]
    },
    {
      "cell_type": "code",
      "metadata": {
        "id": "uoJ0vV8dc3Tp",
        "colab_type": "code",
        "colab": {}
      },
      "source": [
        "df = df.drop(columns=['inport','cache_coherence_type','flit_id','flit_type','vnet','current_hop','hop_percentage','port_index','cache_coherence_vnet_index','vnet_vc_cc_index'])"
      ],
      "execution_count": 0,
      "outputs": []
    },
    {
      "cell_type": "code",
      "metadata": {
        "id": "mnbTvnKD8pJp",
        "colab_type": "code",
        "outputId": "54486724-1e8b-4e82-c582-d94e4c9952e3",
        "colab": {
          "base_uri": "https://localhost:8080/",
          "height": 739
        }
      },
      "source": [
        "plt.figure(figsize=(11,11))\n",
        "sns.heatmap(df.corr(), annot = True)\n",
        "plt.show()"
      ],
      "execution_count": 18,
      "outputs": [
        {
          "output_type": "display_data",
          "data": {
            "image/png": "[encoded data removed]",
            "text/plain": [
              "<Figure size 792x792 with 2 Axes>"
            ]
          },
          "metadata": {
            "tags": [],
            "needs_background": "light"
          }
        }
      ]
    },
    {
      "cell_type": "code",
      "metadata": {
        "id": "xmD7x9tM8rFy",
        "colab_type": "code",
        "outputId": "7c1cc2c2-689e-400d-e9eb-6a47348a869d",
        "colab": {
          "base_uri": "https://localhost:8080/",
          "height": 739
        }
      },
      "source": [
        "plt.figure(figsize=(11,11))\n",
        "sns.heatmap(df.corr())\n",
        "plt.show()"
      ],
      "execution_count": 19,
      "outputs": [
        {
          "output_type": "display_data",
          "data": {
            "image/png": "[encoded data removed]",
            "text/plain": [
              "<Figure size 792x792 with 2 Axes>"
            ]
          },
          "metadata": {
            "tags": [],
            "needs_background": "light"
          }
        }
      ]
    },
    {
      "cell_type": "markdown",
      "metadata": {
        "colab_type": "text",
        "id": "dqkKQOsugytM"
      },
      "source": [
        "Processing Dataset for Training"
      ]
    },
    {
      "cell_type": "code",
      "metadata": {
        "id": "3QGHP8EYGqHK",
        "colab_type": "code",
        "colab": {}
      },
      "source": [
        "train_X = df.drop(columns=['target'])\n",
        "train_Y = df['target']"
      ],
      "execution_count": 0,
      "outputs": []
    },
    {
      "cell_type": "code",
      "metadata": {
        "colab_type": "code",
        "id": "ebvK4Qc8Hg2S",
        "outputId": "95dcdc21-1da8-4794-e136-68a9bca455eb",
        "colab": {
          "base_uri": "https://localhost:8080/",
          "height": 439
        }
      },
      "source": [
        "#standardization\n",
        "x = train_X.values\n",
        "min_max_scaler = preprocessing.MinMaxScaler()\n",
        "columns = train_X.columns\n",
        "x_scaled = min_max_scaler.fit_transform(x)\n",
        "train_X = pd.DataFrame(x_scaled)\n",
        "train_X.columns = columns\n",
        "train_X"
      ],
      "execution_count": 21,
      "outputs": [
        {
          "output_type": "execute_result",
          "data": {
            "text/html": [
              "<div>\n",
              "<style scoped>\n",
              "    .dataframe tbody tr th:only-of-type {\n",
              "        vertical-align: middle;\n",
              "    }\n",
              "\n",
              "    .dataframe tbody tr th {\n",
              "        vertical-align: top;\n",
              "    }\n",
              "\n",
              "    .dataframe thead th {\n",
              "        text-align: right;\n",
              "    }\n",
              "</style>\n",
              "<table border=\"1\" class=\"dataframe\">\n",
              "  <thead>\n",
              "    <tr style=\"text-align: right;\">\n",
              "      <th></th>\n",
              "      <th>outport</th>\n",
              "      <th>vc</th>\n",
              "      <th>traversal_id</th>\n",
              "      <th>hop_count</th>\n",
              "      <th>enqueue_time</th>\n",
              "      <th>packet_count_decr</th>\n",
              "      <th>packet_count_incr</th>\n",
              "      <th>max_packet_count</th>\n",
              "      <th>packet_count_index</th>\n",
              "      <th>traversal_index</th>\n",
              "    </tr>\n",
              "  </thead>\n",
              "  <tbody>\n",
              "    <tr>\n",
              "      <th>0</th>\n",
              "      <td>0.666667</td>\n",
              "      <td>0.000000</td>\n",
              "      <td>0.000033</td>\n",
              "      <td>0.500000</td>\n",
              "      <td>0.000000</td>\n",
              "      <td>0.524590</td>\n",
              "      <td>0.000000</td>\n",
              "      <td>0.524590</td>\n",
              "      <td>0.008461</td>\n",
              "      <td>0.000001</td>\n",
              "    </tr>\n",
              "    <tr>\n",
              "      <th>1</th>\n",
              "      <td>0.666667</td>\n",
              "      <td>0.000000</td>\n",
              "      <td>0.000033</td>\n",
              "      <td>0.500000</td>\n",
              "      <td>0.000000</td>\n",
              "      <td>0.467213</td>\n",
              "      <td>0.000000</td>\n",
              "      <td>0.467213</td>\n",
              "      <td>0.007536</td>\n",
              "      <td>0.000001</td>\n",
              "    </tr>\n",
              "    <tr>\n",
              "      <th>2</th>\n",
              "      <td>0.666667</td>\n",
              "      <td>0.000000</td>\n",
              "      <td>0.000066</td>\n",
              "      <td>0.500000</td>\n",
              "      <td>0.000000</td>\n",
              "      <td>0.524590</td>\n",
              "      <td>0.000000</td>\n",
              "      <td>0.524590</td>\n",
              "      <td>0.008461</td>\n",
              "      <td>0.000003</td>\n",
              "    </tr>\n",
              "    <tr>\n",
              "      <th>3</th>\n",
              "      <td>0.000000</td>\n",
              "      <td>0.727273</td>\n",
              "      <td>0.000033</td>\n",
              "      <td>0.500000</td>\n",
              "      <td>0.166667</td>\n",
              "      <td>0.463115</td>\n",
              "      <td>0.004098</td>\n",
              "      <td>0.467213</td>\n",
              "      <td>0.015005</td>\n",
              "      <td>0.000001</td>\n",
              "    </tr>\n",
              "    <tr>\n",
              "      <th>4</th>\n",
              "      <td>0.000000</td>\n",
              "      <td>0.727273</td>\n",
              "      <td>0.000033</td>\n",
              "      <td>0.500000</td>\n",
              "      <td>0.180556</td>\n",
              "      <td>0.459016</td>\n",
              "      <td>0.008197</td>\n",
              "      <td>0.467213</td>\n",
              "      <td>0.022343</td>\n",
              "      <td>0.000010</td>\n",
              "    </tr>\n",
              "    <tr>\n",
              "      <th>...</th>\n",
              "      <td>...</td>\n",
              "      <td>...</td>\n",
              "      <td>...</td>\n",
              "      <td>...</td>\n",
              "      <td>...</td>\n",
              "      <td>...</td>\n",
              "      <td>...</td>\n",
              "      <td>...</td>\n",
              "      <td>...</td>\n",
              "      <td>...</td>\n",
              "    </tr>\n",
              "    <tr>\n",
              "      <th>1265620</th>\n",
              "      <td>0.666667</td>\n",
              "      <td>0.909091</td>\n",
              "      <td>0.999967</td>\n",
              "      <td>0.833333</td>\n",
              "      <td>0.013889</td>\n",
              "      <td>0.016393</td>\n",
              "      <td>0.077869</td>\n",
              "      <td>0.094262</td>\n",
              "      <td>0.006544</td>\n",
              "      <td>0.177782</td>\n",
              "    </tr>\n",
              "    <tr>\n",
              "      <th>1265621</th>\n",
              "      <td>0.666667</td>\n",
              "      <td>0.909091</td>\n",
              "      <td>0.999967</td>\n",
              "      <td>0.833333</td>\n",
              "      <td>0.027778</td>\n",
              "      <td>0.012295</td>\n",
              "      <td>0.081967</td>\n",
              "      <td>0.094262</td>\n",
              "      <td>0.005487</td>\n",
              "      <td>0.266674</td>\n",
              "    </tr>\n",
              "    <tr>\n",
              "      <th>1265622</th>\n",
              "      <td>0.666667</td>\n",
              "      <td>0.909091</td>\n",
              "      <td>0.999967</td>\n",
              "      <td>0.833333</td>\n",
              "      <td>0.041667</td>\n",
              "      <td>0.008197</td>\n",
              "      <td>0.086066</td>\n",
              "      <td>0.094262</td>\n",
              "      <td>0.004297</td>\n",
              "      <td>0.355566</td>\n",
              "    </tr>\n",
              "    <tr>\n",
              "      <th>1265623</th>\n",
              "      <td>0.666667</td>\n",
              "      <td>0.090909</td>\n",
              "      <td>0.999967</td>\n",
              "      <td>0.500000</td>\n",
              "      <td>0.055556</td>\n",
              "      <td>0.004098</td>\n",
              "      <td>0.090164</td>\n",
              "      <td>0.094262</td>\n",
              "      <td>0.002975</td>\n",
              "      <td>0.133336</td>\n",
              "    </tr>\n",
              "    <tr>\n",
              "      <th>1265624</th>\n",
              "      <td>0.666667</td>\n",
              "      <td>0.909091</td>\n",
              "      <td>0.999967</td>\n",
              "      <td>0.833333</td>\n",
              "      <td>0.097222</td>\n",
              "      <td>0.000000</td>\n",
              "      <td>0.094262</td>\n",
              "      <td>0.094262</td>\n",
              "      <td>0.001520</td>\n",
              "      <td>0.666688</td>\n",
              "    </tr>\n",
              "  </tbody>\n",
              "</table>\n",
              "<p>1265625 rows × 10 columns</p>\n",
              "</div>"
            ],
            "text/plain": [
              "          outport        vc  ...  packet_count_index  traversal_index\n",
              "0        0.666667  0.000000  ...            0.008461         0.000001\n",
              "1        0.666667  0.000000  ...            0.007536         0.000001\n",
              "2        0.666667  0.000000  ...            0.008461         0.000003\n",
              "3        0.000000  0.727273  ...            0.015005         0.000001\n",
              "4        0.000000  0.727273  ...            0.022343         0.000010\n",
              "...           ...       ...  ...                 ...              ...\n",
              "1265620  0.666667  0.909091  ...            0.006544         0.177782\n",
              "1265621  0.666667  0.909091  ...            0.005487         0.266674\n",
              "1265622  0.666667  0.909091  ...            0.004297         0.355566\n",
              "1265623  0.666667  0.090909  ...            0.002975         0.133336\n",
              "1265624  0.666667  0.909091  ...            0.001520         0.666688\n",
              "\n",
              "[1265625 rows x 10 columns]"
            ]
          },
          "metadata": {
            "tags": []
          },
          "execution_count": 21
        }
      ]
    },
    {
      "cell_type": "code",
      "metadata": {
        "colab_type": "code",
        "id": "S6WGL499FBbX",
        "outputId": "6e7b147e-c294-4085-a4be-6f914d18e71a",
        "colab": {
          "base_uri": "https://localhost:8080/",
          "height": 34
        }
      },
      "source": [
        "train_X[train_X.duplicated()].shape"
      ],
      "execution_count": 22,
      "outputs": [
        {
          "output_type": "execute_result",
          "data": {
            "text/plain": [
              "(6435, 10)"
            ]
          },
          "metadata": {
            "tags": []
          },
          "execution_count": 22
        }
      ]
    },
    {
      "cell_type": "code",
      "metadata": {
        "id": "0BZm1zbDPrjh",
        "colab_type": "code",
        "outputId": "c9a70d90-7e19-4425-d9a3-e0c3ef7c8670",
        "colab": {
          "base_uri": "https://localhost:8080/",
          "height": 456
        }
      },
      "source": [
        "test_X = df13.drop(columns=['target','timestamp','src_ni','src_router','dst_ni','dst_router','inport','cache_coherence_type','flit_id','flit_type','vnet','current_hop','hop_percentage','port_index','cache_coherence_vnet_index','vnet_vc_cc_index'])\n",
        "test_Y = df13['target']\n",
        "x = test_X.values\n",
        "min_max_scaler = preprocessing.MinMaxScaler()\n",
        "columns = test_X.columns\n",
        "x_scaled = min_max_scaler.fit_transform(x)\n",
        "test_X = pd.DataFrame(x_scaled)\n",
        "test_X.columns = columns\n",
        "print(test_X[test_X.duplicated()].shape)\n",
        "test_X"
      ],
      "execution_count": 23,
      "outputs": [
        {
          "output_type": "stream",
          "text": [
            "(0, 10)\n"
          ],
          "name": "stdout"
        },
        {
          "output_type": "execute_result",
          "data": {
            "text/html": [
              "<div>\n",
              "<style scoped>\n",
              "    .dataframe tbody tr th:only-of-type {\n",
              "        vertical-align: middle;\n",
              "    }\n",
              "\n",
              "    .dataframe tbody tr th {\n",
              "        vertical-align: top;\n",
              "    }\n",
              "\n",
              "    .dataframe thead th {\n",
              "        text-align: right;\n",
              "    }\n",
              "</style>\n",
              "<table border=\"1\" class=\"dataframe\">\n",
              "  <thead>\n",
              "    <tr style=\"text-align: right;\">\n",
              "      <th></th>\n",
              "      <th>outport</th>\n",
              "      <th>vc</th>\n",
              "      <th>traversal_id</th>\n",
              "      <th>hop_count</th>\n",
              "      <th>enqueue_time</th>\n",
              "      <th>packet_count_decr</th>\n",
              "      <th>packet_count_incr</th>\n",
              "      <th>max_packet_count</th>\n",
              "      <th>packet_count_index</th>\n",
              "      <th>traversal_index</th>\n",
              "    </tr>\n",
              "  </thead>\n",
              "  <tbody>\n",
              "    <tr>\n",
              "      <th>0</th>\n",
              "      <td>1.000000</td>\n",
              "      <td>0.727273</td>\n",
              "      <td>0.0</td>\n",
              "      <td>0.6</td>\n",
              "      <td>0.166667</td>\n",
              "      <td>0.472222</td>\n",
              "      <td>0.000000</td>\n",
              "      <td>0.472222</td>\n",
              "      <td>0.008586</td>\n",
              "      <td>0.000000</td>\n",
              "    </tr>\n",
              "    <tr>\n",
              "      <th>1</th>\n",
              "      <td>1.000000</td>\n",
              "      <td>0.727273</td>\n",
              "      <td>0.0</td>\n",
              "      <td>0.6</td>\n",
              "      <td>0.180556</td>\n",
              "      <td>0.467593</td>\n",
              "      <td>0.004630</td>\n",
              "      <td>0.472222</td>\n",
              "      <td>0.017088</td>\n",
              "      <td>0.000004</td>\n",
              "    </tr>\n",
              "    <tr>\n",
              "      <th>2</th>\n",
              "      <td>1.000000</td>\n",
              "      <td>0.727273</td>\n",
              "      <td>0.0</td>\n",
              "      <td>0.6</td>\n",
              "      <td>0.194444</td>\n",
              "      <td>0.462963</td>\n",
              "      <td>0.009259</td>\n",
              "      <td>0.472222</td>\n",
              "      <td>0.025421</td>\n",
              "      <td>0.000007</td>\n",
              "    </tr>\n",
              "    <tr>\n",
              "      <th>3</th>\n",
              "      <td>1.000000</td>\n",
              "      <td>0.727273</td>\n",
              "      <td>0.0</td>\n",
              "      <td>0.6</td>\n",
              "      <td>0.208333</td>\n",
              "      <td>0.458333</td>\n",
              "      <td>0.013889</td>\n",
              "      <td>0.472222</td>\n",
              "      <td>0.033586</td>\n",
              "      <td>0.000010</td>\n",
              "    </tr>\n",
              "    <tr>\n",
              "      <th>4</th>\n",
              "      <td>1.000000</td>\n",
              "      <td>0.727273</td>\n",
              "      <td>0.0</td>\n",
              "      <td>0.6</td>\n",
              "      <td>0.263889</td>\n",
              "      <td>0.453704</td>\n",
              "      <td>0.018519</td>\n",
              "      <td>0.472222</td>\n",
              "      <td>0.041582</td>\n",
              "      <td>0.000021</td>\n",
              "    </tr>\n",
              "    <tr>\n",
              "      <th>...</th>\n",
              "      <td>...</td>\n",
              "      <td>...</td>\n",
              "      <td>...</td>\n",
              "      <td>...</td>\n",
              "      <td>...</td>\n",
              "      <td>...</td>\n",
              "      <td>...</td>\n",
              "      <td>...</td>\n",
              "      <td>...</td>\n",
              "      <td>...</td>\n",
              "    </tr>\n",
              "    <tr>\n",
              "      <th>108169</th>\n",
              "      <td>0.666667</td>\n",
              "      <td>0.909091</td>\n",
              "      <td>1.0</td>\n",
              "      <td>0.8</td>\n",
              "      <td>0.013889</td>\n",
              "      <td>0.018519</td>\n",
              "      <td>0.087963</td>\n",
              "      <td>0.106481</td>\n",
              "      <td>0.008333</td>\n",
              "      <td>0.044445</td>\n",
              "    </tr>\n",
              "    <tr>\n",
              "      <th>108170</th>\n",
              "      <td>0.666667</td>\n",
              "      <td>0.909091</td>\n",
              "      <td>1.0</td>\n",
              "      <td>0.8</td>\n",
              "      <td>0.027778</td>\n",
              "      <td>0.013889</td>\n",
              "      <td>0.092593</td>\n",
              "      <td>0.106481</td>\n",
              "      <td>0.006987</td>\n",
              "      <td>0.177782</td>\n",
              "    </tr>\n",
              "    <tr>\n",
              "      <th>108171</th>\n",
              "      <td>0.666667</td>\n",
              "      <td>0.909091</td>\n",
              "      <td>1.0</td>\n",
              "      <td>0.8</td>\n",
              "      <td>0.041667</td>\n",
              "      <td>0.009259</td>\n",
              "      <td>0.097222</td>\n",
              "      <td>0.106481</td>\n",
              "      <td>0.005471</td>\n",
              "      <td>0.266674</td>\n",
              "    </tr>\n",
              "    <tr>\n",
              "      <th>108172</th>\n",
              "      <td>0.666667</td>\n",
              "      <td>0.909091</td>\n",
              "      <td>1.0</td>\n",
              "      <td>0.8</td>\n",
              "      <td>0.055556</td>\n",
              "      <td>0.004630</td>\n",
              "      <td>0.101852</td>\n",
              "      <td>0.106481</td>\n",
              "      <td>0.003788</td>\n",
              "      <td>0.355566</td>\n",
              "    </tr>\n",
              "    <tr>\n",
              "      <th>108173</th>\n",
              "      <td>0.666667</td>\n",
              "      <td>0.909091</td>\n",
              "      <td>1.0</td>\n",
              "      <td>0.8</td>\n",
              "      <td>0.111111</td>\n",
              "      <td>0.000000</td>\n",
              "      <td>0.106481</td>\n",
              "      <td>0.106481</td>\n",
              "      <td>0.001936</td>\n",
              "      <td>0.666688</td>\n",
              "    </tr>\n",
              "  </tbody>\n",
              "</table>\n",
              "<p>108174 rows × 10 columns</p>\n",
              "</div>"
            ],
            "text/plain": [
              "         outport        vc  ...  packet_count_index  traversal_index\n",
              "0       1.000000  0.727273  ...            0.008586         0.000000\n",
              "1       1.000000  0.727273  ...            0.017088         0.000004\n",
              "2       1.000000  0.727273  ...            0.025421         0.000007\n",
              "3       1.000000  0.727273  ...            0.033586         0.000010\n",
              "4       1.000000  0.727273  ...            0.041582         0.000021\n",
              "...          ...       ...  ...                 ...              ...\n",
              "108169  0.666667  0.909091  ...            0.008333         0.044445\n",
              "108170  0.666667  0.909091  ...            0.006987         0.177782\n",
              "108171  0.666667  0.909091  ...            0.005471         0.266674\n",
              "108172  0.666667  0.909091  ...            0.003788         0.355566\n",
              "108173  0.666667  0.909091  ...            0.001936         0.666688\n",
              "\n",
              "[108174 rows x 10 columns]"
            ]
          },
          "metadata": {
            "tags": []
          },
          "execution_count": 23
        }
      ]
    },
    {
      "cell_type": "code",
      "metadata": {
        "id": "6RHIaC_EpHU3",
        "colab_type": "code",
        "outputId": "5470fef1-c1c0-478a-9d69-fb425297d64b",
        "colab": {
          "base_uri": "https://localhost:8080/",
          "height": 34
        }
      },
      "source": [
        "test_X1 = df14.drop(columns=['target','timestamp','src_ni','src_router','dst_ni','dst_router','inport','cache_coherence_type','flit_id','flit_type','vnet','current_hop','hop_percentage','port_index','cache_coherence_vnet_index','vnet_vc_cc_index'])\n",
        "test_Y1 = df14['target']\n",
        "x = test_X1.values\n",
        "min_max_scaler = preprocessing.MinMaxScaler()\n",
        "columns = test_X1.columns\n",
        "x_scaled = min_max_scaler.fit_transform(x)\n",
        "test_X1 = pd.DataFrame(x_scaled)\n",
        "test_X1.columns = columns\n",
        "print(test_X1[test_X1.duplicated()].shape)"
      ],
      "execution_count": 24,
      "outputs": [
        {
          "output_type": "stream",
          "text": [
            "(0, 10)\n"
          ],
          "name": "stdout"
        }
      ]
    },
    {
      "cell_type": "code",
      "metadata": {
        "id": "CcaDu50VpICj",
        "colab_type": "code",
        "outputId": "9a8d3a6f-783a-4589-deb0-234c3e8f4614",
        "colab": {
          "base_uri": "https://localhost:8080/",
          "height": 34
        }
      },
      "source": [
        "test_X2 = df15.drop(columns=['target','timestamp','src_ni','src_router','dst_ni','dst_router','inport','cache_coherence_type','flit_id','flit_type','vnet','current_hop','hop_percentage','port_index','cache_coherence_vnet_index','vnet_vc_cc_index'])\n",
        "test_Y2 = df15['target']\n",
        "x = test_X2.values\n",
        "min_max_scaler = preprocessing.MinMaxScaler()\n",
        "columns = test_X2.columns\n",
        "x_scaled = min_max_scaler.fit_transform(x)\n",
        "test_X2 = pd.DataFrame(x_scaled)\n",
        "test_X2.columns = columns\n",
        "print(test_X2[test_X2.duplicated()].shape)"
      ],
      "execution_count": 25,
      "outputs": [
        {
          "output_type": "stream",
          "text": [
            "(0, 10)\n"
          ],
          "name": "stdout"
        }
      ]
    },
    {
      "cell_type": "code",
      "metadata": {
        "id": "6_CQ1D1DpIgj",
        "colab_type": "code",
        "outputId": "27767a5f-f451-46cd-8cbc-50f33d67d59f",
        "colab": {
          "base_uri": "https://localhost:8080/",
          "height": 34
        }
      },
      "source": [
        "test_X3 = df16.drop(columns=['target','timestamp','src_ni','src_router','dst_ni','dst_router','inport','cache_coherence_type','flit_id','flit_type','vnet','current_hop','hop_percentage','port_index','cache_coherence_vnet_index','vnet_vc_cc_index'])\n",
        "test_Y3 = df16['target']\n",
        "x = test_X3.values\n",
        "min_max_scaler = preprocessing.MinMaxScaler()\n",
        "columns = test_X3.columns\n",
        "x_scaled = min_max_scaler.fit_transform(x)\n",
        "test_X3 = pd.DataFrame(x_scaled)\n",
        "test_X3.columns = columns\n",
        "print(test_X3[test_X3.duplicated()].shape)"
      ],
      "execution_count": 26,
      "outputs": [
        {
          "output_type": "stream",
          "text": [
            "(0, 10)\n"
          ],
          "name": "stdout"
        }
      ]
    },
    {
      "cell_type": "code",
      "metadata": {
        "id": "yyhSMnXWpI7H",
        "colab_type": "code",
        "outputId": "f551ba34-fa2e-4e4b-ed5c-8bc92e7ee1ab",
        "colab": {
          "base_uri": "https://localhost:8080/",
          "height": 34
        }
      },
      "source": [
        "test_X4 = df17.drop(columns=['target','timestamp','src_ni','src_router','dst_ni','dst_router','inport','cache_coherence_type','flit_id','flit_type','vnet','current_hop','hop_percentage','port_index','cache_coherence_vnet_index','vnet_vc_cc_index'])\n",
        "test_Y4 = df17['target']\n",
        "x = test_X4.values\n",
        "min_max_scaler = preprocessing.MinMaxScaler()\n",
        "columns = test_X4.columns\n",
        "x_scaled = min_max_scaler.fit_transform(x)\n",
        "test_X4 = pd.DataFrame(x_scaled)\n",
        "test_X4.columns = columns\n",
        "print(test_X4[test_X4.duplicated()].shape)"
      ],
      "execution_count": 27,
      "outputs": [
        {
          "output_type": "stream",
          "text": [
            "(0, 10)\n"
          ],
          "name": "stdout"
        }
      ]
    },
    {
      "cell_type": "code",
      "metadata": {
        "id": "x1L9-vRTpJtX",
        "colab_type": "code",
        "outputId": "34c45401-c465-43f3-d19b-e381113fbd55",
        "colab": {
          "base_uri": "https://localhost:8080/",
          "height": 34
        }
      },
      "source": [
        "test_X5 = df18.drop(columns=['target','timestamp','src_ni','src_router','dst_ni','dst_router','inport','cache_coherence_type','flit_id','flit_type','vnet','current_hop','hop_percentage','port_index','cache_coherence_vnet_index','vnet_vc_cc_index'])\n",
        "test_Y5 = df18['target']\n",
        "x = test_X5.values\n",
        "min_max_scaler = preprocessing.MinMaxScaler()\n",
        "columns = test_X5.columns\n",
        "x_scaled = min_max_scaler.fit_transform(x)\n",
        "test_X5 = pd.DataFrame(x_scaled)\n",
        "test_X5.columns = columns\n",
        "print(test_X5[test_X5.duplicated()].shape)"
      ],
      "execution_count": 28,
      "outputs": [
        {
          "output_type": "stream",
          "text": [
            "(0, 10)\n"
          ],
          "name": "stdout"
        }
      ]
    },
    {
      "cell_type": "code",
      "metadata": {
        "id": "TOO9K9qnpLL_",
        "colab_type": "code",
        "outputId": "5c0a327a-aa3e-495d-b168-539705e4e156",
        "colab": {
          "base_uri": "https://localhost:8080/",
          "height": 34
        }
      },
      "source": [
        "test_X6 = df19.drop(columns=['target','timestamp','src_ni','src_router','dst_ni','dst_router','inport','cache_coherence_type','flit_id','flit_type','vnet','current_hop','hop_percentage','port_index','cache_coherence_vnet_index','vnet_vc_cc_index'])\n",
        "test_Y6 = df19['target']\n",
        "x = test_X6.values\n",
        "min_max_scaler = preprocessing.MinMaxScaler()\n",
        "columns = test_X6.columns\n",
        "x_scaled = min_max_scaler.fit_transform(x)\n",
        "test_X6 = pd.DataFrame(x_scaled)\n",
        "test_X6.columns = columns\n",
        "print(test_X6[test_X6.duplicated()].shape)"
      ],
      "execution_count": 29,
      "outputs": [
        {
          "output_type": "stream",
          "text": [
            "(0, 10)\n"
          ],
          "name": "stdout"
        }
      ]
    },
    {
      "cell_type": "code",
      "metadata": {
        "id": "y2dPb0tOpLxu",
        "colab_type": "code",
        "outputId": "cbfc3ab2-d187-4a17-96dd-b8a842e946e3",
        "colab": {
          "base_uri": "https://localhost:8080/",
          "height": 34
        }
      },
      "source": [
        "test_X7 = df20.drop(columns=['target','timestamp','src_ni','src_router','dst_ni','dst_router','inport','cache_coherence_type','flit_id','flit_type','vnet','current_hop','hop_percentage','port_index','cache_coherence_vnet_index','vnet_vc_cc_index'])\n",
        "test_Y7 = df20['target']\n",
        "x = test_X7.values\n",
        "min_max_scaler = preprocessing.MinMaxScaler()\n",
        "columns = test_X7.columns\n",
        "x_scaled = min_max_scaler.fit_transform(x)\n",
        "test_X7 = pd.DataFrame(x_scaled)\n",
        "test_X7.columns = columns\n",
        "print(test_X7[test_X7.duplicated()].shape)"
      ],
      "execution_count": 30,
      "outputs": [
        {
          "output_type": "stream",
          "text": [
            "(0, 10)\n"
          ],
          "name": "stdout"
        }
      ]
    },
    {
      "cell_type": "markdown",
      "metadata": {
        "colab_type": "text",
        "id": "2NUEiEtVHg2h"
      },
      "source": [
        "#### Machine Learning Models"
      ]
    },
    {
      "cell_type": "markdown",
      "metadata": {
        "colab_type": "text",
        "id": "BzgcG2e7hQC8"
      },
      "source": [
        "Module Imports for Data Processing and Report Generation in Machine Learning Models"
      ]
    },
    {
      "cell_type": "code",
      "metadata": {
        "colab_type": "code",
        "id": "wZCWkSvsHg2h",
        "colab": {}
      },
      "source": [
        "from sklearn.model_selection import train_test_split\n",
        "\n",
        "import statsmodels.api as sm\n",
        "from sklearn import metrics\n",
        "\n",
        "from sklearn.metrics import classification_report\n",
        "from sklearn.metrics import confusion_matrix\n",
        "\n",
        "from sklearn.metrics import roc_curve\n",
        "from sklearn.metrics import roc_auc_score\n",
        "from sklearn.metrics import accuracy_score\n",
        "from sklearn.metrics import mean_squared_error"
      ],
      "execution_count": 0,
      "outputs": []
    },
    {
      "cell_type": "markdown",
      "metadata": {
        "colab_type": "text",
        "id": "TWvMTDtHhoex"
      },
      "source": [
        "Labels\n",
        "\n",
        "1.   0 -  malicious\n",
        "2.   1 -  good\n",
        "\n"
      ]
    },
    {
      "cell_type": "code",
      "metadata": {
        "colab_type": "code",
        "id": "Ns6uUJz1G9MD",
        "outputId": "28cf70fb-3c32-471b-acd2-d7adfa304bb5",
        "colab": {
          "base_uri": "https://localhost:8080/",
          "height": 68
        }
      },
      "source": [
        "train_Y = df['target']\n",
        "train_Y.value_counts()"
      ],
      "execution_count": 32,
      "outputs": [
        {
          "output_type": "execute_result",
          "data": {
            "text/plain": [
              "0    914635\n",
              "1    350990\n",
              "Name: target, dtype: int64"
            ]
          },
          "metadata": {
            "tags": []
          },
          "execution_count": 32
        }
      ]
    },
    {
      "cell_type": "markdown",
      "metadata": {
        "colab_type": "text",
        "id": "_px-73eUh-05"
      },
      "source": [
        "Training and Validation Splitting of the Dataset"
      ]
    },
    {
      "cell_type": "code",
      "metadata": {
        "colab_type": "code",
        "id": "f9N46sTQHAw4",
        "colab": {}
      },
      "source": [
        "seed = 5\n",
        "np.random.seed(seed)"
      ],
      "execution_count": 0,
      "outputs": []
    },
    {
      "cell_type": "code",
      "metadata": {
        "colab_type": "code",
        "id": "SnHyPPbEHg2i",
        "colab": {}
      },
      "source": [
        "X_train, X_test, y_train, y_test = train_test_split(train_X, train_Y, test_size=0.2, random_state=seed, shuffle=True)"
      ],
      "execution_count": 0,
      "outputs": []
    },
    {
      "cell_type": "markdown",
      "metadata": {
        "colab_type": "text",
        "id": "Fy_oia0XiJNW"
      },
      "source": [
        "Feature Selection"
      ]
    },
    {
      "cell_type": "code",
      "metadata": {
        "colab_type": "code",
        "id": "v10pJaPUfMOd",
        "outputId": "7ea33765-b9bd-4fd9-dd8a-8a5ceebec3ce",
        "colab": {
          "base_uri": "https://localhost:8080/",
          "height": 469
        }
      },
      "source": [
        "#SelectKBest for feature selection\n",
        "bf = SelectKBest(score_func=chi2, k='all')\n",
        "fit = bf.fit(X_train,y_train)\n",
        "dfscores = pd.DataFrame(fit.scores_)\n",
        "dfcolumns = pd.DataFrame(columns)\n",
        "\n",
        "featureScores = pd.concat([dfcolumns,dfscores],axis=1)\n",
        "featureScores.columns = ['Specs','Score'] \n",
        "print(featureScores.nlargest(10,'Score'))\n",
        "featureScores.plot(kind='barh')"
      ],
      "execution_count": 35,
      "outputs": [
        {
          "output_type": "stream",
          "text": [
            "                Specs         Score\n",
            "2        traversal_id  11485.136698\n",
            "9     traversal_index   3862.790887\n",
            "7    max_packet_count   2053.291193\n",
            "8  packet_count_index   2040.067381\n",
            "5   packet_count_decr   1030.878483\n",
            "6   packet_count_incr   1022.422659\n",
            "0             outport    607.507222\n",
            "1                  vc    159.351591\n",
            "3           hop_count     65.030241\n",
            "4        enqueue_time     31.244646\n"
          ],
          "name": "stdout"
        },
        {
          "output_type": "execute_result",
          "data": {
            "text/plain": [
              "<matplotlib.axes._subplots.AxesSubplot at 0x7f41bb0cccc0>"
            ]
          },
          "metadata": {
            "tags": []
          },
          "execution_count": 35
        },
        {
          "output_type": "display_data",
          "data": {
            "image/png": "[encoded data removed]",
            "text/plain": [
              "<Figure size 432x288 with 1 Axes>"
            ]
          },
          "metadata": {
            "tags": [],
            "needs_background": "light"
          }
        }
      ]
    },
    {
      "cell_type": "markdown",
      "metadata": {
        "colab_type": "text",
        "id": "rnmPuKJF2pdi"
      },
      "source": [
        "Decision Tree Classifier"
      ]
    },
    {
      "cell_type": "code",
      "metadata": {
        "colab_type": "code",
        "id": "biZL4MMmvYmG",
        "colab": {}
      },
      "source": [
        "#decisiontreee\n",
        "from sklearn.tree import DecisionTreeClassifier\n",
        "from sklearn.model_selection import GridSearchCV"
      ],
      "execution_count": 0,
      "outputs": []
    },
    {
      "cell_type": "code",
      "metadata": {
        "colab_type": "code",
        "id": "d3mCR-TiHg2-",
        "outputId": "154e3554-f207-42e1-c8c3-97287de5ac57",
        "colab": {
          "base_uri": "https://localhost:8080/",
          "height": 119
        }
      },
      "source": [
        "dt = DecisionTreeClassifier(max_depth=20,max_features=10,random_state = 42)\n",
        "dt.fit(X_train,y_train)"
      ],
      "execution_count": 37,
      "outputs": [
        {
          "output_type": "execute_result",
          "data": {
            "text/plain": [
              "DecisionTreeClassifier(ccp_alpha=0.0, class_weight=None, criterion='gini',\n",
              "                       max_depth=20, max_features=10, max_leaf_nodes=None,\n",
              "                       min_impurity_decrease=0.0, min_impurity_split=None,\n",
              "                       min_samples_leaf=1, min_samples_split=2,\n",
              "                       min_weight_fraction_leaf=0.0, presort='deprecated',\n",
              "                       random_state=42, splitter='best')"
            ]
          },
          "metadata": {
            "tags": []
          },
          "execution_count": 37
        }
      ]
    },
    {
      "cell_type": "code",
      "metadata": {
        "id": "inQ8gu1OdApz",
        "colab_type": "code",
        "colab": {}
      },
      "source": [
        "pickle.dump(dt, open(\"dt-r4.pickle.dat\", 'wb'))"
      ],
      "execution_count": 0,
      "outputs": []
    },
    {
      "cell_type": "code",
      "metadata": {
        "colab_type": "code",
        "id": "xIIefAL_Hg2_",
        "colab": {}
      },
      "source": [
        "y_pred_dt= dt.predict(X_test)"
      ],
      "execution_count": 0,
      "outputs": []
    },
    {
      "cell_type": "code",
      "metadata": {
        "colab_type": "code",
        "id": "gBahu3DGHg3A",
        "outputId": "d4ad1177-f2ce-4aa3-d1f4-bde6a3ba8630",
        "colab": {
          "base_uri": "https://localhost:8080/",
          "height": 51
        }
      },
      "source": [
        "dt_score_train = dt.score(X_train,y_train)\n",
        "print(\"Train Prediction Score\",dt_score_train*100)\n",
        "dt_score_test = accuracy_score(y_test,y_pred_dt)\n",
        "print(\"Test Prediction Score\",dt_score_test*100)"
      ],
      "execution_count": 40,
      "outputs": [
        {
          "output_type": "stream",
          "text": [
            "Train Prediction Score 94.2792098765432\n",
            "Test Prediction Score 93.6161975308642\n"
          ],
          "name": "stdout"
        }
      ]
    },
    {
      "cell_type": "code",
      "metadata": {
        "id": "6y9oZRCGhR_7",
        "colab_type": "code",
        "outputId": "e22ad455-ddd8-4fef-c741-bc4277347bd7",
        "colab": {
          "base_uri": "https://localhost:8080/",
          "height": 153
        }
      },
      "source": [
        "y_pred_dt_test= dt.predict(test_X)\n",
        "dt_score_test = accuracy_score(test_Y,y_pred_dt_test)\n",
        "print(\"Test Prediction Score\",dt_score_test*100)\n",
        "y_pred_dt_test= dt.predict(test_X1)\n",
        "dt_score_test = accuracy_score(test_Y1,y_pred_dt_test)\n",
        "print(\"Test Prediction Score\",dt_score_test*100)\n",
        "y_pred_dt_test= dt.predict(test_X2)\n",
        "dt_score_test = accuracy_score(test_Y2,y_pred_dt_test)\n",
        "print(\"Test Prediction Score\",dt_score_test*100)\n",
        "y_pred_dt_test= dt.predict(test_X3)\n",
        "dt_score_test = accuracy_score(test_Y3,y_pred_dt_test)\n",
        "print(\"Test Prediction Score\",dt_score_test*100)\n",
        "y_pred_dt_test= dt.predict(test_X4)\n",
        "dt_score_test = accuracy_score(test_Y4,y_pred_dt_test)\n",
        "print(\"Test Prediction Score\",dt_score_test*100)\n",
        "y_pred_dt_test= dt.predict(test_X5)\n",
        "dt_score_test = accuracy_score(test_Y5,y_pred_dt_test)\n",
        "print(\"Test Prediction Score\",dt_score_test*100)\n",
        "y_pred_dt_test= dt.predict(test_X6)\n",
        "dt_score_test = accuracy_score(test_Y6,y_pred_dt_test)\n",
        "print(\"Test Prediction Score\",dt_score_test*100)\n",
        "y_pred_dt_test= dt.predict(test_X7)\n",
        "dt_score_test = accuracy_score(test_Y7,y_pred_dt_test)\n",
        "print(\"Test Prediction Score\",dt_score_test*100)"
      ],
      "execution_count": 41,
      "outputs": [
        {
          "output_type": "stream",
          "text": [
            "Test Prediction Score 85.9938617412687\n",
            "Test Prediction Score 87.21302284217344\n",
            "Test Prediction Score 89.46972236806316\n",
            "Test Prediction Score 88.70978246710955\n",
            "Test Prediction Score 85.47852419947318\n",
            "Test Prediction Score 87.4359811558375\n",
            "Test Prediction Score 86.03923089710202\n",
            "Test Prediction Score 86.6117136659436\n"
          ],
          "name": "stdout"
        }
      ]
    },
    {
      "cell_type": "code",
      "metadata": {
        "colab_type": "code",
        "id": "OCAU8YpEfMRD",
        "outputId": "6abbcc0e-226a-4938-dac0-a93d0476a6d2",
        "colab": {
          "base_uri": "https://localhost:8080/",
          "height": 282
        }
      },
      "source": [
        "feat_importances = pd.Series(dt.feature_importances_, index=columns)\n",
        "feat_importances.plot(kind='barh')"
      ],
      "execution_count": 42,
      "outputs": [
        {
          "output_type": "execute_result",
          "data": {
            "text/plain": [
              "<matplotlib.axes._subplots.AxesSubplot at 0x7f41ba462198>"
            ]
          },
          "metadata": {
            "tags": []
          },
          "execution_count": 42
        },
        {
          "output_type": "display_data",
          "data": {
            "image/png": "[encoded data removed]",
            "text/plain": [
              "<Figure size 432x288 with 1 Axes>"
            ]
          },
          "metadata": {
            "tags": [],
            "needs_background": "light"
          }
        }
      ]
    },
    {
      "cell_type": "code",
      "metadata": {
        "colab_type": "code",
        "id": "5nIhx84-Hg3B",
        "outputId": "a7f5a280-1740-428a-c399-cfc8f2f53a03",
        "colab": {
          "base_uri": "https://localhost:8080/",
          "height": 295
        }
      },
      "source": [
        "cm = confusion_matrix(y_test, y_pred_dt)\n",
        "class_label = [\"Anomalous\", \"Normal\"]\n",
        "df_cm = pd.DataFrame(cm, index=class_label,columns=class_label)\n",
        "sns.heatmap(df_cm, annot=True, fmt='d')\n",
        "plt.title(\"Confusion Matrix\")\n",
        "plt.xlabel(\"Predicted Label\")\n",
        "plt.ylabel(\"True Label\")\n",
        "plt.show()"
      ],
      "execution_count": 43,
      "outputs": [
        {
          "output_type": "display_data",
          "data": {
            "image/png": "[encoded data removed]",
            "text/plain": [
              "<Figure size 432x288 with 2 Axes>"
            ]
          },
          "metadata": {
            "tags": [],
            "needs_background": "light"
          }
        }
      ]
    },
    {
      "cell_type": "code",
      "metadata": {
        "colab_type": "code",
        "id": "xGqt7wigHg3B",
        "outputId": "07015aa4-e5ec-4332-955e-29dc20d2fa31",
        "colab": {
          "base_uri": "https://localhost:8080/",
          "height": 170
        }
      },
      "source": [
        "print(classification_report(y_test,y_pred_dt))"
      ],
      "execution_count": 44,
      "outputs": [
        {
          "output_type": "stream",
          "text": [
            "              precision    recall  f1-score   support\n",
            "\n",
            "           0       0.95      0.97      0.96    183142\n",
            "           1       0.91      0.85      0.88     69983\n",
            "\n",
            "    accuracy                           0.94    253125\n",
            "   macro avg       0.93      0.91      0.92    253125\n",
            "weighted avg       0.94      0.94      0.94    253125\n",
            "\n"
          ],
          "name": "stdout"
        }
      ]
    },
    {
      "cell_type": "code",
      "metadata": {
        "colab_type": "code",
        "id": "wkWUUjGmHg3C",
        "outputId": "d812f33d-f294-4001-b31c-12b3ab36ce2d",
        "colab": {
          "base_uri": "https://localhost:8080/",
          "height": 295
        }
      },
      "source": [
        "dt_roc_auc = roc_auc_score(y_test, y_pred_dt)\n",
        "fpr, tpr, thresholds = roc_curve(y_test, dt.predict_proba(X_test)[:,1])\n",
        "plt.figure()\n",
        "plt.plot(fpr, tpr, label='DTree (area = %0.2f)' % dt_roc_auc)\n",
        "plt.plot([0, 1], [0, 1],'r--')\n",
        "plt.xlim([0.0, 1.0])\n",
        "plt.ylim([0.0, 1.05])\n",
        "plt.xlabel('False Positive Rate')\n",
        "plt.ylabel('True Positive Rate')\n",
        "plt.title('Receiver operating characteristic')\n",
        "plt.legend(loc=\"lower right\")\n",
        "plt.savefig('DT_ROC')\n",
        "plt.show()"
      ],
      "execution_count": 45,
      "outputs": [
        {
          "output_type": "display_data",
          "data": {
            "image/png": "[encoded data removed]",
            "text/plain": [
              "<Figure size 432x288 with 1 Axes>"
            ]
          },
          "metadata": {
            "tags": [],
            "needs_background": "light"
          }
        }
      ]
    },
    {
      "cell_type": "markdown",
      "metadata": {
        "id": "fXmBo6f1Hg3J",
        "colab_type": "text"
      },
      "source": [
        "XGB Classifier"
      ]
    },
    {
      "cell_type": "code",
      "metadata": {
        "id": "nE2alWP-ejv9",
        "colab_type": "code",
        "colab": {}
      },
      "source": [
        "from xgboost import XGBClassifier\n",
        "from xgboost import plot_importance"
      ],
      "execution_count": 0,
      "outputs": []
    },
    {
      "cell_type": "code",
      "metadata": {
        "colab_type": "code",
        "id": "JBwo0_BWHg3K",
        "outputId": "89eb8779-f36a-43f7-82f4-9521fd70da07",
        "colab": {
          "base_uri": "https://localhost:8080/",
          "height": 136
        }
      },
      "source": [
        "xgbc = XGBClassifier(max_depth=20,min_child_weight=1,n_estimators=500,random_state=42,learning_rate=0.2)\n",
        "xgbc.fit(X_train,y_train)"
      ],
      "execution_count": 47,
      "outputs": [
        {
          "output_type": "execute_result",
          "data": {
            "text/plain": [
              "XGBClassifier(base_score=0.5, booster='gbtree', colsample_bylevel=1,\n",
              "              colsample_bynode=1, colsample_bytree=1, gamma=0,\n",
              "              learning_rate=0.2, max_delta_step=0, max_depth=20,\n",
              "              min_child_weight=1, missing=None, n_estimators=500, n_jobs=1,\n",
              "              nthread=None, objective='binary:logistic', random_state=42,\n",
              "              reg_alpha=0, reg_lambda=1, scale_pos_weight=1, seed=None,\n",
              "              silent=None, subsample=1, verbosity=1)"
            ]
          },
          "metadata": {
            "tags": []
          },
          "execution_count": 47
        }
      ]
    },
    {
      "cell_type": "code",
      "metadata": {
        "id": "1mA3luB2uPQG",
        "colab_type": "code",
        "colab": {}
      },
      "source": [
        "pickle.dump(xgbc, open(\"xgbc-r4l.pickle.dat\", 'wb'))"
      ],
      "execution_count": 0,
      "outputs": []
    },
    {
      "cell_type": "code",
      "metadata": {
        "colab_type": "code",
        "id": "prz2UBF8Hg3L",
        "colab": {}
      },
      "source": [
        "y_pred_xgbc= xgbc.predict(X_test)"
      ],
      "execution_count": 0,
      "outputs": []
    },
    {
      "cell_type": "code",
      "metadata": {
        "colab_type": "code",
        "id": "tFKQ1bq8Hg3L",
        "outputId": "1c752d0f-b686-4116-e6fd-050ce51c1885",
        "colab": {
          "base_uri": "https://localhost:8080/",
          "height": 51
        }
      },
      "source": [
        "xgbc_score_train = xgbc.score(X_train,y_train)\n",
        "print(\"Train Prediction Score\",xgbc_score_train*100)\n",
        "xgbc_score_test = accuracy_score(y_test,y_pred_xgbc)\n",
        "print(\"Test Prediction Score\",xgbc_score_test*100)"
      ],
      "execution_count": 50,
      "outputs": [
        {
          "output_type": "stream",
          "text": [
            "Train Prediction Score 99.97837037037037\n",
            "Test Prediction Score 99.567012345679\n"
          ],
          "name": "stdout"
        }
      ]
    },
    {
      "cell_type": "code",
      "metadata": {
        "id": "Z6hKTv8gopF3",
        "colab_type": "code",
        "outputId": "cd60bf9f-c50f-4128-db67-f330d2423f61",
        "colab": {
          "base_uri": "https://localhost:8080/",
          "height": 153
        }
      },
      "source": [
        "y_pred_xgbc_test= xgbc.predict(test_X)\n",
        "xgbc_score_test = accuracy_score(test_Y,y_pred_xgbc_test)\n",
        "print(\"Test Prediction Score\",xgbc_score_test*100)\n",
        "y_pred_xgbc_test= xgbc.predict(test_X1)\n",
        "xgbc_score_test = accuracy_score(test_Y1,y_pred_xgbc_test)\n",
        "print(\"Test Prediction Score\",xgbc_score_test*100)\n",
        "y_pred_xgbc_test= xgbc.predict(test_X2)\n",
        "xgbc_score_test = accuracy_score(test_Y2,y_pred_xgbc_test)\n",
        "print(\"Test Prediction Score\",xgbc_score_test*100)\n",
        "y_pred_xgbc_test= xgbc.predict(test_X3)\n",
        "xgbc_score_test = accuracy_score(test_Y3,y_pred_xgbc_test)\n",
        "print(\"Test Prediction Score\",xgbc_score_test*100)\n",
        "y_pred_xgbc_test= xgbc.predict(test_X4)\n",
        "xgbc_score_test = accuracy_score(test_Y4,y_pred_xgbc_test)\n",
        "print(\"Test Prediction Score\",xgbc_score_test*100)\n",
        "y_pred_xgbc_test= xgbc.predict(test_X5)\n",
        "xgbc_score_test = accuracy_score(test_Y5,y_pred_xgbc_test)\n",
        "print(\"Test Prediction Score\",xgbc_score_test*100)\n",
        "y_pred_xgbc_test= xgbc.predict(test_X6)\n",
        "xgbc_score_test = accuracy_score(test_Y6,y_pred_xgbc_test)\n",
        "print(\"Test Prediction Score\",xgbc_score_test*100)\n",
        "y_pred_xgbc_test= xgbc.predict(test_X7)\n",
        "xgbc_score_test = accuracy_score(test_Y7,y_pred_xgbc_test)\n",
        "print(\"Test Prediction Score\",xgbc_score_test*100)"
      ],
      "execution_count": 51,
      "outputs": [
        {
          "output_type": "stream",
          "text": [
            "Test Prediction Score 88.00913343317248\n",
            "Test Prediction Score 88.63884619474331\n",
            "Test Prediction Score 89.84293458665165\n",
            "Test Prediction Score 89.98502019017846\n",
            "Test Prediction Score 87.56697188524737\n",
            "Test Prediction Score 88.87448108587154\n",
            "Test Prediction Score 87.71818030697622\n",
            "Test Prediction Score 88.68353820197638\n"
          ],
          "name": "stdout"
        }
      ]
    },
    {
      "cell_type": "code",
      "metadata": {
        "colab_type": "code",
        "id": "t-zwHWP_fMR_",
        "outputId": "9e5661ce-d7be-4e21-bf56-7752e457cadd",
        "colab": {
          "base_uri": "https://localhost:8080/",
          "height": 295
        }
      },
      "source": [
        "plot_importance(xgbc)\n",
        "plt.show()"
      ],
      "execution_count": 52,
      "outputs": [
        {
          "output_type": "display_data",
          "data": {
            "image/png": "[encoded data removed]",
            "text/plain": [
              "<Figure size 432x288 with 1 Axes>"
            ]
          },
          "metadata": {
            "tags": [],
            "needs_background": "light"
          }
        }
      ]
    },
    {
      "cell_type": "code",
      "metadata": {
        "colab_type": "code",
        "id": "9OVtiUmaHg3M",
        "outputId": "b98e12c8-ef88-43aa-f5b8-614b9b0a1820",
        "colab": {
          "base_uri": "https://localhost:8080/",
          "height": 295
        }
      },
      "source": [
        "cm = confusion_matrix(y_test, y_pred_xgbc)\n",
        "class_label = [\"Anomalous\", \"Normal\"]\n",
        "df_cm = pd.DataFrame(cm, index=class_label,columns=class_label)\n",
        "sns.heatmap(df_cm, annot=True, fmt='d')\n",
        "plt.title(\"Confusion Matrix\")\n",
        "plt.xlabel(\"Predicted Label\")\n",
        "plt.ylabel(\"True Label\")\n",
        "plt.show()"
      ],
      "execution_count": 53,
      "outputs": [
        {
          "output_type": "display_data",
          "data": {
            "image/png": "[encoded data removed]",
            "text/plain": [
              "<Figure size 432x288 with 2 Axes>"
            ]
          },
          "metadata": {
            "tags": [],
            "needs_background": "light"
          }
        }
      ]
    },
    {
      "cell_type": "code",
      "metadata": {
        "colab_type": "code",
        "id": "gAx5bI8BHg3M",
        "outputId": "cdfe7b45-1cb4-473b-9510-2dd2fda044a0",
        "colab": {
          "base_uri": "https://localhost:8080/",
          "height": 170
        }
      },
      "source": [
        "print(classification_report(y_test,y_pred_xgbc))"
      ],
      "execution_count": 54,
      "outputs": [
        {
          "output_type": "stream",
          "text": [
            "              precision    recall  f1-score   support\n",
            "\n",
            "           0       1.00      1.00      1.00    183142\n",
            "           1       0.99      0.99      0.99     69983\n",
            "\n",
            "    accuracy                           1.00    253125\n",
            "   macro avg       1.00      0.99      0.99    253125\n",
            "weighted avg       1.00      1.00      1.00    253125\n",
            "\n"
          ],
          "name": "stdout"
        }
      ]
    },
    {
      "cell_type": "code",
      "metadata": {
        "colab_type": "code",
        "id": "LqPGLNKQHg3N",
        "outputId": "377e6940-12b3-4034-e239-299cbc6e1158",
        "colab": {
          "base_uri": "https://localhost:8080/",
          "height": 295
        }
      },
      "source": [
        "xgb_roc_auc = roc_auc_score(y_test, y_pred_xgbc)\n",
        "fpr, tpr, thresholds = roc_curve(y_test, xgbc.predict_proba(X_test)[:,1])\n",
        "plt.figure()\n",
        "plt.plot(fpr, tpr, label='XGBoost (area = %0.2f)' % xgb_roc_auc)\n",
        "plt.plot([0, 1], [0, 1],'r--')\n",
        "plt.xlim([0.0, 1.0])\n",
        "plt.ylim([0.0, 1.05])\n",
        "plt.xlabel('False Positive Rate')\n",
        "plt.ylabel('True Positive Rate')\n",
        "plt.title('Receiver operating characteristic')\n",
        "plt.legend(loc=\"lower right\")\n",
        "plt.savefig('XGB_ROC')\n",
        "plt.show()"
      ],
      "execution_count": 55,
      "outputs": [
        {
          "output_type": "display_data",
          "data": {
            "image/png": "[encoded data removed]",
            "text/plain": [
              "<Figure size 432x288 with 1 Axes>"
            ]
          },
          "metadata": {
            "tags": [],
            "needs_background": "light"
          }
        }
      ]
    }
  ]
}