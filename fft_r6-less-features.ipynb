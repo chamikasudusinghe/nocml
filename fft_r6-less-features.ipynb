{
  "nbformat": 4,
  "nbformat_minor": 0,
  "metadata": {
    "accelerator": "TPU",
    "colab": {
      "name": "fft-r6.ipynb",
      "provenance": [],
      "collapsed_sections": [],
      "toc_visible": true,
      "include_colab_link": true
    },
    "kernelspec": {
      "display_name": "Python 3",
      "language": "python",
      "name": "python3"
    },
    "language_info": {
      "codemirror_mode": {
        "name": "ipython",
        "version": 3
      },
      "file_extension": ".py",
      "mimetype": "text/x-python",
      "name": "python",
      "nbconvert_exporter": "python",
      "pygments_lexer": "ipython3",
      "version": "3.7.4"
    }
  },
  "cells": [
    {
      "cell_type": "markdown",
      "metadata": {
        "id": "view-in-github",
        "colab_type": "text"
      },
      "source": [
        "<a href=\"https://colab.research.google.com/github/chamikasudusinghe/nocml/blob/master/fft_r6-less-features.ipynb\" target=\"_parent\"><img src=\"https://colab.research.google.com/assets/colab-badge.svg\" alt=\"Open In Colab\"/></a>"
      ]
    },
    {
      "cell_type": "markdown",
      "metadata": {
        "colab_type": "text",
        "id": "sFmit6AlgLJZ"
      },
      "source": [
        "Module Imports for Data Fetiching and Visualization\n",
        "\n"
      ]
    },
    {
      "cell_type": "code",
      "metadata": {
        "colab_type": "code",
        "id": "k-c4z9vpHg1z",
        "colab": {
          "base_uri": "https://localhost:8080/",
          "height": 71
        },
        "outputId": "38723edb-1006-4744-9426-ba4bcb28d1f8"
      },
      "source": [
        "import time\n",
        "import pandas as pd\n",
        "import numpy as np\n",
        "%matplotlib inline\n",
        "import matplotlib.pyplot as plt\n",
        "import seaborn as sns"
      ],
      "execution_count": 1,
      "outputs": [
        {
          "output_type": "stream",
          "text": [
            "/usr/local/lib/python3.6/dist-packages/statsmodels/tools/_testing.py:19: FutureWarning: pandas.util.testing is deprecated. Use the functions in the public API at pandas.testing instead.\n",
            "  import pandas.util.testing as tm\n"
          ],
          "name": "stderr"
        }
      ]
    },
    {
      "cell_type": "markdown",
      "metadata": {
        "colab_type": "text",
        "id": "wY7RDDLBgdMs"
      },
      "source": [
        "Module Imports for Data Processing"
      ]
    },
    {
      "cell_type": "code",
      "metadata": {
        "colab_type": "code",
        "id": "zhZHRUXxHg13",
        "colab": {}
      },
      "source": [
        "from sklearn import preprocessing\n",
        "from sklearn.feature_selection import SelectKBest\n",
        "from sklearn.feature_selection import chi2\n",
        "import pickle"
      ],
      "execution_count": 0,
      "outputs": []
    },
    {
      "cell_type": "markdown",
      "metadata": {
        "colab_type": "text",
        "id": "GEH4mU3Tghd8"
      },
      "source": [
        "Importing Dataset from GitHub"
      ]
    },
    {
      "cell_type": "markdown",
      "metadata": {
        "id": "q9-4lGZ6NMSt",
        "colab_type": "text"
      },
      "source": [
        "Train Data"
      ]
    },
    {
      "cell_type": "code",
      "metadata": {
        "id": "NblOX7-5PrjB",
        "colab_type": "code",
        "colab": {}
      },
      "source": [
        "df1 = pd.read_csv('https://raw.githubusercontent.com/chamikasudusinghe/nocml/master/dos%20results%20ver%204/router-dataset/r6/2-fft-malicious-n-0-15-m-1-r6.csv?token=AKVFSOGWII4PQBWODYO56AC63I2IK')\n",
        "df2 = pd.read_csv('https://raw.githubusercontent.com/chamikasudusinghe/nocml/master/dos%20results%20ver%204/router-dataset/r6/2-fft-malicious-n-0-15-m-11-r6.csv?token=AKVFSODRMP7WFOTNGA43XEC63I2IO')\n",
        "\n",
        "df3 = pd.read_csv('https://raw.githubusercontent.com/chamikasudusinghe/nocml/master/dos%20results%20ver%204/router-dataset/r6/2-fft-malicious-n-0-4-m-1-r6.csv?token=AKVFSOC3MOPFTWRIVZLY6LS63I2IQ')\n",
        "df4 = pd.read_csv('https://raw.githubusercontent.com/chamikasudusinghe/nocml/master/dos%20results%20ver%204/router-dataset/r6/2-fft-malicious-n-0-4-m-11-r6.csv?token=AKVFSODK22XN2JMTYPDYVR263I2IS')\n",
        "\n",
        "df5 = pd.read_csv('https://raw.githubusercontent.com/chamikasudusinghe/nocml/master/dos%20results%20ver%204/router-dataset/r6/2-fft-malicious-n-0-6-m-1-r6.csv?token=AKVFSOCEJ6B3NQ55JTNCARC63I2IW')\n",
        "df6 = pd.read_csv('https://raw.githubusercontent.com/chamikasudusinghe/nocml/master/dos%20results%20ver%204/router-dataset/r6/2-fft-malicious-n-0-6-m-11-r6.csv?token=AKVFSODSV3TWB37PLTXP5N263I2IY')\n",
        "\n",
        "df7 = pd.read_csv('https://raw.githubusercontent.com/chamikasudusinghe/nocml/master/dos%20results%20ver%204/router-dataset/r6/2-fft-malicious-n-0-9-m-1-r6.csv?token=AKVFSOBUT6AUV234ESMEP7C63I2I2')\n",
        "df8 = pd.read_csv('https://raw.githubusercontent.com/chamikasudusinghe/nocml/master/dos%20results%20ver%204/router-dataset/r6/2-fft-malicious-n-0-9-m-11-r6.csv?token=AKVFSOGWJA7N54BQOK6VAUC63I2I4')\n",
        "\n",
        "df9 = pd.read_csv('https://raw.githubusercontent.com/chamikasudusinghe/nocml/master/dos%20results%20ver%204/router-dataset/r6/2-fft-normal-n-0-15-r6.csv?token=AKVFSOB5PQW5BFUJQL6FMNK63I2I6')\n",
        "df10 = pd.read_csv('https://raw.githubusercontent.com/chamikasudusinghe/nocml/master/dos%20results%20ver%204/router-dataset/r6/2-fft-normal-n-0-4-r6.csv?token=AKVFSOFMX5VZZ2Q7ETLNRK263I2JC')\n",
        "df11 = pd.read_csv('https://raw.githubusercontent.com/chamikasudusinghe/nocml/master/dos%20results%20ver%204/router-dataset/r6/2-fft-normal-n-0-6-r6.csv?token=AKVFSOBWUELYDHYMY6UP3H263I2JG')\n",
        "df12 = pd.read_csv('https://raw.githubusercontent.com/chamikasudusinghe/nocml/master/dos%20results%20ver%204/router-dataset/r6/2-fft-normal-n-0-9-r6.csv?token=AKVFSOHVQOHGL5ZIXZ7FYWC63I2JI')"
      ],
      "execution_count": 0,
      "outputs": []
    },
    {
      "cell_type": "code",
      "metadata": {
        "id": "YtODRV2NPem1",
        "colab_type": "code",
        "outputId": "7b729c7f-f4b0-4dfb-aa88-41c7d9364d2f",
        "colab": {
          "base_uri": "https://localhost:8080/",
          "height": 221
        }
      },
      "source": [
        "print(df1.shape)\n",
        "print(df2.shape)\n",
        "print(df3.shape)\n",
        "print(df4.shape)\n",
        "print(df5.shape)\n",
        "print(df6.shape)\n",
        "print(df7.shape)\n",
        "print(df8.shape)\n",
        "print(df9.shape)\n",
        "print(df10.shape)\n",
        "print(df11.shape)\n",
        "print(df12.shape)"
      ],
      "execution_count": 4,
      "outputs": [
        {
          "output_type": "stream",
          "text": [
            "(55271, 26)\n",
            "(56593, 26)\n",
            "(64885, 26)\n",
            "(66246, 26)\n",
            "(104440, 26)\n",
            "(105875, 26)\n",
            "(52513, 26)\n",
            "(53723, 26)\n",
            "(37247, 26)\n",
            "(46610, 26)\n",
            "(86520, 26)\n",
            "(34507, 26)\n"
          ],
          "name": "stdout"
        }
      ]
    },
    {
      "cell_type": "code",
      "metadata": {
        "id": "9L0CwK80NgDG",
        "colab_type": "code",
        "colab": {}
      },
      "source": [
        "df = df1.append(df2, ignore_index=True,sort=False)\n",
        "df = df.append(df3, ignore_index=True,sort=False)\n",
        "df = df.append(df4, ignore_index=True,sort=False)\n",
        "df = df.append(df5, ignore_index=True,sort=False)\n",
        "df = df.append(df6, ignore_index=True,sort=False)\n",
        "df = df.append(df7, ignore_index=True,sort=False)\n",
        "df = df.append(df8, ignore_index=True,sort=False)\n",
        "df = df.append(df9, ignore_index=True,sort=False)\n",
        "df = df.append(df10, ignore_index=True,sort=False)\n",
        "df = df.append(df11, ignore_index=True,sort=False)\n",
        "df = df.append(df12, ignore_index=True,sort=False)\n",
        "\n",
        "df = df.sort_values('timestamp')\n",
        "df.to_csv('fft-r6-train.csv',index=False)"
      ],
      "execution_count": 0,
      "outputs": []
    },
    {
      "cell_type": "code",
      "metadata": {
        "id": "tovtj_19OeCa",
        "colab_type": "code",
        "outputId": "13971dca-2c97-4fca-f97c-fb74424221b6",
        "colab": {
          "base_uri": "https://localhost:8080/",
          "height": 439
        }
      },
      "source": [
        "df = pd.read_csv('fft-r6-train.csv')\n",
        "df"
      ],
      "execution_count": 6,
      "outputs": [
        {
          "output_type": "execute_result",
          "data": {
            "text/html": [
              "<div>\n",
              "<style scoped>\n",
              "    .dataframe tbody tr th:only-of-type {\n",
              "        vertical-align: middle;\n",
              "    }\n",
              "\n",
              "    .dataframe tbody tr th {\n",
              "        vertical-align: top;\n",
              "    }\n",
              "\n",
              "    .dataframe thead th {\n",
              "        text-align: right;\n",
              "    }\n",
              "</style>\n",
              "<table border=\"1\" class=\"dataframe\">\n",
              "  <thead>\n",
              "    <tr style=\"text-align: right;\">\n",
              "      <th></th>\n",
              "      <th>timestamp</th>\n",
              "      <th>outport</th>\n",
              "      <th>inport</th>\n",
              "      <th>cache_coherence_type</th>\n",
              "      <th>flit_id</th>\n",
              "      <th>flit_type</th>\n",
              "      <th>vnet</th>\n",
              "      <th>vc</th>\n",
              "      <th>src_ni</th>\n",
              "      <th>src_router</th>\n",
              "      <th>dst_ni</th>\n",
              "      <th>dst_router</th>\n",
              "      <th>traversal_id</th>\n",
              "      <th>hop_count</th>\n",
              "      <th>current_hop</th>\n",
              "      <th>hop_percentage</th>\n",
              "      <th>enqueue_time</th>\n",
              "      <th>packet_count_decr</th>\n",
              "      <th>packet_count_incr</th>\n",
              "      <th>max_packet_count</th>\n",
              "      <th>packet_count_index</th>\n",
              "      <th>port_index</th>\n",
              "      <th>traversal_index</th>\n",
              "      <th>cache_coherence_vnet_index</th>\n",
              "      <th>vnet_vc_cc_index</th>\n",
              "      <th>target</th>\n",
              "    </tr>\n",
              "  </thead>\n",
              "  <tbody>\n",
              "    <tr>\n",
              "      <th>0</th>\n",
              "      <td>7</td>\n",
              "      <td>2</td>\n",
              "      <td>0</td>\n",
              "      <td>1</td>\n",
              "      <td>1</td>\n",
              "      <td>4</td>\n",
              "      <td>3</td>\n",
              "      <td>9</td>\n",
              "      <td>6</td>\n",
              "      <td>6</td>\n",
              "      <td>23</td>\n",
              "      <td>7</td>\n",
              "      <td>2</td>\n",
              "      <td>1</td>\n",
              "      <td>0</td>\n",
              "      <td>0.000000</td>\n",
              "      <td>4</td>\n",
              "      <td>115</td>\n",
              "      <td>1</td>\n",
              "      <td>115</td>\n",
              "      <td>115</td>\n",
              "      <td>0</td>\n",
              "      <td>8</td>\n",
              "      <td>3</td>\n",
              "      <td>27</td>\n",
              "      <td>0</td>\n",
              "    </tr>\n",
              "    <tr>\n",
              "      <th>1</th>\n",
              "      <td>7</td>\n",
              "      <td>2</td>\n",
              "      <td>0</td>\n",
              "      <td>1</td>\n",
              "      <td>1</td>\n",
              "      <td>4</td>\n",
              "      <td>3</td>\n",
              "      <td>9</td>\n",
              "      <td>6</td>\n",
              "      <td>6</td>\n",
              "      <td>23</td>\n",
              "      <td>7</td>\n",
              "      <td>3</td>\n",
              "      <td>1</td>\n",
              "      <td>0</td>\n",
              "      <td>0.000000</td>\n",
              "      <td>4</td>\n",
              "      <td>131</td>\n",
              "      <td>1</td>\n",
              "      <td>131</td>\n",
              "      <td>131</td>\n",
              "      <td>0</td>\n",
              "      <td>12</td>\n",
              "      <td>3</td>\n",
              "      <td>27</td>\n",
              "      <td>0</td>\n",
              "    </tr>\n",
              "    <tr>\n",
              "      <th>2</th>\n",
              "      <td>7</td>\n",
              "      <td>2</td>\n",
              "      <td>0</td>\n",
              "      <td>1</td>\n",
              "      <td>1</td>\n",
              "      <td>4</td>\n",
              "      <td>3</td>\n",
              "      <td>9</td>\n",
              "      <td>6</td>\n",
              "      <td>6</td>\n",
              "      <td>23</td>\n",
              "      <td>7</td>\n",
              "      <td>2</td>\n",
              "      <td>1</td>\n",
              "      <td>0</td>\n",
              "      <td>0.000000</td>\n",
              "      <td>4</td>\n",
              "      <td>101</td>\n",
              "      <td>1</td>\n",
              "      <td>101</td>\n",
              "      <td>101</td>\n",
              "      <td>0</td>\n",
              "      <td>8</td>\n",
              "      <td>3</td>\n",
              "      <td>27</td>\n",
              "      <td>1</td>\n",
              "    </tr>\n",
              "    <tr>\n",
              "      <th>3</th>\n",
              "      <td>15</td>\n",
              "      <td>2</td>\n",
              "      <td>4</td>\n",
              "      <td>1</td>\n",
              "      <td>1</td>\n",
              "      <td>4</td>\n",
              "      <td>3</td>\n",
              "      <td>9</td>\n",
              "      <td>4</td>\n",
              "      <td>4</td>\n",
              "      <td>23</td>\n",
              "      <td>7</td>\n",
              "      <td>2</td>\n",
              "      <td>3</td>\n",
              "      <td>2</td>\n",
              "      <td>0.666667</td>\n",
              "      <td>12</td>\n",
              "      <td>66</td>\n",
              "      <td>1</td>\n",
              "      <td>66</td>\n",
              "      <td>66</td>\n",
              "      <td>8</td>\n",
              "      <td>8</td>\n",
              "      <td>3</td>\n",
              "      <td>27</td>\n",
              "      <td>1</td>\n",
              "    </tr>\n",
              "    <tr>\n",
              "      <th>4</th>\n",
              "      <td>15</td>\n",
              "      <td>2</td>\n",
              "      <td>4</td>\n",
              "      <td>1</td>\n",
              "      <td>1</td>\n",
              "      <td>4</td>\n",
              "      <td>3</td>\n",
              "      <td>9</td>\n",
              "      <td>4</td>\n",
              "      <td>4</td>\n",
              "      <td>23</td>\n",
              "      <td>7</td>\n",
              "      <td>2</td>\n",
              "      <td>3</td>\n",
              "      <td>2</td>\n",
              "      <td>0.666667</td>\n",
              "      <td>12</td>\n",
              "      <td>81</td>\n",
              "      <td>1</td>\n",
              "      <td>81</td>\n",
              "      <td>81</td>\n",
              "      <td>8</td>\n",
              "      <td>8</td>\n",
              "      <td>3</td>\n",
              "      <td>27</td>\n",
              "      <td>0</td>\n",
              "    </tr>\n",
              "    <tr>\n",
              "      <th>...</th>\n",
              "      <td>...</td>\n",
              "      <td>...</td>\n",
              "      <td>...</td>\n",
              "      <td>...</td>\n",
              "      <td>...</td>\n",
              "      <td>...</td>\n",
              "      <td>...</td>\n",
              "      <td>...</td>\n",
              "      <td>...</td>\n",
              "      <td>...</td>\n",
              "      <td>...</td>\n",
              "      <td>...</td>\n",
              "      <td>...</td>\n",
              "      <td>...</td>\n",
              "      <td>...</td>\n",
              "      <td>...</td>\n",
              "      <td>...</td>\n",
              "      <td>...</td>\n",
              "      <td>...</td>\n",
              "      <td>...</td>\n",
              "      <td>...</td>\n",
              "      <td>...</td>\n",
              "      <td>...</td>\n",
              "      <td>...</td>\n",
              "      <td>...</td>\n",
              "      <td>...</td>\n",
              "    </tr>\n",
              "    <tr>\n",
              "      <th>764425</th>\n",
              "      <td>3276717</td>\n",
              "      <td>2</td>\n",
              "      <td>0</td>\n",
              "      <td>6</td>\n",
              "      <td>4</td>\n",
              "      <td>2</td>\n",
              "      <td>3</td>\n",
              "      <td>10</td>\n",
              "      <td>22</td>\n",
              "      <td>6</td>\n",
              "      <td>23</td>\n",
              "      <td>7</td>\n",
              "      <td>30093</td>\n",
              "      <td>1</td>\n",
              "      <td>0</td>\n",
              "      <td>0.000000</td>\n",
              "      <td>25</td>\n",
              "      <td>5</td>\n",
              "      <td>27</td>\n",
              "      <td>31</td>\n",
              "      <td>135</td>\n",
              "      <td>0</td>\n",
              "      <td>1444464</td>\n",
              "      <td>18</td>\n",
              "      <td>180</td>\n",
              "      <td>0</td>\n",
              "    </tr>\n",
              "    <tr>\n",
              "      <th>764426</th>\n",
              "      <td>3276724</td>\n",
              "      <td>2</td>\n",
              "      <td>0</td>\n",
              "      <td>6</td>\n",
              "      <td>5</td>\n",
              "      <td>3</td>\n",
              "      <td>3</td>\n",
              "      <td>10</td>\n",
              "      <td>22</td>\n",
              "      <td>6</td>\n",
              "      <td>23</td>\n",
              "      <td>7</td>\n",
              "      <td>30093</td>\n",
              "      <td>1</td>\n",
              "      <td>0</td>\n",
              "      <td>0.000000</td>\n",
              "      <td>32</td>\n",
              "      <td>4</td>\n",
              "      <td>28</td>\n",
              "      <td>31</td>\n",
              "      <td>112</td>\n",
              "      <td>0</td>\n",
              "      <td>2708370</td>\n",
              "      <td>18</td>\n",
              "      <td>180</td>\n",
              "      <td>0</td>\n",
              "    </tr>\n",
              "    <tr>\n",
              "      <th>764427</th>\n",
              "      <td>3276725</td>\n",
              "      <td>2</td>\n",
              "      <td>0</td>\n",
              "      <td>2</td>\n",
              "      <td>1</td>\n",
              "      <td>4</td>\n",
              "      <td>3</td>\n",
              "      <td>11</td>\n",
              "      <td>22</td>\n",
              "      <td>6</td>\n",
              "      <td>23</td>\n",
              "      <td>7</td>\n",
              "      <td>30094</td>\n",
              "      <td>1</td>\n",
              "      <td>0</td>\n",
              "      <td>0.000000</td>\n",
              "      <td>32</td>\n",
              "      <td>3</td>\n",
              "      <td>29</td>\n",
              "      <td>31</td>\n",
              "      <td>87</td>\n",
              "      <td>0</td>\n",
              "      <td>240752</td>\n",
              "      <td>6</td>\n",
              "      <td>66</td>\n",
              "      <td>0</td>\n",
              "    </tr>\n",
              "    <tr>\n",
              "      <th>764428</th>\n",
              "      <td>3276726</td>\n",
              "      <td>2</td>\n",
              "      <td>0</td>\n",
              "      <td>7</td>\n",
              "      <td>1</td>\n",
              "      <td>4</td>\n",
              "      <td>3</td>\n",
              "      <td>12</td>\n",
              "      <td>22</td>\n",
              "      <td>6</td>\n",
              "      <td>15</td>\n",
              "      <td>15</td>\n",
              "      <td>30093</td>\n",
              "      <td>3</td>\n",
              "      <td>0</td>\n",
              "      <td>0.000000</td>\n",
              "      <td>6</td>\n",
              "      <td>2</td>\n",
              "      <td>30</td>\n",
              "      <td>31</td>\n",
              "      <td>60</td>\n",
              "      <td>0</td>\n",
              "      <td>842604</td>\n",
              "      <td>21</td>\n",
              "      <td>252</td>\n",
              "      <td>0</td>\n",
              "    </tr>\n",
              "    <tr>\n",
              "      <th>764429</th>\n",
              "      <td>3276770</td>\n",
              "      <td>0</td>\n",
              "      <td>2</td>\n",
              "      <td>3</td>\n",
              "      <td>1</td>\n",
              "      <td>4</td>\n",
              "      <td>3</td>\n",
              "      <td>9</td>\n",
              "      <td>23</td>\n",
              "      <td>7</td>\n",
              "      <td>22</td>\n",
              "      <td>6</td>\n",
              "      <td>30094</td>\n",
              "      <td>1</td>\n",
              "      <td>1</td>\n",
              "      <td>1.000000</td>\n",
              "      <td>8</td>\n",
              "      <td>1</td>\n",
              "      <td>31</td>\n",
              "      <td>31</td>\n",
              "      <td>31</td>\n",
              "      <td>0</td>\n",
              "      <td>361128</td>\n",
              "      <td>9</td>\n",
              "      <td>81</td>\n",
              "      <td>0</td>\n",
              "    </tr>\n",
              "  </tbody>\n",
              "</table>\n",
              "<p>764430 rows × 26 columns</p>\n",
              "</div>"
            ],
            "text/plain": [
              "        timestamp  outport  ...  vnet_vc_cc_index  target\n",
              "0               7        2  ...                27       0\n",
              "1               7        2  ...                27       0\n",
              "2               7        2  ...                27       1\n",
              "3              15        2  ...                27       1\n",
              "4              15        2  ...                27       0\n",
              "...           ...      ...  ...               ...     ...\n",
              "764425    3276717        2  ...               180       0\n",
              "764426    3276724        2  ...               180       0\n",
              "764427    3276725        2  ...                66       0\n",
              "764428    3276726        2  ...               252       0\n",
              "764429    3276770        0  ...                81       0\n",
              "\n",
              "[764430 rows x 26 columns]"
            ]
          },
          "metadata": {
            "tags": []
          },
          "execution_count": 6
        }
      ]
    },
    {
      "cell_type": "code",
      "metadata": {
        "id": "DEIwin3VOmdC",
        "colab_type": "code",
        "outputId": "ba044609-e95d-4668-bffb-c735637057a7",
        "colab": {
          "base_uri": "https://localhost:8080/",
          "height": 34
        }
      },
      "source": [
        "df.shape"
      ],
      "execution_count": 7,
      "outputs": [
        {
          "output_type": "execute_result",
          "data": {
            "text/plain": [
              "(764430, 26)"
            ]
          },
          "metadata": {
            "tags": []
          },
          "execution_count": 7
        }
      ]
    },
    {
      "cell_type": "markdown",
      "metadata": {
        "id": "kB28tdcoNPvn",
        "colab_type": "text"
      },
      "source": [
        "Test Data"
      ]
    },
    {
      "cell_type": "code",
      "metadata": {
        "id": "2NNmwmZGNLly",
        "colab_type": "code",
        "colab": {}
      },
      "source": [
        "df13 = pd.read_csv('https://raw.githubusercontent.com/chamikasudusinghe/nocml/master/dos%20results%20ver%204/router-dataset/r6/2-fft-malicious-n-0-15-m-12-r6.csv?token=AKVFSOGFXPLRBVFF2CSTSU263I2RE')\n",
        "df14 = pd.read_csv('https://raw.githubusercontent.com/chamikasudusinghe/nocml/master/dos%20results%20ver%204/router-dataset/r6/2-fft-malicious-n-0-15-m-7-r6.csv?token=AKVFSOCFZYWDIHTDXDL47DC63I2RG')\n",
        "df15 = pd.read_csv('https://raw.githubusercontent.com/chamikasudusinghe/nocml/master/dos%20results%20ver%204/router-dataset/r6/2-fft-malicious-n-0-4-m-12-r6.csv?token=AKVFSOCCRFXVSA5QWAACUYK63I2RK')\n",
        "df16 = pd.read_csv('https://raw.githubusercontent.com/chamikasudusinghe/nocml/master/dos%20results%20ver%204/router-dataset/r6/2-fft-malicious-n-0-4-m-7-r6.csv?token=AKVFSOCAYF5PLB6ZUSDXOCC63I2RQ')\n",
        "df17 = pd.read_csv('https://raw.githubusercontent.com/chamikasudusinghe/nocml/master/dos%20results%20ver%204/router-dataset/r6/2-fft-malicious-n-0-6-m-12-r6.csv?token=AKVFSOFOPN43UOJJPCWRG5S63I2RS')\n",
        "df18 = pd.read_csv('https://raw.githubusercontent.com/chamikasudusinghe/nocml/master/dos%20results%20ver%204/router-dataset/r6/2-fft-malicious-n-0-6-m-7-r6.csv?token=AKVFSOBKMXLJPAJAY433G4263I2RU')\n",
        "df19 = pd.read_csv('https://raw.githubusercontent.com/chamikasudusinghe/nocml/master/dos%20results%20ver%204/router-dataset/r6/2-fft-malicious-n-0-9-m-12-r6.csv?token=AKVFSOGZOPDPGPZ3CINKWVK63I2RY')\n",
        "df20 = pd.read_csv('https://raw.githubusercontent.com/chamikasudusinghe/nocml/master/dos%20results%20ver%204/router-dataset/r6/2-fft-malicious-n-0-9-m-7-r6.csv?token=AKVFSOH3IVE45S3ZS5CS43S63I2R4')"
      ],
      "execution_count": 0,
      "outputs": []
    },
    {
      "cell_type": "code",
      "metadata": {
        "id": "vI7r69cXm0wU",
        "colab_type": "code",
        "outputId": "d6a97c8c-3317-41c9-8deb-d378f7c0c8a1",
        "colab": {
          "base_uri": "https://localhost:8080/",
          "height": 153
        }
      },
      "source": [
        "print(df13.shape)\n",
        "print(df14.shape)\n",
        "print(df15.shape)\n",
        "print(df16.shape)\n",
        "print(df17.shape)\n",
        "print(df18.shape)\n",
        "print(df19.shape)\n",
        "print(df20.shape)"
      ],
      "execution_count": 9,
      "outputs": [
        {
          "output_type": "stream",
          "text": [
            "(53634, 26)\n",
            "(74541, 26)\n",
            "(63254, 26)\n",
            "(84594, 26)\n",
            "(102690, 26)\n",
            "(123943, 26)\n",
            "(50769, 26)\n",
            "(72102, 26)\n"
          ],
          "name": "stdout"
        }
      ]
    },
    {
      "cell_type": "code",
      "metadata": {
        "id": "lyFCjch-Qr7R",
        "colab_type": "code",
        "outputId": "14ec35b0-0a20-4aad-ed8b-05aa69eb131a",
        "colab": {
          "base_uri": "https://localhost:8080/",
          "height": 439
        }
      },
      "source": [
        "df5"
      ],
      "execution_count": 10,
      "outputs": [
        {
          "output_type": "execute_result",
          "data": {
            "text/html": [
              "<div>\n",
              "<style scoped>\n",
              "    .dataframe tbody tr th:only-of-type {\n",
              "        vertical-align: middle;\n",
              "    }\n",
              "\n",
              "    .dataframe tbody tr th {\n",
              "        vertical-align: top;\n",
              "    }\n",
              "\n",
              "    .dataframe thead th {\n",
              "        text-align: right;\n",
              "    }\n",
              "</style>\n",
              "<table border=\"1\" class=\"dataframe\">\n",
              "  <thead>\n",
              "    <tr style=\"text-align: right;\">\n",
              "      <th></th>\n",
              "      <th>timestamp</th>\n",
              "      <th>outport</th>\n",
              "      <th>inport</th>\n",
              "      <th>cache_coherence_type</th>\n",
              "      <th>flit_id</th>\n",
              "      <th>flit_type</th>\n",
              "      <th>vnet</th>\n",
              "      <th>vc</th>\n",
              "      <th>src_ni</th>\n",
              "      <th>src_router</th>\n",
              "      <th>dst_ni</th>\n",
              "      <th>dst_router</th>\n",
              "      <th>traversal_id</th>\n",
              "      <th>hop_count</th>\n",
              "      <th>current_hop</th>\n",
              "      <th>hop_percentage</th>\n",
              "      <th>enqueue_time</th>\n",
              "      <th>packet_count_decr</th>\n",
              "      <th>packet_count_incr</th>\n",
              "      <th>max_packet_count</th>\n",
              "      <th>packet_count_index</th>\n",
              "      <th>port_index</th>\n",
              "      <th>traversal_index</th>\n",
              "      <th>cache_coherence_vnet_index</th>\n",
              "      <th>vnet_vc_cc_index</th>\n",
              "      <th>target</th>\n",
              "    </tr>\n",
              "  </thead>\n",
              "  <tbody>\n",
              "    <tr>\n",
              "      <th>0</th>\n",
              "      <td>7</td>\n",
              "      <td>2</td>\n",
              "      <td>0</td>\n",
              "      <td>1</td>\n",
              "      <td>1</td>\n",
              "      <td>4</td>\n",
              "      <td>3</td>\n",
              "      <td>9</td>\n",
              "      <td>6</td>\n",
              "      <td>6</td>\n",
              "      <td>23</td>\n",
              "      <td>7</td>\n",
              "      <td>3</td>\n",
              "      <td>1</td>\n",
              "      <td>0</td>\n",
              "      <td>0.00</td>\n",
              "      <td>4</td>\n",
              "      <td>131</td>\n",
              "      <td>1</td>\n",
              "      <td>131</td>\n",
              "      <td>131</td>\n",
              "      <td>0</td>\n",
              "      <td>12</td>\n",
              "      <td>3</td>\n",
              "      <td>27</td>\n",
              "      <td>0</td>\n",
              "    </tr>\n",
              "    <tr>\n",
              "      <th>1</th>\n",
              "      <td>54</td>\n",
              "      <td>0</td>\n",
              "      <td>2</td>\n",
              "      <td>4</td>\n",
              "      <td>1</td>\n",
              "      <td>1</td>\n",
              "      <td>5</td>\n",
              "      <td>17</td>\n",
              "      <td>23</td>\n",
              "      <td>7</td>\n",
              "      <td>6</td>\n",
              "      <td>6</td>\n",
              "      <td>3</td>\n",
              "      <td>1</td>\n",
              "      <td>1</td>\n",
              "      <td>1.00</td>\n",
              "      <td>8</td>\n",
              "      <td>130</td>\n",
              "      <td>2</td>\n",
              "      <td>131</td>\n",
              "      <td>260</td>\n",
              "      <td>0</td>\n",
              "      <td>12</td>\n",
              "      <td>20</td>\n",
              "      <td>340</td>\n",
              "      <td>0</td>\n",
              "    </tr>\n",
              "    <tr>\n",
              "      <th>2</th>\n",
              "      <td>55</td>\n",
              "      <td>0</td>\n",
              "      <td>2</td>\n",
              "      <td>4</td>\n",
              "      <td>2</td>\n",
              "      <td>2</td>\n",
              "      <td>5</td>\n",
              "      <td>17</td>\n",
              "      <td>23</td>\n",
              "      <td>7</td>\n",
              "      <td>6</td>\n",
              "      <td>6</td>\n",
              "      <td>3</td>\n",
              "      <td>1</td>\n",
              "      <td>1</td>\n",
              "      <td>1.00</td>\n",
              "      <td>9</td>\n",
              "      <td>129</td>\n",
              "      <td>3</td>\n",
              "      <td>131</td>\n",
              "      <td>387</td>\n",
              "      <td>0</td>\n",
              "      <td>48</td>\n",
              "      <td>20</td>\n",
              "      <td>340</td>\n",
              "      <td>0</td>\n",
              "    </tr>\n",
              "    <tr>\n",
              "      <th>3</th>\n",
              "      <td>56</td>\n",
              "      <td>0</td>\n",
              "      <td>2</td>\n",
              "      <td>4</td>\n",
              "      <td>3</td>\n",
              "      <td>2</td>\n",
              "      <td>5</td>\n",
              "      <td>17</td>\n",
              "      <td>23</td>\n",
              "      <td>7</td>\n",
              "      <td>6</td>\n",
              "      <td>6</td>\n",
              "      <td>3</td>\n",
              "      <td>1</td>\n",
              "      <td>1</td>\n",
              "      <td>1.00</td>\n",
              "      <td>10</td>\n",
              "      <td>128</td>\n",
              "      <td>4</td>\n",
              "      <td>131</td>\n",
              "      <td>512</td>\n",
              "      <td>0</td>\n",
              "      <td>72</td>\n",
              "      <td>20</td>\n",
              "      <td>340</td>\n",
              "      <td>0</td>\n",
              "    </tr>\n",
              "    <tr>\n",
              "      <th>4</th>\n",
              "      <td>57</td>\n",
              "      <td>0</td>\n",
              "      <td>2</td>\n",
              "      <td>4</td>\n",
              "      <td>4</td>\n",
              "      <td>2</td>\n",
              "      <td>5</td>\n",
              "      <td>17</td>\n",
              "      <td>23</td>\n",
              "      <td>7</td>\n",
              "      <td>6</td>\n",
              "      <td>6</td>\n",
              "      <td>3</td>\n",
              "      <td>1</td>\n",
              "      <td>1</td>\n",
              "      <td>1.00</td>\n",
              "      <td>11</td>\n",
              "      <td>127</td>\n",
              "      <td>5</td>\n",
              "      <td>131</td>\n",
              "      <td>635</td>\n",
              "      <td>0</td>\n",
              "      <td>96</td>\n",
              "      <td>20</td>\n",
              "      <td>340</td>\n",
              "      <td>0</td>\n",
              "    </tr>\n",
              "    <tr>\n",
              "      <th>...</th>\n",
              "      <td>...</td>\n",
              "      <td>...</td>\n",
              "      <td>...</td>\n",
              "      <td>...</td>\n",
              "      <td>...</td>\n",
              "      <td>...</td>\n",
              "      <td>...</td>\n",
              "      <td>...</td>\n",
              "      <td>...</td>\n",
              "      <td>...</td>\n",
              "      <td>...</td>\n",
              "      <td>...</td>\n",
              "      <td>...</td>\n",
              "      <td>...</td>\n",
              "      <td>...</td>\n",
              "      <td>...</td>\n",
              "      <td>...</td>\n",
              "      <td>...</td>\n",
              "      <td>...</td>\n",
              "      <td>...</td>\n",
              "      <td>...</td>\n",
              "      <td>...</td>\n",
              "      <td>...</td>\n",
              "      <td>...</td>\n",
              "      <td>...</td>\n",
              "      <td>...</td>\n",
              "    </tr>\n",
              "    <tr>\n",
              "      <th>104435</th>\n",
              "      <td>3266195</td>\n",
              "      <td>4</td>\n",
              "      <td>2</td>\n",
              "      <td>4</td>\n",
              "      <td>1</td>\n",
              "      <td>1</td>\n",
              "      <td>5</td>\n",
              "      <td>17</td>\n",
              "      <td>23</td>\n",
              "      <td>7</td>\n",
              "      <td>0</td>\n",
              "      <td>0</td>\n",
              "      <td>30088</td>\n",
              "      <td>4</td>\n",
              "      <td>1</td>\n",
              "      <td>0.25</td>\n",
              "      <td>9</td>\n",
              "      <td>5</td>\n",
              "      <td>16</td>\n",
              "      <td>20</td>\n",
              "      <td>80</td>\n",
              "      <td>8</td>\n",
              "      <td>120352</td>\n",
              "      <td>20</td>\n",
              "      <td>340</td>\n",
              "      <td>0</td>\n",
              "    </tr>\n",
              "    <tr>\n",
              "      <th>104436</th>\n",
              "      <td>3266196</td>\n",
              "      <td>4</td>\n",
              "      <td>2</td>\n",
              "      <td>4</td>\n",
              "      <td>2</td>\n",
              "      <td>2</td>\n",
              "      <td>5</td>\n",
              "      <td>17</td>\n",
              "      <td>23</td>\n",
              "      <td>7</td>\n",
              "      <td>0</td>\n",
              "      <td>0</td>\n",
              "      <td>30088</td>\n",
              "      <td>4</td>\n",
              "      <td>1</td>\n",
              "      <td>0.25</td>\n",
              "      <td>10</td>\n",
              "      <td>4</td>\n",
              "      <td>17</td>\n",
              "      <td>20</td>\n",
              "      <td>68</td>\n",
              "      <td>8</td>\n",
              "      <td>481408</td>\n",
              "      <td>20</td>\n",
              "      <td>340</td>\n",
              "      <td>0</td>\n",
              "    </tr>\n",
              "    <tr>\n",
              "      <th>104437</th>\n",
              "      <td>3266197</td>\n",
              "      <td>4</td>\n",
              "      <td>2</td>\n",
              "      <td>4</td>\n",
              "      <td>3</td>\n",
              "      <td>2</td>\n",
              "      <td>5</td>\n",
              "      <td>17</td>\n",
              "      <td>23</td>\n",
              "      <td>7</td>\n",
              "      <td>0</td>\n",
              "      <td>0</td>\n",
              "      <td>30088</td>\n",
              "      <td>4</td>\n",
              "      <td>1</td>\n",
              "      <td>0.25</td>\n",
              "      <td>11</td>\n",
              "      <td>3</td>\n",
              "      <td>18</td>\n",
              "      <td>20</td>\n",
              "      <td>54</td>\n",
              "      <td>8</td>\n",
              "      <td>722112</td>\n",
              "      <td>20</td>\n",
              "      <td>340</td>\n",
              "      <td>0</td>\n",
              "    </tr>\n",
              "    <tr>\n",
              "      <th>104438</th>\n",
              "      <td>3266198</td>\n",
              "      <td>4</td>\n",
              "      <td>2</td>\n",
              "      <td>4</td>\n",
              "      <td>4</td>\n",
              "      <td>2</td>\n",
              "      <td>5</td>\n",
              "      <td>17</td>\n",
              "      <td>23</td>\n",
              "      <td>7</td>\n",
              "      <td>0</td>\n",
              "      <td>0</td>\n",
              "      <td>30088</td>\n",
              "      <td>4</td>\n",
              "      <td>1</td>\n",
              "      <td>0.25</td>\n",
              "      <td>12</td>\n",
              "      <td>2</td>\n",
              "      <td>19</td>\n",
              "      <td>20</td>\n",
              "      <td>38</td>\n",
              "      <td>8</td>\n",
              "      <td>962816</td>\n",
              "      <td>20</td>\n",
              "      <td>340</td>\n",
              "      <td>0</td>\n",
              "    </tr>\n",
              "    <tr>\n",
              "      <th>104439</th>\n",
              "      <td>3266202</td>\n",
              "      <td>4</td>\n",
              "      <td>2</td>\n",
              "      <td>4</td>\n",
              "      <td>5</td>\n",
              "      <td>3</td>\n",
              "      <td>5</td>\n",
              "      <td>17</td>\n",
              "      <td>23</td>\n",
              "      <td>7</td>\n",
              "      <td>0</td>\n",
              "      <td>0</td>\n",
              "      <td>30088</td>\n",
              "      <td>4</td>\n",
              "      <td>1</td>\n",
              "      <td>0.25</td>\n",
              "      <td>16</td>\n",
              "      <td>1</td>\n",
              "      <td>20</td>\n",
              "      <td>20</td>\n",
              "      <td>20</td>\n",
              "      <td>8</td>\n",
              "      <td>1805280</td>\n",
              "      <td>20</td>\n",
              "      <td>340</td>\n",
              "      <td>0</td>\n",
              "    </tr>\n",
              "  </tbody>\n",
              "</table>\n",
              "<p>104440 rows × 26 columns</p>\n",
              "</div>"
            ],
            "text/plain": [
              "        timestamp  outport  ...  vnet_vc_cc_index  target\n",
              "0               7        2  ...                27       0\n",
              "1              54        0  ...               340       0\n",
              "2              55        0  ...               340       0\n",
              "3              56        0  ...               340       0\n",
              "4              57        0  ...               340       0\n",
              "...           ...      ...  ...               ...     ...\n",
              "104435    3266195        4  ...               340       0\n",
              "104436    3266196        4  ...               340       0\n",
              "104437    3266197        4  ...               340       0\n",
              "104438    3266198        4  ...               340       0\n",
              "104439    3266202        4  ...               340       0\n",
              "\n",
              "[104440 rows x 26 columns]"
            ]
          },
          "metadata": {
            "tags": []
          },
          "execution_count": 10
        }
      ]
    },
    {
      "cell_type": "markdown",
      "metadata": {
        "id": "xhWoBoqmnTM8",
        "colab_type": "text"
      },
      "source": [
        "Processing"
      ]
    },
    {
      "cell_type": "code",
      "metadata": {
        "colab_type": "code",
        "id": "Z-DMh9YdHg2F",
        "outputId": "1ebb21bd-e435-42fc-fdda-94684a3306ce",
        "colab": {
          "base_uri": "https://localhost:8080/",
          "height": 476
        }
      },
      "source": [
        "df.isnull().sum()"
      ],
      "execution_count": 11,
      "outputs": [
        {
          "output_type": "execute_result",
          "data": {
            "text/plain": [
              "timestamp                     0\n",
              "outport                       0\n",
              "inport                        0\n",
              "cache_coherence_type          0\n",
              "flit_id                       0\n",
              "flit_type                     0\n",
              "vnet                          0\n",
              "vc                            0\n",
              "src_ni                        0\n",
              "src_router                    0\n",
              "dst_ni                        0\n",
              "dst_router                    0\n",
              "traversal_id                  0\n",
              "hop_count                     0\n",
              "current_hop                   0\n",
              "hop_percentage                0\n",
              "enqueue_time                  0\n",
              "packet_count_decr             0\n",
              "packet_count_incr             0\n",
              "max_packet_count              0\n",
              "packet_count_index            0\n",
              "port_index                    0\n",
              "traversal_index               0\n",
              "cache_coherence_vnet_index    0\n",
              "vnet_vc_cc_index              0\n",
              "target                        0\n",
              "dtype: int64"
            ]
          },
          "metadata": {
            "tags": []
          },
          "execution_count": 11
        }
      ]
    },
    {
      "cell_type": "code",
      "metadata": {
        "id": "ct4HKW31PrjK",
        "colab_type": "code",
        "colab": {}
      },
      "source": [
        "df = df.drop(columns=['timestamp','src_ni','src_router','dst_ni','dst_router'])"
      ],
      "execution_count": 0,
      "outputs": []
    },
    {
      "cell_type": "code",
      "metadata": {
        "colab_type": "code",
        "id": "Y9vcn7NCHg2M",
        "outputId": "b18df24d-8481-4a48-e494-6ae8d7af45cc",
        "colab": {
          "base_uri": "https://localhost:8080/",
          "height": 720
        }
      },
      "source": [
        "df.corr()"
      ],
      "execution_count": 13,
      "outputs": [
        {
          "output_type": "execute_result",
          "data": {
            "text/html": [
              "<div>\n",
              "<style scoped>\n",
              "    .dataframe tbody tr th:only-of-type {\n",
              "        vertical-align: middle;\n",
              "    }\n",
              "\n",
              "    .dataframe tbody tr th {\n",
              "        vertical-align: top;\n",
              "    }\n",
              "\n",
              "    .dataframe thead th {\n",
              "        text-align: right;\n",
              "    }\n",
              "</style>\n",
              "<table border=\"1\" class=\"dataframe\">\n",
              "  <thead>\n",
              "    <tr style=\"text-align: right;\">\n",
              "      <th></th>\n",
              "      <th>outport</th>\n",
              "      <th>inport</th>\n",
              "      <th>cache_coherence_type</th>\n",
              "      <th>flit_id</th>\n",
              "      <th>flit_type</th>\n",
              "      <th>vnet</th>\n",
              "      <th>vc</th>\n",
              "      <th>traversal_id</th>\n",
              "      <th>hop_count</th>\n",
              "      <th>current_hop</th>\n",
              "      <th>hop_percentage</th>\n",
              "      <th>enqueue_time</th>\n",
              "      <th>packet_count_decr</th>\n",
              "      <th>packet_count_incr</th>\n",
              "      <th>max_packet_count</th>\n",
              "      <th>packet_count_index</th>\n",
              "      <th>port_index</th>\n",
              "      <th>traversal_index</th>\n",
              "      <th>cache_coherence_vnet_index</th>\n",
              "      <th>vnet_vc_cc_index</th>\n",
              "      <th>target</th>\n",
              "    </tr>\n",
              "  </thead>\n",
              "  <tbody>\n",
              "    <tr>\n",
              "      <th>outport</th>\n",
              "      <td>1.000000</td>\n",
              "      <td>-0.192549</td>\n",
              "      <td>-0.058579</td>\n",
              "      <td>-0.002192</td>\n",
              "      <td>0.003312</td>\n",
              "      <td>0.142601</td>\n",
              "      <td>0.163246</td>\n",
              "      <td>-0.004521</td>\n",
              "      <td>0.247456</td>\n",
              "      <td>-0.493926</td>\n",
              "      <td>-0.689430</td>\n",
              "      <td>-0.276991</td>\n",
              "      <td>-0.060553</td>\n",
              "      <td>-0.016865</td>\n",
              "      <td>-0.056895</td>\n",
              "      <td>-0.050165</td>\n",
              "      <td>0.526332</td>\n",
              "      <td>-0.020444</td>\n",
              "      <td>0.060773</td>\n",
              "      <td>0.134785</td>\n",
              "      <td>-0.009771</td>\n",
              "    </tr>\n",
              "    <tr>\n",
              "      <th>inport</th>\n",
              "      <td>-0.192549</td>\n",
              "      <td>1.000000</td>\n",
              "      <td>-0.039766</td>\n",
              "      <td>-0.009658</td>\n",
              "      <td>0.014640</td>\n",
              "      <td>0.088294</td>\n",
              "      <td>-0.000329</td>\n",
              "      <td>-0.021270</td>\n",
              "      <td>0.471152</td>\n",
              "      <td>0.608109</td>\n",
              "      <td>0.500225</td>\n",
              "      <td>0.138762</td>\n",
              "      <td>-0.103641</td>\n",
              "      <td>-0.146014</td>\n",
              "      <td>-0.183473</td>\n",
              "      <td>-0.149219</td>\n",
              "      <td>0.634961</td>\n",
              "      <td>-0.020004</td>\n",
              "      <td>0.034719</td>\n",
              "      <td>0.031688</td>\n",
              "      <td>-0.043331</td>\n",
              "    </tr>\n",
              "    <tr>\n",
              "      <th>cache_coherence_type</th>\n",
              "      <td>-0.058579</td>\n",
              "      <td>-0.039766</td>\n",
              "      <td>1.000000</td>\n",
              "      <td>0.268724</td>\n",
              "      <td>-0.407284</td>\n",
              "      <td>-0.221212</td>\n",
              "      <td>-0.247738</td>\n",
              "      <td>0.043264</td>\n",
              "      <td>-0.145490</td>\n",
              "      <td>-0.087850</td>\n",
              "      <td>-0.060552</td>\n",
              "      <td>-0.172053</td>\n",
              "      <td>0.041958</td>\n",
              "      <td>-0.013487</td>\n",
              "      <td>0.020923</td>\n",
              "      <td>0.015270</td>\n",
              "      <td>-0.085065</td>\n",
              "      <td>0.306501</td>\n",
              "      <td>0.662477</td>\n",
              "      <td>0.144089</td>\n",
              "      <td>0.000281</td>\n",
              "    </tr>\n",
              "    <tr>\n",
              "      <th>flit_id</th>\n",
              "      <td>-0.002192</td>\n",
              "      <td>-0.009658</td>\n",
              "      <td>0.268724</td>\n",
              "      <td>1.000000</td>\n",
              "      <td>-0.017910</td>\n",
              "      <td>0.202483</td>\n",
              "      <td>0.184744</td>\n",
              "      <td>0.008401</td>\n",
              "      <td>0.041662</td>\n",
              "      <td>0.008967</td>\n",
              "      <td>-0.017470</td>\n",
              "      <td>0.381272</td>\n",
              "      <td>-0.021566</td>\n",
              "      <td>0.031129</td>\n",
              "      <td>0.007028</td>\n",
              "      <td>0.004986</td>\n",
              "      <td>-0.016750</td>\n",
              "      <td>0.646466</td>\n",
              "      <td>0.379214</td>\n",
              "      <td>0.300288</td>\n",
              "      <td>0.000952</td>\n",
              "    </tr>\n",
              "    <tr>\n",
              "      <th>flit_type</th>\n",
              "      <td>0.003312</td>\n",
              "      <td>0.014640</td>\n",
              "      <td>-0.407284</td>\n",
              "      <td>-0.017910</td>\n",
              "      <td>1.000000</td>\n",
              "      <td>-0.306900</td>\n",
              "      <td>-0.280013</td>\n",
              "      <td>-0.012743</td>\n",
              "      <td>-0.063151</td>\n",
              "      <td>-0.013587</td>\n",
              "      <td>0.026483</td>\n",
              "      <td>0.378070</td>\n",
              "      <td>-0.039427</td>\n",
              "      <td>0.025793</td>\n",
              "      <td>-0.010020</td>\n",
              "      <td>-0.006492</td>\n",
              "      <td>0.025380</td>\n",
              "      <td>0.123928</td>\n",
              "      <td>-0.574754</td>\n",
              "      <td>-0.455135</td>\n",
              "      <td>-0.001447</td>\n",
              "    </tr>\n",
              "    <tr>\n",
              "      <th>vnet</th>\n",
              "      <td>0.142601</td>\n",
              "      <td>0.088294</td>\n",
              "      <td>-0.221212</td>\n",
              "      <td>0.202483</td>\n",
              "      <td>-0.306900</td>\n",
              "      <td>1.000000</td>\n",
              "      <td>0.980389</td>\n",
              "      <td>-0.034905</td>\n",
              "      <td>0.256014</td>\n",
              "      <td>0.069374</td>\n",
              "      <td>0.105519</td>\n",
              "      <td>-0.432091</td>\n",
              "      <td>-0.030304</td>\n",
              "      <td>0.048248</td>\n",
              "      <td>0.013188</td>\n",
              "      <td>0.009539</td>\n",
              "      <td>0.225731</td>\n",
              "      <td>-0.047581</td>\n",
              "      <td>0.583976</td>\n",
              "      <td>0.928159</td>\n",
              "      <td>-0.010208</td>\n",
              "    </tr>\n",
              "    <tr>\n",
              "      <th>vc</th>\n",
              "      <td>0.163246</td>\n",
              "      <td>-0.000329</td>\n",
              "      <td>-0.247738</td>\n",
              "      <td>0.184744</td>\n",
              "      <td>-0.280013</td>\n",
              "      <td>0.980389</td>\n",
              "      <td>1.000000</td>\n",
              "      <td>-0.034994</td>\n",
              "      <td>0.196585</td>\n",
              "      <td>-0.023709</td>\n",
              "      <td>0.016252</td>\n",
              "      <td>-0.422134</td>\n",
              "      <td>-0.019183</td>\n",
              "      <td>0.066238</td>\n",
              "      <td>0.034581</td>\n",
              "      <td>0.027357</td>\n",
              "      <td>0.161955</td>\n",
              "      <td>-0.057959</td>\n",
              "      <td>0.546832</td>\n",
              "      <td>0.917045</td>\n",
              "      <td>-0.007714</td>\n",
              "    </tr>\n",
              "    <tr>\n",
              "      <th>traversal_id</th>\n",
              "      <td>-0.004521</td>\n",
              "      <td>-0.021270</td>\n",
              "      <td>0.043264</td>\n",
              "      <td>0.008401</td>\n",
              "      <td>-0.012743</td>\n",
              "      <td>-0.034905</td>\n",
              "      <td>-0.034994</td>\n",
              "      <td>1.000000</td>\n",
              "      <td>-0.021852</td>\n",
              "      <td>-0.010949</td>\n",
              "      <td>-0.006066</td>\n",
              "      <td>0.032469</td>\n",
              "      <td>0.062227</td>\n",
              "      <td>0.063179</td>\n",
              "      <td>0.092162</td>\n",
              "      <td>0.036013</td>\n",
              "      <td>-0.014495</td>\n",
              "      <td>0.551761</td>\n",
              "      <td>0.009201</td>\n",
              "      <td>-0.020092</td>\n",
              "      <td>-0.259728</td>\n",
              "    </tr>\n",
              "    <tr>\n",
              "      <th>hop_count</th>\n",
              "      <td>0.247456</td>\n",
              "      <td>0.471152</td>\n",
              "      <td>-0.145490</td>\n",
              "      <td>0.041662</td>\n",
              "      <td>-0.063151</td>\n",
              "      <td>0.256014</td>\n",
              "      <td>0.196585</td>\n",
              "      <td>-0.021852</td>\n",
              "      <td>1.000000</td>\n",
              "      <td>0.549985</td>\n",
              "      <td>0.068294</td>\n",
              "      <td>0.060148</td>\n",
              "      <td>-0.166760</td>\n",
              "      <td>-0.147779</td>\n",
              "      <td>-0.231157</td>\n",
              "      <td>-0.191601</td>\n",
              "      <td>0.542360</td>\n",
              "      <td>-0.045528</td>\n",
              "      <td>0.075543</td>\n",
              "      <td>0.177393</td>\n",
              "      <td>-0.007522</td>\n",
              "    </tr>\n",
              "    <tr>\n",
              "      <th>current_hop</th>\n",
              "      <td>-0.493926</td>\n",
              "      <td>0.608109</td>\n",
              "      <td>-0.087850</td>\n",
              "      <td>0.008967</td>\n",
              "      <td>-0.013587</td>\n",
              "      <td>0.069374</td>\n",
              "      <td>-0.023709</td>\n",
              "      <td>-0.010949</td>\n",
              "      <td>0.549985</td>\n",
              "      <td>1.000000</td>\n",
              "      <td>0.798520</td>\n",
              "      <td>0.309414</td>\n",
              "      <td>-0.076168</td>\n",
              "      <td>-0.122069</td>\n",
              "      <td>-0.145685</td>\n",
              "      <td>-0.122271</td>\n",
              "      <td>0.159981</td>\n",
              "      <td>-0.027451</td>\n",
              "      <td>-0.019839</td>\n",
              "      <td>-0.008444</td>\n",
              "      <td>-0.012542</td>\n",
              "    </tr>\n",
              "    <tr>\n",
              "      <th>hop_percentage</th>\n",
              "      <td>-0.689430</td>\n",
              "      <td>0.500225</td>\n",
              "      <td>-0.060552</td>\n",
              "      <td>-0.017470</td>\n",
              "      <td>0.026483</td>\n",
              "      <td>0.105519</td>\n",
              "      <td>0.016252</td>\n",
              "      <td>-0.006066</td>\n",
              "      <td>0.068294</td>\n",
              "      <td>0.798520</td>\n",
              "      <td>1.000000</td>\n",
              "      <td>0.182356</td>\n",
              "      <td>0.013627</td>\n",
              "      <td>-0.030325</td>\n",
              "      <td>-0.012271</td>\n",
              "      <td>-0.013178</td>\n",
              "      <td>-0.075295</td>\n",
              "      <td>-0.028747</td>\n",
              "      <td>0.030647</td>\n",
              "      <td>0.040636</td>\n",
              "      <td>-0.006768</td>\n",
              "    </tr>\n",
              "    <tr>\n",
              "      <th>enqueue_time</th>\n",
              "      <td>-0.276991</td>\n",
              "      <td>0.138762</td>\n",
              "      <td>-0.172053</td>\n",
              "      <td>0.381272</td>\n",
              "      <td>0.378070</td>\n",
              "      <td>-0.432091</td>\n",
              "      <td>-0.422134</td>\n",
              "      <td>0.032469</td>\n",
              "      <td>0.060148</td>\n",
              "      <td>0.309414</td>\n",
              "      <td>0.182356</td>\n",
              "      <td>1.000000</td>\n",
              "      <td>-0.027555</td>\n",
              "      <td>-0.036461</td>\n",
              "      <td>-0.047046</td>\n",
              "      <td>-0.037572</td>\n",
              "      <td>-0.124568</td>\n",
              "      <td>0.338714</td>\n",
              "      <td>-0.475110</td>\n",
              "      <td>-0.510159</td>\n",
              "      <td>0.002158</td>\n",
              "    </tr>\n",
              "    <tr>\n",
              "      <th>packet_count_decr</th>\n",
              "      <td>-0.060553</td>\n",
              "      <td>-0.103641</td>\n",
              "      <td>0.041958</td>\n",
              "      <td>-0.021566</td>\n",
              "      <td>-0.039427</td>\n",
              "      <td>-0.030304</td>\n",
              "      <td>-0.019183</td>\n",
              "      <td>0.062227</td>\n",
              "      <td>-0.166760</td>\n",
              "      <td>-0.076168</td>\n",
              "      <td>0.013627</td>\n",
              "      <td>-0.027555</td>\n",
              "      <td>1.000000</td>\n",
              "      <td>-0.074227</td>\n",
              "      <td>0.680358</td>\n",
              "      <td>0.562257</td>\n",
              "      <td>-0.132323</td>\n",
              "      <td>0.025381</td>\n",
              "      <td>0.011649</td>\n",
              "      <td>-0.010340</td>\n",
              "      <td>-0.084410</td>\n",
              "    </tr>\n",
              "    <tr>\n",
              "      <th>packet_count_incr</th>\n",
              "      <td>-0.016865</td>\n",
              "      <td>-0.146014</td>\n",
              "      <td>-0.013487</td>\n",
              "      <td>0.031129</td>\n",
              "      <td>0.025793</td>\n",
              "      <td>0.048248</td>\n",
              "      <td>0.066238</td>\n",
              "      <td>0.063179</td>\n",
              "      <td>-0.147779</td>\n",
              "      <td>-0.122069</td>\n",
              "      <td>-0.030325</td>\n",
              "      <td>-0.036461</td>\n",
              "      <td>-0.074227</td>\n",
              "      <td>1.000000</td>\n",
              "      <td>0.680358</td>\n",
              "      <td>0.562257</td>\n",
              "      <td>-0.128974</td>\n",
              "      <td>0.052807</td>\n",
              "      <td>0.025833</td>\n",
              "      <td>0.052768</td>\n",
              "      <td>-0.084410</td>\n",
              "    </tr>\n",
              "    <tr>\n",
              "      <th>max_packet_count</th>\n",
              "      <td>-0.056895</td>\n",
              "      <td>-0.183473</td>\n",
              "      <td>0.020923</td>\n",
              "      <td>0.007028</td>\n",
              "      <td>-0.010020</td>\n",
              "      <td>0.013188</td>\n",
              "      <td>0.034581</td>\n",
              "      <td>0.092162</td>\n",
              "      <td>-0.231157</td>\n",
              "      <td>-0.145685</td>\n",
              "      <td>-0.012271</td>\n",
              "      <td>-0.047046</td>\n",
              "      <td>0.680358</td>\n",
              "      <td>0.680358</td>\n",
              "      <td>1.000000</td>\n",
              "      <td>0.826413</td>\n",
              "      <td>-0.192029</td>\n",
              "      <td>0.057462</td>\n",
              "      <td>0.027546</td>\n",
              "      <td>0.031180</td>\n",
              "      <td>-0.124067</td>\n",
              "    </tr>\n",
              "    <tr>\n",
              "      <th>packet_count_index</th>\n",
              "      <td>-0.050165</td>\n",
              "      <td>-0.149219</td>\n",
              "      <td>0.015270</td>\n",
              "      <td>0.004986</td>\n",
              "      <td>-0.006492</td>\n",
              "      <td>0.009539</td>\n",
              "      <td>0.027357</td>\n",
              "      <td>0.036013</td>\n",
              "      <td>-0.191601</td>\n",
              "      <td>-0.122271</td>\n",
              "      <td>-0.013178</td>\n",
              "      <td>-0.037572</td>\n",
              "      <td>0.562257</td>\n",
              "      <td>0.562257</td>\n",
              "      <td>0.826413</td>\n",
              "      <td>1.000000</td>\n",
              "      <td>-0.158612</td>\n",
              "      <td>0.025769</td>\n",
              "      <td>0.020038</td>\n",
              "      <td>0.023872</td>\n",
              "      <td>-0.115158</td>\n",
              "    </tr>\n",
              "    <tr>\n",
              "      <th>port_index</th>\n",
              "      <td>0.526332</td>\n",
              "      <td>0.634961</td>\n",
              "      <td>-0.085065</td>\n",
              "      <td>-0.016750</td>\n",
              "      <td>0.025380</td>\n",
              "      <td>0.225731</td>\n",
              "      <td>0.161955</td>\n",
              "      <td>-0.014495</td>\n",
              "      <td>0.542360</td>\n",
              "      <td>0.159981</td>\n",
              "      <td>-0.075295</td>\n",
              "      <td>-0.124568</td>\n",
              "      <td>-0.132323</td>\n",
              "      <td>-0.128974</td>\n",
              "      <td>-0.192029</td>\n",
              "      <td>-0.158612</td>\n",
              "      <td>1.000000</td>\n",
              "      <td>-0.032479</td>\n",
              "      <td>0.102580</td>\n",
              "      <td>0.168513</td>\n",
              "      <td>-0.051208</td>\n",
              "    </tr>\n",
              "    <tr>\n",
              "      <th>traversal_index</th>\n",
              "      <td>-0.020444</td>\n",
              "      <td>-0.020004</td>\n",
              "      <td>0.306501</td>\n",
              "      <td>0.646466</td>\n",
              "      <td>0.123928</td>\n",
              "      <td>-0.047581</td>\n",
              "      <td>-0.057959</td>\n",
              "      <td>0.551761</td>\n",
              "      <td>-0.045528</td>\n",
              "      <td>-0.027451</td>\n",
              "      <td>-0.028747</td>\n",
              "      <td>0.338714</td>\n",
              "      <td>0.025381</td>\n",
              "      <td>0.052807</td>\n",
              "      <td>0.057462</td>\n",
              "      <td>0.025769</td>\n",
              "      <td>-0.032479</td>\n",
              "      <td>1.000000</td>\n",
              "      <td>0.218582</td>\n",
              "      <td>0.063103</td>\n",
              "      <td>-0.142592</td>\n",
              "    </tr>\n",
              "    <tr>\n",
              "      <th>cache_coherence_vnet_index</th>\n",
              "      <td>0.060773</td>\n",
              "      <td>0.034719</td>\n",
              "      <td>0.662477</td>\n",
              "      <td>0.379214</td>\n",
              "      <td>-0.574754</td>\n",
              "      <td>0.583976</td>\n",
              "      <td>0.546832</td>\n",
              "      <td>0.009201</td>\n",
              "      <td>0.075543</td>\n",
              "      <td>-0.019839</td>\n",
              "      <td>0.030647</td>\n",
              "      <td>-0.475110</td>\n",
              "      <td>0.011649</td>\n",
              "      <td>0.025833</td>\n",
              "      <td>0.027546</td>\n",
              "      <td>0.020038</td>\n",
              "      <td>0.102580</td>\n",
              "      <td>0.218582</td>\n",
              "      <td>1.000000</td>\n",
              "      <td>0.832868</td>\n",
              "      <td>-0.007607</td>\n",
              "    </tr>\n",
              "    <tr>\n",
              "      <th>vnet_vc_cc_index</th>\n",
              "      <td>0.134785</td>\n",
              "      <td>0.031688</td>\n",
              "      <td>0.144089</td>\n",
              "      <td>0.300288</td>\n",
              "      <td>-0.455135</td>\n",
              "      <td>0.928159</td>\n",
              "      <td>0.917045</td>\n",
              "      <td>-0.020092</td>\n",
              "      <td>0.177393</td>\n",
              "      <td>-0.008444</td>\n",
              "      <td>0.040636</td>\n",
              "      <td>-0.510159</td>\n",
              "      <td>-0.010340</td>\n",
              "      <td>0.052768</td>\n",
              "      <td>0.031180</td>\n",
              "      <td>0.023872</td>\n",
              "      <td>0.168513</td>\n",
              "      <td>0.063103</td>\n",
              "      <td>0.832868</td>\n",
              "      <td>1.000000</td>\n",
              "      <td>-0.009679</td>\n",
              "    </tr>\n",
              "    <tr>\n",
              "      <th>target</th>\n",
              "      <td>-0.009771</td>\n",
              "      <td>-0.043331</td>\n",
              "      <td>0.000281</td>\n",
              "      <td>0.000952</td>\n",
              "      <td>-0.001447</td>\n",
              "      <td>-0.010208</td>\n",
              "      <td>-0.007714</td>\n",
              "      <td>-0.259728</td>\n",
              "      <td>-0.007522</td>\n",
              "      <td>-0.012542</td>\n",
              "      <td>-0.006768</td>\n",
              "      <td>0.002158</td>\n",
              "      <td>-0.084410</td>\n",
              "      <td>-0.084410</td>\n",
              "      <td>-0.124067</td>\n",
              "      <td>-0.115158</td>\n",
              "      <td>-0.051208</td>\n",
              "      <td>-0.142592</td>\n",
              "      <td>-0.007607</td>\n",
              "      <td>-0.009679</td>\n",
              "      <td>1.000000</td>\n",
              "    </tr>\n",
              "  </tbody>\n",
              "</table>\n",
              "</div>"
            ],
            "text/plain": [
              "                             outport    inport  ...  vnet_vc_cc_index    target\n",
              "outport                     1.000000 -0.192549  ...          0.134785 -0.009771\n",
              "inport                     -0.192549  1.000000  ...          0.031688 -0.043331\n",
              "cache_coherence_type       -0.058579 -0.039766  ...          0.144089  0.000281\n",
              "flit_id                    -0.002192 -0.009658  ...          0.300288  0.000952\n",
              "flit_type                   0.003312  0.014640  ...         -0.455135 -0.001447\n",
              "vnet                        0.142601  0.088294  ...          0.928159 -0.010208\n",
              "vc                          0.163246 -0.000329  ...          0.917045 -0.007714\n",
              "traversal_id               -0.004521 -0.021270  ...         -0.020092 -0.259728\n",
              "hop_count                   0.247456  0.471152  ...          0.177393 -0.007522\n",
              "current_hop                -0.493926  0.608109  ...         -0.008444 -0.012542\n",
              "hop_percentage             -0.689430  0.500225  ...          0.040636 -0.006768\n",
              "enqueue_time               -0.276991  0.138762  ...         -0.510159  0.002158\n",
              "packet_count_decr          -0.060553 -0.103641  ...         -0.010340 -0.084410\n",
              "packet_count_incr          -0.016865 -0.146014  ...          0.052768 -0.084410\n",
              "max_packet_count           -0.056895 -0.183473  ...          0.031180 -0.124067\n",
              "packet_count_index         -0.050165 -0.149219  ...          0.023872 -0.115158\n",
              "port_index                  0.526332  0.634961  ...          0.168513 -0.051208\n",
              "traversal_index            -0.020444 -0.020004  ...          0.063103 -0.142592\n",
              "cache_coherence_vnet_index  0.060773  0.034719  ...          0.832868 -0.007607\n",
              "vnet_vc_cc_index            0.134785  0.031688  ...          1.000000 -0.009679\n",
              "target                     -0.009771 -0.043331  ...         -0.009679  1.000000\n",
              "\n",
              "[21 rows x 21 columns]"
            ]
          },
          "metadata": {
            "tags": []
          },
          "execution_count": 13
        }
      ]
    },
    {
      "cell_type": "code",
      "metadata": {
        "colab_type": "code",
        "id": "KO-4OTqWHg2O",
        "outputId": "97531c69-9e3b-4710-ad20-2faedb4e2cf5",
        "colab": {
          "base_uri": "https://localhost:8080/",
          "height": 993
        }
      },
      "source": [
        "plt.figure(figsize=(25,25))\n",
        "sns.heatmap(df.corr(), annot = True)\n",
        "plt.show()"
      ],
      "execution_count": 14,
      "outputs": [
        {
          "output_type": "display_data",
          "data": {
            "image/png": "[encoded data removed]",
            "text/plain": [
              "<Figure size 1800x1800 with 2 Axes>"
            ]
          },
          "metadata": {
            "tags": [],
            "needs_background": "light"
          }
        }
      ]
    },
    {
      "cell_type": "code",
      "metadata": {
        "id": "ihUQ4Na0X6ud",
        "colab_type": "code",
        "colab": {}
      },
      "source": [
        "def find_correlation(data, threshold=0.9):\n",
        "    corr_mat = data.corr()\n",
        "    corr_mat.loc[:, :] = np.tril(corr_mat, k=-1)\n",
        "    already_in = set()\n",
        "    result = []\n",
        "    for col in corr_mat:\n",
        "        perfect_corr = corr_mat[col][abs(corr_mat[col])> threshold].index.tolist()\n",
        "        if perfect_corr and col not in already_in:\n",
        "            already_in.update(set(perfect_corr))\n",
        "            perfect_corr.append(col)\n",
        "            result.append(perfect_corr)\n",
        "    select_nested = [f[1:] for f in result]\n",
        "    select_flat = [i for j in select_nested for i in j]\n",
        "    return select_flat"
      ],
      "execution_count": 0,
      "outputs": []
    },
    {
      "cell_type": "code",
      "metadata": {
        "id": "ea_XFirFYRWD",
        "colab_type": "code",
        "outputId": "b114c29e-5a0e-46e7-b894-db5b52a75190",
        "colab": {
          "base_uri": "https://localhost:8080/",
          "height": 34
        }
      },
      "source": [
        "columns_to_drop = find_correlation(df.drop(columns=['target']))\n",
        "columns_to_drop"
      ],
      "execution_count": 16,
      "outputs": [
        {
          "output_type": "execute_result",
          "data": {
            "text/plain": [
              "['vnet_vc_cc_index', 'vnet']"
            ]
          },
          "metadata": {
            "tags": []
          },
          "execution_count": 16
        }
      ]
    },
    {
      "cell_type": "code",
      "metadata": {
        "id": "uoJ0vV8dc3Tp",
        "colab_type": "code",
        "colab": {}
      },
      "source": [
        "df = df.drop(columns=['inport','cache_coherence_type','flit_id','flit_type','vnet','current_hop','hop_percentage','port_index','cache_coherence_vnet_index','vnet_vc_cc_index'])"
      ],
      "execution_count": 0,
      "outputs": []
    },
    {
      "cell_type": "code",
      "metadata": {
        "id": "mnbTvnKD8pJp",
        "colab_type": "code",
        "outputId": "5e722043-fcb8-4f82-9b45-8a94df103572",
        "colab": {
          "base_uri": "https://localhost:8080/",
          "height": 739
        }
      },
      "source": [
        "plt.figure(figsize=(11,11))\n",
        "sns.heatmap(df.corr(), annot = True)\n",
        "plt.show()"
      ],
      "execution_count": 18,
      "outputs": [
        {
          "output_type": "display_data",
          "data": {
            "image/png": "[encoded data removed]",
            "text/plain": [
              "<Figure size 792x792 with 2 Axes>"
            ]
          },
          "metadata": {
            "tags": [],
            "needs_background": "light"
          }
        }
      ]
    },
    {
      "cell_type": "code",
      "metadata": {
        "id": "xmD7x9tM8rFy",
        "colab_type": "code",
        "outputId": "96b3c7e1-b855-436d-9ed6-15b0976b741c",
        "colab": {
          "base_uri": "https://localhost:8080/",
          "height": 739
        }
      },
      "source": [
        "plt.figure(figsize=(11,11))\n",
        "sns.heatmap(df.corr())\n",
        "plt.show()"
      ],
      "execution_count": 19,
      "outputs": [
        {
          "output_type": "display_data",
          "data": {
            "image/png": "[encoded data removed]",
            "text/plain": [
              "<Figure size 792x792 with 2 Axes>"
            ]
          },
          "metadata": {
            "tags": [],
            "needs_background": "light"
          }
        }
      ]
    },
    {
      "cell_type": "markdown",
      "metadata": {
        "colab_type": "text",
        "id": "dqkKQOsugytM"
      },
      "source": [
        "Processing Dataset for Training"
      ]
    },
    {
      "cell_type": "code",
      "metadata": {
        "id": "3QGHP8EYGqHK",
        "colab_type": "code",
        "colab": {}
      },
      "source": [
        "train_X = df.drop(columns=['target'])\n",
        "train_Y = df['target']"
      ],
      "execution_count": 0,
      "outputs": []
    },
    {
      "cell_type": "code",
      "metadata": {
        "colab_type": "code",
        "id": "ebvK4Qc8Hg2S",
        "outputId": "09d17c10-297b-47a1-bb3b-813a27ca89ec",
        "colab": {
          "base_uri": "https://localhost:8080/",
          "height": 439
        }
      },
      "source": [
        "#standardization\n",
        "x = train_X.values\n",
        "min_max_scaler = preprocessing.MinMaxScaler()\n",
        "columns = train_X.columns\n",
        "x_scaled = min_max_scaler.fit_transform(x)\n",
        "train_X = pd.DataFrame(x_scaled)\n",
        "train_X.columns = columns\n",
        "train_X"
      ],
      "execution_count": 21,
      "outputs": [
        {
          "output_type": "execute_result",
          "data": {
            "text/html": [
              "<div>\n",
              "<style scoped>\n",
              "    .dataframe tbody tr th:only-of-type {\n",
              "        vertical-align: middle;\n",
              "    }\n",
              "\n",
              "    .dataframe tbody tr th {\n",
              "        vertical-align: top;\n",
              "    }\n",
              "\n",
              "    .dataframe thead th {\n",
              "        text-align: right;\n",
              "    }\n",
              "</style>\n",
              "<table border=\"1\" class=\"dataframe\">\n",
              "  <thead>\n",
              "    <tr style=\"text-align: right;\">\n",
              "      <th></th>\n",
              "      <th>outport</th>\n",
              "      <th>vc</th>\n",
              "      <th>traversal_id</th>\n",
              "      <th>hop_count</th>\n",
              "      <th>enqueue_time</th>\n",
              "      <th>packet_count_decr</th>\n",
              "      <th>packet_count_incr</th>\n",
              "      <th>max_packet_count</th>\n",
              "      <th>packet_count_index</th>\n",
              "      <th>traversal_index</th>\n",
              "    </tr>\n",
              "  </thead>\n",
              "  <tbody>\n",
              "    <tr>\n",
              "      <th>0</th>\n",
              "      <td>0.5</td>\n",
              "      <td>0.000000</td>\n",
              "      <td>0.000033</td>\n",
              "      <td>0.2</td>\n",
              "      <td>0.000000</td>\n",
              "      <td>0.550725</td>\n",
              "      <td>0.000000</td>\n",
              "      <td>0.550725</td>\n",
              "      <td>0.010441</td>\n",
              "      <td>0.000001</td>\n",
              "    </tr>\n",
              "    <tr>\n",
              "      <th>1</th>\n",
              "      <td>0.5</td>\n",
              "      <td>0.000000</td>\n",
              "      <td>0.000066</td>\n",
              "      <td>0.2</td>\n",
              "      <td>0.000000</td>\n",
              "      <td>0.628019</td>\n",
              "      <td>0.000000</td>\n",
              "      <td>0.628019</td>\n",
              "      <td>0.011906</td>\n",
              "      <td>0.000003</td>\n",
              "    </tr>\n",
              "    <tr>\n",
              "      <th>2</th>\n",
              "      <td>0.5</td>\n",
              "      <td>0.000000</td>\n",
              "      <td>0.000033</td>\n",
              "      <td>0.2</td>\n",
              "      <td>0.000000</td>\n",
              "      <td>0.483092</td>\n",
              "      <td>0.000000</td>\n",
              "      <td>0.483092</td>\n",
              "      <td>0.009158</td>\n",
              "      <td>0.000001</td>\n",
              "    </tr>\n",
              "    <tr>\n",
              "      <th>3</th>\n",
              "      <td>0.5</td>\n",
              "      <td>0.000000</td>\n",
              "      <td>0.000033</td>\n",
              "      <td>0.6</td>\n",
              "      <td>0.125000</td>\n",
              "      <td>0.314010</td>\n",
              "      <td>0.000000</td>\n",
              "      <td>0.314010</td>\n",
              "      <td>0.005953</td>\n",
              "      <td>0.000001</td>\n",
              "    </tr>\n",
              "    <tr>\n",
              "      <th>4</th>\n",
              "      <td>0.5</td>\n",
              "      <td>0.000000</td>\n",
              "      <td>0.000033</td>\n",
              "      <td>0.6</td>\n",
              "      <td>0.125000</td>\n",
              "      <td>0.386473</td>\n",
              "      <td>0.000000</td>\n",
              "      <td>0.386473</td>\n",
              "      <td>0.007327</td>\n",
              "      <td>0.000001</td>\n",
              "    </tr>\n",
              "    <tr>\n",
              "      <th>...</th>\n",
              "      <td>...</td>\n",
              "      <td>...</td>\n",
              "      <td>...</td>\n",
              "      <td>...</td>\n",
              "      <td>...</td>\n",
              "      <td>...</td>\n",
              "      <td>...</td>\n",
              "      <td>...</td>\n",
              "      <td>...</td>\n",
              "      <td>...</td>\n",
              "    </tr>\n",
              "    <tr>\n",
              "      <th>764425</th>\n",
              "      <td>0.5</td>\n",
              "      <td>0.111111</td>\n",
              "      <td>0.999967</td>\n",
              "      <td>0.2</td>\n",
              "      <td>0.328125</td>\n",
              "      <td>0.019324</td>\n",
              "      <td>0.125604</td>\n",
              "      <td>0.144928</td>\n",
              "      <td>0.012272</td>\n",
              "      <td>0.533333</td>\n",
              "    </tr>\n",
              "    <tr>\n",
              "      <th>764426</th>\n",
              "      <td>0.5</td>\n",
              "      <td>0.111111</td>\n",
              "      <td>0.999967</td>\n",
              "      <td>0.2</td>\n",
              "      <td>0.437500</td>\n",
              "      <td>0.014493</td>\n",
              "      <td>0.130435</td>\n",
              "      <td>0.144928</td>\n",
              "      <td>0.010166</td>\n",
              "      <td>1.000000</td>\n",
              "    </tr>\n",
              "    <tr>\n",
              "      <th>764427</th>\n",
              "      <td>0.5</td>\n",
              "      <td>0.222222</td>\n",
              "      <td>1.000000</td>\n",
              "      <td>0.2</td>\n",
              "      <td>0.437500</td>\n",
              "      <td>0.009662</td>\n",
              "      <td>0.135266</td>\n",
              "      <td>0.144928</td>\n",
              "      <td>0.007876</td>\n",
              "      <td>0.088890</td>\n",
              "    </tr>\n",
              "    <tr>\n",
              "      <th>764428</th>\n",
              "      <td>0.5</td>\n",
              "      <td>0.333333</td>\n",
              "      <td>0.999967</td>\n",
              "      <td>0.6</td>\n",
              "      <td>0.031250</td>\n",
              "      <td>0.004831</td>\n",
              "      <td>0.140097</td>\n",
              "      <td>0.144928</td>\n",
              "      <td>0.005403</td>\n",
              "      <td>0.311110</td>\n",
              "    </tr>\n",
              "    <tr>\n",
              "      <th>764429</th>\n",
              "      <td>0.0</td>\n",
              "      <td>0.000000</td>\n",
              "      <td>1.000000</td>\n",
              "      <td>0.2</td>\n",
              "      <td>0.062500</td>\n",
              "      <td>0.000000</td>\n",
              "      <td>0.144928</td>\n",
              "      <td>0.144928</td>\n",
              "      <td>0.002748</td>\n",
              "      <td>0.133336</td>\n",
              "    </tr>\n",
              "  </tbody>\n",
              "</table>\n",
              "<p>764430 rows × 10 columns</p>\n",
              "</div>"
            ],
            "text/plain": [
              "        outport        vc  ...  packet_count_index  traversal_index\n",
              "0           0.5  0.000000  ...            0.010441         0.000001\n",
              "1           0.5  0.000000  ...            0.011906         0.000003\n",
              "2           0.5  0.000000  ...            0.009158         0.000001\n",
              "3           0.5  0.000000  ...            0.005953         0.000001\n",
              "4           0.5  0.000000  ...            0.007327         0.000001\n",
              "...         ...       ...  ...                 ...              ...\n",
              "764425      0.5  0.111111  ...            0.012272         0.533333\n",
              "764426      0.5  0.111111  ...            0.010166         1.000000\n",
              "764427      0.5  0.222222  ...            0.007876         0.088890\n",
              "764428      0.5  0.333333  ...            0.005403         0.311110\n",
              "764429      0.0  0.000000  ...            0.002748         0.133336\n",
              "\n",
              "[764430 rows x 10 columns]"
            ]
          },
          "metadata": {
            "tags": []
          },
          "execution_count": 21
        }
      ]
    },
    {
      "cell_type": "code",
      "metadata": {
        "colab_type": "code",
        "id": "S6WGL499FBbX",
        "outputId": "e4b063db-0ee6-4ac7-f118-bce77b398da8",
        "colab": {
          "base_uri": "https://localhost:8080/",
          "height": 34
        }
      },
      "source": [
        "train_X[train_X.duplicated()].shape"
      ],
      "execution_count": 22,
      "outputs": [
        {
          "output_type": "execute_result",
          "data": {
            "text/plain": [
              "(3329, 10)"
            ]
          },
          "metadata": {
            "tags": []
          },
          "execution_count": 22
        }
      ]
    },
    {
      "cell_type": "code",
      "metadata": {
        "id": "0BZm1zbDPrjh",
        "colab_type": "code",
        "outputId": "8d713303-e417-4ac0-b171-ed1fb4bcf8d3",
        "colab": {
          "base_uri": "https://localhost:8080/",
          "height": 456
        }
      },
      "source": [
        "test_X = df13.drop(columns=['target','timestamp','src_ni','src_router','dst_ni','dst_router','inport','cache_coherence_type','flit_id','flit_type','vnet','current_hop','hop_percentage','port_index','cache_coherence_vnet_index','vnet_vc_cc_index'])\n",
        "test_Y = df13['target']\n",
        "x = test_X.values\n",
        "min_max_scaler = preprocessing.MinMaxScaler()\n",
        "columns = test_X.columns\n",
        "x_scaled = min_max_scaler.fit_transform(x)\n",
        "test_X = pd.DataFrame(x_scaled)\n",
        "test_X.columns = columns\n",
        "print(test_X[test_X.duplicated()].shape)\n",
        "test_X"
      ],
      "execution_count": 23,
      "outputs": [
        {
          "output_type": "stream",
          "text": [
            "(0, 10)\n"
          ],
          "name": "stdout"
        },
        {
          "output_type": "execute_result",
          "data": {
            "text/html": [
              "<div>\n",
              "<style scoped>\n",
              "    .dataframe tbody tr th:only-of-type {\n",
              "        vertical-align: middle;\n",
              "    }\n",
              "\n",
              "    .dataframe tbody tr th {\n",
              "        vertical-align: top;\n",
              "    }\n",
              "\n",
              "    .dataframe thead th {\n",
              "        text-align: right;\n",
              "    }\n",
              "</style>\n",
              "<table border=\"1\" class=\"dataframe\">\n",
              "  <thead>\n",
              "    <tr style=\"text-align: right;\">\n",
              "      <th></th>\n",
              "      <th>outport</th>\n",
              "      <th>vc</th>\n",
              "      <th>traversal_id</th>\n",
              "      <th>hop_count</th>\n",
              "      <th>enqueue_time</th>\n",
              "      <th>packet_count_decr</th>\n",
              "      <th>packet_count_incr</th>\n",
              "      <th>max_packet_count</th>\n",
              "      <th>packet_count_index</th>\n",
              "      <th>traversal_index</th>\n",
              "    </tr>\n",
              "  </thead>\n",
              "  <tbody>\n",
              "    <tr>\n",
              "      <th>0</th>\n",
              "      <td>1.0</td>\n",
              "      <td>0.888889</td>\n",
              "      <td>0.000000</td>\n",
              "      <td>0.75</td>\n",
              "      <td>0.060606</td>\n",
              "      <td>0.513699</td>\n",
              "      <td>0.000000</td>\n",
              "      <td>0.513699</td>\n",
              "      <td>0.013699</td>\n",
              "      <td>0.000000</td>\n",
              "    </tr>\n",
              "    <tr>\n",
              "      <th>1</th>\n",
              "      <td>1.0</td>\n",
              "      <td>0.888889</td>\n",
              "      <td>0.000000</td>\n",
              "      <td>0.75</td>\n",
              "      <td>0.075758</td>\n",
              "      <td>0.506849</td>\n",
              "      <td>0.006849</td>\n",
              "      <td>0.513699</td>\n",
              "      <td>0.027215</td>\n",
              "      <td>0.000004</td>\n",
              "    </tr>\n",
              "    <tr>\n",
              "      <th>2</th>\n",
              "      <td>1.0</td>\n",
              "      <td>0.888889</td>\n",
              "      <td>0.000000</td>\n",
              "      <td>0.75</td>\n",
              "      <td>0.090909</td>\n",
              "      <td>0.500000</td>\n",
              "      <td>0.013699</td>\n",
              "      <td>0.513699</td>\n",
              "      <td>0.040365</td>\n",
              "      <td>0.000007</td>\n",
              "    </tr>\n",
              "    <tr>\n",
              "      <th>3</th>\n",
              "      <td>1.0</td>\n",
              "      <td>0.888889</td>\n",
              "      <td>0.000000</td>\n",
              "      <td>0.75</td>\n",
              "      <td>0.106061</td>\n",
              "      <td>0.493151</td>\n",
              "      <td>0.020548</td>\n",
              "      <td>0.513699</td>\n",
              "      <td>0.053151</td>\n",
              "      <td>0.000010</td>\n",
              "    </tr>\n",
              "    <tr>\n",
              "      <th>4</th>\n",
              "      <td>1.0</td>\n",
              "      <td>0.888889</td>\n",
              "      <td>0.000000</td>\n",
              "      <td>0.75</td>\n",
              "      <td>0.166667</td>\n",
              "      <td>0.486301</td>\n",
              "      <td>0.027397</td>\n",
              "      <td>0.513699</td>\n",
              "      <td>0.065571</td>\n",
              "      <td>0.000021</td>\n",
              "    </tr>\n",
              "    <tr>\n",
              "      <th>...</th>\n",
              "      <td>...</td>\n",
              "      <td>...</td>\n",
              "      <td>...</td>\n",
              "      <td>...</td>\n",
              "      <td>...</td>\n",
              "      <td>...</td>\n",
              "      <td>...</td>\n",
              "      <td>...</td>\n",
              "      <td>...</td>\n",
              "      <td>...</td>\n",
              "    </tr>\n",
              "    <tr>\n",
              "      <th>53629</th>\n",
              "      <td>0.5</td>\n",
              "      <td>0.111111</td>\n",
              "      <td>0.999967</td>\n",
              "      <td>0.00</td>\n",
              "      <td>0.318182</td>\n",
              "      <td>0.027397</td>\n",
              "      <td>0.178082</td>\n",
              "      <td>0.205479</td>\n",
              "      <td>0.024475</td>\n",
              "      <td>0.533333</td>\n",
              "    </tr>\n",
              "    <tr>\n",
              "      <th>53630</th>\n",
              "      <td>0.5</td>\n",
              "      <td>0.111111</td>\n",
              "      <td>0.999967</td>\n",
              "      <td>0.00</td>\n",
              "      <td>0.424242</td>\n",
              "      <td>0.020548</td>\n",
              "      <td>0.184932</td>\n",
              "      <td>0.205479</td>\n",
              "      <td>0.020274</td>\n",
              "      <td>1.000000</td>\n",
              "    </tr>\n",
              "    <tr>\n",
              "      <th>53631</th>\n",
              "      <td>0.5</td>\n",
              "      <td>0.222222</td>\n",
              "      <td>1.000000</td>\n",
              "      <td>0.00</td>\n",
              "      <td>0.424242</td>\n",
              "      <td>0.013699</td>\n",
              "      <td>0.191781</td>\n",
              "      <td>0.205479</td>\n",
              "      <td>0.015708</td>\n",
              "      <td>0.088890</td>\n",
              "    </tr>\n",
              "    <tr>\n",
              "      <th>53632</th>\n",
              "      <td>0.5</td>\n",
              "      <td>0.333333</td>\n",
              "      <td>0.999967</td>\n",
              "      <td>0.50</td>\n",
              "      <td>0.015152</td>\n",
              "      <td>0.006849</td>\n",
              "      <td>0.198630</td>\n",
              "      <td>0.205479</td>\n",
              "      <td>0.010776</td>\n",
              "      <td>0.311110</td>\n",
              "    </tr>\n",
              "    <tr>\n",
              "      <th>53633</th>\n",
              "      <td>0.0</td>\n",
              "      <td>0.000000</td>\n",
              "      <td>1.000000</td>\n",
              "      <td>0.00</td>\n",
              "      <td>0.121212</td>\n",
              "      <td>0.000000</td>\n",
              "      <td>0.205479</td>\n",
              "      <td>0.205479</td>\n",
              "      <td>0.005479</td>\n",
              "      <td>0.133336</td>\n",
              "    </tr>\n",
              "  </tbody>\n",
              "</table>\n",
              "<p>53634 rows × 10 columns</p>\n",
              "</div>"
            ],
            "text/plain": [
              "       outport        vc  ...  packet_count_index  traversal_index\n",
              "0          1.0  0.888889  ...            0.013699         0.000000\n",
              "1          1.0  0.888889  ...            0.027215         0.000004\n",
              "2          1.0  0.888889  ...            0.040365         0.000007\n",
              "3          1.0  0.888889  ...            0.053151         0.000010\n",
              "4          1.0  0.888889  ...            0.065571         0.000021\n",
              "...        ...       ...  ...                 ...              ...\n",
              "53629      0.5  0.111111  ...            0.024475         0.533333\n",
              "53630      0.5  0.111111  ...            0.020274         1.000000\n",
              "53631      0.5  0.222222  ...            0.015708         0.088890\n",
              "53632      0.5  0.333333  ...            0.010776         0.311110\n",
              "53633      0.0  0.000000  ...            0.005479         0.133336\n",
              "\n",
              "[53634 rows x 10 columns]"
            ]
          },
          "metadata": {
            "tags": []
          },
          "execution_count": 23
        }
      ]
    },
    {
      "cell_type": "code",
      "metadata": {
        "id": "6RHIaC_EpHU3",
        "colab_type": "code",
        "outputId": "80f84f5c-35f4-476f-da5b-01f84ab9d65b",
        "colab": {
          "base_uri": "https://localhost:8080/",
          "height": 34
        }
      },
      "source": [
        "test_X1 = df14.drop(columns=['target','timestamp','src_ni','src_router','dst_ni','dst_router','inport','cache_coherence_type','flit_id','flit_type','vnet','current_hop','hop_percentage','port_index','cache_coherence_vnet_index','vnet_vc_cc_index'])\n",
        "test_Y1 = df14['target']\n",
        "x = test_X1.values\n",
        "min_max_scaler = preprocessing.MinMaxScaler()\n",
        "columns = test_X1.columns\n",
        "x_scaled = min_max_scaler.fit_transform(x)\n",
        "test_X1 = pd.DataFrame(x_scaled)\n",
        "test_X1.columns = columns\n",
        "print(test_X1[test_X1.duplicated()].shape)"
      ],
      "execution_count": 24,
      "outputs": [
        {
          "output_type": "stream",
          "text": [
            "(0, 10)\n"
          ],
          "name": "stdout"
        }
      ]
    },
    {
      "cell_type": "code",
      "metadata": {
        "id": "CcaDu50VpICj",
        "colab_type": "code",
        "outputId": "d2be86c6-df17-4ef5-f115-30585f9b69c2",
        "colab": {
          "base_uri": "https://localhost:8080/",
          "height": 34
        }
      },
      "source": [
        "test_X2 = df15.drop(columns=['target','timestamp','src_ni','src_router','dst_ni','dst_router','inport','cache_coherence_type','flit_id','flit_type','vnet','current_hop','hop_percentage','port_index','cache_coherence_vnet_index','vnet_vc_cc_index'])\n",
        "test_Y2 = df15['target']\n",
        "x = test_X2.values\n",
        "min_max_scaler = preprocessing.MinMaxScaler()\n",
        "columns = test_X2.columns\n",
        "x_scaled = min_max_scaler.fit_transform(x)\n",
        "test_X2 = pd.DataFrame(x_scaled)\n",
        "test_X2.columns = columns\n",
        "print(test_X2[test_X2.duplicated()].shape)"
      ],
      "execution_count": 25,
      "outputs": [
        {
          "output_type": "stream",
          "text": [
            "(0, 10)\n"
          ],
          "name": "stdout"
        }
      ]
    },
    {
      "cell_type": "code",
      "metadata": {
        "id": "6_CQ1D1DpIgj",
        "colab_type": "code",
        "outputId": "cd930936-5bc9-4f30-9687-13c1fe62b927",
        "colab": {
          "base_uri": "https://localhost:8080/",
          "height": 34
        }
      },
      "source": [
        "test_X3 = df16.drop(columns=['target','timestamp','src_ni','src_router','dst_ni','dst_router','inport','cache_coherence_type','flit_id','flit_type','vnet','current_hop','hop_percentage','port_index','cache_coherence_vnet_index','vnet_vc_cc_index'])\n",
        "test_Y3 = df16['target']\n",
        "x = test_X3.values\n",
        "min_max_scaler = preprocessing.MinMaxScaler()\n",
        "columns = test_X3.columns\n",
        "x_scaled = min_max_scaler.fit_transform(x)\n",
        "test_X3 = pd.DataFrame(x_scaled)\n",
        "test_X3.columns = columns\n",
        "print(test_X3[test_X3.duplicated()].shape)"
      ],
      "execution_count": 26,
      "outputs": [
        {
          "output_type": "stream",
          "text": [
            "(0, 10)\n"
          ],
          "name": "stdout"
        }
      ]
    },
    {
      "cell_type": "code",
      "metadata": {
        "id": "yyhSMnXWpI7H",
        "colab_type": "code",
        "outputId": "583958cd-b099-4859-88f1-327143a793dd",
        "colab": {
          "base_uri": "https://localhost:8080/",
          "height": 34
        }
      },
      "source": [
        "test_X4 = df17.drop(columns=['target','timestamp','src_ni','src_router','dst_ni','dst_router','inport','cache_coherence_type','flit_id','flit_type','vnet','current_hop','hop_percentage','port_index','cache_coherence_vnet_index','vnet_vc_cc_index'])\n",
        "test_Y4 = df17['target']\n",
        "x = test_X4.values\n",
        "min_max_scaler = preprocessing.MinMaxScaler()\n",
        "columns = test_X4.columns\n",
        "x_scaled = min_max_scaler.fit_transform(x)\n",
        "test_X4 = pd.DataFrame(x_scaled)\n",
        "test_X4.columns = columns\n",
        "print(test_X4[test_X4.duplicated()].shape)"
      ],
      "execution_count": 27,
      "outputs": [
        {
          "output_type": "stream",
          "text": [
            "(0, 10)\n"
          ],
          "name": "stdout"
        }
      ]
    },
    {
      "cell_type": "code",
      "metadata": {
        "id": "x1L9-vRTpJtX",
        "colab_type": "code",
        "outputId": "fdebb20b-5373-4f3a-b94c-e40feda64312",
        "colab": {
          "base_uri": "https://localhost:8080/",
          "height": 34
        }
      },
      "source": [
        "test_X5 = df18.drop(columns=['target','timestamp','src_ni','src_router','dst_ni','dst_router','inport','cache_coherence_type','flit_id','flit_type','vnet','current_hop','hop_percentage','port_index','cache_coherence_vnet_index','vnet_vc_cc_index'])\n",
        "test_Y5 = df18['target']\n",
        "x = test_X5.values\n",
        "min_max_scaler = preprocessing.MinMaxScaler()\n",
        "columns = test_X5.columns\n",
        "x_scaled = min_max_scaler.fit_transform(x)\n",
        "test_X5 = pd.DataFrame(x_scaled)\n",
        "test_X5.columns = columns\n",
        "print(test_X5[test_X5.duplicated()].shape)"
      ],
      "execution_count": 28,
      "outputs": [
        {
          "output_type": "stream",
          "text": [
            "(0, 10)\n"
          ],
          "name": "stdout"
        }
      ]
    },
    {
      "cell_type": "code",
      "metadata": {
        "id": "TOO9K9qnpLL_",
        "colab_type": "code",
        "outputId": "5f2257b5-c1ac-4dec-ae3e-74851e372afd",
        "colab": {
          "base_uri": "https://localhost:8080/",
          "height": 34
        }
      },
      "source": [
        "test_X6 = df19.drop(columns=['target','timestamp','src_ni','src_router','dst_ni','dst_router','inport','cache_coherence_type','flit_id','flit_type','vnet','current_hop','hop_percentage','port_index','cache_coherence_vnet_index','vnet_vc_cc_index'])\n",
        "test_Y6 = df19['target']\n",
        "x = test_X6.values\n",
        "min_max_scaler = preprocessing.MinMaxScaler()\n",
        "columns = test_X6.columns\n",
        "x_scaled = min_max_scaler.fit_transform(x)\n",
        "test_X6 = pd.DataFrame(x_scaled)\n",
        "test_X6.columns = columns\n",
        "print(test_X6[test_X6.duplicated()].shape)"
      ],
      "execution_count": 29,
      "outputs": [
        {
          "output_type": "stream",
          "text": [
            "(0, 10)\n"
          ],
          "name": "stdout"
        }
      ]
    },
    {
      "cell_type": "code",
      "metadata": {
        "id": "y2dPb0tOpLxu",
        "colab_type": "code",
        "outputId": "a4fd2d82-5f47-4bbb-cc0f-8d1430c586bd",
        "colab": {
          "base_uri": "https://localhost:8080/",
          "height": 34
        }
      },
      "source": [
        "test_X7 = df20.drop(columns=['target','timestamp','src_ni','src_router','dst_ni','dst_router','inport','cache_coherence_type','flit_id','flit_type','vnet','current_hop','hop_percentage','port_index','cache_coherence_vnet_index','vnet_vc_cc_index'])\n",
        "test_Y7 = df20['target']\n",
        "x = test_X7.values\n",
        "min_max_scaler = preprocessing.MinMaxScaler()\n",
        "columns = test_X7.columns\n",
        "x_scaled = min_max_scaler.fit_transform(x)\n",
        "test_X7 = pd.DataFrame(x_scaled)\n",
        "test_X7.columns = columns\n",
        "print(test_X7[test_X7.duplicated()].shape)"
      ],
      "execution_count": 30,
      "outputs": [
        {
          "output_type": "stream",
          "text": [
            "(0, 10)\n"
          ],
          "name": "stdout"
        }
      ]
    },
    {
      "cell_type": "markdown",
      "metadata": {
        "colab_type": "text",
        "id": "2NUEiEtVHg2h"
      },
      "source": [
        "#### Machine Learning Models"
      ]
    },
    {
      "cell_type": "markdown",
      "metadata": {
        "colab_type": "text",
        "id": "BzgcG2e7hQC8"
      },
      "source": [
        "Module Imports for Data Processing and Report Generation in Machine Learning Models"
      ]
    },
    {
      "cell_type": "code",
      "metadata": {
        "colab_type": "code",
        "id": "wZCWkSvsHg2h",
        "colab": {}
      },
      "source": [
        "from sklearn.model_selection import train_test_split\n",
        "\n",
        "import statsmodels.api as sm\n",
        "from sklearn import metrics\n",
        "\n",
        "from sklearn.metrics import classification_report\n",
        "from sklearn.metrics import confusion_matrix\n",
        "\n",
        "from sklearn.metrics import roc_curve\n",
        "from sklearn.metrics import roc_auc_score\n",
        "from sklearn.metrics import accuracy_score\n",
        "from sklearn.metrics import mean_squared_error"
      ],
      "execution_count": 0,
      "outputs": []
    },
    {
      "cell_type": "markdown",
      "metadata": {
        "colab_type": "text",
        "id": "TWvMTDtHhoex"
      },
      "source": [
        "Labels\n",
        "\n",
        "1.   0 -  malicious\n",
        "2.   1 -  good\n",
        "\n"
      ]
    },
    {
      "cell_type": "code",
      "metadata": {
        "colab_type": "code",
        "id": "Ns6uUJz1G9MD",
        "outputId": "6c5a7609-db00-4764-c4e2-1d672ce05fb2",
        "colab": {
          "base_uri": "https://localhost:8080/",
          "height": 68
        }
      },
      "source": [
        "train_Y = df['target']\n",
        "train_Y.value_counts()"
      ],
      "execution_count": 32,
      "outputs": [
        {
          "output_type": "execute_result",
          "data": {
            "text/plain": [
              "0    559546\n",
              "1    204884\n",
              "Name: target, dtype: int64"
            ]
          },
          "metadata": {
            "tags": []
          },
          "execution_count": 32
        }
      ]
    },
    {
      "cell_type": "markdown",
      "metadata": {
        "colab_type": "text",
        "id": "_px-73eUh-05"
      },
      "source": [
        "Training and Validation Splitting of the Dataset"
      ]
    },
    {
      "cell_type": "code",
      "metadata": {
        "colab_type": "code",
        "id": "f9N46sTQHAw4",
        "colab": {}
      },
      "source": [
        "seed = 5\n",
        "np.random.seed(seed)"
      ],
      "execution_count": 0,
      "outputs": []
    },
    {
      "cell_type": "code",
      "metadata": {
        "colab_type": "code",
        "id": "SnHyPPbEHg2i",
        "colab": {}
      },
      "source": [
        "X_train, X_test, y_train, y_test = train_test_split(train_X, train_Y, test_size=0.2, random_state=seed, shuffle=True)"
      ],
      "execution_count": 0,
      "outputs": []
    },
    {
      "cell_type": "markdown",
      "metadata": {
        "colab_type": "text",
        "id": "Fy_oia0XiJNW"
      },
      "source": [
        "Feature Selection"
      ]
    },
    {
      "cell_type": "code",
      "metadata": {
        "colab_type": "code",
        "id": "v10pJaPUfMOd",
        "outputId": "650cb024-9100-4af6-f58c-23fd1f423601",
        "colab": {
          "base_uri": "https://localhost:8080/",
          "height": 469
        }
      },
      "source": [
        "#SelectKBest for feature selection\n",
        "bf = SelectKBest(score_func=chi2, k='all')\n",
        "fit = bf.fit(X_train,y_train)\n",
        "dfscores = pd.DataFrame(fit.scores_)\n",
        "dfcolumns = pd.DataFrame(columns)\n",
        "\n",
        "featureScores = pd.concat([dfcolumns,dfscores],axis=1)\n",
        "featureScores.columns = ['Specs','Score'] \n",
        "print(featureScores.nlargest(10,'Score'))\n",
        "featureScores.plot(kind='barh')"
      ],
      "execution_count": 35,
      "outputs": [
        {
          "output_type": "stream",
          "text": [
            "                Specs        Score\n",
            "2        traversal_id  7042.086467\n",
            "9     traversal_index  2230.235019\n",
            "7    max_packet_count  1099.297010\n",
            "8  packet_count_index  1028.413250\n",
            "5   packet_count_decr   555.395348\n",
            "6   packet_count_incr   543.929038\n",
            "1                  vc    16.880106\n",
            "0             outport    14.648585\n",
            "3           hop_count     3.652415\n",
            "4        enqueue_time     0.459084\n"
          ],
          "name": "stdout"
        },
        {
          "output_type": "execute_result",
          "data": {
            "text/plain": [
              "<matplotlib.axes._subplots.AxesSubplot at 0x7f276960dcf8>"
            ]
          },
          "metadata": {
            "tags": []
          },
          "execution_count": 35
        },
        {
          "output_type": "display_data",
          "data": {
            "image/png": "[encoded data removed]",
            "text/plain": [
              "<Figure size 432x288 with 1 Axes>"
            ]
          },
          "metadata": {
            "tags": [],
            "needs_background": "light"
          }
        }
      ]
    },
    {
      "cell_type": "markdown",
      "metadata": {
        "colab_type": "text",
        "id": "rnmPuKJF2pdi"
      },
      "source": [
        "Decision Tree Classifier"
      ]
    },
    {
      "cell_type": "code",
      "metadata": {
        "colab_type": "code",
        "id": "biZL4MMmvYmG",
        "colab": {}
      },
      "source": [
        "#decisiontreee\n",
        "from sklearn.tree import DecisionTreeClassifier\n",
        "from sklearn.model_selection import GridSearchCV"
      ],
      "execution_count": 0,
      "outputs": []
    },
    {
      "cell_type": "code",
      "metadata": {
        "colab_type": "code",
        "id": "d3mCR-TiHg2-",
        "outputId": "d23738d2-33b2-4fc7-a41a-407192eeaa42",
        "colab": {
          "base_uri": "https://localhost:8080/",
          "height": 119
        }
      },
      "source": [
        "dt = DecisionTreeClassifier(max_depth=20,max_features=10,random_state = 42)\n",
        "dt.fit(X_train,y_train)"
      ],
      "execution_count": 37,
      "outputs": [
        {
          "output_type": "execute_result",
          "data": {
            "text/plain": [
              "DecisionTreeClassifier(ccp_alpha=0.0, class_weight=None, criterion='gini',\n",
              "                       max_depth=20, max_features=10, max_leaf_nodes=None,\n",
              "                       min_impurity_decrease=0.0, min_impurity_split=None,\n",
              "                       min_samples_leaf=1, min_samples_split=2,\n",
              "                       min_weight_fraction_leaf=0.0, presort='deprecated',\n",
              "                       random_state=42, splitter='best')"
            ]
          },
          "metadata": {
            "tags": []
          },
          "execution_count": 37
        }
      ]
    },
    {
      "cell_type": "code",
      "metadata": {
        "id": "inQ8gu1OdApz",
        "colab_type": "code",
        "colab": {}
      },
      "source": [
        "pickle.dump(dt, open(\"dt-r6.pickle.dat\", 'wb'))"
      ],
      "execution_count": 0,
      "outputs": []
    },
    {
      "cell_type": "code",
      "metadata": {
        "colab_type": "code",
        "id": "xIIefAL_Hg2_",
        "colab": {}
      },
      "source": [
        "y_pred_dt= dt.predict(X_test)"
      ],
      "execution_count": 0,
      "outputs": []
    },
    {
      "cell_type": "code",
      "metadata": {
        "colab_type": "code",
        "id": "gBahu3DGHg3A",
        "outputId": "397f7ff2-3a68-409e-93b9-ea9e4f08ecfb",
        "colab": {
          "base_uri": "https://localhost:8080/",
          "height": 51
        }
      },
      "source": [
        "dt_score_train = dt.score(X_train,y_train)\n",
        "print(\"Train Prediction Score\",dt_score_train*100)\n",
        "dt_score_test = accuracy_score(y_test,y_pred_dt)\n",
        "print(\"Test Prediction Score\",dt_score_test*100)"
      ],
      "execution_count": 40,
      "outputs": [
        {
          "output_type": "stream",
          "text": [
            "Train Prediction Score 95.06478683463496\n",
            "Test Prediction Score 94.20744868725717\n"
          ],
          "name": "stdout"
        }
      ]
    },
    {
      "cell_type": "code",
      "metadata": {
        "id": "6y9oZRCGhR_7",
        "colab_type": "code",
        "outputId": "f4c118fe-2ce3-4fd5-b5ea-d89a05d3d913",
        "colab": {
          "base_uri": "https://localhost:8080/",
          "height": 153
        }
      },
      "source": [
        "y_pred_dt_test= dt.predict(test_X)\n",
        "dt_score_test = accuracy_score(test_Y,y_pred_dt_test)\n",
        "print(\"Test Prediction Score\",dt_score_test*100)\n",
        "y_pred_dt_test= dt.predict(test_X1)\n",
        "dt_score_test = accuracy_score(test_Y1,y_pred_dt_test)\n",
        "print(\"Test Prediction Score\",dt_score_test*100)\n",
        "y_pred_dt_test= dt.predict(test_X2)\n",
        "dt_score_test = accuracy_score(test_Y2,y_pred_dt_test)\n",
        "print(\"Test Prediction Score\",dt_score_test*100)\n",
        "y_pred_dt_test= dt.predict(test_X3)\n",
        "dt_score_test = accuracy_score(test_Y3,y_pred_dt_test)\n",
        "print(\"Test Prediction Score\",dt_score_test*100)\n",
        "y_pred_dt_test= dt.predict(test_X4)\n",
        "dt_score_test = accuracy_score(test_Y4,y_pred_dt_test)\n",
        "print(\"Test Prediction Score\",dt_score_test*100)\n",
        "y_pred_dt_test= dt.predict(test_X5)\n",
        "dt_score_test = accuracy_score(test_Y5,y_pred_dt_test)\n",
        "print(\"Test Prediction Score\",dt_score_test*100)\n",
        "y_pred_dt_test= dt.predict(test_X6)\n",
        "dt_score_test = accuracy_score(test_Y6,y_pred_dt_test)\n",
        "print(\"Test Prediction Score\",dt_score_test*100)\n",
        "y_pred_dt_test= dt.predict(test_X7)\n",
        "dt_score_test = accuracy_score(test_Y7,y_pred_dt_test)\n",
        "print(\"Test Prediction Score\",dt_score_test*100)"
      ],
      "execution_count": 41,
      "outputs": [
        {
          "output_type": "stream",
          "text": [
            "Test Prediction Score 84.74661595256741\n",
            "Test Prediction Score 84.73055097194833\n",
            "Test Prediction Score 87.52489961109178\n",
            "Test Prediction Score 85.42095184055607\n",
            "Test Prediction Score 85.72012854221444\n",
            "Test Prediction Score 87.10294248162461\n",
            "Test Prediction Score 84.15568555614647\n",
            "Test Prediction Score 85.66891348367591\n"
          ],
          "name": "stdout"
        }
      ]
    },
    {
      "cell_type": "code",
      "metadata": {
        "colab_type": "code",
        "id": "OCAU8YpEfMRD",
        "outputId": "5c3b0404-7a3f-491b-85bf-7ccd08fd7511",
        "colab": {
          "base_uri": "https://localhost:8080/",
          "height": 282
        }
      },
      "source": [
        "feat_importances = pd.Series(dt.feature_importances_, index=columns)\n",
        "feat_importances.plot(kind='barh')"
      ],
      "execution_count": 42,
      "outputs": [
        {
          "output_type": "execute_result",
          "data": {
            "text/plain": [
              "<matplotlib.axes._subplots.AxesSubplot at 0x7f2769574780>"
            ]
          },
          "metadata": {
            "tags": []
          },
          "execution_count": 42
        },
        {
          "output_type": "display_data",
          "data": {
            "image/png": "[encoded data removed]",
            "text/plain": [
              "<Figure size 432x288 with 1 Axes>"
            ]
          },
          "metadata": {
            "tags": [],
            "needs_background": "light"
          }
        }
      ]
    },
    {
      "cell_type": "code",
      "metadata": {
        "colab_type": "code",
        "id": "5nIhx84-Hg3B",
        "outputId": "62def2a3-4892-4c88-820f-681657bddab2",
        "colab": {
          "base_uri": "https://localhost:8080/",
          "height": 295
        }
      },
      "source": [
        "cm = confusion_matrix(y_test, y_pred_dt)\n",
        "class_label = [\"Anomalous\", \"Normal\"]\n",
        "df_cm = pd.DataFrame(cm, index=class_label,columns=class_label)\n",
        "sns.heatmap(df_cm, annot=True, fmt='d')\n",
        "plt.title(\"Confusion Matrix\")\n",
        "plt.xlabel(\"Predicted Label\")\n",
        "plt.ylabel(\"True Label\")\n",
        "plt.show()"
      ],
      "execution_count": 43,
      "outputs": [
        {
          "output_type": "display_data",
          "data": {
            "image/png": "[encoded data removed]",
            "text/plain": [
              "<Figure size 432x288 with 2 Axes>"
            ]
          },
          "metadata": {
            "tags": [],
            "needs_background": "light"
          }
        }
      ]
    },
    {
      "cell_type": "code",
      "metadata": {
        "colab_type": "code",
        "id": "xGqt7wigHg3B",
        "outputId": "c66febce-1f6a-4510-de40-a295a6172fd0",
        "colab": {
          "base_uri": "https://localhost:8080/",
          "height": 170
        }
      },
      "source": [
        "print(classification_report(y_test,y_pred_dt))"
      ],
      "execution_count": 44,
      "outputs": [
        {
          "output_type": "stream",
          "text": [
            "              precision    recall  f1-score   support\n",
            "\n",
            "           0       0.94      0.98      0.96    111638\n",
            "           1       0.94      0.84      0.89     41248\n",
            "\n",
            "    accuracy                           0.94    152886\n",
            "   macro avg       0.94      0.91      0.92    152886\n",
            "weighted avg       0.94      0.94      0.94    152886\n",
            "\n"
          ],
          "name": "stdout"
        }
      ]
    },
    {
      "cell_type": "code",
      "metadata": {
        "colab_type": "code",
        "id": "wkWUUjGmHg3C",
        "outputId": "2654d071-7eb9-41c4-e295-297fab3ba58c",
        "colab": {
          "base_uri": "https://localhost:8080/",
          "height": 295
        }
      },
      "source": [
        "dt_roc_auc = roc_auc_score(y_test, y_pred_dt)\n",
        "fpr, tpr, thresholds = roc_curve(y_test, dt.predict_proba(X_test)[:,1])\n",
        "plt.figure()\n",
        "plt.plot(fpr, tpr, label='DTree (area = %0.2f)' % dt_roc_auc)\n",
        "plt.plot([0, 1], [0, 1],'r--')\n",
        "plt.xlim([0.0, 1.0])\n",
        "plt.ylim([0.0, 1.05])\n",
        "plt.xlabel('False Positive Rate')\n",
        "plt.ylabel('True Positive Rate')\n",
        "plt.title('Receiver operating characteristic')\n",
        "plt.legend(loc=\"lower right\")\n",
        "plt.savefig('DT_ROC')\n",
        "plt.show()"
      ],
      "execution_count": 45,
      "outputs": [
        {
          "output_type": "display_data",
          "data": {
            "image/png": "[encoded data removed]",
            "text/plain": [
              "<Figure size 432x288 with 1 Axes>"
            ]
          },
          "metadata": {
            "tags": [],
            "needs_background": "light"
          }
        }
      ]
    },
    {
      "cell_type": "markdown",
      "metadata": {
        "id": "fXmBo6f1Hg3J",
        "colab_type": "text"
      },
      "source": [
        "XGB Classifier"
      ]
    },
    {
      "cell_type": "code",
      "metadata": {
        "id": "nE2alWP-ejv9",
        "colab_type": "code",
        "colab": {}
      },
      "source": [
        "from xgboost import XGBClassifier\n",
        "from xgboost import plot_importance"
      ],
      "execution_count": 0,
      "outputs": []
    },
    {
      "cell_type": "code",
      "metadata": {
        "colab_type": "code",
        "id": "JBwo0_BWHg3K",
        "outputId": "19faccc5-332b-44c4-d109-30a3906c3e07",
        "colab": {
          "base_uri": "https://localhost:8080/",
          "height": 136
        }
      },
      "source": [
        "xgbc = XGBClassifier(max_depth=20,min_child_weight=1,n_estimators=500,random_state=42,learning_rate=0.2)\n",
        "xgbc.fit(X_train,y_train)"
      ],
      "execution_count": 47,
      "outputs": [
        {
          "output_type": "execute_result",
          "data": {
            "text/plain": [
              "XGBClassifier(base_score=0.5, booster='gbtree', colsample_bylevel=1,\n",
              "              colsample_bynode=1, colsample_bytree=1, gamma=0,\n",
              "              learning_rate=0.2, max_delta_step=0, max_depth=20,\n",
              "              min_child_weight=1, missing=None, n_estimators=500, n_jobs=1,\n",
              "              nthread=None, objective='binary:logistic', random_state=42,\n",
              "              reg_alpha=0, reg_lambda=1, scale_pos_weight=1, seed=None,\n",
              "              silent=None, subsample=1, verbosity=1)"
            ]
          },
          "metadata": {
            "tags": []
          },
          "execution_count": 47
        }
      ]
    },
    {
      "cell_type": "code",
      "metadata": {
        "id": "1mA3luB2uPQG",
        "colab_type": "code",
        "colab": {}
      },
      "source": [
        "pickle.dump(xgbc, open(\"xgbc-r6l.pickle.dat\", 'wb'))"
      ],
      "execution_count": 0,
      "outputs": []
    },
    {
      "cell_type": "code",
      "metadata": {
        "colab_type": "code",
        "id": "prz2UBF8Hg3L",
        "colab": {}
      },
      "source": [
        "y_pred_xgbc= xgbc.predict(X_test)"
      ],
      "execution_count": 0,
      "outputs": []
    },
    {
      "cell_type": "code",
      "metadata": {
        "colab_type": "code",
        "id": "tFKQ1bq8Hg3L",
        "outputId": "0517952e-4c07-4974-ef7f-bd548fd790ca",
        "colab": {
          "base_uri": "https://localhost:8080/",
          "height": 51
        }
      },
      "source": [
        "xgbc_score_train = xgbc.score(X_train,y_train)\n",
        "print(\"Train Prediction Score\",xgbc_score_train*100)\n",
        "xgbc_score_test = accuracy_score(y_test,y_pred_xgbc)\n",
        "print(\"Test Prediction Score\",xgbc_score_test*100)"
      ],
      "execution_count": 50,
      "outputs": [
        {
          "output_type": "stream",
          "text": [
            "Train Prediction Score 99.98953468597517\n",
            "Test Prediction Score 99.48719961278339\n"
          ],
          "name": "stdout"
        }
      ]
    },
    {
      "cell_type": "code",
      "metadata": {
        "id": "Z6hKTv8gopF3",
        "colab_type": "code",
        "outputId": "be287f98-21b2-4de9-a562-b7f52f09c349",
        "colab": {
          "base_uri": "https://localhost:8080/",
          "height": 153
        }
      },
      "source": [
        "y_pred_xgbc_test= xgbc.predict(test_X)\n",
        "xgbc_score_test = accuracy_score(test_Y,y_pred_xgbc_test)\n",
        "print(\"Test Prediction Score\",xgbc_score_test*100)\n",
        "y_pred_xgbc_test= xgbc.predict(test_X1)\n",
        "xgbc_score_test = accuracy_score(test_Y1,y_pred_xgbc_test)\n",
        "print(\"Test Prediction Score\",xgbc_score_test*100)\n",
        "y_pred_xgbc_test= xgbc.predict(test_X2)\n",
        "xgbc_score_test = accuracy_score(test_Y2,y_pred_xgbc_test)\n",
        "print(\"Test Prediction Score\",xgbc_score_test*100)\n",
        "y_pred_xgbc_test= xgbc.predict(test_X3)\n",
        "xgbc_score_test = accuracy_score(test_Y3,y_pred_xgbc_test)\n",
        "print(\"Test Prediction Score\",xgbc_score_test*100)\n",
        "y_pred_xgbc_test= xgbc.predict(test_X4)\n",
        "xgbc_score_test = accuracy_score(test_Y4,y_pred_xgbc_test)\n",
        "print(\"Test Prediction Score\",xgbc_score_test*100)\n",
        "y_pred_xgbc_test= xgbc.predict(test_X5)\n",
        "xgbc_score_test = accuracy_score(test_Y5,y_pred_xgbc_test)\n",
        "print(\"Test Prediction Score\",xgbc_score_test*100)\n",
        "y_pred_xgbc_test= xgbc.predict(test_X6)\n",
        "xgbc_score_test = accuracy_score(test_Y6,y_pred_xgbc_test)\n",
        "print(\"Test Prediction Score\",xgbc_score_test*100)\n",
        "y_pred_xgbc_test= xgbc.predict(test_X7)\n",
        "xgbc_score_test = accuracy_score(test_Y7,y_pred_xgbc_test)\n",
        "print(\"Test Prediction Score\",xgbc_score_test*100)"
      ],
      "execution_count": 51,
      "outputs": [
        {
          "output_type": "stream",
          "text": [
            "Test Prediction Score 87.35876496252376\n",
            "Test Prediction Score 87.5679156437397\n",
            "Test Prediction Score 89.78246435008063\n",
            "Test Prediction Score 88.03579450079202\n",
            "Test Prediction Score 87.56061933976045\n",
            "Test Prediction Score 88.90941803893725\n",
            "Test Prediction Score 87.53373121392976\n",
            "Test Prediction Score 90.14035671687331\n"
          ],
          "name": "stdout"
        }
      ]
    },
    {
      "cell_type": "code",
      "metadata": {
        "colab_type": "code",
        "id": "t-zwHWP_fMR_",
        "outputId": "f308c371-879f-479f-a451-bed7dabe597f",
        "colab": {
          "base_uri": "https://localhost:8080/",
          "height": 295
        }
      },
      "source": [
        "plot_importance(xgbc)\n",
        "plt.show()"
      ],
      "execution_count": 52,
      "outputs": [
        {
          "output_type": "display_data",
          "data": {
            "image/png": "[encoded data removed]",
            "text/plain": [
              "<Figure size 432x288 with 1 Axes>"
            ]
          },
          "metadata": {
            "tags": [],
            "needs_background": "light"
          }
        }
      ]
    },
    {
      "cell_type": "code",
      "metadata": {
        "colab_type": "code",
        "id": "9OVtiUmaHg3M",
        "outputId": "88387e33-d22e-4848-d1fd-71d5de2b33c7",
        "colab": {
          "base_uri": "https://localhost:8080/",
          "height": 295
        }
      },
      "source": [
        "cm = confusion_matrix(y_test, y_pred_xgbc)\n",
        "class_label = [\"Anomalous\", \"Normal\"]\n",
        "df_cm = pd.DataFrame(cm, index=class_label,columns=class_label)\n",
        "sns.heatmap(df_cm, annot=True, fmt='d')\n",
        "plt.title(\"Confusion Matrix\")\n",
        "plt.xlabel(\"Predicted Label\")\n",
        "plt.ylabel(\"True Label\")\n",
        "plt.show()"
      ],
      "execution_count": 53,
      "outputs": [
        {
          "output_type": "display_data",
          "data": {
            "image/png": "[encoded data removed]",
            "text/plain": [
              "<Figure size 432x288 with 2 Axes>"
            ]
          },
          "metadata": {
            "tags": [],
            "needs_background": "light"
          }
        }
      ]
    },
    {
      "cell_type": "code",
      "metadata": {
        "colab_type": "code",
        "id": "gAx5bI8BHg3M",
        "outputId": "12404f5d-885a-45d0-aa0e-1886abb991ad",
        "colab": {
          "base_uri": "https://localhost:8080/",
          "height": 170
        }
      },
      "source": [
        "print(classification_report(y_test,y_pred_xgbc))"
      ],
      "execution_count": 54,
      "outputs": [
        {
          "output_type": "stream",
          "text": [
            "              precision    recall  f1-score   support\n",
            "\n",
            "           0       1.00      1.00      1.00    111638\n",
            "           1       0.99      0.99      0.99     41248\n",
            "\n",
            "    accuracy                           0.99    152886\n",
            "   macro avg       0.99      0.99      0.99    152886\n",
            "weighted avg       0.99      0.99      0.99    152886\n",
            "\n"
          ],
          "name": "stdout"
        }
      ]
    },
    {
      "cell_type": "code",
      "metadata": {
        "colab_type": "code",
        "id": "LqPGLNKQHg3N",
        "outputId": "7675fd55-b855-453a-c832-d295f15cc9fe",
        "colab": {
          "base_uri": "https://localhost:8080/",
          "height": 295
        }
      },
      "source": [
        "xgb_roc_auc = roc_auc_score(y_test, y_pred_xgbc)\n",
        "fpr, tpr, thresholds = roc_curve(y_test, xgbc.predict_proba(X_test)[:,1])\n",
        "plt.figure()\n",
        "plt.plot(fpr, tpr, label='XGBoost (area = %0.2f)' % xgb_roc_auc)\n",
        "plt.plot([0, 1], [0, 1],'r--')\n",
        "plt.xlim([0.0, 1.0])\n",
        "plt.ylim([0.0, 1.05])\n",
        "plt.xlabel('False Positive Rate')\n",
        "plt.ylabel('True Positive Rate')\n",
        "plt.title('Receiver operating characteristic')\n",
        "plt.legend(loc=\"lower right\")\n",
        "plt.savefig('XGB_ROC')\n",
        "plt.show()"
      ],
      "execution_count": 55,
      "outputs": [
        {
          "output_type": "display_data",
          "data": {
            "image/png": "[encoded data removed]",
            "text/plain": [
              "<Figure size 432x288 with 1 Axes>"
            ]
          },
          "metadata": {
            "tags": [],
            "needs_background": "light"
          }
        }
      ]
    }
  ]
}