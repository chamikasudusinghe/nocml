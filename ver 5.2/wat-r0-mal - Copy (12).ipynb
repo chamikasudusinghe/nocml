{
 "cells": [
  {
   "cell_type": "code",
   "execution_count": null,
   "metadata": {},
   "outputs": [],
   "source": [
    "import pandas as pd"
   ]
  },
  {
   "cell_type": "code",
   "execution_count": null,
   "metadata": {},
   "outputs": [],
   "source": [
    "df = pd.read_csv('wat-mal.csv')\n",
    "df = df.loc[df['router'] == 4]\n",
    "df = df.drop(columns=['router'])\n",
    "df.to_csv('wat-r4-mal.csv',index=False)"
   ]
  },
  {
   "cell_type": "code",
   "execution_count": null,
   "metadata": {},
   "outputs": [],
   "source": [
    "df = pd.read_csv('wat-r4-mal.csv')\n",
    "df"
   ]
  },
  {
   "cell_type": "code",
   "execution_count": null,
   "metadata": {},
   "outputs": [],
   "source": [
    "timearr = []\n",
    "interval = 99\n",
    "count = 0\n",
    "for index, row in df.iterrows():\n",
    "    if row[\"timestamp\"]<=interval:\n",
    "        count+=1\n",
    "    else:\n",
    "        timearr.append([interval+1,count])\n",
    "        count=1\n",
    "        interval+=100\n",
    "timearr.append([interval+1,count])"
   ]
  },
  {
   "cell_type": "code",
   "execution_count": null,
   "metadata": {},
   "outputs": [],
   "source": [
    "countarr = []\n",
    "increarr = []\n",
    "maxarr = []\n",
    "for i in range(len(timearr)):\n",
    "    for cnt in range(timearr[i][1],0,-1):\n",
    "        countarr.append(cnt)\n",
    "        maxarr.append(timearr[i][1])\n",
    "        increment = timearr[i][1] - cnt + 1\n",
    "        increarr.append(increment)\n",
    "print(len(countarr))"
   ]
  },
  {
   "cell_type": "code",
   "execution_count": null,
   "metadata": {},
   "outputs": [],
   "source": [
    "df = df.assign(packet_count_decr=countarr)\n",
    "df = df.assign(packet_count_incr=increarr)\n",
    "df = df.assign(max_packet_count=maxarr)\n",
    "df[\"packet_count_index\"] = df[\"packet_count_decr\"]*df[\"packet_count_incr\"]\n",
    "df[\"packet_max_index\"] = df[\"packet_count_index\"]*df[\"max_packet_count\"]\n",
    "df[\"port_index\"] = df[\"outport\"]*df[\"inport\"]\n",
    "df[\"cache_coherence_flit_index\"] = df[\"cache_coherence_type\"]*df[\"flit_id\"]\n",
    "df[\"flit_index\"] = df[\"cache_coherence_flit_index\"]*df[\"flit_type\"]\n",
    "df[\"traversal_index\"] = df[\"flit_index\"]*df[\"traversal_id\"]\n",
    "df[\"cache_coherence_vnet_index\"] = df[\"cache_coherence_type\"]*df[\"vnet\"]\n",
    "df[\"vnet_vc_index\"] = df[\"vnet\"]*df[\"vc\"]\n",
    "df[\"vnet_vc_cc_index\"] = df[\"vnet\"]*df[\"cache_coherence_vnet_index\"]\n",
    "\n",
    "df.head(50)"
   ]
  },
  {
   "cell_type": "code",
   "execution_count": null,
   "metadata": {},
   "outputs": [],
   "source": [
    "#df[\"packet_types\"] = df[\"packet_type\"]\n",
    "#df=pd.get_dummies(df, prefix=['outport', 'inport', 'packet_type'], columns=['outport', 'inport','packet_type'])"
   ]
  },
  {
   "cell_type": "code",
   "execution_count": null,
   "metadata": {},
   "outputs": [],
   "source": [
    "df.dtypes"
   ]
  },
  {
   "cell_type": "code",
   "execution_count": null,
   "metadata": {},
   "outputs": [],
   "source": [
    "#df['inport_3'] = 0\n",
    "#df['outport_3'] = 0"
   ]
  },
  {
   "cell_type": "code",
   "execution_count": null,
   "metadata": {},
   "outputs": [],
   "source": [
    "df"
   ]
  },
  {
   "cell_type": "code",
   "execution_count": null,
   "metadata": {},
   "outputs": [],
   "source": [
    "df['target'] = 0\n",
    "df"
   ]
  },
  {
   "cell_type": "code",
   "execution_count": null,
   "metadata": {},
   "outputs": [],
   "source": [
    "df.to_csv('wat-r4-mal.csv',index=False)"
   ]
  }
 ],
 "metadata": {
  "kernelspec": {
   "display_name": "Python 3",
   "language": "python",
   "name": "python3"
  },
  "language_info": {
   "codemirror_mode": {
    "name": "ipython",
    "version": 3
   },
   "file_extension": ".py",
   "mimetype": "text/x-python",
   "name": "python",
   "nbconvert_exporter": "python",
   "pygments_lexer": "ipython3",
   "version": "3.7.4"
  }
 },
 "nbformat": 4,
 "nbformat_minor": 4
}
