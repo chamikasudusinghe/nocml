{
  "nbformat": 4,
  "nbformat_minor": 0,
  "metadata": {
    "kernelspec": {
      "display_name": "Python 3",
      "language": "python",
      "name": "python3"
    },
    "language_info": {
      "codemirror_mode": {
        "name": "ipython",
        "version": 3
      },
      "file_extension": ".py",
      "mimetype": "text/x-python",
      "name": "python",
      "nbconvert_exporter": "python",
      "pygments_lexer": "ipython3",
      "version": "3.7.4"
    },
    "colab": {
      "name": "wat-r1-model.ipynb",
      "provenance": [],
      "collapsed_sections": [],
      "include_colab_link": true
    },
    "accelerator": "TPU"
  },
  "cells": [
    {
      "cell_type": "markdown",
      "metadata": {
        "id": "view-in-github",
        "colab_type": "text"
      },
      "source": [
        "<a href=\"https://colab.research.google.com/github/chamikasudusinghe/nocml/blob/master/wat_r1_model-v2.ipynb\" target=\"_parent\"><img src=\"https://colab.research.google.com/assets/colab-badge.svg\" alt=\"Open In Colab\"/></a>"
      ]
    },
    {
      "cell_type": "code",
      "metadata": {
        "id": "k-c4z9vpHg1z",
        "colab_type": "code",
        "colab": {}
      },
      "source": [
        "import pandas as pd\n",
        "import numpy as np\n",
        "import matplotlib.pyplot as plt\n",
        "import seaborn as sns"
      ],
      "execution_count": 0,
      "outputs": []
    },
    {
      "cell_type": "code",
      "metadata": {
        "id": "zhZHRUXxHg13",
        "colab_type": "code",
        "colab": {}
      },
      "source": [
        "from sklearn import preprocessing\n",
        "from sklearn.decomposition import PCA"
      ],
      "execution_count": 0,
      "outputs": []
    },
    {
      "cell_type": "code",
      "metadata": {
        "id": "RxwfTOU7Hg16",
        "colab_type": "code",
        "colab": {}
      },
      "source": [
        "dfgurl =  \"https://raw.githubusercontent.com/chamikasudusinghe/nocml/master/ver%205.2/wat-r1-good.csv?token=AKVFSODHIHS4LLKHYAMU6PK6XFSJG\"\n",
        "dfmurl =  \"https://raw.githubusercontent.com/chamikasudusinghe/nocml/master/ver%205.2/wat-r1-mal.csv?token=AKVFSODGM4UD3YONYM7GQG26XFR4I\"\n",
        "\n",
        "dfg = pd.read_csv(dfgurl)\n",
        "dfm = pd.read_csv(dfmurl)"
      ],
      "execution_count": 0,
      "outputs": []
    },
    {
      "cell_type": "code",
      "metadata": {
        "id": "RV8oqgUpHg18",
        "colab_type": "code",
        "outputId": "2131a20f-ac04-401b-fba4-d4ffd4bb7440",
        "colab": {
          "base_uri": "https://localhost:8080/",
          "height": 439
        }
      },
      "source": [
        "dfg"
      ],
      "execution_count": 0,
      "outputs": [
        {
          "output_type": "execute_result",
          "data": {
            "text/html": [
              "<div>\n",
              "<style scoped>\n",
              "    .dataframe tbody tr th:only-of-type {\n",
              "        vertical-align: middle;\n",
              "    }\n",
              "\n",
              "    .dataframe tbody tr th {\n",
              "        vertical-align: top;\n",
              "    }\n",
              "\n",
              "    .dataframe thead th {\n",
              "        text-align: right;\n",
              "    }\n",
              "</style>\n",
              "<table border=\"1\" class=\"dataframe\">\n",
              "  <thead>\n",
              "    <tr style=\"text-align: right;\">\n",
              "      <th></th>\n",
              "      <th>time</th>\n",
              "      <th>outport</th>\n",
              "      <th>inport</th>\n",
              "      <th>packet_type</th>\n",
              "      <th>flit_id</th>\n",
              "      <th>flit_type</th>\n",
              "      <th>vnet</th>\n",
              "      <th>vc</th>\n",
              "      <th>src_ni</th>\n",
              "      <th>src_router</th>\n",
              "      <th>dst_ni</th>\n",
              "      <th>dst_router</th>\n",
              "      <th>pkt_chuck</th>\n",
              "      <th>hop_count</th>\n",
              "      <th>current_hop</th>\n",
              "      <th>hop_percentage</th>\n",
              "      <th>waiting_time</th>\n",
              "      <th>pkt_count</th>\n",
              "      <th>pkt_max</th>\n",
              "      <th>target</th>\n",
              "    </tr>\n",
              "  </thead>\n",
              "  <tbody>\n",
              "    <tr>\n",
              "      <th>0</th>\n",
              "      <td>11</td>\n",
              "      <td>2</td>\n",
              "      <td>4</td>\n",
              "      <td>0</td>\n",
              "      <td>0</td>\n",
              "      <td>3</td>\n",
              "      <td>2</td>\n",
              "      <td>8</td>\n",
              "      <td>0</td>\n",
              "      <td>0</td>\n",
              "      <td>23</td>\n",
              "      <td>7</td>\n",
              "      <td>0</td>\n",
              "      <td>4</td>\n",
              "      <td>1</td>\n",
              "      <td>0.250000</td>\n",
              "      <td>8</td>\n",
              "      <td>6</td>\n",
              "      <td>6</td>\n",
              "      <td>1</td>\n",
              "    </tr>\n",
              "    <tr>\n",
              "      <th>1</th>\n",
              "      <td>83</td>\n",
              "      <td>4</td>\n",
              "      <td>2</td>\n",
              "      <td>3</td>\n",
              "      <td>0</td>\n",
              "      <td>0</td>\n",
              "      <td>4</td>\n",
              "      <td>16</td>\n",
              "      <td>18</td>\n",
              "      <td>2</td>\n",
              "      <td>0</td>\n",
              "      <td>0</td>\n",
              "      <td>0</td>\n",
              "      <td>2</td>\n",
              "      <td>1</td>\n",
              "      <td>0.500000</td>\n",
              "      <td>9</td>\n",
              "      <td>5</td>\n",
              "      <td>6</td>\n",
              "      <td>1</td>\n",
              "    </tr>\n",
              "    <tr>\n",
              "      <th>2</th>\n",
              "      <td>84</td>\n",
              "      <td>4</td>\n",
              "      <td>2</td>\n",
              "      <td>3</td>\n",
              "      <td>1</td>\n",
              "      <td>1</td>\n",
              "      <td>4</td>\n",
              "      <td>16</td>\n",
              "      <td>18</td>\n",
              "      <td>2</td>\n",
              "      <td>0</td>\n",
              "      <td>0</td>\n",
              "      <td>0</td>\n",
              "      <td>2</td>\n",
              "      <td>1</td>\n",
              "      <td>0.500000</td>\n",
              "      <td>10</td>\n",
              "      <td>4</td>\n",
              "      <td>6</td>\n",
              "      <td>1</td>\n",
              "    </tr>\n",
              "    <tr>\n",
              "      <th>3</th>\n",
              "      <td>85</td>\n",
              "      <td>4</td>\n",
              "      <td>2</td>\n",
              "      <td>3</td>\n",
              "      <td>2</td>\n",
              "      <td>1</td>\n",
              "      <td>4</td>\n",
              "      <td>16</td>\n",
              "      <td>18</td>\n",
              "      <td>2</td>\n",
              "      <td>0</td>\n",
              "      <td>0</td>\n",
              "      <td>0</td>\n",
              "      <td>2</td>\n",
              "      <td>1</td>\n",
              "      <td>0.500000</td>\n",
              "      <td>11</td>\n",
              "      <td>3</td>\n",
              "      <td>6</td>\n",
              "      <td>1</td>\n",
              "    </tr>\n",
              "    <tr>\n",
              "      <th>4</th>\n",
              "      <td>86</td>\n",
              "      <td>4</td>\n",
              "      <td>2</td>\n",
              "      <td>3</td>\n",
              "      <td>3</td>\n",
              "      <td>1</td>\n",
              "      <td>4</td>\n",
              "      <td>16</td>\n",
              "      <td>18</td>\n",
              "      <td>2</td>\n",
              "      <td>0</td>\n",
              "      <td>0</td>\n",
              "      <td>0</td>\n",
              "      <td>2</td>\n",
              "      <td>1</td>\n",
              "      <td>0.500000</td>\n",
              "      <td>12</td>\n",
              "      <td>2</td>\n",
              "      <td>6</td>\n",
              "      <td>1</td>\n",
              "    </tr>\n",
              "    <tr>\n",
              "      <th>...</th>\n",
              "      <td>...</td>\n",
              "      <td>...</td>\n",
              "      <td>...</td>\n",
              "      <td>...</td>\n",
              "      <td>...</td>\n",
              "      <td>...</td>\n",
              "      <td>...</td>\n",
              "      <td>...</td>\n",
              "      <td>...</td>\n",
              "      <td>...</td>\n",
              "      <td>...</td>\n",
              "      <td>...</td>\n",
              "      <td>...</td>\n",
              "      <td>...</td>\n",
              "      <td>...</td>\n",
              "      <td>...</td>\n",
              "      <td>...</td>\n",
              "      <td>...</td>\n",
              "      <td>...</td>\n",
              "      <td>...</td>\n",
              "    </tr>\n",
              "    <tr>\n",
              "      <th>50096</th>\n",
              "      <td>3251158</td>\n",
              "      <td>2</td>\n",
              "      <td>4</td>\n",
              "      <td>4</td>\n",
              "      <td>1</td>\n",
              "      <td>1</td>\n",
              "      <td>2</td>\n",
              "      <td>8</td>\n",
              "      <td>0</td>\n",
              "      <td>0</td>\n",
              "      <td>22</td>\n",
              "      <td>6</td>\n",
              "      <td>10024</td>\n",
              "      <td>3</td>\n",
              "      <td>1</td>\n",
              "      <td>0.333333</td>\n",
              "      <td>15</td>\n",
              "      <td>5</td>\n",
              "      <td>12</td>\n",
              "      <td>1</td>\n",
              "    </tr>\n",
              "    <tr>\n",
              "      <th>50097</th>\n",
              "      <td>3251165</td>\n",
              "      <td>2</td>\n",
              "      <td>4</td>\n",
              "      <td>4</td>\n",
              "      <td>2</td>\n",
              "      <td>1</td>\n",
              "      <td>2</td>\n",
              "      <td>8</td>\n",
              "      <td>0</td>\n",
              "      <td>0</td>\n",
              "      <td>22</td>\n",
              "      <td>6</td>\n",
              "      <td>10024</td>\n",
              "      <td>3</td>\n",
              "      <td>1</td>\n",
              "      <td>0.333333</td>\n",
              "      <td>22</td>\n",
              "      <td>4</td>\n",
              "      <td>12</td>\n",
              "      <td>1</td>\n",
              "    </tr>\n",
              "    <tr>\n",
              "      <th>50098</th>\n",
              "      <td>3251172</td>\n",
              "      <td>2</td>\n",
              "      <td>4</td>\n",
              "      <td>4</td>\n",
              "      <td>3</td>\n",
              "      <td>1</td>\n",
              "      <td>2</td>\n",
              "      <td>8</td>\n",
              "      <td>0</td>\n",
              "      <td>0</td>\n",
              "      <td>22</td>\n",
              "      <td>6</td>\n",
              "      <td>10024</td>\n",
              "      <td>3</td>\n",
              "      <td>1</td>\n",
              "      <td>0.333333</td>\n",
              "      <td>29</td>\n",
              "      <td>3</td>\n",
              "      <td>12</td>\n",
              "      <td>1</td>\n",
              "    </tr>\n",
              "    <tr>\n",
              "      <th>50099</th>\n",
              "      <td>3251179</td>\n",
              "      <td>2</td>\n",
              "      <td>4</td>\n",
              "      <td>4</td>\n",
              "      <td>4</td>\n",
              "      <td>2</td>\n",
              "      <td>2</td>\n",
              "      <td>8</td>\n",
              "      <td>0</td>\n",
              "      <td>0</td>\n",
              "      <td>22</td>\n",
              "      <td>6</td>\n",
              "      <td>10024</td>\n",
              "      <td>3</td>\n",
              "      <td>1</td>\n",
              "      <td>0.333333</td>\n",
              "      <td>36</td>\n",
              "      <td>2</td>\n",
              "      <td>12</td>\n",
              "      <td>1</td>\n",
              "    </tr>\n",
              "    <tr>\n",
              "      <th>50100</th>\n",
              "      <td>3251180</td>\n",
              "      <td>2</td>\n",
              "      <td>4</td>\n",
              "      <td>0</td>\n",
              "      <td>0</td>\n",
              "      <td>3</td>\n",
              "      <td>2</td>\n",
              "      <td>9</td>\n",
              "      <td>0</td>\n",
              "      <td>0</td>\n",
              "      <td>22</td>\n",
              "      <td>6</td>\n",
              "      <td>10025</td>\n",
              "      <td>3</td>\n",
              "      <td>1</td>\n",
              "      <td>0.333333</td>\n",
              "      <td>36</td>\n",
              "      <td>1</td>\n",
              "      <td>12</td>\n",
              "      <td>1</td>\n",
              "    </tr>\n",
              "  </tbody>\n",
              "</table>\n",
              "<p>50101 rows × 20 columns</p>\n",
              "</div>"
            ],
            "text/plain": [
              "          time  outport  inport  ...  pkt_count  pkt_max  target\n",
              "0           11        2       4  ...          6        6       1\n",
              "1           83        4       2  ...          5        6       1\n",
              "2           84        4       2  ...          4        6       1\n",
              "3           85        4       2  ...          3        6       1\n",
              "4           86        4       2  ...          2        6       1\n",
              "...        ...      ...     ...  ...        ...      ...     ...\n",
              "50096  3251158        2       4  ...          5       12       1\n",
              "50097  3251165        2       4  ...          4       12       1\n",
              "50098  3251172        2       4  ...          3       12       1\n",
              "50099  3251179        2       4  ...          2       12       1\n",
              "50100  3251180        2       4  ...          1       12       1\n",
              "\n",
              "[50101 rows x 20 columns]"
            ]
          },
          "metadata": {
            "tags": []
          },
          "execution_count": 7
        }
      ]
    },
    {
      "cell_type": "code",
      "metadata": {
        "id": "ESoHkcEdHg2A",
        "colab_type": "code",
        "outputId": "7fe9425a-2d84-4cd3-9958-75e538229058",
        "colab": {
          "base_uri": "https://localhost:8080/",
          "height": 439
        }
      },
      "source": [
        "dfm"
      ],
      "execution_count": 0,
      "outputs": [
        {
          "output_type": "execute_result",
          "data": {
            "text/html": [
              "<div>\n",
              "<style scoped>\n",
              "    .dataframe tbody tr th:only-of-type {\n",
              "        vertical-align: middle;\n",
              "    }\n",
              "\n",
              "    .dataframe tbody tr th {\n",
              "        vertical-align: top;\n",
              "    }\n",
              "\n",
              "    .dataframe thead th {\n",
              "        text-align: right;\n",
              "    }\n",
              "</style>\n",
              "<table border=\"1\" class=\"dataframe\">\n",
              "  <thead>\n",
              "    <tr style=\"text-align: right;\">\n",
              "      <th></th>\n",
              "      <th>time</th>\n",
              "      <th>outport</th>\n",
              "      <th>inport</th>\n",
              "      <th>packet_type</th>\n",
              "      <th>flit_id</th>\n",
              "      <th>flit_type</th>\n",
              "      <th>vnet</th>\n",
              "      <th>vc</th>\n",
              "      <th>src_ni</th>\n",
              "      <th>src_router</th>\n",
              "      <th>dst_ni</th>\n",
              "      <th>dst_router</th>\n",
              "      <th>pkt_chuck</th>\n",
              "      <th>hop_count</th>\n",
              "      <th>current_hop</th>\n",
              "      <th>hop_percentage</th>\n",
              "      <th>waiting_time</th>\n",
              "      <th>pkt_count</th>\n",
              "      <th>pkt_max</th>\n",
              "      <th>target</th>\n",
              "    </tr>\n",
              "  </thead>\n",
              "  <tbody>\n",
              "    <tr>\n",
              "      <th>0</th>\n",
              "      <td>7</td>\n",
              "      <td>2</td>\n",
              "      <td>0</td>\n",
              "      <td>0</td>\n",
              "      <td>0</td>\n",
              "      <td>3</td>\n",
              "      <td>2</td>\n",
              "      <td>8</td>\n",
              "      <td>1</td>\n",
              "      <td>1</td>\n",
              "      <td>23</td>\n",
              "      <td>7</td>\n",
              "      <td>1</td>\n",
              "      <td>3</td>\n",
              "      <td>0</td>\n",
              "      <td>0.00</td>\n",
              "      <td>4</td>\n",
              "      <td>7</td>\n",
              "      <td>7</td>\n",
              "      <td>0</td>\n",
              "    </tr>\n",
              "    <tr>\n",
              "      <th>1</th>\n",
              "      <td>11</td>\n",
              "      <td>2</td>\n",
              "      <td>4</td>\n",
              "      <td>0</td>\n",
              "      <td>0</td>\n",
              "      <td>3</td>\n",
              "      <td>2</td>\n",
              "      <td>8</td>\n",
              "      <td>0</td>\n",
              "      <td>0</td>\n",
              "      <td>23</td>\n",
              "      <td>7</td>\n",
              "      <td>0</td>\n",
              "      <td>4</td>\n",
              "      <td>1</td>\n",
              "      <td>0.25</td>\n",
              "      <td>8</td>\n",
              "      <td>6</td>\n",
              "      <td>7</td>\n",
              "      <td>0</td>\n",
              "    </tr>\n",
              "    <tr>\n",
              "      <th>2</th>\n",
              "      <td>79</td>\n",
              "      <td>0</td>\n",
              "      <td>2</td>\n",
              "      <td>3</td>\n",
              "      <td>0</td>\n",
              "      <td>0</td>\n",
              "      <td>4</td>\n",
              "      <td>16</td>\n",
              "      <td>18</td>\n",
              "      <td>2</td>\n",
              "      <td>1</td>\n",
              "      <td>1</td>\n",
              "      <td>1</td>\n",
              "      <td>1</td>\n",
              "      <td>1</td>\n",
              "      <td>1.00</td>\n",
              "      <td>9</td>\n",
              "      <td>5</td>\n",
              "      <td>7</td>\n",
              "      <td>0</td>\n",
              "    </tr>\n",
              "    <tr>\n",
              "      <th>3</th>\n",
              "      <td>80</td>\n",
              "      <td>0</td>\n",
              "      <td>2</td>\n",
              "      <td>3</td>\n",
              "      <td>1</td>\n",
              "      <td>1</td>\n",
              "      <td>4</td>\n",
              "      <td>16</td>\n",
              "      <td>18</td>\n",
              "      <td>2</td>\n",
              "      <td>1</td>\n",
              "      <td>1</td>\n",
              "      <td>1</td>\n",
              "      <td>1</td>\n",
              "      <td>1</td>\n",
              "      <td>1.00</td>\n",
              "      <td>10</td>\n",
              "      <td>4</td>\n",
              "      <td>7</td>\n",
              "      <td>0</td>\n",
              "    </tr>\n",
              "    <tr>\n",
              "      <th>4</th>\n",
              "      <td>81</td>\n",
              "      <td>0</td>\n",
              "      <td>2</td>\n",
              "      <td>3</td>\n",
              "      <td>2</td>\n",
              "      <td>1</td>\n",
              "      <td>4</td>\n",
              "      <td>16</td>\n",
              "      <td>18</td>\n",
              "      <td>2</td>\n",
              "      <td>1</td>\n",
              "      <td>1</td>\n",
              "      <td>1</td>\n",
              "      <td>1</td>\n",
              "      <td>1</td>\n",
              "      <td>1.00</td>\n",
              "      <td>11</td>\n",
              "      <td>3</td>\n",
              "      <td>7</td>\n",
              "      <td>0</td>\n",
              "    </tr>\n",
              "    <tr>\n",
              "      <th>...</th>\n",
              "      <td>...</td>\n",
              "      <td>...</td>\n",
              "      <td>...</td>\n",
              "      <td>...</td>\n",
              "      <td>...</td>\n",
              "      <td>...</td>\n",
              "      <td>...</td>\n",
              "      <td>...</td>\n",
              "      <td>...</td>\n",
              "      <td>...</td>\n",
              "      <td>...</td>\n",
              "      <td>...</td>\n",
              "      <td>...</td>\n",
              "      <td>...</td>\n",
              "      <td>...</td>\n",
              "      <td>...</td>\n",
              "      <td>...</td>\n",
              "      <td>...</td>\n",
              "      <td>...</td>\n",
              "      <td>...</td>\n",
              "    </tr>\n",
              "    <tr>\n",
              "      <th>71836</th>\n",
              "      <td>2022096</td>\n",
              "      <td>4</td>\n",
              "      <td>0</td>\n",
              "      <td>4</td>\n",
              "      <td>1</td>\n",
              "      <td>1</td>\n",
              "      <td>2</td>\n",
              "      <td>10</td>\n",
              "      <td>1</td>\n",
              "      <td>1</td>\n",
              "      <td>28</td>\n",
              "      <td>12</td>\n",
              "      <td>11082</td>\n",
              "      <td>5</td>\n",
              "      <td>0</td>\n",
              "      <td>0.00</td>\n",
              "      <td>11</td>\n",
              "      <td>1</td>\n",
              "      <td>1</td>\n",
              "      <td>0</td>\n",
              "    </tr>\n",
              "    <tr>\n",
              "      <th>71837</th>\n",
              "      <td>2022103</td>\n",
              "      <td>4</td>\n",
              "      <td>0</td>\n",
              "      <td>4</td>\n",
              "      <td>2</td>\n",
              "      <td>1</td>\n",
              "      <td>2</td>\n",
              "      <td>10</td>\n",
              "      <td>1</td>\n",
              "      <td>1</td>\n",
              "      <td>28</td>\n",
              "      <td>12</td>\n",
              "      <td>11082</td>\n",
              "      <td>5</td>\n",
              "      <td>0</td>\n",
              "      <td>0.00</td>\n",
              "      <td>18</td>\n",
              "      <td>1</td>\n",
              "      <td>1</td>\n",
              "      <td>0</td>\n",
              "    </tr>\n",
              "    <tr>\n",
              "      <th>71838</th>\n",
              "      <td>2022110</td>\n",
              "      <td>4</td>\n",
              "      <td>0</td>\n",
              "      <td>4</td>\n",
              "      <td>3</td>\n",
              "      <td>1</td>\n",
              "      <td>2</td>\n",
              "      <td>10</td>\n",
              "      <td>1</td>\n",
              "      <td>1</td>\n",
              "      <td>28</td>\n",
              "      <td>12</td>\n",
              "      <td>11082</td>\n",
              "      <td>5</td>\n",
              "      <td>0</td>\n",
              "      <td>0.00</td>\n",
              "      <td>25</td>\n",
              "      <td>1</td>\n",
              "      <td>1</td>\n",
              "      <td>0</td>\n",
              "    </tr>\n",
              "    <tr>\n",
              "      <th>71839</th>\n",
              "      <td>2022117</td>\n",
              "      <td>4</td>\n",
              "      <td>0</td>\n",
              "      <td>4</td>\n",
              "      <td>4</td>\n",
              "      <td>2</td>\n",
              "      <td>2</td>\n",
              "      <td>10</td>\n",
              "      <td>1</td>\n",
              "      <td>1</td>\n",
              "      <td>28</td>\n",
              "      <td>12</td>\n",
              "      <td>11082</td>\n",
              "      <td>5</td>\n",
              "      <td>0</td>\n",
              "      <td>0.00</td>\n",
              "      <td>32</td>\n",
              "      <td>1</td>\n",
              "      <td>1</td>\n",
              "      <td>0</td>\n",
              "    </tr>\n",
              "    <tr>\n",
              "      <th>71840</th>\n",
              "      <td>2022118</td>\n",
              "      <td>4</td>\n",
              "      <td>0</td>\n",
              "      <td>0</td>\n",
              "      <td>0</td>\n",
              "      <td>3</td>\n",
              "      <td>2</td>\n",
              "      <td>11</td>\n",
              "      <td>1</td>\n",
              "      <td>1</td>\n",
              "      <td>28</td>\n",
              "      <td>12</td>\n",
              "      <td>11083</td>\n",
              "      <td>5</td>\n",
              "      <td>0</td>\n",
              "      <td>0.00</td>\n",
              "      <td>32</td>\n",
              "      <td>1</td>\n",
              "      <td>1</td>\n",
              "      <td>0</td>\n",
              "    </tr>\n",
              "  </tbody>\n",
              "</table>\n",
              "<p>71841 rows × 20 columns</p>\n",
              "</div>"
            ],
            "text/plain": [
              "          time  outport  inport  ...  pkt_count  pkt_max  target\n",
              "0            7        2       0  ...          7        7       0\n",
              "1           11        2       4  ...          6        7       0\n",
              "2           79        0       2  ...          5        7       0\n",
              "3           80        0       2  ...          4        7       0\n",
              "4           81        0       2  ...          3        7       0\n",
              "...        ...      ...     ...  ...        ...      ...     ...\n",
              "71836  2022096        4       0  ...          1        1       0\n",
              "71837  2022103        4       0  ...          1        1       0\n",
              "71838  2022110        4       0  ...          1        1       0\n",
              "71839  2022117        4       0  ...          1        1       0\n",
              "71840  2022118        4       0  ...          1        1       0\n",
              "\n",
              "[71841 rows x 20 columns]"
            ]
          },
          "metadata": {
            "tags": []
          },
          "execution_count": 8
        }
      ]
    },
    {
      "cell_type": "code",
      "metadata": {
        "id": "PW3tOko8Hg2C",
        "colab_type": "code",
        "colab": {}
      },
      "source": [
        "df = dfg.append(dfm, ignore_index=True,sort=False)"
      ],
      "execution_count": 0,
      "outputs": []
    },
    {
      "cell_type": "code",
      "metadata": {
        "id": "Z-DMh9YdHg2F",
        "colab_type": "code",
        "outputId": "d0f8d196-20d6-4823-dfea-6e671758a8a2",
        "colab": {
          "base_uri": "https://localhost:8080/",
          "height": 395
        }
      },
      "source": [
        "df.isnull().sum()"
      ],
      "execution_count": 0,
      "outputs": [
        {
          "output_type": "execute_result",
          "data": {
            "text/plain": [
              "time              0\n",
              "outport           0\n",
              "inport            0\n",
              "packet_type       0\n",
              "flit_id           0\n",
              "flit_type         0\n",
              "vnet              0\n",
              "vc                0\n",
              "src_ni            0\n",
              "src_router        0\n",
              "dst_ni            0\n",
              "dst_router        0\n",
              "pkt_chuck         0\n",
              "hop_count         0\n",
              "current_hop       0\n",
              "hop_percentage    0\n",
              "waiting_time      0\n",
              "pkt_count         0\n",
              "pkt_max           0\n",
              "target            0\n",
              "dtype: int64"
            ]
          },
          "metadata": {
            "tags": []
          },
          "execution_count": 10
        }
      ]
    },
    {
      "cell_type": "code",
      "metadata": {
        "id": "uehwB56nHg2I",
        "colab_type": "code",
        "colab": {}
      },
      "source": [
        "df = df.sort_values('time')\n",
        "df.to_csv('wat-r1-model.csv',index=False)"
      ],
      "execution_count": 0,
      "outputs": []
    },
    {
      "cell_type": "code",
      "metadata": {
        "id": "E4j7W_IfHg2K",
        "colab_type": "code",
        "outputId": "a7f43a71-5b9a-4c60-c1bb-dc94c1d70ee3",
        "colab": {
          "base_uri": "https://localhost:8080/",
          "height": 439
        }
      },
      "source": [
        "df = pd.read_csv(\"wat-r1-model.csv\")\n",
        "df"
      ],
      "execution_count": 0,
      "outputs": [
        {
          "output_type": "execute_result",
          "data": {
            "text/html": [
              "<div>\n",
              "<style scoped>\n",
              "    .dataframe tbody tr th:only-of-type {\n",
              "        vertical-align: middle;\n",
              "    }\n",
              "\n",
              "    .dataframe tbody tr th {\n",
              "        vertical-align: top;\n",
              "    }\n",
              "\n",
              "    .dataframe thead th {\n",
              "        text-align: right;\n",
              "    }\n",
              "</style>\n",
              "<table border=\"1\" class=\"dataframe\">\n",
              "  <thead>\n",
              "    <tr style=\"text-align: right;\">\n",
              "      <th></th>\n",
              "      <th>time</th>\n",
              "      <th>outport</th>\n",
              "      <th>inport</th>\n",
              "      <th>packet_type</th>\n",
              "      <th>flit_id</th>\n",
              "      <th>flit_type</th>\n",
              "      <th>vnet</th>\n",
              "      <th>vc</th>\n",
              "      <th>src_ni</th>\n",
              "      <th>src_router</th>\n",
              "      <th>dst_ni</th>\n",
              "      <th>dst_router</th>\n",
              "      <th>pkt_chuck</th>\n",
              "      <th>hop_count</th>\n",
              "      <th>current_hop</th>\n",
              "      <th>hop_percentage</th>\n",
              "      <th>waiting_time</th>\n",
              "      <th>pkt_count</th>\n",
              "      <th>pkt_max</th>\n",
              "      <th>target</th>\n",
              "    </tr>\n",
              "  </thead>\n",
              "  <tbody>\n",
              "    <tr>\n",
              "      <th>0</th>\n",
              "      <td>7</td>\n",
              "      <td>2</td>\n",
              "      <td>0</td>\n",
              "      <td>0</td>\n",
              "      <td>0</td>\n",
              "      <td>3</td>\n",
              "      <td>2</td>\n",
              "      <td>8</td>\n",
              "      <td>1</td>\n",
              "      <td>1</td>\n",
              "      <td>23</td>\n",
              "      <td>7</td>\n",
              "      <td>1</td>\n",
              "      <td>3</td>\n",
              "      <td>0</td>\n",
              "      <td>0.000000</td>\n",
              "      <td>4</td>\n",
              "      <td>7</td>\n",
              "      <td>7</td>\n",
              "      <td>0</td>\n",
              "    </tr>\n",
              "    <tr>\n",
              "      <th>1</th>\n",
              "      <td>11</td>\n",
              "      <td>2</td>\n",
              "      <td>4</td>\n",
              "      <td>0</td>\n",
              "      <td>0</td>\n",
              "      <td>3</td>\n",
              "      <td>2</td>\n",
              "      <td>8</td>\n",
              "      <td>0</td>\n",
              "      <td>0</td>\n",
              "      <td>23</td>\n",
              "      <td>7</td>\n",
              "      <td>0</td>\n",
              "      <td>4</td>\n",
              "      <td>1</td>\n",
              "      <td>0.250000</td>\n",
              "      <td>8</td>\n",
              "      <td>6</td>\n",
              "      <td>7</td>\n",
              "      <td>0</td>\n",
              "    </tr>\n",
              "    <tr>\n",
              "      <th>2</th>\n",
              "      <td>11</td>\n",
              "      <td>2</td>\n",
              "      <td>4</td>\n",
              "      <td>0</td>\n",
              "      <td>0</td>\n",
              "      <td>3</td>\n",
              "      <td>2</td>\n",
              "      <td>8</td>\n",
              "      <td>0</td>\n",
              "      <td>0</td>\n",
              "      <td>23</td>\n",
              "      <td>7</td>\n",
              "      <td>0</td>\n",
              "      <td>4</td>\n",
              "      <td>1</td>\n",
              "      <td>0.250000</td>\n",
              "      <td>8</td>\n",
              "      <td>6</td>\n",
              "      <td>6</td>\n",
              "      <td>1</td>\n",
              "    </tr>\n",
              "    <tr>\n",
              "      <th>3</th>\n",
              "      <td>79</td>\n",
              "      <td>0</td>\n",
              "      <td>2</td>\n",
              "      <td>3</td>\n",
              "      <td>0</td>\n",
              "      <td>0</td>\n",
              "      <td>4</td>\n",
              "      <td>16</td>\n",
              "      <td>18</td>\n",
              "      <td>2</td>\n",
              "      <td>1</td>\n",
              "      <td>1</td>\n",
              "      <td>1</td>\n",
              "      <td>1</td>\n",
              "      <td>1</td>\n",
              "      <td>1.000000</td>\n",
              "      <td>9</td>\n",
              "      <td>5</td>\n",
              "      <td>7</td>\n",
              "      <td>0</td>\n",
              "    </tr>\n",
              "    <tr>\n",
              "      <th>4</th>\n",
              "      <td>80</td>\n",
              "      <td>0</td>\n",
              "      <td>2</td>\n",
              "      <td>3</td>\n",
              "      <td>1</td>\n",
              "      <td>1</td>\n",
              "      <td>4</td>\n",
              "      <td>16</td>\n",
              "      <td>18</td>\n",
              "      <td>2</td>\n",
              "      <td>1</td>\n",
              "      <td>1</td>\n",
              "      <td>1</td>\n",
              "      <td>1</td>\n",
              "      <td>1</td>\n",
              "      <td>1.000000</td>\n",
              "      <td>10</td>\n",
              "      <td>4</td>\n",
              "      <td>7</td>\n",
              "      <td>0</td>\n",
              "    </tr>\n",
              "    <tr>\n",
              "      <th>...</th>\n",
              "      <td>...</td>\n",
              "      <td>...</td>\n",
              "      <td>...</td>\n",
              "      <td>...</td>\n",
              "      <td>...</td>\n",
              "      <td>...</td>\n",
              "      <td>...</td>\n",
              "      <td>...</td>\n",
              "      <td>...</td>\n",
              "      <td>...</td>\n",
              "      <td>...</td>\n",
              "      <td>...</td>\n",
              "      <td>...</td>\n",
              "      <td>...</td>\n",
              "      <td>...</td>\n",
              "      <td>...</td>\n",
              "      <td>...</td>\n",
              "      <td>...</td>\n",
              "      <td>...</td>\n",
              "      <td>...</td>\n",
              "    </tr>\n",
              "    <tr>\n",
              "      <th>121937</th>\n",
              "      <td>3251158</td>\n",
              "      <td>2</td>\n",
              "      <td>4</td>\n",
              "      <td>4</td>\n",
              "      <td>1</td>\n",
              "      <td>1</td>\n",
              "      <td>2</td>\n",
              "      <td>8</td>\n",
              "      <td>0</td>\n",
              "      <td>0</td>\n",
              "      <td>22</td>\n",
              "      <td>6</td>\n",
              "      <td>10024</td>\n",
              "      <td>3</td>\n",
              "      <td>1</td>\n",
              "      <td>0.333333</td>\n",
              "      <td>15</td>\n",
              "      <td>5</td>\n",
              "      <td>12</td>\n",
              "      <td>1</td>\n",
              "    </tr>\n",
              "    <tr>\n",
              "      <th>121938</th>\n",
              "      <td>3251165</td>\n",
              "      <td>2</td>\n",
              "      <td>4</td>\n",
              "      <td>4</td>\n",
              "      <td>2</td>\n",
              "      <td>1</td>\n",
              "      <td>2</td>\n",
              "      <td>8</td>\n",
              "      <td>0</td>\n",
              "      <td>0</td>\n",
              "      <td>22</td>\n",
              "      <td>6</td>\n",
              "      <td>10024</td>\n",
              "      <td>3</td>\n",
              "      <td>1</td>\n",
              "      <td>0.333333</td>\n",
              "      <td>22</td>\n",
              "      <td>4</td>\n",
              "      <td>12</td>\n",
              "      <td>1</td>\n",
              "    </tr>\n",
              "    <tr>\n",
              "      <th>121939</th>\n",
              "      <td>3251172</td>\n",
              "      <td>2</td>\n",
              "      <td>4</td>\n",
              "      <td>4</td>\n",
              "      <td>3</td>\n",
              "      <td>1</td>\n",
              "      <td>2</td>\n",
              "      <td>8</td>\n",
              "      <td>0</td>\n",
              "      <td>0</td>\n",
              "      <td>22</td>\n",
              "      <td>6</td>\n",
              "      <td>10024</td>\n",
              "      <td>3</td>\n",
              "      <td>1</td>\n",
              "      <td>0.333333</td>\n",
              "      <td>29</td>\n",
              "      <td>3</td>\n",
              "      <td>12</td>\n",
              "      <td>1</td>\n",
              "    </tr>\n",
              "    <tr>\n",
              "      <th>121940</th>\n",
              "      <td>3251179</td>\n",
              "      <td>2</td>\n",
              "      <td>4</td>\n",
              "      <td>4</td>\n",
              "      <td>4</td>\n",
              "      <td>2</td>\n",
              "      <td>2</td>\n",
              "      <td>8</td>\n",
              "      <td>0</td>\n",
              "      <td>0</td>\n",
              "      <td>22</td>\n",
              "      <td>6</td>\n",
              "      <td>10024</td>\n",
              "      <td>3</td>\n",
              "      <td>1</td>\n",
              "      <td>0.333333</td>\n",
              "      <td>36</td>\n",
              "      <td>2</td>\n",
              "      <td>12</td>\n",
              "      <td>1</td>\n",
              "    </tr>\n",
              "    <tr>\n",
              "      <th>121941</th>\n",
              "      <td>3251180</td>\n",
              "      <td>2</td>\n",
              "      <td>4</td>\n",
              "      <td>0</td>\n",
              "      <td>0</td>\n",
              "      <td>3</td>\n",
              "      <td>2</td>\n",
              "      <td>9</td>\n",
              "      <td>0</td>\n",
              "      <td>0</td>\n",
              "      <td>22</td>\n",
              "      <td>6</td>\n",
              "      <td>10025</td>\n",
              "      <td>3</td>\n",
              "      <td>1</td>\n",
              "      <td>0.333333</td>\n",
              "      <td>36</td>\n",
              "      <td>1</td>\n",
              "      <td>12</td>\n",
              "      <td>1</td>\n",
              "    </tr>\n",
              "  </tbody>\n",
              "</table>\n",
              "<p>121942 rows × 20 columns</p>\n",
              "</div>"
            ],
            "text/plain": [
              "           time  outport  inport  ...  pkt_count  pkt_max  target\n",
              "0             7        2       0  ...          7        7       0\n",
              "1            11        2       4  ...          6        7       0\n",
              "2            11        2       4  ...          6        6       1\n",
              "3            79        0       2  ...          5        7       0\n",
              "4            80        0       2  ...          4        7       0\n",
              "...         ...      ...     ...  ...        ...      ...     ...\n",
              "121937  3251158        2       4  ...          5       12       1\n",
              "121938  3251165        2       4  ...          4       12       1\n",
              "121939  3251172        2       4  ...          3       12       1\n",
              "121940  3251179        2       4  ...          2       12       1\n",
              "121941  3251180        2       4  ...          1       12       1\n",
              "\n",
              "[121942 rows x 20 columns]"
            ]
          },
          "metadata": {
            "tags": []
          },
          "execution_count": 12
        }
      ]
    },
    {
      "cell_type": "code",
      "metadata": {
        "id": "Y9vcn7NCHg2M",
        "colab_type": "code",
        "outputId": "fbbe55ce-579f-4de2-ba63-377766c96531",
        "colab": {
          "base_uri": "https://localhost:8080/",
          "height": 689
        }
      },
      "source": [
        "df.corr()"
      ],
      "execution_count": 0,
      "outputs": [
        {
          "output_type": "execute_result",
          "data": {
            "text/html": [
              "<div>\n",
              "<style scoped>\n",
              "    .dataframe tbody tr th:only-of-type {\n",
              "        vertical-align: middle;\n",
              "    }\n",
              "\n",
              "    .dataframe tbody tr th {\n",
              "        vertical-align: top;\n",
              "    }\n",
              "\n",
              "    .dataframe thead th {\n",
              "        text-align: right;\n",
              "    }\n",
              "</style>\n",
              "<table border=\"1\" class=\"dataframe\">\n",
              "  <thead>\n",
              "    <tr style=\"text-align: right;\">\n",
              "      <th></th>\n",
              "      <th>time</th>\n",
              "      <th>outport</th>\n",
              "      <th>inport</th>\n",
              "      <th>packet_type</th>\n",
              "      <th>flit_id</th>\n",
              "      <th>flit_type</th>\n",
              "      <th>vnet</th>\n",
              "      <th>vc</th>\n",
              "      <th>src_ni</th>\n",
              "      <th>src_router</th>\n",
              "      <th>dst_ni</th>\n",
              "      <th>dst_router</th>\n",
              "      <th>pkt_chuck</th>\n",
              "      <th>hop_count</th>\n",
              "      <th>current_hop</th>\n",
              "      <th>hop_percentage</th>\n",
              "      <th>waiting_time</th>\n",
              "      <th>pkt_count</th>\n",
              "      <th>pkt_max</th>\n",
              "      <th>target</th>\n",
              "    </tr>\n",
              "  </thead>\n",
              "  <tbody>\n",
              "    <tr>\n",
              "      <th>time</th>\n",
              "      <td>1.000000</td>\n",
              "      <td>0.073879</td>\n",
              "      <td>0.159607</td>\n",
              "      <td>0.020055</td>\n",
              "      <td>0.011723</td>\n",
              "      <td>-0.018399</td>\n",
              "      <td>-0.051942</td>\n",
              "      <td>-0.066694</td>\n",
              "      <td>-0.087413</td>\n",
              "      <td>-0.114742</td>\n",
              "      <td>0.074031</td>\n",
              "      <td>0.073211</td>\n",
              "      <td>0.824835</td>\n",
              "      <td>0.070043</td>\n",
              "      <td>-0.014883</td>\n",
              "      <td>-0.016006</td>\n",
              "      <td>0.043093</td>\n",
              "      <td>-0.150317</td>\n",
              "      <td>-0.200676</td>\n",
              "      <td>0.389502</td>\n",
              "    </tr>\n",
              "    <tr>\n",
              "      <th>outport</th>\n",
              "      <td>0.073879</td>\n",
              "      <td>1.000000</td>\n",
              "      <td>-0.171157</td>\n",
              "      <td>-0.202169</td>\n",
              "      <td>-0.000862</td>\n",
              "      <td>0.001354</td>\n",
              "      <td>0.322011</td>\n",
              "      <td>0.353165</td>\n",
              "      <td>-0.108261</td>\n",
              "      <td>-0.262553</td>\n",
              "      <td>-0.220914</td>\n",
              "      <td>0.019252</td>\n",
              "      <td>-0.034422</td>\n",
              "      <td>0.145628</td>\n",
              "      <td>-0.378038</td>\n",
              "      <td>-0.517605</td>\n",
              "      <td>-0.321455</td>\n",
              "      <td>-0.122135</td>\n",
              "      <td>-0.100055</td>\n",
              "      <td>0.217451</td>\n",
              "    </tr>\n",
              "    <tr>\n",
              "      <th>inport</th>\n",
              "      <td>0.159607</td>\n",
              "      <td>-0.171157</td>\n",
              "      <td>1.000000</td>\n",
              "      <td>0.008037</td>\n",
              "      <td>-0.015220</td>\n",
              "      <td>0.023905</td>\n",
              "      <td>-0.413283</td>\n",
              "      <td>-0.519151</td>\n",
              "      <td>-0.467346</td>\n",
              "      <td>-0.252382</td>\n",
              "      <td>0.464413</td>\n",
              "      <td>0.368488</td>\n",
              "      <td>-0.004725</td>\n",
              "      <td>0.483866</td>\n",
              "      <td>0.368555</td>\n",
              "      <td>0.435760</td>\n",
              "      <td>0.410964</td>\n",
              "      <td>-0.102964</td>\n",
              "      <td>-0.205400</td>\n",
              "      <td>0.327401</td>\n",
              "    </tr>\n",
              "    <tr>\n",
              "      <th>packet_type</th>\n",
              "      <td>0.020055</td>\n",
              "      <td>-0.202169</td>\n",
              "      <td>0.008037</td>\n",
              "      <td>1.000000</td>\n",
              "      <td>0.260563</td>\n",
              "      <td>-0.409233</td>\n",
              "      <td>-0.233214</td>\n",
              "      <td>-0.266011</td>\n",
              "      <td>0.109969</td>\n",
              "      <td>0.032884</td>\n",
              "      <td>0.013854</td>\n",
              "      <td>-0.087901</td>\n",
              "      <td>0.035356</td>\n",
              "      <td>-0.088940</td>\n",
              "      <td>0.097141</td>\n",
              "      <td>0.158695</td>\n",
              "      <td>-0.166409</td>\n",
              "      <td>0.075646</td>\n",
              "      <td>0.019879</td>\n",
              "      <td>-0.010188</td>\n",
              "    </tr>\n",
              "    <tr>\n",
              "      <th>flit_id</th>\n",
              "      <td>0.011723</td>\n",
              "      <td>-0.000862</td>\n",
              "      <td>-0.015220</td>\n",
              "      <td>0.260563</td>\n",
              "      <td>1.000000</td>\n",
              "      <td>0.063686</td>\n",
              "      <td>0.155673</td>\n",
              "      <td>0.117454</td>\n",
              "      <td>0.004319</td>\n",
              "      <td>0.001608</td>\n",
              "      <td>-0.049700</td>\n",
              "      <td>-0.022617</td>\n",
              "      <td>0.009426</td>\n",
              "      <td>-0.039891</td>\n",
              "      <td>-0.027415</td>\n",
              "      <td>-0.020030</td>\n",
              "      <td>0.389739</td>\n",
              "      <td>-0.063662</td>\n",
              "      <td>0.012552</td>\n",
              "      <td>0.006536</td>\n",
              "    </tr>\n",
              "    <tr>\n",
              "      <th>flit_type</th>\n",
              "      <td>-0.018399</td>\n",
              "      <td>0.001354</td>\n",
              "      <td>0.023905</td>\n",
              "      <td>-0.409233</td>\n",
              "      <td>0.063686</td>\n",
              "      <td>1.000000</td>\n",
              "      <td>-0.244496</td>\n",
              "      <td>-0.184471</td>\n",
              "      <td>-0.006784</td>\n",
              "      <td>-0.002525</td>\n",
              "      <td>0.078058</td>\n",
              "      <td>0.035521</td>\n",
              "      <td>-0.014804</td>\n",
              "      <td>0.062651</td>\n",
              "      <td>0.043057</td>\n",
              "      <td>0.031459</td>\n",
              "      <td>0.489382</td>\n",
              "      <td>-0.064057</td>\n",
              "      <td>0.036032</td>\n",
              "      <td>-0.010265</td>\n",
              "    </tr>\n",
              "    <tr>\n",
              "      <th>vnet</th>\n",
              "      <td>-0.051942</td>\n",
              "      <td>0.322011</td>\n",
              "      <td>-0.413283</td>\n",
              "      <td>-0.233214</td>\n",
              "      <td>0.155673</td>\n",
              "      <td>-0.244496</td>\n",
              "      <td>1.000000</td>\n",
              "      <td>0.968480</td>\n",
              "      <td>0.610828</td>\n",
              "      <td>0.366666</td>\n",
              "      <td>-0.850445</td>\n",
              "      <td>-0.463884</td>\n",
              "      <td>-0.037612</td>\n",
              "      <td>-0.277171</td>\n",
              "      <td>0.039630</td>\n",
              "      <td>-0.041159</td>\n",
              "      <td>-0.460507</td>\n",
              "      <td>-0.010017</td>\n",
              "      <td>0.060437</td>\n",
              "      <td>-0.051954</td>\n",
              "    </tr>\n",
              "    <tr>\n",
              "      <th>vc</th>\n",
              "      <td>-0.066694</td>\n",
              "      <td>0.353165</td>\n",
              "      <td>-0.519151</td>\n",
              "      <td>-0.266011</td>\n",
              "      <td>0.117454</td>\n",
              "      <td>-0.184471</td>\n",
              "      <td>0.968480</td>\n",
              "      <td>1.000000</td>\n",
              "      <td>0.589522</td>\n",
              "      <td>0.309887</td>\n",
              "      <td>-0.840416</td>\n",
              "      <td>-0.466031</td>\n",
              "      <td>-0.038919</td>\n",
              "      <td>-0.337367</td>\n",
              "      <td>-0.076519</td>\n",
              "      <td>-0.155651</td>\n",
              "      <td>-0.477648</td>\n",
              "      <td>-0.006209</td>\n",
              "      <td>0.084992</td>\n",
              "      <td>-0.078370</td>\n",
              "    </tr>\n",
              "    <tr>\n",
              "      <th>src_ni</th>\n",
              "      <td>-0.087413</td>\n",
              "      <td>-0.108261</td>\n",
              "      <td>-0.467346</td>\n",
              "      <td>0.109969</td>\n",
              "      <td>0.004319</td>\n",
              "      <td>-0.006784</td>\n",
              "      <td>0.610828</td>\n",
              "      <td>0.589522</td>\n",
              "      <td>1.000000</td>\n",
              "      <td>0.655230</td>\n",
              "      <td>-0.766468</td>\n",
              "      <td>-0.659911</td>\n",
              "      <td>-0.034296</td>\n",
              "      <td>-0.386319</td>\n",
              "      <td>0.375855</td>\n",
              "      <td>0.365910</td>\n",
              "      <td>-0.298918</td>\n",
              "      <td>0.096626</td>\n",
              "      <td>0.151147</td>\n",
              "      <td>-0.119746</td>\n",
              "    </tr>\n",
              "    <tr>\n",
              "      <th>src_router</th>\n",
              "      <td>-0.114742</td>\n",
              "      <td>-0.262553</td>\n",
              "      <td>-0.252382</td>\n",
              "      <td>0.032884</td>\n",
              "      <td>0.001608</td>\n",
              "      <td>-0.002525</td>\n",
              "      <td>0.366666</td>\n",
              "      <td>0.309887</td>\n",
              "      <td>0.655230</td>\n",
              "      <td>1.000000</td>\n",
              "      <td>-0.424242</td>\n",
              "      <td>-0.269277</td>\n",
              "      <td>0.007626</td>\n",
              "      <td>0.139759</td>\n",
              "      <td>0.768263</td>\n",
              "      <td>0.458637</td>\n",
              "      <td>0.014133</td>\n",
              "      <td>0.080274</td>\n",
              "      <td>0.077048</td>\n",
              "      <td>-0.246502</td>\n",
              "    </tr>\n",
              "    <tr>\n",
              "      <th>dst_ni</th>\n",
              "      <td>0.074031</td>\n",
              "      <td>-0.220914</td>\n",
              "      <td>0.464413</td>\n",
              "      <td>0.013854</td>\n",
              "      <td>-0.049700</td>\n",
              "      <td>0.078058</td>\n",
              "      <td>-0.850445</td>\n",
              "      <td>-0.840416</td>\n",
              "      <td>-0.766468</td>\n",
              "      <td>-0.424242</td>\n",
              "      <td>1.000000</td>\n",
              "      <td>0.784970</td>\n",
              "      <td>0.046047</td>\n",
              "      <td>0.524920</td>\n",
              "      <td>-0.115873</td>\n",
              "      <td>-0.136507</td>\n",
              "      <td>0.471400</td>\n",
              "      <td>-0.055337</td>\n",
              "      <td>-0.119227</td>\n",
              "      <td>0.075179</td>\n",
              "    </tr>\n",
              "    <tr>\n",
              "      <th>dst_router</th>\n",
              "      <td>0.073211</td>\n",
              "      <td>0.019252</td>\n",
              "      <td>0.368488</td>\n",
              "      <td>-0.087901</td>\n",
              "      <td>-0.022617</td>\n",
              "      <td>0.035521</td>\n",
              "      <td>-0.463884</td>\n",
              "      <td>-0.466031</td>\n",
              "      <td>-0.659911</td>\n",
              "      <td>-0.269277</td>\n",
              "      <td>0.784970</td>\n",
              "      <td>1.000000</td>\n",
              "      <td>0.055350</td>\n",
              "      <td>0.790998</td>\n",
              "      <td>-0.070264</td>\n",
              "      <td>-0.297458</td>\n",
              "      <td>0.276265</td>\n",
              "      <td>-0.138375</td>\n",
              "      <td>-0.153270</td>\n",
              "      <td>0.049669</td>\n",
              "    </tr>\n",
              "    <tr>\n",
              "      <th>pkt_chuck</th>\n",
              "      <td>0.824835</td>\n",
              "      <td>-0.034422</td>\n",
              "      <td>-0.004725</td>\n",
              "      <td>0.035356</td>\n",
              "      <td>0.009426</td>\n",
              "      <td>-0.014804</td>\n",
              "      <td>-0.037612</td>\n",
              "      <td>-0.038919</td>\n",
              "      <td>-0.034296</td>\n",
              "      <td>0.007626</td>\n",
              "      <td>0.046047</td>\n",
              "      <td>0.055350</td>\n",
              "      <td>1.000000</td>\n",
              "      <td>0.026296</td>\n",
              "      <td>-0.002747</td>\n",
              "      <td>-0.018314</td>\n",
              "      <td>0.035410</td>\n",
              "      <td>0.018578</td>\n",
              "      <td>0.024890</td>\n",
              "      <td>-0.120478</td>\n",
              "    </tr>\n",
              "    <tr>\n",
              "      <th>hop_count</th>\n",
              "      <td>0.070043</td>\n",
              "      <td>0.145628</td>\n",
              "      <td>0.483866</td>\n",
              "      <td>-0.088940</td>\n",
              "      <td>-0.039891</td>\n",
              "      <td>0.062651</td>\n",
              "      <td>-0.277171</td>\n",
              "      <td>-0.337367</td>\n",
              "      <td>-0.386319</td>\n",
              "      <td>0.139759</td>\n",
              "      <td>0.524920</td>\n",
              "      <td>0.790998</td>\n",
              "      <td>0.026296</td>\n",
              "      <td>1.000000</td>\n",
              "      <td>0.412556</td>\n",
              "      <td>0.022729</td>\n",
              "      <td>0.308938</td>\n",
              "      <td>-0.135688</td>\n",
              "      <td>-0.184023</td>\n",
              "      <td>0.100419</td>\n",
              "    </tr>\n",
              "    <tr>\n",
              "      <th>current_hop</th>\n",
              "      <td>-0.014883</td>\n",
              "      <td>-0.378038</td>\n",
              "      <td>0.368555</td>\n",
              "      <td>0.097141</td>\n",
              "      <td>-0.027415</td>\n",
              "      <td>0.043057</td>\n",
              "      <td>0.039630</td>\n",
              "      <td>-0.076519</td>\n",
              "      <td>0.375855</td>\n",
              "      <td>0.768263</td>\n",
              "      <td>-0.115873</td>\n",
              "      <td>-0.070264</td>\n",
              "      <td>-0.002747</td>\n",
              "      <td>0.412556</td>\n",
              "      <td>1.000000</td>\n",
              "      <td>0.766450</td>\n",
              "      <td>0.294109</td>\n",
              "      <td>0.025166</td>\n",
              "      <td>-0.038204</td>\n",
              "      <td>-0.023714</td>\n",
              "    </tr>\n",
              "    <tr>\n",
              "      <th>hop_percentage</th>\n",
              "      <td>-0.016006</td>\n",
              "      <td>-0.517605</td>\n",
              "      <td>0.435760</td>\n",
              "      <td>0.158695</td>\n",
              "      <td>-0.020030</td>\n",
              "      <td>0.031459</td>\n",
              "      <td>-0.041159</td>\n",
              "      <td>-0.155651</td>\n",
              "      <td>0.365910</td>\n",
              "      <td>0.458637</td>\n",
              "      <td>-0.136507</td>\n",
              "      <td>-0.297458</td>\n",
              "      <td>-0.018314</td>\n",
              "      <td>0.022729</td>\n",
              "      <td>0.766450</td>\n",
              "      <td>1.000000</td>\n",
              "      <td>0.283390</td>\n",
              "      <td>0.082295</td>\n",
              "      <td>0.013486</td>\n",
              "      <td>0.000047</td>\n",
              "    </tr>\n",
              "    <tr>\n",
              "      <th>waiting_time</th>\n",
              "      <td>0.043093</td>\n",
              "      <td>-0.321455</td>\n",
              "      <td>0.410964</td>\n",
              "      <td>-0.166409</td>\n",
              "      <td>0.389739</td>\n",
              "      <td>0.489382</td>\n",
              "      <td>-0.460507</td>\n",
              "      <td>-0.477648</td>\n",
              "      <td>-0.298918</td>\n",
              "      <td>0.014133</td>\n",
              "      <td>0.471400</td>\n",
              "      <td>0.276265</td>\n",
              "      <td>0.035410</td>\n",
              "      <td>0.308938</td>\n",
              "      <td>0.294109</td>\n",
              "      <td>0.283390</td>\n",
              "      <td>1.000000</td>\n",
              "      <td>-0.042239</td>\n",
              "      <td>-0.031662</td>\n",
              "      <td>0.034534</td>\n",
              "    </tr>\n",
              "    <tr>\n",
              "      <th>pkt_count</th>\n",
              "      <td>-0.150317</td>\n",
              "      <td>-0.122135</td>\n",
              "      <td>-0.102964</td>\n",
              "      <td>0.075646</td>\n",
              "      <td>-0.063662</td>\n",
              "      <td>-0.064057</td>\n",
              "      <td>-0.010017</td>\n",
              "      <td>-0.006209</td>\n",
              "      <td>0.096626</td>\n",
              "      <td>0.080274</td>\n",
              "      <td>-0.055337</td>\n",
              "      <td>-0.138375</td>\n",
              "      <td>0.018578</td>\n",
              "      <td>-0.135688</td>\n",
              "      <td>0.025166</td>\n",
              "      <td>0.082295</td>\n",
              "      <td>-0.042239</td>\n",
              "      <td>1.000000</td>\n",
              "      <td>0.748993</td>\n",
              "      <td>-0.344753</td>\n",
              "    </tr>\n",
              "    <tr>\n",
              "      <th>pkt_max</th>\n",
              "      <td>-0.200676</td>\n",
              "      <td>-0.100055</td>\n",
              "      <td>-0.205400</td>\n",
              "      <td>0.019879</td>\n",
              "      <td>0.012552</td>\n",
              "      <td>0.036032</td>\n",
              "      <td>0.060437</td>\n",
              "      <td>0.084992</td>\n",
              "      <td>0.151147</td>\n",
              "      <td>0.077048</td>\n",
              "      <td>-0.119227</td>\n",
              "      <td>-0.153270</td>\n",
              "      <td>0.024890</td>\n",
              "      <td>-0.184023</td>\n",
              "      <td>-0.038204</td>\n",
              "      <td>0.013486</td>\n",
              "      <td>-0.031662</td>\n",
              "      <td>0.748993</td>\n",
              "      <td>1.000000</td>\n",
              "      <td>-0.460289</td>\n",
              "    </tr>\n",
              "    <tr>\n",
              "      <th>target</th>\n",
              "      <td>0.389502</td>\n",
              "      <td>0.217451</td>\n",
              "      <td>0.327401</td>\n",
              "      <td>-0.010188</td>\n",
              "      <td>0.006536</td>\n",
              "      <td>-0.010265</td>\n",
              "      <td>-0.051954</td>\n",
              "      <td>-0.078370</td>\n",
              "      <td>-0.119746</td>\n",
              "      <td>-0.246502</td>\n",
              "      <td>0.075179</td>\n",
              "      <td>0.049669</td>\n",
              "      <td>-0.120478</td>\n",
              "      <td>0.100419</td>\n",
              "      <td>-0.023714</td>\n",
              "      <td>0.000047</td>\n",
              "      <td>0.034534</td>\n",
              "      <td>-0.344753</td>\n",
              "      <td>-0.460289</td>\n",
              "      <td>1.000000</td>\n",
              "    </tr>\n",
              "  </tbody>\n",
              "</table>\n",
              "</div>"
            ],
            "text/plain": [
              "                    time   outport    inport  ...  pkt_count   pkt_max    target\n",
              "time            1.000000  0.073879  0.159607  ...  -0.150317 -0.200676  0.389502\n",
              "outport         0.073879  1.000000 -0.171157  ...  -0.122135 -0.100055  0.217451\n",
              "inport          0.159607 -0.171157  1.000000  ...  -0.102964 -0.205400  0.327401\n",
              "packet_type     0.020055 -0.202169  0.008037  ...   0.075646  0.019879 -0.010188\n",
              "flit_id         0.011723 -0.000862 -0.015220  ...  -0.063662  0.012552  0.006536\n",
              "flit_type      -0.018399  0.001354  0.023905  ...  -0.064057  0.036032 -0.010265\n",
              "vnet           -0.051942  0.322011 -0.413283  ...  -0.010017  0.060437 -0.051954\n",
              "vc             -0.066694  0.353165 -0.519151  ...  -0.006209  0.084992 -0.078370\n",
              "src_ni         -0.087413 -0.108261 -0.467346  ...   0.096626  0.151147 -0.119746\n",
              "src_router     -0.114742 -0.262553 -0.252382  ...   0.080274  0.077048 -0.246502\n",
              "dst_ni          0.074031 -0.220914  0.464413  ...  -0.055337 -0.119227  0.075179\n",
              "dst_router      0.073211  0.019252  0.368488  ...  -0.138375 -0.153270  0.049669\n",
              "pkt_chuck       0.824835 -0.034422 -0.004725  ...   0.018578  0.024890 -0.120478\n",
              "hop_count       0.070043  0.145628  0.483866  ...  -0.135688 -0.184023  0.100419\n",
              "current_hop    -0.014883 -0.378038  0.368555  ...   0.025166 -0.038204 -0.023714\n",
              "hop_percentage -0.016006 -0.517605  0.435760  ...   0.082295  0.013486  0.000047\n",
              "waiting_time    0.043093 -0.321455  0.410964  ...  -0.042239 -0.031662  0.034534\n",
              "pkt_count      -0.150317 -0.122135 -0.102964  ...   1.000000  0.748993 -0.344753\n",
              "pkt_max        -0.200676 -0.100055 -0.205400  ...   0.748993  1.000000 -0.460289\n",
              "target          0.389502  0.217451  0.327401  ...  -0.344753 -0.460289  1.000000\n",
              "\n",
              "[20 rows x 20 columns]"
            ]
          },
          "metadata": {
            "tags": []
          },
          "execution_count": 13
        }
      ]
    },
    {
      "cell_type": "code",
      "metadata": {
        "id": "KO-4OTqWHg2O",
        "colab_type": "code",
        "outputId": "0c35b3d8-da28-46ca-a23f-60024f3deabe",
        "colab": {
          "base_uri": "https://localhost:8080/",
          "height": 1000
        }
      },
      "source": [
        "plt.figure(figsize=(32,32))\n",
        "sns.heatmap(df.corr(), annot = True)\n",
        "plt.show()"
      ],
      "execution_count": 0,
      "outputs": [
        {
          "output_type": "display_data",
          "data": {
            "image/png": "[encoded data removed]",
            "text/plain": [
              "<Figure size 2304x2304 with 2 Axes>"
            ]
          },
          "metadata": {
            "tags": [],
            "needs_background": "light"
          }
        }
      ]
    },
    {
      "cell_type": "code",
      "metadata": {
        "id": "aagDGG0JHg2P",
        "colab_type": "code",
        "outputId": "1bd6ed15-3dff-40ae-ef6e-46df6b1bcdc9",
        "colab": {
          "base_uri": "https://localhost:8080/",
          "height": 439
        }
      },
      "source": [
        "train_X = df.drop(columns=['target','time'])\n",
        "train_X"
      ],
      "execution_count": 0,
      "outputs": [
        {
          "output_type": "execute_result",
          "data": {
            "text/html": [
              "<div>\n",
              "<style scoped>\n",
              "    .dataframe tbody tr th:only-of-type {\n",
              "        vertical-align: middle;\n",
              "    }\n",
              "\n",
              "    .dataframe tbody tr th {\n",
              "        vertical-align: top;\n",
              "    }\n",
              "\n",
              "    .dataframe thead th {\n",
              "        text-align: right;\n",
              "    }\n",
              "</style>\n",
              "<table border=\"1\" class=\"dataframe\">\n",
              "  <thead>\n",
              "    <tr style=\"text-align: right;\">\n",
              "      <th></th>\n",
              "      <th>outport</th>\n",
              "      <th>inport</th>\n",
              "      <th>packet_type</th>\n",
              "      <th>flit_id</th>\n",
              "      <th>flit_type</th>\n",
              "      <th>vnet</th>\n",
              "      <th>vc</th>\n",
              "      <th>src_ni</th>\n",
              "      <th>src_router</th>\n",
              "      <th>dst_ni</th>\n",
              "      <th>dst_router</th>\n",
              "      <th>pkt_chuck</th>\n",
              "      <th>hop_count</th>\n",
              "      <th>current_hop</th>\n",
              "      <th>hop_percentage</th>\n",
              "      <th>waiting_time</th>\n",
              "      <th>pkt_count</th>\n",
              "      <th>pkt_max</th>\n",
              "    </tr>\n",
              "  </thead>\n",
              "  <tbody>\n",
              "    <tr>\n",
              "      <th>0</th>\n",
              "      <td>2</td>\n",
              "      <td>0</td>\n",
              "      <td>0</td>\n",
              "      <td>0</td>\n",
              "      <td>3</td>\n",
              "      <td>2</td>\n",
              "      <td>8</td>\n",
              "      <td>1</td>\n",
              "      <td>1</td>\n",
              "      <td>23</td>\n",
              "      <td>7</td>\n",
              "      <td>1</td>\n",
              "      <td>3</td>\n",
              "      <td>0</td>\n",
              "      <td>0.000000</td>\n",
              "      <td>4</td>\n",
              "      <td>7</td>\n",
              "      <td>7</td>\n",
              "    </tr>\n",
              "    <tr>\n",
              "      <th>1</th>\n",
              "      <td>2</td>\n",
              "      <td>4</td>\n",
              "      <td>0</td>\n",
              "      <td>0</td>\n",
              "      <td>3</td>\n",
              "      <td>2</td>\n",
              "      <td>8</td>\n",
              "      <td>0</td>\n",
              "      <td>0</td>\n",
              "      <td>23</td>\n",
              "      <td>7</td>\n",
              "      <td>0</td>\n",
              "      <td>4</td>\n",
              "      <td>1</td>\n",
              "      <td>0.250000</td>\n",
              "      <td>8</td>\n",
              "      <td>6</td>\n",
              "      <td>7</td>\n",
              "    </tr>\n",
              "    <tr>\n",
              "      <th>2</th>\n",
              "      <td>2</td>\n",
              "      <td>4</td>\n",
              "      <td>0</td>\n",
              "      <td>0</td>\n",
              "      <td>3</td>\n",
              "      <td>2</td>\n",
              "      <td>8</td>\n",
              "      <td>0</td>\n",
              "      <td>0</td>\n",
              "      <td>23</td>\n",
              "      <td>7</td>\n",
              "      <td>0</td>\n",
              "      <td>4</td>\n",
              "      <td>1</td>\n",
              "      <td>0.250000</td>\n",
              "      <td>8</td>\n",
              "      <td>6</td>\n",
              "      <td>6</td>\n",
              "    </tr>\n",
              "    <tr>\n",
              "      <th>3</th>\n",
              "      <td>0</td>\n",
              "      <td>2</td>\n",
              "      <td>3</td>\n",
              "      <td>0</td>\n",
              "      <td>0</td>\n",
              "      <td>4</td>\n",
              "      <td>16</td>\n",
              "      <td>18</td>\n",
              "      <td>2</td>\n",
              "      <td>1</td>\n",
              "      <td>1</td>\n",
              "      <td>1</td>\n",
              "      <td>1</td>\n",
              "      <td>1</td>\n",
              "      <td>1.000000</td>\n",
              "      <td>9</td>\n",
              "      <td>5</td>\n",
              "      <td>7</td>\n",
              "    </tr>\n",
              "    <tr>\n",
              "      <th>4</th>\n",
              "      <td>0</td>\n",
              "      <td>2</td>\n",
              "      <td>3</td>\n",
              "      <td>1</td>\n",
              "      <td>1</td>\n",
              "      <td>4</td>\n",
              "      <td>16</td>\n",
              "      <td>18</td>\n",
              "      <td>2</td>\n",
              "      <td>1</td>\n",
              "      <td>1</td>\n",
              "      <td>1</td>\n",
              "      <td>1</td>\n",
              "      <td>1</td>\n",
              "      <td>1.000000</td>\n",
              "      <td>10</td>\n",
              "      <td>4</td>\n",
              "      <td>7</td>\n",
              "    </tr>\n",
              "    <tr>\n",
              "      <th>...</th>\n",
              "      <td>...</td>\n",
              "      <td>...</td>\n",
              "      <td>...</td>\n",
              "      <td>...</td>\n",
              "      <td>...</td>\n",
              "      <td>...</td>\n",
              "      <td>...</td>\n",
              "      <td>...</td>\n",
              "      <td>...</td>\n",
              "      <td>...</td>\n",
              "      <td>...</td>\n",
              "      <td>...</td>\n",
              "      <td>...</td>\n",
              "      <td>...</td>\n",
              "      <td>...</td>\n",
              "      <td>...</td>\n",
              "      <td>...</td>\n",
              "      <td>...</td>\n",
              "    </tr>\n",
              "    <tr>\n",
              "      <th>121937</th>\n",
              "      <td>2</td>\n",
              "      <td>4</td>\n",
              "      <td>4</td>\n",
              "      <td>1</td>\n",
              "      <td>1</td>\n",
              "      <td>2</td>\n",
              "      <td>8</td>\n",
              "      <td>0</td>\n",
              "      <td>0</td>\n",
              "      <td>22</td>\n",
              "      <td>6</td>\n",
              "      <td>10024</td>\n",
              "      <td>3</td>\n",
              "      <td>1</td>\n",
              "      <td>0.333333</td>\n",
              "      <td>15</td>\n",
              "      <td>5</td>\n",
              "      <td>12</td>\n",
              "    </tr>\n",
              "    <tr>\n",
              "      <th>121938</th>\n",
              "      <td>2</td>\n",
              "      <td>4</td>\n",
              "      <td>4</td>\n",
              "      <td>2</td>\n",
              "      <td>1</td>\n",
              "      <td>2</td>\n",
              "      <td>8</td>\n",
              "      <td>0</td>\n",
              "      <td>0</td>\n",
              "      <td>22</td>\n",
              "      <td>6</td>\n",
              "      <td>10024</td>\n",
              "      <td>3</td>\n",
              "      <td>1</td>\n",
              "      <td>0.333333</td>\n",
              "      <td>22</td>\n",
              "      <td>4</td>\n",
              "      <td>12</td>\n",
              "    </tr>\n",
              "    <tr>\n",
              "      <th>121939</th>\n",
              "      <td>2</td>\n",
              "      <td>4</td>\n",
              "      <td>4</td>\n",
              "      <td>3</td>\n",
              "      <td>1</td>\n",
              "      <td>2</td>\n",
              "      <td>8</td>\n",
              "      <td>0</td>\n",
              "      <td>0</td>\n",
              "      <td>22</td>\n",
              "      <td>6</td>\n",
              "      <td>10024</td>\n",
              "      <td>3</td>\n",
              "      <td>1</td>\n",
              "      <td>0.333333</td>\n",
              "      <td>29</td>\n",
              "      <td>3</td>\n",
              "      <td>12</td>\n",
              "    </tr>\n",
              "    <tr>\n",
              "      <th>121940</th>\n",
              "      <td>2</td>\n",
              "      <td>4</td>\n",
              "      <td>4</td>\n",
              "      <td>4</td>\n",
              "      <td>2</td>\n",
              "      <td>2</td>\n",
              "      <td>8</td>\n",
              "      <td>0</td>\n",
              "      <td>0</td>\n",
              "      <td>22</td>\n",
              "      <td>6</td>\n",
              "      <td>10024</td>\n",
              "      <td>3</td>\n",
              "      <td>1</td>\n",
              "      <td>0.333333</td>\n",
              "      <td>36</td>\n",
              "      <td>2</td>\n",
              "      <td>12</td>\n",
              "    </tr>\n",
              "    <tr>\n",
              "      <th>121941</th>\n",
              "      <td>2</td>\n",
              "      <td>4</td>\n",
              "      <td>0</td>\n",
              "      <td>0</td>\n",
              "      <td>3</td>\n",
              "      <td>2</td>\n",
              "      <td>9</td>\n",
              "      <td>0</td>\n",
              "      <td>0</td>\n",
              "      <td>22</td>\n",
              "      <td>6</td>\n",
              "      <td>10025</td>\n",
              "      <td>3</td>\n",
              "      <td>1</td>\n",
              "      <td>0.333333</td>\n",
              "      <td>36</td>\n",
              "      <td>1</td>\n",
              "      <td>12</td>\n",
              "    </tr>\n",
              "  </tbody>\n",
              "</table>\n",
              "<p>121942 rows × 18 columns</p>\n",
              "</div>"
            ],
            "text/plain": [
              "        outport  inport  packet_type  ...  waiting_time  pkt_count  pkt_max\n",
              "0             2       0            0  ...             4          7        7\n",
              "1             2       4            0  ...             8          6        7\n",
              "2             2       4            0  ...             8          6        6\n",
              "3             0       2            3  ...             9          5        7\n",
              "4             0       2            3  ...            10          4        7\n",
              "...         ...     ...          ...  ...           ...        ...      ...\n",
              "121937        2       4            4  ...            15          5       12\n",
              "121938        2       4            4  ...            22          4       12\n",
              "121939        2       4            4  ...            29          3       12\n",
              "121940        2       4            4  ...            36          2       12\n",
              "121941        2       4            0  ...            36          1       12\n",
              "\n",
              "[121942 rows x 18 columns]"
            ]
          },
          "metadata": {
            "tags": []
          },
          "execution_count": 16
        }
      ]
    },
    {
      "cell_type": "code",
      "metadata": {
        "id": "ebvK4Qc8Hg2S",
        "colab_type": "code",
        "outputId": "5e0acbc2-1c0c-485e-9a8b-a05b2567208c",
        "colab": {
          "base_uri": "https://localhost:8080/",
          "height": 419
        }
      },
      "source": [
        "#standardization\n",
        "x = train_X.values\n",
        "min_max_scaler = preprocessing.MinMaxScaler()\n",
        "x_scaled = min_max_scaler.fit_transform(x)\n",
        "train_X = pd.DataFrame(x_scaled)\n",
        "train_X"
      ],
      "execution_count": 0,
      "outputs": [
        {
          "output_type": "execute_result",
          "data": {
            "text/html": [
              "<div>\n",
              "<style scoped>\n",
              "    .dataframe tbody tr th:only-of-type {\n",
              "        vertical-align: middle;\n",
              "    }\n",
              "\n",
              "    .dataframe tbody tr th {\n",
              "        vertical-align: top;\n",
              "    }\n",
              "\n",
              "    .dataframe thead th {\n",
              "        text-align: right;\n",
              "    }\n",
              "</style>\n",
              "<table border=\"1\" class=\"dataframe\">\n",
              "  <thead>\n",
              "    <tr style=\"text-align: right;\">\n",
              "      <th></th>\n",
              "      <th>0</th>\n",
              "      <th>1</th>\n",
              "      <th>2</th>\n",
              "      <th>3</th>\n",
              "      <th>4</th>\n",
              "      <th>5</th>\n",
              "      <th>6</th>\n",
              "      <th>7</th>\n",
              "      <th>8</th>\n",
              "      <th>9</th>\n",
              "      <th>10</th>\n",
              "      <th>11</th>\n",
              "      <th>12</th>\n",
              "      <th>13</th>\n",
              "      <th>14</th>\n",
              "      <th>15</th>\n",
              "      <th>16</th>\n",
              "      <th>17</th>\n",
              "    </tr>\n",
              "  </thead>\n",
              "  <tbody>\n",
              "    <tr>\n",
              "      <th>0</th>\n",
              "      <td>0.5</td>\n",
              "      <td>0.0</td>\n",
              "      <td>0.000000</td>\n",
              "      <td>0.00</td>\n",
              "      <td>1.000000</td>\n",
              "      <td>0.0</td>\n",
              "      <td>0.000000</td>\n",
              "      <td>0.032258</td>\n",
              "      <td>0.066667</td>\n",
              "      <td>0.741935</td>\n",
              "      <td>0.466667</td>\n",
              "      <td>0.000090</td>\n",
              "      <td>0.500000</td>\n",
              "      <td>0.0</td>\n",
              "      <td>0.000000</td>\n",
              "      <td>0.000000</td>\n",
              "      <td>0.200000</td>\n",
              "      <td>0.200000</td>\n",
              "    </tr>\n",
              "    <tr>\n",
              "      <th>1</th>\n",
              "      <td>0.5</td>\n",
              "      <td>1.0</td>\n",
              "      <td>0.000000</td>\n",
              "      <td>0.00</td>\n",
              "      <td>1.000000</td>\n",
              "      <td>0.0</td>\n",
              "      <td>0.000000</td>\n",
              "      <td>0.000000</td>\n",
              "      <td>0.000000</td>\n",
              "      <td>0.741935</td>\n",
              "      <td>0.466667</td>\n",
              "      <td>0.000000</td>\n",
              "      <td>0.666667</td>\n",
              "      <td>0.2</td>\n",
              "      <td>0.250000</td>\n",
              "      <td>0.072727</td>\n",
              "      <td>0.166667</td>\n",
              "      <td>0.200000</td>\n",
              "    </tr>\n",
              "    <tr>\n",
              "      <th>2</th>\n",
              "      <td>0.5</td>\n",
              "      <td>1.0</td>\n",
              "      <td>0.000000</td>\n",
              "      <td>0.00</td>\n",
              "      <td>1.000000</td>\n",
              "      <td>0.0</td>\n",
              "      <td>0.000000</td>\n",
              "      <td>0.000000</td>\n",
              "      <td>0.000000</td>\n",
              "      <td>0.741935</td>\n",
              "      <td>0.466667</td>\n",
              "      <td>0.000000</td>\n",
              "      <td>0.666667</td>\n",
              "      <td>0.2</td>\n",
              "      <td>0.250000</td>\n",
              "      <td>0.072727</td>\n",
              "      <td>0.166667</td>\n",
              "      <td>0.166667</td>\n",
              "    </tr>\n",
              "    <tr>\n",
              "      <th>3</th>\n",
              "      <td>0.0</td>\n",
              "      <td>0.5</td>\n",
              "      <td>0.500000</td>\n",
              "      <td>0.00</td>\n",
              "      <td>0.000000</td>\n",
              "      <td>1.0</td>\n",
              "      <td>0.727273</td>\n",
              "      <td>0.580645</td>\n",
              "      <td>0.133333</td>\n",
              "      <td>0.032258</td>\n",
              "      <td>0.066667</td>\n",
              "      <td>0.000090</td>\n",
              "      <td>0.166667</td>\n",
              "      <td>0.2</td>\n",
              "      <td>1.000000</td>\n",
              "      <td>0.090909</td>\n",
              "      <td>0.133333</td>\n",
              "      <td>0.200000</td>\n",
              "    </tr>\n",
              "    <tr>\n",
              "      <th>4</th>\n",
              "      <td>0.0</td>\n",
              "      <td>0.5</td>\n",
              "      <td>0.500000</td>\n",
              "      <td>0.25</td>\n",
              "      <td>0.333333</td>\n",
              "      <td>1.0</td>\n",
              "      <td>0.727273</td>\n",
              "      <td>0.580645</td>\n",
              "      <td>0.133333</td>\n",
              "      <td>0.032258</td>\n",
              "      <td>0.066667</td>\n",
              "      <td>0.000090</td>\n",
              "      <td>0.166667</td>\n",
              "      <td>0.2</td>\n",
              "      <td>1.000000</td>\n",
              "      <td>0.109091</td>\n",
              "      <td>0.100000</td>\n",
              "      <td>0.200000</td>\n",
              "    </tr>\n",
              "    <tr>\n",
              "      <th>...</th>\n",
              "      <td>...</td>\n",
              "      <td>...</td>\n",
              "      <td>...</td>\n",
              "      <td>...</td>\n",
              "      <td>...</td>\n",
              "      <td>...</td>\n",
              "      <td>...</td>\n",
              "      <td>...</td>\n",
              "      <td>...</td>\n",
              "      <td>...</td>\n",
              "      <td>...</td>\n",
              "      <td>...</td>\n",
              "      <td>...</td>\n",
              "      <td>...</td>\n",
              "      <td>...</td>\n",
              "      <td>...</td>\n",
              "      <td>...</td>\n",
              "      <td>...</td>\n",
              "    </tr>\n",
              "    <tr>\n",
              "      <th>121937</th>\n",
              "      <td>0.5</td>\n",
              "      <td>1.0</td>\n",
              "      <td>0.666667</td>\n",
              "      <td>0.25</td>\n",
              "      <td>0.333333</td>\n",
              "      <td>0.0</td>\n",
              "      <td>0.000000</td>\n",
              "      <td>0.000000</td>\n",
              "      <td>0.000000</td>\n",
              "      <td>0.709677</td>\n",
              "      <td>0.400000</td>\n",
              "      <td>0.904448</td>\n",
              "      <td>0.500000</td>\n",
              "      <td>0.2</td>\n",
              "      <td>0.333333</td>\n",
              "      <td>0.200000</td>\n",
              "      <td>0.133333</td>\n",
              "      <td>0.366667</td>\n",
              "    </tr>\n",
              "    <tr>\n",
              "      <th>121938</th>\n",
              "      <td>0.5</td>\n",
              "      <td>1.0</td>\n",
              "      <td>0.666667</td>\n",
              "      <td>0.50</td>\n",
              "      <td>0.333333</td>\n",
              "      <td>0.0</td>\n",
              "      <td>0.000000</td>\n",
              "      <td>0.000000</td>\n",
              "      <td>0.000000</td>\n",
              "      <td>0.709677</td>\n",
              "      <td>0.400000</td>\n",
              "      <td>0.904448</td>\n",
              "      <td>0.500000</td>\n",
              "      <td>0.2</td>\n",
              "      <td>0.333333</td>\n",
              "      <td>0.327273</td>\n",
              "      <td>0.100000</td>\n",
              "      <td>0.366667</td>\n",
              "    </tr>\n",
              "    <tr>\n",
              "      <th>121939</th>\n",
              "      <td>0.5</td>\n",
              "      <td>1.0</td>\n",
              "      <td>0.666667</td>\n",
              "      <td>0.75</td>\n",
              "      <td>0.333333</td>\n",
              "      <td>0.0</td>\n",
              "      <td>0.000000</td>\n",
              "      <td>0.000000</td>\n",
              "      <td>0.000000</td>\n",
              "      <td>0.709677</td>\n",
              "      <td>0.400000</td>\n",
              "      <td>0.904448</td>\n",
              "      <td>0.500000</td>\n",
              "      <td>0.2</td>\n",
              "      <td>0.333333</td>\n",
              "      <td>0.454545</td>\n",
              "      <td>0.066667</td>\n",
              "      <td>0.366667</td>\n",
              "    </tr>\n",
              "    <tr>\n",
              "      <th>121940</th>\n",
              "      <td>0.5</td>\n",
              "      <td>1.0</td>\n",
              "      <td>0.666667</td>\n",
              "      <td>1.00</td>\n",
              "      <td>0.666667</td>\n",
              "      <td>0.0</td>\n",
              "      <td>0.000000</td>\n",
              "      <td>0.000000</td>\n",
              "      <td>0.000000</td>\n",
              "      <td>0.709677</td>\n",
              "      <td>0.400000</td>\n",
              "      <td>0.904448</td>\n",
              "      <td>0.500000</td>\n",
              "      <td>0.2</td>\n",
              "      <td>0.333333</td>\n",
              "      <td>0.581818</td>\n",
              "      <td>0.033333</td>\n",
              "      <td>0.366667</td>\n",
              "    </tr>\n",
              "    <tr>\n",
              "      <th>121941</th>\n",
              "      <td>0.5</td>\n",
              "      <td>1.0</td>\n",
              "      <td>0.000000</td>\n",
              "      <td>0.00</td>\n",
              "      <td>1.000000</td>\n",
              "      <td>0.0</td>\n",
              "      <td>0.090909</td>\n",
              "      <td>0.000000</td>\n",
              "      <td>0.000000</td>\n",
              "      <td>0.709677</td>\n",
              "      <td>0.400000</td>\n",
              "      <td>0.904538</td>\n",
              "      <td>0.500000</td>\n",
              "      <td>0.2</td>\n",
              "      <td>0.333333</td>\n",
              "      <td>0.581818</td>\n",
              "      <td>0.000000</td>\n",
              "      <td>0.366667</td>\n",
              "    </tr>\n",
              "  </tbody>\n",
              "</table>\n",
              "<p>121942 rows × 18 columns</p>\n",
              "</div>"
            ],
            "text/plain": [
              "         0    1         2     3   ...        14        15        16        17\n",
              "0       0.5  0.0  0.000000  0.00  ...  0.000000  0.000000  0.200000  0.200000\n",
              "1       0.5  1.0  0.000000  0.00  ...  0.250000  0.072727  0.166667  0.200000\n",
              "2       0.5  1.0  0.000000  0.00  ...  0.250000  0.072727  0.166667  0.166667\n",
              "3       0.0  0.5  0.500000  0.00  ...  1.000000  0.090909  0.133333  0.200000\n",
              "4       0.0  0.5  0.500000  0.25  ...  1.000000  0.109091  0.100000  0.200000\n",
              "...     ...  ...       ...   ...  ...       ...       ...       ...       ...\n",
              "121937  0.5  1.0  0.666667  0.25  ...  0.333333  0.200000  0.133333  0.366667\n",
              "121938  0.5  1.0  0.666667  0.50  ...  0.333333  0.327273  0.100000  0.366667\n",
              "121939  0.5  1.0  0.666667  0.75  ...  0.333333  0.454545  0.066667  0.366667\n",
              "121940  0.5  1.0  0.666667  1.00  ...  0.333333  0.581818  0.033333  0.366667\n",
              "121941  0.5  1.0  0.000000  0.00  ...  0.333333  0.581818  0.000000  0.366667\n",
              "\n",
              "[121942 rows x 18 columns]"
            ]
          },
          "metadata": {
            "tags": []
          },
          "execution_count": 17
        }
      ]
    },
    {
      "cell_type": "code",
      "metadata": {
        "id": "3Bk-7VP5Hg2T",
        "colab_type": "code",
        "outputId": "a8d0fbbd-8dda-419f-db66-081496d5dc6a",
        "colab": {
          "base_uri": "https://localhost:8080/",
          "height": 658
        }
      },
      "source": [
        "corr_df = pd.concat([train_X, df[['target']]], axis = 1)\n",
        "corr_df.corr()"
      ],
      "execution_count": 0,
      "outputs": [
        {
          "output_type": "execute_result",
          "data": {
            "text/html": [
              "<div>\n",
              "<style scoped>\n",
              "    .dataframe tbody tr th:only-of-type {\n",
              "        vertical-align: middle;\n",
              "    }\n",
              "\n",
              "    .dataframe tbody tr th {\n",
              "        vertical-align: top;\n",
              "    }\n",
              "\n",
              "    .dataframe thead th {\n",
              "        text-align: right;\n",
              "    }\n",
              "</style>\n",
              "<table border=\"1\" class=\"dataframe\">\n",
              "  <thead>\n",
              "    <tr style=\"text-align: right;\">\n",
              "      <th></th>\n",
              "      <th>0</th>\n",
              "      <th>1</th>\n",
              "      <th>2</th>\n",
              "      <th>3</th>\n",
              "      <th>4</th>\n",
              "      <th>5</th>\n",
              "      <th>6</th>\n",
              "      <th>7</th>\n",
              "      <th>8</th>\n",
              "      <th>9</th>\n",
              "      <th>10</th>\n",
              "      <th>11</th>\n",
              "      <th>12</th>\n",
              "      <th>13</th>\n",
              "      <th>14</th>\n",
              "      <th>15</th>\n",
              "      <th>16</th>\n",
              "      <th>17</th>\n",
              "      <th>target</th>\n",
              "    </tr>\n",
              "  </thead>\n",
              "  <tbody>\n",
              "    <tr>\n",
              "      <th>0</th>\n",
              "      <td>1.000000</td>\n",
              "      <td>-0.171157</td>\n",
              "      <td>-0.202169</td>\n",
              "      <td>-0.000862</td>\n",
              "      <td>0.001354</td>\n",
              "      <td>0.322011</td>\n",
              "      <td>0.353165</td>\n",
              "      <td>-0.108261</td>\n",
              "      <td>-0.262553</td>\n",
              "      <td>-0.220914</td>\n",
              "      <td>0.019252</td>\n",
              "      <td>-0.034422</td>\n",
              "      <td>0.145628</td>\n",
              "      <td>-0.378038</td>\n",
              "      <td>-0.517605</td>\n",
              "      <td>-0.321455</td>\n",
              "      <td>-0.122135</td>\n",
              "      <td>-0.100055</td>\n",
              "      <td>0.217451</td>\n",
              "    </tr>\n",
              "    <tr>\n",
              "      <th>1</th>\n",
              "      <td>-0.171157</td>\n",
              "      <td>1.000000</td>\n",
              "      <td>0.008037</td>\n",
              "      <td>-0.015220</td>\n",
              "      <td>0.023905</td>\n",
              "      <td>-0.413283</td>\n",
              "      <td>-0.519151</td>\n",
              "      <td>-0.467346</td>\n",
              "      <td>-0.252382</td>\n",
              "      <td>0.464413</td>\n",
              "      <td>0.368488</td>\n",
              "      <td>-0.004725</td>\n",
              "      <td>0.483866</td>\n",
              "      <td>0.368555</td>\n",
              "      <td>0.435760</td>\n",
              "      <td>0.410964</td>\n",
              "      <td>-0.102964</td>\n",
              "      <td>-0.205400</td>\n",
              "      <td>0.327401</td>\n",
              "    </tr>\n",
              "    <tr>\n",
              "      <th>2</th>\n",
              "      <td>-0.202169</td>\n",
              "      <td>0.008037</td>\n",
              "      <td>1.000000</td>\n",
              "      <td>0.260563</td>\n",
              "      <td>-0.409233</td>\n",
              "      <td>-0.233214</td>\n",
              "      <td>-0.266011</td>\n",
              "      <td>0.109969</td>\n",
              "      <td>0.032884</td>\n",
              "      <td>0.013854</td>\n",
              "      <td>-0.087901</td>\n",
              "      <td>0.035356</td>\n",
              "      <td>-0.088940</td>\n",
              "      <td>0.097141</td>\n",
              "      <td>0.158695</td>\n",
              "      <td>-0.166409</td>\n",
              "      <td>0.075646</td>\n",
              "      <td>0.019879</td>\n",
              "      <td>-0.010188</td>\n",
              "    </tr>\n",
              "    <tr>\n",
              "      <th>3</th>\n",
              "      <td>-0.000862</td>\n",
              "      <td>-0.015220</td>\n",
              "      <td>0.260563</td>\n",
              "      <td>1.000000</td>\n",
              "      <td>0.063686</td>\n",
              "      <td>0.155673</td>\n",
              "      <td>0.117454</td>\n",
              "      <td>0.004319</td>\n",
              "      <td>0.001608</td>\n",
              "      <td>-0.049700</td>\n",
              "      <td>-0.022617</td>\n",
              "      <td>0.009426</td>\n",
              "      <td>-0.039891</td>\n",
              "      <td>-0.027415</td>\n",
              "      <td>-0.020030</td>\n",
              "      <td>0.389739</td>\n",
              "      <td>-0.063662</td>\n",
              "      <td>0.012552</td>\n",
              "      <td>0.006536</td>\n",
              "    </tr>\n",
              "    <tr>\n",
              "      <th>4</th>\n",
              "      <td>0.001354</td>\n",
              "      <td>0.023905</td>\n",
              "      <td>-0.409233</td>\n",
              "      <td>0.063686</td>\n",
              "      <td>1.000000</td>\n",
              "      <td>-0.244496</td>\n",
              "      <td>-0.184471</td>\n",
              "      <td>-0.006784</td>\n",
              "      <td>-0.002525</td>\n",
              "      <td>0.078058</td>\n",
              "      <td>0.035521</td>\n",
              "      <td>-0.014804</td>\n",
              "      <td>0.062651</td>\n",
              "      <td>0.043057</td>\n",
              "      <td>0.031459</td>\n",
              "      <td>0.489382</td>\n",
              "      <td>-0.064057</td>\n",
              "      <td>0.036032</td>\n",
              "      <td>-0.010265</td>\n",
              "    </tr>\n",
              "    <tr>\n",
              "      <th>5</th>\n",
              "      <td>0.322011</td>\n",
              "      <td>-0.413283</td>\n",
              "      <td>-0.233214</td>\n",
              "      <td>0.155673</td>\n",
              "      <td>-0.244496</td>\n",
              "      <td>1.000000</td>\n",
              "      <td>0.968480</td>\n",
              "      <td>0.610828</td>\n",
              "      <td>0.366666</td>\n",
              "      <td>-0.850445</td>\n",
              "      <td>-0.463884</td>\n",
              "      <td>-0.037612</td>\n",
              "      <td>-0.277171</td>\n",
              "      <td>0.039630</td>\n",
              "      <td>-0.041159</td>\n",
              "      <td>-0.460507</td>\n",
              "      <td>-0.010017</td>\n",
              "      <td>0.060437</td>\n",
              "      <td>-0.051954</td>\n",
              "    </tr>\n",
              "    <tr>\n",
              "      <th>6</th>\n",
              "      <td>0.353165</td>\n",
              "      <td>-0.519151</td>\n",
              "      <td>-0.266011</td>\n",
              "      <td>0.117454</td>\n",
              "      <td>-0.184471</td>\n",
              "      <td>0.968480</td>\n",
              "      <td>1.000000</td>\n",
              "      <td>0.589522</td>\n",
              "      <td>0.309887</td>\n",
              "      <td>-0.840416</td>\n",
              "      <td>-0.466031</td>\n",
              "      <td>-0.038919</td>\n",
              "      <td>-0.337367</td>\n",
              "      <td>-0.076519</td>\n",
              "      <td>-0.155651</td>\n",
              "      <td>-0.477648</td>\n",
              "      <td>-0.006209</td>\n",
              "      <td>0.084992</td>\n",
              "      <td>-0.078370</td>\n",
              "    </tr>\n",
              "    <tr>\n",
              "      <th>7</th>\n",
              "      <td>-0.108261</td>\n",
              "      <td>-0.467346</td>\n",
              "      <td>0.109969</td>\n",
              "      <td>0.004319</td>\n",
              "      <td>-0.006784</td>\n",
              "      <td>0.610828</td>\n",
              "      <td>0.589522</td>\n",
              "      <td>1.000000</td>\n",
              "      <td>0.655230</td>\n",
              "      <td>-0.766468</td>\n",
              "      <td>-0.659911</td>\n",
              "      <td>-0.034296</td>\n",
              "      <td>-0.386319</td>\n",
              "      <td>0.375855</td>\n",
              "      <td>0.365910</td>\n",
              "      <td>-0.298918</td>\n",
              "      <td>0.096626</td>\n",
              "      <td>0.151147</td>\n",
              "      <td>-0.119746</td>\n",
              "    </tr>\n",
              "    <tr>\n",
              "      <th>8</th>\n",
              "      <td>-0.262553</td>\n",
              "      <td>-0.252382</td>\n",
              "      <td>0.032884</td>\n",
              "      <td>0.001608</td>\n",
              "      <td>-0.002525</td>\n",
              "      <td>0.366666</td>\n",
              "      <td>0.309887</td>\n",
              "      <td>0.655230</td>\n",
              "      <td>1.000000</td>\n",
              "      <td>-0.424242</td>\n",
              "      <td>-0.269277</td>\n",
              "      <td>0.007626</td>\n",
              "      <td>0.139759</td>\n",
              "      <td>0.768263</td>\n",
              "      <td>0.458637</td>\n",
              "      <td>0.014133</td>\n",
              "      <td>0.080274</td>\n",
              "      <td>0.077048</td>\n",
              "      <td>-0.246502</td>\n",
              "    </tr>\n",
              "    <tr>\n",
              "      <th>9</th>\n",
              "      <td>-0.220914</td>\n",
              "      <td>0.464413</td>\n",
              "      <td>0.013854</td>\n",
              "      <td>-0.049700</td>\n",
              "      <td>0.078058</td>\n",
              "      <td>-0.850445</td>\n",
              "      <td>-0.840416</td>\n",
              "      <td>-0.766468</td>\n",
              "      <td>-0.424242</td>\n",
              "      <td>1.000000</td>\n",
              "      <td>0.784970</td>\n",
              "      <td>0.046047</td>\n",
              "      <td>0.524920</td>\n",
              "      <td>-0.115873</td>\n",
              "      <td>-0.136507</td>\n",
              "      <td>0.471400</td>\n",
              "      <td>-0.055337</td>\n",
              "      <td>-0.119227</td>\n",
              "      <td>0.075179</td>\n",
              "    </tr>\n",
              "    <tr>\n",
              "      <th>10</th>\n",
              "      <td>0.019252</td>\n",
              "      <td>0.368488</td>\n",
              "      <td>-0.087901</td>\n",
              "      <td>-0.022617</td>\n",
              "      <td>0.035521</td>\n",
              "      <td>-0.463884</td>\n",
              "      <td>-0.466031</td>\n",
              "      <td>-0.659911</td>\n",
              "      <td>-0.269277</td>\n",
              "      <td>0.784970</td>\n",
              "      <td>1.000000</td>\n",
              "      <td>0.055350</td>\n",
              "      <td>0.790998</td>\n",
              "      <td>-0.070264</td>\n",
              "      <td>-0.297458</td>\n",
              "      <td>0.276265</td>\n",
              "      <td>-0.138375</td>\n",
              "      <td>-0.153270</td>\n",
              "      <td>0.049669</td>\n",
              "    </tr>\n",
              "    <tr>\n",
              "      <th>11</th>\n",
              "      <td>-0.034422</td>\n",
              "      <td>-0.004725</td>\n",
              "      <td>0.035356</td>\n",
              "      <td>0.009426</td>\n",
              "      <td>-0.014804</td>\n",
              "      <td>-0.037612</td>\n",
              "      <td>-0.038919</td>\n",
              "      <td>-0.034296</td>\n",
              "      <td>0.007626</td>\n",
              "      <td>0.046047</td>\n",
              "      <td>0.055350</td>\n",
              "      <td>1.000000</td>\n",
              "      <td>0.026296</td>\n",
              "      <td>-0.002747</td>\n",
              "      <td>-0.018314</td>\n",
              "      <td>0.035410</td>\n",
              "      <td>0.018578</td>\n",
              "      <td>0.024890</td>\n",
              "      <td>-0.120478</td>\n",
              "    </tr>\n",
              "    <tr>\n",
              "      <th>12</th>\n",
              "      <td>0.145628</td>\n",
              "      <td>0.483866</td>\n",
              "      <td>-0.088940</td>\n",
              "      <td>-0.039891</td>\n",
              "      <td>0.062651</td>\n",
              "      <td>-0.277171</td>\n",
              "      <td>-0.337367</td>\n",
              "      <td>-0.386319</td>\n",
              "      <td>0.139759</td>\n",
              "      <td>0.524920</td>\n",
              "      <td>0.790998</td>\n",
              "      <td>0.026296</td>\n",
              "      <td>1.000000</td>\n",
              "      <td>0.412556</td>\n",
              "      <td>0.022729</td>\n",
              "      <td>0.308938</td>\n",
              "      <td>-0.135688</td>\n",
              "      <td>-0.184023</td>\n",
              "      <td>0.100419</td>\n",
              "    </tr>\n",
              "    <tr>\n",
              "      <th>13</th>\n",
              "      <td>-0.378038</td>\n",
              "      <td>0.368555</td>\n",
              "      <td>0.097141</td>\n",
              "      <td>-0.027415</td>\n",
              "      <td>0.043057</td>\n",
              "      <td>0.039630</td>\n",
              "      <td>-0.076519</td>\n",
              "      <td>0.375855</td>\n",
              "      <td>0.768263</td>\n",
              "      <td>-0.115873</td>\n",
              "      <td>-0.070264</td>\n",
              "      <td>-0.002747</td>\n",
              "      <td>0.412556</td>\n",
              "      <td>1.000000</td>\n",
              "      <td>0.766450</td>\n",
              "      <td>0.294109</td>\n",
              "      <td>0.025166</td>\n",
              "      <td>-0.038204</td>\n",
              "      <td>-0.023714</td>\n",
              "    </tr>\n",
              "    <tr>\n",
              "      <th>14</th>\n",
              "      <td>-0.517605</td>\n",
              "      <td>0.435760</td>\n",
              "      <td>0.158695</td>\n",
              "      <td>-0.020030</td>\n",
              "      <td>0.031459</td>\n",
              "      <td>-0.041159</td>\n",
              "      <td>-0.155651</td>\n",
              "      <td>0.365910</td>\n",
              "      <td>0.458637</td>\n",
              "      <td>-0.136507</td>\n",
              "      <td>-0.297458</td>\n",
              "      <td>-0.018314</td>\n",
              "      <td>0.022729</td>\n",
              "      <td>0.766450</td>\n",
              "      <td>1.000000</td>\n",
              "      <td>0.283390</td>\n",
              "      <td>0.082295</td>\n",
              "      <td>0.013486</td>\n",
              "      <td>0.000047</td>\n",
              "    </tr>\n",
              "    <tr>\n",
              "      <th>15</th>\n",
              "      <td>-0.321455</td>\n",
              "      <td>0.410964</td>\n",
              "      <td>-0.166409</td>\n",
              "      <td>0.389739</td>\n",
              "      <td>0.489382</td>\n",
              "      <td>-0.460507</td>\n",
              "      <td>-0.477648</td>\n",
              "      <td>-0.298918</td>\n",
              "      <td>0.014133</td>\n",
              "      <td>0.471400</td>\n",
              "      <td>0.276265</td>\n",
              "      <td>0.035410</td>\n",
              "      <td>0.308938</td>\n",
              "      <td>0.294109</td>\n",
              "      <td>0.283390</td>\n",
              "      <td>1.000000</td>\n",
              "      <td>-0.042239</td>\n",
              "      <td>-0.031662</td>\n",
              "      <td>0.034534</td>\n",
              "    </tr>\n",
              "    <tr>\n",
              "      <th>16</th>\n",
              "      <td>-0.122135</td>\n",
              "      <td>-0.102964</td>\n",
              "      <td>0.075646</td>\n",
              "      <td>-0.063662</td>\n",
              "      <td>-0.064057</td>\n",
              "      <td>-0.010017</td>\n",
              "      <td>-0.006209</td>\n",
              "      <td>0.096626</td>\n",
              "      <td>0.080274</td>\n",
              "      <td>-0.055337</td>\n",
              "      <td>-0.138375</td>\n",
              "      <td>0.018578</td>\n",
              "      <td>-0.135688</td>\n",
              "      <td>0.025166</td>\n",
              "      <td>0.082295</td>\n",
              "      <td>-0.042239</td>\n",
              "      <td>1.000000</td>\n",
              "      <td>0.748993</td>\n",
              "      <td>-0.344753</td>\n",
              "    </tr>\n",
              "    <tr>\n",
              "      <th>17</th>\n",
              "      <td>-0.100055</td>\n",
              "      <td>-0.205400</td>\n",
              "      <td>0.019879</td>\n",
              "      <td>0.012552</td>\n",
              "      <td>0.036032</td>\n",
              "      <td>0.060437</td>\n",
              "      <td>0.084992</td>\n",
              "      <td>0.151147</td>\n",
              "      <td>0.077048</td>\n",
              "      <td>-0.119227</td>\n",
              "      <td>-0.153270</td>\n",
              "      <td>0.024890</td>\n",
              "      <td>-0.184023</td>\n",
              "      <td>-0.038204</td>\n",
              "      <td>0.013486</td>\n",
              "      <td>-0.031662</td>\n",
              "      <td>0.748993</td>\n",
              "      <td>1.000000</td>\n",
              "      <td>-0.460289</td>\n",
              "    </tr>\n",
              "    <tr>\n",
              "      <th>target</th>\n",
              "      <td>0.217451</td>\n",
              "      <td>0.327401</td>\n",
              "      <td>-0.010188</td>\n",
              "      <td>0.006536</td>\n",
              "      <td>-0.010265</td>\n",
              "      <td>-0.051954</td>\n",
              "      <td>-0.078370</td>\n",
              "      <td>-0.119746</td>\n",
              "      <td>-0.246502</td>\n",
              "      <td>0.075179</td>\n",
              "      <td>0.049669</td>\n",
              "      <td>-0.120478</td>\n",
              "      <td>0.100419</td>\n",
              "      <td>-0.023714</td>\n",
              "      <td>0.000047</td>\n",
              "      <td>0.034534</td>\n",
              "      <td>-0.344753</td>\n",
              "      <td>-0.460289</td>\n",
              "      <td>1.000000</td>\n",
              "    </tr>\n",
              "  </tbody>\n",
              "</table>\n",
              "</div>"
            ],
            "text/plain": [
              "               0         1         2  ...        16        17    target\n",
              "0       1.000000 -0.171157 -0.202169  ... -0.122135 -0.100055  0.217451\n",
              "1      -0.171157  1.000000  0.008037  ... -0.102964 -0.205400  0.327401\n",
              "2      -0.202169  0.008037  1.000000  ...  0.075646  0.019879 -0.010188\n",
              "3      -0.000862 -0.015220  0.260563  ... -0.063662  0.012552  0.006536\n",
              "4       0.001354  0.023905 -0.409233  ... -0.064057  0.036032 -0.010265\n",
              "5       0.322011 -0.413283 -0.233214  ... -0.010017  0.060437 -0.051954\n",
              "6       0.353165 -0.519151 -0.266011  ... -0.006209  0.084992 -0.078370\n",
              "7      -0.108261 -0.467346  0.109969  ...  0.096626  0.151147 -0.119746\n",
              "8      -0.262553 -0.252382  0.032884  ...  0.080274  0.077048 -0.246502\n",
              "9      -0.220914  0.464413  0.013854  ... -0.055337 -0.119227  0.075179\n",
              "10      0.019252  0.368488 -0.087901  ... -0.138375 -0.153270  0.049669\n",
              "11     -0.034422 -0.004725  0.035356  ...  0.018578  0.024890 -0.120478\n",
              "12      0.145628  0.483866 -0.088940  ... -0.135688 -0.184023  0.100419\n",
              "13     -0.378038  0.368555  0.097141  ...  0.025166 -0.038204 -0.023714\n",
              "14     -0.517605  0.435760  0.158695  ...  0.082295  0.013486  0.000047\n",
              "15     -0.321455  0.410964 -0.166409  ... -0.042239 -0.031662  0.034534\n",
              "16     -0.122135 -0.102964  0.075646  ...  1.000000  0.748993 -0.344753\n",
              "17     -0.100055 -0.205400  0.019879  ...  0.748993  1.000000 -0.460289\n",
              "target  0.217451  0.327401 -0.010188  ... -0.344753 -0.460289  1.000000\n",
              "\n",
              "[19 rows x 19 columns]"
            ]
          },
          "metadata": {
            "tags": []
          },
          "execution_count": 18
        }
      ]
    },
    {
      "cell_type": "code",
      "metadata": {
        "id": "LJg155LxHg2V",
        "colab_type": "code",
        "outputId": "cd18e962-bb90-450d-a83b-091b0b52c1a6",
        "colab": {
          "base_uri": "https://localhost:8080/",
          "height": 251
        }
      },
      "source": [
        "pca = PCA(0.95)\n",
        "pca.fit(train_X)\n",
        "principal_components = pca.transform(train_X)\n",
        "principal_components"
      ],
      "execution_count": 0,
      "outputs": [
        {
          "output_type": "execute_result",
          "data": {
            "text/plain": [
              "array([[-0.37528788, -0.71291973,  0.44772591, ..., -0.50405512,\n",
              "        -0.10260133,  0.02246291],\n",
              "       [-0.80532603, -0.29421497, -0.28419621, ..., -0.42615442,\n",
              "        -0.25006331,  0.11930444],\n",
              "       [-0.80663714, -0.29521692, -0.28936557, ..., -0.42808619,\n",
              "        -0.24724536,  0.09153142],\n",
              "       ...,\n",
              "       [-0.7558658 , -0.11339547, -0.34597397, ...,  0.45459741,\n",
              "        -0.03088716,  0.16188908],\n",
              "       [-0.78722128, -0.09568432, -0.39507093, ...,  0.4644139 ,\n",
              "        -0.02331197,  0.1375618 ],\n",
              "       [-0.79448407, -0.17593435, -0.2443002 , ...,  0.47788363,\n",
              "        -0.39584126,  0.08970848]])"
            ]
          },
          "metadata": {
            "tags": []
          },
          "execution_count": 19
        }
      ]
    },
    {
      "cell_type": "code",
      "metadata": {
        "id": "VP2bXSYiHg2X",
        "colab_type": "code",
        "outputId": "583b478b-82ea-45ac-a240-174e22873bc1",
        "colab": {
          "base_uri": "https://localhost:8080/",
          "height": 53
        }
      },
      "source": [
        "pca.explained_variance_ratio_"
      ],
      "execution_count": 0,
      "outputs": [
        {
          "output_type": "execute_result",
          "data": {
            "text/plain": [
              "array([0.35614525, 0.18213494, 0.09870268, 0.08697526, 0.0710063 ,\n",
              "       0.05223344, 0.04055119, 0.03895065, 0.03174504])"
            ]
          },
          "metadata": {
            "tags": []
          },
          "execution_count": 20
        }
      ]
    },
    {
      "cell_type": "code",
      "metadata": {
        "id": "KSIoYoQ3Hg2Y",
        "colab_type": "code",
        "outputId": "e118e2dd-c655-4cc8-e817-bc30702114d2",
        "colab": {
          "base_uri": "https://localhost:8080/",
          "height": 297
        }
      },
      "source": [
        "features = range(pca.n_components_)\n",
        "plt.bar(features, pca.explained_variance_)\n",
        "plt.xticks(features)\n",
        "plt.xlabel(\"PCs\")\n",
        "plt.ylabel(\"Variance\")"
      ],
      "execution_count": 0,
      "outputs": [
        {
          "output_type": "execute_result",
          "data": {
            "text/plain": [
              "Text(0, 0.5, 'Variance')"
            ]
          },
          "metadata": {
            "tags": []
          },
          "execution_count": 21
        },
        {
          "output_type": "display_data",
          "data": {
            "image/png": "[encoded data removed]",
            "text/plain": [
              "<Figure size 432x288 with 1 Axes>"
            ]
          },
          "metadata": {
            "tags": [],
            "needs_background": "light"
          }
        }
      ]
    },
    {
      "cell_type": "code",
      "metadata": {
        "id": "FZ0YjRz0Hg2Z",
        "colab_type": "code",
        "outputId": "26a99d16-4cf5-4875-9691-b2343e15a512",
        "colab": {
          "base_uri": "https://localhost:8080/",
          "height": 419
        }
      },
      "source": [
        "principal_df = pd.DataFrame(data = principal_components)\n",
        "principal_df"
      ],
      "execution_count": 0,
      "outputs": [
        {
          "output_type": "execute_result",
          "data": {
            "text/html": [
              "<div>\n",
              "<style scoped>\n",
              "    .dataframe tbody tr th:only-of-type {\n",
              "        vertical-align: middle;\n",
              "    }\n",
              "\n",
              "    .dataframe tbody tr th {\n",
              "        vertical-align: top;\n",
              "    }\n",
              "\n",
              "    .dataframe thead th {\n",
              "        text-align: right;\n",
              "    }\n",
              "</style>\n",
              "<table border=\"1\" class=\"dataframe\">\n",
              "  <thead>\n",
              "    <tr style=\"text-align: right;\">\n",
              "      <th></th>\n",
              "      <th>0</th>\n",
              "      <th>1</th>\n",
              "      <th>2</th>\n",
              "      <th>3</th>\n",
              "      <th>4</th>\n",
              "      <th>5</th>\n",
              "      <th>6</th>\n",
              "      <th>7</th>\n",
              "      <th>8</th>\n",
              "    </tr>\n",
              "  </thead>\n",
              "  <tbody>\n",
              "    <tr>\n",
              "      <th>0</th>\n",
              "      <td>-0.375288</td>\n",
              "      <td>-0.712920</td>\n",
              "      <td>0.447726</td>\n",
              "      <td>-0.320943</td>\n",
              "      <td>0.701047</td>\n",
              "      <td>0.163467</td>\n",
              "      <td>-0.504055</td>\n",
              "      <td>-0.102601</td>\n",
              "      <td>0.022463</td>\n",
              "    </tr>\n",
              "    <tr>\n",
              "      <th>1</th>\n",
              "      <td>-0.805326</td>\n",
              "      <td>-0.294215</td>\n",
              "      <td>-0.284196</td>\n",
              "      <td>-0.487058</td>\n",
              "      <td>0.671608</td>\n",
              "      <td>-0.096548</td>\n",
              "      <td>-0.426154</td>\n",
              "      <td>-0.250063</td>\n",
              "      <td>0.119304</td>\n",
              "    </tr>\n",
              "    <tr>\n",
              "      <th>2</th>\n",
              "      <td>-0.806637</td>\n",
              "      <td>-0.295217</td>\n",
              "      <td>-0.289366</td>\n",
              "      <td>-0.488592</td>\n",
              "      <td>0.670773</td>\n",
              "      <td>-0.097767</td>\n",
              "      <td>-0.428086</td>\n",
              "      <td>-0.247245</td>\n",
              "      <td>0.091531</td>\n",
              "    </tr>\n",
              "    <tr>\n",
              "      <th>3</th>\n",
              "      <td>0.801544</td>\n",
              "      <td>0.758366</td>\n",
              "      <td>-0.142783</td>\n",
              "      <td>-0.560401</td>\n",
              "      <td>-0.321723</td>\n",
              "      <td>-0.030723</td>\n",
              "      <td>-0.475060</td>\n",
              "      <td>-0.410485</td>\n",
              "      <td>-0.014831</td>\n",
              "    </tr>\n",
              "    <tr>\n",
              "      <th>4</th>\n",
              "      <td>0.785373</td>\n",
              "      <td>0.766395</td>\n",
              "      <td>-0.184345</td>\n",
              "      <td>-0.264949</td>\n",
              "      <td>-0.075908</td>\n",
              "      <td>-0.061798</td>\n",
              "      <td>-0.465589</td>\n",
              "      <td>-0.394957</td>\n",
              "      <td>-0.040441</td>\n",
              "    </tr>\n",
              "    <tr>\n",
              "      <th>...</th>\n",
              "      <td>...</td>\n",
              "      <td>...</td>\n",
              "      <td>...</td>\n",
              "      <td>...</td>\n",
              "      <td>...</td>\n",
              "      <td>...</td>\n",
              "      <td>...</td>\n",
              "      <td>...</td>\n",
              "      <td>...</td>\n",
              "    </tr>\n",
              "    <tr>\n",
              "      <th>121937</th>\n",
              "      <td>-0.741071</td>\n",
              "      <td>-0.142835</td>\n",
              "      <td>-0.206031</td>\n",
              "      <td>-0.221765</td>\n",
              "      <td>-0.208690</td>\n",
              "      <td>-0.064514</td>\n",
              "      <td>0.466480</td>\n",
              "      <td>-0.037083</td>\n",
              "      <td>0.184341</td>\n",
              "    </tr>\n",
              "    <tr>\n",
              "      <th>121938</th>\n",
              "      <td>-0.748468</td>\n",
              "      <td>-0.128115</td>\n",
              "      <td>-0.276002</td>\n",
              "      <td>0.036811</td>\n",
              "      <td>-0.215015</td>\n",
              "      <td>-0.067499</td>\n",
              "      <td>0.460539</td>\n",
              "      <td>-0.033985</td>\n",
              "      <td>0.173115</td>\n",
              "    </tr>\n",
              "    <tr>\n",
              "      <th>121939</th>\n",
              "      <td>-0.755866</td>\n",
              "      <td>-0.113395</td>\n",
              "      <td>-0.345974</td>\n",
              "      <td>0.295387</td>\n",
              "      <td>-0.221339</td>\n",
              "      <td>-0.070484</td>\n",
              "      <td>0.454597</td>\n",
              "      <td>-0.030887</td>\n",
              "      <td>0.161889</td>\n",
              "    </tr>\n",
              "    <tr>\n",
              "      <th>121940</th>\n",
              "      <td>-0.787221</td>\n",
              "      <td>-0.095684</td>\n",
              "      <td>-0.395071</td>\n",
              "      <td>0.618325</td>\n",
              "      <td>0.048555</td>\n",
              "      <td>-0.095422</td>\n",
              "      <td>0.464414</td>\n",
              "      <td>-0.023312</td>\n",
              "      <td>0.137562</td>\n",
              "    </tr>\n",
              "    <tr>\n",
              "      <th>121941</th>\n",
              "      <td>-0.794484</td>\n",
              "      <td>-0.175934</td>\n",
              "      <td>-0.244300</td>\n",
              "      <td>-0.319208</td>\n",
              "      <td>0.746160</td>\n",
              "      <td>0.010510</td>\n",
              "      <td>0.477884</td>\n",
              "      <td>-0.395841</td>\n",
              "      <td>0.089708</td>\n",
              "    </tr>\n",
              "  </tbody>\n",
              "</table>\n",
              "<p>121942 rows × 9 columns</p>\n",
              "</div>"
            ],
            "text/plain": [
              "               0         1         2  ...         6         7         8\n",
              "0      -0.375288 -0.712920  0.447726  ... -0.504055 -0.102601  0.022463\n",
              "1      -0.805326 -0.294215 -0.284196  ... -0.426154 -0.250063  0.119304\n",
              "2      -0.806637 -0.295217 -0.289366  ... -0.428086 -0.247245  0.091531\n",
              "3       0.801544  0.758366 -0.142783  ... -0.475060 -0.410485 -0.014831\n",
              "4       0.785373  0.766395 -0.184345  ... -0.465589 -0.394957 -0.040441\n",
              "...          ...       ...       ...  ...       ...       ...       ...\n",
              "121937 -0.741071 -0.142835 -0.206031  ...  0.466480 -0.037083  0.184341\n",
              "121938 -0.748468 -0.128115 -0.276002  ...  0.460539 -0.033985  0.173115\n",
              "121939 -0.755866 -0.113395 -0.345974  ...  0.454597 -0.030887  0.161889\n",
              "121940 -0.787221 -0.095684 -0.395071  ...  0.464414 -0.023312  0.137562\n",
              "121941 -0.794484 -0.175934 -0.244300  ...  0.477884 -0.395841  0.089708\n",
              "\n",
              "[121942 rows x 9 columns]"
            ]
          },
          "metadata": {
            "tags": []
          },
          "execution_count": 22
        }
      ]
    },
    {
      "cell_type": "code",
      "metadata": {
        "id": "Z8fcZ6xoHg2a",
        "colab_type": "code",
        "outputId": "e6e74c8e-34b2-4e18-991b-967e65b0b318",
        "colab": {
          "base_uri": "https://localhost:8080/",
          "height": 419
        }
      },
      "source": [
        "final_df = pd.concat([principal_df, df[['target']]], axis = 1)\n",
        "final_df"
      ],
      "execution_count": 0,
      "outputs": [
        {
          "output_type": "execute_result",
          "data": {
            "text/html": [
              "<div>\n",
              "<style scoped>\n",
              "    .dataframe tbody tr th:only-of-type {\n",
              "        vertical-align: middle;\n",
              "    }\n",
              "\n",
              "    .dataframe tbody tr th {\n",
              "        vertical-align: top;\n",
              "    }\n",
              "\n",
              "    .dataframe thead th {\n",
              "        text-align: right;\n",
              "    }\n",
              "</style>\n",
              "<table border=\"1\" class=\"dataframe\">\n",
              "  <thead>\n",
              "    <tr style=\"text-align: right;\">\n",
              "      <th></th>\n",
              "      <th>0</th>\n",
              "      <th>1</th>\n",
              "      <th>2</th>\n",
              "      <th>3</th>\n",
              "      <th>4</th>\n",
              "      <th>5</th>\n",
              "      <th>6</th>\n",
              "      <th>7</th>\n",
              "      <th>8</th>\n",
              "      <th>target</th>\n",
              "    </tr>\n",
              "  </thead>\n",
              "  <tbody>\n",
              "    <tr>\n",
              "      <th>0</th>\n",
              "      <td>-0.375288</td>\n",
              "      <td>-0.712920</td>\n",
              "      <td>0.447726</td>\n",
              "      <td>-0.320943</td>\n",
              "      <td>0.701047</td>\n",
              "      <td>0.163467</td>\n",
              "      <td>-0.504055</td>\n",
              "      <td>-0.102601</td>\n",
              "      <td>0.022463</td>\n",
              "      <td>0</td>\n",
              "    </tr>\n",
              "    <tr>\n",
              "      <th>1</th>\n",
              "      <td>-0.805326</td>\n",
              "      <td>-0.294215</td>\n",
              "      <td>-0.284196</td>\n",
              "      <td>-0.487058</td>\n",
              "      <td>0.671608</td>\n",
              "      <td>-0.096548</td>\n",
              "      <td>-0.426154</td>\n",
              "      <td>-0.250063</td>\n",
              "      <td>0.119304</td>\n",
              "      <td>0</td>\n",
              "    </tr>\n",
              "    <tr>\n",
              "      <th>2</th>\n",
              "      <td>-0.806637</td>\n",
              "      <td>-0.295217</td>\n",
              "      <td>-0.289366</td>\n",
              "      <td>-0.488592</td>\n",
              "      <td>0.670773</td>\n",
              "      <td>-0.097767</td>\n",
              "      <td>-0.428086</td>\n",
              "      <td>-0.247245</td>\n",
              "      <td>0.091531</td>\n",
              "      <td>1</td>\n",
              "    </tr>\n",
              "    <tr>\n",
              "      <th>3</th>\n",
              "      <td>0.801544</td>\n",
              "      <td>0.758366</td>\n",
              "      <td>-0.142783</td>\n",
              "      <td>-0.560401</td>\n",
              "      <td>-0.321723</td>\n",
              "      <td>-0.030723</td>\n",
              "      <td>-0.475060</td>\n",
              "      <td>-0.410485</td>\n",
              "      <td>-0.014831</td>\n",
              "      <td>0</td>\n",
              "    </tr>\n",
              "    <tr>\n",
              "      <th>4</th>\n",
              "      <td>0.785373</td>\n",
              "      <td>0.766395</td>\n",
              "      <td>-0.184345</td>\n",
              "      <td>-0.264949</td>\n",
              "      <td>-0.075908</td>\n",
              "      <td>-0.061798</td>\n",
              "      <td>-0.465589</td>\n",
              "      <td>-0.394957</td>\n",
              "      <td>-0.040441</td>\n",
              "      <td>0</td>\n",
              "    </tr>\n",
              "    <tr>\n",
              "      <th>...</th>\n",
              "      <td>...</td>\n",
              "      <td>...</td>\n",
              "      <td>...</td>\n",
              "      <td>...</td>\n",
              "      <td>...</td>\n",
              "      <td>...</td>\n",
              "      <td>...</td>\n",
              "      <td>...</td>\n",
              "      <td>...</td>\n",
              "      <td>...</td>\n",
              "    </tr>\n",
              "    <tr>\n",
              "      <th>121937</th>\n",
              "      <td>-0.741071</td>\n",
              "      <td>-0.142835</td>\n",
              "      <td>-0.206031</td>\n",
              "      <td>-0.221765</td>\n",
              "      <td>-0.208690</td>\n",
              "      <td>-0.064514</td>\n",
              "      <td>0.466480</td>\n",
              "      <td>-0.037083</td>\n",
              "      <td>0.184341</td>\n",
              "      <td>1</td>\n",
              "    </tr>\n",
              "    <tr>\n",
              "      <th>121938</th>\n",
              "      <td>-0.748468</td>\n",
              "      <td>-0.128115</td>\n",
              "      <td>-0.276002</td>\n",
              "      <td>0.036811</td>\n",
              "      <td>-0.215015</td>\n",
              "      <td>-0.067499</td>\n",
              "      <td>0.460539</td>\n",
              "      <td>-0.033985</td>\n",
              "      <td>0.173115</td>\n",
              "      <td>1</td>\n",
              "    </tr>\n",
              "    <tr>\n",
              "      <th>121939</th>\n",
              "      <td>-0.755866</td>\n",
              "      <td>-0.113395</td>\n",
              "      <td>-0.345974</td>\n",
              "      <td>0.295387</td>\n",
              "      <td>-0.221339</td>\n",
              "      <td>-0.070484</td>\n",
              "      <td>0.454597</td>\n",
              "      <td>-0.030887</td>\n",
              "      <td>0.161889</td>\n",
              "      <td>1</td>\n",
              "    </tr>\n",
              "    <tr>\n",
              "      <th>121940</th>\n",
              "      <td>-0.787221</td>\n",
              "      <td>-0.095684</td>\n",
              "      <td>-0.395071</td>\n",
              "      <td>0.618325</td>\n",
              "      <td>0.048555</td>\n",
              "      <td>-0.095422</td>\n",
              "      <td>0.464414</td>\n",
              "      <td>-0.023312</td>\n",
              "      <td>0.137562</td>\n",
              "      <td>1</td>\n",
              "    </tr>\n",
              "    <tr>\n",
              "      <th>121941</th>\n",
              "      <td>-0.794484</td>\n",
              "      <td>-0.175934</td>\n",
              "      <td>-0.244300</td>\n",
              "      <td>-0.319208</td>\n",
              "      <td>0.746160</td>\n",
              "      <td>0.010510</td>\n",
              "      <td>0.477884</td>\n",
              "      <td>-0.395841</td>\n",
              "      <td>0.089708</td>\n",
              "      <td>1</td>\n",
              "    </tr>\n",
              "  </tbody>\n",
              "</table>\n",
              "<p>121942 rows × 10 columns</p>\n",
              "</div>"
            ],
            "text/plain": [
              "               0         1         2  ...         7         8  target\n",
              "0      -0.375288 -0.712920  0.447726  ... -0.102601  0.022463       0\n",
              "1      -0.805326 -0.294215 -0.284196  ... -0.250063  0.119304       0\n",
              "2      -0.806637 -0.295217 -0.289366  ... -0.247245  0.091531       1\n",
              "3       0.801544  0.758366 -0.142783  ... -0.410485 -0.014831       0\n",
              "4       0.785373  0.766395 -0.184345  ... -0.394957 -0.040441       0\n",
              "...          ...       ...       ...  ...       ...       ...     ...\n",
              "121937 -0.741071 -0.142835 -0.206031  ... -0.037083  0.184341       1\n",
              "121938 -0.748468 -0.128115 -0.276002  ... -0.033985  0.173115       1\n",
              "121939 -0.755866 -0.113395 -0.345974  ... -0.030887  0.161889       1\n",
              "121940 -0.787221 -0.095684 -0.395071  ... -0.023312  0.137562       1\n",
              "121941 -0.794484 -0.175934 -0.244300  ... -0.395841  0.089708       1\n",
              "\n",
              "[121942 rows x 10 columns]"
            ]
          },
          "metadata": {
            "tags": []
          },
          "execution_count": 23
        }
      ]
    },
    {
      "cell_type": "code",
      "metadata": {
        "id": "qW8aDLBMHg2c",
        "colab_type": "code",
        "outputId": "64d20089-d6fe-4f62-aabd-e5778d9a650c",
        "colab": {
          "base_uri": "https://localhost:8080/",
          "height": 359
        }
      },
      "source": [
        "final_df.corr()"
      ],
      "execution_count": 0,
      "outputs": [
        {
          "output_type": "execute_result",
          "data": {
            "text/html": [
              "<div>\n",
              "<style scoped>\n",
              "    .dataframe tbody tr th:only-of-type {\n",
              "        vertical-align: middle;\n",
              "    }\n",
              "\n",
              "    .dataframe tbody tr th {\n",
              "        vertical-align: top;\n",
              "    }\n",
              "\n",
              "    .dataframe thead th {\n",
              "        text-align: right;\n",
              "    }\n",
              "</style>\n",
              "<table border=\"1\" class=\"dataframe\">\n",
              "  <thead>\n",
              "    <tr style=\"text-align: right;\">\n",
              "      <th></th>\n",
              "      <th>0</th>\n",
              "      <th>1</th>\n",
              "      <th>2</th>\n",
              "      <th>3</th>\n",
              "      <th>4</th>\n",
              "      <th>5</th>\n",
              "      <th>6</th>\n",
              "      <th>7</th>\n",
              "      <th>8</th>\n",
              "      <th>target</th>\n",
              "    </tr>\n",
              "  </thead>\n",
              "  <tbody>\n",
              "    <tr>\n",
              "      <th>0</th>\n",
              "      <td>1.000000e+00</td>\n",
              "      <td>1.180200e-15</td>\n",
              "      <td>8.689308e-16</td>\n",
              "      <td>4.576188e-18</td>\n",
              "      <td>-1.873481e-16</td>\n",
              "      <td>3.367013e-16</td>\n",
              "      <td>-7.897195e-17</td>\n",
              "      <td>1.301521e-15</td>\n",
              "      <td>1.331106e-16</td>\n",
              "      <td>-0.126173</td>\n",
              "    </tr>\n",
              "    <tr>\n",
              "      <th>1</th>\n",
              "      <td>1.180200e-15</td>\n",
              "      <td>1.000000e+00</td>\n",
              "      <td>-4.638895e-16</td>\n",
              "      <td>-2.985297e-16</td>\n",
              "      <td>1.859884e-17</td>\n",
              "      <td>-2.683176e-16</td>\n",
              "      <td>1.428395e-16</td>\n",
              "      <td>-3.305062e-16</td>\n",
              "      <td>9.726733e-17</td>\n",
              "      <td>-0.074500</td>\n",
              "    </tr>\n",
              "    <tr>\n",
              "      <th>2</th>\n",
              "      <td>8.689308e-16</td>\n",
              "      <td>-4.638895e-16</td>\n",
              "      <td>1.000000e+00</td>\n",
              "      <td>7.738835e-16</td>\n",
              "      <td>-1.550456e-16</td>\n",
              "      <td>-2.135601e-16</td>\n",
              "      <td>-1.467286e-16</td>\n",
              "      <td>-1.555743e-15</td>\n",
              "      <td>-2.128321e-16</td>\n",
              "      <td>-0.332221</td>\n",
              "    </tr>\n",
              "    <tr>\n",
              "      <th>3</th>\n",
              "      <td>4.576188e-18</td>\n",
              "      <td>-2.985297e-16</td>\n",
              "      <td>7.738835e-16</td>\n",
              "      <td>1.000000e+00</td>\n",
              "      <td>3.562843e-16</td>\n",
              "      <td>5.750773e-16</td>\n",
              "      <td>-6.169329e-17</td>\n",
              "      <td>-3.299626e-16</td>\n",
              "      <td>8.331957e-17</td>\n",
              "      <td>-0.079739</td>\n",
              "    </tr>\n",
              "    <tr>\n",
              "      <th>4</th>\n",
              "      <td>-1.873481e-16</td>\n",
              "      <td>1.859884e-17</td>\n",
              "      <td>-1.550456e-16</td>\n",
              "      <td>3.562843e-16</td>\n",
              "      <td>1.000000e+00</td>\n",
              "      <td>-4.340805e-15</td>\n",
              "      <td>-3.366697e-16</td>\n",
              "      <td>1.293474e-17</td>\n",
              "      <td>-7.657009e-17</td>\n",
              "      <td>-0.011480</td>\n",
              "    </tr>\n",
              "    <tr>\n",
              "      <th>5</th>\n",
              "      <td>3.367013e-16</td>\n",
              "      <td>-2.683176e-16</td>\n",
              "      <td>-2.135601e-16</td>\n",
              "      <td>5.750773e-16</td>\n",
              "      <td>-4.340805e-15</td>\n",
              "      <td>1.000000e+00</td>\n",
              "      <td>-5.326279e-16</td>\n",
              "      <td>-3.953706e-16</td>\n",
              "      <td>-1.367616e-16</td>\n",
              "      <td>-0.297695</td>\n",
              "    </tr>\n",
              "    <tr>\n",
              "      <th>6</th>\n",
              "      <td>-7.897195e-17</td>\n",
              "      <td>1.428395e-16</td>\n",
              "      <td>-1.467286e-16</td>\n",
              "      <td>-6.169329e-17</td>\n",
              "      <td>-3.366697e-16</td>\n",
              "      <td>-5.326279e-16</td>\n",
              "      <td>1.000000e+00</td>\n",
              "      <td>-6.990601e-16</td>\n",
              "      <td>9.041271e-17</td>\n",
              "      <td>-0.065037</td>\n",
              "    </tr>\n",
              "    <tr>\n",
              "      <th>7</th>\n",
              "      <td>1.301521e-15</td>\n",
              "      <td>-3.305062e-16</td>\n",
              "      <td>-1.555743e-15</td>\n",
              "      <td>-3.299626e-16</td>\n",
              "      <td>1.293474e-17</td>\n",
              "      <td>-3.953706e-16</td>\n",
              "      <td>-6.990601e-16</td>\n",
              "      <td>1.000000e+00</td>\n",
              "      <td>-2.860082e-16</td>\n",
              "      <td>0.064389</td>\n",
              "    </tr>\n",
              "    <tr>\n",
              "      <th>8</th>\n",
              "      <td>1.331106e-16</td>\n",
              "      <td>9.726733e-17</td>\n",
              "      <td>-2.128321e-16</td>\n",
              "      <td>8.331957e-17</td>\n",
              "      <td>-7.657009e-17</td>\n",
              "      <td>-1.367616e-16</td>\n",
              "      <td>9.041271e-17</td>\n",
              "      <td>-2.860082e-16</td>\n",
              "      <td>1.000000e+00</td>\n",
              "      <td>-0.326012</td>\n",
              "    </tr>\n",
              "    <tr>\n",
              "      <th>target</th>\n",
              "      <td>-1.261732e-01</td>\n",
              "      <td>-7.449964e-02</td>\n",
              "      <td>-3.322212e-01</td>\n",
              "      <td>-7.973894e-02</td>\n",
              "      <td>-1.148048e-02</td>\n",
              "      <td>-2.976948e-01</td>\n",
              "      <td>-6.503704e-02</td>\n",
              "      <td>6.438911e-02</td>\n",
              "      <td>-3.260125e-01</td>\n",
              "      <td>1.000000</td>\n",
              "    </tr>\n",
              "  </tbody>\n",
              "</table>\n",
              "</div>"
            ],
            "text/plain": [
              "                   0             1  ...             8    target\n",
              "0       1.000000e+00  1.180200e-15  ...  1.331106e-16 -0.126173\n",
              "1       1.180200e-15  1.000000e+00  ...  9.726733e-17 -0.074500\n",
              "2       8.689308e-16 -4.638895e-16  ... -2.128321e-16 -0.332221\n",
              "3       4.576188e-18 -2.985297e-16  ...  8.331957e-17 -0.079739\n",
              "4      -1.873481e-16  1.859884e-17  ... -7.657009e-17 -0.011480\n",
              "5       3.367013e-16 -2.683176e-16  ... -1.367616e-16 -0.297695\n",
              "6      -7.897195e-17  1.428395e-16  ...  9.041271e-17 -0.065037\n",
              "7       1.301521e-15 -3.305062e-16  ... -2.860082e-16  0.064389\n",
              "8       1.331106e-16  9.726733e-17  ...  1.000000e+00 -0.326012\n",
              "target -1.261732e-01 -7.449964e-02  ... -3.260125e-01  1.000000\n",
              "\n",
              "[10 rows x 10 columns]"
            ]
          },
          "metadata": {
            "tags": []
          },
          "execution_count": 24
        }
      ]
    },
    {
      "cell_type": "code",
      "metadata": {
        "id": "UDBiKEwlHg2d",
        "colab_type": "code",
        "outputId": "d45dbd2d-4a3c-46af-b585-500eeed1faf7",
        "colab": {
          "base_uri": "https://localhost:8080/",
          "height": 523
        }
      },
      "source": [
        "fig = plt.figure(figsize = (8,8))\n",
        "ax = fig.add_subplot(1,1,1) \n",
        "ax.set_xlabel('Principal Component 1', fontsize = 15)\n",
        "ax.set_ylabel('Principal Component 2', fontsize = 15)\n",
        "ax.set_title('2D PCA', fontsize = 20)\n",
        "targets = [1, 0]\n",
        "colors = ['r', 'g']\n",
        "for target, color in zip(targets,colors):\n",
        "    indicesToKeep = final_df['target'] == target\n",
        "    ax.scatter(final_df.loc[indicesToKeep, 0]\n",
        "               , final_df.loc[indicesToKeep, 1]\n",
        "               , c = color\n",
        "               , s = 50)\n",
        "ax.legend(targets)\n",
        "ax.grid()"
      ],
      "execution_count": 0,
      "outputs": [
        {
          "output_type": "display_data",
          "data": {
            "image/png": "[encoded data removed]",
            "text/plain": [
              "<Figure size 576x576 with 1 Axes>"
            ]
          },
          "metadata": {
            "tags": [],
            "needs_background": "light"
          }
        }
      ]
    },
    {
      "cell_type": "code",
      "metadata": {
        "id": "wyESuKVxHg2e",
        "colab_type": "code",
        "colab": {}
      },
      "source": [
        "train_Y = df['target']"
      ],
      "execution_count": 0,
      "outputs": []
    },
    {
      "cell_type": "code",
      "metadata": {
        "id": "1ko6N6klHg2f",
        "colab_type": "code",
        "outputId": "9dbda019-6451-4fcf-f059-75c46f8c07e7",
        "colab": {
          "base_uri": "https://localhost:8080/",
          "height": 71
        }
      },
      "source": [
        "train_Y.value_counts()"
      ],
      "execution_count": 0,
      "outputs": [
        {
          "output_type": "execute_result",
          "data": {
            "text/plain": [
              "0    71841\n",
              "1    50101\n",
              "Name: target, dtype: int64"
            ]
          },
          "metadata": {
            "tags": []
          },
          "execution_count": 27
        }
      ]
    },
    {
      "cell_type": "code",
      "metadata": {
        "id": "988g8dtbHg2g",
        "colab_type": "code",
        "colab": {}
      },
      "source": [
        "seed = 7\n",
        "np.random.seed(seed)"
      ],
      "execution_count": 0,
      "outputs": []
    },
    {
      "cell_type": "markdown",
      "metadata": {
        "id": "2NUEiEtVHg2h",
        "colab_type": "text"
      },
      "source": [
        "#### machine learning models"
      ]
    },
    {
      "cell_type": "code",
      "metadata": {
        "id": "wZCWkSvsHg2h",
        "colab_type": "code",
        "colab": {}
      },
      "source": [
        "from sklearn.metrics import classification_report\n",
        "from sklearn.metrics import confusion_matrix\n",
        "from sklearn.model_selection import train_test_split\n",
        "import statsmodels.api as sm\n",
        "from sklearn import metrics\n",
        "\n",
        "from sklearn.metrics import roc_auc_score\n",
        "from sklearn.metrics import roc_curve\n",
        "from sklearn.metrics import accuracy_score"
      ],
      "execution_count": 0,
      "outputs": []
    },
    {
      "cell_type": "code",
      "metadata": {
        "id": "SnHyPPbEHg2i",
        "colab_type": "code",
        "colab": {}
      },
      "source": [
        "X_train, X_test, y_train, y_test = train_test_split(train_X, train_Y, test_size=0.32, random_state=seed, shuffle=True)"
      ],
      "execution_count": 0,
      "outputs": []
    },
    {
      "cell_type": "code",
      "metadata": {
        "id": "qOVIBhifHg2j",
        "colab_type": "code",
        "colab": {}
      },
      "source": [
        "#logistic regression\n",
        "from sklearn.linear_model import LogisticRegression"
      ],
      "execution_count": 0,
      "outputs": []
    },
    {
      "cell_type": "code",
      "metadata": {
        "id": "JI1m6gEDHg2k",
        "colab_type": "code",
        "outputId": "c30975fe-3635-4c62-9760-0b82af174f27",
        "colab": {
          "base_uri": "https://localhost:8080/",
          "height": 665
        }
      },
      "source": [
        "logit_model=sm.Logit(train_Y,train_X)\n",
        "result=logit_model.fit()\n",
        "print(result.summary2())"
      ],
      "execution_count": 0,
      "outputs": [
        {
          "output_type": "stream",
          "text": [
            "Optimization terminated successfully.\n",
            "         Current function value: 0.417289\n",
            "         Iterations 10\n",
            "                          Results: Logit\n",
            "==================================================================\n",
            "Model:              Logit            Pseudo R-squared: 0.384      \n",
            "Dependent Variable: target           AIC:              101805.9974\n",
            "Date:               2020-05-04 14:50 BIC:              101980.8008\n",
            "No. Observations:   121942           Log-Likelihood:   -50885.    \n",
            "Df Model:           17               LL-Null:          -82575.    \n",
            "Df Residuals:       121924           LLR p-value:      0.0000     \n",
            "Converged:          1.0000           Scale:            1.0000     \n",
            "No. Iterations:     10.0000                                       \n",
            "--------------------------------------------------------------------\n",
            "        Coef.     Std.Err.      z       P>|z|     [0.025     0.975] \n",
            "--------------------------------------------------------------------\n",
            "0        2.6556     0.0498    53.3226   0.0000     2.5580     2.7532\n",
            "1        0.9402     0.1205     7.8002   0.0000     0.7039     1.1764\n",
            "2       -1.1341     0.0565   -20.0868   0.0000    -1.2448    -1.0235\n",
            "3        0.4203     0.0390    10.7848   0.0000     0.3440     0.4967\n",
            "4       -1.1013     0.0426   -25.8291   0.0000    -1.1848    -1.0177\n",
            "5       -1.3609     0.1200   -11.3413   0.0000    -1.5961    -1.1257\n",
            "6       -0.0500     0.1253    -0.3991   0.6898    -0.2957     0.1956\n",
            "7        5.6770     0.0757    74.9792   0.0000     5.5286     5.8254\n",
            "8      -19.3770     0.6341   -30.5576   0.0000   -20.6198   -18.1341\n",
            "9        0.2438     0.0736     3.3126   0.0009     0.0996     0.3881\n",
            "10       0.6325     0.1122     5.6372   0.0000     0.4126     0.8524\n",
            "11      -1.1293     0.0302   -37.4125   0.0000    -1.1884    -1.0701\n",
            "12      -2.9768     0.1532   -19.4271   0.0000    -3.2772    -2.6765\n",
            "13      11.3716     0.3857    29.4855   0.0000    10.6157    12.1275\n",
            "14      -1.3834     0.0589   -23.5054   0.0000    -1.4988    -1.2681\n",
            "15       0.8527     0.0828    10.3001   0.0000     0.6905     1.0150\n",
            "16      -0.2218     0.1017    -2.1804   0.0292    -0.4211    -0.0224\n",
            "17      -5.9285     0.0675   -87.8291   0.0000    -6.0608    -5.7962\n",
            "==================================================================\n",
            "\n"
          ],
          "name": "stdout"
        }
      ]
    },
    {
      "cell_type": "code",
      "metadata": {
        "id": "OirCfvvpHg2l",
        "colab_type": "code",
        "outputId": "a48a2034-82ac-4512-ce1e-e31c99a0dc12",
        "colab": {
          "base_uri": "https://localhost:8080/",
          "height": 107
        }
      },
      "source": [
        "logreg = LogisticRegression(C=1,penalty='l2',random_state=42, max_iter=500)\n",
        "logreg.fit(X_train, y_train)"
      ],
      "execution_count": 0,
      "outputs": [
        {
          "output_type": "execute_result",
          "data": {
            "text/plain": [
              "LogisticRegression(C=1, class_weight=None, dual=False, fit_intercept=True,\n",
              "                   intercept_scaling=1, l1_ratio=None, max_iter=500,\n",
              "                   multi_class='auto', n_jobs=None, penalty='l2',\n",
              "                   random_state=42, solver='lbfgs', tol=0.0001, verbose=0,\n",
              "                   warm_start=False)"
            ]
          },
          "metadata": {
            "tags": []
          },
          "execution_count": 33
        }
      ]
    },
    {
      "cell_type": "code",
      "metadata": {
        "id": "at6ygRxsHg2m",
        "colab_type": "code",
        "outputId": "16bcc347-451c-44e4-f38d-2466b802763b",
        "colab": {
          "base_uri": "https://localhost:8080/",
          "height": 53
        }
      },
      "source": [
        "y_pred = logreg.predict(X_test)\n",
        "logreg_score_train = logreg.score(X_train,y_train)\n",
        "print(\"Train Prediction Score\",logreg_score_train*100)\n",
        "logreg_score_test = accuracy_score(y_test,y_pred)\n",
        "print(\"Test Prediction \",logreg_score_test*100)"
      ],
      "execution_count": 0,
      "outputs": [
        {
          "output_type": "stream",
          "text": [
            "Train Prediction Score 81.10347322720695\n",
            "Test Prediction  81.20547383527241\n"
          ],
          "name": "stdout"
        }
      ]
    },
    {
      "cell_type": "code",
      "metadata": {
        "id": "PNUxef5yHg2n",
        "colab_type": "code",
        "outputId": "05177958-2066-4530-a27d-6c65820eb97e",
        "colab": {
          "base_uri": "https://localhost:8080/",
          "height": 53
        }
      },
      "source": [
        "cm = confusion_matrix(y_test, y_pred)\n",
        "print(cm)"
      ],
      "execution_count": 0,
      "outputs": [
        {
          "output_type": "stream",
          "text": [
            "[[18827  4221]\n",
            " [ 3113 12861]]\n"
          ],
          "name": "stdout"
        }
      ]
    },
    {
      "cell_type": "code",
      "metadata": {
        "id": "o6bsxrmdHg2o",
        "colab_type": "code",
        "outputId": "bd5b71b9-4a3b-4b78-cbcd-6e2d45f6a6d5",
        "colab": {
          "base_uri": "https://localhost:8080/",
          "height": 179
        }
      },
      "source": [
        "print(classification_report(y_test, y_pred))"
      ],
      "execution_count": 0,
      "outputs": [
        {
          "output_type": "stream",
          "text": [
            "              precision    recall  f1-score   support\n",
            "\n",
            "           0       0.86      0.82      0.84     23048\n",
            "           1       0.75      0.81      0.78     15974\n",
            "\n",
            "    accuracy                           0.81     39022\n",
            "   macro avg       0.81      0.81      0.81     39022\n",
            "weighted avg       0.82      0.81      0.81     39022\n",
            "\n"
          ],
          "name": "stdout"
        }
      ]
    },
    {
      "cell_type": "code",
      "metadata": {
        "id": "rVyYBLCBHg2p",
        "colab_type": "code",
        "outputId": "c72869eb-0eb9-4c82-9387-24d790e10f17",
        "colab": {
          "base_uri": "https://localhost:8080/",
          "height": 295
        }
      },
      "source": [
        "logit_roc_auc = roc_auc_score(y_test, logreg.predict(X_test))\n",
        "fpr, tpr, thresholds = roc_curve(y_test, logreg.predict_proba(X_test)[:,1])\n",
        "plt.figure()\n",
        "plt.plot(fpr, tpr, label='Logistic Regression (area = %0.2f)' % logit_roc_auc)\n",
        "plt.plot([0, 1], [0, 1],'r--')\n",
        "plt.xlim([0.0, 1.0])\n",
        "plt.ylim([0.0, 1.05])\n",
        "plt.xlabel('False Positive Rate')\n",
        "plt.ylabel('True Positive Rate')\n",
        "plt.title('Receiver operating characteristic')\n",
        "plt.legend(loc=\"lower right\")\n",
        "plt.savefig('LOG_ROC')\n",
        "plt.show()"
      ],
      "execution_count": 0,
      "outputs": [
        {
          "output_type": "display_data",
          "data": {
            "image/png": "[encoded data removed]",
            "text/plain": [
              "<Figure size 432x288 with 1 Axes>"
            ]
          },
          "metadata": {
            "tags": [],
            "needs_background": "light"
          }
        }
      ]
    },
    {
      "cell_type": "code",
      "metadata": {
        "id": "98SaSpy9Hg2q",
        "colab_type": "code",
        "outputId": "1b873bce-ea63-4f7d-aa23-5bcf253616ee",
        "colab": {
          "base_uri": "https://localhost:8080/",
          "height": 71
        }
      },
      "source": [
        "#KNeighborsClassifier\n",
        "from sklearn.neighbors import KNeighborsClassifier\n",
        "knn = KNeighborsClassifier()\n",
        "knn.fit(X_train,y_train)"
      ],
      "execution_count": 0,
      "outputs": [
        {
          "output_type": "execute_result",
          "data": {
            "text/plain": [
              "KNeighborsClassifier(algorithm='auto', leaf_size=30, metric='minkowski',\n",
              "                     metric_params=None, n_jobs=None, n_neighbors=5, p=2,\n",
              "                     weights='uniform')"
            ]
          },
          "metadata": {
            "tags": []
          },
          "execution_count": 41
        }
      ]
    },
    {
      "cell_type": "code",
      "metadata": {
        "id": "sNU6OT-VHg2r",
        "colab_type": "code",
        "colab": {}
      },
      "source": [
        "y_pred_knn= knn.predict(X_test)"
      ],
      "execution_count": 0,
      "outputs": []
    },
    {
      "cell_type": "code",
      "metadata": {
        "id": "PfFcDeasHg2s",
        "colab_type": "code",
        "outputId": "56d84f81-7b7b-4f05-b300-22ab70c37c27",
        "colab": {
          "base_uri": "https://localhost:8080/",
          "height": 53
        }
      },
      "source": [
        "knn_score_train = knn.score(X_train,y_train)\n",
        "print(\"Train Prediction Score\",knn_score_train*100)\n",
        "knn_score_test = accuracy_score(y_test,y_pred_knn)\n",
        "print(\"Test Prediction \",knn_score_test*100)"
      ],
      "execution_count": 0,
      "outputs": [
        {
          "output_type": "stream",
          "text": [
            "Train Prediction Score 90.7332368547998\n",
            "Test Prediction  86.83563118240993\n"
          ],
          "name": "stdout"
        }
      ]
    },
    {
      "cell_type": "code",
      "metadata": {
        "id": "Akto0WBgHg2t",
        "colab_type": "code",
        "outputId": "e777b39d-0ee7-4412-a6b1-9fd2e1a4c677",
        "colab": {
          "base_uri": "https://localhost:8080/",
          "height": 53
        }
      },
      "source": [
        "cm = confusion_matrix(y_test, y_pred_knn)\n",
        "print(cm)"
      ],
      "execution_count": 0,
      "outputs": [
        {
          "output_type": "stream",
          "text": [
            "[[19685  3363]\n",
            " [ 1774 14200]]\n"
          ],
          "name": "stdout"
        }
      ]
    },
    {
      "cell_type": "code",
      "metadata": {
        "id": "bTAJFE6qHg2u",
        "colab_type": "code",
        "outputId": "150300be-bea0-419f-a60c-ee49c2ee3bd2",
        "colab": {
          "base_uri": "https://localhost:8080/",
          "height": 179
        }
      },
      "source": [
        "print(classification_report(y_test,y_pred_knn))"
      ],
      "execution_count": 0,
      "outputs": [
        {
          "output_type": "stream",
          "text": [
            "              precision    recall  f1-score   support\n",
            "\n",
            "           0       0.92      0.85      0.88     23048\n",
            "           1       0.81      0.89      0.85     15974\n",
            "\n",
            "    accuracy                           0.87     39022\n",
            "   macro avg       0.86      0.87      0.87     39022\n",
            "weighted avg       0.87      0.87      0.87     39022\n",
            "\n"
          ],
          "name": "stdout"
        }
      ]
    },
    {
      "cell_type": "code",
      "metadata": {
        "id": "FRK80iupHg2v",
        "colab_type": "code",
        "outputId": "d75060c2-c28f-4ab0-f744-7a82b2d8ebde",
        "colab": {
          "base_uri": "https://localhost:8080/",
          "height": 295
        }
      },
      "source": [
        "knn_roc_auc = roc_auc_score(y_test, y_pred_knn)\n",
        "fpr, tpr, thresholds = roc_curve(y_test, knn.predict_proba(X_test)[:,1])\n",
        "plt.figure()\n",
        "plt.plot(fpr, tpr, label='KNeighbors (area = %0.2f)' % knn_roc_auc)\n",
        "plt.plot([0, 1], [0, 1],'r--')\n",
        "plt.xlim([0.0, 1.0])\n",
        "plt.ylim([0.0, 1.05])\n",
        "plt.xlabel('False Positive Rate')\n",
        "plt.ylabel('True Positive Rate')\n",
        "plt.title('Receiver operating characteristic')\n",
        "plt.legend(loc=\"lower right\")\n",
        "plt.savefig('KNN_ROC')\n",
        "plt.show()"
      ],
      "execution_count": 0,
      "outputs": [
        {
          "output_type": "display_data",
          "data": {
            "image/png": "[encoded data removed]",
            "text/plain": [
              "<Figure size 432x288 with 1 Axes>"
            ]
          },
          "metadata": {
            "tags": [],
            "needs_background": "light"
          }
        }
      ]
    },
    {
      "cell_type": "code",
      "metadata": {
        "id": "DHWdcLRBHg2w",
        "colab_type": "code",
        "colab": {}
      },
      "source": [
        "#naive_bayes\n",
        "from sklearn.naive_bayes import GaussianNB"
      ],
      "execution_count": 0,
      "outputs": []
    },
    {
      "cell_type": "code",
      "metadata": {
        "id": "nnr0vB5oHg2w",
        "colab_type": "code",
        "outputId": "f24cc77f-b092-49c3-80c7-c97acd594ae7",
        "colab": {
          "base_uri": "https://localhost:8080/",
          "height": 35
        }
      },
      "source": [
        "nb = GaussianNB()\n",
        "nb.fit(X_train,y_train)"
      ],
      "execution_count": 0,
      "outputs": [
        {
          "output_type": "execute_result",
          "data": {
            "text/plain": [
              "GaussianNB(priors=None, var_smoothing=1e-09)"
            ]
          },
          "metadata": {
            "tags": []
          },
          "execution_count": 48
        }
      ]
    },
    {
      "cell_type": "code",
      "metadata": {
        "id": "w6CoNXtdHg2x",
        "colab_type": "code",
        "colab": {}
      },
      "source": [
        "y_pred_nb= nb.predict(X_test)"
      ],
      "execution_count": 0,
      "outputs": []
    },
    {
      "cell_type": "code",
      "metadata": {
        "id": "5uPZk56oHg2y",
        "colab_type": "code",
        "outputId": "9812530a-6101-476f-c3a2-78a9c146f321",
        "colab": {
          "base_uri": "https://localhost:8080/",
          "height": 53
        }
      },
      "source": [
        "nb_score_train = nb.score(X_train,y_train)\n",
        "print(\"Train Prediction Score\",nb_score_train*100)\n",
        "nb_score_test = accuracy_score(y_test,y_pred_nb)\n",
        "print(\"Test Prediction Score\",nb_score_test*100)"
      ],
      "execution_count": 0,
      "outputs": [
        {
          "output_type": "stream",
          "text": [
            "Train Prediction Score 69.05451037144236\n",
            "Test Prediction Score 69.15073548254831\n"
          ],
          "name": "stdout"
        }
      ]
    },
    {
      "cell_type": "code",
      "metadata": {
        "id": "tsF6bspQHg2y",
        "colab_type": "code",
        "outputId": "c348347e-3223-4c0d-d10c-36b44df7e152",
        "colab": {
          "base_uri": "https://localhost:8080/",
          "height": 53
        }
      },
      "source": [
        "cm = confusion_matrix(y_test, y_pred_nb)\n",
        "print(cm)"
      ],
      "execution_count": 0,
      "outputs": [
        {
          "output_type": "stream",
          "text": [
            "[[14070  8978]\n",
            " [ 3060 12914]]\n"
          ],
          "name": "stdout"
        }
      ]
    },
    {
      "cell_type": "code",
      "metadata": {
        "id": "lJJSmkc1Hg2z",
        "colab_type": "code",
        "outputId": "1479611c-d74a-446a-e461-753d75ebd2f6",
        "colab": {
          "base_uri": "https://localhost:8080/",
          "height": 179
        }
      },
      "source": [
        "print(classification_report(y_test,y_pred_nb))"
      ],
      "execution_count": 0,
      "outputs": [
        {
          "output_type": "stream",
          "text": [
            "              precision    recall  f1-score   support\n",
            "\n",
            "           0       0.82      0.61      0.70     23048\n",
            "           1       0.59      0.81      0.68     15974\n",
            "\n",
            "    accuracy                           0.69     39022\n",
            "   macro avg       0.71      0.71      0.69     39022\n",
            "weighted avg       0.73      0.69      0.69     39022\n",
            "\n"
          ],
          "name": "stdout"
        }
      ]
    },
    {
      "cell_type": "code",
      "metadata": {
        "id": "DcIyGbV_Hg20",
        "colab_type": "code",
        "outputId": "92c709f8-1b17-4f22-c62a-217168b02370",
        "colab": {
          "base_uri": "https://localhost:8080/",
          "height": 35
        }
      },
      "source": [
        "#neuralnetwork\n",
        "from keras.models import Sequential\n",
        "from keras.layers import Dense\n",
        "from keras.utils import to_categorical\n",
        "from keras.callbacks import EarlyStopping\n",
        "from keras.layers import Dense\n",
        "from keras.layers import BatchNormalization\n",
        "from keras.optimizers import SGD"
      ],
      "execution_count": 0,
      "outputs": [
        {
          "output_type": "stream",
          "text": [
            "Using TensorFlow backend.\n"
          ],
          "name": "stderr"
        }
      ]
    },
    {
      "cell_type": "code",
      "metadata": {
        "id": "9yzAncLJHg21",
        "colab_type": "code",
        "outputId": "f79f28b8-c6bf-4e4e-c6b8-ca06e9d5c2c0",
        "colab": {
          "base_uri": "https://localhost:8080/",
          "height": 413
        }
      },
      "source": [
        "#2layer\n",
        "model = Sequential()\n",
        "n_cols = X_train.shape[1]\n",
        "n_cols\n",
        "model.add(Dense(2, activation='relu', input_shape=(n_cols,)))\n",
        "model.add(Dense(1, activation='sigmoid'))\n",
        "model.compile(optimizer='adam', loss='binary_crossentropy', metrics=['accuracy'])\n",
        "early_stopping_monitor = EarlyStopping(patience=20)\n",
        "model.fit(X_train, y_train, epochs=10, validation_split=0.2 )"
      ],
      "execution_count": 0,
      "outputs": [
        {
          "output_type": "stream",
          "text": [
            "Train on 66336 samples, validate on 16584 samples\n",
            "Epoch 1/10\n",
            "66336/66336 [==============================] - 3s 43us/step - loss: 0.5471 - accuracy: 0.7202 - val_loss: 0.4570 - val_accuracy: 0.7921\n",
            "Epoch 2/10\n",
            "66336/66336 [==============================] - 3s 39us/step - loss: 0.4474 - accuracy: 0.7982 - val_loss: 0.4384 - val_accuracy: 0.8056\n",
            "Epoch 3/10\n",
            "66336/66336 [==============================] - 3s 38us/step - loss: 0.4345 - accuracy: 0.8066 - val_loss: 0.4289 - val_accuracy: 0.8071\n",
            "Epoch 4/10\n",
            "66336/66336 [==============================] - 3s 40us/step - loss: 0.4281 - accuracy: 0.8091 - val_loss: 0.4246 - val_accuracy: 0.8105\n",
            "Epoch 5/10\n",
            "66336/66336 [==============================] - 3s 41us/step - loss: 0.4250 - accuracy: 0.8113 - val_loss: 0.4225 - val_accuracy: 0.8072\n",
            "Epoch 6/10\n",
            "66336/66336 [==============================] - 2s 37us/step - loss: 0.4234 - accuracy: 0.8104 - val_loss: 0.4211 - val_accuracy: 0.8109\n",
            "Epoch 7/10\n",
            "66336/66336 [==============================] - 3s 39us/step - loss: 0.4228 - accuracy: 0.8106 - val_loss: 0.4202 - val_accuracy: 0.8113\n",
            "Epoch 8/10\n",
            "66336/66336 [==============================] - 2s 37us/step - loss: 0.4223 - accuracy: 0.8099 - val_loss: 0.4198 - val_accuracy: 0.8099\n",
            "Epoch 9/10\n",
            "66336/66336 [==============================] - 3s 38us/step - loss: 0.4220 - accuracy: 0.8107 - val_loss: 0.4194 - val_accuracy: 0.8093\n",
            "Epoch 10/10\n",
            "66336/66336 [==============================] - 3s 39us/step - loss: 0.4217 - accuracy: 0.8109 - val_loss: 0.4195 - val_accuracy: 0.8085\n"
          ],
          "name": "stdout"
        },
        {
          "output_type": "execute_result",
          "data": {
            "text/plain": [
              "<keras.callbacks.callbacks.History at 0x7f5b863c5e10>"
            ]
          },
          "metadata": {
            "tags": []
          },
          "execution_count": 54
        }
      ]
    },
    {
      "cell_type": "code",
      "metadata": {
        "id": "UxhJrFc0Hg22",
        "colab_type": "code",
        "outputId": "37d0a159-1df4-4585-f35b-294128b4ed7f",
        "colab": {
          "base_uri": "https://localhost:8080/",
          "height": 35
        }
      },
      "source": [
        "scores = model.evaluate(X_test, y_test, verbose=0)\n",
        "print(\"%s: %.2f%%\" % (model.metrics_names[1], scores[1]*100))"
      ],
      "execution_count": 0,
      "outputs": [
        {
          "output_type": "stream",
          "text": [
            "accuracy: 81.24%\n"
          ],
          "name": "stdout"
        }
      ]
    },
    {
      "cell_type": "code",
      "metadata": {
        "id": "pqHxJj-2Hg23",
        "colab_type": "code",
        "outputId": "9c877d07-477d-4c5e-e43a-0efa7b74f579",
        "colab": {
          "base_uri": "https://localhost:8080/",
          "height": 413
        }
      },
      "source": [
        "#3layer\n",
        "model = Sequential()\n",
        "n_cols = X_train.shape[1]\n",
        "n_cols\n",
        "model.add(Dense(4, activation='relu', input_shape=(n_cols,)))\n",
        "model.add(Dense(2, activation='relu'))\n",
        "model.add(Dense(1, activation='sigmoid'))\n",
        "model.compile(optimizer='sgd', loss='mean_squared_error', metrics=['accuracy'])\n",
        "early_stopping_monitor = EarlyStopping(patience=20)\n",
        "model.fit(X_train, y_train, epochs=10, validation_split=0.2 )"
      ],
      "execution_count": 0,
      "outputs": [
        {
          "output_type": "stream",
          "text": [
            "Train on 66336 samples, validate on 16584 samples\n",
            "Epoch 1/10\n",
            "66336/66336 [==============================] - 2s 36us/step - loss: 0.2415 - accuracy: 0.5843 - val_loss: 0.2318 - val_accuracy: 0.5981\n",
            "Epoch 2/10\n",
            "66336/66336 [==============================] - 2s 36us/step - loss: 0.2125 - accuracy: 0.7104 - val_loss: 0.1890 - val_accuracy: 0.7749\n",
            "Epoch 3/10\n",
            "66336/66336 [==============================] - 2s 36us/step - loss: 0.1721 - accuracy: 0.7789 - val_loss: 0.1588 - val_accuracy: 0.7833\n",
            "Epoch 4/10\n",
            "66336/66336 [==============================] - 2s 36us/step - loss: 0.1524 - accuracy: 0.7950 - val_loss: 0.1472 - val_accuracy: 0.8019\n",
            "Epoch 5/10\n",
            "66336/66336 [==============================] - 2s 36us/step - loss: 0.1451 - accuracy: 0.8056 - val_loss: 0.1430 - val_accuracy: 0.8096\n",
            "Epoch 6/10\n",
            "66336/66336 [==============================] - 3s 38us/step - loss: 0.1421 - accuracy: 0.8078 - val_loss: 0.1409 - val_accuracy: 0.8087\n",
            "Epoch 7/10\n",
            "66336/66336 [==============================] - 3s 39us/step - loss: 0.1404 - accuracy: 0.8097 - val_loss: 0.1394 - val_accuracy: 0.8095\n",
            "Epoch 8/10\n",
            "66336/66336 [==============================] - 3s 40us/step - loss: 0.1394 - accuracy: 0.8109 - val_loss: 0.1384 - val_accuracy: 0.8113\n",
            "Epoch 9/10\n",
            "66336/66336 [==============================] - 3s 38us/step - loss: 0.1385 - accuracy: 0.8117 - val_loss: 0.1379 - val_accuracy: 0.8136\n",
            "Epoch 10/10\n",
            "66336/66336 [==============================] - 2s 36us/step - loss: 0.1379 - accuracy: 0.8121 - val_loss: 0.1370 - val_accuracy: 0.8136\n"
          ],
          "name": "stdout"
        },
        {
          "output_type": "execute_result",
          "data": {
            "text/plain": [
              "<keras.callbacks.callbacks.History at 0x7f5b8630bb70>"
            ]
          },
          "metadata": {
            "tags": []
          },
          "execution_count": 56
        }
      ]
    },
    {
      "cell_type": "code",
      "metadata": {
        "id": "v-9lfU-CHg24",
        "colab_type": "code",
        "outputId": "29938df9-c049-4bd8-8ed8-dd59a4bbc396",
        "colab": {
          "base_uri": "https://localhost:8080/",
          "height": 35
        }
      },
      "source": [
        "scores = model.evaluate(X_test, y_test, verbose=0)\n",
        "print(\"%s: %.2f%%\" % (model.metrics_names[1], scores[1]*100))"
      ],
      "execution_count": 0,
      "outputs": [
        {
          "output_type": "stream",
          "text": [
            "accuracy: 81.48%\n"
          ],
          "name": "stdout"
        }
      ]
    },
    {
      "cell_type": "code",
      "metadata": {
        "id": "Ot99E9tiHg24",
        "colab_type": "code",
        "outputId": "fec2812b-9fd8-433b-e832-aa5526bdccbb",
        "colab": {
          "base_uri": "https://localhost:8080/",
          "height": 413
        }
      },
      "source": [
        "#4layer\n",
        "model = Sequential()\n",
        "n_cols = X_train.shape[1]\n",
        "n_cols\n",
        "model.add(Dense(8, activation='relu', input_shape=(n_cols,)))\n",
        "model.add(Dense(4, activation='relu'))\n",
        "model.add(Dense(2, activation='relu'))\n",
        "model.add(Dense(1, activation='sigmoid'))\n",
        "model.compile(optimizer='sgd', loss='mean_squared_error', metrics=['accuracy'])\n",
        "early_stopping_monitor = EarlyStopping(patience=20)\n",
        "model.fit(X_train, y_train, epochs=10, validation_split=0.2 )"
      ],
      "execution_count": 0,
      "outputs": [
        {
          "output_type": "stream",
          "text": [
            "Train on 66336 samples, validate on 16584 samples\n",
            "Epoch 1/10\n",
            "66336/66336 [==============================] - 2s 37us/step - loss: 0.2415 - accuracy: 0.5885 - val_loss: 0.2346 - val_accuracy: 0.5982\n",
            "Epoch 2/10\n",
            "66336/66336 [==============================] - 2s 36us/step - loss: 0.2116 - accuracy: 0.6887 - val_loss: 0.1931 - val_accuracy: 0.7201\n",
            "Epoch 3/10\n",
            "66336/66336 [==============================] - 2s 37us/step - loss: 0.1716 - accuracy: 0.7522 - val_loss: 0.1527 - val_accuracy: 0.8022\n",
            "Epoch 4/10\n",
            "66336/66336 [==============================] - 2s 38us/step - loss: 0.1440 - accuracy: 0.8059 - val_loss: 0.1390 - val_accuracy: 0.8107\n",
            "Epoch 5/10\n",
            "66336/66336 [==============================] - 3s 38us/step - loss: 0.1370 - accuracy: 0.8115 - val_loss: 0.1353 - val_accuracy: 0.8113\n",
            "Epoch 6/10\n",
            "66336/66336 [==============================] - 3s 42us/step - loss: 0.1342 - accuracy: 0.8135 - val_loss: 0.1328 - val_accuracy: 0.8134\n",
            "Epoch 7/10\n",
            "66336/66336 [==============================] - 3s 43us/step - loss: 0.1322 - accuracy: 0.8144 - val_loss: 0.1312 - val_accuracy: 0.8156\n",
            "Epoch 8/10\n",
            "66336/66336 [==============================] - 3s 41us/step - loss: 0.1308 - accuracy: 0.8150 - val_loss: 0.1299 - val_accuracy: 0.8175\n",
            "Epoch 9/10\n",
            "66336/66336 [==============================] - 2s 37us/step - loss: 0.1298 - accuracy: 0.8163 - val_loss: 0.1290 - val_accuracy: 0.8181\n",
            "Epoch 10/10\n",
            "66336/66336 [==============================] - 3s 39us/step - loss: 0.1291 - accuracy: 0.8166 - val_loss: 0.1283 - val_accuracy: 0.8173\n"
          ],
          "name": "stdout"
        },
        {
          "output_type": "execute_result",
          "data": {
            "text/plain": [
              "<keras.callbacks.callbacks.History at 0x7f5b85540320>"
            ]
          },
          "metadata": {
            "tags": []
          },
          "execution_count": 58
        }
      ]
    },
    {
      "cell_type": "code",
      "metadata": {
        "id": "us9bwmiYHg25",
        "colab_type": "code",
        "outputId": "f7609fb2-473c-48b6-dde6-88b3832d7046",
        "colab": {
          "base_uri": "https://localhost:8080/",
          "height": 35
        }
      },
      "source": [
        "scores = model.evaluate(X_test, y_test, verbose=0)\n",
        "print(\"%s: %.2f%%\" % (model.metrics_names[1], scores[1]*100))"
      ],
      "execution_count": 0,
      "outputs": [
        {
          "output_type": "stream",
          "text": [
            "accuracy: 81.84%\n"
          ],
          "name": "stdout"
        }
      ]
    },
    {
      "cell_type": "code",
      "metadata": {
        "id": "lJmb-unFHg26",
        "colab_type": "code",
        "outputId": "c9e593ac-3a47-4517-bcdc-39eedd96347a",
        "colab": {
          "base_uri": "https://localhost:8080/",
          "height": 1000
        }
      },
      "source": [
        "#5layer\n",
        "model = Sequential()\n",
        "n_cols = X_train.shape[1]\n",
        "n_cols\n",
        "model.add(Dense(32, activation='relu', input_shape=(n_cols,)))\n",
        "model.add(BatchNormalization())\n",
        "model.add(Dense(16, activation='relu'))\n",
        "model.add(Dense(8, activation='relu'))\n",
        "model.add(BatchNormalization())\n",
        "model.add(Dense(4, activation='relu'))\n",
        "model.add(Dense(1, activation='sigmoid'))\n",
        "opt = SGD(lr=0.01, momentum=0.9)\n",
        "model.compile(optimizer=opt, loss='mean_squared_error', metrics=['accuracy'])\n",
        "early_stopping_monitor = EarlyStopping(patience=20)\n",
        "model.fit(X_train, y_train, epochs=30, validation_split=0.2)"
      ],
      "execution_count": 0,
      "outputs": [
        {
          "output_type": "stream",
          "text": [
            "Train on 66336 samples, validate on 16584 samples\n",
            "Epoch 1/30\n",
            "66336/66336 [==============================] - 4s 55us/step - loss: 0.1344 - accuracy: 0.8036 - val_loss: 0.1153 - val_accuracy: 0.8262\n",
            "Epoch 2/30\n",
            "66336/66336 [==============================] - 3s 51us/step - loss: 0.1190 - accuracy: 0.8251 - val_loss: 0.1129 - val_accuracy: 0.8333\n",
            "Epoch 3/30\n",
            "66336/66336 [==============================] - 3s 50us/step - loss: 0.1152 - accuracy: 0.8307 - val_loss: 0.1118 - val_accuracy: 0.8344\n",
            "Epoch 4/30\n",
            "66336/66336 [==============================] - 3s 50us/step - loss: 0.1130 - accuracy: 0.8342 - val_loss: 0.1076 - val_accuracy: 0.8387\n",
            "Epoch 5/30\n",
            "66336/66336 [==============================] - 4s 53us/step - loss: 0.1116 - accuracy: 0.8364 - val_loss: 0.1046 - val_accuracy: 0.8446\n",
            "Epoch 6/30\n",
            "66336/66336 [==============================] - 4s 54us/step - loss: 0.1107 - accuracy: 0.8372 - val_loss: 0.1052 - val_accuracy: 0.8446\n",
            "Epoch 7/30\n",
            "66336/66336 [==============================] - 3s 52us/step - loss: 0.1089 - accuracy: 0.8390 - val_loss: 0.1036 - val_accuracy: 0.8478\n",
            "Epoch 8/30\n",
            "66336/66336 [==============================] - 3s 51us/step - loss: 0.1082 - accuracy: 0.8415 - val_loss: 0.1015 - val_accuracy: 0.8515\n",
            "Epoch 9/30\n",
            "66336/66336 [==============================] - 3s 53us/step - loss: 0.1072 - accuracy: 0.8429 - val_loss: 0.1036 - val_accuracy: 0.8456\n",
            "Epoch 10/30\n",
            "66336/66336 [==============================] - 3s 51us/step - loss: 0.1064 - accuracy: 0.8443 - val_loss: 0.1041 - val_accuracy: 0.8517\n",
            "Epoch 11/30\n",
            "66336/66336 [==============================] - 4s 54us/step - loss: 0.1059 - accuracy: 0.8465 - val_loss: 0.0998 - val_accuracy: 0.8563\n",
            "Epoch 12/30\n",
            "66336/66336 [==============================] - 3s 52us/step - loss: 0.1048 - accuracy: 0.8471 - val_loss: 0.1011 - val_accuracy: 0.8561\n",
            "Epoch 13/30\n",
            "66336/66336 [==============================] - 3s 52us/step - loss: 0.1047 - accuracy: 0.8479 - val_loss: 0.0988 - val_accuracy: 0.8557\n",
            "Epoch 14/30\n",
            "66336/66336 [==============================] - 3s 51us/step - loss: 0.1036 - accuracy: 0.8503 - val_loss: 0.0974 - val_accuracy: 0.8572\n",
            "Epoch 15/30\n",
            "66336/66336 [==============================] - 3s 51us/step - loss: 0.1032 - accuracy: 0.8502 - val_loss: 0.1023 - val_accuracy: 0.8534\n",
            "Epoch 16/30\n",
            "66336/66336 [==============================] - 3s 53us/step - loss: 0.1024 - accuracy: 0.8527 - val_loss: 0.0969 - val_accuracy: 0.8626\n",
            "Epoch 17/30\n",
            "66336/66336 [==============================] - 3s 51us/step - loss: 0.1029 - accuracy: 0.8518 - val_loss: 0.0962 - val_accuracy: 0.8611\n",
            "Epoch 18/30\n",
            "66336/66336 [==============================] - 3s 52us/step - loss: 0.1023 - accuracy: 0.8525 - val_loss: 0.0951 - val_accuracy: 0.8649\n",
            "Epoch 19/30\n",
            "66336/66336 [==============================] - 3s 52us/step - loss: 0.1014 - accuracy: 0.8538 - val_loss: 0.0977 - val_accuracy: 0.8606\n",
            "Epoch 20/30\n",
            "66336/66336 [==============================] - 3s 52us/step - loss: 0.1015 - accuracy: 0.8535 - val_loss: 0.0951 - val_accuracy: 0.8647\n",
            "Epoch 21/30\n",
            "66336/66336 [==============================] - 3s 51us/step - loss: 0.1011 - accuracy: 0.8542 - val_loss: 0.0938 - val_accuracy: 0.8680\n",
            "Epoch 22/30\n",
            "66336/66336 [==============================] - 3s 52us/step - loss: 0.1010 - accuracy: 0.8548 - val_loss: 0.0943 - val_accuracy: 0.8669\n",
            "Epoch 23/30\n",
            "66336/66336 [==============================] - 3s 50us/step - loss: 0.1006 - accuracy: 0.8554 - val_loss: 0.0941 - val_accuracy: 0.8666\n",
            "Epoch 24/30\n",
            "66336/66336 [==============================] - 3s 52us/step - loss: 0.1003 - accuracy: 0.8554 - val_loss: 0.0975 - val_accuracy: 0.8585\n",
            "Epoch 25/30\n",
            "66336/66336 [==============================] - 3s 51us/step - loss: 0.0995 - accuracy: 0.8568 - val_loss: 0.0948 - val_accuracy: 0.8642\n",
            "Epoch 26/30\n",
            "66336/66336 [==============================] - 3s 51us/step - loss: 0.0993 - accuracy: 0.8573 - val_loss: 0.0921 - val_accuracy: 0.8699\n",
            "Epoch 27/30\n",
            "66336/66336 [==============================] - 3s 52us/step - loss: 0.0991 - accuracy: 0.8565 - val_loss: 0.0930 - val_accuracy: 0.8669\n",
            "Epoch 28/30\n",
            "66336/66336 [==============================] - 3s 52us/step - loss: 0.0993 - accuracy: 0.8569 - val_loss: 0.0927 - val_accuracy: 0.8684\n",
            "Epoch 29/30\n",
            "66336/66336 [==============================] - 3s 51us/step - loss: 0.0991 - accuracy: 0.8575 - val_loss: 0.0929 - val_accuracy: 0.8707\n",
            "Epoch 30/30\n",
            "66336/66336 [==============================] - 3s 53us/step - loss: 0.0990 - accuracy: 0.8571 - val_loss: 0.0942 - val_accuracy: 0.8677\n"
          ],
          "name": "stdout"
        },
        {
          "output_type": "execute_result",
          "data": {
            "text/plain": [
              "<keras.callbacks.callbacks.History at 0x7f5b8509ecc0>"
            ]
          },
          "metadata": {
            "tags": []
          },
          "execution_count": 61
        }
      ]
    },
    {
      "cell_type": "code",
      "metadata": {
        "id": "U-oQfFRpHg27",
        "colab_type": "code",
        "outputId": "a4e1ed55-6e10-47ca-e820-49d56cafd278",
        "colab": {
          "base_uri": "https://localhost:8080/",
          "height": 35
        }
      },
      "source": [
        "scores = model.evaluate(X_test, y_test, verbose=0)\n",
        "print(\"%s: %.2f%%\" % (model.metrics_names[1], scores[1]*100))"
      ],
      "execution_count": 0,
      "outputs": [
        {
          "output_type": "stream",
          "text": [
            "accuracy: 86.47%\n"
          ],
          "name": "stdout"
        }
      ]
    },
    {
      "cell_type": "code",
      "metadata": {
        "id": "W2yOcU9ZHg27",
        "colab_type": "code",
        "outputId": "88cbe69a-eed7-40fa-d8c1-9ad8e1a487f8",
        "colab": {
          "base_uri": "https://localhost:8080/",
          "height": 35
        }
      },
      "source": [
        "principal_df[principal_df.duplicated()].shape"
      ],
      "execution_count": 0,
      "outputs": [
        {
          "output_type": "execute_result",
          "data": {
            "text/plain": [
              "(167, 9)"
            ]
          },
          "metadata": {
            "tags": []
          },
          "execution_count": 63
        }
      ]
    },
    {
      "cell_type": "code",
      "metadata": {
        "id": "Qu2GTTOxHg28",
        "colab_type": "code",
        "outputId": "2203794d-aa11-4857-fefa-7e5ca7585561",
        "colab": {
          "base_uri": "https://localhost:8080/",
          "height": 35
        }
      },
      "source": [
        "train_X[train_X.duplicated()].shape"
      ],
      "execution_count": 0,
      "outputs": [
        {
          "output_type": "execute_result",
          "data": {
            "text/plain": [
              "(167, 18)"
            ]
          },
          "metadata": {
            "tags": []
          },
          "execution_count": 64
        }
      ]
    },
    {
      "cell_type": "code",
      "metadata": {
        "id": "ooyiRWbmHg29",
        "colab_type": "code",
        "colab": {}
      },
      "source": [
        "#decisiontreee\n",
        "from sklearn.tree import DecisionTreeClassifier\n",
        "from sklearn.model_selection import GridSearchCV"
      ],
      "execution_count": 0,
      "outputs": []
    },
    {
      "cell_type": "code",
      "metadata": {
        "id": "YrpR9bzfHg29",
        "colab_type": "code",
        "outputId": "edc7f923-0d9b-40b3-d364-05b5869f8379",
        "colab": {
          "base_uri": "https://localhost:8080/",
          "height": 53
        }
      },
      "source": [
        "# GridSearchCV\n",
        "param_grid={'max_depth':range(0,17,2) ,\n",
        "            'max_features':range(0,17,2)}\n",
        "dt_g=DecisionTreeClassifier(random_state = 42)\n",
        "dt_cv=GridSearchCV(dt_g,param_grid,cv=10,scoring='accuracy',n_jobs=-1)\n",
        "dt_cv.fit(X_train,y_train)\n",
        "\n",
        "print(\"Best parameters:\",dt_cv.best_params_)\n",
        "print(\"Accuracy :\",dt_cv.best_score_)"
      ],
      "execution_count": 0,
      "outputs": [
        {
          "output_type": "stream",
          "text": [
            "Best parameters: {'max_depth': 16, 'max_features': 16}\n",
            "Accuracy : 0.920996140858659\n"
          ],
          "name": "stdout"
        }
      ]
    },
    {
      "cell_type": "code",
      "metadata": {
        "id": "d3mCR-TiHg2-",
        "colab_type": "code",
        "outputId": "6868b9ed-a77b-45fa-9467-c87ffe9ca625",
        "colab": {
          "base_uri": "https://localhost:8080/",
          "height": 125
        }
      },
      "source": [
        "dt = DecisionTreeClassifier(max_depth=16,max_features=16,random_state = 42)\n",
        "dt.fit(X_train,y_train)"
      ],
      "execution_count": 0,
      "outputs": [
        {
          "output_type": "execute_result",
          "data": {
            "text/plain": [
              "DecisionTreeClassifier(ccp_alpha=0.0, class_weight=None, criterion='gini',\n",
              "                       max_depth=16, max_features=16, max_leaf_nodes=None,\n",
              "                       min_impurity_decrease=0.0, min_impurity_split=None,\n",
              "                       min_samples_leaf=1, min_samples_split=2,\n",
              "                       min_weight_fraction_leaf=0.0, presort='deprecated',\n",
              "                       random_state=42, splitter='best')"
            ]
          },
          "metadata": {
            "tags": []
          },
          "execution_count": 87
        }
      ]
    },
    {
      "cell_type": "code",
      "metadata": {
        "id": "xIIefAL_Hg2_",
        "colab_type": "code",
        "colab": {}
      },
      "source": [
        "y_pred_dt= dt.predict(X_test)"
      ],
      "execution_count": 0,
      "outputs": []
    },
    {
      "cell_type": "code",
      "metadata": {
        "id": "gBahu3DGHg3A",
        "colab_type": "code",
        "outputId": "0c1b7892-18ce-4c40-affb-72d0af1ca6c5",
        "colab": {
          "base_uri": "https://localhost:8080/",
          "height": 53
        }
      },
      "source": [
        "dt_score_train = dt.score(X_train,y_train)\n",
        "print(\"Train Prediction Score\",dt_score_train*100)\n",
        "dt_score_test = accuracy_score(y_test,y_pred_dt)\n",
        "print(\"Test Prediction Score\",dt_score_test*100)"
      ],
      "execution_count": 0,
      "outputs": [
        {
          "output_type": "stream",
          "text": [
            "Train Prediction Score 94.76362759286059\n",
            "Test Prediction Score 92.74768079544872\n"
          ],
          "name": "stdout"
        }
      ]
    },
    {
      "cell_type": "code",
      "metadata": {
        "id": "5nIhx84-Hg3B",
        "colab_type": "code",
        "outputId": "f0191a44-8101-44f0-da12-b3e053cebb33",
        "colab": {
          "base_uri": "https://localhost:8080/",
          "height": 53
        }
      },
      "source": [
        "cm = confusion_matrix(y_test, y_pred_dt)\n",
        "print(cm)"
      ],
      "execution_count": 0,
      "outputs": [
        {
          "output_type": "stream",
          "text": [
            "[[21010  2038]\n",
            " [  792 15182]]\n"
          ],
          "name": "stdout"
        }
      ]
    },
    {
      "cell_type": "code",
      "metadata": {
        "id": "xGqt7wigHg3B",
        "colab_type": "code",
        "outputId": "3e174d56-103b-4478-c860-e39dd6af657c",
        "colab": {
          "base_uri": "https://localhost:8080/",
          "height": 179
        }
      },
      "source": [
        "print(classification_report(y_test,y_pred_dt))"
      ],
      "execution_count": 0,
      "outputs": [
        {
          "output_type": "stream",
          "text": [
            "              precision    recall  f1-score   support\n",
            "\n",
            "           0       0.96      0.91      0.94     23048\n",
            "           1       0.88      0.95      0.91     15974\n",
            "\n",
            "    accuracy                           0.93     39022\n",
            "   macro avg       0.92      0.93      0.93     39022\n",
            "weighted avg       0.93      0.93      0.93     39022\n",
            "\n"
          ],
          "name": "stdout"
        }
      ]
    },
    {
      "cell_type": "code",
      "metadata": {
        "id": "wkWUUjGmHg3C",
        "colab_type": "code",
        "outputId": "f826e44a-067a-4bee-c190-0d519b46726b",
        "colab": {
          "base_uri": "https://localhost:8080/",
          "height": 295
        }
      },
      "source": [
        "dt_roc_auc = roc_auc_score(y_test, y_pred_dt)\n",
        "fpr, tpr, thresholds = roc_curve(y_test, dt.predict_proba(X_test)[:,1])\n",
        "plt.figure()\n",
        "plt.plot(fpr, tpr, label='DTree (area = %0.2f)' % dt_roc_auc)\n",
        "plt.plot([0, 1], [0, 1],'r--')\n",
        "plt.xlim([0.0, 1.0])\n",
        "plt.ylim([0.0, 1.05])\n",
        "plt.xlabel('False Positive Rate')\n",
        "plt.ylabel('True Positive Rate')\n",
        "plt.title('Receiver operating characteristic')\n",
        "plt.legend(loc=\"lower right\")\n",
        "plt.savefig('DT_ROC')\n",
        "plt.show()"
      ],
      "execution_count": 0,
      "outputs": [
        {
          "output_type": "display_data",
          "data": {
            "image/png": "[encoded data removed]",
            "text/plain": [
              "<Figure size 432x288 with 1 Axes>"
            ]
          },
          "metadata": {
            "tags": [],
            "needs_background": "light"
          }
        }
      ]
    },
    {
      "cell_type": "code",
      "metadata": {
        "id": "n2MD_vfPHg3D",
        "colab_type": "code",
        "colab": {}
      },
      "source": [
        "#randomforest\n",
        "from sklearn.ensemble import RandomForestClassifier"
      ],
      "execution_count": 0,
      "outputs": []
    },
    {
      "cell_type": "code",
      "metadata": {
        "id": "7tzbFp7GHg3E",
        "colab_type": "code",
        "colab": {}
      },
      "source": [
        "# GridSearchCV\n",
        "param_grid={'max_depth':range(0,17,2),\n",
        "            'n_estimators':[125,250],\n",
        "            'max_features':range(0,17,2)}\n",
        "dt_g=RandomForestClassifier(random_state=42)\n",
        "dt_cv=GridSearchCV(dt_g,param_grid,cv=10,scoring='f1_micro',n_jobs=-1)\n",
        "dt_cv.fit(X_train,y_train)\n",
        "\n",
        "print(\"Best parameters:\",dt_cv.best_params_)\n",
        "print(\"Accuracy :\",dt_cv.best_score_)"
      ],
      "execution_count": 0,
      "outputs": []
    },
    {
      "cell_type": "code",
      "metadata": {
        "id": "apeBjHxQHg3F",
        "colab_type": "code",
        "outputId": "2da59064-a2ee-4f51-8522-32289e32bf9b",
        "colab": {
          "base_uri": "https://localhost:8080/",
          "height": 161
        }
      },
      "source": [
        "rf = RandomForestClassifier(max_depth=16,max_features=16,n_estimators=125,random_state=42)\n",
        "rf.fit(X_train,y_train)"
      ],
      "execution_count": 0,
      "outputs": [
        {
          "output_type": "execute_result",
          "data": {
            "text/plain": [
              "RandomForestClassifier(bootstrap=True, ccp_alpha=0.0, class_weight=None,\n",
              "                       criterion='gini', max_depth=16, max_features=16,\n",
              "                       max_leaf_nodes=None, max_samples=None,\n",
              "                       min_impurity_decrease=0.0, min_impurity_split=None,\n",
              "                       min_samples_leaf=1, min_samples_split=2,\n",
              "                       min_weight_fraction_leaf=0.0, n_estimators=125,\n",
              "                       n_jobs=None, oob_score=False, random_state=42, verbose=0,\n",
              "                       warm_start=False)"
            ]
          },
          "metadata": {
            "tags": []
          },
          "execution_count": 94
        }
      ]
    },
    {
      "cell_type": "code",
      "metadata": {
        "id": "MjyKR5UYHg3G",
        "colab_type": "code",
        "colab": {}
      },
      "source": [
        "y_pred_rf= dt.predict(X_test)"
      ],
      "execution_count": 0,
      "outputs": []
    },
    {
      "cell_type": "code",
      "metadata": {
        "id": "jElk1jGeHg3H",
        "colab_type": "code",
        "outputId": "a4d4e17b-b5fb-431b-fbb6-62fed3bc7abb",
        "colab": {
          "base_uri": "https://localhost:8080/",
          "height": 53
        }
      },
      "source": [
        "rf_score_train = rf.score(X_train,y_train)\n",
        "print(\"Train Prediction Score\",rf_score_train*100)\n",
        "rf_score_test = accuracy_score(y_test,y_pred_rf)\n",
        "print(\"Test Prediction Score\",rf_score_test*100)"
      ],
      "execution_count": 0,
      "outputs": [
        {
          "output_type": "stream",
          "text": [
            "Train Prediction Score 96.39893873613121\n",
            "Test Prediction Score 92.74768079544872\n"
          ],
          "name": "stdout"
        }
      ]
    },
    {
      "cell_type": "code",
      "metadata": {
        "id": "Wse4tijWHg3H",
        "colab_type": "code",
        "outputId": "c8ba41a7-eafb-4260-aa41-c6661afe0256",
        "colab": {
          "base_uri": "https://localhost:8080/",
          "height": 53
        }
      },
      "source": [
        "cm = confusion_matrix(y_test, y_pred_rf)\n",
        "print(cm)"
      ],
      "execution_count": 0,
      "outputs": [
        {
          "output_type": "stream",
          "text": [
            "[[21010  2038]\n",
            " [  792 15182]]\n"
          ],
          "name": "stdout"
        }
      ]
    },
    {
      "cell_type": "code",
      "metadata": {
        "id": "1D8cPXuNHg3I",
        "colab_type": "code",
        "outputId": "ac43f518-dac7-4c1e-adce-d7ff7dc3b695",
        "colab": {
          "base_uri": "https://localhost:8080/",
          "height": 179
        }
      },
      "source": [
        "print(classification_report(y_test,y_pred_rf))"
      ],
      "execution_count": 0,
      "outputs": [
        {
          "output_type": "stream",
          "text": [
            "              precision    recall  f1-score   support\n",
            "\n",
            "           0       0.96      0.91      0.94     23048\n",
            "           1       0.88      0.95      0.91     15974\n",
            "\n",
            "    accuracy                           0.93     39022\n",
            "   macro avg       0.92      0.93      0.93     39022\n",
            "weighted avg       0.93      0.93      0.93     39022\n",
            "\n"
          ],
          "name": "stdout"
        }
      ]
    },
    {
      "cell_type": "code",
      "metadata": {
        "id": "02I0Q-zoHg3I",
        "colab_type": "code",
        "outputId": "d6523766-a2cd-4de4-c519-63495f65fbb6",
        "colab": {
          "base_uri": "https://localhost:8080/",
          "height": 295
        }
      },
      "source": [
        "rf_roc_auc = roc_auc_score(y_test, y_pred_rf)\n",
        "fpr, tpr, thresholds = roc_curve(y_test, dt.predict_proba(X_test)[:,1])\n",
        "plt.figure()\n",
        "plt.plot(fpr, tpr, label='RandomForest (area = %0.2f)' % rf_roc_auc)\n",
        "plt.plot([0, 1], [0, 1],'r--')\n",
        "plt.xlim([0.0, 1.0])\n",
        "plt.ylim([0.0, 1.05])\n",
        "plt.xlabel('False Positive Rate')\n",
        "plt.ylabel('True Positive Rate')\n",
        "plt.title('Receiver operating characteristic')\n",
        "plt.legend(loc=\"lower right\")\n",
        "plt.savefig('RF_ROC')\n",
        "plt.show()"
      ],
      "execution_count": 0,
      "outputs": [
        {
          "output_type": "display_data",
          "data": {
            "image/png": "[encoded data removed]",
            "text/plain": [
              "<Figure size 432x288 with 1 Axes>"
            ]
          },
          "metadata": {
            "tags": [],
            "needs_background": "light"
          }
        }
      ]
    },
    {
      "cell_type": "code",
      "metadata": {
        "id": "fXmBo6f1Hg3J",
        "colab_type": "code",
        "colab": {}
      },
      "source": [
        "#xgboost\n",
        "from xgboost import XGBClassifier"
      ],
      "execution_count": 0,
      "outputs": []
    },
    {
      "cell_type": "code",
      "metadata": {
        "id": "DQa_bptwrhMu",
        "colab_type": "code",
        "colab": {}
      },
      "source": [
        "# GridSearchCV\n",
        "param_grid={'max_depth':range(0,17,2),\n",
        "            'n_estimators':[125,250],\n",
        "           'min_child_weight':[1,3,6]}\n",
        "xgb_g=XGBClassifier(random_state=42)\n",
        "xgb_cv=GridSearchCV(xgb_g,param_grid,cv=10,scoring='accuracy',n_jobs=-1)\n",
        "xgb_cv.fit(X_train,y_train)\n",
        "\n",
        "print(\"Best parameters:\",xgb_cv.best_params_)\n",
        "print(\"Accuracy :\",xgb_cv.best_score_)"
      ],
      "execution_count": 0,
      "outputs": []
    },
    {
      "cell_type": "code",
      "metadata": {
        "id": "JBwo0_BWHg3K",
        "colab_type": "code",
        "outputId": "cecd4ef5-797d-43b9-a4b4-cc79dddd4299",
        "colab": {
          "base_uri": "https://localhost:8080/",
          "height": 143
        }
      },
      "source": [
        "xgbc = XGBClassifier(max_depth=16,min_child_weight=1,n_estimators=250,random_state=42)\n",
        "xgbc.fit(X_train,y_train)"
      ],
      "execution_count": 0,
      "outputs": [
        {
          "output_type": "execute_result",
          "data": {
            "text/plain": [
              "XGBClassifier(base_score=0.5, booster='gbtree', colsample_bylevel=1,\n",
              "              colsample_bynode=1, colsample_bytree=1, gamma=0,\n",
              "              learning_rate=0.1, max_delta_step=0, max_depth=16,\n",
              "              min_child_weight=1, missing=None, n_estimators=250, n_jobs=1,\n",
              "              nthread=None, objective='binary:logistic', random_state=42,\n",
              "              reg_alpha=0, reg_lambda=1, scale_pos_weight=1, seed=None,\n",
              "              silent=None, subsample=1, verbosity=1)"
            ]
          },
          "metadata": {
            "tags": []
          },
          "execution_count": 102
        }
      ]
    },
    {
      "cell_type": "code",
      "metadata": {
        "id": "prz2UBF8Hg3L",
        "colab_type": "code",
        "colab": {}
      },
      "source": [
        "y_pred_xgbc= dt.predict(X_test)"
      ],
      "execution_count": 0,
      "outputs": []
    },
    {
      "cell_type": "code",
      "metadata": {
        "id": "tFKQ1bq8Hg3L",
        "colab_type": "code",
        "outputId": "9a5f7248-fa91-4fd0-dfc5-b93a07ee2e79",
        "colab": {
          "base_uri": "https://localhost:8080/",
          "height": 53
        }
      },
      "source": [
        "xgbc_score_train = xgbc.score(X_train,y_train)\n",
        "print(\"Train Prediction Score\",xgbc_score_train*100)\n",
        "xgbc_score_test = accuracy_score(y_test,y_pred_xgbc)\n",
        "print(\"Test Prediction Score\",xgbc_score_test*100)"
      ],
      "execution_count": 0,
      "outputs": [
        {
          "output_type": "stream",
          "text": [
            "Train Prediction Score 99.39942112879883\n",
            "Test Prediction Score 92.74768079544872\n"
          ],
          "name": "stdout"
        }
      ]
    },
    {
      "cell_type": "code",
      "metadata": {
        "id": "9OVtiUmaHg3M",
        "colab_type": "code",
        "outputId": "08337522-080d-45db-dad6-f56888a60a40",
        "colab": {
          "base_uri": "https://localhost:8080/",
          "height": 53
        }
      },
      "source": [
        "cm = confusion_matrix(y_test, y_pred_xgbc)\n",
        "print(cm)"
      ],
      "execution_count": 0,
      "outputs": [
        {
          "output_type": "stream",
          "text": [
            "[[21010  2038]\n",
            " [  792 15182]]\n"
          ],
          "name": "stdout"
        }
      ]
    },
    {
      "cell_type": "code",
      "metadata": {
        "id": "gAx5bI8BHg3M",
        "colab_type": "code",
        "outputId": "e8e21a8e-a45a-461c-aafe-4784c8446c23",
        "colab": {
          "base_uri": "https://localhost:8080/",
          "height": 179
        }
      },
      "source": [
        "print(classification_report(y_test,y_pred_xgbc))"
      ],
      "execution_count": 0,
      "outputs": [
        {
          "output_type": "stream",
          "text": [
            "              precision    recall  f1-score   support\n",
            "\n",
            "           0       0.96      0.91      0.94     23048\n",
            "           1       0.88      0.95      0.91     15974\n",
            "\n",
            "    accuracy                           0.93     39022\n",
            "   macro avg       0.92      0.93      0.93     39022\n",
            "weighted avg       0.93      0.93      0.93     39022\n",
            "\n"
          ],
          "name": "stdout"
        }
      ]
    },
    {
      "cell_type": "code",
      "metadata": {
        "id": "LqPGLNKQHg3N",
        "colab_type": "code",
        "outputId": "104319a7-56f6-4c93-f2a4-3382dd74d4fb",
        "colab": {
          "base_uri": "https://localhost:8080/",
          "height": 295
        }
      },
      "source": [
        "xgb_roc_auc = roc_auc_score(y_test, y_pred_xgbc)\n",
        "fpr, tpr, thresholds = roc_curve(y_test, dt.predict_proba(X_test)[:,1])\n",
        "plt.figure()\n",
        "plt.plot(fpr, tpr, label='XGBoost (area = %0.2f)' % xgb_roc_auc)\n",
        "plt.plot([0, 1], [0, 1],'r--')\n",
        "plt.xlim([0.0, 1.0])\n",
        "plt.ylim([0.0, 1.05])\n",
        "plt.xlabel('False Positive Rate')\n",
        "plt.ylabel('True Positive Rate')\n",
        "plt.title('Receiver operating characteristic')\n",
        "plt.legend(loc=\"lower right\")\n",
        "plt.savefig('XGB_ROC')\n",
        "plt.show()"
      ],
      "execution_count": 0,
      "outputs": [
        {
          "output_type": "display_data",
          "data": {
            "image/png": "[encoded data removed]",
            "text/plain": [
              "<Figure size 432x288 with 1 Axes>"
            ]
          },
          "metadata": {
            "tags": [],
            "needs_background": "light"
          }
        }
      ]
    },
    {
      "cell_type": "code",
      "metadata": {
        "id": "2STj4T2gHg3O",
        "colab_type": "code",
        "colab": {}
      },
      "source": [
        "#supportvectormachines\n",
        "from sklearn.svm import SVC"
      ],
      "execution_count": 0,
      "outputs": []
    },
    {
      "cell_type": "code",
      "metadata": {
        "id": "l2BHFbHDrmYN",
        "colab_type": "code",
        "colab": {}
      },
      "source": [
        "ksvc = SVC(kernel = 'rbf',random_state = 42,probability=True)\n",
        "ksvc.fit(X_train,y_train)"
      ],
      "execution_count": 0,
      "outputs": []
    },
    {
      "cell_type": "code",
      "metadata": {
        "id": "UOSx6JI3Hg3P",
        "colab_type": "code",
        "colab": {}
      },
      "source": [
        "y_pred_ksvc= ksvc.predict(X_test)"
      ],
      "execution_count": 0,
      "outputs": []
    },
    {
      "cell_type": "code",
      "metadata": {
        "id": "CrAONW6dHg3P",
        "colab_type": "code",
        "colab": {}
      },
      "source": [
        "ksvc_score_train = ksvc.score(X_train,y_train)\n",
        "print(\"Train Prediction Score\",ksvc_score_train*100)\n",
        "ksvc_score_test = accuracy_score(y_test,y_pred_ksvc)\n",
        "print(\"Test Prediction Score\",ksvc_score_test*100)"
      ],
      "execution_count": 0,
      "outputs": []
    },
    {
      "cell_type": "code",
      "metadata": {
        "id": "t8Kgt3amHg3Q",
        "colab_type": "code",
        "colab": {}
      },
      "source": [
        "cm = confusion_matrix(y_test, y_pred_ksvc)\n",
        "print(cm)"
      ],
      "execution_count": 0,
      "outputs": []
    },
    {
      "cell_type": "code",
      "metadata": {
        "id": "GTO7TW9gHg3Q",
        "colab_type": "code",
        "colab": {}
      },
      "source": [
        "print(classification_report(y_test,y_pred_ksvc))"
      ],
      "execution_count": 0,
      "outputs": []
    },
    {
      "cell_type": "code",
      "metadata": {
        "id": "_WAV5eKFHg3R",
        "colab_type": "code",
        "colab": {}
      },
      "source": [
        "kscv_roc_auc = roc_auc_score(y_test, y_pred_ksvc)\n",
        "fpr, tpr, thresholds = roc_curve(y_test, dt.predict_proba(X_test)[:,1])\n",
        "plt.figure()\n",
        "plt.plot(fpr, tpr, label='KSVC (area = %0.2f)' % kscv_roc_auc)\n",
        "plt.plot([0, 1], [0, 1],'r--')\n",
        "plt.xlim([0.0, 1.0])\n",
        "plt.ylim([0.0, 1.05])\n",
        "plt.xlabel('False Positive Rate')\n",
        "plt.ylabel('True Positive Rate')\n",
        "plt.title('Receiver operating characteristic')\n",
        "plt.legend(loc=\"lower right\")\n",
        "plt.savefig('KSVC_ROC')\n",
        "plt.show()"
      ],
      "execution_count": 0,
      "outputs": []
    },
    {
      "cell_type": "code",
      "metadata": {
        "id": "RBzmD-Flrpni",
        "colab_type": "code",
        "colab": {}
      },
      "source": [
        "#lightgbm\n",
        "import lightgbm as lgb"
      ],
      "execution_count": 0,
      "outputs": []
    },
    {
      "cell_type": "code",
      "metadata": {
        "id": "nENgrwkIruse",
        "colab_type": "code",
        "colab": {
          "base_uri": "https://localhost:8080/",
          "height": 51
        },
        "outputId": "7dd93095-2f81-431c-f38a-bd88a26c54e5"
      },
      "source": [
        "# GridSearchCV\n",
        "param_grid = {'n_estimators': [x for x in range(24,40,2)],\n",
        "              'learning_rate': [0.10, 0.125, 0.15, 0.175, 0.2]}\n",
        "lgb_g = lgb.LGBMClassifier(learning_rate = 0.125, metric = 'l1', n_estimators = 20, num_leaves = 38)\n",
        "lgb_cv = GridSearchCV(lgb_g, param_grid,cv=10,scoring='accuracy',n_jobs=-1)\n",
        "lgb_cv.fit(X_train, y_train)\n",
        "\n",
        "print(\"Best parameters:\",lgb_cv.best_params_)\n",
        "print(\"Accuracy :\",lgb_cv.best_score_)"
      ],
      "execution_count": 121,
      "outputs": [
        {
          "output_type": "stream",
          "text": [
            "Best parameters: {'learning_rate': 0.2, 'n_estimators': 38}\n",
            "Accuracy : 0.9121924746743849\n"
          ],
          "name": "stdout"
        }
      ]
    },
    {
      "cell_type": "code",
      "metadata": {
        "id": "mu9y1ONcvCsL",
        "colab_type": "code",
        "colab": {
          "base_uri": "https://localhost:8080/",
          "height": 136
        },
        "outputId": "83fb058e-5ecb-4f43-81a4-72df4ad19ca0"
      },
      "source": [
        "gbm = lgb.LGBMClassifier(learning_rate = 0.2,  n_estimators = 1000, max_depth = 16, random_state=42, min_child_weight=1,metric='l2')\n",
        "gbm.fit(X_train, y_train)"
      ],
      "execution_count": 162,
      "outputs": [
        {
          "output_type": "execute_result",
          "data": {
            "text/plain": [
              "LGBMClassifier(boosting_type='gbdt', class_weight=None, colsample_bytree=1.0,\n",
              "               importance_type='split', learning_rate=0.2, max_depth=16,\n",
              "               metric='l2', min_child_samples=20, min_child_weight=1,\n",
              "               min_split_gain=0.0, n_estimators=1000, n_jobs=-1, num_leaves=31,\n",
              "               objective=None, random_state=42, reg_alpha=0.0, reg_lambda=0.0,\n",
              "               silent=True, subsample=1.0, subsample_for_bin=200000,\n",
              "               subsample_freq=0)"
            ]
          },
          "metadata": {
            "tags": []
          },
          "execution_count": 162
        }
      ]
    },
    {
      "cell_type": "code",
      "metadata": {
        "id": "-upR9JB-3p23",
        "colab_type": "code",
        "colab": {}
      },
      "source": [
        "y_pred_gbm= gbm.predict(X_test)"
      ],
      "execution_count": 0,
      "outputs": []
    },
    {
      "cell_type": "code",
      "metadata": {
        "id": "5bWW8lTE3t20",
        "colab_type": "code",
        "colab": {
          "base_uri": "https://localhost:8080/",
          "height": 51
        },
        "outputId": "9972d7f7-e41c-4927-80ef-19171abc3183"
      },
      "source": [
        "gbm_score_train = gbm.score(X_train,y_train)\n",
        "print(\"Train Prediction Score\",gbm_score_train*100)\n",
        "gbm_score_test = accuracy_score(y_test,y_pred_gbm)\n",
        "print(\"Test Prediction Score\",gbm_score_test*100)"
      ],
      "execution_count": 164,
      "outputs": [
        {
          "output_type": "stream",
          "text": [
            "Train Prediction Score 97.04534491075736\n",
            "Test Prediction Score 94.20326995028445\n"
          ],
          "name": "stdout"
        }
      ]
    },
    {
      "cell_type": "code",
      "metadata": {
        "id": "3zAr7mbYt8Gx",
        "colab_type": "code",
        "colab": {}
      },
      "source": [
        "ax = lgb.plot_importance(gbm, height = 0.4, \n",
        "                         max_num_features = 25, \n",
        "                         xlim = (0,100), ylim = (0,23), \n",
        "                         figsize = (10,6))\n",
        "plt.show()"
      ],
      "execution_count": 0,
      "outputs": []
    },
    {
      "cell_type": "code",
      "metadata": {
        "id": "yc4plL0DsEjP",
        "colab_type": "code",
        "colab": {}
      },
      "source": [
        ""
      ],
      "execution_count": 0,
      "outputs": []
    }
  ]
}